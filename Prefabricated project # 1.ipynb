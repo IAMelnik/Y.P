{
  "nbformat": 4,
  "nbformat_minor": 0,
  "metadata": {
    "kernelspec": {
      "display_name": "Python 3",
      "language": "python",
      "name": "python3"
    },
    "language_info": {
      "codemirror_mode": {
        "name": "ipython",
        "version": 3
      },
      "file_extension": ".py",
      "mimetype": "text/x-python",
      "name": "python",
      "nbconvert_exporter": "python",
      "pygments_lexer": "ipython3",
      "version": "3.7.8"
    },
    "toc": {
      "base_numbering": 1,
      "nav_menu": {},
      "number_sections": true,
      "sideBar": true,
      "skip_h1_title": false,
      "title_cell": "Table of Contents",
      "title_sidebar": "Contents",
      "toc_cell": false,
      "toc_position": {},
      "toc_section_display": true,
      "toc_window_display": false
    },
    "colab": {
      "name": "6393e9c7_b4f3_4765_883b_ad426db186e4 (1).ipynb",
      "provenance": [],
      "collapsed_sections": [
        "_devrZlJMSRb"
      ]
    }
  },
  "cells": [
    {
      "cell_type": "markdown",
      "metadata": {
        "id": "S2IukzZuNa5W"
      },
      "source": [
        "## Сборный проект №1"
      ]
    },
    {
      "cell_type": "markdown",
      "metadata": {
        "id": "oBa7t2UTMSRZ"
      },
      "source": [
        "\n",
        "Интернет-магазинн «Стримчик», продаёт по всему миру компьютерные игры. Из открытых источников доступны исторические данные о продажах игр, оценки пользователей и экспертов, жанры и платформы (например, Xbox или PlayStation) по 2016 год включительно. \n",
        "\n",
        "**Необходимо:**\n",
        "1. Выявить определяющие успешность игры закономерности.\n",
        "2. Отработать принцип работы с данными.\n",
        "3. Определить потенциально популярный продукт.\n",
        "4. Спланировать рекламные кампании на 2017 год.\n"
      ]
    },
    {
      "cell_type": "markdown",
      "metadata": {
        "id": "_devrZlJMSRb"
      },
      "source": [
        "## Шаг 1. Откройте файл с данными и изучите общую информацию"
      ]
    },
    {
      "cell_type": "code",
      "metadata": {
        "id": "gt5bRpagMSRc"
      },
      "source": [
        "import pandas as pd"
      ],
      "execution_count": null,
      "outputs": []
    },
    {
      "cell_type": "code",
      "metadata": {
        "id": "TCDIe1ifMSRe"
      },
      "source": [
        "import matplotlib.pyplot as plt"
      ],
      "execution_count": null,
      "outputs": []
    },
    {
      "cell_type": "code",
      "metadata": {
        "id": "vL9eSBcKMSRf"
      },
      "source": [
        "import numpy as np"
      ],
      "execution_count": null,
      "outputs": []
    },
    {
      "cell_type": "code",
      "metadata": {
        "id": "Jo-nonC3MSRf"
      },
      "source": [
        "from scipy import stats as st"
      ],
      "execution_count": null,
      "outputs": []
    },
    {
      "cell_type": "code",
      "metadata": {
        "id": "5c2l-Bw8MSRg"
      },
      "source": [
        "from datetime import datetime"
      ],
      "execution_count": null,
      "outputs": []
    },
    {
      "cell_type": "code",
      "metadata": {
        "id": "-CENfjRAMSRh"
      },
      "source": [
        "import math"
      ],
      "execution_count": null,
      "outputs": []
    },
    {
      "cell_type": "code",
      "metadata": {
        "id": "sSdLltEnMSRi"
      },
      "source": [
        "df = pd.read_csv('/datasets/games.csv')"
      ],
      "execution_count": null,
      "outputs": []
    },
    {
      "cell_type": "code",
      "metadata": {
        "id": "Xg7WRs0eMSRi",
        "outputId": "ba775868-723e-49de-f1a8-722eef843cbd"
      },
      "source": [
        "df.info()"
      ],
      "execution_count": null,
      "outputs": [
        {
          "output_type": "stream",
          "text": [
            "<class 'pandas.core.frame.DataFrame'>\n",
            "RangeIndex: 16715 entries, 0 to 16714\n",
            "Data columns (total 11 columns):\n",
            "Name               16713 non-null object\n",
            "Platform           16715 non-null object\n",
            "Year_of_Release    16446 non-null float64\n",
            "Genre              16713 non-null object\n",
            "NA_sales           16715 non-null float64\n",
            "EU_sales           16715 non-null float64\n",
            "JP_sales           16715 non-null float64\n",
            "Other_sales        16715 non-null float64\n",
            "Critic_Score       8137 non-null float64\n",
            "User_Score         10014 non-null object\n",
            "Rating             9949 non-null object\n",
            "dtypes: float64(6), object(5)\n",
            "memory usage: 1.4+ MB\n"
          ],
          "name": "stdout"
        }
      ]
    },
    {
      "cell_type": "markdown",
      "metadata": {
        "id": "R1m4BTf9MSRl"
      },
      "source": [
        "Просуммируем количество пропущенных значений в каждом столбце:"
      ]
    },
    {
      "cell_type": "code",
      "metadata": {
        "id": "P2jf-jv0MSRm",
        "outputId": "dd371789-b071-434b-8c64-863018dd0a6b"
      },
      "source": [
        "df.isna().sum()"
      ],
      "execution_count": null,
      "outputs": [
        {
          "output_type": "execute_result",
          "data": {
            "text/plain": [
              "Name                  2\n",
              "Platform              0\n",
              "Year_of_Release     269\n",
              "Genre                 2\n",
              "NA_sales              0\n",
              "EU_sales              0\n",
              "JP_sales              0\n",
              "Other_sales           0\n",
              "Critic_Score       8578\n",
              "User_Score         6701\n",
              "Rating             6766\n",
              "dtype: int64"
            ]
          },
          "metadata": {
            "tags": []
          },
          "execution_count": 9
        }
      ]
    },
    {
      "cell_type": "code",
      "metadata": {
        "id": "8z9BgWoEMSRp",
        "outputId": "5c62539d-a6c3-457c-e486-6af246fcb42f"
      },
      "source": [
        "df.head()"
      ],
      "execution_count": null,
      "outputs": [
        {
          "output_type": "execute_result",
          "data": {
            "text/html": [
              "<div>\n",
              "<style scoped>\n",
              "    .dataframe tbody tr th:only-of-type {\n",
              "        vertical-align: middle;\n",
              "    }\n",
              "\n",
              "    .dataframe tbody tr th {\n",
              "        vertical-align: top;\n",
              "    }\n",
              "\n",
              "    .dataframe thead th {\n",
              "        text-align: right;\n",
              "    }\n",
              "</style>\n",
              "<table border=\"1\" class=\"dataframe\">\n",
              "  <thead>\n",
              "    <tr style=\"text-align: right;\">\n",
              "      <th></th>\n",
              "      <th>Name</th>\n",
              "      <th>Platform</th>\n",
              "      <th>Year_of_Release</th>\n",
              "      <th>Genre</th>\n",
              "      <th>NA_sales</th>\n",
              "      <th>EU_sales</th>\n",
              "      <th>JP_sales</th>\n",
              "      <th>Other_sales</th>\n",
              "      <th>Critic_Score</th>\n",
              "      <th>User_Score</th>\n",
              "      <th>Rating</th>\n",
              "    </tr>\n",
              "  </thead>\n",
              "  <tbody>\n",
              "    <tr>\n",
              "      <td>0</td>\n",
              "      <td>Wii Sports</td>\n",
              "      <td>Wii</td>\n",
              "      <td>2006.0</td>\n",
              "      <td>Sports</td>\n",
              "      <td>41.36</td>\n",
              "      <td>28.96</td>\n",
              "      <td>3.77</td>\n",
              "      <td>8.45</td>\n",
              "      <td>76.0</td>\n",
              "      <td>8</td>\n",
              "      <td>E</td>\n",
              "    </tr>\n",
              "    <tr>\n",
              "      <td>1</td>\n",
              "      <td>Super Mario Bros.</td>\n",
              "      <td>NES</td>\n",
              "      <td>1985.0</td>\n",
              "      <td>Platform</td>\n",
              "      <td>29.08</td>\n",
              "      <td>3.58</td>\n",
              "      <td>6.81</td>\n",
              "      <td>0.77</td>\n",
              "      <td>NaN</td>\n",
              "      <td>NaN</td>\n",
              "      <td>NaN</td>\n",
              "    </tr>\n",
              "    <tr>\n",
              "      <td>2</td>\n",
              "      <td>Mario Kart Wii</td>\n",
              "      <td>Wii</td>\n",
              "      <td>2008.0</td>\n",
              "      <td>Racing</td>\n",
              "      <td>15.68</td>\n",
              "      <td>12.76</td>\n",
              "      <td>3.79</td>\n",
              "      <td>3.29</td>\n",
              "      <td>82.0</td>\n",
              "      <td>8.3</td>\n",
              "      <td>E</td>\n",
              "    </tr>\n",
              "    <tr>\n",
              "      <td>3</td>\n",
              "      <td>Wii Sports Resort</td>\n",
              "      <td>Wii</td>\n",
              "      <td>2009.0</td>\n",
              "      <td>Sports</td>\n",
              "      <td>15.61</td>\n",
              "      <td>10.93</td>\n",
              "      <td>3.28</td>\n",
              "      <td>2.95</td>\n",
              "      <td>80.0</td>\n",
              "      <td>8</td>\n",
              "      <td>E</td>\n",
              "    </tr>\n",
              "    <tr>\n",
              "      <td>4</td>\n",
              "      <td>Pokemon Red/Pokemon Blue</td>\n",
              "      <td>GB</td>\n",
              "      <td>1996.0</td>\n",
              "      <td>Role-Playing</td>\n",
              "      <td>11.27</td>\n",
              "      <td>8.89</td>\n",
              "      <td>10.22</td>\n",
              "      <td>1.00</td>\n",
              "      <td>NaN</td>\n",
              "      <td>NaN</td>\n",
              "      <td>NaN</td>\n",
              "    </tr>\n",
              "  </tbody>\n",
              "</table>\n",
              "</div>"
            ],
            "text/plain": [
              "                       Name Platform  Year_of_Release         Genre  NA_sales  \\\n",
              "0                Wii Sports      Wii           2006.0        Sports     41.36   \n",
              "1         Super Mario Bros.      NES           1985.0      Platform     29.08   \n",
              "2            Mario Kart Wii      Wii           2008.0        Racing     15.68   \n",
              "3         Wii Sports Resort      Wii           2009.0        Sports     15.61   \n",
              "4  Pokemon Red/Pokemon Blue       GB           1996.0  Role-Playing     11.27   \n",
              "\n",
              "   EU_sales  JP_sales  Other_sales  Critic_Score User_Score Rating  \n",
              "0     28.96      3.77         8.45          76.0          8      E  \n",
              "1      3.58      6.81         0.77           NaN        NaN    NaN  \n",
              "2     12.76      3.79         3.29          82.0        8.3      E  \n",
              "3     10.93      3.28         2.95          80.0          8      E  \n",
              "4      8.89     10.22         1.00           NaN        NaN    NaN  "
            ]
          },
          "metadata": {
            "tags": []
          },
          "execution_count": 10
        }
      ]
    },
    {
      "cell_type": "code",
      "metadata": {
        "id": "dBNzzQJrMSRq",
        "outputId": "512a33d9-f7e7-422e-9e63-e760a5342a97"
      },
      "source": [
        "df.duplicated().sum()"
      ],
      "execution_count": null,
      "outputs": [
        {
          "output_type": "execute_result",
          "data": {
            "text/plain": [
              "0"
            ]
          },
          "metadata": {
            "tags": []
          },
          "execution_count": 11
        }
      ]
    },
    {
      "cell_type": "markdown",
      "metadata": {
        "id": "jJBn6uThMSRr"
      },
      "source": [
        "Для анализа предоставлена одна таблица состоящая из 16715 строк и 11 колонок.  \n",
        "\n",
        "Присутствуют пропуски в 5 столбцах: `Name, Year_of_Release, Genre, Critic_Score, User_Score, Rating`.  \n",
        "\n",
        "Необходимо изменить форматы в столбцах:\n",
        "- Year_of_Release - на формат ***int***;\n",
        "- User_Score - на формат ***float64***.\n",
        "\n",
        "Дубликаты отсутствуют."
      ]
    },
    {
      "cell_type": "markdown",
      "metadata": {
        "id": "X2wWf1deMSRs"
      },
      "source": [
        "## Шаг 2. Подготовьте данные"
      ]
    },
    {
      "cell_type": "markdown",
      "metadata": {
        "id": "3e7vb4GKMSRt"
      },
      "source": [
        "Приведем названия столбцов к нижнему регистру:"
      ]
    },
    {
      "cell_type": "code",
      "metadata": {
        "id": "udCkD2eTMSRt",
        "colab": {
          "base_uri": "https://localhost:8080/",
          "height": 168
        },
        "outputId": "a63f5e42-2ae6-4553-cd67-9514d1f3b7ad"
      },
      "source": [
        "df.columns = map(str.lower, df.columns)"
      ],
      "execution_count": 1,
      "outputs": [
        {
          "output_type": "error",
          "ename": "NameError",
          "evalue": "ignored",
          "traceback": [
            "\u001b[0;31m---------------------------------------------------------------------------\u001b[0m",
            "\u001b[0;31mNameError\u001b[0m                                 Traceback (most recent call last)",
            "\u001b[0;32m<ipython-input-1-ec0cd1157876>\u001b[0m in \u001b[0;36m<module>\u001b[0;34m()\u001b[0m\n\u001b[0;32m----> 1\u001b[0;31m \u001b[0mdf\u001b[0m\u001b[0;34m.\u001b[0m\u001b[0mcolumns\u001b[0m \u001b[0;34m=\u001b[0m \u001b[0mmap\u001b[0m\u001b[0;34m(\u001b[0m\u001b[0mstr\u001b[0m\u001b[0;34m.\u001b[0m\u001b[0mlower\u001b[0m\u001b[0;34m,\u001b[0m \u001b[0mdf\u001b[0m\u001b[0;34m.\u001b[0m\u001b[0mcolumns\u001b[0m\u001b[0;34m)\u001b[0m\u001b[0;34m\u001b[0m\u001b[0;34m\u001b[0m\u001b[0m\n\u001b[0m",
            "\u001b[0;31mNameError\u001b[0m: name 'df' is not defined"
          ]
        }
      ]
    },
    {
      "cell_type": "code",
      "metadata": {
        "id": "Ho1Dx3anMSRu"
      },
      "source": [
        "df.head()"
      ],
      "execution_count": null,
      "outputs": []
    },
    {
      "cell_type": "markdown",
      "metadata": {
        "id": "u7g_OVj4MSRv"
      },
      "source": [
        "#### Заполним пропуски в столбце `['name']`"
      ]
    },
    {
      "cell_type": "code",
      "metadata": {
        "id": "sNyvEDJVMSRw"
      },
      "source": [
        "df['name'] = df['name'].fillna('unknown')"
      ],
      "execution_count": null,
      "outputs": []
    },
    {
      "cell_type": "markdown",
      "metadata": {
        "id": "Sdiv1e_iMSRw"
      },
      "source": [
        "#### Заполним пропуски в столбце `['year_of_release']`"
      ]
    },
    {
      "cell_type": "code",
      "metadata": {
        "id": "kKHRHB1kMSRw"
      },
      "source": [
        "# Количество пропусков\n",
        "df['year_of_release'].isna().sum()"
      ],
      "execution_count": null,
      "outputs": []
    },
    {
      "cell_type": "markdown",
      "metadata": {
        "id": "3XUZ2chaMSRy"
      },
      "source": [
        "Не трудно заметить, что некоторые игры имеют в своих названиях обозначение года. Также стоит отметить, что фактический год релиза на год меньше, чем указано в названии.  Год всегда указан в конце строки."
      ]
    },
    {
      "cell_type": "markdown",
      "metadata": {
        "id": "e9x7ncDxMSRy"
      },
      "source": [
        "Методом `split()` выведем в отдельный столбец последние слова в названии игр:"
      ]
    },
    {
      "cell_type": "code",
      "metadata": {
        "id": "jtjpgjxyMSRz"
      },
      "source": [
        "df['name_split'] = df['name'].str.split(' ').str[-1]"
      ],
      "execution_count": null,
      "outputs": []
    },
    {
      "cell_type": "code",
      "metadata": {
        "id": "igW-8bFbMSRz"
      },
      "source": [
        "df[df['year_of_release'].isna()]"
      ],
      "execution_count": null,
      "outputs": []
    },
    {
      "cell_type": "code",
      "metadata": {
        "id": "5mYdu9CvMSR0"
      },
      "source": [
        "df['year_of_release'] = df['year_of_release'].fillna(0)"
      ],
      "execution_count": null,
      "outputs": []
    },
    {
      "cell_type": "markdown",
      "metadata": {
        "id": "U7NbEagTMSR0"
      },
      "source": [
        "Попробуем заменить пропуски года выхода игры на значения из названий игр и уменьшим это значение на единицу: "
      ]
    },
    {
      "cell_type": "code",
      "metadata": {
        "id": "k0KTjhNNMSR2"
      },
      "source": [
        "def year2(row):\n",
        "    if row['year_of_release'] == 0:\n",
        "        try:\n",
        "            for i in range(1980, 2016, 1):\n",
        "                if int(row['name_split']) > 1979:\n",
        "                    return int(row['name_split']) - 1\n",
        "        except:\n",
        "            return np.nan\n",
        "    else:\n",
        "        return row['year_of_release']"
      ],
      "execution_count": null,
      "outputs": []
    },
    {
      "cell_type": "code",
      "metadata": {
        "id": "ItBl1J1jMSR2"
      },
      "source": [
        "df['split_year'] = df.apply(year2, axis=1)"
      ],
      "execution_count": null,
      "outputs": []
    },
    {
      "cell_type": "code",
      "metadata": {
        "id": "fwgh-MGhMSR2"
      },
      "source": [
        "df[df['split_year'].isna()]"
      ],
      "execution_count": null,
      "outputs": []
    },
    {
      "cell_type": "code",
      "metadata": {
        "id": "5C7gBrXNMSR3"
      },
      "source": [
        "df['split_year'].isna().sum()"
      ],
      "execution_count": null,
      "outputs": []
    },
    {
      "cell_type": "markdown",
      "metadata": {
        "id": "I_-CIxaIMSR4"
      },
      "source": [
        "Заменим знаечния в столбце `['year_of_release']` на полученные:"
      ]
    },
    {
      "cell_type": "code",
      "metadata": {
        "id": "Hgk7I8hLMSR4"
      },
      "source": [
        "df['year_of_release'] = df['split_year']"
      ],
      "execution_count": null,
      "outputs": []
    },
    {
      "cell_type": "markdown",
      "metadata": {
        "id": "700h2QukMSR4"
      },
      "source": [
        "Для чистоты таблицы, удалим созданные ранее столбцы `['name_split'], ['split_year']`:"
      ]
    },
    {
      "cell_type": "code",
      "metadata": {
        "id": "4SxK9UwOMSR5"
      },
      "source": [
        "del df['name_split']"
      ],
      "execution_count": null,
      "outputs": []
    },
    {
      "cell_type": "code",
      "metadata": {
        "id": "wKVmZW9pMSR5"
      },
      "source": [
        "del df['split_year']"
      ],
      "execution_count": null,
      "outputs": []
    },
    {
      "cell_type": "code",
      "metadata": {
        "id": "6_9UJ2r0MSR5"
      },
      "source": [
        "# Проверим количество пропущенных значений\n",
        "df['year_of_release'].isna().sum()"
      ],
      "execution_count": null,
      "outputs": []
    },
    {
      "cell_type": "markdown",
      "metadata": {
        "id": "0VVgPkawMSR7"
      },
      "source": [
        "#### Заполним пропуски в столбце `['genre']`"
      ]
    },
    {
      "cell_type": "markdown",
      "metadata": {
        "id": "gpVZx3edMSR7"
      },
      "source": [
        "Для начала проверим уникальные значения в столбце на наличие некорреткных данных:"
      ]
    },
    {
      "cell_type": "code",
      "metadata": {
        "id": "gkSPtkOFMSR8"
      },
      "source": [
        "df['genre'].value_counts()"
      ],
      "execution_count": null,
      "outputs": []
    },
    {
      "cell_type": "markdown",
      "metadata": {
        "id": "hoxLsL1mMSR8"
      },
      "source": [
        "Заполним пропуски знаенчием ***unknown***:"
      ]
    },
    {
      "cell_type": "code",
      "metadata": {
        "id": "4HMk7ACYMSR9"
      },
      "source": [
        "df['genre'] = df['genre'].fillna('unknown')"
      ],
      "execution_count": null,
      "outputs": []
    },
    {
      "cell_type": "code",
      "metadata": {
        "scrolled": true,
        "id": "S1LTtjmGMSR9"
      },
      "source": [
        "df['genre'].isna().sum()"
      ],
      "execution_count": null,
      "outputs": []
    },
    {
      "cell_type": "markdown",
      "metadata": {
        "id": "gULYuZ_tMSR-"
      },
      "source": [
        "#### Заполним пропуски в столбце `['critic_score']`"
      ]
    },
    {
      "cell_type": "markdown",
      "metadata": {
        "id": "q7dhN057MSR-"
      },
      "source": [
        "В столбеце оценка критиков, заменим пропуски **средним значением**, рассчитанной для каждого жанра по сгруппированным данным:"
      ]
    },
    {
      "cell_type": "code",
      "metadata": {
        "id": "7D_OOZQ3MSR_"
      },
      "source": [
        "df.groupby('genre').agg({'critic_score':['mean']})"
      ],
      "execution_count": null,
      "outputs": []
    },
    {
      "cell_type": "code",
      "metadata": {
        "id": "RQXinK9sMSR_"
      },
      "source": [
        "group_genre = df.groupby(['genre'])"
      ],
      "execution_count": null,
      "outputs": []
    },
    {
      "cell_type": "code",
      "metadata": {
        "id": "4RYx_sd9MSSA"
      },
      "source": [
        "df['critic_score'].isna().count()"
      ],
      "execution_count": null,
      "outputs": []
    },
    {
      "cell_type": "markdown",
      "metadata": {
        "id": "VOOH-fjgMSSA"
      },
      "source": [
        "Изменим формат ячеек столбца `['critic_score']`:"
      ]
    },
    {
      "cell_type": "code",
      "metadata": {
        "id": "U-XjKyG-MSSB"
      },
      "source": [
        "df['critic_score'] = df['critic_score'].astype(np.float64)"
      ],
      "execution_count": null,
      "outputs": []
    },
    {
      "cell_type": "markdown",
      "metadata": {
        "id": "h17Bj5OIMSSD"
      },
      "source": [
        "#### Заполним пропуски в столбце `['user_score']`"
      ]
    },
    {
      "cell_type": "code",
      "metadata": {
        "id": "BNytQdHoMSSD"
      },
      "source": [
        "#Количество пропущенных значений\n",
        "df['user_score'].isna().sum()"
      ],
      "execution_count": null,
      "outputs": []
    },
    {
      "cell_type": "markdown",
      "metadata": {
        "id": "NJusKexvMSSE"
      },
      "source": [
        "Проверим какие уникальные значения присутствуют в столбце:"
      ]
    },
    {
      "cell_type": "code",
      "metadata": {
        "id": "J4Y_vpTIMSSE"
      },
      "source": [
        "df['user_score'].unique()"
      ],
      "execution_count": null,
      "outputs": []
    },
    {
      "cell_type": "markdown",
      "metadata": {
        "id": "f0OqhRm5MSSF"
      },
      "source": [
        "Можно заметить, что в столбце есть текстовое значение **tbd**.  \n",
        "Значение - **tbd (To Be Determined)**, в переводе означает - **\"Будет определено\"**.  \n",
        "Подобное сокращение означает что игра уже вышла(выйдет), и пользовательский рейтинг еще неопределен.  "
      ]
    },
    {
      "cell_type": "markdown",
      "metadata": {
        "id": "4t7m7QMEMSSF"
      },
      "source": [
        "Посчитаем количество знаечний 'tbd' в столбце:"
      ]
    },
    {
      "cell_type": "code",
      "metadata": {
        "id": "TR_QwkUzMSSF"
      },
      "source": [
        "df[df['user_score'] == 'tbd']['user_score'].count()"
      ],
      "execution_count": null,
      "outputs": []
    },
    {
      "cell_type": "code",
      "metadata": {
        "id": "fx70ZFSqMSSG"
      },
      "source": [
        "df['user_score'] = df['user_score'].replace('tbd', np.nan)"
      ],
      "execution_count": null,
      "outputs": []
    },
    {
      "cell_type": "markdown",
      "metadata": {
        "id": "MBpd1s46MSSG"
      },
      "source": [
        "\n",
        "Как можно заметить, у ячеек со значением 'tbd' определен рейтинг критиков.  \n",
        "    \n",
        "Разобъем на 6 интревалов значения в столбце critic_score. И добавим новый столбец с интервалами в таблицу:"
      ]
    },
    {
      "cell_type": "code",
      "metadata": {
        "id": "iixgP2wlMSSH"
      },
      "source": [
        "df.head()"
      ],
      "execution_count": null,
      "outputs": []
    },
    {
      "cell_type": "code",
      "metadata": {
        "id": "SakBMv9gMSSI"
      },
      "source": [
        "df.info()"
      ],
      "execution_count": null,
      "outputs": []
    },
    {
      "cell_type": "markdown",
      "metadata": {
        "id": "gkfUsHMjMSSI"
      },
      "source": [
        "Исключим значения 'tbd', изменим формат столбца, сгруппируем интервалы и для каждого вычислим среднее значение 'user_score':"
      ]
    },
    {
      "cell_type": "markdown",
      "metadata": {
        "id": "y9yavWKNMSSL"
      },
      "source": [
        "Произведем замену значений 'tbd' на вычисленное среднее значение 'user_score':"
      ]
    },
    {
      "cell_type": "code",
      "metadata": {
        "id": "n5Svh6zsMSSM"
      },
      "source": [
        "df['user_score'].isna().sum()"
      ],
      "execution_count": null,
      "outputs": []
    },
    {
      "cell_type": "markdown",
      "metadata": {
        "id": "dLDbl7erMSSN"
      },
      "source": [
        "Изменим формат данных на float64, используя библиотеку **Numpy**"
      ]
    },
    {
      "cell_type": "code",
      "metadata": {
        "id": "sTfZGFj9MSSN"
      },
      "source": [
        "df['user_score'] = df['user_score'].astype(np.float64)"
      ],
      "execution_count": null,
      "outputs": []
    },
    {
      "cell_type": "markdown",
      "metadata": {
        "id": "F4W7F9YjMSSP"
      },
      "source": [
        "По аналогии с `['critic_score']`, заменим значения пользовательских оценок **средним значением** по оценкам сгруппированным по жанрам:"
      ]
    },
    {
      "cell_type": "code",
      "metadata": {
        "id": "-2iRJZ4JMSSQ"
      },
      "source": [
        "df['user_score'].isna().sum()"
      ],
      "execution_count": null,
      "outputs": []
    },
    {
      "cell_type": "code",
      "metadata": {
        "id": "fUhf-KOoMSSS"
      },
      "source": [
        "df.head()"
      ],
      "execution_count": null,
      "outputs": []
    },
    {
      "cell_type": "markdown",
      "metadata": {
        "id": "satWyPm5MSST"
      },
      "source": [
        "#### Заполним пропуски в столбце `['rating']`"
      ]
    },
    {
      "cell_type": "markdown",
      "metadata": {
        "id": "Yg6aex6xMSST"
      },
      "source": [
        "Выведем уникальные значения и их кол-во:"
      ]
    },
    {
      "cell_type": "code",
      "metadata": {
        "id": "k4FOU45hMSST"
      },
      "source": [
        "df['rating'].value_counts()"
      ],
      "execution_count": null,
      "outputs": []
    },
    {
      "cell_type": "markdown",
      "metadata": {
        "id": "1dT5Orp_MSSU"
      },
      "source": [
        "Ошибок в данных не обнаружено.  \n",
        "\n",
        "Т.к. определить рейтинг возрастной категории игры мы не можем, заменим пропуски значением ***unknown***:"
      ]
    },
    {
      "cell_type": "code",
      "metadata": {
        "id": "qAnbROn2MSSU"
      },
      "source": [
        "df['rating'] = df['rating'].fillna('unknown')"
      ],
      "execution_count": null,
      "outputs": []
    },
    {
      "cell_type": "code",
      "metadata": {
        "id": "dM6lF8s6MSSV"
      },
      "source": [
        "df['rating'].isna().sum()"
      ],
      "execution_count": null,
      "outputs": []
    },
    {
      "cell_type": "markdown",
      "metadata": {
        "id": "UztFvdGMMSSV"
      },
      "source": [
        "Просмотрим информацию о таблице для контроля проведенной обработки данных:"
      ]
    },
    {
      "cell_type": "code",
      "metadata": {
        "scrolled": true,
        "id": "ZBTWmhGBMSSW"
      },
      "source": [
        "df.isna().sum()"
      ],
      "execution_count": null,
      "outputs": []
    },
    {
      "cell_type": "markdown",
      "metadata": {
        "id": "qgLEuoy_MSSW"
      },
      "source": [
        "#### Посчитаем суммарные продажи во всех регионах и запишием их в отдельный столбец `['sum_sales']`"
      ]
    },
    {
      "cell_type": "code",
      "metadata": {
        "id": "KNqPxnSRMSSX"
      },
      "source": [
        "df['sum_sales'] = df['na_sales'] + df['eu_sales'] + df['jp_sales'] + df['other_sales']"
      ],
      "execution_count": null,
      "outputs": []
    },
    {
      "cell_type": "code",
      "metadata": {
        "id": "_qL3WFO_MSSX"
      },
      "source": [
        "df.head()"
      ],
      "execution_count": null,
      "outputs": []
    },
    {
      "cell_type": "markdown",
      "metadata": {
        "id": "ITmgt6SqMSSX"
      },
      "source": [
        "### Вывод"
      ]
    },
    {
      "cell_type": "markdown",
      "metadata": {
        "id": "AfbMpPoYMSSY"
      },
      "source": [
        "Мы заполнили пропуски в 5 столбцах: **name, year_of_release, genre, critic_score, user_score, rating.**\n",
        "\n",
        "Изменили форматы в столбцах: **year_of_release, user_score**.\n",
        "\n",
        "Возможные причины появления пропусков:\n",
        "- отсутствие или недавний релиз игры;\n",
        "- отсутствие сведений в источнике сбора данных;\n",
        "- маленькие продажи игр с пропущенными значениями;\n",
        "- узкая аудитория выпущенной игры;\n",
        "- отсутствие интереса критиков к написанию рецензии из-за низкого спроса.  \n",
        "\n",
        "Также в таблицу был добавлен столбец `['sum_sales']` с суммарными продажами по всем регионам."
      ]
    },
    {
      "cell_type": "markdown",
      "metadata": {
        "id": "tYVax6EfMSSY"
      },
      "source": [
        "## Шаг 3. Проведите исследовательский анализ данных"
      ]
    },
    {
      "cell_type": "markdown",
      "metadata": {
        "id": "W2POeiTVMSSZ"
      },
      "source": [
        "#### Посмотрим, сколько игр выпускалось в разные годы:"
      ]
    },
    {
      "cell_type": "code",
      "metadata": {
        "id": "YRhSYagFMSSZ"
      },
      "source": [
        "count_year = df.groupby('year_of_release')['name'].agg('count').reset_index()"
      ],
      "execution_count": null,
      "outputs": []
    },
    {
      "cell_type": "code",
      "metadata": {
        "id": "rIZZLgETMSSa"
      },
      "source": [
        "count_year.plot(x='year_of_release', y='name');\n",
        "plt.xlabel('год выхода')\n",
        "plt.ylabel('Количество релизов')\n",
        "plt.show()"
      ],
      "execution_count": null,
      "outputs": []
    },
    {
      "cell_type": "markdown",
      "metadata": {
        "id": "_BoiZhO9MSSa"
      },
      "source": [
        "Только в 1994 году количество выпущенных игр за год перевалило за 100 релизов и росло с каждым годом до 2009 года включительно. С 2010 количество выпущенных игр падает с каждым годом.  \n",
        "Вероятней всего такая тенденция вызвана переходом многих пользователей на игры в форматах: **Online** и **мобильные**."
      ]
    },
    {
      "cell_type": "markdown",
      "metadata": {
        "id": "k2fVi_gaMSSb"
      },
      "source": [
        "#### Посмотрите, как менялись продажи по платформам:"
      ]
    },
    {
      "cell_type": "code",
      "metadata": {
        "id": "U0VlKWvuMSSc"
      },
      "source": [
        "pd.set_option('display.max_rows', None)\n",
        "group_year_of_release = df.groupby(['year_of_release', 'platform'])['name'].agg('count').reset_index()"
      ],
      "execution_count": null,
      "outputs": []
    },
    {
      "cell_type": "code",
      "metadata": {
        "id": "DkdeOaMvMSSc"
      },
      "source": [
        "(group_year_of_release\n",
        " .pivot_table(index='year_of_release', columns='platform', values='name')\n",
        " .plot(kind='bar', stacked=True, figsize=(15,10))\n",
        ");"
      ],
      "execution_count": null,
      "outputs": []
    },
    {
      "cell_type": "code",
      "metadata": {
        "id": "ZUwIUixkMSSd"
      },
      "source": [
        "for name, group_data in group_year_of_release.groupby('year_of_release'):\n",
        "    group_data.plot(x='platform', y='name',  title=name, kind='bar', grid=True)\n",
        "    plt.xlabel('Платформа')\n",
        "    plt.ylabel('Количество релизов')\n",
        "    plt.show()"
      ],
      "execution_count": null,
      "outputs": []
    },
    {
      "cell_type": "markdown",
      "metadata": {
        "id": "lQyRH7P-MSSe"
      },
      "source": [
        "Действительно 1994 год стал переломным в игровой индустрии.  В этом году количество платформ возросло в два раза.  Будем считать начало эпохи игровых платформ началось в **1994** году, начнем анализ данных с этого года. "
      ]
    },
    {
      "cell_type": "markdown",
      "metadata": {
        "id": "mmgFWymdMSSf"
      },
      "source": [
        "Сделаем срез данных по релизам с 1994 года:"
      ]
    },
    {
      "cell_type": "code",
      "metadata": {
        "id": "P9YGmut3MSSf"
      },
      "source": [
        "report = df.query('year_of_release > 1994')"
      ],
      "execution_count": null,
      "outputs": []
    },
    {
      "cell_type": "markdown",
      "metadata": {
        "id": "6RJX7ikvMSSg"
      },
      "source": [
        "#### Посмотрим, как менялись продажи по платформам"
      ]
    },
    {
      "cell_type": "markdown",
      "metadata": {
        "id": "IdiQDS1FMSSh"
      },
      "source": [
        "Создадим новую таблицу в которой сгруппируем данные по платформам, суммам продаж, года начала выпуска игр и год последнего игрового релиза:"
      ]
    },
    {
      "cell_type": "code",
      "metadata": {
        "id": "hUmZ2tkPMSSh"
      },
      "source": [
        "platform_distribution = report.groupby('platform').agg({'sum_sales':['sum'], 'year_of_release':['min', 'max']}).reset_index()"
      ],
      "execution_count": null,
      "outputs": []
    },
    {
      "cell_type": "code",
      "metadata": {
        "id": "IHLeRkpZMSSh"
      },
      "source": [
        "platform_distribution.columns = ('platform', 'sum_sales', 'start_year', 'end_year')"
      ],
      "execution_count": null,
      "outputs": []
    },
    {
      "cell_type": "markdown",
      "metadata": {
        "id": "U6yubwDSMSSi"
      },
      "source": [
        "Добавим в таблицу `platform_distribution` столбец `['time_of_life']` с периодом выпуска игр для каждой платформы:"
      ]
    },
    {
      "cell_type": "code",
      "metadata": {
        "id": "lJ-kaIfeMSSi"
      },
      "source": [
        "platform_distribution['time_of_life'] = platform_distribution['end_year'] - platform_distribution['start_year']"
      ],
      "execution_count": null,
      "outputs": []
    },
    {
      "cell_type": "code",
      "metadata": {
        "id": "wsN28AJoMSSi"
      },
      "source": [
        "platform_distribution.sort_values(by='start_year', ascending=True)"
      ],
      "execution_count": null,
      "outputs": []
    },
    {
      "cell_type": "code",
      "metadata": {
        "id": "0KMbi503MSSj"
      },
      "source": [
        "platform_distribution['time_of_life'].median()"
      ],
      "execution_count": null,
      "outputs": []
    },
    {
      "cell_type": "markdown",
      "metadata": {
        "id": "eIfhmUwWMSSj"
      },
      "source": [
        "В среднем жизненный цикл(срок появления и исчезновения) игровых платформ составляет 6 лет."
      ]
    },
    {
      "cell_type": "markdown",
      "metadata": {
        "id": "BXbfi422MSSk"
      },
      "source": [
        "Учитывая, необходимость построить прогноз на 2017 год и жизненный цикл плафторм, для **дальнейшего анализа** возьмем данные за период с **2012 года по 2016**.  \n",
        "Для этого создадим таблицу `report_true` с данными, начиная с 2012 года:"
      ]
    },
    {
      "cell_type": "code",
      "metadata": {
        "id": "CrTVbdj9MSSk"
      },
      "source": [
        "report_true = df.query('year_of_release >= 2012')"
      ],
      "execution_count": null,
      "outputs": []
    },
    {
      "cell_type": "code",
      "metadata": {
        "id": "sTE5T-gLMSSl"
      },
      "source": [
        "report_true.describe()"
      ],
      "execution_count": null,
      "outputs": []
    },
    {
      "cell_type": "code",
      "metadata": {
        "id": "O2yJ23-3MSSl"
      },
      "source": [
        "report_true.head()"
      ],
      "execution_count": null,
      "outputs": []
    },
    {
      "cell_type": "markdown",
      "metadata": {
        "id": "3fuQRlleMSSm"
      },
      "source": [
        "#### Выберите несколько потенциально прибыльных платформ"
      ]
    },
    {
      "cell_type": "code",
      "metadata": {
        "id": "qEPGKbTaMSSm"
      },
      "source": [
        "platform_group = report_true.groupby(['platform', 'year_of_release']).agg({'name':['count'], 'sum_sales':['sum']}).reset_index()"
      ],
      "execution_count": null,
      "outputs": []
    },
    {
      "cell_type": "code",
      "metadata": {
        "id": "4nvuouLAMSSm"
      },
      "source": [
        "platform_group.head()"
      ],
      "execution_count": null,
      "outputs": []
    },
    {
      "cell_type": "code",
      "metadata": {
        "id": "K1jGVvZQMSSn"
      },
      "source": [
        "platform_group.columns = ('platform', 'year_of_release', 'count_release', 'sum_sales')"
      ],
      "execution_count": null,
      "outputs": []
    },
    {
      "cell_type": "code",
      "metadata": {
        "id": "EgU2eKyzMSSn"
      },
      "source": [
        "platform_group.head()"
      ],
      "execution_count": null,
      "outputs": []
    },
    {
      "cell_type": "markdown",
      "metadata": {
        "id": "sm7ik9kOMSSz"
      },
      "source": [
        "**Построим графики распределения продаж и количества игровых релизов по каждой платформе по годам с 2012 по 2016:**"
      ]
    },
    {
      "cell_type": "code",
      "metadata": {
        "id": "kHuaHzDVMSSz"
      },
      "source": [
        "for name, group_data in platform_group.groupby('platform'):\n",
        "    group_data.plot(x='year_of_release', y='sum_sales',  title=name, kind='bar', grid=True)\n",
        "    plt.xlabel('Год')\n",
        "    plt.ylabel('Количество продаж')\n",
        "    plt.show()"
      ],
      "execution_count": null,
      "outputs": []
    },
    {
      "cell_type": "code",
      "metadata": {
        "scrolled": false,
        "id": "TNiCaFaQMSS2"
      },
      "source": [
        "for name, group_data in platform_group.groupby('platform'):\n",
        "    group_data.plot(x='year_of_release', y='count_release',  title=name, kind='bar', grid=True)\n",
        "    plt.xlabel('Год')\n",
        "    plt.ylabel('Количество продаж')\n",
        "    plt.show()"
      ],
      "execution_count": null,
      "outputs": []
    },
    {
      "cell_type": "code",
      "metadata": {
        "id": "eFvWOL51MSS3"
      },
      "source": [
        "#Сводная таблица - сумма продаж\n",
        "platform_group.pivot_table(index='platform', columns='year_of_release', values='sum_sales', aggfunc='sum', margins=True)"
      ],
      "execution_count": null,
      "outputs": []
    },
    {
      "cell_type": "markdown",
      "metadata": {
        "id": "4cPUs66IMSS4"
      },
      "source": [
        "Как мы можем заметить из графиков и сводной таблицы, продажи падают по всем платформам.  \n",
        "На платформе **DS** перестали выпускать игры с 2014 года."
      ]
    },
    {
      "cell_type": "code",
      "metadata": {
        "id": "18u_oY2XMSS4"
      },
      "source": [
        "#Сводная таблица - количество релизов игр\n",
        "platform_group.pivot_table(index='platform', columns='year_of_release', values='count_release', aggfunc='sum', margins=True)"
      ],
      "execution_count": null,
      "outputs": []
    },
    {
      "cell_type": "markdown",
      "metadata": {
        "id": "Ne0yYJrDMSS5"
      },
      "source": [
        "Количество выпущенных новых игр увеличивается только на двух платформах **PS4 и XOne**, на остальных платформах мы наблюдаем стагнацию.  \n",
        "Это не случайно, обе платформы новее остальных и появились в 2013 году."
      ]
    },
    {
      "cell_type": "markdown",
      "metadata": {
        "id": "hsrCo39SMSS6"
      },
      "source": [
        "#### Определим платформы - лидеры по продажам"
      ]
    },
    {
      "cell_type": "code",
      "metadata": {
        "id": "ET24N0GYMSS6"
      },
      "source": [
        "platform_pivot = platform_group.pivot_table(index='platform', values=['sum_sales'], aggfunc=('sum'))"
      ],
      "execution_count": null,
      "outputs": []
    },
    {
      "cell_type": "code",
      "metadata": {
        "id": "yg5zQzf3MSS7"
      },
      "source": [
        "platform_pivot.sort_values(by='sum_sales', ascending=False)"
      ],
      "execution_count": null,
      "outputs": []
    },
    {
      "cell_type": "markdown",
      "metadata": {
        "id": "rPkmrzfrMSS8"
      },
      "source": [
        "**Топ-5 платформ по продажам: PS4, PS3, X360, 3DS, XOne.**"
      ]
    },
    {
      "cell_type": "markdown",
      "metadata": {
        "id": "GeI08ra-MSS8"
      },
      "source": [
        "Отфильтруем таблицу `platform_group` по ТОП-5:"
      ]
    },
    {
      "cell_type": "code",
      "metadata": {
        "id": "Qw00f7XhMSS9"
      },
      "source": [
        "filter_platform = {'PS4', 'PS3', 'X360', '3DS', 'XOne'}"
      ],
      "execution_count": null,
      "outputs": []
    },
    {
      "cell_type": "code",
      "metadata": {
        "id": "CyokH5hwMSS9"
      },
      "source": [
        "top_platform_group = platform_group.query('platform in @filter_platform')"
      ],
      "execution_count": null,
      "outputs": []
    },
    {
      "cell_type": "code",
      "metadata": {
        "id": "4YcZKeWEMSS-"
      },
      "source": [
        "top_platform_group.head()"
      ],
      "execution_count": null,
      "outputs": []
    },
    {
      "cell_type": "code",
      "metadata": {
        "id": "g3xjDtfIMSS-"
      },
      "source": [
        "top_platform_group['platform'].unique()"
      ],
      "execution_count": null,
      "outputs": []
    },
    {
      "cell_type": "code",
      "metadata": {
        "id": "eTewZsODMSS_"
      },
      "source": [
        "top_platform_group.info()"
      ],
      "execution_count": null,
      "outputs": []
    },
    {
      "cell_type": "code",
      "metadata": {
        "id": "ebWU3DviMSS_"
      },
      "source": [
        "del top_platform_group['year_of_release']"
      ],
      "execution_count": null,
      "outputs": []
    },
    {
      "cell_type": "code",
      "metadata": {
        "id": "TFODyuXxMSTA"
      },
      "source": [
        "del top_platform_group['count_release']"
      ],
      "execution_count": null,
      "outputs": []
    },
    {
      "cell_type": "markdown",
      "metadata": {
        "id": "Fe_Xi14YMSTA"
      },
      "source": [
        "#### Построим график «ящик с усами» по глобальным продажам игр в разбивке по платформам"
      ]
    },
    {
      "cell_type": "code",
      "metadata": {
        "id": "ActNeo-SMSTA"
      },
      "source": [
        "import warnings\n",
        "warnings.filterwarnings(\"ignore\", category=np.VisibleDeprecationWarning) "
      ],
      "execution_count": null,
      "outputs": []
    },
    {
      "cell_type": "code",
      "metadata": {
        "id": "eoaNusdWMSTB"
      },
      "source": [
        "top_platform_group.boxplot(by='platform', grid=True, figsize=(10,10));\n",
        "plt.title('')\n",
        "plt.xlabel('Платформа')\n",
        "plt.ylabel('Сумма продаж')\n",
        "plt.show()"
      ],
      "execution_count": null,
      "outputs": []
    },
    {
      "cell_type": "code",
      "metadata": {
        "id": "rfrVpEtnMSTC"
      },
      "source": [
        "top_platform_group.describe()"
      ],
      "execution_count": null,
      "outputs": []
    },
    {
      "cell_type": "markdown",
      "metadata": {
        "id": "1CixuhroMSTD"
      },
      "source": [
        "На платформах PS3, X360, XOne, 3DS в среднем продается около 40 млн копий игр в год.  \n",
        "Платформа PS4 получилась очень удачной по сравнению с PS3, т.к. средние продажи в год составляют более 80 млн копий. "
      ]
    },
    {
      "cell_type": "markdown",
      "metadata": {
        "id": "PZe8EroZMSTD"
      },
      "source": [
        "#### Посмотрим, как влияют на продажи внутри платформы PS4 отзывы пользователей и критиков"
      ]
    },
    {
      "cell_type": "code",
      "metadata": {
        "id": "u0c3FpudMSTE"
      },
      "source": [
        "ps4_platform_score = report_true.query('platform == \"PS4\"').reset_index()"
      ],
      "execution_count": null,
      "outputs": []
    },
    {
      "cell_type": "code",
      "metadata": {
        "id": "fxKZDy5HMSTE"
      },
      "source": [
        "ps4_platform_score.head()"
      ],
      "execution_count": null,
      "outputs": []
    },
    {
      "cell_type": "code",
      "metadata": {
        "scrolled": false,
        "id": "Bcl1EX_PMSTF"
      },
      "source": [
        "ps4_platform_score.sort_values(by='sum_sales', ascending=False).head(15)"
      ],
      "execution_count": null,
      "outputs": []
    },
    {
      "cell_type": "markdown",
      "metadata": {
        "id": "E44GMslFMSTG"
      },
      "source": [
        "Из таблицы точно сказать есть ли связь между продажами и оценками мы не можем.  \n",
        "\n",
        "Есть игры с высокими оценками и низкими продажами и наоборот."
      ]
    },
    {
      "cell_type": "markdown",
      "metadata": {
        "id": "dUqbevm3MSTG"
      },
      "source": [
        "#### Построим диаграмму рассеяния и посчитаем корреляцию между отзывами и продажами"
      ]
    },
    {
      "cell_type": "code",
      "metadata": {
        "id": "w2ZQ0pvqMSTH"
      },
      "source": [
        "ps4_platform_score_research = ps4_platform_score.loc[:, ['critic_score', 'user_score', 'sum_sales']]"
      ],
      "execution_count": null,
      "outputs": []
    },
    {
      "cell_type": "code",
      "metadata": {
        "id": "JBwmvti6MSTH"
      },
      "source": [
        "ps4_platform_score_research.describe()"
      ],
      "execution_count": null,
      "outputs": []
    },
    {
      "cell_type": "code",
      "metadata": {
        "id": "bJejzOJsMSTH"
      },
      "source": [
        "ps4_platform_score_research.dropna().corr()"
      ],
      "execution_count": null,
      "outputs": []
    },
    {
      "cell_type": "code",
      "metadata": {
        "id": "UomCwA6SMSTI"
      },
      "source": [
        "pd.plotting.scatter_matrix(ps4_platform_score_research, figsize=(10,10))\n",
        "plt.show()"
      ],
      "execution_count": null,
      "outputs": []
    },
    {
      "cell_type": "markdown",
      "metadata": {
        "id": "PXdHSHmOMSTI"
      },
      "source": [
        "<div class=\"alert alert-info\" role=\"alert\">\n",
        "Теперь вывод не много другой.  \n",
        "        \n",
        "Сумма продаж коррелируется с оценками критиков.  \n",
        "    \n",
        "Пользовательский рейтинг практически не коррелируется с продажами.  \n",
        "    \n",
        "Оценки критиков положительно коррелируются с продажами и оценками пользователей.  \n",
        "    \n",
        "Средняя оценка критиков 72, пользователей 6,7.  \n",
        "</div>"
      ]
    },
    {
      "cell_type": "markdown",
      "metadata": {
        "id": "TJivOk9hMSTI"
      },
      "source": [
        "Как мы видим сумма продаж в большей степени коррелируется с оценками критиков, чем пользователей. Корреляции в обоих случаях положительны, следовательно при увеличении оценки увеличиваются и продажи.  \n",
        "Также зачастую пользователи согласны с оценками критиков и оценивают игры в целом одинаково.  \n",
        "Средняя оценка критиков 70, пользователей 5,6."
      ]
    },
    {
      "cell_type": "markdown",
      "metadata": {
        "id": "Po-WMnbgMSTJ"
      },
      "source": [
        "#### Cоотнесите выводы с продажами игр на других платформах."
      ]
    },
    {
      "cell_type": "code",
      "metadata": {
        "id": "dfj1TKxnMSTJ"
      },
      "source": [
        "top_platform_report = report_true.query('platform in @filter_platform')"
      ],
      "execution_count": null,
      "outputs": []
    },
    {
      "cell_type": "code",
      "metadata": {
        "id": "cGljAy8VMSTJ"
      },
      "source": [
        "top_platform_report.groupby('platform')['critic_score'].describe()"
      ],
      "execution_count": null,
      "outputs": []
    },
    {
      "cell_type": "code",
      "metadata": {
        "id": "zoFI3CitMSTK"
      },
      "source": [
        "top_platform_report.groupby('platform')['user_score'].describe()"
      ],
      "execution_count": null,
      "outputs": []
    },
    {
      "cell_type": "markdown",
      "metadata": {
        "id": "P0IfwzlcMSTK"
      },
      "source": [
        "Средний рейтинг критиков на все платформах из ТОП-5 примерно одинаковый и равен 70.  \n",
        "Средняя оценка пользователей находится в пределах от 6.4 до 6,8 для четырех платформ (PS3, PS4, X360, XOne).  \n",
        "\n",
        "Для платформы 3DS среднее значение оценок пользователей выше и равна 7,2."
      ]
    },
    {
      "cell_type": "code",
      "metadata": {
        "id": "-51QpW6nMSTK"
      },
      "source": [
        "top_platform_report = top_platform_report.loc[:, ['platform','critic_score', 'user_score', 'sum_sales']]"
      ],
      "execution_count": null,
      "outputs": []
    },
    {
      "cell_type": "code",
      "metadata": {
        "id": "63vhpZMPMSTL"
      },
      "source": [
        "top_platform_report.head()"
      ],
      "execution_count": null,
      "outputs": []
    },
    {
      "cell_type": "markdown",
      "metadata": {
        "id": "KvWMOWqzMSTM"
      },
      "source": [
        "Диаграммы рассеяния - Оценка критиков/Сумма продаж:\n"
      ]
    },
    {
      "cell_type": "code",
      "metadata": {
        "id": "BzmoguOiMSTM"
      },
      "source": [
        "for name, group_data in top_platform_report.groupby('platform'):\n",
        "    group_data.plot(x='critic_score', y='sum_sales',  title=name, kind='scatter', grid=True)\n",
        "    plt.xlabel('Оценка критиков')\n",
        "    plt.ylabel('Сумма продаж')\n",
        "    plt.show()"
      ],
      "execution_count": null,
      "outputs": []
    },
    {
      "cell_type": "markdown",
      "metadata": {
        "id": "66krDNAhMSTN"
      },
      "source": [
        "\n",
        "Диаграммы рассеяния - Оценка пользователей/Сумма продаж:"
      ]
    },
    {
      "cell_type": "code",
      "metadata": {
        "id": "8g4ToosTMSTN"
      },
      "source": [
        "for name, group_data in top_platform_report.groupby('platform'):\n",
        "    group_data.plot(x='user_score', y='sum_sales',  title=name, kind='scatter', grid=True)\n",
        "    plt.xlabel('Оценка пользователей')\n",
        "    plt.ylabel('Сумма продаж')\n",
        "    plt.show()"
      ],
      "execution_count": null,
      "outputs": []
    },
    {
      "cell_type": "markdown",
      "metadata": {
        "id": "KpMyOHevMSTN"
      },
      "source": [
        "\n",
        "Диаграммы рассеяния - Оценка пользователей/Оценка критиков:"
      ]
    },
    {
      "cell_type": "code",
      "metadata": {
        "id": "kmJNEJwWMSTO"
      },
      "source": [
        "for name, group_data in top_platform_report.groupby('platform'):\n",
        "    group_data.plot(x='user_score', y='critic_score',  title=name, kind='scatter', grid=True)\n",
        "    plt.xlabel('Оценка пользователей')\n",
        "    plt.ylabel('Оценка критиков')\n",
        "    plt.show()"
      ],
      "execution_count": null,
      "outputs": []
    },
    {
      "cell_type": "code",
      "metadata": {
        "id": "zyLGiZwzMSTO"
      },
      "source": [
        "top_platform_report.dropna().pivot_table(index='platform', aggfunc='corr')"
      ],
      "execution_count": null,
      "outputs": []
    },
    {
      "cell_type": "markdown",
      "metadata": {
        "id": "RnyFjyNlMSTO"
      },
      "source": [
        "\n",
        "Результаты на платформах приктически одинковы. Еслть лишь одно заметное отличие, коэффицент корреляции суммы продаж от пользовательских оценок для платформы 3DS, выше чем на других платформах. "
      ]
    },
    {
      "cell_type": "markdown",
      "metadata": {
        "id": "7WpHRcc1MSTP"
      },
      "source": [
        "#### Оценим общее распределение игр по жанрам"
      ]
    },
    {
      "cell_type": "code",
      "metadata": {
        "id": "ae3EJQJlMSTS"
      },
      "source": [
        "genre_reserch = report_true.pivot_table(index='genre', values='sum_sales', aggfunc=('count', 'sum'))"
      ],
      "execution_count": null,
      "outputs": []
    },
    {
      "cell_type": "code",
      "metadata": {
        "id": "n3jgc26WMSTS"
      },
      "source": [
        "genre_reserch.sort_values(by='count', ascending=False)"
      ],
      "execution_count": null,
      "outputs": []
    },
    {
      "cell_type": "code",
      "metadata": {
        "id": "cwBL9ym9MSTS"
      },
      "source": [
        "genre_reserch.sort_values(by='sum', ascending=False)"
      ],
      "execution_count": null,
      "outputs": []
    },
    {
      "cell_type": "markdown",
      "metadata": {
        "id": "v-kb9pVsMSTT"
      },
      "source": [
        "**ТОП - 4 жанра:**\n",
        "- **Жанр Action** - лидирует по количеству релизов и продажам.  \n",
        "- **Жанр Shooter** - по продажам на втором месте, но уступает в количесвте релизов жанрам **Role-Playing, Adventure, Sports**.\n",
        "- **Жанр Role-Playing** - по продажам на третьем месте, а по количеству релизов на втором.  \n",
        "- **Жанр Sports** - по продажам и релизам на четвертом месте.    \n",
        "\n"
      ]
    },
    {
      "cell_type": "code",
      "metadata": {
        "id": "XWAIitVoMSTU"
      },
      "source": [
        "genre_reserch['count'].sort_values(ascending=False).plot(kind='bar');\n",
        "plt.xlabel('Жанр')\n",
        "plt.ylabel('Количество релизов')\n",
        "plt.show()"
      ],
      "execution_count": null,
      "outputs": []
    },
    {
      "cell_type": "code",
      "metadata": {
        "id": "221cUUP0MSTV"
      },
      "source": [
        "genre_reserch['sum'].sort_values(ascending=False).plot(kind='bar');\n",
        "plt.xlabel('Жанр')\n",
        "plt.ylabel('Сумма продаж')\n",
        "plt.show()"
      ],
      "execution_count": null,
      "outputs": []
    },
    {
      "cell_type": "markdown",
      "metadata": {
        "id": "lJ57AwMaMSTV"
      },
      "source": [
        "#### Выводы"
      ]
    },
    {
      "cell_type": "markdown",
      "metadata": {
        "id": "Dq5qvOvzMSTV"
      },
      "source": [
        "В 1994 год количество выпущенных игр за год перевалило за 100 релизов и росло с каждым годом до 2009 года включительно. С 2010 количество выпущенных игр падает с каждым годом.  \n",
        "\n",
        "В среднем жизненный цикл игровых платформ составляет **6 лет**.  Для анализа были взяты данные за период с 2012 года по 2016, т.к. прогноз составляется на 2017.    \n",
        "Количество выпущенных новых игр **увеличивается только на двух платформах PS4 и XOne**, на остальных платформах наблюдается снижение продаж.\n",
        "\n",
        "На платформах **PS3, X360, XOne, 3DS** в среднем продается около **40 млн** копий игр в год.  \n",
        "Платформа **PS4 получилась очень удачной** по сравнению с PS3, средние продажи по ней в год составляют более **80 млн** копий.  \n",
        "\n",
        "Сумма продаж в большей степени коррелируется с оценками критиков, чем пользователей.  \n",
        "\n",
        "Пользователи и критики оценивают игры в целом одинаково. **Средняя оценка критиков 70, пользователей 6,5**.  \n",
        "Средний рейтинг критиков на все платформах из ТОП-5 примерно одинаковый и равен **70.**\n",
        "Средняя оценка пользователей находится в пределах от **6.4 до 6,8** для четырех платформ (PS3, PS4, X360, XOne).\n",
        "Для платформы 3DS среднее значение оценок пользователей выше и равна **7,2**.  \n",
        "\n",
        "**ТОП - 4 жанра:**\n",
        "\n",
        "- **Жанр Action** - лидирует по количеству релизов и продажам.  \n",
        "- **Жанр Shooter** - по продажам на втором месте, но уступает в количесвте релизов жанрам Role-Playing, Adventure, Sports.\n",
        "- **Жанр Role-Playing** - по продажам на третьем месте, а по количеству релизов на втором.\n",
        "- **Жанр Sports** - по продажам и релизам на четвертом месте.\n"
      ]
    },
    {
      "cell_type": "markdown",
      "metadata": {
        "id": "VUvdE7HRMSTW"
      },
      "source": [
        "## Шаг 4. Составьте портрет пользователя каждого региона"
      ]
    },
    {
      "cell_type": "markdown",
      "metadata": {
        "id": "DMbaFuBqMSTW"
      },
      "source": [
        "#### Определим для пользователя каждого региона (NA, EU, JP) самые популярные платформы (топ-5). "
      ]
    },
    {
      "cell_type": "code",
      "metadata": {
        "id": "6GtiXRLhMSTW"
      },
      "source": [
        "report_true_user = report_true.groupby('platform')"
      ],
      "execution_count": null,
      "outputs": []
    },
    {
      "cell_type": "code",
      "metadata": {
        "id": "i1GFAEfUMSTX"
      },
      "source": [
        "report_true_user_proba = report_true_user['na_sales', 'eu_sales', 'jp_sales'].sum()"
      ],
      "execution_count": null,
      "outputs": []
    },
    {
      "cell_type": "markdown",
      "metadata": {
        "id": "I7rzzw4YMSTX"
      },
      "source": [
        "Вычислим доли продаж для каждой платформы по регионам, максимальные значения выделим зеленым цветом:"
      ]
    },
    {
      "cell_type": "code",
      "metadata": {
        "id": "o8tLPRWcMSTX",
        "outputId": "7526341f-73a7-4733-b50a-ae61620f8ce3"
      },
      "source": [
        "(report_true_user_proba.div(report_true_user_proba.sum(axis=0), axis=1)\n",
        ".style\n",
        ".highlight_max(color='yellowgreen')\n",
        ")"
      ],
      "execution_count": null,
      "outputs": [
        {
          "output_type": "execute_result",
          "data": {
            "text/html": [
              "<style  type=\"text/css\" >\n",
              "    #T_93464a12_1e8c_11eb_b3e0_02420a394fa0row0_col2 {\n",
              "            background-color:  yellowgreen;\n",
              "        }    #T_93464a12_1e8c_11eb_b3e0_02420a394fa0row4_col1 {\n",
              "            background-color:  yellowgreen;\n",
              "        }    #T_93464a12_1e8c_11eb_b3e0_02420a394fa0row9_col0 {\n",
              "            background-color:  yellowgreen;\n",
              "        }</style><table id=\"T_93464a12_1e8c_11eb_b3e0_02420a394fa0\" ><thead>    <tr>        <th class=\"blank level0\" ></th>        <th class=\"col_heading level0 col0\" >na_sales</th>        <th class=\"col_heading level0 col1\" >eu_sales</th>        <th class=\"col_heading level0 col2\" >jp_sales</th>    </tr>    <tr>        <th class=\"index_name level0\" >platform</th>        <th class=\"blank\" ></th>        <th class=\"blank\" ></th>        <th class=\"blank\" ></th>    </tr></thead><tbody>\n",
              "                <tr>\n",
              "                        <th id=\"T_93464a12_1e8c_11eb_b3e0_02420a394fa0level0_row0\" class=\"row_heading level0 row0\" >3DS</th>\n",
              "                        <td id=\"T_93464a12_1e8c_11eb_b3e0_02420a394fa0row0_col0\" class=\"data row0 col0\" >0.0935919</td>\n",
              "                        <td id=\"T_93464a12_1e8c_11eb_b3e0_02420a394fa0row0_col1\" class=\"data row0 col1\" >0.0841324</td>\n",
              "                        <td id=\"T_93464a12_1e8c_11eb_b3e0_02420a394fa0row0_col2\" class=\"data row0 col2\" >0.455862</td>\n",
              "            </tr>\n",
              "            <tr>\n",
              "                        <th id=\"T_93464a12_1e8c_11eb_b3e0_02420a394fa0level0_row1\" class=\"row_heading level0 row1\" >DS</th>\n",
              "                        <td id=\"T_93464a12_1e8c_11eb_b3e0_02420a394fa0row1_col0\" class=\"data row1 col0\" >0.00776689</td>\n",
              "                        <td id=\"T_93464a12_1e8c_11eb_b3e0_02420a394fa0row1_col1\" class=\"data row1 col1\" >0.006965</td>\n",
              "                        <td id=\"T_93464a12_1e8c_11eb_b3e0_02420a394fa0row1_col2\" class=\"data row1 col2\" >0.0193166</td>\n",
              "            </tr>\n",
              "            <tr>\n",
              "                        <th id=\"T_93464a12_1e8c_11eb_b3e0_02420a394fa0level0_row2\" class=\"row_heading level0 row2\" >PC</th>\n",
              "                        <td id=\"T_93464a12_1e8c_11eb_b3e0_02420a394fa0row2_col0\" class=\"data row2 col0\" >0.0323536</td>\n",
              "                        <td id=\"T_93464a12_1e8c_11eb_b3e0_02420a394fa0row2_col1\" class=\"data row2 col1\" >0.0745038</td>\n",
              "                        <td id=\"T_93464a12_1e8c_11eb_b3e0_02420a394fa0row2_col2\" class=\"data row2 col2\" >0</td>\n",
              "            </tr>\n",
              "            <tr>\n",
              "                        <th id=\"T_93464a12_1e8c_11eb_b3e0_02420a394fa0level0_row3\" class=\"row_heading level0 row3\" >PS3</th>\n",
              "                        <td id=\"T_93464a12_1e8c_11eb_b3e0_02420a394fa0row3_col0\" class=\"data row3 col0\" >0.174933</td>\n",
              "                        <td id=\"T_93464a12_1e8c_11eb_b3e0_02420a394fa0row3_col1\" class=\"data row3 col1\" >0.210844</td>\n",
              "                        <td id=\"T_93464a12_1e8c_11eb_b3e0_02420a394fa0row3_col2\" class=\"data row3 col2\" >0.183249</td>\n",
              "            </tr>\n",
              "            <tr>\n",
              "                        <th id=\"T_93464a12_1e8c_11eb_b3e0_02420a394fa0level0_row4\" class=\"row_heading level0 row4\" >PS4</th>\n",
              "                        <td id=\"T_93464a12_1e8c_11eb_b3e0_02420a394fa0row4_col0\" class=\"data row4 col0\" >0.184003</td>\n",
              "                        <td id=\"T_93464a12_1e8c_11eb_b3e0_02420a394fa0row4_col1\" class=\"data row4 col1\" >0.278383</td>\n",
              "                        <td id=\"T_93464a12_1e8c_11eb_b3e0_02420a394fa0row4_col2\" class=\"data row4 col2\" >0.0828746</td>\n",
              "            </tr>\n",
              "            <tr>\n",
              "                        <th id=\"T_93464a12_1e8c_11eb_b3e0_02420a394fa0level0_row5\" class=\"row_heading level0 row5\" >PSP</th>\n",
              "                        <td id=\"T_93464a12_1e8c_11eb_b3e0_02420a394fa0row5_col0\" class=\"data row5 col0\" >0.000219977</td>\n",
              "                        <td id=\"T_93464a12_1e8c_11eb_b3e0_02420a394fa0row5_col1\" class=\"data row5 col1\" >0.000828697</td>\n",
              "                        <td id=\"T_93464a12_1e8c_11eb_b3e0_02420a394fa0row5_col2\" class=\"data row5 col2\" >0.054367</td>\n",
              "            </tr>\n",
              "            <tr>\n",
              "                        <th id=\"T_93464a12_1e8c_11eb_b3e0_02420a394fa0level0_row6\" class=\"row_heading level0 row6\" >PSV</th>\n",
              "                        <td id=\"T_93464a12_1e8c_11eb_b3e0_02420a394fa0row6_col0\" class=\"data row6 col0\" >0.0185796</td>\n",
              "                        <td id=\"T_93464a12_1e8c_11eb_b3e0_02420a394fa0row6_col1\" class=\"data row6 col1\" >0.0224143</td>\n",
              "                        <td id=\"T_93464a12_1e8c_11eb_b3e0_02420a394fa0row6_col2\" class=\"data row6 col2\" >0.109253</td>\n",
              "            </tr>\n",
              "            <tr>\n",
              "                        <th id=\"T_93464a12_1e8c_11eb_b3e0_02420a394fa0level0_row7\" class=\"row_heading level0 row7\" >Wii</th>\n",
              "                        <td id=\"T_93464a12_1e8c_11eb_b3e0_02420a394fa0row7_col0\" class=\"data row7 col0\" >0.0295277</td>\n",
              "                        <td id=\"T_93464a12_1e8c_11eb_b3e0_02420a394fa0row7_col1\" class=\"data row7 col1\" >0.0235192</td>\n",
              "                        <td id=\"T_93464a12_1e8c_11eb_b3e0_02420a394fa0row7_col2\" class=\"data row7 col2\" >0.0176031</td>\n",
              "            </tr>\n",
              "            <tr>\n",
              "                        <th id=\"T_93464a12_1e8c_11eb_b3e0_02420a394fa0level0_row8\" class=\"row_heading level0 row8\" >WiiU</th>\n",
              "                        <td id=\"T_93464a12_1e8c_11eb_b3e0_02420a394fa0row8_col0\" class=\"data row8 col0\" >0.0644703</td>\n",
              "                        <td id=\"T_93464a12_1e8c_11eb_b3e0_02420a394fa0row8_col1\" class=\"data row8 col1\" >0.0495837</td>\n",
              "                        <td id=\"T_93464a12_1e8c_11eb_b3e0_02420a394fa0row8_col2\" class=\"data row8 col2\" >0.0675563</td>\n",
              "            </tr>\n",
              "            <tr>\n",
              "                        <th id=\"T_93464a12_1e8c_11eb_b3e0_02420a394fa0level0_row9\" class=\"row_heading level0 row9\" >X360</th>\n",
              "                        <td id=\"T_93464a12_1e8c_11eb_b3e0_02420a394fa0row9_col0\" class=\"data row9 col0\" >0.236983</td>\n",
              "                        <td id=\"T_93464a12_1e8c_11eb_b3e0_02420a394fa0row9_col1\" class=\"data row9 col1\" >0.147034</td>\n",
              "                        <td id=\"T_93464a12_1e8c_11eb_b3e0_02420a394fa0row9_col2\" class=\"data row9 col2\" >0.00815246</td>\n",
              "            </tr>\n",
              "            <tr>\n",
              "                        <th id=\"T_93464a12_1e8c_11eb_b3e0_02420a394fa0level0_row10\" class=\"row_heading level0 row10\" >XOne</th>\n",
              "                        <td id=\"T_93464a12_1e8c_11eb_b3e0_02420a394fa0row10_col0\" class=\"data row10 col0\" >0.157571</td>\n",
              "                        <td id=\"T_93464a12_1e8c_11eb_b3e0_02420a394fa0row10_col1\" class=\"data row10 col1\" >0.101792</td>\n",
              "                        <td id=\"T_93464a12_1e8c_11eb_b3e0_02420a394fa0row10_col2\" class=\"data row10 col2\" >0.0017655</td>\n",
              "            </tr>\n",
              "    </tbody></table>"
            ],
            "text/plain": [
              "<pandas.io.formats.style.Styler at 0x7fd9a80bdc90>"
            ]
          },
          "metadata": {
            "tags": []
          },
          "execution_count": 122
        }
      ]
    },
    {
      "cell_type": "markdown",
      "metadata": {
        "id": "iMR_ef6gMSTY"
      },
      "source": [
        "Построим и изучим диаграммы распределения продаж по платформам и регионам:"
      ]
    },
    {
      "cell_type": "code",
      "metadata": {
        "id": "YyLKu1kPMSTY",
        "outputId": "950538e4-0542-402b-cefe-5e70b661fbd3"
      },
      "source": [
        "(report_true_user_proba['na_sales']\n",
        " .sort_values(ascending=False)\n",
        " .plot(kind='bar', figsize=(8,8), title='Северная Америка', color='b')\n",
        ")\n",
        "plt.xlabel('Платформы')\n",
        "plt.ylabel('Количество продаж')\n",
        "plt.show()"
      ],
      "execution_count": null,
      "outputs": [
        {
          "output_type": "display_data",
          "data": {
            "image/png": "[encoded data removed]",
            "text/plain": [
              "<Figure size 576x576 with 1 Axes>"
            ]
          },
          "metadata": {
            "tags": [],
            "needs_background": "light"
          }
        }
      ]
    },
    {
      "cell_type": "code",
      "metadata": {
        "id": "OQQffAH4MSTY",
        "outputId": "ef7a7628-9693-4b6f-c7ad-62f58dcd45cd"
      },
      "source": [
        "(report_true_user_proba['eu_sales']\n",
        " .sort_values(ascending=False)\n",
        " .plot(kind='bar', figsize=(8,8), title='Европа', color='y')\n",
        ")\n",
        "plt.xlabel('Платформы')\n",
        "plt.ylabel('Количество продаж')\n",
        "plt.show()"
      ],
      "execution_count": null,
      "outputs": [
        {
          "output_type": "display_data",
          "data": {
            "image/png": "[encoded data removed]",
            "text/plain": [
              "<Figure size 576x576 with 1 Axes>"
            ]
          },
          "metadata": {
            "tags": [],
            "needs_background": "light"
          }
        }
      ]
    },
    {
      "cell_type": "code",
      "metadata": {
        "id": "rTboDBWpMSTZ",
        "outputId": "562aba70-a1e9-43d1-e3a4-5e906b50a052"
      },
      "source": [
        "(report_true_user_proba['jp_sales']\n",
        " .sort_values(ascending=False)\n",
        " .plot(kind='bar', figsize=(8,8), title='Япония', color='g')\n",
        ")\n",
        "plt.xlabel('Платформы')\n",
        "plt.ylabel('Количество продаж')\n",
        "plt.show()"
      ],
      "execution_count": null,
      "outputs": [
        {
          "output_type": "display_data",
          "data": {
            "image/png": "[encoded data removed]",
            "text/plain": [
              "<Figure size 576x576 with 1 Axes>"
            ]
          },
          "metadata": {
            "tags": [],
            "needs_background": "light"
          }
        }
      ]
    },
    {
      "cell_type": "markdown",
      "metadata": {
        "id": "fMdfl1bYMSTZ"
      },
      "source": [
        "**Самые популярные платформы по регионам:**\n",
        "- **Северная Америка** - доля продаж **X360** составляет **23.7%,**\n",
        "- **Европа** - доля продаж **PS4** составляет **27.8%,**\n",
        "- **Япония** - доля продаж **3DS** составляет **45.6%.**"
      ]
    },
    {
      "cell_type": "markdown",
      "metadata": {
        "id": "1am_zl1BMSTZ"
      },
      "source": [
        "#### Определим для пользователя каждого региона (NA, EU, JP) самые популярные жанры (топ-5)."
      ]
    },
    {
      "cell_type": "code",
      "metadata": {
        "id": "oj_u3tyFMSTZ"
      },
      "source": [
        "report_genre = report_true.groupby('genre')"
      ],
      "execution_count": null,
      "outputs": []
    },
    {
      "cell_type": "code",
      "metadata": {
        "id": "HeHUtZrcMSTa"
      },
      "source": [
        "report_genre = report_genre['na_sales', 'eu_sales', 'jp_sales'].sum()"
      ],
      "execution_count": null,
      "outputs": []
    },
    {
      "cell_type": "markdown",
      "metadata": {
        "id": "ZEMqWGhoMSTa"
      },
      "source": [
        "Вычислим доли продаж для каждого жанра по регионам, максимальные значения выделим зеленым цветом:"
      ]
    },
    {
      "cell_type": "code",
      "metadata": {
        "id": "o30ARmc6MSTa",
        "outputId": "088ea7bb-e459-4bf6-c538-25cce1a8092a"
      },
      "source": [
        "(report_genre.div(report_genre.sum(axis=0), axis=1)\n",
        ".style\n",
        ".highlight_max(color='yellowgreen')\n",
        ")"
      ],
      "execution_count": null,
      "outputs": [
        {
          "output_type": "execute_result",
          "data": {
            "text/html": [
              "<style  type=\"text/css\" >\n",
              "    #T_9407dd30_1e8c_11eb_b3e0_02420a394fa0row0_col0 {\n",
              "            background-color:  yellowgreen;\n",
              "        }    #T_9407dd30_1e8c_11eb_b3e0_02420a394fa0row0_col1 {\n",
              "            background-color:  yellowgreen;\n",
              "        }    #T_9407dd30_1e8c_11eb_b3e0_02420a394fa0row7_col2 {\n",
              "            background-color:  yellowgreen;\n",
              "        }</style><table id=\"T_9407dd30_1e8c_11eb_b3e0_02420a394fa0\" ><thead>    <tr>        <th class=\"blank level0\" ></th>        <th class=\"col_heading level0 col0\" >na_sales</th>        <th class=\"col_heading level0 col1\" >eu_sales</th>        <th class=\"col_heading level0 col2\" >jp_sales</th>    </tr>    <tr>        <th class=\"index_name level0\" >genre</th>        <th class=\"blank\" ></th>        <th class=\"blank\" ></th>        <th class=\"blank\" ></th>    </tr></thead><tbody>\n",
              "                <tr>\n",
              "                        <th id=\"T_9407dd30_1e8c_11eb_b3e0_02420a394fa0level0_row0\" class=\"row_heading level0 row0\" >Action</th>\n",
              "                        <td id=\"T_9407dd30_1e8c_11eb_b3e0_02420a394fa0row0_col0\" class=\"data row0 col0\" >0.300929</td>\n",
              "                        <td id=\"T_9407dd30_1e8c_11eb_b3e0_02420a394fa0row0_col1\" class=\"data row0 col1\" >0.314392</td>\n",
              "                        <td id=\"T_9407dd30_1e8c_11eb_b3e0_02420a394fa0row0_col2\" class=\"data row0 col2\" >0.274172</td>\n",
              "            </tr>\n",
              "            <tr>\n",
              "                        <th id=\"T_9407dd30_1e8c_11eb_b3e0_02420a394fa0level0_row1\" class=\"row_heading level0 row1\" >Adventure</th>\n",
              "                        <td id=\"T_9407dd30_1e8c_11eb_b3e0_02420a394fa0row1_col0\" class=\"data row1 col0\" >0.0150938</td>\n",
              "                        <td id=\"T_9407dd30_1e8c_11eb_b3e0_02420a394fa0row1_col1\" class=\"data row1 col1\" >0.0186654</td>\n",
              "                        <td id=\"T_9407dd30_1e8c_11eb_b3e0_02420a394fa0row1_col2\" class=\"data row1 col2\" >0.0427874</td>\n",
              "            </tr>\n",
              "            <tr>\n",
              "                        <th id=\"T_9407dd30_1e8c_11eb_b3e0_02420a394fa0level0_row2\" class=\"row_heading level0 row2\" >Fighting</th>\n",
              "                        <td id=\"T_9407dd30_1e8c_11eb_b3e0_02420a394fa0row2_col0\" class=\"data row2 col0\" >0.0334873</td>\n",
              "                        <td id=\"T_9407dd30_1e8c_11eb_b3e0_02420a394fa0row2_col1\" class=\"data row2 col1\" >0.0212896</td>\n",
              "                        <td id=\"T_9407dd30_1e8c_11eb_b3e0_02420a394fa0row2_col2\" class=\"data row2 col2\" >0.0490186</td>\n",
              "            </tr>\n",
              "            <tr>\n",
              "                        <th id=\"T_9407dd30_1e8c_11eb_b3e0_02420a394fa0level0_row3\" class=\"row_heading level0 row3\" >Misc</th>\n",
              "                        <td id=\"T_9407dd30_1e8c_11eb_b3e0_02420a394fa0row3_col0\" class=\"data row3 col0\" >0.0646226</td>\n",
              "                        <td id=\"T_9407dd30_1e8c_11eb_b3e0_02420a394fa0row3_col1\" class=\"data row3 col1\" >0.0519317</td>\n",
              "                        <td id=\"T_9407dd30_1e8c_11eb_b3e0_02420a394fa0row3_col2\" class=\"data row3 col2\" >0.0667774</td>\n",
              "            </tr>\n",
              "            <tr>\n",
              "                        <th id=\"T_9407dd30_1e8c_11eb_b3e0_02420a394fa0level0_row4\" class=\"row_heading level0 row4\" >Platform</th>\n",
              "                        <td id=\"T_9407dd30_1e8c_11eb_b3e0_02420a394fa0row4_col0\" class=\"data row4 col0\" >0.0429463</td>\n",
              "                        <td id=\"T_9407dd30_1e8c_11eb_b3e0_02420a394fa0row4_col1\" class=\"data row4 col1\" >0.0422438</td>\n",
              "                        <td id=\"T_9407dd30_1e8c_11eb_b3e0_02420a394fa0row4_col2\" class=\"data row4 col2\" >0.0448125</td>\n",
              "            </tr>\n",
              "            <tr>\n",
              "                        <th id=\"T_9407dd30_1e8c_11eb_b3e0_02420a394fa0level0_row5\" class=\"row_heading level0 row5\" >Puzzle</th>\n",
              "                        <td id=\"T_9407dd30_1e8c_11eb_b3e0_02420a394fa0row5_col0\" class=\"data row5 col0\" >0.00191211</td>\n",
              "                        <td id=\"T_9407dd30_1e8c_11eb_b3e0_02420a394fa0row5_col1\" class=\"data row5 col1\" >0.00276232</td>\n",
              "                        <td id=\"T_9407dd30_1e8c_11eb_b3e0_02420a394fa0row5_col2\" class=\"data row5 col2\" >0.0111123</td>\n",
              "            </tr>\n",
              "            <tr>\n",
              "                        <th id=\"T_9407dd30_1e8c_11eb_b3e0_02420a394fa0level0_row6\" class=\"row_heading level0 row6\" >Racing</th>\n",
              "                        <td id=\"T_9407dd30_1e8c_11eb_b3e0_02420a394fa0row6_col0\" class=\"data row6 col0\" >0.0291385</td>\n",
              "                        <td id=\"T_9407dd30_1e8c_11eb_b3e0_02420a394fa0row6_col1\" class=\"data row6 col1\" >0.0538455</td>\n",
              "                        <td id=\"T_9407dd30_1e8c_11eb_b3e0_02420a394fa0row6_col2\" class=\"data row6 col2\" >0.0129816</td>\n",
              "            </tr>\n",
              "            <tr>\n",
              "                        <th id=\"T_9407dd30_1e8c_11eb_b3e0_02420a394fa0level0_row7\" class=\"row_heading level0 row7\" >Role-Playing</th>\n",
              "                        <td id=\"T_9407dd30_1e8c_11eb_b3e0_02420a394fa0row7_col0\" class=\"data row7 col0\" >0.108297</td>\n",
              "                        <td id=\"T_9407dd30_1e8c_11eb_b3e0_02420a394fa0row7_col1\" class=\"data row7 col1\" >0.0957539</td>\n",
              "                        <td id=\"T_9407dd30_1e8c_11eb_b3e0_02420a394fa0row7_col2\" class=\"data row7 col2\" >0.339807</td>\n",
              "            </tr>\n",
              "            <tr>\n",
              "                        <th id=\"T_9407dd30_1e8c_11eb_b3e0_02420a394fa0level0_row8\" class=\"row_heading level0 row8\" >Shooter</th>\n",
              "                        <td id=\"T_9407dd30_1e8c_11eb_b3e0_02420a394fa0row8_col0\" class=\"data row8 col0\" >0.24497</td>\n",
              "                        <td id=\"T_9407dd30_1e8c_11eb_b3e0_02420a394fa0row8_col1\" class=\"data row8 col1\" >0.223886</td>\n",
              "                        <td id=\"T_9407dd30_1e8c_11eb_b3e0_02420a394fa0row8_col2\" class=\"data row8 col2\" >0.0479281</td>\n",
              "            </tr>\n",
              "            <tr>\n",
              "                        <th id=\"T_9407dd30_1e8c_11eb_b3e0_02420a394fa0level0_row9\" class=\"row_heading level0 row9\" >Simulation</th>\n",
              "                        <td id=\"T_9407dd30_1e8c_11eb_b3e0_02420a394fa0row9_col0\" class=\"data row9 col0\" >0.0134863</td>\n",
              "                        <td id=\"T_9407dd30_1e8c_11eb_b3e0_02420a394fa0row9_col1\" class=\"data row9 col1\" >0.0287084</td>\n",
              "                        <td id=\"T_9407dd30_1e8c_11eb_b3e0_02420a394fa0row9_col2\" class=\"data row9 col2\" >0.0540555</td>\n",
              "            </tr>\n",
              "            <tr>\n",
              "                        <th id=\"T_9407dd30_1e8c_11eb_b3e0_02420a394fa0level0_row10\" class=\"row_heading level0 row10\" >Sports</th>\n",
              "                        <td id=\"T_9407dd30_1e8c_11eb_b3e0_02420a394fa0row10_col0\" class=\"data row10 col0\" >0.13796</td>\n",
              "                        <td id=\"T_9407dd30_1e8c_11eb_b3e0_02420a394fa0row10_col1\" class=\"data row10 col1\" >0.136321</td>\n",
              "                        <td id=\"T_9407dd30_1e8c_11eb_b3e0_02420a394fa0row10_col2\" class=\"data row10 col2\" >0.0415931</td>\n",
              "            </tr>\n",
              "            <tr>\n",
              "                        <th id=\"T_9407dd30_1e8c_11eb_b3e0_02420a394fa0level0_row11\" class=\"row_heading level0 row11\" >Strategy</th>\n",
              "                        <td id=\"T_9407dd30_1e8c_11eb_b3e0_02420a394fa0row11_col0\" class=\"data row11 col0\" >0.00715772</td>\n",
              "                        <td id=\"T_9407dd30_1e8c_11eb_b3e0_02420a394fa0row11_col1\" class=\"data row11 col1\" >0.0102009</td>\n",
              "                        <td id=\"T_9407dd30_1e8c_11eb_b3e0_02420a394fa0row11_col2\" class=\"data row11 col2\" >0.0149548</td>\n",
              "            </tr>\n",
              "    </tbody></table>"
            ],
            "text/plain": [
              "<pandas.io.formats.style.Styler at 0x7fd9a81d0910>"
            ]
          },
          "metadata": {
            "tags": []
          },
          "execution_count": 128
        }
      ]
    },
    {
      "cell_type": "markdown",
      "metadata": {
        "id": "zc8g0SJmMSTb"
      },
      "source": [
        "Построим и изучим диаграммы распределения продаж по жанрам и регионам:"
      ]
    },
    {
      "cell_type": "code",
      "metadata": {
        "id": "N3Lc9SWqMSTb",
        "outputId": "23758ca5-47de-435e-b693-96902b6c6099"
      },
      "source": [
        "(report_genre['na_sales']\n",
        " .sort_values(ascending=False)\n",
        " .plot(kind='bar', figsize=(8,8), title='Северная Америка', color='b')\n",
        ")\n",
        "plt.xlabel('Жанры')\n",
        "plt.ylabel('Количество продаж')\n",
        "plt.show()"
      ],
      "execution_count": null,
      "outputs": [
        {
          "output_type": "display_data",
          "data": {
            "image/png": "[encoded data removed]",
            "text/plain": [
              "<Figure size 576x576 with 1 Axes>"
            ]
          },
          "metadata": {
            "tags": [],
            "needs_background": "light"
          }
        }
      ]
    },
    {
      "cell_type": "code",
      "metadata": {
        "id": "Z_jh8_6sMSTb",
        "outputId": "43350992-eda4-4893-ce98-5ad251e8324e"
      },
      "source": [
        "(report_genre['eu_sales']\n",
        " .sort_values(ascending=False)\n",
        " .plot(kind='bar', figsize=(8,8), title='Европа', color='y')\n",
        ")\n",
        "plt.xlabel('Жанры')\n",
        "plt.ylabel('Количество продаж')\n",
        "plt.show()"
      ],
      "execution_count": null,
      "outputs": [
        {
          "output_type": "display_data",
          "data": {
            "image/png": "[encoded data removed]",
            "text/plain": [
              "<Figure size 576x576 with 1 Axes>"
            ]
          },
          "metadata": {
            "tags": [],
            "needs_background": "light"
          }
        }
      ]
    },
    {
      "cell_type": "code",
      "metadata": {
        "id": "acJTlmYTMSTc",
        "outputId": "b6056415-c092-4527-dac0-cc52b1636e62"
      },
      "source": [
        "(report_genre['jp_sales']\n",
        " .sort_values(ascending=False)\n",
        " .plot(kind='bar', figsize=(8,8), title='Япония', color='g')\n",
        ")\n",
        "plt.xlabel('Жанры')\n",
        "plt.ylabel('Количество продаж')\n",
        "plt.show()"
      ],
      "execution_count": null,
      "outputs": [
        {
          "output_type": "display_data",
          "data": {
            "image/png": "[encoded data removed]",
            "text/plain": [
              "<Figure size 576x576 with 1 Axes>"
            ]
          },
          "metadata": {
            "tags": [],
            "needs_background": "light"
          }
        }
      ]
    },
    {
      "cell_type": "markdown",
      "metadata": {
        "id": "qUifWr49MSTc"
      },
      "source": [
        "**Самые популярные жанры по регионам:**\n",
        "\n",
        "**Северная Америка** - доля продаж Action составляет **30%**,\n",
        "**Европа** - доля продаж Action составляет **31.4%**,\n",
        "**Япония** - доля продаж Role-Playing составляет **34%**."
      ]
    },
    {
      "cell_type": "markdown",
      "metadata": {
        "id": "yvblaXEsMSTc"
      },
      "source": [
        "#### Изучим влияние рейтинга ESRB на продажи в отдельном регионе"
      ]
    },
    {
      "cell_type": "code",
      "metadata": {
        "id": "vc6wNlWaMSTc"
      },
      "source": [
        "report_true_esrb = report_true.groupby('rating')"
      ],
      "execution_count": null,
      "outputs": []
    },
    {
      "cell_type": "code",
      "metadata": {
        "id": "9zl3P1pbMSTd",
        "outputId": "ea0b9cd5-cd53-4749-fe2c-6529a1521368"
      },
      "source": [
        "report_true_esrb['rating'].value_counts()"
      ],
      "execution_count": null,
      "outputs": [
        {
          "output_type": "execute_result",
          "data": {
            "text/plain": [
              "rating   rating \n",
              "E        E           395\n",
              "E10+     E10+        306\n",
              "M        M           498\n",
              "T        T           412\n",
              "unknown  unknown    1275\n",
              "Name: rating, dtype: int64"
            ]
          },
          "metadata": {
            "tags": []
          },
          "execution_count": 133
        }
      ]
    },
    {
      "cell_type": "code",
      "metadata": {
        "id": "InQVGCrCMSTd"
      },
      "source": [
        "esrb_rate = report_true_esrb['na_sales', 'eu_sales', 'jp_sales'].sum()"
      ],
      "execution_count": null,
      "outputs": []
    },
    {
      "cell_type": "markdown",
      "metadata": {
        "id": "tV6cVTARMSTd"
      },
      "source": [
        "Вычислим доли продаж для каждого рейтинга по регионам, максимальные значения выделим зеленым цветом:"
      ]
    },
    {
      "cell_type": "code",
      "metadata": {
        "id": "Kfcbz56hMSTd",
        "outputId": "d5f65702-1887-4d09-e1e8-81d6853bfcd0"
      },
      "source": [
        "(esrb_rate\n",
        ".div(esrb_rate.sum(axis=0), axis=1)\n",
        ".style\n",
        ".highlight_max(color='yellowgreen')\n",
        ")"
      ],
      "execution_count": null,
      "outputs": [
        {
          "output_type": "execute_result",
          "data": {
            "text/html": [
              "<style  type=\"text/css\" >\n",
              "    #T_94ed6008_1e8c_11eb_b3e0_02420a394fa0row2_col0 {\n",
              "            background-color:  yellowgreen;\n",
              "        }    #T_94ed6008_1e8c_11eb_b3e0_02420a394fa0row2_col1 {\n",
              "            background-color:  yellowgreen;\n",
              "        }    #T_94ed6008_1e8c_11eb_b3e0_02420a394fa0row4_col2 {\n",
              "            background-color:  yellowgreen;\n",
              "        }</style><table id=\"T_94ed6008_1e8c_11eb_b3e0_02420a394fa0\" ><thead>    <tr>        <th class=\"blank level0\" ></th>        <th class=\"col_heading level0 col0\" >na_sales</th>        <th class=\"col_heading level0 col1\" >eu_sales</th>        <th class=\"col_heading level0 col2\" >jp_sales</th>    </tr>    <tr>        <th class=\"index_name level0\" >rating</th>        <th class=\"blank\" ></th>        <th class=\"blank\" ></th>        <th class=\"blank\" ></th>    </tr></thead><tbody>\n",
              "                <tr>\n",
              "                        <th id=\"T_94ed6008_1e8c_11eb_b3e0_02420a394fa0level0_row0\" class=\"row_heading level0 row0\" >E</th>\n",
              "                        <td id=\"T_94ed6008_1e8c_11eb_b3e0_02420a394fa0row0_col0\" class=\"data row0 col0\" >0.193529</td>\n",
              "                        <td id=\"T_94ed6008_1e8c_11eb_b3e0_02420a394fa0row0_col1\" class=\"data row0 col1\" >0.223018</td>\n",
              "                        <td id=\"T_94ed6008_1e8c_11eb_b3e0_02420a394fa0row0_col2\" class=\"data row0 col2\" >0.147108</td>\n",
              "            </tr>\n",
              "            <tr>\n",
              "                        <th id=\"T_94ed6008_1e8c_11eb_b3e0_02420a394fa0level0_row1\" class=\"row_heading level0 row1\" >E10+</th>\n",
              "                        <td id=\"T_94ed6008_1e8c_11eb_b3e0_02420a394fa0row1_col0\" class=\"data row1 col0\" >0.128094</td>\n",
              "                        <td id=\"T_94ed6008_1e8c_11eb_b3e0_02420a394fa0row1_col1\" class=\"data row1 col1\" >0.10925</td>\n",
              "                        <td id=\"T_94ed6008_1e8c_11eb_b3e0_02420a394fa0row1_col2\" class=\"data row1 col2\" >0.0425278</td>\n",
              "            </tr>\n",
              "            <tr>\n",
              "                        <th id=\"T_94ed6008_1e8c_11eb_b3e0_02420a394fa0level0_row2\" class=\"row_heading level0 row2\" >M</th>\n",
              "                        <td id=\"T_94ed6008_1e8c_11eb_b3e0_02420a394fa0row2_col0\" class=\"data row2 col0\" >0.391847</td>\n",
              "                        <td id=\"T_94ed6008_1e8c_11eb_b3e0_02420a394fa0row2_col1\" class=\"data row2 col1\" >0.3827</td>\n",
              "                        <td id=\"T_94ed6008_1e8c_11eb_b3e0_02420a394fa0row2_col2\" class=\"data row2 col2\" >0.110084</td>\n",
              "            </tr>\n",
              "            <tr>\n",
              "                        <th id=\"T_94ed6008_1e8c_11eb_b3e0_02420a394fa0level0_row3\" class=\"row_heading level0 row3\" >T</th>\n",
              "                        <td id=\"T_94ed6008_1e8c_11eb_b3e0_02420a394fa0row3_col0\" class=\"data row3 col0\" >0.111715</td>\n",
              "                        <td id=\"T_94ed6008_1e8c_11eb_b3e0_02420a394fa0row3_col1\" class=\"data row3 col1\" >0.104495</td>\n",
              "                        <td id=\"T_94ed6008_1e8c_11eb_b3e0_02420a394fa0row3_col2\" class=\"data row3 col2\" >0.135113</td>\n",
              "            </tr>\n",
              "            <tr>\n",
              "                        <th id=\"T_94ed6008_1e8c_11eb_b3e0_02420a394fa0level0_row4\" class=\"row_heading level0 row4\" >unknown</th>\n",
              "                        <td id=\"T_94ed6008_1e8c_11eb_b3e0_02420a394fa0row4_col0\" class=\"data row4 col0\" >0.174814</td>\n",
              "                        <td id=\"T_94ed6008_1e8c_11eb_b3e0_02420a394fa0row4_col1\" class=\"data row4 col1\" >0.180537</td>\n",
              "                        <td id=\"T_94ed6008_1e8c_11eb_b3e0_02420a394fa0row4_col2\" class=\"data row4 col2\" >0.565168</td>\n",
              "            </tr>\n",
              "    </tbody></table>"
            ],
            "text/plain": [
              "<pandas.io.formats.style.Styler at 0x7fd9a827d190>"
            ]
          },
          "metadata": {
            "tags": []
          },
          "execution_count": 135
        }
      ]
    },
    {
      "cell_type": "markdown",
      "metadata": {
        "id": "8mBIRMneMSTe"
      },
      "source": [
        "<div class=\"alert alert-info\" role=\"alert\">\n",
        "Построим и изучим диаграммы:\n",
        "</div>"
      ]
    },
    {
      "cell_type": "code",
      "metadata": {
        "id": "1NHjPMBdMSTe",
        "outputId": "837cca38-8a8d-4d3e-f959-79262eb06ee2"
      },
      "source": [
        "(esrb_rate['na_sales']\n",
        " .sort_values(ascending=False)\n",
        " .plot(kind='bar', figsize=(8,8), title='Северная Америка', color='b')\n",
        ")\n",
        "plt.xlabel('Рейтинг ESRB')\n",
        "plt.ylabel('Количество продаж')\n",
        "plt.show()"
      ],
      "execution_count": null,
      "outputs": [
        {
          "output_type": "display_data",
          "data": {
            "image/png": "[encoded data removed]",
            "text/plain": [
              "<Figure size 576x576 with 1 Axes>"
            ]
          },
          "metadata": {
            "tags": [],
            "needs_background": "light"
          }
        }
      ]
    },
    {
      "cell_type": "code",
      "metadata": {
        "id": "9NnZa1wdMSTe",
        "outputId": "939368c5-3756-4b9a-a017-458769291057"
      },
      "source": [
        "(esrb_rate['eu_sales']\n",
        " .sort_values(ascending=False)\n",
        " .plot(kind='bar', figsize=(8,8), title='Европа', color='y')\n",
        ")\n",
        "plt.xlabel('Рейтинг ESRB')\n",
        "plt.ylabel('Количество продаж')\n",
        "plt.show()"
      ],
      "execution_count": null,
      "outputs": [
        {
          "output_type": "display_data",
          "data": {
            "image/png": "[encoded data removed]",
            "text/plain": [
              "<Figure size 576x576 with 1 Axes>"
            ]
          },
          "metadata": {
            "tags": [],
            "needs_background": "light"
          }
        }
      ]
    },
    {
      "cell_type": "code",
      "metadata": {
        "id": "OtgCw2xEMSTf",
        "outputId": "d3cefd04-7727-4f0f-a897-3d6c1868d8b4"
      },
      "source": [
        "(esrb_rate['jp_sales']\n",
        " .sort_values(ascending=False)\n",
        " .plot(kind='bar', figsize=(8,8), title='Япония', color='g')\n",
        ")\n",
        "plt.xlabel('Рейтинг ESRB')\n",
        "plt.ylabel('Количество продаж')\n",
        "plt.show()"
      ],
      "execution_count": null,
      "outputs": [
        {
          "output_type": "display_data",
          "data": {
            "image/png": "[encoded data removed]",
            "text/plain": [
              "<Figure size 576x576 with 1 Axes>"
            ]
          },
          "metadata": {
            "tags": [],
            "needs_background": "light"
          }
        }
      ]
    },
    {
      "cell_type": "markdown",
      "metadata": {
        "id": "fNIywuJwMSTf"
      },
      "source": [
        "Максимальные продажи в регионах **Северная Америка и Европа** приходятся на возрастной рейтинг **от 17 лет.**  \n",
        "\n",
        "В регионе **Япония** - основные продажи приходятся на видеоигры с пропущенными значениями рейтинга."
      ]
    },
    {
      "cell_type": "markdown",
      "metadata": {
        "id": "JSoRq01NMSTg"
      },
      "source": [
        "### Вывод"
      ]
    },
    {
      "cell_type": "markdown",
      "metadata": {
        "id": "Pzcsd13LMSTg"
      },
      "source": [
        "**Самые популярные платформы по регионам:**\n",
        "- **Северная Америка** - доля продаж **X360** составляет **23.7%,**\n",
        "- **Европа** - доля продаж **PS4** составляет **27.8%,**\n",
        "- **Япония** - доля продаж **3DS** составляет **45.6%.**  \n",
        "\n",
        "**Самые популярные жанры по регионам:**\n",
        "\n",
        "- **Северная Америка** - доля продаж **Action** составляет **30%**,\n",
        "- **Европа** - доля продаж **Action** составляет **31.4%**,\n",
        "- **Япония** - доля продаж **Role-Playing** составляет **34%**.\n",
        "\n",
        "Максимальные продажи в регионах **Северная Америка и Европа** приходятся на возрастной рейтинг **от 17 лет.**  \n",
        "\n",
        "В регионе **Япония** - основные продажи приходятся на видеоигры с пропущенными значениями рейтинга. Это может быть связано с тем, что игры не проходили международную классификацию по рейтингу ESRB."
      ]
    },
    {
      "cell_type": "markdown",
      "metadata": {
        "id": "oRUH9DtBMSTg"
      },
      "source": [
        "## Шаг 5. Проверьте гипотезы"
      ]
    },
    {
      "cell_type": "markdown",
      "metadata": {
        "id": "wjplayUVMSTh"
      },
      "source": [
        "- Средние пользовательские рейтинги платформ Xbox One и PC одинаковые;  \n",
        "- Средние пользовательские рейтинги жанров Action (англ. «действие», экшен-игры) и Sports (англ. «спортивные соревнования») разные.  \n",
        "Задайте самостоятельно пороговое значение alpha.  \n",
        "Поясните:  \n",
        "- Как вы сформулировали нулевую и альтернативную гипотезы;  \n",
        "- Какой критерий применили для проверки гипотез и почему."
      ]
    },
    {
      "cell_type": "markdown",
      "metadata": {
        "id": "Fkkgs0wcMSTh"
      },
      "source": [
        "#### Гипотеза №1. Средние пользовательские рейтинги платформ Xbox One и PC одинаковые"
      ]
    },
    {
      "cell_type": "markdown",
      "metadata": {
        "id": "YAitNwe8MSTh"
      },
      "source": [
        "Сделаем срезы для выделения платформ Xbox One и PC:"
      ]
    },
    {
      "cell_type": "code",
      "metadata": {
        "id": "CzWEcmAuMSTh"
      },
      "source": [
        "x_one_test = report_true[report_true['platform'] == 'XOne']['user_score'].dropna()"
      ],
      "execution_count": null,
      "outputs": []
    },
    {
      "cell_type": "code",
      "metadata": {
        "id": "OqHFRHh0MSTi"
      },
      "source": [
        "pc_test = report_true[report_true['platform'] == 'PC']['user_score'].dropna()"
      ],
      "execution_count": null,
      "outputs": []
    },
    {
      "cell_type": "markdown",
      "metadata": {
        "id": "TekoZ2r5MSTi"
      },
      "source": [
        "Рассчитаем дисперсию для установки верного параметра ***equal_var*** при проведении теста:"
      ]
    },
    {
      "cell_type": "code",
      "metadata": {
        "id": "OQF9xsBtMSTi"
      },
      "source": [
        "var_x_one_test = np.var(x_one_test)"
      ],
      "execution_count": null,
      "outputs": []
    },
    {
      "cell_type": "code",
      "metadata": {
        "id": "mRfrdiYZMSTi"
      },
      "source": [
        "var_pc_test = np.var(pc_test)"
      ],
      "execution_count": null,
      "outputs": []
    },
    {
      "cell_type": "code",
      "metadata": {
        "id": "IQG8Rgb2MSTj",
        "outputId": "a5bff3da-e6d2-4d11-a6b1-129e43571a28"
      },
      "source": [
        "(var_x_one_test, var_pc_test)"
      ],
      "execution_count": null,
      "outputs": [
        {
          "output_type": "execute_result",
          "data": {
            "text/plain": [
              "(1.8965188383045526, 2.7569952398906588)"
            ]
          },
          "metadata": {
            "tags": []
          },
          "execution_count": 143
        }
      ]
    },
    {
      "cell_type": "code",
      "metadata": {
        "id": "Tyx1P2PxMSTj",
        "outputId": "1e112e0d-447b-4838-e59c-e8f2f9fed758"
      },
      "source": [
        "if (abs((var_x_one_test/var_pc_test)-1) < 0.05):\n",
        "    print('equal_var = True')\n",
        "else:\n",
        "    print('equal_var = False')"
      ],
      "execution_count": null,
      "outputs": [
        {
          "output_type": "stream",
          "text": [
            "equal_var = False\n"
          ],
          "name": "stdout"
        }
      ]
    },
    {
      "cell_type": "markdown",
      "metadata": {
        "id": "vIIZSpPoMSTj"
      },
      "source": [
        "Дисперсии выборок отличаются больше, чем на 5% следовательно параметр ***equal_var = False.***"
      ]
    },
    {
      "cell_type": "markdown",
      "metadata": {
        "id": "1bU5ZUfgMSTk"
      },
      "source": [
        "Проведем T-тест, и вычисилим вероятность того, что средние пользовательские рейтинги платформ Xbox One и PC одинаковые"
      ]
    },
    {
      "cell_type": "code",
      "metadata": {
        "id": "w3dJU97DMSTk",
        "outputId": "42c15982-9071-40b2-bbdd-1aa3746db2e0"
      },
      "source": [
        "alpha = 0.05 # критический уровень статистической значимости\n",
        "            # если p-value окажется меньше него - отвергнем гипотезу\n",
        "\n",
        "results = st.ttest_ind(\n",
        "    x_one_test, \n",
        "    pc_test, equal_var = False)\n",
        "\n",
        "print('p-значение: {}'.format(results.pvalue))"
      ],
      "execution_count": null,
      "outputs": [
        {
          "output_type": "stream",
          "text": [
            "p-значение: 0.5489537965134912\n"
          ],
          "name": "stdout"
        }
      ]
    },
    {
      "cell_type": "code",
      "metadata": {
        "id": "2MIaMmmlMSTk",
        "outputId": "99507762-ef2e-4b9d-f9ff-30e7a861a22d"
      },
      "source": [
        "if (results.pvalue < alpha):\n",
        "    print(\"Отвергаем нулевую гипотезу\")\n",
        "else:\n",
        "    print(\"Не получилось отвергнуть нулевую гипотезу\") "
      ],
      "execution_count": null,
      "outputs": [
        {
          "output_type": "stream",
          "text": [
            "Не получилось отвергнуть нулевую гипотезу\n"
          ],
          "name": "stdout"
        }
      ]
    },
    {
      "cell_type": "markdown",
      "metadata": {
        "id": "CoJsgTQFMSTk"
      },
      "source": [
        "В этом эксперименте мы не смогли отвергнуть нулевую гипотезу о равенстве двух выборок, т.к. p-value находится в рамках доверительного интервала. Следовательно можно сказать, что средние пользовательские рейтинги платформ Xbox One и PC - вероятней одинаковы."
      ]
    },
    {
      "cell_type": "code",
      "metadata": {
        "id": "SAdmrxTRMSTl",
        "outputId": "9233e0d4-104a-40ac-d82f-5f95f71c683c"
      },
      "source": [
        "print('Средние пользовательские рейтинги платформ Xbox One {:.2f}'.format(x_one_test.mean()))\n",
        "print('Средние пользовательские рейтинги платформ PC {:.2f}'.format(pc_test.mean()))"
      ],
      "execution_count": null,
      "outputs": [
        {
          "output_type": "stream",
          "text": [
            "Средние пользовательские рейтинги платформ Xbox One 6.52\n",
            "Средние пользовательские рейтинги платформ PC 6.43\n"
          ],
          "name": "stdout"
        }
      ]
    },
    {
      "cell_type": "markdown",
      "metadata": {
        "id": "Gf4OLNHMMSTl"
      },
      "source": [
        "Посмотрим на гистограммы пользовательских рейтингов платформ Xbox One и PC:"
      ]
    },
    {
      "cell_type": "code",
      "metadata": {
        "id": "87sfllbIMSTl"
      },
      "source": [
        "test = (report_true\n",
        "        .query('platform == \"XOne\" or platform == \"PC\"')\n",
        "        .groupby('platform')\n",
        ")"
      ],
      "execution_count": null,
      "outputs": []
    },
    {
      "cell_type": "code",
      "metadata": {
        "id": "RWBRuyhzMSTm",
        "outputId": "f21bdd8a-d1ce-4e98-9a85-c620c4824f0d"
      },
      "source": [
        "test['user_score'].plot(kind='hist', bins=10, alpha=0.5, grid=True, title='Гистограмма пользовательских рейтингов', legend=True)\n",
        "plt.xlabel('Рейтинг')\n",
        "plt.ylabel('Количество')\n",
        "plt.show()"
      ],
      "execution_count": null,
      "outputs": [
        {
          "output_type": "display_data",
          "data": {
            "image/png": "[encoded data removed]",
            "text/plain": [
              "<Figure size 432x288 with 1 Axes>"
            ]
          },
          "metadata": {
            "tags": [],
            "needs_background": "light"
          }
        }
      ]
    },
    {
      "cell_type": "markdown",
      "metadata": {
        "id": "bUZ6D41jMSTm"
      },
      "source": [
        "Действительно, распределение значений пользовательских рейтингов платформ Xbox One и PC очень похожи."
      ]
    },
    {
      "cell_type": "markdown",
      "metadata": {
        "id": "xTTaqExhMSTn"
      },
      "source": [
        "#### Гипотеза №2. Средние пользовательские рейтинги жанров Action и Sports разные"
      ]
    },
    {
      "cell_type": "markdown",
      "metadata": {
        "id": "P2iXHJP0MSTn"
      },
      "source": [
        "Сделаем срезы для выделения пользовательских рейтингов жанров Action и Sports:"
      ]
    },
    {
      "cell_type": "code",
      "metadata": {
        "id": "10SwhXhqMSTn"
      },
      "source": [
        "action_test = report_true[report_true['genre'] == 'Action']['user_score'].dropna()"
      ],
      "execution_count": null,
      "outputs": []
    },
    {
      "cell_type": "code",
      "metadata": {
        "id": "3TL1K2V1MSTo"
      },
      "source": [
        "sports_test = report_true[report_true['genre'] == 'Sports']['user_score'].dropna()"
      ],
      "execution_count": null,
      "outputs": []
    },
    {
      "cell_type": "markdown",
      "metadata": {
        "id": "ygUi8X5sMSTo"
      },
      "source": [
        "Как и в первой гипотезе, рассчитаем дисперсию для установки верного параметра ***equal_var*** при проведении теста:"
      ]
    },
    {
      "cell_type": "code",
      "metadata": {
        "id": "9Cazrum7MSTo"
      },
      "source": [
        "var_action_test = np.var(action_test)"
      ],
      "execution_count": null,
      "outputs": []
    },
    {
      "cell_type": "code",
      "metadata": {
        "id": "0tp58qMeMSTo"
      },
      "source": [
        "var_sports_test = np.var(sports_test)"
      ],
      "execution_count": null,
      "outputs": []
    },
    {
      "cell_type": "code",
      "metadata": {
        "id": "GmvcjE3eMSTo",
        "outputId": "5237f2be-cad2-450f-a498-4341e4963502"
      },
      "source": [
        "(var_action_test, var_sports_test)"
      ],
      "execution_count": null,
      "outputs": [
        {
          "output_type": "execute_result",
          "data": {
            "text/plain": [
              "(1.8854720340439224, 3.0073882971729127)"
            ]
          },
          "metadata": {
            "tags": []
          },
          "execution_count": 154
        }
      ]
    },
    {
      "cell_type": "code",
      "metadata": {
        "id": "jvqWHepDMSTp",
        "outputId": "1e692e65-91d4-4218-f10e-4dfc73f18ea4"
      },
      "source": [
        "if (abs((var_action_test/var_sports_test)-1) < 0.05):\n",
        "    print('equal_var = True')\n",
        "else:\n",
        "    print('equal_var = False')"
      ],
      "execution_count": null,
      "outputs": [
        {
          "output_type": "stream",
          "text": [
            "equal_var = False\n"
          ],
          "name": "stdout"
        }
      ]
    },
    {
      "cell_type": "markdown",
      "metadata": {
        "id": "XfxZgxq3MSTp"
      },
      "source": [
        "Дисперсии выборок отличаются больше, чем на 5% следовательно параметр ***equal_var = False.***\n",
        "\n",
        "Проведем T-тест, и вычисилим вероятность того, что cредние пользовательские рейтинги жанров Action и Sports разные:"
      ]
    },
    {
      "cell_type": "code",
      "metadata": {
        "id": "WuBz0V3nMSTq",
        "outputId": "03756e57-5fb7-4086-b427-e5dcaceead64"
      },
      "source": [
        "alpha = 0.05 # критический уровень статистической значимости\n",
        "            # если p-value окажется меньше него - отвергнем гипотезу\n",
        "\n",
        "results = st.ttest_ind(\n",
        "    action_test, \n",
        "    sports_test, equal_var = False)\n",
        "\n",
        "print('p-значение: {}'.format(results.pvalue))"
      ],
      "execution_count": null,
      "outputs": [
        {
          "output_type": "stream",
          "text": [
            "p-значение: 4.24307776572644e-20\n"
          ],
          "name": "stdout"
        }
      ]
    },
    {
      "cell_type": "code",
      "metadata": {
        "id": "XhX4_f97MSTq",
        "outputId": "2a56eeae-4c00-4c4a-c099-088fde216890"
      },
      "source": [
        "if (results.pvalue < alpha):\n",
        "    print(\"Отвергаем нулевую гипотезу\")\n",
        "else:\n",
        "    print(\"Не получилось отвергнуть нулевую гипотезу\") "
      ],
      "execution_count": null,
      "outputs": [
        {
          "output_type": "stream",
          "text": [
            "Отвергаем нулевую гипотезу\n"
          ],
          "name": "stdout"
        }
      ]
    },
    {
      "cell_type": "markdown",
      "metadata": {
        "id": "5JmcB7vGMSTq"
      },
      "source": [
        "В этом эксперименте мы с уверенность можем отвергнуть нулевую гипотезу о равенстве двух выборок, т.к. p-value находится за пределами критического уровеня статистической значимости. Следовательно можно сказать, что средние пользовательские рейтинги жанров Action и Sports  - разные."
      ]
    },
    {
      "cell_type": "code",
      "metadata": {
        "id": "srUJuNu0MSTr",
        "outputId": "5682fee6-2499-42d7-9b71-e7ea72c848fe"
      },
      "source": [
        "print('Средние пользовательские рейтинги жанров Action {:.2f}'.format(action_test.mean()))\n",
        "print('Средние пользовательские рейтинги жанров Sports {:.2f}'.format(sports_test.mean()))"
      ],
      "execution_count": null,
      "outputs": [
        {
          "output_type": "stream",
          "text": [
            "Средние пользовательские рейтинги жанров Action 6.83\n",
            "Средние пользовательские рейтинги жанров Sports 5.46\n"
          ],
          "name": "stdout"
        }
      ]
    },
    {
      "cell_type": "code",
      "metadata": {
        "id": "5oYPcjAoMSTr"
      },
      "source": [
        "test2 = (report_true\n",
        "        .query('genre == \"Action\" or genre == \"Sports\"')\n",
        "        .groupby('genre')\n",
        ")"
      ],
      "execution_count": null,
      "outputs": []
    },
    {
      "cell_type": "markdown",
      "metadata": {
        "id": "jh3U2CVLMSTr"
      },
      "source": [
        "Посмотрим на гистограммы пользовательских рейтингов жанров Action и Sports:"
      ]
    },
    {
      "cell_type": "code",
      "metadata": {
        "id": "mK25X4SsMSTr",
        "outputId": "eede2fd3-df54-48f0-d9ef-92188141859f"
      },
      "source": [
        "test2['user_score'].plot(kind='hist', bins=10, alpha=0.5, grid=True, title='Гистограмма', legend=True)\n",
        "plt.xlabel('Рейтинг')\n",
        "plt.ylabel('Количество')\n",
        "plt.show()"
      ],
      "execution_count": null,
      "outputs": [
        {
          "output_type": "display_data",
          "data": {
            "image/png": "[encoded data removed]",
            "text/plain": [
              "<Figure size 432x288 with 1 Axes>"
            ]
          },
          "metadata": {
            "tags": [],
            "needs_background": "light"
          }
        }
      ]
    },
    {
      "cell_type": "markdown",
      "metadata": {
        "id": "R1WrNctRMSTs"
      },
      "source": [
        "Как видно на гистограмме пользовательских рейтингов жанров Action и Sports отличаются. В жанре Action пользователи ставят больше высоких оценок, чем в жанре Sports."
      ]
    },
    {
      "cell_type": "markdown",
      "metadata": {
        "id": "nEN9UABEMSTs"
      },
      "source": [
        "#### Формулировки нулевой и альтернативной гипотезы:"
      ]
    },
    {
      "cell_type": "markdown",
      "metadata": {
        "id": "-6jJYabVMSTt"
      },
      "source": [
        "##### Формулировки гипотезы №1"
      ]
    },
    {
      "cell_type": "markdown",
      "metadata": {
        "id": "ZlAxhNo4MSTu"
      },
      "source": [
        "H0 - Средние пользовательские рейтинги платформ Xbox One и PC ***одинаковы***\n",
        "\n",
        "Н1 - Средние пользовательские рейтинги платформ Xbox One и PC ***различны***"
      ]
    },
    {
      "cell_type": "markdown",
      "metadata": {
        "id": "MJ3gWGc9MSTv"
      },
      "source": [
        "##### Формулировки гипотезы №2"
      ]
    },
    {
      "cell_type": "markdown",
      "metadata": {
        "id": "kDhi7BqmMSTv"
      },
      "source": [
        "H0 - Средние пользовательские рейтинги жанров Action и Sports ***одинаковы***\n",
        "\n",
        "Н1 - Средние пользовательские рейтинги жанров Action и Sports ***различны***"
      ]
    },
    {
      "cell_type": "markdown",
      "metadata": {
        "id": "kHFJBu40MSTv"
      },
      "source": [
        "#### Какой критерий применили для проверки гипотез и почему"
      ]
    },
    {
      "cell_type": "markdown",
      "metadata": {
        "id": "laMWA1vSMSTv"
      },
      "source": [
        "В данных экспериментах мы использовали T-критерий Стьюдента для количественной оценки разницы между средним двух независимых выборок данных."
      ]
    },
    {
      "cell_type": "markdown",
      "metadata": {
        "id": "vhOC-2N2MSTw"
      },
      "source": [
        "## Шаг 6. Напишите общий вывод"
      ]
    },
    {
      "cell_type": "markdown",
      "metadata": {
        "id": "unf56JakMSTy"
      },
      "source": [
        "Для анализа предоставлена одна таблица состоящая из 16715 строк и 11 колонок.\n",
        "\n",
        "Присутствуют пропуски в 5 столбцах: Name, Year_of_Release, Genre, Critic_Score, User_Score, Rating.\n",
        "\n",
        "Дубликаты отсутствуют.  \n",
        "\n",
        "**Возможные причины появления пропусков:**\n",
        "\n",
        "- отсутствие или недавний релиз игры;\n",
        "- отсутствие сведений в источнике сбора данных;\n",
        "- маленькие продажи игр с пропущенными значениями;\n",
        "- узкая аудитория выпущенной игры;\n",
        "- отсутствие интереса критиков к написанию рецензии из-за низкого спроса.  \n",
        "\n",
        "\n",
        "В 1994 год количество выпущенных игр за год перевалило за 100 релизов и росло с каждым годом до 2009 года включительно. С 2010 количество выпущенных игр падает с каждым годом.\n",
        "\n",
        "В среднем жизненный цикл игровых платформ составляет **6 лет**. Для анализа были взяты данные за период с 2012 года по 2016.\n",
        "Количество выпущенных новых игр увеличивается только на двух платформах PS4 и XOne, на остальных платформах наблюдается снижение продаж.\n",
        "\n",
        "На платформах PS3, X360, XOne, 3DS в среднем продается около **40 млн** копий игр в год.\n",
        "Платформа PS4 получилась очень удачной по сравнению с PS3, средние продажи по ней в год составляют более **80 млн** копий.\n",
        "\n",
        "Сумма продаж в большей степени коррелируется с оценками критиков, чем пользователей.\n",
        "\n",
        "Пользователи и критики оценивают игры в целом одинаково. **Средняя оценка критиков 70, пользователей 6,5**.  \n",
        "Средний рейтинг критиков на все платформах из ТОП-5 примерно одинаковый и равен **70.**\n",
        "Средняя оценка пользователей находится в пределах от **6.4 до 6,8** для четырех платформ (PS3, PS4, X360, XOne).\n",
        "Для платформы 3DS среднее значение оценок пользователей выше и равна **7,2**.  \n",
        "\n",
        "**ТОП - 4 жанра:**\n",
        "\n",
        "- Жанр **Action** - **лидирует** по количеству релизов и продажам.  \n",
        "- Жанр **Shooter** - по продажам на **втором месте**, но уступает в количесвте релизов жанрам Role-Playing, Adventure, Sports. \n",
        "- Жанр **Role-Playing** - по продажам на **третьем месте**, а по количеству релизов на втором.  \n",
        "- Жанр **Sports** - по продажам и релизам на **четвертом месте**.  \n",
        "\n",
        "**Самые популярные платформы по регионам:**\n",
        "- **Северная Америка** - доля продаж **X360** составляет **23.7%,**\n",
        "- **Европа** - доля продаж **PS4** составляет **27.8%,**\n",
        "- **Япония** - доля продаж **3DS** составляет **45.6%.**  \n",
        "\n",
        "**Самые популярные жанры по регионам:**\n",
        "\n",
        "- **Северная Америка** - доля продаж **Action** составляет **30%**,\n",
        "- **Европа** - доля продаж **Action** составляет **31.4%**,\n",
        "- **Япония** - доля продаж **Role-Playing** составляет **34%**.\n",
        "\n",
        "Максимальные продажи в регионах **Северная Америка и Европа** приходятся на возрастной рейтинг ESRB **«M» («Mature»)  \"от 17 лет.\"**  \n",
        "\n",
        "В регионе **Япония** - основные продажи приходятся на видеоигры с пропущенными значениями рейтинга. Это может быть связано с тем, что игры не проходили международную классификацию по рейтингу ESRB.   \n",
        "\n",
        "\n",
        "**Результаты проверки гипотез:**\n",
        "- Средние пользовательские рейтинги платформ Xbox One и PC - вероятней одинаковы.  \n",
        "- Средние пользовательские рейтинги жанров Action и Sports - разные.\n",
        "\n",
        "\n",
        "**Рекомендации:**\n",
        "\n",
        "**1) Для региона Северная Америка** самая популярная платформа **X360 и Xbox One**, в 2017 году ожидается рост продаж для **Xbox One** и падение по  X360, из-за увеличения/уменьшения релизов видеоигр.  Реклмную кампанию необходимо планировать на эти платформы и учитывать, что основные продажи придутся на жанр **Action**.\n",
        "\n",
        "**2) Для региона Европа** самая популярная платформа **Play Station 4**, основные продажи придутся именно на нее в жанре **Action**. Рекламная кампанию на 2017 год требуется планировать исходя из этих данных.\n",
        "\n",
        "**3) Для региона Япония** самая популярная платформа **Nintendo 3DS**. Практически половина продаж приходится на эту платформу. Основной жанр в продажах - **Role-Playing**. При проведении рекламной кампании требуется сделать максимальный акцент на портативную платформу **Nintendo 3DS** и жанр **Role-Playing**.\n",
        "\n",
        "**4)** Учесть, что у многих игр даже с низкими рейтингами критиков, есть любящие **фанаты** максимально прощающие огрехи при создании видеоигры.\n",
        "\n",
        "**5)** Следить за датами выхода игр и планировать рекламные кампании для платформы **Play Station 4**, т.к. она является лидером по мировым продажам видеоигр.\n",
        "\n"
      ]
    }
  ]
}