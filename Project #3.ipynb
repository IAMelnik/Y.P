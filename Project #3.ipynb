{
 "cells": [
  {
   "cell_type": "markdown",
   "metadata": {},
   "source": [
    "# Исследование объявлений о продаже квартир\n",
    "\n",
    "В вашем распоряжении данные сервиса Яндекс.Недвижимость — архив объявлений о продаже квартир в Санкт-Петербурге и соседних населённых пунктов за несколько лет. Нужно научиться определять рыночную стоимость объектов недвижимости. Ваша задача — установить параметры. Это позволит построить автоматизированную систему: она отследит аномалии и мошенническую деятельность. \n",
    "\n",
    "По каждой квартире на продажу доступны два вида данных. Первые вписаны пользователем, вторые — получены автоматически на основе картографических данных. Например, расстояние до центра, аэропорта, ближайшего парка и водоёма. "
   ]
  },
  {
   "cell_type": "markdown",
   "metadata": {},
   "source": [
    "### Шаг 1. Откройте файл с данными и изучите общую информацию. "
   ]
  },
  {
   "cell_type": "code",
   "execution_count": 1,
   "metadata": {},
   "outputs": [],
   "source": [
    "import pandas as pd \n",
    "import numpy as np\n",
    "import matplotlib.pyplot as plt"
   ]
  },
  {
   "cell_type": "code",
   "execution_count": 2,
   "metadata": {},
   "outputs": [],
   "source": [
    "df = pd.read_csv('/datasets/real_estate_data.csv', sep=\"\\t\")"
   ]
  },
  {
   "cell_type": "code",
   "execution_count": 3,
   "metadata": {},
   "outputs": [
    {
     "data": {
      "text/html": [
       "<div>\n",
       "<style scoped>\n",
       "    .dataframe tbody tr th:only-of-type {\n",
       "        vertical-align: middle;\n",
       "    }\n",
       "\n",
       "    .dataframe tbody tr th {\n",
       "        vertical-align: top;\n",
       "    }\n",
       "\n",
       "    .dataframe thead th {\n",
       "        text-align: right;\n",
       "    }\n",
       "</style>\n",
       "<table border=\"1\" class=\"dataframe\">\n",
       "  <thead>\n",
       "    <tr style=\"text-align: right;\">\n",
       "      <th></th>\n",
       "      <th>total_images</th>\n",
       "      <th>last_price</th>\n",
       "      <th>total_area</th>\n",
       "      <th>first_day_exposition</th>\n",
       "      <th>rooms</th>\n",
       "      <th>ceiling_height</th>\n",
       "      <th>floors_total</th>\n",
       "      <th>living_area</th>\n",
       "      <th>floor</th>\n",
       "      <th>is_apartment</th>\n",
       "      <th>...</th>\n",
       "      <th>kitchen_area</th>\n",
       "      <th>balcony</th>\n",
       "      <th>locality_name</th>\n",
       "      <th>airports_nearest</th>\n",
       "      <th>cityCenters_nearest</th>\n",
       "      <th>parks_around3000</th>\n",
       "      <th>parks_nearest</th>\n",
       "      <th>ponds_around3000</th>\n",
       "      <th>ponds_nearest</th>\n",
       "      <th>days_exposition</th>\n",
       "    </tr>\n",
       "  </thead>\n",
       "  <tbody>\n",
       "    <tr>\n",
       "      <td>0</td>\n",
       "      <td>20</td>\n",
       "      <td>13000000.0</td>\n",
       "      <td>108.00</td>\n",
       "      <td>2019-03-07T00:00:00</td>\n",
       "      <td>3</td>\n",
       "      <td>2.70</td>\n",
       "      <td>16.0</td>\n",
       "      <td>51.00</td>\n",
       "      <td>8</td>\n",
       "      <td>NaN</td>\n",
       "      <td>...</td>\n",
       "      <td>25.00</td>\n",
       "      <td>NaN</td>\n",
       "      <td>Санкт-Петербург</td>\n",
       "      <td>18863.0</td>\n",
       "      <td>16028.0</td>\n",
       "      <td>1.0</td>\n",
       "      <td>482.0</td>\n",
       "      <td>2.0</td>\n",
       "      <td>755.0</td>\n",
       "      <td>NaN</td>\n",
       "    </tr>\n",
       "    <tr>\n",
       "      <td>1</td>\n",
       "      <td>7</td>\n",
       "      <td>3350000.0</td>\n",
       "      <td>40.40</td>\n",
       "      <td>2018-12-04T00:00:00</td>\n",
       "      <td>1</td>\n",
       "      <td>NaN</td>\n",
       "      <td>11.0</td>\n",
       "      <td>18.60</td>\n",
       "      <td>1</td>\n",
       "      <td>NaN</td>\n",
       "      <td>...</td>\n",
       "      <td>11.00</td>\n",
       "      <td>2.0</td>\n",
       "      <td>посёлок Шушары</td>\n",
       "      <td>12817.0</td>\n",
       "      <td>18603.0</td>\n",
       "      <td>0.0</td>\n",
       "      <td>NaN</td>\n",
       "      <td>0.0</td>\n",
       "      <td>NaN</td>\n",
       "      <td>81.0</td>\n",
       "    </tr>\n",
       "    <tr>\n",
       "      <td>2</td>\n",
       "      <td>10</td>\n",
       "      <td>5196000.0</td>\n",
       "      <td>56.00</td>\n",
       "      <td>2015-08-20T00:00:00</td>\n",
       "      <td>2</td>\n",
       "      <td>NaN</td>\n",
       "      <td>5.0</td>\n",
       "      <td>34.30</td>\n",
       "      <td>4</td>\n",
       "      <td>NaN</td>\n",
       "      <td>...</td>\n",
       "      <td>8.30</td>\n",
       "      <td>0.0</td>\n",
       "      <td>Санкт-Петербург</td>\n",
       "      <td>21741.0</td>\n",
       "      <td>13933.0</td>\n",
       "      <td>1.0</td>\n",
       "      <td>90.0</td>\n",
       "      <td>2.0</td>\n",
       "      <td>574.0</td>\n",
       "      <td>558.0</td>\n",
       "    </tr>\n",
       "    <tr>\n",
       "      <td>3</td>\n",
       "      <td>0</td>\n",
       "      <td>64900000.0</td>\n",
       "      <td>159.00</td>\n",
       "      <td>2015-07-24T00:00:00</td>\n",
       "      <td>3</td>\n",
       "      <td>NaN</td>\n",
       "      <td>14.0</td>\n",
       "      <td>NaN</td>\n",
       "      <td>9</td>\n",
       "      <td>NaN</td>\n",
       "      <td>...</td>\n",
       "      <td>NaN</td>\n",
       "      <td>0.0</td>\n",
       "      <td>Санкт-Петербург</td>\n",
       "      <td>28098.0</td>\n",
       "      <td>6800.0</td>\n",
       "      <td>2.0</td>\n",
       "      <td>84.0</td>\n",
       "      <td>3.0</td>\n",
       "      <td>234.0</td>\n",
       "      <td>424.0</td>\n",
       "    </tr>\n",
       "    <tr>\n",
       "      <td>4</td>\n",
       "      <td>2</td>\n",
       "      <td>10000000.0</td>\n",
       "      <td>100.00</td>\n",
       "      <td>2018-06-19T00:00:00</td>\n",
       "      <td>2</td>\n",
       "      <td>3.03</td>\n",
       "      <td>14.0</td>\n",
       "      <td>32.00</td>\n",
       "      <td>13</td>\n",
       "      <td>NaN</td>\n",
       "      <td>...</td>\n",
       "      <td>41.00</td>\n",
       "      <td>NaN</td>\n",
       "      <td>Санкт-Петербург</td>\n",
       "      <td>31856.0</td>\n",
       "      <td>8098.0</td>\n",
       "      <td>2.0</td>\n",
       "      <td>112.0</td>\n",
       "      <td>1.0</td>\n",
       "      <td>48.0</td>\n",
       "      <td>121.0</td>\n",
       "    </tr>\n",
       "    <tr>\n",
       "      <td>5</td>\n",
       "      <td>10</td>\n",
       "      <td>2890000.0</td>\n",
       "      <td>30.40</td>\n",
       "      <td>2018-09-10T00:00:00</td>\n",
       "      <td>1</td>\n",
       "      <td>NaN</td>\n",
       "      <td>12.0</td>\n",
       "      <td>14.40</td>\n",
       "      <td>5</td>\n",
       "      <td>NaN</td>\n",
       "      <td>...</td>\n",
       "      <td>9.10</td>\n",
       "      <td>NaN</td>\n",
       "      <td>городской посёлок Янино-1</td>\n",
       "      <td>NaN</td>\n",
       "      <td>NaN</td>\n",
       "      <td>NaN</td>\n",
       "      <td>NaN</td>\n",
       "      <td>NaN</td>\n",
       "      <td>NaN</td>\n",
       "      <td>55.0</td>\n",
       "    </tr>\n",
       "    <tr>\n",
       "      <td>6</td>\n",
       "      <td>6</td>\n",
       "      <td>3700000.0</td>\n",
       "      <td>37.30</td>\n",
       "      <td>2017-11-02T00:00:00</td>\n",
       "      <td>1</td>\n",
       "      <td>NaN</td>\n",
       "      <td>26.0</td>\n",
       "      <td>10.60</td>\n",
       "      <td>6</td>\n",
       "      <td>NaN</td>\n",
       "      <td>...</td>\n",
       "      <td>14.40</td>\n",
       "      <td>1.0</td>\n",
       "      <td>посёлок Парголово</td>\n",
       "      <td>52996.0</td>\n",
       "      <td>19143.0</td>\n",
       "      <td>0.0</td>\n",
       "      <td>NaN</td>\n",
       "      <td>0.0</td>\n",
       "      <td>NaN</td>\n",
       "      <td>155.0</td>\n",
       "    </tr>\n",
       "    <tr>\n",
       "      <td>7</td>\n",
       "      <td>5</td>\n",
       "      <td>7915000.0</td>\n",
       "      <td>71.60</td>\n",
       "      <td>2019-04-18T00:00:00</td>\n",
       "      <td>2</td>\n",
       "      <td>NaN</td>\n",
       "      <td>24.0</td>\n",
       "      <td>NaN</td>\n",
       "      <td>22</td>\n",
       "      <td>NaN</td>\n",
       "      <td>...</td>\n",
       "      <td>18.90</td>\n",
       "      <td>2.0</td>\n",
       "      <td>Санкт-Петербург</td>\n",
       "      <td>23982.0</td>\n",
       "      <td>11634.0</td>\n",
       "      <td>0.0</td>\n",
       "      <td>NaN</td>\n",
       "      <td>0.0</td>\n",
       "      <td>NaN</td>\n",
       "      <td>NaN</td>\n",
       "    </tr>\n",
       "    <tr>\n",
       "      <td>8</td>\n",
       "      <td>20</td>\n",
       "      <td>2900000.0</td>\n",
       "      <td>33.16</td>\n",
       "      <td>2018-05-23T00:00:00</td>\n",
       "      <td>1</td>\n",
       "      <td>NaN</td>\n",
       "      <td>27.0</td>\n",
       "      <td>15.43</td>\n",
       "      <td>26</td>\n",
       "      <td>NaN</td>\n",
       "      <td>...</td>\n",
       "      <td>8.81</td>\n",
       "      <td>NaN</td>\n",
       "      <td>посёлок Мурино</td>\n",
       "      <td>NaN</td>\n",
       "      <td>NaN</td>\n",
       "      <td>NaN</td>\n",
       "      <td>NaN</td>\n",
       "      <td>NaN</td>\n",
       "      <td>NaN</td>\n",
       "      <td>189.0</td>\n",
       "    </tr>\n",
       "    <tr>\n",
       "      <td>9</td>\n",
       "      <td>18</td>\n",
       "      <td>5400000.0</td>\n",
       "      <td>61.00</td>\n",
       "      <td>2017-02-26T00:00:00</td>\n",
       "      <td>3</td>\n",
       "      <td>2.50</td>\n",
       "      <td>9.0</td>\n",
       "      <td>43.60</td>\n",
       "      <td>7</td>\n",
       "      <td>NaN</td>\n",
       "      <td>...</td>\n",
       "      <td>6.50</td>\n",
       "      <td>2.0</td>\n",
       "      <td>Санкт-Петербург</td>\n",
       "      <td>50898.0</td>\n",
       "      <td>15008.0</td>\n",
       "      <td>0.0</td>\n",
       "      <td>NaN</td>\n",
       "      <td>0.0</td>\n",
       "      <td>NaN</td>\n",
       "      <td>289.0</td>\n",
       "    </tr>\n",
       "  </tbody>\n",
       "</table>\n",
       "<p>10 rows × 22 columns</p>\n",
       "</div>"
      ],
      "text/plain": [
       "   total_images  last_price  total_area first_day_exposition  rooms  \\\n",
       "0            20  13000000.0      108.00  2019-03-07T00:00:00      3   \n",
       "1             7   3350000.0       40.40  2018-12-04T00:00:00      1   \n",
       "2            10   5196000.0       56.00  2015-08-20T00:00:00      2   \n",
       "3             0  64900000.0      159.00  2015-07-24T00:00:00      3   \n",
       "4             2  10000000.0      100.00  2018-06-19T00:00:00      2   \n",
       "5            10   2890000.0       30.40  2018-09-10T00:00:00      1   \n",
       "6             6   3700000.0       37.30  2017-11-02T00:00:00      1   \n",
       "7             5   7915000.0       71.60  2019-04-18T00:00:00      2   \n",
       "8            20   2900000.0       33.16  2018-05-23T00:00:00      1   \n",
       "9            18   5400000.0       61.00  2017-02-26T00:00:00      3   \n",
       "\n",
       "   ceiling_height  floors_total  living_area  floor is_apartment  ...  \\\n",
       "0            2.70          16.0        51.00      8          NaN  ...   \n",
       "1             NaN          11.0        18.60      1          NaN  ...   \n",
       "2             NaN           5.0        34.30      4          NaN  ...   \n",
       "3             NaN          14.0          NaN      9          NaN  ...   \n",
       "4            3.03          14.0        32.00     13          NaN  ...   \n",
       "5             NaN          12.0        14.40      5          NaN  ...   \n",
       "6             NaN          26.0        10.60      6          NaN  ...   \n",
       "7             NaN          24.0          NaN     22          NaN  ...   \n",
       "8             NaN          27.0        15.43     26          NaN  ...   \n",
       "9            2.50           9.0        43.60      7          NaN  ...   \n",
       "\n",
       "   kitchen_area  balcony              locality_name  airports_nearest  \\\n",
       "0         25.00      NaN            Санкт-Петербург           18863.0   \n",
       "1         11.00      2.0             посёлок Шушары           12817.0   \n",
       "2          8.30      0.0            Санкт-Петербург           21741.0   \n",
       "3           NaN      0.0            Санкт-Петербург           28098.0   \n",
       "4         41.00      NaN            Санкт-Петербург           31856.0   \n",
       "5          9.10      NaN  городской посёлок Янино-1               NaN   \n",
       "6         14.40      1.0          посёлок Парголово           52996.0   \n",
       "7         18.90      2.0            Санкт-Петербург           23982.0   \n",
       "8          8.81      NaN             посёлок Мурино               NaN   \n",
       "9          6.50      2.0            Санкт-Петербург           50898.0   \n",
       "\n",
       "  cityCenters_nearest  parks_around3000  parks_nearest  ponds_around3000  \\\n",
       "0             16028.0               1.0          482.0               2.0   \n",
       "1             18603.0               0.0            NaN               0.0   \n",
       "2             13933.0               1.0           90.0               2.0   \n",
       "3              6800.0               2.0           84.0               3.0   \n",
       "4              8098.0               2.0          112.0               1.0   \n",
       "5                 NaN               NaN            NaN               NaN   \n",
       "6             19143.0               0.0            NaN               0.0   \n",
       "7             11634.0               0.0            NaN               0.0   \n",
       "8                 NaN               NaN            NaN               NaN   \n",
       "9             15008.0               0.0            NaN               0.0   \n",
       "\n",
       "   ponds_nearest  days_exposition  \n",
       "0          755.0              NaN  \n",
       "1            NaN             81.0  \n",
       "2          574.0            558.0  \n",
       "3          234.0            424.0  \n",
       "4           48.0            121.0  \n",
       "5            NaN             55.0  \n",
       "6            NaN            155.0  \n",
       "7            NaN              NaN  \n",
       "8            NaN            189.0  \n",
       "9            NaN            289.0  \n",
       "\n",
       "[10 rows x 22 columns]"
      ]
     },
     "execution_count": 3,
     "metadata": {},
     "output_type": "execute_result"
    }
   ],
   "source": [
    "df.head(10)"
   ]
  },
  {
   "cell_type": "code",
   "execution_count": 4,
   "metadata": {},
   "outputs": [
    {
     "name": "stdout",
     "output_type": "stream",
     "text": [
      "<class 'pandas.core.frame.DataFrame'>\n",
      "RangeIndex: 23699 entries, 0 to 23698\n",
      "Data columns (total 22 columns):\n",
      "total_images            23699 non-null int64\n",
      "last_price              23699 non-null float64\n",
      "total_area              23699 non-null float64\n",
      "first_day_exposition    23699 non-null object\n",
      "rooms                   23699 non-null int64\n",
      "ceiling_height          14504 non-null float64\n",
      "floors_total            23613 non-null float64\n",
      "living_area             21796 non-null float64\n",
      "floor                   23699 non-null int64\n",
      "is_apartment            2775 non-null object\n",
      "studio                  23699 non-null bool\n",
      "open_plan               23699 non-null bool\n",
      "kitchen_area            21421 non-null float64\n",
      "balcony                 12180 non-null float64\n",
      "locality_name           23650 non-null object\n",
      "airports_nearest        18157 non-null float64\n",
      "cityCenters_nearest     18180 non-null float64\n",
      "parks_around3000        18181 non-null float64\n",
      "parks_nearest           8079 non-null float64\n",
      "ponds_around3000        18181 non-null float64\n",
      "ponds_nearest           9110 non-null float64\n",
      "days_exposition         20518 non-null float64\n",
      "dtypes: bool(2), float64(14), int64(3), object(3)\n",
      "memory usage: 3.7+ MB\n"
     ]
    }
   ],
   "source": [
    "df.info()"
   ]
  },
  {
   "cell_type": "markdown",
   "metadata": {},
   "source": [
    "Вычислим количество дубликатов:"
   ]
  },
  {
   "cell_type": "code",
   "execution_count": 5,
   "metadata": {},
   "outputs": [
    {
     "data": {
      "text/plain": [
       "0"
      ]
     },
     "execution_count": 5,
     "metadata": {},
     "output_type": "execute_result"
    }
   ],
   "source": [
    "df.duplicated().sum()"
   ]
  },
  {
   "cell_type": "markdown",
   "metadata": {},
   "source": [
    "### Вывод"
   ]
  },
  {
   "cell_type": "markdown",
   "metadata": {},
   "source": [
    "При чтении данных обнаружилось, что столбцы склеины, поэтому при вызове фунцкции используем параметр `sep=\"\\t\"`.  \n",
    "Всего в таблице с данными содержится 23699 строк, 22 столбца. Дубликаты отсутствуют.\n",
    "\n",
    "\n",
    "Типы данных в таблице: булевые - ***bool***, с плавающей точкой - ***float64***, цельночисленные - ***int64***, строковые - ***object***.  \n",
    "\n",
    "\n",
    "В столбцах отсутствуют значения: *ceiling_height, floors_total, living_area, is_apartment, kitchen_area, balcony, locality_name, airports_nearest, cityCenters_nearest, parks_around3000, parks_nearest, ponds_around3000, ponds_nearest, days_exposition*.  \n"
   ]
  },
  {
   "cell_type": "markdown",
   "metadata": {},
   "source": [
    "### Шаг 2. Предобработка данных"
   ]
  },
  {
   "cell_type": "markdown",
   "metadata": {},
   "source": [
    "Для начала проанализируем все столбцы с пропусками и там где это возможно заполним пропуски."
   ]
  },
  {
   "cell_type": "markdown",
   "metadata": {},
   "source": [
    "#### Высота потолков - ***ceiling_height***"
   ]
  },
  {
   "cell_type": "code",
   "execution_count": 6,
   "metadata": {},
   "outputs": [
    {
     "data": {
      "text/plain": [
       "9195"
      ]
     },
     "execution_count": 6,
     "metadata": {},
     "output_type": "execute_result"
    }
   ],
   "source": [
    "df['ceiling_height'].isna().sum() #Считаем количество пропущенных значений"
   ]
  },
  {
   "cell_type": "markdown",
   "metadata": {},
   "source": [
    "Пропущенно 9195 значений, это серьезная доля выборки. Удалить пропуски мы не можем, т.к. это повлияет на результаты анализа. \n",
    "\n",
    "Учитывая отсутствие взаимосвязей высоты потолков с другими столбцами, заполним пропуски медианой.  \n"
   ]
  },
  {
   "cell_type": "markdown",
   "metadata": {},
   "source": [
    "Медиана выбрана не случайно, т.к. она в нашем случае лучше характеризует типичные значения выборки и менее чувствительна к выбросам.  Вероятней всего, пропуски являются следствием не заполнения значения высоты потолка при подаче объявления. Думаю, сделано это умышленно, чтобы увеличить количество просмотров/покупателей."
   ]
  },
  {
   "cell_type": "code",
   "execution_count": 7,
   "metadata": {},
   "outputs": [],
   "source": [
    "df['ceiling_height'] = df['ceiling_height'].fillna(df['ceiling_height'].median())"
   ]
  },
  {
   "cell_type": "code",
   "execution_count": 8,
   "metadata": {},
   "outputs": [
    {
     "data": {
      "text/plain": [
       "count    23699.000000\n",
       "mean         2.724358\n",
       "std          0.988298\n",
       "min          1.000000\n",
       "25%          2.600000\n",
       "50%          2.650000\n",
       "75%          2.700000\n",
       "max        100.000000\n",
       "Name: ceiling_height, dtype: float64"
      ]
     },
     "execution_count": 8,
     "metadata": {},
     "output_type": "execute_result"
    }
   ],
   "source": [
    "df['ceiling_height'].describe()"
   ]
  },
  {
   "cell_type": "markdown",
   "metadata": {},
   "source": [
    "#### Всего этажей в доме - ***floors_total***"
   ]
  },
  {
   "cell_type": "code",
   "execution_count": 9,
   "metadata": {},
   "outputs": [
    {
     "data": {
      "text/plain": [
       "86"
      ]
     },
     "execution_count": 9,
     "metadata": {},
     "output_type": "execute_result"
    }
   ],
   "source": [
    "df['floors_total'].isna().sum()"
   ]
  },
  {
   "cell_type": "code",
   "execution_count": 10,
   "metadata": {},
   "outputs": [],
   "source": [
    "df['floors_total'] = df['floors_total'].fillna(0).astype('int')"
   ]
  },
  {
   "cell_type": "markdown",
   "metadata": {},
   "source": [
    "Пропуски есть в 86 строках. Так как точно определить сколько этажей в доме невозможно, заменим пропущенные значения - **0**, чтобы объединить их в одну группу."
   ]
  },
  {
   "cell_type": "code",
   "execution_count": 11,
   "metadata": {},
   "outputs": [
    {
     "data": {
      "text/html": [
       "<div>\n",
       "<style scoped>\n",
       "    .dataframe tbody tr th:only-of-type {\n",
       "        vertical-align: middle;\n",
       "    }\n",
       "\n",
       "    .dataframe tbody tr th {\n",
       "        vertical-align: top;\n",
       "    }\n",
       "\n",
       "    .dataframe thead th {\n",
       "        text-align: right;\n",
       "    }\n",
       "</style>\n",
       "<table border=\"1\" class=\"dataframe\">\n",
       "  <thead>\n",
       "    <tr style=\"text-align: right;\">\n",
       "      <th></th>\n",
       "      <th>total_images</th>\n",
       "      <th>last_price</th>\n",
       "      <th>total_area</th>\n",
       "      <th>first_day_exposition</th>\n",
       "      <th>rooms</th>\n",
       "      <th>ceiling_height</th>\n",
       "      <th>floors_total</th>\n",
       "      <th>living_area</th>\n",
       "      <th>floor</th>\n",
       "      <th>is_apartment</th>\n",
       "      <th>...</th>\n",
       "      <th>kitchen_area</th>\n",
       "      <th>balcony</th>\n",
       "      <th>locality_name</th>\n",
       "      <th>airports_nearest</th>\n",
       "      <th>cityCenters_nearest</th>\n",
       "      <th>parks_around3000</th>\n",
       "      <th>parks_nearest</th>\n",
       "      <th>ponds_around3000</th>\n",
       "      <th>ponds_nearest</th>\n",
       "      <th>days_exposition</th>\n",
       "    </tr>\n",
       "  </thead>\n",
       "  <tbody>\n",
       "  </tbody>\n",
       "</table>\n",
       "<p>0 rows × 22 columns</p>\n",
       "</div>"
      ],
      "text/plain": [
       "Empty DataFrame\n",
       "Columns: [total_images, last_price, total_area, first_day_exposition, rooms, ceiling_height, floors_total, living_area, floor, is_apartment, studio, open_plan, kitchen_area, balcony, locality_name, airports_nearest, cityCenters_nearest, parks_around3000, parks_nearest, ponds_around3000, ponds_nearest, days_exposition]\n",
       "Index: []\n",
       "\n",
       "[0 rows x 22 columns]"
      ]
     },
     "execution_count": 11,
     "metadata": {},
     "output_type": "execute_result"
    }
   ],
   "source": [
    "df[df['floors_total'].isna()].tail(50)"
   ]
  },
  {
   "cell_type": "markdown",
   "metadata": {},
   "source": [
    "Точно назвать причину появления пропусков в значении `['floors_total']` не представляется возможным. Это могут быть как ошибки при подаче, так и ошибочные выгрузки объявлений с источников публикации."
   ]
  },
  {
   "cell_type": "markdown",
   "metadata": {},
   "source": [
    "#### Жилая площадь в квадратных метрах(м²) - ***living_area***"
   ]
  },
  {
   "cell_type": "code",
   "execution_count": 12,
   "metadata": {},
   "outputs": [
    {
     "data": {
      "text/plain": [
       "1903"
      ]
     },
     "execution_count": 12,
     "metadata": {},
     "output_type": "execute_result"
    }
   ],
   "source": [
    "df['living_area'].isna().sum()"
   ]
  },
  {
   "cell_type": "markdown",
   "metadata": {},
   "source": [
    "Пропущенные знаечния есть в 1903 строках. Заменим проупски на \"0\"."
   ]
  },
  {
   "cell_type": "code",
   "execution_count": 13,
   "metadata": {},
   "outputs": [],
   "source": [
    "df['living_area'] = df['living_area'].fillna(0)"
   ]
  },
  {
   "cell_type": "markdown",
   "metadata": {},
   "source": [
    "Вычислим отношение жилой площади к общей по известным значениям и выведем среднее `ratio_living_mean`:"
   ]
  },
  {
   "cell_type": "code",
   "execution_count": 14,
   "metadata": {},
   "outputs": [
    {
     "data": {
      "text/plain": [
       "0.5194155580808664"
      ]
     },
     "execution_count": 14,
     "metadata": {},
     "output_type": "execute_result"
    }
   ],
   "source": [
    "df['ratio_living'] = df['living_area'] / df['total_area']\n",
    "ratio_living_mean = df['ratio_living'].mean()\n",
    "ratio_living_mean"
   ]
  },
  {
   "cell_type": "markdown",
   "metadata": {},
   "source": [
    "Создадим функцию `nan_living(row)` для заполнения пропусков на основе полученного коэффициента:"
   ]
  },
  {
   "cell_type": "code",
   "execution_count": 15,
   "metadata": {},
   "outputs": [],
   "source": [
    "def nan_living(row):\n",
    "    if row['living_area'] == 0:\n",
    "        return row['total_area'] * ratio_living_mean\n",
    "    else:\n",
    "        return row['living_area']"
   ]
  },
  {
   "cell_type": "markdown",
   "metadata": {},
   "source": [
    "Применим метод `apply()` для заполнения отсутствующих знаечний, округим результаты до двух значков после запятой:"
   ]
  },
  {
   "cell_type": "code",
   "execution_count": 16,
   "metadata": {},
   "outputs": [
    {
     "data": {
      "text/html": [
       "<div>\n",
       "<style scoped>\n",
       "    .dataframe tbody tr th:only-of-type {\n",
       "        vertical-align: middle;\n",
       "    }\n",
       "\n",
       "    .dataframe tbody tr th {\n",
       "        vertical-align: top;\n",
       "    }\n",
       "\n",
       "    .dataframe thead th {\n",
       "        text-align: right;\n",
       "    }\n",
       "</style>\n",
       "<table border=\"1\" class=\"dataframe\">\n",
       "  <thead>\n",
       "    <tr style=\"text-align: right;\">\n",
       "      <th></th>\n",
       "      <th>total_images</th>\n",
       "      <th>last_price</th>\n",
       "      <th>total_area</th>\n",
       "      <th>first_day_exposition</th>\n",
       "      <th>rooms</th>\n",
       "      <th>ceiling_height</th>\n",
       "      <th>floors_total</th>\n",
       "      <th>living_area</th>\n",
       "      <th>floor</th>\n",
       "      <th>is_apartment</th>\n",
       "      <th>...</th>\n",
       "      <th>balcony</th>\n",
       "      <th>locality_name</th>\n",
       "      <th>airports_nearest</th>\n",
       "      <th>cityCenters_nearest</th>\n",
       "      <th>parks_around3000</th>\n",
       "      <th>parks_nearest</th>\n",
       "      <th>ponds_around3000</th>\n",
       "      <th>ponds_nearest</th>\n",
       "      <th>days_exposition</th>\n",
       "      <th>ratio_living</th>\n",
       "    </tr>\n",
       "  </thead>\n",
       "  <tbody>\n",
       "    <tr>\n",
       "      <td>0</td>\n",
       "      <td>20</td>\n",
       "      <td>13000000.0</td>\n",
       "      <td>108.00</td>\n",
       "      <td>2019-03-07T00:00:00</td>\n",
       "      <td>3</td>\n",
       "      <td>2.70</td>\n",
       "      <td>16</td>\n",
       "      <td>51.00</td>\n",
       "      <td>8</td>\n",
       "      <td>NaN</td>\n",
       "      <td>...</td>\n",
       "      <td>NaN</td>\n",
       "      <td>Санкт-Петербург</td>\n",
       "      <td>18863.0</td>\n",
       "      <td>16028.0</td>\n",
       "      <td>1.0</td>\n",
       "      <td>482.0</td>\n",
       "      <td>2.0</td>\n",
       "      <td>755.0</td>\n",
       "      <td>NaN</td>\n",
       "      <td>0.472222</td>\n",
       "    </tr>\n",
       "    <tr>\n",
       "      <td>1</td>\n",
       "      <td>7</td>\n",
       "      <td>3350000.0</td>\n",
       "      <td>40.40</td>\n",
       "      <td>2018-12-04T00:00:00</td>\n",
       "      <td>1</td>\n",
       "      <td>2.65</td>\n",
       "      <td>11</td>\n",
       "      <td>18.60</td>\n",
       "      <td>1</td>\n",
       "      <td>NaN</td>\n",
       "      <td>...</td>\n",
       "      <td>2.0</td>\n",
       "      <td>посёлок Шушары</td>\n",
       "      <td>12817.0</td>\n",
       "      <td>18603.0</td>\n",
       "      <td>0.0</td>\n",
       "      <td>NaN</td>\n",
       "      <td>0.0</td>\n",
       "      <td>NaN</td>\n",
       "      <td>81.0</td>\n",
       "      <td>0.460396</td>\n",
       "    </tr>\n",
       "    <tr>\n",
       "      <td>2</td>\n",
       "      <td>10</td>\n",
       "      <td>5196000.0</td>\n",
       "      <td>56.00</td>\n",
       "      <td>2015-08-20T00:00:00</td>\n",
       "      <td>2</td>\n",
       "      <td>2.65</td>\n",
       "      <td>5</td>\n",
       "      <td>34.30</td>\n",
       "      <td>4</td>\n",
       "      <td>NaN</td>\n",
       "      <td>...</td>\n",
       "      <td>0.0</td>\n",
       "      <td>Санкт-Петербург</td>\n",
       "      <td>21741.0</td>\n",
       "      <td>13933.0</td>\n",
       "      <td>1.0</td>\n",
       "      <td>90.0</td>\n",
       "      <td>2.0</td>\n",
       "      <td>574.0</td>\n",
       "      <td>558.0</td>\n",
       "      <td>0.612500</td>\n",
       "    </tr>\n",
       "    <tr>\n",
       "      <td>3</td>\n",
       "      <td>0</td>\n",
       "      <td>64900000.0</td>\n",
       "      <td>159.00</td>\n",
       "      <td>2015-07-24T00:00:00</td>\n",
       "      <td>3</td>\n",
       "      <td>2.65</td>\n",
       "      <td>14</td>\n",
       "      <td>82.59</td>\n",
       "      <td>9</td>\n",
       "      <td>NaN</td>\n",
       "      <td>...</td>\n",
       "      <td>0.0</td>\n",
       "      <td>Санкт-Петербург</td>\n",
       "      <td>28098.0</td>\n",
       "      <td>6800.0</td>\n",
       "      <td>2.0</td>\n",
       "      <td>84.0</td>\n",
       "      <td>3.0</td>\n",
       "      <td>234.0</td>\n",
       "      <td>424.0</td>\n",
       "      <td>0.000000</td>\n",
       "    </tr>\n",
       "    <tr>\n",
       "      <td>4</td>\n",
       "      <td>2</td>\n",
       "      <td>10000000.0</td>\n",
       "      <td>100.00</td>\n",
       "      <td>2018-06-19T00:00:00</td>\n",
       "      <td>2</td>\n",
       "      <td>3.03</td>\n",
       "      <td>14</td>\n",
       "      <td>32.00</td>\n",
       "      <td>13</td>\n",
       "      <td>NaN</td>\n",
       "      <td>...</td>\n",
       "      <td>NaN</td>\n",
       "      <td>Санкт-Петербург</td>\n",
       "      <td>31856.0</td>\n",
       "      <td>8098.0</td>\n",
       "      <td>2.0</td>\n",
       "      <td>112.0</td>\n",
       "      <td>1.0</td>\n",
       "      <td>48.0</td>\n",
       "      <td>121.0</td>\n",
       "      <td>0.320000</td>\n",
       "    </tr>\n",
       "    <tr>\n",
       "      <td>5</td>\n",
       "      <td>10</td>\n",
       "      <td>2890000.0</td>\n",
       "      <td>30.40</td>\n",
       "      <td>2018-09-10T00:00:00</td>\n",
       "      <td>1</td>\n",
       "      <td>2.65</td>\n",
       "      <td>12</td>\n",
       "      <td>14.40</td>\n",
       "      <td>5</td>\n",
       "      <td>NaN</td>\n",
       "      <td>...</td>\n",
       "      <td>NaN</td>\n",
       "      <td>городской посёлок Янино-1</td>\n",
       "      <td>NaN</td>\n",
       "      <td>NaN</td>\n",
       "      <td>NaN</td>\n",
       "      <td>NaN</td>\n",
       "      <td>NaN</td>\n",
       "      <td>NaN</td>\n",
       "      <td>55.0</td>\n",
       "      <td>0.473684</td>\n",
       "    </tr>\n",
       "    <tr>\n",
       "      <td>6</td>\n",
       "      <td>6</td>\n",
       "      <td>3700000.0</td>\n",
       "      <td>37.30</td>\n",
       "      <td>2017-11-02T00:00:00</td>\n",
       "      <td>1</td>\n",
       "      <td>2.65</td>\n",
       "      <td>26</td>\n",
       "      <td>10.60</td>\n",
       "      <td>6</td>\n",
       "      <td>NaN</td>\n",
       "      <td>...</td>\n",
       "      <td>1.0</td>\n",
       "      <td>посёлок Парголово</td>\n",
       "      <td>52996.0</td>\n",
       "      <td>19143.0</td>\n",
       "      <td>0.0</td>\n",
       "      <td>NaN</td>\n",
       "      <td>0.0</td>\n",
       "      <td>NaN</td>\n",
       "      <td>155.0</td>\n",
       "      <td>0.284182</td>\n",
       "    </tr>\n",
       "    <tr>\n",
       "      <td>7</td>\n",
       "      <td>5</td>\n",
       "      <td>7915000.0</td>\n",
       "      <td>71.60</td>\n",
       "      <td>2019-04-18T00:00:00</td>\n",
       "      <td>2</td>\n",
       "      <td>2.65</td>\n",
       "      <td>24</td>\n",
       "      <td>37.19</td>\n",
       "      <td>22</td>\n",
       "      <td>NaN</td>\n",
       "      <td>...</td>\n",
       "      <td>2.0</td>\n",
       "      <td>Санкт-Петербург</td>\n",
       "      <td>23982.0</td>\n",
       "      <td>11634.0</td>\n",
       "      <td>0.0</td>\n",
       "      <td>NaN</td>\n",
       "      <td>0.0</td>\n",
       "      <td>NaN</td>\n",
       "      <td>NaN</td>\n",
       "      <td>0.000000</td>\n",
       "    </tr>\n",
       "    <tr>\n",
       "      <td>8</td>\n",
       "      <td>20</td>\n",
       "      <td>2900000.0</td>\n",
       "      <td>33.16</td>\n",
       "      <td>2018-05-23T00:00:00</td>\n",
       "      <td>1</td>\n",
       "      <td>2.65</td>\n",
       "      <td>27</td>\n",
       "      <td>15.43</td>\n",
       "      <td>26</td>\n",
       "      <td>NaN</td>\n",
       "      <td>...</td>\n",
       "      <td>NaN</td>\n",
       "      <td>посёлок Мурино</td>\n",
       "      <td>NaN</td>\n",
       "      <td>NaN</td>\n",
       "      <td>NaN</td>\n",
       "      <td>NaN</td>\n",
       "      <td>NaN</td>\n",
       "      <td>NaN</td>\n",
       "      <td>189.0</td>\n",
       "      <td>0.465320</td>\n",
       "    </tr>\n",
       "    <tr>\n",
       "      <td>9</td>\n",
       "      <td>18</td>\n",
       "      <td>5400000.0</td>\n",
       "      <td>61.00</td>\n",
       "      <td>2017-02-26T00:00:00</td>\n",
       "      <td>3</td>\n",
       "      <td>2.50</td>\n",
       "      <td>9</td>\n",
       "      <td>43.60</td>\n",
       "      <td>7</td>\n",
       "      <td>NaN</td>\n",
       "      <td>...</td>\n",
       "      <td>2.0</td>\n",
       "      <td>Санкт-Петербург</td>\n",
       "      <td>50898.0</td>\n",
       "      <td>15008.0</td>\n",
       "      <td>0.0</td>\n",
       "      <td>NaN</td>\n",
       "      <td>0.0</td>\n",
       "      <td>NaN</td>\n",
       "      <td>289.0</td>\n",
       "      <td>0.714754</td>\n",
       "    </tr>\n",
       "  </tbody>\n",
       "</table>\n",
       "<p>10 rows × 23 columns</p>\n",
       "</div>"
      ],
      "text/plain": [
       "   total_images  last_price  total_area first_day_exposition  rooms  \\\n",
       "0            20  13000000.0      108.00  2019-03-07T00:00:00      3   \n",
       "1             7   3350000.0       40.40  2018-12-04T00:00:00      1   \n",
       "2            10   5196000.0       56.00  2015-08-20T00:00:00      2   \n",
       "3             0  64900000.0      159.00  2015-07-24T00:00:00      3   \n",
       "4             2  10000000.0      100.00  2018-06-19T00:00:00      2   \n",
       "5            10   2890000.0       30.40  2018-09-10T00:00:00      1   \n",
       "6             6   3700000.0       37.30  2017-11-02T00:00:00      1   \n",
       "7             5   7915000.0       71.60  2019-04-18T00:00:00      2   \n",
       "8            20   2900000.0       33.16  2018-05-23T00:00:00      1   \n",
       "9            18   5400000.0       61.00  2017-02-26T00:00:00      3   \n",
       "\n",
       "   ceiling_height  floors_total  living_area  floor is_apartment  ...  \\\n",
       "0            2.70            16        51.00      8          NaN  ...   \n",
       "1            2.65            11        18.60      1          NaN  ...   \n",
       "2            2.65             5        34.30      4          NaN  ...   \n",
       "3            2.65            14        82.59      9          NaN  ...   \n",
       "4            3.03            14        32.00     13          NaN  ...   \n",
       "5            2.65            12        14.40      5          NaN  ...   \n",
       "6            2.65            26        10.60      6          NaN  ...   \n",
       "7            2.65            24        37.19     22          NaN  ...   \n",
       "8            2.65            27        15.43     26          NaN  ...   \n",
       "9            2.50             9        43.60      7          NaN  ...   \n",
       "\n",
       "   balcony              locality_name  airports_nearest  cityCenters_nearest  \\\n",
       "0      NaN            Санкт-Петербург           18863.0              16028.0   \n",
       "1      2.0             посёлок Шушары           12817.0              18603.0   \n",
       "2      0.0            Санкт-Петербург           21741.0              13933.0   \n",
       "3      0.0            Санкт-Петербург           28098.0               6800.0   \n",
       "4      NaN            Санкт-Петербург           31856.0               8098.0   \n",
       "5      NaN  городской посёлок Янино-1               NaN                  NaN   \n",
       "6      1.0          посёлок Парголово           52996.0              19143.0   \n",
       "7      2.0            Санкт-Петербург           23982.0              11634.0   \n",
       "8      NaN             посёлок Мурино               NaN                  NaN   \n",
       "9      2.0            Санкт-Петербург           50898.0              15008.0   \n",
       "\n",
       "  parks_around3000  parks_nearest  ponds_around3000  ponds_nearest  \\\n",
       "0              1.0          482.0               2.0          755.0   \n",
       "1              0.0            NaN               0.0            NaN   \n",
       "2              1.0           90.0               2.0          574.0   \n",
       "3              2.0           84.0               3.0          234.0   \n",
       "4              2.0          112.0               1.0           48.0   \n",
       "5              NaN            NaN               NaN            NaN   \n",
       "6              0.0            NaN               0.0            NaN   \n",
       "7              0.0            NaN               0.0            NaN   \n",
       "8              NaN            NaN               NaN            NaN   \n",
       "9              0.0            NaN               0.0            NaN   \n",
       "\n",
       "   days_exposition  ratio_living  \n",
       "0              NaN      0.472222  \n",
       "1             81.0      0.460396  \n",
       "2            558.0      0.612500  \n",
       "3            424.0      0.000000  \n",
       "4            121.0      0.320000  \n",
       "5             55.0      0.473684  \n",
       "6            155.0      0.284182  \n",
       "7              NaN      0.000000  \n",
       "8            189.0      0.465320  \n",
       "9            289.0      0.714754  \n",
       "\n",
       "[10 rows x 23 columns]"
      ]
     },
     "execution_count": 16,
     "metadata": {},
     "output_type": "execute_result"
    }
   ],
   "source": [
    "df['living_area'] = df[['living_area', 'total_area']].apply(nan_living, axis=1).round(2)\n",
    "df.head(10)"
   ]
  },
  {
   "cell_type": "markdown",
   "metadata": {},
   "source": [
    "#### Апартаменты (булев тип) - is_apartment "
   ]
  },
  {
   "cell_type": "code",
   "execution_count": 17,
   "metadata": {},
   "outputs": [
    {
     "data": {
      "text/plain": [
       "20924"
      ]
     },
     "execution_count": 17,
     "metadata": {},
     "output_type": "execute_result"
    }
   ],
   "source": [
    "df['is_apartment'].isna().sum()"
   ]
  },
  {
   "cell_type": "markdown",
   "metadata": {},
   "source": [
    "Вероятней всего, при заполнении данных значение True указывали только для категории жилья апартаменты, а False ставили, но чаще пропускали. Поэтому по умолчанию заполним пропуски значением ***False:***"
   ]
  },
  {
   "cell_type": "code",
   "execution_count": 18,
   "metadata": {},
   "outputs": [],
   "source": [
    "df['is_apartment'] = df['is_apartment'].fillna(False)"
   ]
  },
  {
   "cell_type": "markdown",
   "metadata": {},
   "source": [
    "#### Площадь кухни в квадратных метрах (м²) - kitchen_area"
   ]
  },
  {
   "cell_type": "code",
   "execution_count": 19,
   "metadata": {},
   "outputs": [
    {
     "data": {
      "text/plain": [
       "2278"
      ]
     },
     "execution_count": 19,
     "metadata": {},
     "output_type": "execute_result"
    }
   ],
   "source": [
    "df['kitchen_area'].isna().sum()"
   ]
  },
  {
   "cell_type": "markdown",
   "metadata": {},
   "source": [
    "Отметим, что площадь кухни пропущено в квартирах со знаечнием ***True*** в колонке `[studio]`:"
   ]
  },
  {
   "cell_type": "code",
   "execution_count": 20,
   "metadata": {},
   "outputs": [
    {
     "data": {
      "text/html": [
       "<div>\n",
       "<style scoped>\n",
       "    .dataframe tbody tr th:only-of-type {\n",
       "        vertical-align: middle;\n",
       "    }\n",
       "\n",
       "    .dataframe tbody tr th {\n",
       "        vertical-align: top;\n",
       "    }\n",
       "\n",
       "    .dataframe thead th {\n",
       "        text-align: right;\n",
       "    }\n",
       "</style>\n",
       "<table border=\"1\" class=\"dataframe\">\n",
       "  <thead>\n",
       "    <tr style=\"text-align: right;\">\n",
       "      <th></th>\n",
       "      <th>count</th>\n",
       "      <th>median</th>\n",
       "    </tr>\n",
       "    <tr>\n",
       "      <th>studio</th>\n",
       "      <th></th>\n",
       "      <th></th>\n",
       "    </tr>\n",
       "  </thead>\n",
       "  <tbody>\n",
       "    <tr>\n",
       "      <td>False</td>\n",
       "      <td>21421</td>\n",
       "      <td>9.1</td>\n",
       "    </tr>\n",
       "    <tr>\n",
       "      <td>True</td>\n",
       "      <td>0</td>\n",
       "      <td>NaN</td>\n",
       "    </tr>\n",
       "  </tbody>\n",
       "</table>\n",
       "</div>"
      ],
      "text/plain": [
       "        count  median\n",
       "studio               \n",
       "False   21421     9.1\n",
       "True        0     NaN"
      ]
     },
     "execution_count": 20,
     "metadata": {},
     "output_type": "execute_result"
    }
   ],
   "source": [
    "df.groupby('studio')['kitchen_area'].agg(['count', 'median'])"
   ]
  },
  {
   "cell_type": "markdown",
   "metadata": {},
   "source": [
    "Создадим функцию по заполнению колонки `['kitchen_area']` значением \"0\", если квартира является студией и внесем данные в таблицу:"
   ]
  },
  {
   "cell_type": "code",
   "execution_count": 21,
   "metadata": {},
   "outputs": [],
   "source": [
    "def kitchen_area_zero(row):\n",
    "    if row['studio'] == True:\n",
    "        return 0\n",
    "    else:\n",
    "        return row['kitchen_area']"
   ]
  },
  {
   "cell_type": "code",
   "execution_count": 22,
   "metadata": {},
   "outputs": [],
   "source": [
    "df['kitchen_area'] = df[['studio', 'kitchen_area']].apply(kitchen_area_zero, axis=1)"
   ]
  },
  {
   "cell_type": "code",
   "execution_count": 23,
   "metadata": {},
   "outputs": [
    {
     "data": {
      "text/plain": [
       "2129"
      ]
     },
     "execution_count": 23,
     "metadata": {},
     "output_type": "execute_result"
    }
   ],
   "source": [
    "df['kitchen_area'].isna().sum()"
   ]
  },
  {
   "cell_type": "markdown",
   "metadata": {},
   "source": [
    "Остальные пропуски попробуем заменить на средние площади кухонь для групп квартир, разбитых по общей площади для восьми групп:"
   ]
  },
  {
   "cell_type": "code",
   "execution_count": 24,
   "metadata": {},
   "outputs": [
    {
     "data": {
      "text/plain": [
       "<bound method Series.mean of 0         (87.0, 900.0]\n",
       "1          (40.0, 45.0]\n",
       "2          (52.0, 60.0]\n",
       "3         (87.0, 900.0]\n",
       "4         (87.0, 900.0]\n",
       "              ...      \n",
       "23694     (87.0, 900.0]\n",
       "23695      (52.0, 60.0]\n",
       "23696      (52.0, 60.0]\n",
       "23697      (69.9, 87.0]\n",
       "23698    (11.999, 34.0]\n",
       "Name: total_area, Length: 23699, dtype: category\n",
       "Categories (8, interval[float64]): [(11.999, 34.0] < (34.0, 40.0] < (40.0, 45.0] < (45.0, 52.0] < (52.0, 60.0] < (60.0, 69.9] < (69.9, 87.0] < (87.0, 900.0]]>"
      ]
     },
     "execution_count": 24,
     "metadata": {},
     "output_type": "execute_result"
    }
   ],
   "source": [
    "# разбиваем методом qcut общие площади на равные группы\n",
    "interval_total_area = pd.qcut(df['total_area'], 8)\n",
    "interval_total_area.mean"
   ]
  },
  {
   "cell_type": "code",
   "execution_count": 25,
   "metadata": {},
   "outputs": [],
   "source": [
    "# Добавим в таблицу столбец диапазона площади квартир\n",
    "df['total_interval'] = interval_total_area"
   ]
  },
  {
   "cell_type": "code",
   "execution_count": 26,
   "metadata": {},
   "outputs": [],
   "source": [
    "group_kitchen_mean = df.groupby(['total_interval'])"
   ]
  },
  {
   "cell_type": "code",
   "execution_count": 27,
   "metadata": {},
   "outputs": [],
   "source": [
    "# заменим пропуски в стобце kitchen_area по среднему знаечнию площади кухонь\n",
    "# cajhvbhjdfyys[ ]\n",
    "df['kitchen_area'] = group_kitchen_mean['kitchen_area'].apply(lambda x: x.fillna(x.mean())).round(2)"
   ]
  },
  {
   "cell_type": "markdown",
   "metadata": {},
   "source": [
    "Пропуски площадей кухонь заменили на \"0\" для квартир студий. В остальных случаях, средним значением площади кухни, вычисленной для 8 групп квартир, объединенных на соновании общей площади. "
   ]
  },
  {
   "cell_type": "markdown",
   "metadata": {},
   "source": [
    "Группировка квартир по общей площади позволила сузить выборку и посчитать среднее значение для площади кухонь в каждой группе. Среднее знаечение в данной переменной допустимо, т.к. разброс значений становится не таким широким, как в целом для DataFrame.  \n",
    "\n",
    "Думаю и здесь пропуски - это результат умышленного сокрытия информации продавцами."
   ]
  },
  {
   "cell_type": "markdown",
   "metadata": {},
   "source": [
    "#### Число балконов - balcony"
   ]
  },
  {
   "cell_type": "code",
   "execution_count": 28,
   "metadata": {},
   "outputs": [
    {
     "data": {
      "text/plain": [
       "11519"
      ]
     },
     "execution_count": 28,
     "metadata": {},
     "output_type": "execute_result"
    }
   ],
   "source": [
    "df['balcony'].isna().sum()"
   ]
  },
  {
   "cell_type": "code",
   "execution_count": 29,
   "metadata": {},
   "outputs": [
    {
     "data": {
      "text/plain": [
       "0"
      ]
     },
     "execution_count": 29,
     "metadata": {},
     "output_type": "execute_result"
    }
   ],
   "source": [
    "df['balcony'] = df['balcony'].fillna(0).astype('int')\n",
    "df['balcony'].isna().sum()"
   ]
  },
  {
   "cell_type": "markdown",
   "metadata": {},
   "source": [
    "Количество пропущенных значений 11519.  \n",
    "\n",
    "Скорее всего пропуски вызваны отсутствием балконов в квартире, заменим их на значение \"0\"."
   ]
  },
  {
   "cell_type": "markdown",
   "metadata": {},
   "source": [
    "#### Название населённого пункта - locality_name"
   ]
  },
  {
   "cell_type": "code",
   "execution_count": 30,
   "metadata": {},
   "outputs": [
    {
     "data": {
      "text/plain": [
       "49"
      ]
     },
     "execution_count": 30,
     "metadata": {},
     "output_type": "execute_result"
    }
   ],
   "source": [
    "df['locality_name'].isna().sum()"
   ]
  },
  {
   "cell_type": "code",
   "execution_count": 31,
   "metadata": {},
   "outputs": [],
   "source": [
    "df['locality_name'] = df['locality_name'].fillna('unknown')"
   ]
  },
  {
   "cell_type": "markdown",
   "metadata": {},
   "source": [
    "Заменим пропущенные значение на 'unknown'."
   ]
  },
  {
   "cell_type": "markdown",
   "metadata": {},
   "source": [
    "#### Расстояние до ближайшего аэропорта в метрах (м) - airports_nearest"
   ]
  },
  {
   "cell_type": "markdown",
   "metadata": {},
   "source": [
    "В данных расстояния до аэропорта присутствуют 5542 пропуска."
   ]
  },
  {
   "cell_type": "code",
   "execution_count": 32,
   "metadata": {},
   "outputs": [
    {
     "data": {
      "text/plain": [
       "5542"
      ]
     },
     "execution_count": 32,
     "metadata": {},
     "output_type": "execute_result"
    }
   ],
   "source": [
    "df['airports_nearest'].isna().sum()"
   ]
  },
  {
   "cell_type": "code",
   "execution_count": 33,
   "metadata": {},
   "outputs": [
    {
     "data": {
      "text/plain": [
       "count    18157.000000\n",
       "mean     28793.672193\n",
       "std      12630.880622\n",
       "min          0.000000\n",
       "25%      18585.000000\n",
       "50%      26726.000000\n",
       "75%      37273.000000\n",
       "max      84869.000000\n",
       "Name: airports_nearest, dtype: float64"
      ]
     },
     "execution_count": 33,
     "metadata": {},
     "output_type": "execute_result"
    }
   ],
   "source": [
    "df['airports_nearest'].describe()"
   ]
  },
  {
   "cell_type": "markdown",
   "metadata": {},
   "source": [
    "Сгруппируем данные по названию населенного пункта `['locality_name']`:"
   ]
  },
  {
   "cell_type": "code",
   "execution_count": 34,
   "metadata": {},
   "outputs": [],
   "source": [
    "locality_group = df.groupby(['locality_name'])"
   ]
  },
  {
   "cell_type": "markdown",
   "metadata": {},
   "source": [
    "Вычислим среднее значение расстояния до аэропорта для каждой локации и заменим пропуски:"
   ]
  },
  {
   "cell_type": "code",
   "execution_count": 35,
   "metadata": {},
   "outputs": [
    {
     "data": {
      "text/plain": [
       "5386"
      ]
     },
     "execution_count": 35,
     "metadata": {},
     "output_type": "execute_result"
    }
   ],
   "source": [
    "df['airports_nearest'] = locality_group['airports_nearest'].apply(lambda i: i.fillna(i.mean()).round(2))\n",
    "df['airports_nearest'].isna().sum()"
   ]
  },
  {
   "cell_type": "markdown",
   "metadata": {},
   "source": [
    "В остальных случаях заменим это значение на 0. Вероятней всего это значение пропущенно из-за большого расстояния до аэропорта."
   ]
  },
  {
   "cell_type": "code",
   "execution_count": 36,
   "metadata": {},
   "outputs": [],
   "source": [
    "df['airports_nearest'] = df['airports_nearest'].fillna(0)"
   ]
  },
  {
   "cell_type": "markdown",
   "metadata": {},
   "source": [
    "### По аналогии с **airports_nearest**, заполним недостающие значения в столбцах:  \n",
    "- cityCenters_nearest;  \n",
    "\n",
    "- parks_around3000;  \n",
    "\n",
    "- parks_nearest;  \n",
    "\n",
    "- ponds_around3000;  \n",
    "\n",
    "- ponds_nearest.\n"
   ]
  },
  {
   "cell_type": "markdown",
   "metadata": {},
   "source": [
    "#### Расстояние до центра города (м) - cityCenters_nearest"
   ]
  },
  {
   "cell_type": "code",
   "execution_count": 37,
   "metadata": {},
   "outputs": [
    {
     "data": {
      "text/plain": [
       "5519"
      ]
     },
     "execution_count": 37,
     "metadata": {},
     "output_type": "execute_result"
    }
   ],
   "source": [
    "df['cityCenters_nearest'].isna().sum()"
   ]
  },
  {
   "cell_type": "code",
   "execution_count": 38,
   "metadata": {},
   "outputs": [
    {
     "data": {
      "text/plain": [
       "count    18180.000000\n",
       "mean     14191.277833\n",
       "std       8608.386210\n",
       "min        181.000000\n",
       "25%       9238.000000\n",
       "50%      13098.500000\n",
       "75%      16293.000000\n",
       "max      65968.000000\n",
       "Name: cityCenters_nearest, dtype: float64"
      ]
     },
     "execution_count": 38,
     "metadata": {},
     "output_type": "execute_result"
    }
   ],
   "source": [
    "df['cityCenters_nearest'].describe()"
   ]
  },
  {
   "cell_type": "code",
   "execution_count": 39,
   "metadata": {},
   "outputs": [
    {
     "data": {
      "text/plain": [
       "5386"
      ]
     },
     "execution_count": 39,
     "metadata": {},
     "output_type": "execute_result"
    }
   ],
   "source": [
    "df['cityCenters_nearest'] = locality_group['cityCenters_nearest'].apply(lambda i: i.fillna(i.mean()).round(2))\n",
    "df['cityCenters_nearest'].isna().sum()"
   ]
  },
  {
   "cell_type": "code",
   "execution_count": 40,
   "metadata": {},
   "outputs": [
    {
     "data": {
      "text/plain": [
       "0"
      ]
     },
     "execution_count": 40,
     "metadata": {},
     "output_type": "execute_result"
    }
   ],
   "source": [
    "df['cityCenters_nearest'] = df['cityCenters_nearest'].fillna(0)\n",
    "df['cityCenters_nearest'].isna().sum()"
   ]
  },
  {
   "cell_type": "code",
   "execution_count": 41,
   "metadata": {
    "scrolled": true
   },
   "outputs": [
    {
     "data": {
      "text/plain": [
       "посёлок Мурино             522\n",
       "Всеволожск                 398\n",
       "Гатчина                    307\n",
       "деревня Кудрово            299\n",
       "Выборг                     237\n",
       "Кудрово                    173\n",
       "деревня Новое Девяткино    144\n",
       "Сертолово                  142\n",
       "Кириши                     125\n",
       "Сланцы                     112\n",
       "Name: locality_name, dtype: int64"
      ]
     },
     "execution_count": 41,
     "metadata": {},
     "output_type": "execute_result"
    }
   ],
   "source": [
    "zero_center = df.query('cityCenters_nearest == 0')\n",
    "zero_center['locality_name'].value_counts().head(10)"
   ]
  },
  {
   "cell_type": "markdown",
   "metadata": {},
   "source": [
    "Расстояние до центра города не указано для небольших населенных пунктов."
   ]
  },
  {
   "cell_type": "markdown",
   "metadata": {},
   "source": [
    "#### Число парков в радиусе 3 км - parks_around3000"
   ]
  },
  {
   "cell_type": "code",
   "execution_count": 42,
   "metadata": {},
   "outputs": [
    {
     "data": {
      "text/plain": [
       "5518"
      ]
     },
     "execution_count": 42,
     "metadata": {},
     "output_type": "execute_result"
    }
   ],
   "source": [
    "df['parks_around3000'].isna().sum()"
   ]
  },
  {
   "cell_type": "code",
   "execution_count": 43,
   "metadata": {},
   "outputs": [
    {
     "data": {
      "text/plain": [
       "count    18181.000000\n",
       "mean         0.611408\n",
       "std          0.802074\n",
       "min          0.000000\n",
       "25%          0.000000\n",
       "50%          0.000000\n",
       "75%          1.000000\n",
       "max          3.000000\n",
       "Name: parks_around3000, dtype: float64"
      ]
     },
     "execution_count": 43,
     "metadata": {},
     "output_type": "execute_result"
    }
   ],
   "source": [
    "df['parks_around3000'].describe()"
   ]
  },
  {
   "cell_type": "code",
   "execution_count": 44,
   "metadata": {},
   "outputs": [
    {
     "data": {
      "text/plain": [
       "5386"
      ]
     },
     "execution_count": 44,
     "metadata": {},
     "output_type": "execute_result"
    }
   ],
   "source": [
    "df['parks_around3000'] = locality_group['parks_around3000'].apply(lambda i: i.fillna(i.mean()).round(0))\n",
    "df['parks_around3000'].isna().sum()"
   ]
  },
  {
   "cell_type": "code",
   "execution_count": 45,
   "metadata": {},
   "outputs": [
    {
     "data": {
      "text/plain": [
       "0"
      ]
     },
     "execution_count": 45,
     "metadata": {},
     "output_type": "execute_result"
    }
   ],
   "source": [
    "# Применим функцию astype, т.к. знаечние должно быть целвм числом\n",
    "df['parks_around3000'] = df['parks_around3000'].fillna(0).astype('int')\n",
    "df['parks_around3000'].isna().sum()"
   ]
  },
  {
   "cell_type": "markdown",
   "metadata": {},
   "source": [
    "Т.к. значение столбце ['parks_around3000'] доступно только для числа парков в радиусе 3 км, можно предположить, что пропуски означают отсутствие парков в этой зоне. Поэтому заполнение пропущенных значений нулем имеет смысл."
   ]
  },
  {
   "cell_type": "markdown",
   "metadata": {},
   "source": [
    "#### Расстояние до ближайшего парка (м) - parks_nearest"
   ]
  },
  {
   "cell_type": "code",
   "execution_count": 46,
   "metadata": {},
   "outputs": [
    {
     "data": {
      "text/plain": [
       "15620"
      ]
     },
     "execution_count": 46,
     "metadata": {},
     "output_type": "execute_result"
    }
   ],
   "source": [
    "df['parks_nearest'].isna().sum()"
   ]
  },
  {
   "cell_type": "code",
   "execution_count": 47,
   "metadata": {},
   "outputs": [
    {
     "data": {
      "text/plain": [
       "count    8079.000000\n",
       "mean      490.804555\n",
       "std       342.317995\n",
       "min         1.000000\n",
       "25%       288.000000\n",
       "50%       455.000000\n",
       "75%       612.000000\n",
       "max      3190.000000\n",
       "Name: parks_nearest, dtype: float64"
      ]
     },
     "execution_count": 47,
     "metadata": {},
     "output_type": "execute_result"
    }
   ],
   "source": [
    "df['parks_nearest'].describe()"
   ]
  },
  {
   "cell_type": "code",
   "execution_count": 48,
   "metadata": {},
   "outputs": [
    {
     "data": {
      "text/plain": [
       "5998"
      ]
     },
     "execution_count": 48,
     "metadata": {},
     "output_type": "execute_result"
    }
   ],
   "source": [
    "df['parks_nearest'] = locality_group['parks_nearest'].apply(lambda i: i.fillna(i.mean()).round(2))\n",
    "df['parks_nearest'].isna().sum()"
   ]
  },
  {
   "cell_type": "code",
   "execution_count": 49,
   "metadata": {},
   "outputs": [
    {
     "data": {
      "text/plain": [
       "0"
      ]
     },
     "execution_count": 49,
     "metadata": {},
     "output_type": "execute_result"
    }
   ],
   "source": [
    "df['parks_nearest'] = df['parks_nearest'].fillna(0)\n",
    "df['parks_nearest'].isna().sum()"
   ]
  },
  {
   "cell_type": "markdown",
   "metadata": {},
   "source": [
    "Из-за большого количества пропусков для этих значений, можно с уверенностью сказать, что продавцы не знают расстояние до ближайшего парка и могут указать только их количество в пределах доступности."
   ]
  },
  {
   "cell_type": "markdown",
   "metadata": {},
   "source": [
    "#### Число водоёмов в радиусе 3 км - ponds_around3000"
   ]
  },
  {
   "cell_type": "code",
   "execution_count": 50,
   "metadata": {},
   "outputs": [
    {
     "data": {
      "text/plain": [
       "5518"
      ]
     },
     "execution_count": 50,
     "metadata": {},
     "output_type": "execute_result"
    }
   ],
   "source": [
    "df['ponds_around3000'].isna().sum()"
   ]
  },
  {
   "cell_type": "code",
   "execution_count": 51,
   "metadata": {},
   "outputs": [
    {
     "data": {
      "text/plain": [
       "count    18181.000000\n",
       "mean         0.770255\n",
       "std          0.938346\n",
       "min          0.000000\n",
       "25%          0.000000\n",
       "50%          1.000000\n",
       "75%          1.000000\n",
       "max          3.000000\n",
       "Name: ponds_around3000, dtype: float64"
      ]
     },
     "execution_count": 51,
     "metadata": {},
     "output_type": "execute_result"
    }
   ],
   "source": [
    "df['ponds_around3000'].describe()"
   ]
  },
  {
   "cell_type": "code",
   "execution_count": 52,
   "metadata": {},
   "outputs": [
    {
     "data": {
      "text/plain": [
       "0"
      ]
     },
     "execution_count": 52,
     "metadata": {},
     "output_type": "execute_result"
    }
   ],
   "source": [
    "df['ponds_around3000'] = locality_group['parks_nearest'].apply(lambda i: i.fillna(i.mean()).round(0))\n",
    "df['ponds_around3000'].isna().sum()"
   ]
  },
  {
   "cell_type": "code",
   "execution_count": 53,
   "metadata": {},
   "outputs": [
    {
     "data": {
      "text/plain": [
       "0"
      ]
     },
     "execution_count": 53,
     "metadata": {},
     "output_type": "execute_result"
    }
   ],
   "source": [
    "df['ponds_around3000'] = df['parks_nearest'].fillna(0).astype('int')\n",
    "df['ponds_around3000'].isna().sum()"
   ]
  },
  {
   "cell_type": "markdown",
   "metadata": {},
   "source": [
    "Как и для столбца ['parks_around3000'], вероятней всего пропуски в ['ponds_around3000'], ни что иное как отсутствие водоемов в 3 км зоне."
   ]
  },
  {
   "cell_type": "markdown",
   "metadata": {},
   "source": [
    "#### Расстояние до ближайшего водоёма (м) - ponds_nearest"
   ]
  },
  {
   "cell_type": "code",
   "execution_count": 54,
   "metadata": {},
   "outputs": [
    {
     "data": {
      "text/plain": [
       "14589"
      ]
     },
     "execution_count": 54,
     "metadata": {},
     "output_type": "execute_result"
    }
   ],
   "source": [
    "df['ponds_nearest'].isna().sum()"
   ]
  },
  {
   "cell_type": "code",
   "execution_count": 55,
   "metadata": {},
   "outputs": [
    {
     "data": {
      "text/plain": [
       "count    9110.000000\n",
       "mean      517.980900\n",
       "std       277.720643\n",
       "min        13.000000\n",
       "25%       294.000000\n",
       "50%       502.000000\n",
       "75%       729.000000\n",
       "max      1344.000000\n",
       "Name: ponds_nearest, dtype: float64"
      ]
     },
     "execution_count": 55,
     "metadata": {},
     "output_type": "execute_result"
    }
   ],
   "source": [
    "df['ponds_nearest'].describe()"
   ]
  },
  {
   "cell_type": "code",
   "execution_count": 56,
   "metadata": {},
   "outputs": [
    {
     "data": {
      "text/plain": [
       "5494"
      ]
     },
     "execution_count": 56,
     "metadata": {},
     "output_type": "execute_result"
    }
   ],
   "source": [
    "df['ponds_nearest'] = locality_group['ponds_nearest'].apply(lambda i: i.fillna(i.mean()).round(2))\n",
    "df['ponds_nearest'].isna().sum()"
   ]
  },
  {
   "cell_type": "code",
   "execution_count": 57,
   "metadata": {},
   "outputs": [
    {
     "data": {
      "text/plain": [
       "0"
      ]
     },
     "execution_count": 57,
     "metadata": {},
     "output_type": "execute_result"
    }
   ],
   "source": [
    "df['ponds_nearest'] = df['ponds_nearest'].fillna(0)\n",
    "df['ponds_nearest'].isna().sum()"
   ]
  },
  {
   "cell_type": "markdown",
   "metadata": {},
   "source": [
    "#### Сколько дней было размещено объявление -  days_exposition"
   ]
  },
  {
   "cell_type": "markdown",
   "metadata": {},
   "source": [
    "В колонке `['days_exposition']` отсутствуют 3181 значения, заменим эти пропуски средним значением публицации объявления."
   ]
  },
  {
   "cell_type": "code",
   "execution_count": 58,
   "metadata": {},
   "outputs": [
    {
     "data": {
      "text/plain": [
       "3181"
      ]
     },
     "execution_count": 58,
     "metadata": {},
     "output_type": "execute_result"
    }
   ],
   "source": [
    "df['days_exposition'].isna().sum()"
   ]
  },
  {
   "cell_type": "code",
   "execution_count": 59,
   "metadata": {},
   "outputs": [
    {
     "data": {
      "text/plain": [
       "count    20518.000000\n",
       "mean       180.888634\n",
       "std        219.727988\n",
       "min          1.000000\n",
       "25%         45.000000\n",
       "50%         95.000000\n",
       "75%        232.000000\n",
       "max       1580.000000\n",
       "Name: days_exposition, dtype: float64"
      ]
     },
     "execution_count": 59,
     "metadata": {},
     "output_type": "execute_result"
    }
   ],
   "source": [
    "df['days_exposition'].describe()"
   ]
  },
  {
   "cell_type": "code",
   "execution_count": 60,
   "metadata": {
    "tags": [
     "days_exposition_median"
    ]
   },
   "outputs": [
    {
     "data": {
      "text/plain": [
       "0"
      ]
     },
     "execution_count": 60,
     "metadata": {},
     "output_type": "execute_result"
    }
   ],
   "source": [
    "days_exposition_median = df['days_exposition'].median()\n",
    "df['days_exposition'] = df['days_exposition'].fillna(days_exposition_median).astype('int')\n",
    "df['days_exposition'].isna().sum()"
   ]
  },
  {
   "cell_type": "markdown",
   "metadata": {},
   "source": [
    "Пустые ячейки в столбце ['days_exposition'], вероятно говорят нам о том, что после публикации объявление не было снято пользователем после проведения сделки или ее отмены. Объявление скорее всего было удалено администратором ресурса. \n",
    "    \n",
    "Т.к. разброс значений находится в больших пределах, самым верным заполнением пропусков будет величина медианы."
   ]
  },
  {
   "cell_type": "markdown",
   "metadata": {},
   "source": [
    "Проверим присутствуют ли в таблице дубликаты:"
   ]
  },
  {
   "cell_type": "code",
   "execution_count": 61,
   "metadata": {},
   "outputs": [
    {
     "name": "stdout",
     "output_type": "stream",
     "text": [
      "Количество дубликатов в таблице: 0\n"
     ]
    }
   ],
   "source": [
    "print('Количество дубликатов в таблице: {}'.format(df.duplicated().sum()))"
   ]
  },
  {
   "cell_type": "markdown",
   "metadata": {},
   "source": [
    "### Вывод"
   ]
  },
  {
   "cell_type": "markdown",
   "metadata": {},
   "source": [
    "В таблице пропущенно достаточно большое количество значений. Причнины возникновения пропусков различны: не заполнение ряда параметров при создании объявления, предыдущая предобработка данных другим пользователем, не верная выгрузка данных с первоначальных источников и пр.  \n",
    "\n",
    "Методы заполнения пропусков отличались для разных столбцов. Способы заполнения:\n",
    "- ceiling_height, days_exposition - **медианой**,\n",
    "- floors_total, balcony, airports_nearest, cityCenters_neares, parks_around3000 - значением **0**, \n",
    "- is_apartment - заполнение **булев типом**, \n",
    "- locality_name - строковым значением **'unknown'**, \n",
    "- living_area, kitchen_area, parks_nearest, ponds_around3000, ponds_nearest - **медианой для групп данных**."
   ]
  },
  {
   "cell_type": "markdown",
   "metadata": {},
   "source": [
    "### Шаг 3. Посчитайте и добавьте в таблицу"
   ]
  },
  {
   "cell_type": "markdown",
   "metadata": {},
   "source": [
    "Для добавления в таблицу стоимости квадратного метра, поделим столбцы `['last_price'] / ['living_area']` и округлим значения до двух знаков после запятой.\n"
   ]
  },
  {
   "cell_type": "code",
   "execution_count": 62,
   "metadata": {},
   "outputs": [],
   "source": [
    "df['square_meter'] = (\n",
    "    (df['last_price'] / df['living_area'])\n",
    "    .round(2)\n",
    ")"
   ]
  },
  {
   "cell_type": "code",
   "execution_count": 63,
   "metadata": {},
   "outputs": [
    {
     "data": {
      "text/html": [
       "<div>\n",
       "<style scoped>\n",
       "    .dataframe tbody tr th:only-of-type {\n",
       "        vertical-align: middle;\n",
       "    }\n",
       "\n",
       "    .dataframe tbody tr th {\n",
       "        vertical-align: top;\n",
       "    }\n",
       "\n",
       "    .dataframe thead th {\n",
       "        text-align: right;\n",
       "    }\n",
       "</style>\n",
       "<table border=\"1\" class=\"dataframe\">\n",
       "  <thead>\n",
       "    <tr style=\"text-align: right;\">\n",
       "      <th></th>\n",
       "      <th>total_images</th>\n",
       "      <th>last_price</th>\n",
       "      <th>total_area</th>\n",
       "      <th>first_day_exposition</th>\n",
       "      <th>rooms</th>\n",
       "      <th>ceiling_height</th>\n",
       "      <th>floors_total</th>\n",
       "      <th>living_area</th>\n",
       "      <th>floor</th>\n",
       "      <th>is_apartment</th>\n",
       "      <th>...</th>\n",
       "      <th>airports_nearest</th>\n",
       "      <th>cityCenters_nearest</th>\n",
       "      <th>parks_around3000</th>\n",
       "      <th>parks_nearest</th>\n",
       "      <th>ponds_around3000</th>\n",
       "      <th>ponds_nearest</th>\n",
       "      <th>days_exposition</th>\n",
       "      <th>ratio_living</th>\n",
       "      <th>total_interval</th>\n",
       "      <th>square_meter</th>\n",
       "    </tr>\n",
       "  </thead>\n",
       "  <tbody>\n",
       "    <tr>\n",
       "      <td>0</td>\n",
       "      <td>20</td>\n",
       "      <td>13000000.0</td>\n",
       "      <td>108.0</td>\n",
       "      <td>2019-03-07T00:00:00</td>\n",
       "      <td>3</td>\n",
       "      <td>2.70</td>\n",
       "      <td>16</td>\n",
       "      <td>51.00</td>\n",
       "      <td>8</td>\n",
       "      <td>False</td>\n",
       "      <td>...</td>\n",
       "      <td>18863.0</td>\n",
       "      <td>16028.0</td>\n",
       "      <td>1</td>\n",
       "      <td>482.0</td>\n",
       "      <td>482</td>\n",
       "      <td>755.00</td>\n",
       "      <td>95</td>\n",
       "      <td>0.472222</td>\n",
       "      <td>(87.0, 900.0]</td>\n",
       "      <td>254901.96</td>\n",
       "    </tr>\n",
       "    <tr>\n",
       "      <td>1</td>\n",
       "      <td>7</td>\n",
       "      <td>3350000.0</td>\n",
       "      <td>40.4</td>\n",
       "      <td>2018-12-04T00:00:00</td>\n",
       "      <td>1</td>\n",
       "      <td>2.65</td>\n",
       "      <td>11</td>\n",
       "      <td>18.60</td>\n",
       "      <td>1</td>\n",
       "      <td>False</td>\n",
       "      <td>...</td>\n",
       "      <td>12817.0</td>\n",
       "      <td>18603.0</td>\n",
       "      <td>0</td>\n",
       "      <td>0.0</td>\n",
       "      <td>0</td>\n",
       "      <td>573.22</td>\n",
       "      <td>81</td>\n",
       "      <td>0.460396</td>\n",
       "      <td>(40.0, 45.0]</td>\n",
       "      <td>180107.53</td>\n",
       "    </tr>\n",
       "    <tr>\n",
       "      <td>2</td>\n",
       "      <td>10</td>\n",
       "      <td>5196000.0</td>\n",
       "      <td>56.0</td>\n",
       "      <td>2015-08-20T00:00:00</td>\n",
       "      <td>2</td>\n",
       "      <td>2.65</td>\n",
       "      <td>5</td>\n",
       "      <td>34.30</td>\n",
       "      <td>4</td>\n",
       "      <td>False</td>\n",
       "      <td>...</td>\n",
       "      <td>21741.0</td>\n",
       "      <td>13933.0</td>\n",
       "      <td>1</td>\n",
       "      <td>90.0</td>\n",
       "      <td>90</td>\n",
       "      <td>574.00</td>\n",
       "      <td>558</td>\n",
       "      <td>0.612500</td>\n",
       "      <td>(52.0, 60.0]</td>\n",
       "      <td>151486.88</td>\n",
       "    </tr>\n",
       "    <tr>\n",
       "      <td>3</td>\n",
       "      <td>0</td>\n",
       "      <td>64900000.0</td>\n",
       "      <td>159.0</td>\n",
       "      <td>2015-07-24T00:00:00</td>\n",
       "      <td>3</td>\n",
       "      <td>2.65</td>\n",
       "      <td>14</td>\n",
       "      <td>82.59</td>\n",
       "      <td>9</td>\n",
       "      <td>False</td>\n",
       "      <td>...</td>\n",
       "      <td>28098.0</td>\n",
       "      <td>6800.0</td>\n",
       "      <td>2</td>\n",
       "      <td>84.0</td>\n",
       "      <td>84</td>\n",
       "      <td>234.00</td>\n",
       "      <td>424</td>\n",
       "      <td>0.000000</td>\n",
       "      <td>(87.0, 900.0]</td>\n",
       "      <td>785809.42</td>\n",
       "    </tr>\n",
       "    <tr>\n",
       "      <td>4</td>\n",
       "      <td>2</td>\n",
       "      <td>10000000.0</td>\n",
       "      <td>100.0</td>\n",
       "      <td>2018-06-19T00:00:00</td>\n",
       "      <td>2</td>\n",
       "      <td>3.03</td>\n",
       "      <td>14</td>\n",
       "      <td>32.00</td>\n",
       "      <td>13</td>\n",
       "      <td>False</td>\n",
       "      <td>...</td>\n",
       "      <td>31856.0</td>\n",
       "      <td>8098.0</td>\n",
       "      <td>2</td>\n",
       "      <td>112.0</td>\n",
       "      <td>112</td>\n",
       "      <td>48.00</td>\n",
       "      <td>121</td>\n",
       "      <td>0.320000</td>\n",
       "      <td>(87.0, 900.0]</td>\n",
       "      <td>312500.00</td>\n",
       "    </tr>\n",
       "  </tbody>\n",
       "</table>\n",
       "<p>5 rows × 25 columns</p>\n",
       "</div>"
      ],
      "text/plain": [
       "   total_images  last_price  total_area first_day_exposition  rooms  \\\n",
       "0            20  13000000.0       108.0  2019-03-07T00:00:00      3   \n",
       "1             7   3350000.0        40.4  2018-12-04T00:00:00      1   \n",
       "2            10   5196000.0        56.0  2015-08-20T00:00:00      2   \n",
       "3             0  64900000.0       159.0  2015-07-24T00:00:00      3   \n",
       "4             2  10000000.0       100.0  2018-06-19T00:00:00      2   \n",
       "\n",
       "   ceiling_height  floors_total  living_area  floor  is_apartment  ...  \\\n",
       "0            2.70            16        51.00      8         False  ...   \n",
       "1            2.65            11        18.60      1         False  ...   \n",
       "2            2.65             5        34.30      4         False  ...   \n",
       "3            2.65            14        82.59      9         False  ...   \n",
       "4            3.03            14        32.00     13         False  ...   \n",
       "\n",
       "   airports_nearest  cityCenters_nearest  parks_around3000  parks_nearest  \\\n",
       "0           18863.0              16028.0                 1          482.0   \n",
       "1           12817.0              18603.0                 0            0.0   \n",
       "2           21741.0              13933.0                 1           90.0   \n",
       "3           28098.0               6800.0                 2           84.0   \n",
       "4           31856.0               8098.0                 2          112.0   \n",
       "\n",
       "  ponds_around3000  ponds_nearest  days_exposition  ratio_living  \\\n",
       "0              482         755.00               95      0.472222   \n",
       "1                0         573.22               81      0.460396   \n",
       "2               90         574.00              558      0.612500   \n",
       "3               84         234.00              424      0.000000   \n",
       "4              112          48.00              121      0.320000   \n",
       "\n",
       "   total_interval  square_meter  \n",
       "0   (87.0, 900.0]     254901.96  \n",
       "1    (40.0, 45.0]     180107.53  \n",
       "2    (52.0, 60.0]     151486.88  \n",
       "3   (87.0, 900.0]     785809.42  \n",
       "4   (87.0, 900.0]     312500.00  \n",
       "\n",
       "[5 rows x 25 columns]"
      ]
     },
     "execution_count": 63,
     "metadata": {},
     "output_type": "execute_result"
    }
   ],
   "source": [
    "df.head()"
   ]
  },
  {
   "cell_type": "markdown",
   "metadata": {},
   "source": [
    "Добавим в таблицу временные значения день недели, месяц, год публикации объявления.  \n",
    "\n",
    "Для этого применим метод `to_datetime` к столбцу `['first_day_exposition']`:"
   ]
  },
  {
   "cell_type": "code",
   "execution_count": 64,
   "metadata": {},
   "outputs": [],
   "source": [
    "df['first_day_exposition'] = pd.to_datetime(df['first_day_exposition'], format='%Y.%m.%d %H:%M:%S') # Зададим формат даты"
   ]
  },
  {
   "cell_type": "code",
   "execution_count": 65,
   "metadata": {},
   "outputs": [],
   "source": [
    "# Вычислим день недели\n",
    "df['exposition_weekday'] = df['first_day_exposition'].dt.weekday"
   ]
  },
  {
   "cell_type": "code",
   "execution_count": 66,
   "metadata": {},
   "outputs": [],
   "source": [
    "# Вычислим месяц\n",
    "df['exposition_month'] = df['first_day_exposition'].dt.month"
   ]
  },
  {
   "cell_type": "code",
   "execution_count": 67,
   "metadata": {},
   "outputs": [
    {
     "data": {
      "text/html": [
       "<div>\n",
       "<style scoped>\n",
       "    .dataframe tbody tr th:only-of-type {\n",
       "        vertical-align: middle;\n",
       "    }\n",
       "\n",
       "    .dataframe tbody tr th {\n",
       "        vertical-align: top;\n",
       "    }\n",
       "\n",
       "    .dataframe thead th {\n",
       "        text-align: right;\n",
       "    }\n",
       "</style>\n",
       "<table border=\"1\" class=\"dataframe\">\n",
       "  <thead>\n",
       "    <tr style=\"text-align: right;\">\n",
       "      <th></th>\n",
       "      <th>total_images</th>\n",
       "      <th>last_price</th>\n",
       "      <th>total_area</th>\n",
       "      <th>first_day_exposition</th>\n",
       "      <th>rooms</th>\n",
       "      <th>ceiling_height</th>\n",
       "      <th>floors_total</th>\n",
       "      <th>living_area</th>\n",
       "      <th>floor</th>\n",
       "      <th>is_apartment</th>\n",
       "      <th>...</th>\n",
       "      <th>parks_nearest</th>\n",
       "      <th>ponds_around3000</th>\n",
       "      <th>ponds_nearest</th>\n",
       "      <th>days_exposition</th>\n",
       "      <th>ratio_living</th>\n",
       "      <th>total_interval</th>\n",
       "      <th>square_meter</th>\n",
       "      <th>exposition_weekday</th>\n",
       "      <th>exposition_month</th>\n",
       "      <th>exposition_year</th>\n",
       "    </tr>\n",
       "  </thead>\n",
       "  <tbody>\n",
       "    <tr>\n",
       "      <td>0</td>\n",
       "      <td>20</td>\n",
       "      <td>13000000.0</td>\n",
       "      <td>108.0</td>\n",
       "      <td>2019-03-07</td>\n",
       "      <td>3</td>\n",
       "      <td>2.70</td>\n",
       "      <td>16</td>\n",
       "      <td>51.00</td>\n",
       "      <td>8</td>\n",
       "      <td>False</td>\n",
       "      <td>...</td>\n",
       "      <td>482.0</td>\n",
       "      <td>482</td>\n",
       "      <td>755.00</td>\n",
       "      <td>95</td>\n",
       "      <td>0.472222</td>\n",
       "      <td>(87.0, 900.0]</td>\n",
       "      <td>254901.96</td>\n",
       "      <td>3</td>\n",
       "      <td>3</td>\n",
       "      <td>2019</td>\n",
       "    </tr>\n",
       "    <tr>\n",
       "      <td>1</td>\n",
       "      <td>7</td>\n",
       "      <td>3350000.0</td>\n",
       "      <td>40.4</td>\n",
       "      <td>2018-12-04</td>\n",
       "      <td>1</td>\n",
       "      <td>2.65</td>\n",
       "      <td>11</td>\n",
       "      <td>18.60</td>\n",
       "      <td>1</td>\n",
       "      <td>False</td>\n",
       "      <td>...</td>\n",
       "      <td>0.0</td>\n",
       "      <td>0</td>\n",
       "      <td>573.22</td>\n",
       "      <td>81</td>\n",
       "      <td>0.460396</td>\n",
       "      <td>(40.0, 45.0]</td>\n",
       "      <td>180107.53</td>\n",
       "      <td>1</td>\n",
       "      <td>12</td>\n",
       "      <td>2018</td>\n",
       "    </tr>\n",
       "    <tr>\n",
       "      <td>2</td>\n",
       "      <td>10</td>\n",
       "      <td>5196000.0</td>\n",
       "      <td>56.0</td>\n",
       "      <td>2015-08-20</td>\n",
       "      <td>2</td>\n",
       "      <td>2.65</td>\n",
       "      <td>5</td>\n",
       "      <td>34.30</td>\n",
       "      <td>4</td>\n",
       "      <td>False</td>\n",
       "      <td>...</td>\n",
       "      <td>90.0</td>\n",
       "      <td>90</td>\n",
       "      <td>574.00</td>\n",
       "      <td>558</td>\n",
       "      <td>0.612500</td>\n",
       "      <td>(52.0, 60.0]</td>\n",
       "      <td>151486.88</td>\n",
       "      <td>3</td>\n",
       "      <td>8</td>\n",
       "      <td>2015</td>\n",
       "    </tr>\n",
       "    <tr>\n",
       "      <td>3</td>\n",
       "      <td>0</td>\n",
       "      <td>64900000.0</td>\n",
       "      <td>159.0</td>\n",
       "      <td>2015-07-24</td>\n",
       "      <td>3</td>\n",
       "      <td>2.65</td>\n",
       "      <td>14</td>\n",
       "      <td>82.59</td>\n",
       "      <td>9</td>\n",
       "      <td>False</td>\n",
       "      <td>...</td>\n",
       "      <td>84.0</td>\n",
       "      <td>84</td>\n",
       "      <td>234.00</td>\n",
       "      <td>424</td>\n",
       "      <td>0.000000</td>\n",
       "      <td>(87.0, 900.0]</td>\n",
       "      <td>785809.42</td>\n",
       "      <td>4</td>\n",
       "      <td>7</td>\n",
       "      <td>2015</td>\n",
       "    </tr>\n",
       "    <tr>\n",
       "      <td>4</td>\n",
       "      <td>2</td>\n",
       "      <td>10000000.0</td>\n",
       "      <td>100.0</td>\n",
       "      <td>2018-06-19</td>\n",
       "      <td>2</td>\n",
       "      <td>3.03</td>\n",
       "      <td>14</td>\n",
       "      <td>32.00</td>\n",
       "      <td>13</td>\n",
       "      <td>False</td>\n",
       "      <td>...</td>\n",
       "      <td>112.0</td>\n",
       "      <td>112</td>\n",
       "      <td>48.00</td>\n",
       "      <td>121</td>\n",
       "      <td>0.320000</td>\n",
       "      <td>(87.0, 900.0]</td>\n",
       "      <td>312500.00</td>\n",
       "      <td>1</td>\n",
       "      <td>6</td>\n",
       "      <td>2018</td>\n",
       "    </tr>\n",
       "  </tbody>\n",
       "</table>\n",
       "<p>5 rows × 28 columns</p>\n",
       "</div>"
      ],
      "text/plain": [
       "   total_images  last_price  total_area first_day_exposition  rooms  \\\n",
       "0            20  13000000.0       108.0           2019-03-07      3   \n",
       "1             7   3350000.0        40.4           2018-12-04      1   \n",
       "2            10   5196000.0        56.0           2015-08-20      2   \n",
       "3             0  64900000.0       159.0           2015-07-24      3   \n",
       "4             2  10000000.0       100.0           2018-06-19      2   \n",
       "\n",
       "   ceiling_height  floors_total  living_area  floor  is_apartment  ...  \\\n",
       "0            2.70            16        51.00      8         False  ...   \n",
       "1            2.65            11        18.60      1         False  ...   \n",
       "2            2.65             5        34.30      4         False  ...   \n",
       "3            2.65            14        82.59      9         False  ...   \n",
       "4            3.03            14        32.00     13         False  ...   \n",
       "\n",
       "   parks_nearest  ponds_around3000  ponds_nearest  days_exposition  \\\n",
       "0          482.0               482         755.00               95   \n",
       "1            0.0                 0         573.22               81   \n",
       "2           90.0                90         574.00              558   \n",
       "3           84.0                84         234.00              424   \n",
       "4          112.0               112          48.00              121   \n",
       "\n",
       "  ratio_living  total_interval  square_meter  exposition_weekday  \\\n",
       "0     0.472222   (87.0, 900.0]     254901.96                   3   \n",
       "1     0.460396    (40.0, 45.0]     180107.53                   1   \n",
       "2     0.612500    (52.0, 60.0]     151486.88                   3   \n",
       "3     0.000000   (87.0, 900.0]     785809.42                   4   \n",
       "4     0.320000   (87.0, 900.0]     312500.00                   1   \n",
       "\n",
       "   exposition_month  exposition_year  \n",
       "0                 3             2019  \n",
       "1                12             2018  \n",
       "2                 8             2015  \n",
       "3                 7             2015  \n",
       "4                 6             2018  \n",
       "\n",
       "[5 rows x 28 columns]"
      ]
     },
     "execution_count": 67,
     "metadata": {},
     "output_type": "execute_result"
    }
   ],
   "source": [
    "# Вычислим год\n",
    "df['exposition_year'] = df['first_day_exposition'].dt.year\n",
    "df.head()"
   ]
  },
  {
   "cell_type": "markdown",
   "metadata": {},
   "source": [
    "#### Обозначим текстово этаж квартиры, варианты:\n",
    "- первый, \n",
    "- последний, \n",
    "- другой."
   ]
  },
  {
   "cell_type": "code",
   "execution_count": 68,
   "metadata": {},
   "outputs": [],
   "source": [
    "# создадим фунцию присвоения значения этажа\n",
    "def floor_name(row):\n",
    "    if row['floor'] == 1:\n",
    "        return 'первый'\n",
    "    if row['floors_total'] == row['floor']:\n",
    "        return 'последний'\n",
    "    else:\n",
    "        return 'другой'"
   ]
  },
  {
   "cell_type": "code",
   "execution_count": 69,
   "metadata": {},
   "outputs": [
    {
     "data": {
      "text/html": [
       "<div>\n",
       "<style scoped>\n",
       "    .dataframe tbody tr th:only-of-type {\n",
       "        vertical-align: middle;\n",
       "    }\n",
       "\n",
       "    .dataframe tbody tr th {\n",
       "        vertical-align: top;\n",
       "    }\n",
       "\n",
       "    .dataframe thead th {\n",
       "        text-align: right;\n",
       "    }\n",
       "</style>\n",
       "<table border=\"1\" class=\"dataframe\">\n",
       "  <thead>\n",
       "    <tr style=\"text-align: right;\">\n",
       "      <th></th>\n",
       "      <th>total_images</th>\n",
       "      <th>last_price</th>\n",
       "      <th>total_area</th>\n",
       "      <th>first_day_exposition</th>\n",
       "      <th>rooms</th>\n",
       "      <th>ceiling_height</th>\n",
       "      <th>floors_total</th>\n",
       "      <th>living_area</th>\n",
       "      <th>floor</th>\n",
       "      <th>is_apartment</th>\n",
       "      <th>...</th>\n",
       "      <th>ponds_around3000</th>\n",
       "      <th>ponds_nearest</th>\n",
       "      <th>days_exposition</th>\n",
       "      <th>ratio_living</th>\n",
       "      <th>total_interval</th>\n",
       "      <th>square_meter</th>\n",
       "      <th>exposition_weekday</th>\n",
       "      <th>exposition_month</th>\n",
       "      <th>exposition_year</th>\n",
       "      <th>floor_type</th>\n",
       "    </tr>\n",
       "  </thead>\n",
       "  <tbody>\n",
       "    <tr>\n",
       "      <td>0</td>\n",
       "      <td>20</td>\n",
       "      <td>13000000.0</td>\n",
       "      <td>108.0</td>\n",
       "      <td>2019-03-07</td>\n",
       "      <td>3</td>\n",
       "      <td>2.70</td>\n",
       "      <td>16</td>\n",
       "      <td>51.00</td>\n",
       "      <td>8</td>\n",
       "      <td>False</td>\n",
       "      <td>...</td>\n",
       "      <td>482</td>\n",
       "      <td>755.00</td>\n",
       "      <td>95</td>\n",
       "      <td>0.472222</td>\n",
       "      <td>(87.0, 900.0]</td>\n",
       "      <td>254901.96</td>\n",
       "      <td>3</td>\n",
       "      <td>3</td>\n",
       "      <td>2019</td>\n",
       "      <td>другой</td>\n",
       "    </tr>\n",
       "    <tr>\n",
       "      <td>1</td>\n",
       "      <td>7</td>\n",
       "      <td>3350000.0</td>\n",
       "      <td>40.4</td>\n",
       "      <td>2018-12-04</td>\n",
       "      <td>1</td>\n",
       "      <td>2.65</td>\n",
       "      <td>11</td>\n",
       "      <td>18.60</td>\n",
       "      <td>1</td>\n",
       "      <td>False</td>\n",
       "      <td>...</td>\n",
       "      <td>0</td>\n",
       "      <td>573.22</td>\n",
       "      <td>81</td>\n",
       "      <td>0.460396</td>\n",
       "      <td>(40.0, 45.0]</td>\n",
       "      <td>180107.53</td>\n",
       "      <td>1</td>\n",
       "      <td>12</td>\n",
       "      <td>2018</td>\n",
       "      <td>первый</td>\n",
       "    </tr>\n",
       "    <tr>\n",
       "      <td>2</td>\n",
       "      <td>10</td>\n",
       "      <td>5196000.0</td>\n",
       "      <td>56.0</td>\n",
       "      <td>2015-08-20</td>\n",
       "      <td>2</td>\n",
       "      <td>2.65</td>\n",
       "      <td>5</td>\n",
       "      <td>34.30</td>\n",
       "      <td>4</td>\n",
       "      <td>False</td>\n",
       "      <td>...</td>\n",
       "      <td>90</td>\n",
       "      <td>574.00</td>\n",
       "      <td>558</td>\n",
       "      <td>0.612500</td>\n",
       "      <td>(52.0, 60.0]</td>\n",
       "      <td>151486.88</td>\n",
       "      <td>3</td>\n",
       "      <td>8</td>\n",
       "      <td>2015</td>\n",
       "      <td>другой</td>\n",
       "    </tr>\n",
       "    <tr>\n",
       "      <td>3</td>\n",
       "      <td>0</td>\n",
       "      <td>64900000.0</td>\n",
       "      <td>159.0</td>\n",
       "      <td>2015-07-24</td>\n",
       "      <td>3</td>\n",
       "      <td>2.65</td>\n",
       "      <td>14</td>\n",
       "      <td>82.59</td>\n",
       "      <td>9</td>\n",
       "      <td>False</td>\n",
       "      <td>...</td>\n",
       "      <td>84</td>\n",
       "      <td>234.00</td>\n",
       "      <td>424</td>\n",
       "      <td>0.000000</td>\n",
       "      <td>(87.0, 900.0]</td>\n",
       "      <td>785809.42</td>\n",
       "      <td>4</td>\n",
       "      <td>7</td>\n",
       "      <td>2015</td>\n",
       "      <td>другой</td>\n",
       "    </tr>\n",
       "    <tr>\n",
       "      <td>4</td>\n",
       "      <td>2</td>\n",
       "      <td>10000000.0</td>\n",
       "      <td>100.0</td>\n",
       "      <td>2018-06-19</td>\n",
       "      <td>2</td>\n",
       "      <td>3.03</td>\n",
       "      <td>14</td>\n",
       "      <td>32.00</td>\n",
       "      <td>13</td>\n",
       "      <td>False</td>\n",
       "      <td>...</td>\n",
       "      <td>112</td>\n",
       "      <td>48.00</td>\n",
       "      <td>121</td>\n",
       "      <td>0.320000</td>\n",
       "      <td>(87.0, 900.0]</td>\n",
       "      <td>312500.00</td>\n",
       "      <td>1</td>\n",
       "      <td>6</td>\n",
       "      <td>2018</td>\n",
       "      <td>другой</td>\n",
       "    </tr>\n",
       "  </tbody>\n",
       "</table>\n",
       "<p>5 rows × 29 columns</p>\n",
       "</div>"
      ],
      "text/plain": [
       "   total_images  last_price  total_area first_day_exposition  rooms  \\\n",
       "0            20  13000000.0       108.0           2019-03-07      3   \n",
       "1             7   3350000.0        40.4           2018-12-04      1   \n",
       "2            10   5196000.0        56.0           2015-08-20      2   \n",
       "3             0  64900000.0       159.0           2015-07-24      3   \n",
       "4             2  10000000.0       100.0           2018-06-19      2   \n",
       "\n",
       "   ceiling_height  floors_total  living_area  floor  is_apartment  ...  \\\n",
       "0            2.70            16        51.00      8         False  ...   \n",
       "1            2.65            11        18.60      1         False  ...   \n",
       "2            2.65             5        34.30      4         False  ...   \n",
       "3            2.65            14        82.59      9         False  ...   \n",
       "4            3.03            14        32.00     13         False  ...   \n",
       "\n",
       "   ponds_around3000  ponds_nearest  days_exposition  ratio_living  \\\n",
       "0               482         755.00               95      0.472222   \n",
       "1                 0         573.22               81      0.460396   \n",
       "2                90         574.00              558      0.612500   \n",
       "3                84         234.00              424      0.000000   \n",
       "4               112          48.00              121      0.320000   \n",
       "\n",
       "  total_interval  square_meter  exposition_weekday  exposition_month  \\\n",
       "0  (87.0, 900.0]     254901.96                   3                 3   \n",
       "1   (40.0, 45.0]     180107.53                   1                12   \n",
       "2   (52.0, 60.0]     151486.88                   3                 8   \n",
       "3  (87.0, 900.0]     785809.42                   4                 7   \n",
       "4  (87.0, 900.0]     312500.00                   1                 6   \n",
       "\n",
       "   exposition_year  floor_type  \n",
       "0             2019      другой  \n",
       "1             2018      первый  \n",
       "2             2015      другой  \n",
       "3             2015      другой  \n",
       "4             2018      другой  \n",
       "\n",
       "[5 rows x 29 columns]"
      ]
     },
     "execution_count": 69,
     "metadata": {},
     "output_type": "execute_result"
    }
   ],
   "source": [
    "# Методом apply() добавим названия этажа в таблицу\n",
    "df['floor_type'] = df[['floor', 'floors_total']].apply(floor_name, axis = 1)\n",
    "df.head()"
   ]
  },
  {
   "cell_type": "markdown",
   "metadata": {},
   "source": [
    "Вычислим и отобразим в таблице, соотношение жилой и общей площади `['ratio_living_area']`, а также отношение площади кухни к общей `['ratio_kitchen_area']`."
   ]
  },
  {
   "cell_type": "code",
   "execution_count": 70,
   "metadata": {},
   "outputs": [],
   "source": [
    "# соотношение жилой и общей площади\n",
    "df['ratio_living_area'] = df['living_area'] / df['total_area']"
   ]
  },
  {
   "cell_type": "code",
   "execution_count": 71,
   "metadata": {},
   "outputs": [],
   "source": [
    "# отношение площади кухни к общей\n",
    "df['ratio_kitchen_area'] = df['kitchen_area'] / df['total_area']"
   ]
  },
  {
   "cell_type": "code",
   "execution_count": 72,
   "metadata": {},
   "outputs": [
    {
     "data": {
      "text/html": [
       "<div>\n",
       "<style scoped>\n",
       "    .dataframe tbody tr th:only-of-type {\n",
       "        vertical-align: middle;\n",
       "    }\n",
       "\n",
       "    .dataframe tbody tr th {\n",
       "        vertical-align: top;\n",
       "    }\n",
       "\n",
       "    .dataframe thead th {\n",
       "        text-align: right;\n",
       "    }\n",
       "</style>\n",
       "<table border=\"1\" class=\"dataframe\">\n",
       "  <thead>\n",
       "    <tr style=\"text-align: right;\">\n",
       "      <th></th>\n",
       "      <th>total_images</th>\n",
       "      <th>last_price</th>\n",
       "      <th>total_area</th>\n",
       "      <th>first_day_exposition</th>\n",
       "      <th>rooms</th>\n",
       "      <th>ceiling_height</th>\n",
       "      <th>floors_total</th>\n",
       "      <th>living_area</th>\n",
       "      <th>floor</th>\n",
       "      <th>is_apartment</th>\n",
       "      <th>...</th>\n",
       "      <th>days_exposition</th>\n",
       "      <th>ratio_living</th>\n",
       "      <th>total_interval</th>\n",
       "      <th>square_meter</th>\n",
       "      <th>exposition_weekday</th>\n",
       "      <th>exposition_month</th>\n",
       "      <th>exposition_year</th>\n",
       "      <th>floor_type</th>\n",
       "      <th>ratio_living_area</th>\n",
       "      <th>ratio_kitchen_area</th>\n",
       "    </tr>\n",
       "  </thead>\n",
       "  <tbody>\n",
       "    <tr>\n",
       "      <td>0</td>\n",
       "      <td>20</td>\n",
       "      <td>13000000.0</td>\n",
       "      <td>108.0</td>\n",
       "      <td>2019-03-07</td>\n",
       "      <td>3</td>\n",
       "      <td>2.70</td>\n",
       "      <td>16</td>\n",
       "      <td>51.00</td>\n",
       "      <td>8</td>\n",
       "      <td>False</td>\n",
       "      <td>...</td>\n",
       "      <td>95</td>\n",
       "      <td>0.472222</td>\n",
       "      <td>(87.0, 900.0]</td>\n",
       "      <td>254901.96</td>\n",
       "      <td>3</td>\n",
       "      <td>3</td>\n",
       "      <td>2019</td>\n",
       "      <td>другой</td>\n",
       "      <td>0.472222</td>\n",
       "      <td>0.231481</td>\n",
       "    </tr>\n",
       "    <tr>\n",
       "      <td>1</td>\n",
       "      <td>7</td>\n",
       "      <td>3350000.0</td>\n",
       "      <td>40.4</td>\n",
       "      <td>2018-12-04</td>\n",
       "      <td>1</td>\n",
       "      <td>2.65</td>\n",
       "      <td>11</td>\n",
       "      <td>18.60</td>\n",
       "      <td>1</td>\n",
       "      <td>False</td>\n",
       "      <td>...</td>\n",
       "      <td>81</td>\n",
       "      <td>0.460396</td>\n",
       "      <td>(40.0, 45.0]</td>\n",
       "      <td>180107.53</td>\n",
       "      <td>1</td>\n",
       "      <td>12</td>\n",
       "      <td>2018</td>\n",
       "      <td>первый</td>\n",
       "      <td>0.460396</td>\n",
       "      <td>0.272277</td>\n",
       "    </tr>\n",
       "    <tr>\n",
       "      <td>2</td>\n",
       "      <td>10</td>\n",
       "      <td>5196000.0</td>\n",
       "      <td>56.0</td>\n",
       "      <td>2015-08-20</td>\n",
       "      <td>2</td>\n",
       "      <td>2.65</td>\n",
       "      <td>5</td>\n",
       "      <td>34.30</td>\n",
       "      <td>4</td>\n",
       "      <td>False</td>\n",
       "      <td>...</td>\n",
       "      <td>558</td>\n",
       "      <td>0.612500</td>\n",
       "      <td>(52.0, 60.0]</td>\n",
       "      <td>151486.88</td>\n",
       "      <td>3</td>\n",
       "      <td>8</td>\n",
       "      <td>2015</td>\n",
       "      <td>другой</td>\n",
       "      <td>0.612500</td>\n",
       "      <td>0.148214</td>\n",
       "    </tr>\n",
       "    <tr>\n",
       "      <td>3</td>\n",
       "      <td>0</td>\n",
       "      <td>64900000.0</td>\n",
       "      <td>159.0</td>\n",
       "      <td>2015-07-24</td>\n",
       "      <td>3</td>\n",
       "      <td>2.65</td>\n",
       "      <td>14</td>\n",
       "      <td>82.59</td>\n",
       "      <td>9</td>\n",
       "      <td>False</td>\n",
       "      <td>...</td>\n",
       "      <td>424</td>\n",
       "      <td>0.000000</td>\n",
       "      <td>(87.0, 900.0]</td>\n",
       "      <td>785809.42</td>\n",
       "      <td>4</td>\n",
       "      <td>7</td>\n",
       "      <td>2015</td>\n",
       "      <td>другой</td>\n",
       "      <td>0.519434</td>\n",
       "      <td>0.116730</td>\n",
       "    </tr>\n",
       "    <tr>\n",
       "      <td>4</td>\n",
       "      <td>2</td>\n",
       "      <td>10000000.0</td>\n",
       "      <td>100.0</td>\n",
       "      <td>2018-06-19</td>\n",
       "      <td>2</td>\n",
       "      <td>3.03</td>\n",
       "      <td>14</td>\n",
       "      <td>32.00</td>\n",
       "      <td>13</td>\n",
       "      <td>False</td>\n",
       "      <td>...</td>\n",
       "      <td>121</td>\n",
       "      <td>0.320000</td>\n",
       "      <td>(87.0, 900.0]</td>\n",
       "      <td>312500.00</td>\n",
       "      <td>1</td>\n",
       "      <td>6</td>\n",
       "      <td>2018</td>\n",
       "      <td>другой</td>\n",
       "      <td>0.320000</td>\n",
       "      <td>0.410000</td>\n",
       "    </tr>\n",
       "  </tbody>\n",
       "</table>\n",
       "<p>5 rows × 31 columns</p>\n",
       "</div>"
      ],
      "text/plain": [
       "   total_images  last_price  total_area first_day_exposition  rooms  \\\n",
       "0            20  13000000.0       108.0           2019-03-07      3   \n",
       "1             7   3350000.0        40.4           2018-12-04      1   \n",
       "2            10   5196000.0        56.0           2015-08-20      2   \n",
       "3             0  64900000.0       159.0           2015-07-24      3   \n",
       "4             2  10000000.0       100.0           2018-06-19      2   \n",
       "\n",
       "   ceiling_height  floors_total  living_area  floor  is_apartment  ...  \\\n",
       "0            2.70            16        51.00      8         False  ...   \n",
       "1            2.65            11        18.60      1         False  ...   \n",
       "2            2.65             5        34.30      4         False  ...   \n",
       "3            2.65            14        82.59      9         False  ...   \n",
       "4            3.03            14        32.00     13         False  ...   \n",
       "\n",
       "   days_exposition  ratio_living  total_interval  square_meter  \\\n",
       "0               95      0.472222   (87.0, 900.0]     254901.96   \n",
       "1               81      0.460396    (40.0, 45.0]     180107.53   \n",
       "2              558      0.612500    (52.0, 60.0]     151486.88   \n",
       "3              424      0.000000   (87.0, 900.0]     785809.42   \n",
       "4              121      0.320000   (87.0, 900.0]     312500.00   \n",
       "\n",
       "  exposition_weekday  exposition_month  exposition_year  floor_type  \\\n",
       "0                  3                 3             2019      другой   \n",
       "1                  1                12             2018      первый   \n",
       "2                  3                 8             2015      другой   \n",
       "3                  4                 7             2015      другой   \n",
       "4                  1                 6             2018      другой   \n",
       "\n",
       "   ratio_living_area  ratio_kitchen_area  \n",
       "0           0.472222            0.231481  \n",
       "1           0.460396            0.272277  \n",
       "2           0.612500            0.148214  \n",
       "3           0.519434            0.116730  \n",
       "4           0.320000            0.410000  \n",
       "\n",
       "[5 rows x 31 columns]"
      ]
     },
     "execution_count": 72,
     "metadata": {},
     "output_type": "execute_result"
    }
   ],
   "source": [
    "df.head()"
   ]
  },
  {
   "cell_type": "markdown",
   "metadata": {},
   "source": [
    "### Вывод"
   ]
  },
  {
   "cell_type": "markdown",
   "metadata": {},
   "source": [
    "На данном этапе мы вычеслили стоимость квадратного метра `['square_meter']`,  соотношение жилой и общей площади `[ratio_living_area]`, отношение площади кухни к общей `[ratio_kitchen_area]` и добавили соответствующие столбцы в таблицу.  \n",
    "\n",
    "Методом `to_datetime` к столбцу `['first_day_exposition']` вычеслили временные значения день недели, месяц, год публикации объявления и вывели в отдельные колонки.  \n",
    "\n",
    "Присвоили этажам следующие значения и создали столбец `[floor_type]`, варианты — первый, последний, другой."
   ]
  },
  {
   "cell_type": "markdown",
   "metadata": {},
   "source": [
    "### Шаг 4. Проведите исследовательский анализ данных и выполните инструкции:"
   ]
  },
  {
   "cell_type": "markdown",
   "metadata": {},
   "source": [
    "#### Площадь"
   ]
  },
  {
   "cell_type": "code",
   "execution_count": 73,
   "metadata": {
    "scrolled": true
   },
   "outputs": [
    {
     "data": {
      "text/plain": [
       "count    23699.000000\n",
       "mean        60.348651\n",
       "std         35.654083\n",
       "min         12.000000\n",
       "25%         40.000000\n",
       "50%         52.000000\n",
       "75%         69.900000\n",
       "max        900.000000\n",
       "Name: total_area, dtype: float64"
      ]
     },
     "execution_count": 73,
     "metadata": {},
     "output_type": "execute_result"
    }
   ],
   "source": [
    "df['total_area'].describe()"
   ]
  },
  {
   "cell_type": "markdown",
   "metadata": {},
   "source": [
    "Вызвав метод `describe()` увидим статистические результаты."
   ]
  },
  {
   "cell_type": "code",
   "execution_count": 74,
   "metadata": {},
   "outputs": [
    {
     "data": {
      "image/png": "[encoded data removed]",
      "text/plain": [
       "<Figure size 432x288 with 1 Axes>"
      ]
     },
     "metadata": {
      "needs_background": "light"
     },
     "output_type": "display_data"
    }
   ],
   "source": [
    "df['total_area'].hist(bins=500, range=(0, 400));\n",
    "plt.suptitle('Гистограмма')\n",
    "plt.xlabel('Общая площадь')\n",
    "plt.ylabel('Количество значений')\n",
    "plt.show()"
   ]
  },
  {
   "cell_type": "markdown",
   "metadata": {},
   "source": [
    "Гистограмма общей площади `['total_area']` похожа на нормальное распределение, присутствуют пики значений очевидно характеризующие жилой фонд в России - жилье строится по типовым проектам многие годы."
   ]
  },
  {
   "cell_type": "markdown",
   "metadata": {},
   "source": [
    "#### Цена"
   ]
  },
  {
   "cell_type": "code",
   "execution_count": 75,
   "metadata": {},
   "outputs": [
    {
     "data": {
      "text/plain": [
       "count        23699.0\n",
       "mean       6541549.0\n",
       "std       10887013.0\n",
       "min          12190.0\n",
       "25%        3400000.0\n",
       "50%        4650000.0\n",
       "75%        6800000.0\n",
       "max      763000000.0\n",
       "Name: last_price, dtype: float64"
      ]
     },
     "execution_count": 75,
     "metadata": {},
     "output_type": "execute_result"
    }
   ],
   "source": [
    "df['last_price'].describe().round(0)"
   ]
  },
  {
   "cell_type": "code",
   "execution_count": 76,
   "metadata": {},
   "outputs": [
    {
     "data": {
      "image/png": "[encoded data removed]",
      "text/plain": [
       "<Figure size 432x288 with 1 Axes>"
      ]
     },
     "metadata": {
      "needs_background": "light"
     },
     "output_type": "display_data"
    }
   ],
   "source": [
    "df['last_price'].hist(bins=300, range=(0, 80000000));\n",
    "plt.suptitle('Гистограмма')\n",
    "plt.xlabel('Цена')\n",
    "plt.ylabel('Количество значений')\n",
    "plt.show()"
   ]
  },
  {
   "cell_type": "markdown",
   "metadata": {},
   "source": [
    "Гистограмма цены `['last_price']` похожа на нормальное распределение. Значения варируются в широких пределах, есть выбросы в минимальной стоимости жилья."
   ]
  },
  {
   "cell_type": "markdown",
   "metadata": {},
   "source": [
    "#### Количество комнат"
   ]
  },
  {
   "cell_type": "code",
   "execution_count": 77,
   "metadata": {},
   "outputs": [
    {
     "data": {
      "text/plain": [
       "count    23699.000000\n",
       "mean         2.070636\n",
       "std          1.078405\n",
       "min          0.000000\n",
       "25%          1.000000\n",
       "50%          2.000000\n",
       "75%          3.000000\n",
       "max         19.000000\n",
       "Name: rooms, dtype: float64"
      ]
     },
     "execution_count": 77,
     "metadata": {},
     "output_type": "execute_result"
    }
   ],
   "source": [
    "df['rooms'].describe()"
   ]
  },
  {
   "cell_type": "code",
   "execution_count": 78,
   "metadata": {},
   "outputs": [
    {
     "data": {
      "image/png": "[encoded data removed]",
      "text/plain": [
       "<Figure size 432x288 with 1 Axes>"
      ]
     },
     "metadata": {
      "needs_background": "light"
     },
     "output_type": "display_data"
    }
   ],
   "source": [
    "df['rooms'].hist(bins=20, range=(0, 15));\n",
    "plt.suptitle('Гистограмма')\n",
    "plt.xlabel('Количество комнат')\n",
    "plt.ylabel('Количество значений')\n",
    "plt.show()"
   ]
  },
  {
   "cell_type": "markdown",
   "metadata": {},
   "source": [
    "Гистограмма количества комнат `['rooms']` похожа на распределение Пуассона. Напомним, что пропущенные значения мы заменили на '0'. В остальном данные точно отражают распределение квартир по количеству комнат."
   ]
  },
  {
   "cell_type": "markdown",
   "metadata": {},
   "source": [
    "#### Высота потолков"
   ]
  },
  {
   "cell_type": "code",
   "execution_count": 79,
   "metadata": {},
   "outputs": [
    {
     "data": {
      "text/plain": [
       "count    23699.000000\n",
       "mean         2.724358\n",
       "std          0.988298\n",
       "min          1.000000\n",
       "25%          2.600000\n",
       "50%          2.650000\n",
       "75%          2.700000\n",
       "max        100.000000\n",
       "Name: ceiling_height, dtype: float64"
      ]
     },
     "execution_count": 79,
     "metadata": {},
     "output_type": "execute_result"
    }
   ],
   "source": [
    "df['ceiling_height'].describe()"
   ]
  },
  {
   "cell_type": "code",
   "execution_count": 80,
   "metadata": {},
   "outputs": [
    {
     "data": {
      "image/png": "[encoded data removed]",
      "text/plain": [
       "<Figure size 432x288 with 1 Axes>"
      ]
     },
     "metadata": {
      "needs_background": "light"
     },
     "output_type": "display_data"
    }
   ],
   "source": [
    "df['ceiling_height'].hist(bins=50, range=(2, 5));\n",
    "plt.suptitle('Гистограмма')\n",
    "plt.xlabel('Высота потолков')\n",
    "plt.ylabel('Количество значений')\n",
    "plt.show()"
   ]
  },
  {
   "cell_type": "markdown",
   "metadata": {},
   "source": [
    "Проанализировав гисторамму высоты потлков `['ceiling_height']`, можно отметить что присутствуют выбросы как в минимальных, так и максимальных значениях. Современный СНиП регламентирует ***минимальную высоту потолка в 2,5 метра**, в старом жилом фонде присутствуют варианты 2,48 метра. Поэтому в дальнейшем значения **меньшие 2,48** можно считать выбросами. Максимальное значение высоты потолка ограничим **10 метрами**."
   ]
  },
  {
   "cell_type": "markdown",
   "metadata": {},
   "source": [
    "#### Время продажи квартиры"
   ]
  },
  {
   "cell_type": "code",
   "execution_count": 81,
   "metadata": {},
   "outputs": [
    {
     "data": {
      "text/plain": [
       "count    23699.000000\n",
       "mean       169.360226\n",
       "std        206.535633\n",
       "min          1.000000\n",
       "25%         45.000000\n",
       "50%         95.000000\n",
       "75%        199.000000\n",
       "max       1580.000000\n",
       "Name: days_exposition, dtype: float64"
      ]
     },
     "execution_count": 81,
     "metadata": {},
     "output_type": "execute_result"
    }
   ],
   "source": [
    "df['days_exposition'].describe()"
   ]
  },
  {
   "cell_type": "code",
   "execution_count": 82,
   "metadata": {},
   "outputs": [
    {
     "data": {
      "image/png": "[encoded data removed]",
      "text/plain": [
       "<Figure size 432x288 with 1 Axes>"
      ]
     },
     "metadata": {
      "needs_background": "light"
     },
     "output_type": "display_data"
    }
   ],
   "source": [
    "df['days_exposition'].hist(bins=50, range=(0, 800));\n",
    "plt.suptitle('Гистограмма')\n",
    "plt.xlabel('Время продажи квартиры, дней')\n",
    "plt.ylabel('Количество значений')\n",
    "plt.show()"
   ]
  },
  {
   "cell_type": "code",
   "execution_count": 83,
   "metadata": {},
   "outputs": [
    {
     "data": {
      "text/plain": [
       "95.0"
      ]
     },
     "execution_count": 83,
     "metadata": {},
     "output_type": "execute_result"
    }
   ],
   "source": [
    "df['days_exposition'].median()"
   ]
  },
  {
   "cell_type": "code",
   "execution_count": 84,
   "metadata": {},
   "outputs": [
    {
     "data": {
      "text/plain": [
       "169.36022616988058"
      ]
     },
     "execution_count": 84,
     "metadata": {},
     "output_type": "execute_result"
    }
   ],
   "source": [
    "df['days_exposition'].mean()"
   ]
  },
  {
   "cell_type": "code",
   "execution_count": 85,
   "metadata": {},
   "outputs": [
    {
     "data": {
      "image/png": "[encoded data removed]",
      "text/plain": [
       "<Figure size 432x288 with 1 Axes>"
      ]
     },
     "metadata": {
      "needs_background": "light"
     },
     "output_type": "display_data"
    }
   ],
   "source": [
    "df.boxplot('days_exposition');\n",
    "plt.suptitle('Boxplot')\n",
    "plt.xlabel('Время продажи квартиры, дней')\n",
    "plt.ylabel('Значения')\n",
    "plt.show()"
   ]
  },
  {
   "cell_type": "markdown",
   "metadata": {},
   "source": [
    "Анализируя гистограмму дней публикации объявления `['days_exposition']`, стоит отметить на графике, что ранее замененные пропущенные значения очень сильно повлияли на график распределения. В дальнейшем необходимо это исправить и удалить значения равные `[days_exposition_median]`.  \n",
    "\n",
    "Также мы можем отметить, что продажу до 45 дней можно назвать очень быстрой (первый квартиль), а продажу более 199 дней (третий квартиль) очень долгой."
   ]
  },
  {
   "cell_type": "markdown",
   "metadata": {},
   "source": [
    "## Удаление редких и выбивающихся значений"
   ]
  },
  {
   "cell_type": "markdown",
   "metadata": {},
   "source": [
    "Вызовем функцию `describe()` для всего DataFrame:"
   ]
  },
  {
   "cell_type": "code",
   "execution_count": 86,
   "metadata": {},
   "outputs": [
    {
     "data": {
      "text/html": [
       "<div>\n",
       "<style scoped>\n",
       "    .dataframe tbody tr th:only-of-type {\n",
       "        vertical-align: middle;\n",
       "    }\n",
       "\n",
       "    .dataframe tbody tr th {\n",
       "        vertical-align: top;\n",
       "    }\n",
       "\n",
       "    .dataframe thead th {\n",
       "        text-align: right;\n",
       "    }\n",
       "</style>\n",
       "<table border=\"1\" class=\"dataframe\">\n",
       "  <thead>\n",
       "    <tr style=\"text-align: right;\">\n",
       "      <th></th>\n",
       "      <th>total_images</th>\n",
       "      <th>last_price</th>\n",
       "      <th>total_area</th>\n",
       "      <th>rooms</th>\n",
       "      <th>ceiling_height</th>\n",
       "      <th>floors_total</th>\n",
       "      <th>living_area</th>\n",
       "      <th>floor</th>\n",
       "      <th>kitchen_area</th>\n",
       "      <th>balcony</th>\n",
       "      <th>...</th>\n",
       "      <th>ponds_around3000</th>\n",
       "      <th>ponds_nearest</th>\n",
       "      <th>days_exposition</th>\n",
       "      <th>ratio_living</th>\n",
       "      <th>square_meter</th>\n",
       "      <th>exposition_weekday</th>\n",
       "      <th>exposition_month</th>\n",
       "      <th>exposition_year</th>\n",
       "      <th>ratio_living_area</th>\n",
       "      <th>ratio_kitchen_area</th>\n",
       "    </tr>\n",
       "  </thead>\n",
       "  <tbody>\n",
       "    <tr>\n",
       "      <td>count</td>\n",
       "      <td>23699.000000</td>\n",
       "      <td>2.369900e+04</td>\n",
       "      <td>23699.000000</td>\n",
       "      <td>23699.000000</td>\n",
       "      <td>23699.000000</td>\n",
       "      <td>23699.000000</td>\n",
       "      <td>23699.000000</td>\n",
       "      <td>23699.000000</td>\n",
       "      <td>23699.000000</td>\n",
       "      <td>23699.000000</td>\n",
       "      <td>...</td>\n",
       "      <td>23699.000000</td>\n",
       "      <td>23699.000000</td>\n",
       "      <td>23699.000000</td>\n",
       "      <td>23699.000000</td>\n",
       "      <td>2.369900e+04</td>\n",
       "      <td>23699.000000</td>\n",
       "      <td>23699.000000</td>\n",
       "      <td>23699.000000</td>\n",
       "      <td>23699.000000</td>\n",
       "      <td>23699.000000</td>\n",
       "    </tr>\n",
       "    <tr>\n",
       "      <td>mean</td>\n",
       "      <td>9.858475</td>\n",
       "      <td>6.541549e+06</td>\n",
       "      <td>60.348651</td>\n",
       "      <td>2.070636</td>\n",
       "      <td>2.724358</td>\n",
       "      <td>10.635090</td>\n",
       "      <td>34.331885</td>\n",
       "      <td>5.892358</td>\n",
       "      <td>10.466719</td>\n",
       "      <td>0.591080</td>\n",
       "      <td>...</td>\n",
       "      <td>367.404110</td>\n",
       "      <td>398.916495</td>\n",
       "      <td>169.360226</td>\n",
       "      <td>0.519416</td>\n",
       "      <td>1.876796e+05</td>\n",
       "      <td>2.569307</td>\n",
       "      <td>6.400101</td>\n",
       "      <td>2017.367146</td>\n",
       "      <td>0.561124</td>\n",
       "      <td>0.186978</td>\n",
       "    </tr>\n",
       "    <tr>\n",
       "      <td>std</td>\n",
       "      <td>5.682529</td>\n",
       "      <td>1.088701e+07</td>\n",
       "      <td>35.654083</td>\n",
       "      <td>1.078405</td>\n",
       "      <td>0.988298</td>\n",
       "      <td>6.616396</td>\n",
       "      <td>22.148001</td>\n",
       "      <td>4.885249</td>\n",
       "      <td>5.772207</td>\n",
       "      <td>0.959298</td>\n",
       "      <td>...</td>\n",
       "      <td>293.096867</td>\n",
       "      <td>279.502533</td>\n",
       "      <td>206.535633</td>\n",
       "      <td>0.183759</td>\n",
       "      <td>1.812709e+05</td>\n",
       "      <td>1.789082</td>\n",
       "      <td>3.491561</td>\n",
       "      <td>1.039771</td>\n",
       "      <td>0.101798</td>\n",
       "      <td>0.072460</td>\n",
       "    </tr>\n",
       "    <tr>\n",
       "      <td>min</td>\n",
       "      <td>0.000000</td>\n",
       "      <td>1.219000e+04</td>\n",
       "      <td>12.000000</td>\n",
       "      <td>0.000000</td>\n",
       "      <td>1.000000</td>\n",
       "      <td>0.000000</td>\n",
       "      <td>2.000000</td>\n",
       "      <td>1.000000</td>\n",
       "      <td>0.000000</td>\n",
       "      <td>0.000000</td>\n",
       "      <td>...</td>\n",
       "      <td>0.000000</td>\n",
       "      <td>0.000000</td>\n",
       "      <td>1.000000</td>\n",
       "      <td>0.000000</td>\n",
       "      <td>3.809400e+02</td>\n",
       "      <td>0.000000</td>\n",
       "      <td>1.000000</td>\n",
       "      <td>2014.000000</td>\n",
       "      <td>0.021583</td>\n",
       "      <td>0.000000</td>\n",
       "    </tr>\n",
       "    <tr>\n",
       "      <td>25%</td>\n",
       "      <td>6.000000</td>\n",
       "      <td>3.400000e+06</td>\n",
       "      <td>40.000000</td>\n",
       "      <td>1.000000</td>\n",
       "      <td>2.600000</td>\n",
       "      <td>5.000000</td>\n",
       "      <td>18.900000</td>\n",
       "      <td>2.000000</td>\n",
       "      <td>7.000000</td>\n",
       "      <td>0.000000</td>\n",
       "      <td>...</td>\n",
       "      <td>0.000000</td>\n",
       "      <td>87.500000</td>\n",
       "      <td>45.000000</td>\n",
       "      <td>0.467316</td>\n",
       "      <td>1.275862e+05</td>\n",
       "      <td>1.000000</td>\n",
       "      <td>3.000000</td>\n",
       "      <td>2017.000000</td>\n",
       "      <td>0.500000</td>\n",
       "      <td>0.135623</td>\n",
       "    </tr>\n",
       "    <tr>\n",
       "      <td>50%</td>\n",
       "      <td>9.000000</td>\n",
       "      <td>4.650000e+06</td>\n",
       "      <td>52.000000</td>\n",
       "      <td>2.000000</td>\n",
       "      <td>2.650000</td>\n",
       "      <td>9.000000</td>\n",
       "      <td>30.000000</td>\n",
       "      <td>4.000000</td>\n",
       "      <td>9.100000</td>\n",
       "      <td>0.000000</td>\n",
       "      <td>...</td>\n",
       "      <td>498.000000</td>\n",
       "      <td>520.210000</td>\n",
       "      <td>95.000000</td>\n",
       "      <td>0.557080</td>\n",
       "      <td>1.691489e+05</td>\n",
       "      <td>3.000000</td>\n",
       "      <td>6.000000</td>\n",
       "      <td>2017.000000</td>\n",
       "      <td>0.557080</td>\n",
       "      <td>0.173432</td>\n",
       "    </tr>\n",
       "    <tr>\n",
       "      <td>75%</td>\n",
       "      <td>14.000000</td>\n",
       "      <td>6.800000e+06</td>\n",
       "      <td>69.900000</td>\n",
       "      <td>3.000000</td>\n",
       "      <td>2.700000</td>\n",
       "      <td>16.000000</td>\n",
       "      <td>42.000000</td>\n",
       "      <td>8.000000</td>\n",
       "      <td>12.000000</td>\n",
       "      <td>1.000000</td>\n",
       "      <td>...</td>\n",
       "      <td>498.000000</td>\n",
       "      <td>520.210000</td>\n",
       "      <td>199.000000</td>\n",
       "      <td>0.631579</td>\n",
       "      <td>2.218750e+05</td>\n",
       "      <td>4.000000</td>\n",
       "      <td>10.000000</td>\n",
       "      <td>2018.000000</td>\n",
       "      <td>0.631579</td>\n",
       "      <td>0.230556</td>\n",
       "    </tr>\n",
       "    <tr>\n",
       "      <td>max</td>\n",
       "      <td>50.000000</td>\n",
       "      <td>7.630000e+08</td>\n",
       "      <td>900.000000</td>\n",
       "      <td>19.000000</td>\n",
       "      <td>100.000000</td>\n",
       "      <td>60.000000</td>\n",
       "      <td>409.700000</td>\n",
       "      <td>33.000000</td>\n",
       "      <td>112.000000</td>\n",
       "      <td>5.000000</td>\n",
       "      <td>...</td>\n",
       "      <td>3190.000000</td>\n",
       "      <td>1344.000000</td>\n",
       "      <td>1580.000000</td>\n",
       "      <td>1.000000</td>\n",
       "      <td>2.166333e+07</td>\n",
       "      <td>6.000000</td>\n",
       "      <td>12.000000</td>\n",
       "      <td>2019.000000</td>\n",
       "      <td>1.000000</td>\n",
       "      <td>0.787879</td>\n",
       "    </tr>\n",
       "  </tbody>\n",
       "</table>\n",
       "<p>8 rows × 24 columns</p>\n",
       "</div>"
      ],
      "text/plain": [
       "       total_images    last_price    total_area         rooms  ceiling_height  \\\n",
       "count  23699.000000  2.369900e+04  23699.000000  23699.000000    23699.000000   \n",
       "mean       9.858475  6.541549e+06     60.348651      2.070636        2.724358   \n",
       "std        5.682529  1.088701e+07     35.654083      1.078405        0.988298   \n",
       "min        0.000000  1.219000e+04     12.000000      0.000000        1.000000   \n",
       "25%        6.000000  3.400000e+06     40.000000      1.000000        2.600000   \n",
       "50%        9.000000  4.650000e+06     52.000000      2.000000        2.650000   \n",
       "75%       14.000000  6.800000e+06     69.900000      3.000000        2.700000   \n",
       "max       50.000000  7.630000e+08    900.000000     19.000000      100.000000   \n",
       "\n",
       "       floors_total   living_area         floor  kitchen_area       balcony  \\\n",
       "count  23699.000000  23699.000000  23699.000000  23699.000000  23699.000000   \n",
       "mean      10.635090     34.331885      5.892358     10.466719      0.591080   \n",
       "std        6.616396     22.148001      4.885249      5.772207      0.959298   \n",
       "min        0.000000      2.000000      1.000000      0.000000      0.000000   \n",
       "25%        5.000000     18.900000      2.000000      7.000000      0.000000   \n",
       "50%        9.000000     30.000000      4.000000      9.100000      0.000000   \n",
       "75%       16.000000     42.000000      8.000000     12.000000      1.000000   \n",
       "max       60.000000    409.700000     33.000000    112.000000      5.000000   \n",
       "\n",
       "       ...  ponds_around3000  ponds_nearest  days_exposition  ratio_living  \\\n",
       "count  ...      23699.000000   23699.000000     23699.000000  23699.000000   \n",
       "mean   ...        367.404110     398.916495       169.360226      0.519416   \n",
       "std    ...        293.096867     279.502533       206.535633      0.183759   \n",
       "min    ...          0.000000       0.000000         1.000000      0.000000   \n",
       "25%    ...          0.000000      87.500000        45.000000      0.467316   \n",
       "50%    ...        498.000000     520.210000        95.000000      0.557080   \n",
       "75%    ...        498.000000     520.210000       199.000000      0.631579   \n",
       "max    ...       3190.000000    1344.000000      1580.000000      1.000000   \n",
       "\n",
       "       square_meter  exposition_weekday  exposition_month  exposition_year  \\\n",
       "count  2.369900e+04        23699.000000      23699.000000     23699.000000   \n",
       "mean   1.876796e+05            2.569307          6.400101      2017.367146   \n",
       "std    1.812709e+05            1.789082          3.491561         1.039771   \n",
       "min    3.809400e+02            0.000000          1.000000      2014.000000   \n",
       "25%    1.275862e+05            1.000000          3.000000      2017.000000   \n",
       "50%    1.691489e+05            3.000000          6.000000      2017.000000   \n",
       "75%    2.218750e+05            4.000000         10.000000      2018.000000   \n",
       "max    2.166333e+07            6.000000         12.000000      2019.000000   \n",
       "\n",
       "       ratio_living_area  ratio_kitchen_area  \n",
       "count       23699.000000        23699.000000  \n",
       "mean            0.561124            0.186978  \n",
       "std             0.101798            0.072460  \n",
       "min             0.021583            0.000000  \n",
       "25%             0.500000            0.135623  \n",
       "50%             0.557080            0.173432  \n",
       "75%             0.631579            0.230556  \n",
       "max             1.000000            0.787879  \n",
       "\n",
       "[8 rows x 24 columns]"
      ]
     },
     "execution_count": 86,
     "metadata": {},
     "output_type": "execute_result"
    }
   ],
   "source": [
    "df.describe()"
   ]
  },
  {
   "cell_type": "markdown",
   "metadata": {},
   "source": [
    "При анализе можем увидеть выбросы в следующих столбцах первоначальных данных: last_price, rooms, ceiling_height, floors_total, living_area, kitchen_area, days_exposition."
   ]
  },
  {
   "cell_type": "markdown",
   "metadata": {},
   "source": [
    "### Создадим новый DataFrame - good_df и удалим все редкие и выбивающиеся значения."
   ]
  },
  {
   "cell_type": "code",
   "execution_count": 87,
   "metadata": {},
   "outputs": [],
   "source": [
    "good_df = df"
   ]
  },
  {
   "cell_type": "markdown",
   "metadata": {},
   "source": [
    "#### Очистка last_price"
   ]
  },
  {
   "cell_type": "code",
   "execution_count": 88,
   "metadata": {},
   "outputs": [
    {
     "data": {
      "text/plain": [
       "23681"
      ]
     },
     "execution_count": 88,
     "metadata": {},
     "output_type": "execute_result"
    }
   ],
   "source": [
    "good_df = good_df.query('last_price > 500000')\n",
    "len(good_df)"
   ]
  },
  {
   "cell_type": "markdown",
   "metadata": {},
   "source": [
    "#### Очистка floors_total"
   ]
  },
  {
   "cell_type": "code",
   "execution_count": 89,
   "metadata": {},
   "outputs": [
    {
     "data": {
      "text/plain": [
       "23595"
      ]
     },
     "execution_count": 89,
     "metadata": {},
     "output_type": "execute_result"
    }
   ],
   "source": [
    "good_df = good_df.query('floors_total != 0')\n",
    "len(good_df)"
   ]
  },
  {
   "cell_type": "markdown",
   "metadata": {},
   "source": [
    "#### Очистка rooms"
   ]
  },
  {
   "cell_type": "code",
   "execution_count": 90,
   "metadata": {},
   "outputs": [
    {
     "data": {
      "text/plain": [
       "23401"
      ]
     },
     "execution_count": 90,
     "metadata": {},
     "output_type": "execute_result"
    }
   ],
   "source": [
    "good_df = good_df.query('rooms != 0')\n",
    "len(good_df)"
   ]
  },
  {
   "cell_type": "markdown",
   "metadata": {},
   "source": [
    "#### Очистка ceiling_height"
   ]
  },
  {
   "cell_type": "markdown",
   "metadata": {},
   "source": [
    "Примем, что высота потолков менее 2.48 метра и более 10 метров - выбросы. "
   ]
  },
  {
   "cell_type": "code",
   "execution_count": 91,
   "metadata": {},
   "outputs": [
    {
     "data": {
      "text/plain": [
       "23313"
      ]
     },
     "execution_count": 91,
     "metadata": {},
     "output_type": "execute_result"
    }
   ],
   "source": [
    "good_df = good_df.query('ceiling_height >= 2.48 and ceiling_height <=10')\n",
    "len(good_df)"
   ]
  },
  {
   "cell_type": "markdown",
   "metadata": {},
   "source": [
    "#### Очистка living_area"
   ]
  },
  {
   "cell_type": "code",
   "execution_count": 92,
   "metadata": {},
   "outputs": [
    {
     "data": {
      "text/plain": [
       "23169"
      ]
     },
     "execution_count": 92,
     "metadata": {},
     "output_type": "execute_result"
    }
   ],
   "source": [
    "good_df = good_df.query('living_area >= 12')\n",
    "len(good_df)"
   ]
  },
  {
   "cell_type": "markdown",
   "metadata": {},
   "source": [
    "#### Очитска kitchen_area"
   ]
  },
  {
   "cell_type": "markdown",
   "metadata": {},
   "source": [
    "Согласно СП 54.13330.2016, минимальная площадь кухни составляет 5 м2. Примем, что для кухонь менее 5 м2, значение указано не верно."
   ]
  },
  {
   "cell_type": "code",
   "execution_count": 93,
   "metadata": {},
   "outputs": [
    {
     "data": {
      "text/plain": [
       "23058"
      ]
     },
     "execution_count": 93,
     "metadata": {},
     "output_type": "execute_result"
    }
   ],
   "source": [
    "good_df = good_df.query('kitchen_area >= 5')\n",
    "len(good_df)"
   ]
  },
  {
   "cell_type": "markdown",
   "metadata": {},
   "source": [
    "#### Очистка days_exposition"
   ]
  },
  {
   "cell_type": "markdown",
   "metadata": {},
   "source": [
    "Как уже отмечал ранее, значения равные [days_exposition_median] необходимо удалить, т.к. они серьезно повлияли на распределение в этом столбце."
   ]
  },
  {
   "cell_type": "code",
   "execution_count": 94,
   "metadata": {},
   "outputs": [
    {
     "data": {
      "text/plain": [
       "19882"
      ]
     },
     "execution_count": 94,
     "metadata": {},
     "output_type": "execute_result"
    }
   ],
   "source": [
    "good_df = good_df.query('days_exposition != @days_exposition_median')\n",
    "len(good_df)"
   ]
  },
  {
   "cell_type": "code",
   "execution_count": 95,
   "metadata": {},
   "outputs": [
    {
     "data": {
      "text/plain": [
       "3817"
      ]
     },
     "execution_count": 95,
     "metadata": {},
     "output_type": "execute_result"
    }
   ],
   "source": [
    "len(df) - len(good_df) #вычислим кол-во удаленных строк"
   ]
  },
  {
   "cell_type": "markdown",
   "metadata": {},
   "source": [
    "По разным причинам из исходной таблицы мы удалили 3817 строк. Наибольшее количество пришлось на столбец `['days_exposition']`, вероятней всего это можно объяснить не верной выгрузкой данных из источников."
   ]
  },
  {
   "cell_type": "markdown",
   "metadata": {},
   "source": [
    "## Изучение зависимости данных"
   ]
  },
  {
   "cell_type": "markdown",
   "metadata": {},
   "source": [
    "Построим матрицу корреляции для выявления зависимостей между столбцами:"
   ]
  },
  {
   "cell_type": "code",
   "execution_count": 96,
   "metadata": {},
   "outputs": [
    {
     "data": {
      "text/html": [
       "<div>\n",
       "<style scoped>\n",
       "    .dataframe tbody tr th:only-of-type {\n",
       "        vertical-align: middle;\n",
       "    }\n",
       "\n",
       "    .dataframe tbody tr th {\n",
       "        vertical-align: top;\n",
       "    }\n",
       "\n",
       "    .dataframe thead th {\n",
       "        text-align: right;\n",
       "    }\n",
       "</style>\n",
       "<table border=\"1\" class=\"dataframe\">\n",
       "  <thead>\n",
       "    <tr style=\"text-align: right;\">\n",
       "      <th></th>\n",
       "      <th>total_images</th>\n",
       "      <th>last_price</th>\n",
       "      <th>total_area</th>\n",
       "      <th>rooms</th>\n",
       "      <th>ceiling_height</th>\n",
       "      <th>floors_total</th>\n",
       "      <th>living_area</th>\n",
       "      <th>floor</th>\n",
       "      <th>is_apartment</th>\n",
       "      <th>studio</th>\n",
       "      <th>...</th>\n",
       "      <th>ponds_around3000</th>\n",
       "      <th>ponds_nearest</th>\n",
       "      <th>days_exposition</th>\n",
       "      <th>ratio_living</th>\n",
       "      <th>square_meter</th>\n",
       "      <th>exposition_weekday</th>\n",
       "      <th>exposition_month</th>\n",
       "      <th>exposition_year</th>\n",
       "      <th>ratio_living_area</th>\n",
       "      <th>ratio_kitchen_area</th>\n",
       "    </tr>\n",
       "  </thead>\n",
       "  <tbody>\n",
       "    <tr>\n",
       "      <td>total_images</td>\n",
       "      <td>1.000000</td>\n",
       "      <td>0.094675</td>\n",
       "      <td>0.103994</td>\n",
       "      <td>0.084063</td>\n",
       "      <td>0.045472</td>\n",
       "      <td>0.008023</td>\n",
       "      <td>0.094359</td>\n",
       "      <td>0.029416</td>\n",
       "      <td>0.017760</td>\n",
       "      <td>NaN</td>\n",
       "      <td>...</td>\n",
       "      <td>0.043582</td>\n",
       "      <td>0.038999</td>\n",
       "      <td>-0.028389</td>\n",
       "      <td>0.071285</td>\n",
       "      <td>0.107050</td>\n",
       "      <td>-0.006666</td>\n",
       "      <td>0.021716</td>\n",
       "      <td>0.118125</td>\n",
       "      <td>0.011850</td>\n",
       "      <td>-0.030555</td>\n",
       "    </tr>\n",
       "    <tr>\n",
       "      <td>last_price</td>\n",
       "      <td>0.094675</td>\n",
       "      <td>1.000000</td>\n",
       "      <td>0.642816</td>\n",
       "      <td>0.355480</td>\n",
       "      <td>0.257960</td>\n",
       "      <td>-0.003487</td>\n",
       "      <td>0.573098</td>\n",
       "      <td>0.027559</td>\n",
       "      <td>0.024671</td>\n",
       "      <td>NaN</td>\n",
       "      <td>...</td>\n",
       "      <td>0.116588</td>\n",
       "      <td>0.082611</td>\n",
       "      <td>0.080173</td>\n",
       "      <td>-0.001478</td>\n",
       "      <td>0.625415</td>\n",
       "      <td>0.004339</td>\n",
       "      <td>0.005586</td>\n",
       "      <td>-0.059992</td>\n",
       "      <td>0.007906</td>\n",
       "      <td>-0.103297</td>\n",
       "    </tr>\n",
       "    <tr>\n",
       "      <td>total_area</td>\n",
       "      <td>0.103994</td>\n",
       "      <td>0.642816</td>\n",
       "      <td>1.000000</td>\n",
       "      <td>0.760960</td>\n",
       "      <td>0.371483</td>\n",
       "      <td>-0.064837</td>\n",
       "      <td>0.942954</td>\n",
       "      <td>-0.021608</td>\n",
       "      <td>0.034053</td>\n",
       "      <td>NaN</td>\n",
       "      <td>...</td>\n",
       "      <td>0.103531</td>\n",
       "      <td>0.071817</td>\n",
       "      <td>0.148582</td>\n",
       "      <td>0.065131</td>\n",
       "      <td>0.226389</td>\n",
       "      <td>-0.004472</td>\n",
       "      <td>0.006208</td>\n",
       "      <td>-0.112194</td>\n",
       "      <td>0.147462</td>\n",
       "      <td>-0.345130</td>\n",
       "    </tr>\n",
       "    <tr>\n",
       "      <td>rooms</td>\n",
       "      <td>0.084063</td>\n",
       "      <td>0.355480</td>\n",
       "      <td>0.760960</td>\n",
       "      <td>1.000000</td>\n",
       "      <td>0.228762</td>\n",
       "      <td>-0.218106</td>\n",
       "      <td>0.836260</td>\n",
       "      <td>-0.150075</td>\n",
       "      <td>0.002640</td>\n",
       "      <td>NaN</td>\n",
       "      <td>...</td>\n",
       "      <td>0.063474</td>\n",
       "      <td>0.061878</td>\n",
       "      <td>0.124834</td>\n",
       "      <td>0.268905</td>\n",
       "      <td>-0.103640</td>\n",
       "      <td>-0.005220</td>\n",
       "      <td>0.003558</td>\n",
       "      <td>-0.094888</td>\n",
       "      <td>0.502779</td>\n",
       "      <td>-0.605285</td>\n",
       "    </tr>\n",
       "    <tr>\n",
       "      <td>ceiling_height</td>\n",
       "      <td>0.045472</td>\n",
       "      <td>0.257960</td>\n",
       "      <td>0.371483</td>\n",
       "      <td>0.228762</td>\n",
       "      <td>1.000000</td>\n",
       "      <td>-0.073459</td>\n",
       "      <td>0.355775</td>\n",
       "      <td>-0.040321</td>\n",
       "      <td>0.067343</td>\n",
       "      <td>NaN</td>\n",
       "      <td>...</td>\n",
       "      <td>0.066692</td>\n",
       "      <td>0.043926</td>\n",
       "      <td>0.108255</td>\n",
       "      <td>0.006899</td>\n",
       "      <td>0.225459</td>\n",
       "      <td>-0.017648</td>\n",
       "      <td>-0.004176</td>\n",
       "      <td>-0.071694</td>\n",
       "      <td>-0.003071</td>\n",
       "      <td>-0.011103</td>\n",
       "    </tr>\n",
       "    <tr>\n",
       "      <td>floors_total</td>\n",
       "      <td>0.008023</td>\n",
       "      <td>-0.003487</td>\n",
       "      <td>-0.064837</td>\n",
       "      <td>-0.218106</td>\n",
       "      <td>-0.073459</td>\n",
       "      <td>1.000000</td>\n",
       "      <td>-0.155082</td>\n",
       "      <td>0.677815</td>\n",
       "      <td>-0.020029</td>\n",
       "      <td>NaN</td>\n",
       "      <td>...</td>\n",
       "      <td>0.119971</td>\n",
       "      <td>0.121843</td>\n",
       "      <td>-0.050782</td>\n",
       "      <td>-0.213671</td>\n",
       "      <td>0.236584</td>\n",
       "      <td>0.015781</td>\n",
       "      <td>0.008128</td>\n",
       "      <td>0.031012</td>\n",
       "      <td>-0.370482</td>\n",
       "      <td>0.344538</td>\n",
       "    </tr>\n",
       "    <tr>\n",
       "      <td>living_area</td>\n",
       "      <td>0.094359</td>\n",
       "      <td>0.573098</td>\n",
       "      <td>0.942954</td>\n",
       "      <td>0.836260</td>\n",
       "      <td>0.355775</td>\n",
       "      <td>-0.155082</td>\n",
       "      <td>1.000000</td>\n",
       "      <td>-0.090573</td>\n",
       "      <td>0.034221</td>\n",
       "      <td>NaN</td>\n",
       "      <td>...</td>\n",
       "      <td>0.083033</td>\n",
       "      <td>0.072923</td>\n",
       "      <td>0.145443</td>\n",
       "      <td>0.244749</td>\n",
       "      <td>0.059699</td>\n",
       "      <td>-0.006224</td>\n",
       "      <td>0.001576</td>\n",
       "      <td>-0.110662</td>\n",
       "      <td>0.418055</td>\n",
       "      <td>-0.489865</td>\n",
       "    </tr>\n",
       "    <tr>\n",
       "      <td>floor</td>\n",
       "      <td>0.029416</td>\n",
       "      <td>0.027559</td>\n",
       "      <td>-0.021608</td>\n",
       "      <td>-0.150075</td>\n",
       "      <td>-0.040321</td>\n",
       "      <td>0.677815</td>\n",
       "      <td>-0.090573</td>\n",
       "      <td>1.000000</td>\n",
       "      <td>-0.009051</td>\n",
       "      <td>NaN</td>\n",
       "      <td>...</td>\n",
       "      <td>0.083899</td>\n",
       "      <td>0.080212</td>\n",
       "      <td>-0.039170</td>\n",
       "      <td>-0.146599</td>\n",
       "      <td>0.192208</td>\n",
       "      <td>0.013917</td>\n",
       "      <td>0.016941</td>\n",
       "      <td>0.020176</td>\n",
       "      <td>-0.268042</td>\n",
       "      <td>0.243314</td>\n",
       "    </tr>\n",
       "    <tr>\n",
       "      <td>is_apartment</td>\n",
       "      <td>0.017760</td>\n",
       "      <td>0.024671</td>\n",
       "      <td>0.034053</td>\n",
       "      <td>0.002640</td>\n",
       "      <td>0.067343</td>\n",
       "      <td>-0.020029</td>\n",
       "      <td>0.034221</td>\n",
       "      <td>-0.009051</td>\n",
       "      <td>1.000000</td>\n",
       "      <td>NaN</td>\n",
       "      <td>...</td>\n",
       "      <td>-0.005413</td>\n",
       "      <td>0.008506</td>\n",
       "      <td>0.019676</td>\n",
       "      <td>-0.006244</td>\n",
       "      <td>0.023068</td>\n",
       "      <td>-0.008834</td>\n",
       "      <td>0.004597</td>\n",
       "      <td>0.004753</td>\n",
       "      <td>0.002586</td>\n",
       "      <td>0.002010</td>\n",
       "    </tr>\n",
       "    <tr>\n",
       "      <td>studio</td>\n",
       "      <td>NaN</td>\n",
       "      <td>NaN</td>\n",
       "      <td>NaN</td>\n",
       "      <td>NaN</td>\n",
       "      <td>NaN</td>\n",
       "      <td>NaN</td>\n",
       "      <td>NaN</td>\n",
       "      <td>NaN</td>\n",
       "      <td>NaN</td>\n",
       "      <td>NaN</td>\n",
       "      <td>...</td>\n",
       "      <td>NaN</td>\n",
       "      <td>NaN</td>\n",
       "      <td>NaN</td>\n",
       "      <td>NaN</td>\n",
       "      <td>NaN</td>\n",
       "      <td>NaN</td>\n",
       "      <td>NaN</td>\n",
       "      <td>NaN</td>\n",
       "      <td>NaN</td>\n",
       "      <td>NaN</td>\n",
       "    </tr>\n",
       "    <tr>\n",
       "      <td>open_plan</td>\n",
       "      <td>-0.012967</td>\n",
       "      <td>0.008273</td>\n",
       "      <td>0.005367</td>\n",
       "      <td>0.008651</td>\n",
       "      <td>0.005639</td>\n",
       "      <td>0.005126</td>\n",
       "      <td>0.007522</td>\n",
       "      <td>0.000179</td>\n",
       "      <td>-0.000830</td>\n",
       "      <td>NaN</td>\n",
       "      <td>...</td>\n",
       "      <td>-0.004110</td>\n",
       "      <td>-0.004866</td>\n",
       "      <td>-0.001261</td>\n",
       "      <td>0.003023</td>\n",
       "      <td>0.007104</td>\n",
       "      <td>-0.005193</td>\n",
       "      <td>-0.006946</td>\n",
       "      <td>-0.032799</td>\n",
       "      <td>0.010136</td>\n",
       "      <td>-0.000496</td>\n",
       "    </tr>\n",
       "    <tr>\n",
       "      <td>kitchen_area</td>\n",
       "      <td>0.095621</td>\n",
       "      <td>0.449893</td>\n",
       "      <td>0.618829</td>\n",
       "      <td>0.293895</td>\n",
       "      <td>0.314554</td>\n",
       "      <td>0.154040</td>\n",
       "      <td>0.455806</td>\n",
       "      <td>0.125910</td>\n",
       "      <td>0.028843</td>\n",
       "      <td>NaN</td>\n",
       "      <td>...</td>\n",
       "      <td>0.102612</td>\n",
       "      <td>0.048545</td>\n",
       "      <td>0.105915</td>\n",
       "      <td>-0.190442</td>\n",
       "      <td>0.476734</td>\n",
       "      <td>-0.006659</td>\n",
       "      <td>0.003720</td>\n",
       "      <td>-0.068259</td>\n",
       "      <td>-0.313463</td>\n",
       "      <td>0.390049</td>\n",
       "    </tr>\n",
       "    <tr>\n",
       "      <td>balcony</td>\n",
       "      <td>0.046678</td>\n",
       "      <td>0.014252</td>\n",
       "      <td>0.020074</td>\n",
       "      <td>-0.007109</td>\n",
       "      <td>-0.037936</td>\n",
       "      <td>0.167798</td>\n",
       "      <td>-0.001316</td>\n",
       "      <td>0.168034</td>\n",
       "      <td>0.034576</td>\n",
       "      <td>NaN</td>\n",
       "      <td>...</td>\n",
       "      <td>0.008923</td>\n",
       "      <td>-0.001865</td>\n",
       "      <td>-0.027182</td>\n",
       "      <td>0.040570</td>\n",
       "      <td>0.047964</td>\n",
       "      <td>0.001839</td>\n",
       "      <td>0.009005</td>\n",
       "      <td>-0.001694</td>\n",
       "      <td>-0.068466</td>\n",
       "      <td>0.033961</td>\n",
       "    </tr>\n",
       "    <tr>\n",
       "      <td>airports_nearest</td>\n",
       "      <td>0.034381</td>\n",
       "      <td>0.098151</td>\n",
       "      <td>0.084381</td>\n",
       "      <td>0.036898</td>\n",
       "      <td>0.032361</td>\n",
       "      <td>0.157401</td>\n",
       "      <td>0.064895</td>\n",
       "      <td>0.109088</td>\n",
       "      <td>0.018417</td>\n",
       "      <td>NaN</td>\n",
       "      <td>...</td>\n",
       "      <td>0.482131</td>\n",
       "      <td>0.560403</td>\n",
       "      <td>-0.004587</td>\n",
       "      <td>0.018243</td>\n",
       "      <td>0.239489</td>\n",
       "      <td>-0.000781</td>\n",
       "      <td>0.001427</td>\n",
       "      <td>-0.022785</td>\n",
       "      <td>-0.036236</td>\n",
       "      <td>-0.005307</td>\n",
       "    </tr>\n",
       "    <tr>\n",
       "      <td>cityCenters_nearest</td>\n",
       "      <td>-0.001922</td>\n",
       "      <td>-0.051816</td>\n",
       "      <td>-0.081677</td>\n",
       "      <td>-0.068221</td>\n",
       "      <td>-0.131603</td>\n",
       "      <td>0.085739</td>\n",
       "      <td>-0.084545</td>\n",
       "      <td>0.055895</td>\n",
       "      <td>0.012030</td>\n",
       "      <td>NaN</td>\n",
       "      <td>...</td>\n",
       "      <td>0.326380</td>\n",
       "      <td>0.467973</td>\n",
       "      <td>-0.037146</td>\n",
       "      <td>0.034895</td>\n",
       "      <td>0.022708</td>\n",
       "      <td>0.003439</td>\n",
       "      <td>-0.011462</td>\n",
       "      <td>0.003696</td>\n",
       "      <td>-0.015328</td>\n",
       "      <td>-0.009071</td>\n",
       "    </tr>\n",
       "    <tr>\n",
       "      <td>parks_around3000</td>\n",
       "      <td>0.036929</td>\n",
       "      <td>0.182400</td>\n",
       "      <td>0.194723</td>\n",
       "      <td>0.151710</td>\n",
       "      <td>0.226055</td>\n",
       "      <td>-0.166130</td>\n",
       "      <td>0.204538</td>\n",
       "      <td>-0.109163</td>\n",
       "      <td>0.022828</td>\n",
       "      <td>NaN</td>\n",
       "      <td>...</td>\n",
       "      <td>0.169533</td>\n",
       "      <td>0.188211</td>\n",
       "      <td>0.054783</td>\n",
       "      <td>0.062570</td>\n",
       "      <td>0.213473</td>\n",
       "      <td>-0.007562</td>\n",
       "      <td>-0.003113</td>\n",
       "      <td>-0.050404</td>\n",
       "      <td>0.084444</td>\n",
       "      <td>-0.097954</td>\n",
       "    </tr>\n",
       "    <tr>\n",
       "      <td>parks_nearest</td>\n",
       "      <td>0.043590</td>\n",
       "      <td>0.116558</td>\n",
       "      <td>0.103484</td>\n",
       "      <td>0.063441</td>\n",
       "      <td>0.066615</td>\n",
       "      <td>0.120134</td>\n",
       "      <td>0.082984</td>\n",
       "      <td>0.084002</td>\n",
       "      <td>-0.005409</td>\n",
       "      <td>NaN</td>\n",
       "      <td>...</td>\n",
       "      <td>1.000000</td>\n",
       "      <td>0.528582</td>\n",
       "      <td>0.019645</td>\n",
       "      <td>0.019030</td>\n",
       "      <td>0.280170</td>\n",
       "      <td>-0.005728</td>\n",
       "      <td>0.008636</td>\n",
       "      <td>-0.034323</td>\n",
       "      <td>-0.022195</td>\n",
       "      <td>-0.017017</td>\n",
       "    </tr>\n",
       "    <tr>\n",
       "      <td>ponds_around3000</td>\n",
       "      <td>0.043582</td>\n",
       "      <td>0.116588</td>\n",
       "      <td>0.103531</td>\n",
       "      <td>0.063474</td>\n",
       "      <td>0.066692</td>\n",
       "      <td>0.119971</td>\n",
       "      <td>0.083033</td>\n",
       "      <td>0.083899</td>\n",
       "      <td>-0.005413</td>\n",
       "      <td>NaN</td>\n",
       "      <td>...</td>\n",
       "      <td>1.000000</td>\n",
       "      <td>0.528387</td>\n",
       "      <td>0.019677</td>\n",
       "      <td>0.019028</td>\n",
       "      <td>0.280156</td>\n",
       "      <td>-0.005727</td>\n",
       "      <td>0.008636</td>\n",
       "      <td>-0.034342</td>\n",
       "      <td>-0.022175</td>\n",
       "      <td>-0.017049</td>\n",
       "    </tr>\n",
       "    <tr>\n",
       "      <td>ponds_nearest</td>\n",
       "      <td>0.038999</td>\n",
       "      <td>0.082611</td>\n",
       "      <td>0.071817</td>\n",
       "      <td>0.061878</td>\n",
       "      <td>0.043926</td>\n",
       "      <td>0.121843</td>\n",
       "      <td>0.072923</td>\n",
       "      <td>0.080212</td>\n",
       "      <td>0.008506</td>\n",
       "      <td>NaN</td>\n",
       "      <td>...</td>\n",
       "      <td>0.528387</td>\n",
       "      <td>1.000000</td>\n",
       "      <td>-0.025766</td>\n",
       "      <td>0.062352</td>\n",
       "      <td>0.218434</td>\n",
       "      <td>-0.004743</td>\n",
       "      <td>0.008972</td>\n",
       "      <td>-0.012111</td>\n",
       "      <td>0.021070</td>\n",
       "      <td>-0.037780</td>\n",
       "    </tr>\n",
       "    <tr>\n",
       "      <td>days_exposition</td>\n",
       "      <td>-0.028389</td>\n",
       "      <td>0.080173</td>\n",
       "      <td>0.148582</td>\n",
       "      <td>0.124834</td>\n",
       "      <td>0.108255</td>\n",
       "      <td>-0.050782</td>\n",
       "      <td>0.145443</td>\n",
       "      <td>-0.039170</td>\n",
       "      <td>0.019676</td>\n",
       "      <td>NaN</td>\n",
       "      <td>...</td>\n",
       "      <td>0.019677</td>\n",
       "      <td>-0.025766</td>\n",
       "      <td>1.000000</td>\n",
       "      <td>0.060539</td>\n",
       "      <td>0.039991</td>\n",
       "      <td>-0.028343</td>\n",
       "      <td>-0.029491</td>\n",
       "      <td>-0.613775</td>\n",
       "      <td>0.023954</td>\n",
       "      <td>-0.049088</td>\n",
       "    </tr>\n",
       "    <tr>\n",
       "      <td>ratio_living</td>\n",
       "      <td>0.071285</td>\n",
       "      <td>-0.001478</td>\n",
       "      <td>0.065131</td>\n",
       "      <td>0.268905</td>\n",
       "      <td>0.006899</td>\n",
       "      <td>-0.213671</td>\n",
       "      <td>0.244749</td>\n",
       "      <td>-0.146599</td>\n",
       "      <td>-0.006244</td>\n",
       "      <td>NaN</td>\n",
       "      <td>...</td>\n",
       "      <td>0.019028</td>\n",
       "      <td>0.062352</td>\n",
       "      <td>0.060539</td>\n",
       "      <td>1.000000</td>\n",
       "      <td>-0.251782</td>\n",
       "      <td>-0.031125</td>\n",
       "      <td>0.018414</td>\n",
       "      <td>-0.079782</td>\n",
       "      <td>0.633079</td>\n",
       "      <td>-0.373940</td>\n",
       "    </tr>\n",
       "    <tr>\n",
       "      <td>square_meter</td>\n",
       "      <td>0.107050</td>\n",
       "      <td>0.625415</td>\n",
       "      <td>0.226389</td>\n",
       "      <td>-0.103640</td>\n",
       "      <td>0.225459</td>\n",
       "      <td>0.236584</td>\n",
       "      <td>0.059699</td>\n",
       "      <td>0.192208</td>\n",
       "      <td>0.023068</td>\n",
       "      <td>NaN</td>\n",
       "      <td>...</td>\n",
       "      <td>0.280156</td>\n",
       "      <td>0.218434</td>\n",
       "      <td>0.039991</td>\n",
       "      <td>-0.251782</td>\n",
       "      <td>1.000000</td>\n",
       "      <td>-0.000804</td>\n",
       "      <td>0.007653</td>\n",
       "      <td>-0.005416</td>\n",
       "      <td>-0.463374</td>\n",
       "      <td>0.365343</td>\n",
       "    </tr>\n",
       "    <tr>\n",
       "      <td>exposition_weekday</td>\n",
       "      <td>-0.006666</td>\n",
       "      <td>0.004339</td>\n",
       "      <td>-0.004472</td>\n",
       "      <td>-0.005220</td>\n",
       "      <td>-0.017648</td>\n",
       "      <td>0.015781</td>\n",
       "      <td>-0.006224</td>\n",
       "      <td>0.013917</td>\n",
       "      <td>-0.008834</td>\n",
       "      <td>NaN</td>\n",
       "      <td>...</td>\n",
       "      <td>-0.005727</td>\n",
       "      <td>-0.004743</td>\n",
       "      <td>-0.028343</td>\n",
       "      <td>-0.031125</td>\n",
       "      <td>-0.000804</td>\n",
       "      <td>1.000000</td>\n",
       "      <td>0.010931</td>\n",
       "      <td>0.009262</td>\n",
       "      <td>0.000833</td>\n",
       "      <td>0.000443</td>\n",
       "    </tr>\n",
       "    <tr>\n",
       "      <td>exposition_month</td>\n",
       "      <td>0.021716</td>\n",
       "      <td>0.005586</td>\n",
       "      <td>0.006208</td>\n",
       "      <td>0.003558</td>\n",
       "      <td>-0.004176</td>\n",
       "      <td>0.008128</td>\n",
       "      <td>0.001576</td>\n",
       "      <td>0.016941</td>\n",
       "      <td>0.004597</td>\n",
       "      <td>NaN</td>\n",
       "      <td>...</td>\n",
       "      <td>0.008636</td>\n",
       "      <td>0.008972</td>\n",
       "      <td>-0.029491</td>\n",
       "      <td>0.018414</td>\n",
       "      <td>0.007653</td>\n",
       "      <td>0.010931</td>\n",
       "      <td>1.000000</td>\n",
       "      <td>-0.196965</td>\n",
       "      <td>-0.009465</td>\n",
       "      <td>0.004139</td>\n",
       "    </tr>\n",
       "    <tr>\n",
       "      <td>exposition_year</td>\n",
       "      <td>0.118125</td>\n",
       "      <td>-0.059992</td>\n",
       "      <td>-0.112194</td>\n",
       "      <td>-0.094888</td>\n",
       "      <td>-0.071694</td>\n",
       "      <td>0.031012</td>\n",
       "      <td>-0.110662</td>\n",
       "      <td>0.020176</td>\n",
       "      <td>0.004753</td>\n",
       "      <td>NaN</td>\n",
       "      <td>...</td>\n",
       "      <td>-0.034342</td>\n",
       "      <td>-0.012111</td>\n",
       "      <td>-0.613775</td>\n",
       "      <td>-0.079782</td>\n",
       "      <td>-0.005416</td>\n",
       "      <td>0.009262</td>\n",
       "      <td>-0.196965</td>\n",
       "      <td>1.000000</td>\n",
       "      <td>-0.025961</td>\n",
       "      <td>0.049630</td>\n",
       "    </tr>\n",
       "    <tr>\n",
       "      <td>ratio_living_area</td>\n",
       "      <td>0.011850</td>\n",
       "      <td>0.007906</td>\n",
       "      <td>0.147462</td>\n",
       "      <td>0.502779</td>\n",
       "      <td>-0.003071</td>\n",
       "      <td>-0.370482</td>\n",
       "      <td>0.418055</td>\n",
       "      <td>-0.268042</td>\n",
       "      <td>0.002586</td>\n",
       "      <td>NaN</td>\n",
       "      <td>...</td>\n",
       "      <td>-0.022175</td>\n",
       "      <td>0.021070</td>\n",
       "      <td>0.023954</td>\n",
       "      <td>0.633079</td>\n",
       "      <td>-0.463374</td>\n",
       "      <td>0.000833</td>\n",
       "      <td>-0.009465</td>\n",
       "      <td>-0.025961</td>\n",
       "      <td>1.000000</td>\n",
       "      <td>-0.668134</td>\n",
       "    </tr>\n",
       "    <tr>\n",
       "      <td>ratio_kitchen_area</td>\n",
       "      <td>-0.030555</td>\n",
       "      <td>-0.103297</td>\n",
       "      <td>-0.345130</td>\n",
       "      <td>-0.605285</td>\n",
       "      <td>-0.011103</td>\n",
       "      <td>0.344538</td>\n",
       "      <td>-0.489865</td>\n",
       "      <td>0.243314</td>\n",
       "      <td>0.002010</td>\n",
       "      <td>NaN</td>\n",
       "      <td>...</td>\n",
       "      <td>-0.017049</td>\n",
       "      <td>-0.037780</td>\n",
       "      <td>-0.049088</td>\n",
       "      <td>-0.373940</td>\n",
       "      <td>0.365343</td>\n",
       "      <td>0.000443</td>\n",
       "      <td>0.004139</td>\n",
       "      <td>0.049630</td>\n",
       "      <td>-0.668134</td>\n",
       "      <td>1.000000</td>\n",
       "    </tr>\n",
       "  </tbody>\n",
       "</table>\n",
       "<p>27 rows × 27 columns</p>\n",
       "</div>"
      ],
      "text/plain": [
       "                     total_images  last_price  total_area     rooms  \\\n",
       "total_images             1.000000    0.094675    0.103994  0.084063   \n",
       "last_price               0.094675    1.000000    0.642816  0.355480   \n",
       "total_area               0.103994    0.642816    1.000000  0.760960   \n",
       "rooms                    0.084063    0.355480    0.760960  1.000000   \n",
       "ceiling_height           0.045472    0.257960    0.371483  0.228762   \n",
       "floors_total             0.008023   -0.003487   -0.064837 -0.218106   \n",
       "living_area              0.094359    0.573098    0.942954  0.836260   \n",
       "floor                    0.029416    0.027559   -0.021608 -0.150075   \n",
       "is_apartment             0.017760    0.024671    0.034053  0.002640   \n",
       "studio                        NaN         NaN         NaN       NaN   \n",
       "open_plan               -0.012967    0.008273    0.005367  0.008651   \n",
       "kitchen_area             0.095621    0.449893    0.618829  0.293895   \n",
       "balcony                  0.046678    0.014252    0.020074 -0.007109   \n",
       "airports_nearest         0.034381    0.098151    0.084381  0.036898   \n",
       "cityCenters_nearest     -0.001922   -0.051816   -0.081677 -0.068221   \n",
       "parks_around3000         0.036929    0.182400    0.194723  0.151710   \n",
       "parks_nearest            0.043590    0.116558    0.103484  0.063441   \n",
       "ponds_around3000         0.043582    0.116588    0.103531  0.063474   \n",
       "ponds_nearest            0.038999    0.082611    0.071817  0.061878   \n",
       "days_exposition         -0.028389    0.080173    0.148582  0.124834   \n",
       "ratio_living             0.071285   -0.001478    0.065131  0.268905   \n",
       "square_meter             0.107050    0.625415    0.226389 -0.103640   \n",
       "exposition_weekday      -0.006666    0.004339   -0.004472 -0.005220   \n",
       "exposition_month         0.021716    0.005586    0.006208  0.003558   \n",
       "exposition_year          0.118125   -0.059992   -0.112194 -0.094888   \n",
       "ratio_living_area        0.011850    0.007906    0.147462  0.502779   \n",
       "ratio_kitchen_area      -0.030555   -0.103297   -0.345130 -0.605285   \n",
       "\n",
       "                     ceiling_height  floors_total  living_area     floor  \\\n",
       "total_images               0.045472      0.008023     0.094359  0.029416   \n",
       "last_price                 0.257960     -0.003487     0.573098  0.027559   \n",
       "total_area                 0.371483     -0.064837     0.942954 -0.021608   \n",
       "rooms                      0.228762     -0.218106     0.836260 -0.150075   \n",
       "ceiling_height             1.000000     -0.073459     0.355775 -0.040321   \n",
       "floors_total              -0.073459      1.000000    -0.155082  0.677815   \n",
       "living_area                0.355775     -0.155082     1.000000 -0.090573   \n",
       "floor                     -0.040321      0.677815    -0.090573  1.000000   \n",
       "is_apartment               0.067343     -0.020029     0.034221 -0.009051   \n",
       "studio                          NaN           NaN          NaN       NaN   \n",
       "open_plan                  0.005639      0.005126     0.007522  0.000179   \n",
       "kitchen_area               0.314554      0.154040     0.455806  0.125910   \n",
       "balcony                   -0.037936      0.167798    -0.001316  0.168034   \n",
       "airports_nearest           0.032361      0.157401     0.064895  0.109088   \n",
       "cityCenters_nearest       -0.131603      0.085739    -0.084545  0.055895   \n",
       "parks_around3000           0.226055     -0.166130     0.204538 -0.109163   \n",
       "parks_nearest              0.066615      0.120134     0.082984  0.084002   \n",
       "ponds_around3000           0.066692      0.119971     0.083033  0.083899   \n",
       "ponds_nearest              0.043926      0.121843     0.072923  0.080212   \n",
       "days_exposition            0.108255     -0.050782     0.145443 -0.039170   \n",
       "ratio_living               0.006899     -0.213671     0.244749 -0.146599   \n",
       "square_meter               0.225459      0.236584     0.059699  0.192208   \n",
       "exposition_weekday        -0.017648      0.015781    -0.006224  0.013917   \n",
       "exposition_month          -0.004176      0.008128     0.001576  0.016941   \n",
       "exposition_year           -0.071694      0.031012    -0.110662  0.020176   \n",
       "ratio_living_area         -0.003071     -0.370482     0.418055 -0.268042   \n",
       "ratio_kitchen_area        -0.011103      0.344538    -0.489865  0.243314   \n",
       "\n",
       "                     is_apartment  studio  ...  ponds_around3000  \\\n",
       "total_images             0.017760     NaN  ...          0.043582   \n",
       "last_price               0.024671     NaN  ...          0.116588   \n",
       "total_area               0.034053     NaN  ...          0.103531   \n",
       "rooms                    0.002640     NaN  ...          0.063474   \n",
       "ceiling_height           0.067343     NaN  ...          0.066692   \n",
       "floors_total            -0.020029     NaN  ...          0.119971   \n",
       "living_area              0.034221     NaN  ...          0.083033   \n",
       "floor                   -0.009051     NaN  ...          0.083899   \n",
       "is_apartment             1.000000     NaN  ...         -0.005413   \n",
       "studio                        NaN     NaN  ...               NaN   \n",
       "open_plan               -0.000830     NaN  ...         -0.004110   \n",
       "kitchen_area             0.028843     NaN  ...          0.102612   \n",
       "balcony                  0.034576     NaN  ...          0.008923   \n",
       "airports_nearest         0.018417     NaN  ...          0.482131   \n",
       "cityCenters_nearest      0.012030     NaN  ...          0.326380   \n",
       "parks_around3000         0.022828     NaN  ...          0.169533   \n",
       "parks_nearest           -0.005409     NaN  ...          1.000000   \n",
       "ponds_around3000        -0.005413     NaN  ...          1.000000   \n",
       "ponds_nearest            0.008506     NaN  ...          0.528387   \n",
       "days_exposition          0.019676     NaN  ...          0.019677   \n",
       "ratio_living            -0.006244     NaN  ...          0.019028   \n",
       "square_meter             0.023068     NaN  ...          0.280156   \n",
       "exposition_weekday      -0.008834     NaN  ...         -0.005727   \n",
       "exposition_month         0.004597     NaN  ...          0.008636   \n",
       "exposition_year          0.004753     NaN  ...         -0.034342   \n",
       "ratio_living_area        0.002586     NaN  ...         -0.022175   \n",
       "ratio_kitchen_area       0.002010     NaN  ...         -0.017049   \n",
       "\n",
       "                     ponds_nearest  days_exposition  ratio_living  \\\n",
       "total_images              0.038999        -0.028389      0.071285   \n",
       "last_price                0.082611         0.080173     -0.001478   \n",
       "total_area                0.071817         0.148582      0.065131   \n",
       "rooms                     0.061878         0.124834      0.268905   \n",
       "ceiling_height            0.043926         0.108255      0.006899   \n",
       "floors_total              0.121843        -0.050782     -0.213671   \n",
       "living_area               0.072923         0.145443      0.244749   \n",
       "floor                     0.080212        -0.039170     -0.146599   \n",
       "is_apartment              0.008506         0.019676     -0.006244   \n",
       "studio                         NaN              NaN           NaN   \n",
       "open_plan                -0.004866        -0.001261      0.003023   \n",
       "kitchen_area              0.048545         0.105915     -0.190442   \n",
       "balcony                  -0.001865        -0.027182      0.040570   \n",
       "airports_nearest          0.560403        -0.004587      0.018243   \n",
       "cityCenters_nearest       0.467973        -0.037146      0.034895   \n",
       "parks_around3000          0.188211         0.054783      0.062570   \n",
       "parks_nearest             0.528582         0.019645      0.019030   \n",
       "ponds_around3000          0.528387         0.019677      0.019028   \n",
       "ponds_nearest             1.000000        -0.025766      0.062352   \n",
       "days_exposition          -0.025766         1.000000      0.060539   \n",
       "ratio_living              0.062352         0.060539      1.000000   \n",
       "square_meter              0.218434         0.039991     -0.251782   \n",
       "exposition_weekday       -0.004743        -0.028343     -0.031125   \n",
       "exposition_month          0.008972        -0.029491      0.018414   \n",
       "exposition_year          -0.012111        -0.613775     -0.079782   \n",
       "ratio_living_area         0.021070         0.023954      0.633079   \n",
       "ratio_kitchen_area       -0.037780        -0.049088     -0.373940   \n",
       "\n",
       "                     square_meter  exposition_weekday  exposition_month  \\\n",
       "total_images             0.107050           -0.006666          0.021716   \n",
       "last_price               0.625415            0.004339          0.005586   \n",
       "total_area               0.226389           -0.004472          0.006208   \n",
       "rooms                   -0.103640           -0.005220          0.003558   \n",
       "ceiling_height           0.225459           -0.017648         -0.004176   \n",
       "floors_total             0.236584            0.015781          0.008128   \n",
       "living_area              0.059699           -0.006224          0.001576   \n",
       "floor                    0.192208            0.013917          0.016941   \n",
       "is_apartment             0.023068           -0.008834          0.004597   \n",
       "studio                        NaN                 NaN               NaN   \n",
       "open_plan                0.007104           -0.005193         -0.006946   \n",
       "kitchen_area             0.476734           -0.006659          0.003720   \n",
       "balcony                  0.047964            0.001839          0.009005   \n",
       "airports_nearest         0.239489           -0.000781          0.001427   \n",
       "cityCenters_nearest      0.022708            0.003439         -0.011462   \n",
       "parks_around3000         0.213473           -0.007562         -0.003113   \n",
       "parks_nearest            0.280170           -0.005728          0.008636   \n",
       "ponds_around3000         0.280156           -0.005727          0.008636   \n",
       "ponds_nearest            0.218434           -0.004743          0.008972   \n",
       "days_exposition          0.039991           -0.028343         -0.029491   \n",
       "ratio_living            -0.251782           -0.031125          0.018414   \n",
       "square_meter             1.000000           -0.000804          0.007653   \n",
       "exposition_weekday      -0.000804            1.000000          0.010931   \n",
       "exposition_month         0.007653            0.010931          1.000000   \n",
       "exposition_year         -0.005416            0.009262         -0.196965   \n",
       "ratio_living_area       -0.463374            0.000833         -0.009465   \n",
       "ratio_kitchen_area       0.365343            0.000443          0.004139   \n",
       "\n",
       "                     exposition_year  ratio_living_area  ratio_kitchen_area  \n",
       "total_images                0.118125           0.011850           -0.030555  \n",
       "last_price                 -0.059992           0.007906           -0.103297  \n",
       "total_area                 -0.112194           0.147462           -0.345130  \n",
       "rooms                      -0.094888           0.502779           -0.605285  \n",
       "ceiling_height             -0.071694          -0.003071           -0.011103  \n",
       "floors_total                0.031012          -0.370482            0.344538  \n",
       "living_area                -0.110662           0.418055           -0.489865  \n",
       "floor                       0.020176          -0.268042            0.243314  \n",
       "is_apartment                0.004753           0.002586            0.002010  \n",
       "studio                           NaN                NaN                 NaN  \n",
       "open_plan                  -0.032799           0.010136           -0.000496  \n",
       "kitchen_area               -0.068259          -0.313463            0.390049  \n",
       "balcony                    -0.001694          -0.068466            0.033961  \n",
       "airports_nearest           -0.022785          -0.036236           -0.005307  \n",
       "cityCenters_nearest         0.003696          -0.015328           -0.009071  \n",
       "parks_around3000           -0.050404           0.084444           -0.097954  \n",
       "parks_nearest              -0.034323          -0.022195           -0.017017  \n",
       "ponds_around3000           -0.034342          -0.022175           -0.017049  \n",
       "ponds_nearest              -0.012111           0.021070           -0.037780  \n",
       "days_exposition            -0.613775           0.023954           -0.049088  \n",
       "ratio_living               -0.079782           0.633079           -0.373940  \n",
       "square_meter               -0.005416          -0.463374            0.365343  \n",
       "exposition_weekday          0.009262           0.000833            0.000443  \n",
       "exposition_month           -0.196965          -0.009465            0.004139  \n",
       "exposition_year             1.000000          -0.025961            0.049630  \n",
       "ratio_living_area          -0.025961           1.000000           -0.668134  \n",
       "ratio_kitchen_area          0.049630          -0.668134            1.000000  \n",
       "\n",
       "[27 rows x 27 columns]"
      ]
     },
     "execution_count": 96,
     "metadata": {},
     "output_type": "execute_result"
    }
   ],
   "source": [
    "good_df.corr()"
   ]
  },
  {
   "cell_type": "markdown",
   "metadata": {},
   "source": [
    "Предварительно по матрице распределения можно выделить следующие переменные влияющие на стоимость жилья:\n",
    "    - общая площадь,\n",
    "    - количество комнат,\n",
    "    - высота потолков,\n",
    "    - жилая площадь,\n",
    "    - площадь кухни.\n",
    "\n",
    "Все эти зависимости имеют линейный характер, наиболее вероятно, что в данных есть и другие зависимости, которые нельзя отобразить коэффициентом корреляции Пирсона."
   ]
  },
  {
   "cell_type": "markdown",
   "metadata": {},
   "source": [
    "Также хотелось бы выделить зависимости стоимости квадратного метра от значений:\n",
    "- общей площади,\n",
    "- высоты потолков,\n",
    "- количество этажей в доме,\n",
    "- этажа,\n",
    "- площади кухни,\n",
    "- растояния до аэропорта,\n",
    "- от количества парков и расстояния до них,\n",
    "- от количества водоемов и расстояния до них.\n",
    "\n",
    "Данный зависимости наиболее полно отражают запросы потребителей к выбору жилья."
   ]
  },
  {
   "cell_type": "markdown",
   "metadata": {},
   "source": [
    "#### Изучение, зависимости цены от площади, числа комнат, удалённости от центра."
   ]
  },
  {
   "cell_type": "code",
   "execution_count": 97,
   "metadata": {},
   "outputs": [
    {
     "data": {
      "image/png": "[encoded data removed]",
      "text/plain": [
       "<Figure size 432x288 with 16 Axes>"
      ]
     },
     "metadata": {
      "needs_background": "light"
     },
     "output_type": "display_data"
    }
   ],
   "source": [
    "good_df_research1 = good_df.loc[:, ['last_price', 'total_area', 'rooms', 'cityCenters_nearest', 'floor_type']]\n",
    "pd.plotting.scatter_matrix(good_df_research1)\n",
    "plt.show()"
   ]
  },
  {
   "cell_type": "code",
   "execution_count": 98,
   "metadata": {},
   "outputs": [
    {
     "data": {
      "image/png": "[encoded data removed]",
      "text/plain": [
       "<Figure size 432x288 with 1 Axes>"
      ]
     },
     "metadata": {
      "needs_background": "light"
     },
     "output_type": "display_data"
    }
   ],
   "source": [
    "good_df.plot(x='last_price', y='total_area', kind='scatter', grid=True);\n",
    "plt.suptitle('Диаграмма рассеяния')\n",
    "plt.xlabel('Цена')\n",
    "plt.ylabel('Общая площадь')\n",
    "plt.show()"
   ]
  },
  {
   "cell_type": "code",
   "execution_count": 99,
   "metadata": {},
   "outputs": [
    {
     "data": {
      "text/plain": [
       "0.6428158158331135"
      ]
     },
     "execution_count": 99,
     "metadata": {},
     "output_type": "execute_result"
    }
   ],
   "source": [
    "good_df['last_price'].corr(good_df['total_area'])"
   ]
  },
  {
   "cell_type": "markdown",
   "metadata": {},
   "source": [
    "Как можно увидеть на диаграмме рассеяния, что чем больше площадь, тем выше стоимость квартиры. Но в данных присутствуют значения с большой площадью и невысокой ценой."
   ]
  },
  {
   "cell_type": "code",
   "execution_count": 100,
   "metadata": {},
   "outputs": [
    {
     "data": {
      "image/png": "[encoded data removed]",
      "text/plain": [
       "<Figure size 432x288 with 1 Axes>"
      ]
     },
     "metadata": {
      "needs_background": "light"
     },
     "output_type": "display_data"
    }
   ],
   "source": [
    "good_df.plot(x='last_price', y='rooms', kind='scatter', grid=True);\n",
    "plt.suptitle('Диаграмма рассеяния')\n",
    "plt.xlabel('Цена')\n",
    "plt.ylabel('Количество комнат')\n",
    "plt.show()"
   ]
  },
  {
   "cell_type": "code",
   "execution_count": 101,
   "metadata": {},
   "outputs": [
    {
     "data": {
      "text/plain": [
       "0.35547997512253254"
      ]
     },
     "execution_count": 101,
     "metadata": {},
     "output_type": "execute_result"
    }
   ],
   "source": [
    "good_df['last_price'].corr(good_df['rooms'])"
   ]
  },
  {
   "cell_type": "markdown",
   "metadata": {},
   "source": [
    "В результат построения графика видна зависимость увеличения стоимости жилья, при увеличении количества комнат. Но есть значения выбивающиеся из этого распределения - с большим количеством комнат и низкой ценой."
   ]
  },
  {
   "cell_type": "code",
   "execution_count": 102,
   "metadata": {},
   "outputs": [
    {
     "data": {
      "image/png": "[encoded data removed]",
      "text/plain": [
       "<Figure size 432x288 with 1 Axes>"
      ]
     },
     "metadata": {
      "needs_background": "light"
     },
     "output_type": "display_data"
    }
   ],
   "source": [
    "good_df.plot(x='cityCenters_nearest', y='last_price', kind='scatter', grid=True);\n",
    "plt.suptitle('Диаграмма рассеяния')\n",
    "plt.xlabel('Расстояние до центра')\n",
    "plt.ylabel('Цена')\n",
    "plt.show()"
   ]
  },
  {
   "cell_type": "code",
   "execution_count": 103,
   "metadata": {},
   "outputs": [
    {
     "data": {
      "text/plain": [
       "-0.05181609300832449"
      ]
     },
     "execution_count": 103,
     "metadata": {},
     "output_type": "execute_result"
    }
   ],
   "source": [
    "good_df['last_price'].corr(good_df['cityCenters_nearest'])"
   ]
  },
  {
   "cell_type": "markdown",
   "metadata": {},
   "source": [
    "При анализе цены и близости квартиры к центру, заметна некоторая связь этих показателей. Чем ближе к центру, тем цена выше. Вероятно четкой зависимости нет, т.к. необходимо выполнять анализ отдельно по каждому населенному пункту."
   ]
  },
  {
   "cell_type": "code",
   "execution_count": 104,
   "metadata": {},
   "outputs": [
    {
     "data": {
      "text/html": [
       "<div>\n",
       "<style scoped>\n",
       "    .dataframe tbody tr th:only-of-type {\n",
       "        vertical-align: middle;\n",
       "    }\n",
       "\n",
       "    .dataframe tbody tr th {\n",
       "        vertical-align: top;\n",
       "    }\n",
       "\n",
       "    .dataframe thead th {\n",
       "        text-align: right;\n",
       "    }\n",
       "</style>\n",
       "<table border=\"1\" class=\"dataframe\">\n",
       "  <thead>\n",
       "    <tr style=\"text-align: right;\">\n",
       "      <th></th>\n",
       "      <th>median</th>\n",
       "      <th>min</th>\n",
       "      <th>max</th>\n",
       "    </tr>\n",
       "    <tr>\n",
       "      <th>floor_type</th>\n",
       "      <th></th>\n",
       "      <th></th>\n",
       "      <th></th>\n",
       "    </tr>\n",
       "  </thead>\n",
       "  <tbody>\n",
       "    <tr>\n",
       "      <td>другой</td>\n",
       "      <td>4750000.0</td>\n",
       "      <td>530000.0</td>\n",
       "      <td>330000000.0</td>\n",
       "    </tr>\n",
       "    <tr>\n",
       "      <td>последний</td>\n",
       "      <td>4300000.0</td>\n",
       "      <td>560000.0</td>\n",
       "      <td>763000000.0</td>\n",
       "    </tr>\n",
       "    <tr>\n",
       "      <td>первый</td>\n",
       "      <td>3850000.0</td>\n",
       "      <td>520000.0</td>\n",
       "      <td>55900000.0</td>\n",
       "    </tr>\n",
       "  </tbody>\n",
       "</table>\n",
       "</div>"
      ],
      "text/plain": [
       "               median       min          max\n",
       "floor_type                                  \n",
       "другой      4750000.0  530000.0  330000000.0\n",
       "последний   4300000.0  560000.0  763000000.0\n",
       "первый      3850000.0  520000.0   55900000.0"
      ]
     },
     "execution_count": 104,
     "metadata": {},
     "output_type": "execute_result"
    }
   ],
   "source": [
    "good_df_rooms = good_df.groupby('floor_type')['last_price'].agg(['median', 'min', 'max']).sort_values(by='median', ascending=False)\n",
    "good_df_rooms"
   ]
  },
  {
   "cell_type": "markdown",
   "metadata": {},
   "source": [
    "Сгруппировав данные по обозначению этажа, хотелось бы отметить, что в среднем **самые дешевые квартиры находятся на первых этажах**.   \n",
    "**Самая дорогая** недвижимость из наших данных расположена на **последнем этаже**."
   ]
  },
  {
   "cell_type": "code",
   "execution_count": 105,
   "metadata": {},
   "outputs": [
    {
     "data": {
      "text/html": [
       "<div>\n",
       "<style scoped>\n",
       "    .dataframe tbody tr th:only-of-type {\n",
       "        vertical-align: middle;\n",
       "    }\n",
       "\n",
       "    .dataframe tbody tr th {\n",
       "        vertical-align: top;\n",
       "    }\n",
       "\n",
       "    .dataframe thead th {\n",
       "        text-align: right;\n",
       "    }\n",
       "</style>\n",
       "<table border=\"1\" class=\"dataframe\">\n",
       "  <thead>\n",
       "    <tr style=\"text-align: right;\">\n",
       "      <th></th>\n",
       "      <th>count</th>\n",
       "      <th>max</th>\n",
       "      <th>median</th>\n",
       "    </tr>\n",
       "    <tr>\n",
       "      <th>exposition_weekday</th>\n",
       "      <th></th>\n",
       "      <th></th>\n",
       "      <th></th>\n",
       "    </tr>\n",
       "  </thead>\n",
       "  <tbody>\n",
       "    <tr>\n",
       "      <td>0</td>\n",
       "      <td>2950</td>\n",
       "      <td>300000000.0</td>\n",
       "      <td>4550000.0</td>\n",
       "    </tr>\n",
       "    <tr>\n",
       "      <td>1</td>\n",
       "      <td>3500</td>\n",
       "      <td>159000000.0</td>\n",
       "      <td>4662500.0</td>\n",
       "    </tr>\n",
       "    <tr>\n",
       "      <td>2</td>\n",
       "      <td>3310</td>\n",
       "      <td>420000000.0</td>\n",
       "      <td>4600000.0</td>\n",
       "    </tr>\n",
       "    <tr>\n",
       "      <td>3</td>\n",
       "      <td>3656</td>\n",
       "      <td>159984000.0</td>\n",
       "      <td>4600000.0</td>\n",
       "    </tr>\n",
       "    <tr>\n",
       "      <td>4</td>\n",
       "      <td>3420</td>\n",
       "      <td>190870000.0</td>\n",
       "      <td>4500000.0</td>\n",
       "    </tr>\n",
       "    <tr>\n",
       "      <td>5</td>\n",
       "      <td>1621</td>\n",
       "      <td>763000000.0</td>\n",
       "      <td>4500000.0</td>\n",
       "    </tr>\n",
       "    <tr>\n",
       "      <td>6</td>\n",
       "      <td>1425</td>\n",
       "      <td>130000000.0</td>\n",
       "      <td>4500000.0</td>\n",
       "    </tr>\n",
       "  </tbody>\n",
       "</table>\n",
       "</div>"
      ],
      "text/plain": [
       "                    count          max     median\n",
       "exposition_weekday                               \n",
       "0                    2950  300000000.0  4550000.0\n",
       "1                    3500  159000000.0  4662500.0\n",
       "2                    3310  420000000.0  4600000.0\n",
       "3                    3656  159984000.0  4600000.0\n",
       "4                    3420  190870000.0  4500000.0\n",
       "5                    1621  763000000.0  4500000.0\n",
       "6                    1425  130000000.0  4500000.0"
      ]
     },
     "execution_count": 105,
     "metadata": {},
     "output_type": "execute_result"
    }
   ],
   "source": [
    "good_df.pivot_table(index='exposition_weekday', values='last_price', aggfunc = {'count', 'median', 'max'})"
   ]
  },
  {
   "cell_type": "code",
   "execution_count": 106,
   "metadata": {},
   "outputs": [
    {
     "data": {
      "image/png": "[encoded data removed]",
      "text/plain": [
       "<Figure size 432x288 with 1 Axes>"
      ]
     },
     "metadata": {
      "needs_background": "light"
     },
     "output_type": "display_data"
    }
   ],
   "source": [
    "good_df['exposition_weekday'].hist(bins=7);\n",
    "plt.suptitle('Гистограмма')\n",
    "plt.xlabel('День публикации')\n",
    "plt.ylabel('Количество значений')\n",
    "plt.show()"
   ]
  },
  {
   "cell_type": "markdown",
   "metadata": {},
   "source": [
    "Анализируя день недели подачи объявления, можно заметить, что чаще всего объявлению **публикуются в будни**."
   ]
  },
  {
   "cell_type": "code",
   "execution_count": 107,
   "metadata": {},
   "outputs": [
    {
     "data": {
      "text/html": [
       "<div>\n",
       "<style scoped>\n",
       "    .dataframe tbody tr th:only-of-type {\n",
       "        vertical-align: middle;\n",
       "    }\n",
       "\n",
       "    .dataframe tbody tr th {\n",
       "        vertical-align: top;\n",
       "    }\n",
       "\n",
       "    .dataframe thead th {\n",
       "        text-align: right;\n",
       "    }\n",
       "</style>\n",
       "<table border=\"1\" class=\"dataframe\">\n",
       "  <thead>\n",
       "    <tr style=\"text-align: right;\">\n",
       "      <th></th>\n",
       "      <th>count</th>\n",
       "      <th>median</th>\n",
       "    </tr>\n",
       "    <tr>\n",
       "      <th>exposition_month</th>\n",
       "      <th></th>\n",
       "      <th></th>\n",
       "    </tr>\n",
       "  </thead>\n",
       "  <tbody>\n",
       "    <tr>\n",
       "      <td>1</td>\n",
       "      <td>1251</td>\n",
       "      <td>4575000.0</td>\n",
       "    </tr>\n",
       "    <tr>\n",
       "      <td>2</td>\n",
       "      <td>2222</td>\n",
       "      <td>4592500.0</td>\n",
       "    </tr>\n",
       "    <tr>\n",
       "      <td>3</td>\n",
       "      <td>1916</td>\n",
       "      <td>4500000.0</td>\n",
       "    </tr>\n",
       "    <tr>\n",
       "      <td>4</td>\n",
       "      <td>1477</td>\n",
       "      <td>4600000.0</td>\n",
       "    </tr>\n",
       "    <tr>\n",
       "      <td>5</td>\n",
       "      <td>1114</td>\n",
       "      <td>4550000.0</td>\n",
       "    </tr>\n",
       "    <tr>\n",
       "      <td>6</td>\n",
       "      <td>1642</td>\n",
       "      <td>4400000.0</td>\n",
       "    </tr>\n",
       "    <tr>\n",
       "      <td>7</td>\n",
       "      <td>1518</td>\n",
       "      <td>4600000.0</td>\n",
       "    </tr>\n",
       "    <tr>\n",
       "      <td>8</td>\n",
       "      <td>1554</td>\n",
       "      <td>4550000.0</td>\n",
       "    </tr>\n",
       "    <tr>\n",
       "      <td>9</td>\n",
       "      <td>1794</td>\n",
       "      <td>4700000.0</td>\n",
       "    </tr>\n",
       "    <tr>\n",
       "      <td>10</td>\n",
       "      <td>1865</td>\n",
       "      <td>4500000.0</td>\n",
       "    </tr>\n",
       "    <tr>\n",
       "      <td>11</td>\n",
       "      <td>2092</td>\n",
       "      <td>4650000.0</td>\n",
       "    </tr>\n",
       "    <tr>\n",
       "      <td>12</td>\n",
       "      <td>1437</td>\n",
       "      <td>4600000.0</td>\n",
       "    </tr>\n",
       "  </tbody>\n",
       "</table>\n",
       "</div>"
      ],
      "text/plain": [
       "                  count     median\n",
       "exposition_month                  \n",
       "1                  1251  4575000.0\n",
       "2                  2222  4592500.0\n",
       "3                  1916  4500000.0\n",
       "4                  1477  4600000.0\n",
       "5                  1114  4550000.0\n",
       "6                  1642  4400000.0\n",
       "7                  1518  4600000.0\n",
       "8                  1554  4550000.0\n",
       "9                  1794  4700000.0\n",
       "10                 1865  4500000.0\n",
       "11                 2092  4650000.0\n",
       "12                 1437  4600000.0"
      ]
     },
     "execution_count": 107,
     "metadata": {},
     "output_type": "execute_result"
    }
   ],
   "source": [
    "good_df.groupby('exposition_month')['last_price'].agg(['count', 'median'])"
   ]
  },
  {
   "cell_type": "code",
   "execution_count": 108,
   "metadata": {},
   "outputs": [
    {
     "data": {
      "image/png": "[encoded data removed]",
      "text/plain": [
       "<Figure size 432x288 with 1 Axes>"
      ]
     },
     "metadata": {
      "needs_background": "light"
     },
     "output_type": "display_data"
    }
   ],
   "source": [
    "good_df['exposition_month'].hist(bins=12);\n",
    "plt.suptitle('Гистограмма')\n",
    "plt.xlabel('Месяц публикации')\n",
    "plt.ylabel('Количество значений')\n",
    "plt.show()"
   ]
  },
  {
   "cell_type": "markdown",
   "metadata": {},
   "source": [
    "Чаще всего публикуют объявления о продаже квартиры в __феврале и ноябре__."
   ]
  },
  {
   "cell_type": "code",
   "execution_count": 109,
   "metadata": {},
   "outputs": [
    {
     "data": {
      "text/html": [
       "<div>\n",
       "<style scoped>\n",
       "    .dataframe tbody tr th:only-of-type {\n",
       "        vertical-align: middle;\n",
       "    }\n",
       "\n",
       "    .dataframe tbody tr th {\n",
       "        vertical-align: top;\n",
       "    }\n",
       "\n",
       "    .dataframe thead th {\n",
       "        text-align: right;\n",
       "    }\n",
       "</style>\n",
       "<table border=\"1\" class=\"dataframe\">\n",
       "  <thead>\n",
       "    <tr style=\"text-align: right;\">\n",
       "      <th></th>\n",
       "      <th>count</th>\n",
       "      <th>max</th>\n",
       "      <th>median</th>\n",
       "    </tr>\n",
       "    <tr>\n",
       "      <th>exposition_year</th>\n",
       "      <th></th>\n",
       "      <th></th>\n",
       "      <th></th>\n",
       "    </tr>\n",
       "  </thead>\n",
       "  <tbody>\n",
       "    <tr>\n",
       "      <td>2014</td>\n",
       "      <td>119</td>\n",
       "      <td>79339000.0</td>\n",
       "      <td>7265000.0</td>\n",
       "    </tr>\n",
       "    <tr>\n",
       "      <td>2015</td>\n",
       "      <td>1101</td>\n",
       "      <td>180000000.0</td>\n",
       "      <td>5239000.0</td>\n",
       "    </tr>\n",
       "    <tr>\n",
       "      <td>2016</td>\n",
       "      <td>2638</td>\n",
       "      <td>401300000.0</td>\n",
       "      <td>4550000.0</td>\n",
       "    </tr>\n",
       "    <tr>\n",
       "      <td>2017</td>\n",
       "      <td>7664</td>\n",
       "      <td>763000000.0</td>\n",
       "      <td>4500000.0</td>\n",
       "    </tr>\n",
       "    <tr>\n",
       "      <td>2018</td>\n",
       "      <td>7307</td>\n",
       "      <td>330000000.0</td>\n",
       "      <td>4500000.0</td>\n",
       "    </tr>\n",
       "    <tr>\n",
       "      <td>2019</td>\n",
       "      <td>1053</td>\n",
       "      <td>95000000.0</td>\n",
       "      <td>4800000.0</td>\n",
       "    </tr>\n",
       "  </tbody>\n",
       "</table>\n",
       "</div>"
      ],
      "text/plain": [
       "                 count          max     median\n",
       "exposition_year                               \n",
       "2014               119   79339000.0  7265000.0\n",
       "2015              1101  180000000.0  5239000.0\n",
       "2016              2638  401300000.0  4550000.0\n",
       "2017              7664  763000000.0  4500000.0\n",
       "2018              7307  330000000.0  4500000.0\n",
       "2019              1053   95000000.0  4800000.0"
      ]
     },
     "execution_count": 109,
     "metadata": {},
     "output_type": "execute_result"
    }
   ],
   "source": [
    "good_df.pivot_table(index='exposition_year', values='last_price', aggfunc = {'count', 'median', 'max'})"
   ]
  },
  {
   "cell_type": "code",
   "execution_count": 110,
   "metadata": {},
   "outputs": [
    {
     "data": {
      "image/png": "[encoded data removed]",
      "text/plain": [
       "<Figure size 432x288 with 1 Axes>"
      ]
     },
     "metadata": {
      "needs_background": "light"
     },
     "output_type": "display_data"
    }
   ],
   "source": [
    "good_df['exposition_year'].hist(bins=6);\n",
    "plt.suptitle('Гистограмма')\n",
    "plt.xlabel('Год публикации')\n",
    "plt.ylabel('Количество значений')\n",
    "plt.show()"
   ]
  },
  {
   "cell_type": "markdown",
   "metadata": {},
   "source": [
    "До **2017 года** наблюдался значительный рост подачи объявлений о продаже недвижимости, далее происходит уменьшение количества объявлений. "
   ]
  },
  {
   "cell_type": "markdown",
   "metadata": {},
   "source": [
    "## Анализ 10 населённых пунктов с наибольшим числом объявлений"
   ]
  },
  {
   "cell_type": "markdown",
   "metadata": {},
   "source": [
    "Выберием 10 населённых пунктов с наибольшим числом объявлений.  \n",
    "Посчитаем среднюю цену квадратного метра в этих населённых пунктах.  \n",
    "Выделим среди них населённые пункты с самой высокой и низкой стоимостью жилья.  "
   ]
  },
  {
   "cell_type": "code",
   "execution_count": 111,
   "metadata": {},
   "outputs": [],
   "source": [
    "# сгруппируем данные\n",
    "top_10_count_ads = (\n",
    "    good_df\n",
    "    .groupby('locality_name').agg({'square_meter':['count', 'mean'], 'last_price':['max', 'min']})\n",
    ")"
   ]
  },
  {
   "cell_type": "code",
   "execution_count": 112,
   "metadata": {},
   "outputs": [],
   "source": [
    "# переименуем столбцы\n",
    "top_10_count_ads.columns = ['count', 'mean', 'max_price', 'min_price']"
   ]
  },
  {
   "cell_type": "code",
   "execution_count": 113,
   "metadata": {},
   "outputs": [
    {
     "data": {
      "text/html": [
       "<div>\n",
       "<style scoped>\n",
       "    .dataframe tbody tr th:only-of-type {\n",
       "        vertical-align: middle;\n",
       "    }\n",
       "\n",
       "    .dataframe tbody tr th {\n",
       "        vertical-align: top;\n",
       "    }\n",
       "\n",
       "    .dataframe thead th {\n",
       "        text-align: right;\n",
       "    }\n",
       "</style>\n",
       "<table border=\"1\" class=\"dataframe\">\n",
       "  <thead>\n",
       "    <tr style=\"text-align: right;\">\n",
       "      <th></th>\n",
       "      <th>count</th>\n",
       "      <th>mean</th>\n",
       "      <th>max_price</th>\n",
       "      <th>min_price</th>\n",
       "    </tr>\n",
       "    <tr>\n",
       "      <th>locality_name</th>\n",
       "      <th></th>\n",
       "      <th></th>\n",
       "      <th></th>\n",
       "      <th></th>\n",
       "    </tr>\n",
       "  </thead>\n",
       "  <tbody>\n",
       "    <tr>\n",
       "      <td>Санкт-Петербург</td>\n",
       "      <td>13267</td>\n",
       "      <td>210064.069605</td>\n",
       "      <td>763000000.0</td>\n",
       "      <td>1200000.0</td>\n",
       "    </tr>\n",
       "    <tr>\n",
       "      <td>посёлок Мурино</td>\n",
       "      <td>476</td>\n",
       "      <td>172487.042311</td>\n",
       "      <td>8500000.0</td>\n",
       "      <td>1730000.0</td>\n",
       "    </tr>\n",
       "    <tr>\n",
       "      <td>посёлок Шушары</td>\n",
       "      <td>394</td>\n",
       "      <td>151713.534543</td>\n",
       "      <td>10700000.0</td>\n",
       "      <td>1780000.0</td>\n",
       "    </tr>\n",
       "    <tr>\n",
       "      <td>Всеволожск</td>\n",
       "      <td>330</td>\n",
       "      <td>133296.178879</td>\n",
       "      <td>24412900.0</td>\n",
       "      <td>1150000.0</td>\n",
       "    </tr>\n",
       "    <tr>\n",
       "      <td>Колпино</td>\n",
       "      <td>304</td>\n",
       "      <td>131736.185592</td>\n",
       "      <td>36900000.0</td>\n",
       "      <td>2100000.0</td>\n",
       "    </tr>\n",
       "    <tr>\n",
       "      <td>Пушкин</td>\n",
       "      <td>300</td>\n",
       "      <td>191269.998500</td>\n",
       "      <td>42000000.0</td>\n",
       "      <td>1990000.0</td>\n",
       "    </tr>\n",
       "    <tr>\n",
       "      <td>посёлок Парголово</td>\n",
       "      <td>287</td>\n",
       "      <td>194695.304983</td>\n",
       "      <td>9140000.0</td>\n",
       "      <td>1800000.0</td>\n",
       "    </tr>\n",
       "    <tr>\n",
       "      <td>деревня Кудрово</td>\n",
       "      <td>279</td>\n",
       "      <td>188138.795448</td>\n",
       "      <td>13000000.0</td>\n",
       "      <td>2100000.0</td>\n",
       "    </tr>\n",
       "    <tr>\n",
       "      <td>Гатчина</td>\n",
       "      <td>263</td>\n",
       "      <td>121347.379316</td>\n",
       "      <td>12700000.0</td>\n",
       "      <td>850000.0</td>\n",
       "    </tr>\n",
       "    <tr>\n",
       "      <td>Выборг</td>\n",
       "      <td>202</td>\n",
       "      <td>98148.138069</td>\n",
       "      <td>8350000.0</td>\n",
       "      <td>600000.0</td>\n",
       "    </tr>\n",
       "  </tbody>\n",
       "</table>\n",
       "</div>"
      ],
      "text/plain": [
       "                   count           mean    max_price  min_price\n",
       "locality_name                                                  \n",
       "Санкт-Петербург    13267  210064.069605  763000000.0  1200000.0\n",
       "посёлок Мурино       476  172487.042311    8500000.0  1730000.0\n",
       "посёлок Шушары       394  151713.534543   10700000.0  1780000.0\n",
       "Всеволожск           330  133296.178879   24412900.0  1150000.0\n",
       "Колпино              304  131736.185592   36900000.0  2100000.0\n",
       "Пушкин               300  191269.998500   42000000.0  1990000.0\n",
       "посёлок Парголово    287  194695.304983    9140000.0  1800000.0\n",
       "деревня Кудрово      279  188138.795448   13000000.0  2100000.0\n",
       "Гатчина              263  121347.379316   12700000.0   850000.0\n",
       "Выборг               202   98148.138069    8350000.0   600000.0"
      ]
     },
     "execution_count": 113,
     "metadata": {},
     "output_type": "execute_result"
    }
   ],
   "source": [
    "# отсортируем данные по убыванию count\n",
    "top_10_count_ads = top_10_count_ads.sort_values(by='count', ascending=False)\n",
    "top_10_count_ads.head(10)"
   ]
  },
  {
   "cell_type": "code",
   "execution_count": 114,
   "metadata": {},
   "outputs": [],
   "source": [
    "top_10_count_ads = top_10_count_ads.head(10)"
   ]
  },
  {
   "cell_type": "markdown",
   "metadata": {},
   "source": [
    "Самая высокая стоимость квадратного метра недвижимости, количество объявлений и самая высокая цена на квартиру в **Санкт-Петербурге**.  \n",
    "\n",
    "Меньше всего объявлений, самая низкая цена за м.кв. и объявление с самой дешевой квартирой в **Выборге**."
   ]
  },
  {
   "cell_type": "markdown",
   "metadata": {},
   "source": [
    "## Анализ квартир в Санкт-Петербурге"
   ]
  },
  {
   "cell_type": "markdown",
   "metadata": {},
   "source": [
    "Создадим новый DataFrame, только для Санкт-Петербурга:"
   ]
  },
  {
   "cell_type": "code",
   "execution_count": 115,
   "metadata": {},
   "outputs": [],
   "source": [
    "sp_ads = good_df.query('locality_name == \"Санкт-Петербург\"').reset_index()"
   ]
  },
  {
   "cell_type": "markdown",
   "metadata": {},
   "source": [
    "Создадим столбец `['cityCenters_km']` с расстоянием до центра в километрах и округлим до целых значений:"
   ]
  },
  {
   "cell_type": "code",
   "execution_count": 116,
   "metadata": {},
   "outputs": [
    {
     "data": {
      "text/html": [
       "<div>\n",
       "<style scoped>\n",
       "    .dataframe tbody tr th:only-of-type {\n",
       "        vertical-align: middle;\n",
       "    }\n",
       "\n",
       "    .dataframe tbody tr th {\n",
       "        vertical-align: top;\n",
       "    }\n",
       "\n",
       "    .dataframe thead th {\n",
       "        text-align: right;\n",
       "    }\n",
       "</style>\n",
       "<table border=\"1\" class=\"dataframe\">\n",
       "  <thead>\n",
       "    <tr style=\"text-align: right;\">\n",
       "      <th></th>\n",
       "      <th>index</th>\n",
       "      <th>total_images</th>\n",
       "      <th>last_price</th>\n",
       "      <th>total_area</th>\n",
       "      <th>first_day_exposition</th>\n",
       "      <th>rooms</th>\n",
       "      <th>ceiling_height</th>\n",
       "      <th>floors_total</th>\n",
       "      <th>living_area</th>\n",
       "      <th>floor</th>\n",
       "      <th>...</th>\n",
       "      <th>ratio_living</th>\n",
       "      <th>total_interval</th>\n",
       "      <th>square_meter</th>\n",
       "      <th>exposition_weekday</th>\n",
       "      <th>exposition_month</th>\n",
       "      <th>exposition_year</th>\n",
       "      <th>floor_type</th>\n",
       "      <th>ratio_living_area</th>\n",
       "      <th>ratio_kitchen_area</th>\n",
       "      <th>cityCenters_km</th>\n",
       "    </tr>\n",
       "  </thead>\n",
       "  <tbody>\n",
       "    <tr>\n",
       "      <td>0</td>\n",
       "      <td>2</td>\n",
       "      <td>10</td>\n",
       "      <td>5196000.0</td>\n",
       "      <td>56.0</td>\n",
       "      <td>2015-08-20</td>\n",
       "      <td>2</td>\n",
       "      <td>2.65</td>\n",
       "      <td>5</td>\n",
       "      <td>34.30</td>\n",
       "      <td>4</td>\n",
       "      <td>...</td>\n",
       "      <td>0.612500</td>\n",
       "      <td>(52.0, 60.0]</td>\n",
       "      <td>151486.88</td>\n",
       "      <td>3</td>\n",
       "      <td>8</td>\n",
       "      <td>2015</td>\n",
       "      <td>другой</td>\n",
       "      <td>0.612500</td>\n",
       "      <td>0.148214</td>\n",
       "      <td>13</td>\n",
       "    </tr>\n",
       "    <tr>\n",
       "      <td>1</td>\n",
       "      <td>3</td>\n",
       "      <td>0</td>\n",
       "      <td>64900000.0</td>\n",
       "      <td>159.0</td>\n",
       "      <td>2015-07-24</td>\n",
       "      <td>3</td>\n",
       "      <td>2.65</td>\n",
       "      <td>14</td>\n",
       "      <td>82.59</td>\n",
       "      <td>9</td>\n",
       "      <td>...</td>\n",
       "      <td>0.000000</td>\n",
       "      <td>(87.0, 900.0]</td>\n",
       "      <td>785809.42</td>\n",
       "      <td>4</td>\n",
       "      <td>7</td>\n",
       "      <td>2015</td>\n",
       "      <td>другой</td>\n",
       "      <td>0.519434</td>\n",
       "      <td>0.116730</td>\n",
       "      <td>6</td>\n",
       "    </tr>\n",
       "    <tr>\n",
       "      <td>2</td>\n",
       "      <td>4</td>\n",
       "      <td>2</td>\n",
       "      <td>10000000.0</td>\n",
       "      <td>100.0</td>\n",
       "      <td>2018-06-19</td>\n",
       "      <td>2</td>\n",
       "      <td>3.03</td>\n",
       "      <td>14</td>\n",
       "      <td>32.00</td>\n",
       "      <td>13</td>\n",
       "      <td>...</td>\n",
       "      <td>0.320000</td>\n",
       "      <td>(87.0, 900.0]</td>\n",
       "      <td>312500.00</td>\n",
       "      <td>1</td>\n",
       "      <td>6</td>\n",
       "      <td>2018</td>\n",
       "      <td>другой</td>\n",
       "      <td>0.320000</td>\n",
       "      <td>0.410000</td>\n",
       "      <td>8</td>\n",
       "    </tr>\n",
       "    <tr>\n",
       "      <td>3</td>\n",
       "      <td>9</td>\n",
       "      <td>18</td>\n",
       "      <td>5400000.0</td>\n",
       "      <td>61.0</td>\n",
       "      <td>2017-02-26</td>\n",
       "      <td>3</td>\n",
       "      <td>2.50</td>\n",
       "      <td>9</td>\n",
       "      <td>43.60</td>\n",
       "      <td>7</td>\n",
       "      <td>...</td>\n",
       "      <td>0.714754</td>\n",
       "      <td>(60.0, 69.9]</td>\n",
       "      <td>123853.21</td>\n",
       "      <td>6</td>\n",
       "      <td>2</td>\n",
       "      <td>2017</td>\n",
       "      <td>другой</td>\n",
       "      <td>0.714754</td>\n",
       "      <td>0.106557</td>\n",
       "      <td>15</td>\n",
       "    </tr>\n",
       "    <tr>\n",
       "      <td>4</td>\n",
       "      <td>10</td>\n",
       "      <td>5</td>\n",
       "      <td>5050000.0</td>\n",
       "      <td>39.6</td>\n",
       "      <td>2017-11-16</td>\n",
       "      <td>1</td>\n",
       "      <td>2.67</td>\n",
       "      <td>12</td>\n",
       "      <td>20.30</td>\n",
       "      <td>3</td>\n",
       "      <td>...</td>\n",
       "      <td>0.512626</td>\n",
       "      <td>(34.0, 40.0]</td>\n",
       "      <td>248768.47</td>\n",
       "      <td>3</td>\n",
       "      <td>11</td>\n",
       "      <td>2017</td>\n",
       "      <td>другой</td>\n",
       "      <td>0.512626</td>\n",
       "      <td>0.214646</td>\n",
       "      <td>13</td>\n",
       "    </tr>\n",
       "  </tbody>\n",
       "</table>\n",
       "<p>5 rows × 33 columns</p>\n",
       "</div>"
      ],
      "text/plain": [
       "   index  total_images  last_price  total_area first_day_exposition  rooms  \\\n",
       "0      2            10   5196000.0        56.0           2015-08-20      2   \n",
       "1      3             0  64900000.0       159.0           2015-07-24      3   \n",
       "2      4             2  10000000.0       100.0           2018-06-19      2   \n",
       "3      9            18   5400000.0        61.0           2017-02-26      3   \n",
       "4     10             5   5050000.0        39.6           2017-11-16      1   \n",
       "\n",
       "   ceiling_height  floors_total  living_area  floor  ...  ratio_living  \\\n",
       "0            2.65             5        34.30      4  ...      0.612500   \n",
       "1            2.65            14        82.59      9  ...      0.000000   \n",
       "2            3.03            14        32.00     13  ...      0.320000   \n",
       "3            2.50             9        43.60      7  ...      0.714754   \n",
       "4            2.67            12        20.30      3  ...      0.512626   \n",
       "\n",
       "   total_interval  square_meter  exposition_weekday  exposition_month  \\\n",
       "0    (52.0, 60.0]     151486.88                   3                 8   \n",
       "1   (87.0, 900.0]     785809.42                   4                 7   \n",
       "2   (87.0, 900.0]     312500.00                   1                 6   \n",
       "3    (60.0, 69.9]     123853.21                   6                 2   \n",
       "4    (34.0, 40.0]     248768.47                   3                11   \n",
       "\n",
       "  exposition_year  floor_type  ratio_living_area  ratio_kitchen_area  \\\n",
       "0            2015      другой           0.612500            0.148214   \n",
       "1            2015      другой           0.519434            0.116730   \n",
       "2            2018      другой           0.320000            0.410000   \n",
       "3            2017      другой           0.714754            0.106557   \n",
       "4            2017      другой           0.512626            0.214646   \n",
       "\n",
       "   cityCenters_km  \n",
       "0              13  \n",
       "1               6  \n",
       "2               8  \n",
       "3              15  \n",
       "4              13  \n",
       "\n",
       "[5 rows x 33 columns]"
      ]
     },
     "execution_count": 116,
     "metadata": {},
     "output_type": "execute_result"
    }
   ],
   "source": [
    "sp_ads['cityCenters_km'] = (sp_ads['cityCenters_nearest'] / 1000).astype('int')\n",
    "sp_ads.head()"
   ]
  },
  {
   "cell_type": "markdown",
   "metadata": {},
   "source": [
    "Сгруппируем данные и посчитаем среднюю цену для каждого километра:"
   ]
  },
  {
   "cell_type": "code",
   "execution_count": 117,
   "metadata": {},
   "outputs": [
    {
     "data": {
      "text/html": [
       "<div>\n",
       "<style scoped>\n",
       "    .dataframe tbody tr th:only-of-type {\n",
       "        vertical-align: middle;\n",
       "    }\n",
       "\n",
       "    .dataframe tbody tr th {\n",
       "        vertical-align: top;\n",
       "    }\n",
       "\n",
       "    .dataframe thead th {\n",
       "        text-align: right;\n",
       "    }\n",
       "</style>\n",
       "<table border=\"1\" class=\"dataframe\">\n",
       "  <thead>\n",
       "    <tr style=\"text-align: right;\">\n",
       "      <th></th>\n",
       "      <th>last_price</th>\n",
       "    </tr>\n",
       "    <tr>\n",
       "      <th>cityCenters_km</th>\n",
       "      <th></th>\n",
       "    </tr>\n",
       "  </thead>\n",
       "  <tbody>\n",
       "    <tr>\n",
       "      <td>0</td>\n",
       "      <td>22531024.0</td>\n",
       "    </tr>\n",
       "    <tr>\n",
       "      <td>1</td>\n",
       "      <td>17223391.0</td>\n",
       "    </tr>\n",
       "    <tr>\n",
       "      <td>2</td>\n",
       "      <td>15958000.0</td>\n",
       "    </tr>\n",
       "    <tr>\n",
       "      <td>3</td>\n",
       "      <td>13638451.0</td>\n",
       "    </tr>\n",
       "    <tr>\n",
       "      <td>4</td>\n",
       "      <td>12903666.0</td>\n",
       "    </tr>\n",
       "    <tr>\n",
       "      <td>5</td>\n",
       "      <td>15296332.0</td>\n",
       "    </tr>\n",
       "    <tr>\n",
       "      <td>6</td>\n",
       "      <td>12911322.0</td>\n",
       "    </tr>\n",
       "    <tr>\n",
       "      <td>7</td>\n",
       "      <td>13139237.0</td>\n",
       "    </tr>\n",
       "    <tr>\n",
       "      <td>8</td>\n",
       "      <td>7934552.0</td>\n",
       "    </tr>\n",
       "    <tr>\n",
       "      <td>9</td>\n",
       "      <td>6214011.0</td>\n",
       "    </tr>\n",
       "    <tr>\n",
       "      <td>10</td>\n",
       "      <td>6211273.0</td>\n",
       "    </tr>\n",
       "    <tr>\n",
       "      <td>11</td>\n",
       "      <td>5957828.0</td>\n",
       "    </tr>\n",
       "    <tr>\n",
       "      <td>12</td>\n",
       "      <td>5806283.0</td>\n",
       "    </tr>\n",
       "    <tr>\n",
       "      <td>13</td>\n",
       "      <td>5923415.0</td>\n",
       "    </tr>\n",
       "    <tr>\n",
       "      <td>14</td>\n",
       "      <td>5509014.0</td>\n",
       "    </tr>\n",
       "    <tr>\n",
       "      <td>15</td>\n",
       "      <td>5351296.0</td>\n",
       "    </tr>\n",
       "    <tr>\n",
       "      <td>16</td>\n",
       "      <td>5365329.0</td>\n",
       "    </tr>\n",
       "    <tr>\n",
       "      <td>17</td>\n",
       "      <td>4863729.0</td>\n",
       "    </tr>\n",
       "    <tr>\n",
       "      <td>18</td>\n",
       "      <td>5356110.0</td>\n",
       "    </tr>\n",
       "    <tr>\n",
       "      <td>19</td>\n",
       "      <td>4565464.0</td>\n",
       "    </tr>\n",
       "    <tr>\n",
       "      <td>20</td>\n",
       "      <td>5937609.0</td>\n",
       "    </tr>\n",
       "    <tr>\n",
       "      <td>21</td>\n",
       "      <td>5033722.0</td>\n",
       "    </tr>\n",
       "    <tr>\n",
       "      <td>22</td>\n",
       "      <td>5018575.0</td>\n",
       "    </tr>\n",
       "    <tr>\n",
       "      <td>23</td>\n",
       "      <td>4173667.0</td>\n",
       "    </tr>\n",
       "    <tr>\n",
       "      <td>24</td>\n",
       "      <td>3862235.0</td>\n",
       "    </tr>\n",
       "    <tr>\n",
       "      <td>25</td>\n",
       "      <td>4146697.0</td>\n",
       "    </tr>\n",
       "    <tr>\n",
       "      <td>26</td>\n",
       "      <td>3575000.0</td>\n",
       "    </tr>\n",
       "    <tr>\n",
       "      <td>27</td>\n",
       "      <td>8300000.0</td>\n",
       "    </tr>\n",
       "    <tr>\n",
       "      <td>28</td>\n",
       "      <td>4910500.0</td>\n",
       "    </tr>\n",
       "    <tr>\n",
       "      <td>29</td>\n",
       "      <td>3325000.0</td>\n",
       "    </tr>\n",
       "  </tbody>\n",
       "</table>\n",
       "</div>"
      ],
      "text/plain": [
       "                last_price\n",
       "cityCenters_km            \n",
       "0               22531024.0\n",
       "1               17223391.0\n",
       "2               15958000.0\n",
       "3               13638451.0\n",
       "4               12903666.0\n",
       "5               15296332.0\n",
       "6               12911322.0\n",
       "7               13139237.0\n",
       "8                7934552.0\n",
       "9                6214011.0\n",
       "10               6211273.0\n",
       "11               5957828.0\n",
       "12               5806283.0\n",
       "13               5923415.0\n",
       "14               5509014.0\n",
       "15               5351296.0\n",
       "16               5365329.0\n",
       "17               4863729.0\n",
       "18               5356110.0\n",
       "19               4565464.0\n",
       "20               5937609.0\n",
       "21               5033722.0\n",
       "22               5018575.0\n",
       "23               4173667.0\n",
       "24               3862235.0\n",
       "25               4146697.0\n",
       "26               3575000.0\n",
       "27               8300000.0\n",
       "28               4910500.0\n",
       "29               3325000.0"
      ]
     },
     "execution_count": 117,
     "metadata": {},
     "output_type": "execute_result"
    }
   ],
   "source": [
    "centr_km = sp_ads.pivot_table(index='cityCenters_km', values='last_price', aggfunc=('mean')).round(0)\n",
    "centr_km"
   ]
  },
  {
   "cell_type": "markdown",
   "metadata": {},
   "source": [
    "Построим график зависимости цены от удалённости от центра Санкт-Петербурга:"
   ]
  },
  {
   "cell_type": "code",
   "execution_count": 118,
   "metadata": {},
   "outputs": [
    {
     "data": {
      "image/png": "[encoded data removed]",
      "text/plain": [
       "<Figure size 432x288 with 1 Axes>"
      ]
     },
     "metadata": {
      "needs_background": "light"
     },
     "output_type": "display_data"
    }
   ],
   "source": [
    "centr_km.plot(grid=True, legend=True);\n",
    "plt.suptitle('График')\n",
    "plt.xlabel('Расстояние до центра')\n",
    "plt.ylabel('Цена')\n",
    "plt.show()"
   ]
  },
  {
   "cell_type": "markdown",
   "metadata": {},
   "source": [
    "Анализируя график можно заметить, что на отметке в 4 км наблюдаем его сильное изменение. Таким образом 4-ых километровая зона и входит в центр Санкт-Петербурга."
   ]
  },
  {
   "cell_type": "markdown",
   "metadata": {},
   "source": [
    "## Анализ центра Санкт-Петербурга"
   ]
  },
  {
   "cell_type": "markdown",
   "metadata": {},
   "source": [
    "Сделаем срез данных по таблице и выведем значения входящие в центральную зону Санкт-Петербурга:"
   ]
  },
  {
   "cell_type": "code",
   "execution_count": 119,
   "metadata": {},
   "outputs": [
    {
     "data": {
      "text/html": [
       "<div>\n",
       "<style scoped>\n",
       "    .dataframe tbody tr th:only-of-type {\n",
       "        vertical-align: middle;\n",
       "    }\n",
       "\n",
       "    .dataframe tbody tr th {\n",
       "        vertical-align: top;\n",
       "    }\n",
       "\n",
       "    .dataframe thead th {\n",
       "        text-align: right;\n",
       "    }\n",
       "</style>\n",
       "<table border=\"1\" class=\"dataframe\">\n",
       "  <thead>\n",
       "    <tr style=\"text-align: right;\">\n",
       "      <th></th>\n",
       "      <th>index</th>\n",
       "      <th>total_images</th>\n",
       "      <th>last_price</th>\n",
       "      <th>total_area</th>\n",
       "      <th>first_day_exposition</th>\n",
       "      <th>rooms</th>\n",
       "      <th>ceiling_height</th>\n",
       "      <th>floors_total</th>\n",
       "      <th>living_area</th>\n",
       "      <th>floor</th>\n",
       "      <th>...</th>\n",
       "      <th>ratio_living</th>\n",
       "      <th>total_interval</th>\n",
       "      <th>square_meter</th>\n",
       "      <th>exposition_weekday</th>\n",
       "      <th>exposition_month</th>\n",
       "      <th>exposition_year</th>\n",
       "      <th>floor_type</th>\n",
       "      <th>ratio_living_area</th>\n",
       "      <th>ratio_kitchen_area</th>\n",
       "      <th>cityCenters_km</th>\n",
       "    </tr>\n",
       "  </thead>\n",
       "  <tbody>\n",
       "    <tr>\n",
       "      <td>12</td>\n",
       "      <td>24</td>\n",
       "      <td>8</td>\n",
       "      <td>6500000.0</td>\n",
       "      <td>97.2</td>\n",
       "      <td>2015-10-31</td>\n",
       "      <td>2</td>\n",
       "      <td>2.65</td>\n",
       "      <td>3</td>\n",
       "      <td>46.5</td>\n",
       "      <td>1</td>\n",
       "      <td>...</td>\n",
       "      <td>0.478395</td>\n",
       "      <td>(87.0, 900.0]</td>\n",
       "      <td>139784.95</td>\n",
       "      <td>5</td>\n",
       "      <td>10</td>\n",
       "      <td>2015</td>\n",
       "      <td>первый</td>\n",
       "      <td>0.478395</td>\n",
       "      <td>0.201646</td>\n",
       "      <td>2</td>\n",
       "    </tr>\n",
       "    <tr>\n",
       "      <td>20</td>\n",
       "      <td>35</td>\n",
       "      <td>6</td>\n",
       "      <td>15500000.0</td>\n",
       "      <td>149.0</td>\n",
       "      <td>2017-06-26</td>\n",
       "      <td>5</td>\n",
       "      <td>2.65</td>\n",
       "      <td>5</td>\n",
       "      <td>104.0</td>\n",
       "      <td>4</td>\n",
       "      <td>...</td>\n",
       "      <td>0.697987</td>\n",
       "      <td>(87.0, 900.0]</td>\n",
       "      <td>149038.46</td>\n",
       "      <td>0</td>\n",
       "      <td>6</td>\n",
       "      <td>2017</td>\n",
       "      <td>другой</td>\n",
       "      <td>0.697987</td>\n",
       "      <td>0.114094</td>\n",
       "      <td>3</td>\n",
       "    </tr>\n",
       "    <tr>\n",
       "      <td>32</td>\n",
       "      <td>61</td>\n",
       "      <td>18</td>\n",
       "      <td>7990000.0</td>\n",
       "      <td>74.0</td>\n",
       "      <td>2017-08-24</td>\n",
       "      <td>2</td>\n",
       "      <td>2.65</td>\n",
       "      <td>4</td>\n",
       "      <td>43.0</td>\n",
       "      <td>4</td>\n",
       "      <td>...</td>\n",
       "      <td>0.581081</td>\n",
       "      <td>(69.9, 87.0]</td>\n",
       "      <td>185813.95</td>\n",
       "      <td>3</td>\n",
       "      <td>8</td>\n",
       "      <td>2017</td>\n",
       "      <td>последний</td>\n",
       "      <td>0.581081</td>\n",
       "      <td>0.270270</td>\n",
       "      <td>4</td>\n",
       "    </tr>\n",
       "    <tr>\n",
       "      <td>33</td>\n",
       "      <td>63</td>\n",
       "      <td>2</td>\n",
       "      <td>20000000.0</td>\n",
       "      <td>118.0</td>\n",
       "      <td>2018-09-11</td>\n",
       "      <td>3</td>\n",
       "      <td>3.00</td>\n",
       "      <td>9</td>\n",
       "      <td>68.0</td>\n",
       "      <td>7</td>\n",
       "      <td>...</td>\n",
       "      <td>0.576271</td>\n",
       "      <td>(87.0, 900.0]</td>\n",
       "      <td>294117.65</td>\n",
       "      <td>1</td>\n",
       "      <td>9</td>\n",
       "      <td>2018</td>\n",
       "      <td>другой</td>\n",
       "      <td>0.576271</td>\n",
       "      <td>0.135593</td>\n",
       "      <td>4</td>\n",
       "    </tr>\n",
       "    <tr>\n",
       "      <td>46</td>\n",
       "      <td>99</td>\n",
       "      <td>32</td>\n",
       "      <td>9600000.0</td>\n",
       "      <td>90.0</td>\n",
       "      <td>2017-09-26</td>\n",
       "      <td>4</td>\n",
       "      <td>2.65</td>\n",
       "      <td>5</td>\n",
       "      <td>67.0</td>\n",
       "      <td>2</td>\n",
       "      <td>...</td>\n",
       "      <td>0.744444</td>\n",
       "      <td>(87.0, 900.0]</td>\n",
       "      <td>143283.58</td>\n",
       "      <td>1</td>\n",
       "      <td>9</td>\n",
       "      <td>2017</td>\n",
       "      <td>другой</td>\n",
       "      <td>0.744444</td>\n",
       "      <td>0.088889</td>\n",
       "      <td>2</td>\n",
       "    </tr>\n",
       "    <tr>\n",
       "      <td>...</td>\n",
       "      <td>...</td>\n",
       "      <td>...</td>\n",
       "      <td>...</td>\n",
       "      <td>...</td>\n",
       "      <td>...</td>\n",
       "      <td>...</td>\n",
       "      <td>...</td>\n",
       "      <td>...</td>\n",
       "      <td>...</td>\n",
       "      <td>...</td>\n",
       "      <td>...</td>\n",
       "      <td>...</td>\n",
       "      <td>...</td>\n",
       "      <td>...</td>\n",
       "      <td>...</td>\n",
       "      <td>...</td>\n",
       "      <td>...</td>\n",
       "      <td>...</td>\n",
       "      <td>...</td>\n",
       "      <td>...</td>\n",
       "      <td>...</td>\n",
       "    </tr>\n",
       "    <tr>\n",
       "      <td>13224</td>\n",
       "      <td>23609</td>\n",
       "      <td>7</td>\n",
       "      <td>7280000.0</td>\n",
       "      <td>64.3</td>\n",
       "      <td>2018-07-20</td>\n",
       "      <td>2</td>\n",
       "      <td>2.65</td>\n",
       "      <td>10</td>\n",
       "      <td>34.6</td>\n",
       "      <td>10</td>\n",
       "      <td>...</td>\n",
       "      <td>0.538103</td>\n",
       "      <td>(60.0, 69.9]</td>\n",
       "      <td>210404.62</td>\n",
       "      <td>4</td>\n",
       "      <td>7</td>\n",
       "      <td>2018</td>\n",
       "      <td>последний</td>\n",
       "      <td>0.538103</td>\n",
       "      <td>0.177294</td>\n",
       "      <td>4</td>\n",
       "    </tr>\n",
       "    <tr>\n",
       "      <td>13242</td>\n",
       "      <td>23644</td>\n",
       "      <td>7</td>\n",
       "      <td>4990000.0</td>\n",
       "      <td>62.5</td>\n",
       "      <td>2018-04-26</td>\n",
       "      <td>2</td>\n",
       "      <td>2.70</td>\n",
       "      <td>4</td>\n",
       "      <td>32.3</td>\n",
       "      <td>4</td>\n",
       "      <td>...</td>\n",
       "      <td>0.516800</td>\n",
       "      <td>(60.0, 69.9]</td>\n",
       "      <td>154489.16</td>\n",
       "      <td>3</td>\n",
       "      <td>4</td>\n",
       "      <td>2018</td>\n",
       "      <td>последний</td>\n",
       "      <td>0.516800</td>\n",
       "      <td>0.193600</td>\n",
       "      <td>4</td>\n",
       "    </tr>\n",
       "    <tr>\n",
       "      <td>13244</td>\n",
       "      <td>23648</td>\n",
       "      <td>14</td>\n",
       "      <td>10100000.0</td>\n",
       "      <td>78.0</td>\n",
       "      <td>2017-05-12</td>\n",
       "      <td>3</td>\n",
       "      <td>3.27</td>\n",
       "      <td>5</td>\n",
       "      <td>48.6</td>\n",
       "      <td>5</td>\n",
       "      <td>...</td>\n",
       "      <td>0.623077</td>\n",
       "      <td>(69.9, 87.0]</td>\n",
       "      <td>207818.93</td>\n",
       "      <td>4</td>\n",
       "      <td>5</td>\n",
       "      <td>2017</td>\n",
       "      <td>последний</td>\n",
       "      <td>0.623077</td>\n",
       "      <td>0.105128</td>\n",
       "      <td>1</td>\n",
       "    </tr>\n",
       "    <tr>\n",
       "      <td>13252</td>\n",
       "      <td>23665</td>\n",
       "      <td>11</td>\n",
       "      <td>4250000.0</td>\n",
       "      <td>47.0</td>\n",
       "      <td>2016-05-20</td>\n",
       "      <td>1</td>\n",
       "      <td>2.65</td>\n",
       "      <td>6</td>\n",
       "      <td>18.2</td>\n",
       "      <td>1</td>\n",
       "      <td>...</td>\n",
       "      <td>0.387234</td>\n",
       "      <td>(45.0, 52.0]</td>\n",
       "      <td>233516.48</td>\n",
       "      <td>4</td>\n",
       "      <td>5</td>\n",
       "      <td>2016</td>\n",
       "      <td>первый</td>\n",
       "      <td>0.387234</td>\n",
       "      <td>0.310638</td>\n",
       "      <td>4</td>\n",
       "    </tr>\n",
       "    <tr>\n",
       "      <td>13265</td>\n",
       "      <td>23691</td>\n",
       "      <td>11</td>\n",
       "      <td>9470000.0</td>\n",
       "      <td>72.9</td>\n",
       "      <td>2016-10-13</td>\n",
       "      <td>2</td>\n",
       "      <td>2.75</td>\n",
       "      <td>25</td>\n",
       "      <td>40.3</td>\n",
       "      <td>7</td>\n",
       "      <td>...</td>\n",
       "      <td>0.552812</td>\n",
       "      <td>(69.9, 87.0]</td>\n",
       "      <td>234987.59</td>\n",
       "      <td>3</td>\n",
       "      <td>10</td>\n",
       "      <td>2016</td>\n",
       "      <td>другой</td>\n",
       "      <td>0.552812</td>\n",
       "      <td>0.145405</td>\n",
       "      <td>4</td>\n",
       "    </tr>\n",
       "  </tbody>\n",
       "</table>\n",
       "<p>1673 rows × 33 columns</p>\n",
       "</div>"
      ],
      "text/plain": [
       "       index  total_images  last_price  total_area first_day_exposition  \\\n",
       "12        24             8   6500000.0        97.2           2015-10-31   \n",
       "20        35             6  15500000.0       149.0           2017-06-26   \n",
       "32        61            18   7990000.0        74.0           2017-08-24   \n",
       "33        63             2  20000000.0       118.0           2018-09-11   \n",
       "46        99            32   9600000.0        90.0           2017-09-26   \n",
       "...      ...           ...         ...         ...                  ...   \n",
       "13224  23609             7   7280000.0        64.3           2018-07-20   \n",
       "13242  23644             7   4990000.0        62.5           2018-04-26   \n",
       "13244  23648            14  10100000.0        78.0           2017-05-12   \n",
       "13252  23665            11   4250000.0        47.0           2016-05-20   \n",
       "13265  23691            11   9470000.0        72.9           2016-10-13   \n",
       "\n",
       "       rooms  ceiling_height  floors_total  living_area  floor  ...  \\\n",
       "12         2            2.65             3         46.5      1  ...   \n",
       "20         5            2.65             5        104.0      4  ...   \n",
       "32         2            2.65             4         43.0      4  ...   \n",
       "33         3            3.00             9         68.0      7  ...   \n",
       "46         4            2.65             5         67.0      2  ...   \n",
       "...      ...             ...           ...          ...    ...  ...   \n",
       "13224      2            2.65            10         34.6     10  ...   \n",
       "13242      2            2.70             4         32.3      4  ...   \n",
       "13244      3            3.27             5         48.6      5  ...   \n",
       "13252      1            2.65             6         18.2      1  ...   \n",
       "13265      2            2.75            25         40.3      7  ...   \n",
       "\n",
       "       ratio_living  total_interval  square_meter  exposition_weekday  \\\n",
       "12         0.478395   (87.0, 900.0]     139784.95                   5   \n",
       "20         0.697987   (87.0, 900.0]     149038.46                   0   \n",
       "32         0.581081    (69.9, 87.0]     185813.95                   3   \n",
       "33         0.576271   (87.0, 900.0]     294117.65                   1   \n",
       "46         0.744444   (87.0, 900.0]     143283.58                   1   \n",
       "...             ...             ...           ...                 ...   \n",
       "13224      0.538103    (60.0, 69.9]     210404.62                   4   \n",
       "13242      0.516800    (60.0, 69.9]     154489.16                   3   \n",
       "13244      0.623077    (69.9, 87.0]     207818.93                   4   \n",
       "13252      0.387234    (45.0, 52.0]     233516.48                   4   \n",
       "13265      0.552812    (69.9, 87.0]     234987.59                   3   \n",
       "\n",
       "       exposition_month exposition_year  floor_type  ratio_living_area  \\\n",
       "12                   10            2015      первый           0.478395   \n",
       "20                    6            2017      другой           0.697987   \n",
       "32                    8            2017   последний           0.581081   \n",
       "33                    9            2018      другой           0.576271   \n",
       "46                    9            2017      другой           0.744444   \n",
       "...                 ...             ...         ...                ...   \n",
       "13224                 7            2018   последний           0.538103   \n",
       "13242                 4            2018   последний           0.516800   \n",
       "13244                 5            2017   последний           0.623077   \n",
       "13252                 5            2016      первый           0.387234   \n",
       "13265                10            2016      другой           0.552812   \n",
       "\n",
       "       ratio_kitchen_area  cityCenters_km  \n",
       "12               0.201646               2  \n",
       "20               0.114094               3  \n",
       "32               0.270270               4  \n",
       "33               0.135593               4  \n",
       "46               0.088889               2  \n",
       "...                   ...             ...  \n",
       "13224            0.177294               4  \n",
       "13242            0.193600               4  \n",
       "13244            0.105128               1  \n",
       "13252            0.310638               4  \n",
       "13265            0.145405               4  \n",
       "\n",
       "[1673 rows x 33 columns]"
      ]
     },
     "execution_count": 119,
     "metadata": {},
     "output_type": "execute_result"
    }
   ],
   "source": [
    "sp_ads_center = sp_ads.query('cityCenters_km <= 4').copy()\n",
    "sp_ads_center"
   ]
  },
  {
   "cell_type": "markdown",
   "metadata": {},
   "source": [
    "Добавим в таблицу по Санкт-Петербургу столбец со значением принадлежности к центру города (центр/вне центра)."
   ]
  },
  {
   "cell_type": "code",
   "execution_count": 120,
   "metadata": {},
   "outputs": [],
   "source": [
    "sp_ads['center_around_4km'] = (\n",
    "    sp_ads['cityCenters_km']\n",
    "    .where(sp_ads['cityCenters_km'] > 4, 'Центр')\n",
    "    .where(sp_ads['cityCenters_km'] <= 4, 'Вне центра')\n",
    ")"
   ]
  },
  {
   "cell_type": "code",
   "execution_count": 121,
   "metadata": {},
   "outputs": [
    {
     "data": {
      "text/html": [
       "<div>\n",
       "<style scoped>\n",
       "    .dataframe tbody tr th:only-of-type {\n",
       "        vertical-align: middle;\n",
       "    }\n",
       "\n",
       "    .dataframe tbody tr th {\n",
       "        vertical-align: top;\n",
       "    }\n",
       "\n",
       "    .dataframe thead th {\n",
       "        text-align: right;\n",
       "    }\n",
       "</style>\n",
       "<table border=\"1\" class=\"dataframe\">\n",
       "  <thead>\n",
       "    <tr style=\"text-align: right;\">\n",
       "      <th></th>\n",
       "      <th>index</th>\n",
       "      <th>total_images</th>\n",
       "      <th>last_price</th>\n",
       "      <th>total_area</th>\n",
       "      <th>first_day_exposition</th>\n",
       "      <th>rooms</th>\n",
       "      <th>ceiling_height</th>\n",
       "      <th>floors_total</th>\n",
       "      <th>living_area</th>\n",
       "      <th>floor</th>\n",
       "      <th>...</th>\n",
       "      <th>total_interval</th>\n",
       "      <th>square_meter</th>\n",
       "      <th>exposition_weekday</th>\n",
       "      <th>exposition_month</th>\n",
       "      <th>exposition_year</th>\n",
       "      <th>floor_type</th>\n",
       "      <th>ratio_living_area</th>\n",
       "      <th>ratio_kitchen_area</th>\n",
       "      <th>cityCenters_km</th>\n",
       "      <th>center_around_4km</th>\n",
       "    </tr>\n",
       "  </thead>\n",
       "  <tbody>\n",
       "    <tr>\n",
       "      <td>12</td>\n",
       "      <td>24</td>\n",
       "      <td>8</td>\n",
       "      <td>6500000.0</td>\n",
       "      <td>97.2</td>\n",
       "      <td>2015-10-31</td>\n",
       "      <td>2</td>\n",
       "      <td>2.65</td>\n",
       "      <td>3</td>\n",
       "      <td>46.5</td>\n",
       "      <td>1</td>\n",
       "      <td>...</td>\n",
       "      <td>(87.0, 900.0]</td>\n",
       "      <td>139784.95</td>\n",
       "      <td>5</td>\n",
       "      <td>10</td>\n",
       "      <td>2015</td>\n",
       "      <td>первый</td>\n",
       "      <td>0.478395</td>\n",
       "      <td>0.201646</td>\n",
       "      <td>2</td>\n",
       "      <td>Центр</td>\n",
       "    </tr>\n",
       "    <tr>\n",
       "      <td>20</td>\n",
       "      <td>35</td>\n",
       "      <td>6</td>\n",
       "      <td>15500000.0</td>\n",
       "      <td>149.0</td>\n",
       "      <td>2017-06-26</td>\n",
       "      <td>5</td>\n",
       "      <td>2.65</td>\n",
       "      <td>5</td>\n",
       "      <td>104.0</td>\n",
       "      <td>4</td>\n",
       "      <td>...</td>\n",
       "      <td>(87.0, 900.0]</td>\n",
       "      <td>149038.46</td>\n",
       "      <td>0</td>\n",
       "      <td>6</td>\n",
       "      <td>2017</td>\n",
       "      <td>другой</td>\n",
       "      <td>0.697987</td>\n",
       "      <td>0.114094</td>\n",
       "      <td>3</td>\n",
       "      <td>Центр</td>\n",
       "    </tr>\n",
       "    <tr>\n",
       "      <td>32</td>\n",
       "      <td>61</td>\n",
       "      <td>18</td>\n",
       "      <td>7990000.0</td>\n",
       "      <td>74.0</td>\n",
       "      <td>2017-08-24</td>\n",
       "      <td>2</td>\n",
       "      <td>2.65</td>\n",
       "      <td>4</td>\n",
       "      <td>43.0</td>\n",
       "      <td>4</td>\n",
       "      <td>...</td>\n",
       "      <td>(69.9, 87.0]</td>\n",
       "      <td>185813.95</td>\n",
       "      <td>3</td>\n",
       "      <td>8</td>\n",
       "      <td>2017</td>\n",
       "      <td>последний</td>\n",
       "      <td>0.581081</td>\n",
       "      <td>0.270270</td>\n",
       "      <td>4</td>\n",
       "      <td>Центр</td>\n",
       "    </tr>\n",
       "    <tr>\n",
       "      <td>33</td>\n",
       "      <td>63</td>\n",
       "      <td>2</td>\n",
       "      <td>20000000.0</td>\n",
       "      <td>118.0</td>\n",
       "      <td>2018-09-11</td>\n",
       "      <td>3</td>\n",
       "      <td>3.00</td>\n",
       "      <td>9</td>\n",
       "      <td>68.0</td>\n",
       "      <td>7</td>\n",
       "      <td>...</td>\n",
       "      <td>(87.0, 900.0]</td>\n",
       "      <td>294117.65</td>\n",
       "      <td>1</td>\n",
       "      <td>9</td>\n",
       "      <td>2018</td>\n",
       "      <td>другой</td>\n",
       "      <td>0.576271</td>\n",
       "      <td>0.135593</td>\n",
       "      <td>4</td>\n",
       "      <td>Центр</td>\n",
       "    </tr>\n",
       "    <tr>\n",
       "      <td>46</td>\n",
       "      <td>99</td>\n",
       "      <td>32</td>\n",
       "      <td>9600000.0</td>\n",
       "      <td>90.0</td>\n",
       "      <td>2017-09-26</td>\n",
       "      <td>4</td>\n",
       "      <td>2.65</td>\n",
       "      <td>5</td>\n",
       "      <td>67.0</td>\n",
       "      <td>2</td>\n",
       "      <td>...</td>\n",
       "      <td>(87.0, 900.0]</td>\n",
       "      <td>143283.58</td>\n",
       "      <td>1</td>\n",
       "      <td>9</td>\n",
       "      <td>2017</td>\n",
       "      <td>другой</td>\n",
       "      <td>0.744444</td>\n",
       "      <td>0.088889</td>\n",
       "      <td>2</td>\n",
       "      <td>Центр</td>\n",
       "    </tr>\n",
       "    <tr>\n",
       "      <td>...</td>\n",
       "      <td>...</td>\n",
       "      <td>...</td>\n",
       "      <td>...</td>\n",
       "      <td>...</td>\n",
       "      <td>...</td>\n",
       "      <td>...</td>\n",
       "      <td>...</td>\n",
       "      <td>...</td>\n",
       "      <td>...</td>\n",
       "      <td>...</td>\n",
       "      <td>...</td>\n",
       "      <td>...</td>\n",
       "      <td>...</td>\n",
       "      <td>...</td>\n",
       "      <td>...</td>\n",
       "      <td>...</td>\n",
       "      <td>...</td>\n",
       "      <td>...</td>\n",
       "      <td>...</td>\n",
       "      <td>...</td>\n",
       "      <td>...</td>\n",
       "    </tr>\n",
       "    <tr>\n",
       "      <td>13224</td>\n",
       "      <td>23609</td>\n",
       "      <td>7</td>\n",
       "      <td>7280000.0</td>\n",
       "      <td>64.3</td>\n",
       "      <td>2018-07-20</td>\n",
       "      <td>2</td>\n",
       "      <td>2.65</td>\n",
       "      <td>10</td>\n",
       "      <td>34.6</td>\n",
       "      <td>10</td>\n",
       "      <td>...</td>\n",
       "      <td>(60.0, 69.9]</td>\n",
       "      <td>210404.62</td>\n",
       "      <td>4</td>\n",
       "      <td>7</td>\n",
       "      <td>2018</td>\n",
       "      <td>последний</td>\n",
       "      <td>0.538103</td>\n",
       "      <td>0.177294</td>\n",
       "      <td>4</td>\n",
       "      <td>Центр</td>\n",
       "    </tr>\n",
       "    <tr>\n",
       "      <td>13242</td>\n",
       "      <td>23644</td>\n",
       "      <td>7</td>\n",
       "      <td>4990000.0</td>\n",
       "      <td>62.5</td>\n",
       "      <td>2018-04-26</td>\n",
       "      <td>2</td>\n",
       "      <td>2.70</td>\n",
       "      <td>4</td>\n",
       "      <td>32.3</td>\n",
       "      <td>4</td>\n",
       "      <td>...</td>\n",
       "      <td>(60.0, 69.9]</td>\n",
       "      <td>154489.16</td>\n",
       "      <td>3</td>\n",
       "      <td>4</td>\n",
       "      <td>2018</td>\n",
       "      <td>последний</td>\n",
       "      <td>0.516800</td>\n",
       "      <td>0.193600</td>\n",
       "      <td>4</td>\n",
       "      <td>Центр</td>\n",
       "    </tr>\n",
       "    <tr>\n",
       "      <td>13244</td>\n",
       "      <td>23648</td>\n",
       "      <td>14</td>\n",
       "      <td>10100000.0</td>\n",
       "      <td>78.0</td>\n",
       "      <td>2017-05-12</td>\n",
       "      <td>3</td>\n",
       "      <td>3.27</td>\n",
       "      <td>5</td>\n",
       "      <td>48.6</td>\n",
       "      <td>5</td>\n",
       "      <td>...</td>\n",
       "      <td>(69.9, 87.0]</td>\n",
       "      <td>207818.93</td>\n",
       "      <td>4</td>\n",
       "      <td>5</td>\n",
       "      <td>2017</td>\n",
       "      <td>последний</td>\n",
       "      <td>0.623077</td>\n",
       "      <td>0.105128</td>\n",
       "      <td>1</td>\n",
       "      <td>Центр</td>\n",
       "    </tr>\n",
       "    <tr>\n",
       "      <td>13252</td>\n",
       "      <td>23665</td>\n",
       "      <td>11</td>\n",
       "      <td>4250000.0</td>\n",
       "      <td>47.0</td>\n",
       "      <td>2016-05-20</td>\n",
       "      <td>1</td>\n",
       "      <td>2.65</td>\n",
       "      <td>6</td>\n",
       "      <td>18.2</td>\n",
       "      <td>1</td>\n",
       "      <td>...</td>\n",
       "      <td>(45.0, 52.0]</td>\n",
       "      <td>233516.48</td>\n",
       "      <td>4</td>\n",
       "      <td>5</td>\n",
       "      <td>2016</td>\n",
       "      <td>первый</td>\n",
       "      <td>0.387234</td>\n",
       "      <td>0.310638</td>\n",
       "      <td>4</td>\n",
       "      <td>Центр</td>\n",
       "    </tr>\n",
       "    <tr>\n",
       "      <td>13265</td>\n",
       "      <td>23691</td>\n",
       "      <td>11</td>\n",
       "      <td>9470000.0</td>\n",
       "      <td>72.9</td>\n",
       "      <td>2016-10-13</td>\n",
       "      <td>2</td>\n",
       "      <td>2.75</td>\n",
       "      <td>25</td>\n",
       "      <td>40.3</td>\n",
       "      <td>7</td>\n",
       "      <td>...</td>\n",
       "      <td>(69.9, 87.0]</td>\n",
       "      <td>234987.59</td>\n",
       "      <td>3</td>\n",
       "      <td>10</td>\n",
       "      <td>2016</td>\n",
       "      <td>другой</td>\n",
       "      <td>0.552812</td>\n",
       "      <td>0.145405</td>\n",
       "      <td>4</td>\n",
       "      <td>Центр</td>\n",
       "    </tr>\n",
       "  </tbody>\n",
       "</table>\n",
       "<p>1673 rows × 34 columns</p>\n",
       "</div>"
      ],
      "text/plain": [
       "       index  total_images  last_price  total_area first_day_exposition  \\\n",
       "12        24             8   6500000.0        97.2           2015-10-31   \n",
       "20        35             6  15500000.0       149.0           2017-06-26   \n",
       "32        61            18   7990000.0        74.0           2017-08-24   \n",
       "33        63             2  20000000.0       118.0           2018-09-11   \n",
       "46        99            32   9600000.0        90.0           2017-09-26   \n",
       "...      ...           ...         ...         ...                  ...   \n",
       "13224  23609             7   7280000.0        64.3           2018-07-20   \n",
       "13242  23644             7   4990000.0        62.5           2018-04-26   \n",
       "13244  23648            14  10100000.0        78.0           2017-05-12   \n",
       "13252  23665            11   4250000.0        47.0           2016-05-20   \n",
       "13265  23691            11   9470000.0        72.9           2016-10-13   \n",
       "\n",
       "       rooms  ceiling_height  floors_total  living_area  floor  ...  \\\n",
       "12         2            2.65             3         46.5      1  ...   \n",
       "20         5            2.65             5        104.0      4  ...   \n",
       "32         2            2.65             4         43.0      4  ...   \n",
       "33         3            3.00             9         68.0      7  ...   \n",
       "46         4            2.65             5         67.0      2  ...   \n",
       "...      ...             ...           ...          ...    ...  ...   \n",
       "13224      2            2.65            10         34.6     10  ...   \n",
       "13242      2            2.70             4         32.3      4  ...   \n",
       "13244      3            3.27             5         48.6      5  ...   \n",
       "13252      1            2.65             6         18.2      1  ...   \n",
       "13265      2            2.75            25         40.3      7  ...   \n",
       "\n",
       "       total_interval  square_meter  exposition_weekday  exposition_month  \\\n",
       "12      (87.0, 900.0]     139784.95                   5                10   \n",
       "20      (87.0, 900.0]     149038.46                   0                 6   \n",
       "32       (69.9, 87.0]     185813.95                   3                 8   \n",
       "33      (87.0, 900.0]     294117.65                   1                 9   \n",
       "46      (87.0, 900.0]     143283.58                   1                 9   \n",
       "...               ...           ...                 ...               ...   \n",
       "13224    (60.0, 69.9]     210404.62                   4                 7   \n",
       "13242    (60.0, 69.9]     154489.16                   3                 4   \n",
       "13244    (69.9, 87.0]     207818.93                   4                 5   \n",
       "13252    (45.0, 52.0]     233516.48                   4                 5   \n",
       "13265    (69.9, 87.0]     234987.59                   3                10   \n",
       "\n",
       "       exposition_year floor_type  ratio_living_area  ratio_kitchen_area  \\\n",
       "12                2015     первый           0.478395            0.201646   \n",
       "20                2017     другой           0.697987            0.114094   \n",
       "32                2017  последний           0.581081            0.270270   \n",
       "33                2018     другой           0.576271            0.135593   \n",
       "46                2017     другой           0.744444            0.088889   \n",
       "...                ...        ...                ...                 ...   \n",
       "13224             2018  последний           0.538103            0.177294   \n",
       "13242             2018  последний           0.516800            0.193600   \n",
       "13244             2017  последний           0.623077            0.105128   \n",
       "13252             2016     первый           0.387234            0.310638   \n",
       "13265             2016     другой           0.552812            0.145405   \n",
       "\n",
       "       cityCenters_km  center_around_4km  \n",
       "12                  2              Центр  \n",
       "20                  3              Центр  \n",
       "32                  4              Центр  \n",
       "33                  4              Центр  \n",
       "46                  2              Центр  \n",
       "...               ...                ...  \n",
       "13224               4              Центр  \n",
       "13242               4              Центр  \n",
       "13244               1              Центр  \n",
       "13252               4              Центр  \n",
       "13265               4              Центр  \n",
       "\n",
       "[1673 rows x 34 columns]"
      ]
     },
     "execution_count": 121,
     "metadata": {},
     "output_type": "execute_result"
    }
   ],
   "source": [
    "sp_ads.query('cityCenters_km <= 4')"
   ]
  },
  {
   "cell_type": "markdown",
   "metadata": {},
   "source": [
    "#### Сравним площади квартир"
   ]
  },
  {
   "cell_type": "markdown",
   "metadata": {},
   "source": [
    "Запустим цикл построения графиков по сгруппированным данным:"
   ]
  },
  {
   "cell_type": "code",
   "execution_count": 122,
   "metadata": {},
   "outputs": [
    {
     "data": {
      "image/png": "[encoded data removed]",
      "text/plain": [
       "<Figure size 432x288 with 1 Axes>"
      ]
     },
     "metadata": {
      "needs_background": "light"
     },
     "output_type": "display_data"
    },
    {
     "data": {
      "image/png": "[encoded data removed]",
      "text/plain": [
       "<Figure size 432x288 with 1 Axes>"
      ]
     },
     "metadata": {
      "needs_background": "light"
     },
     "output_type": "display_data"
    }
   ],
   "source": [
    "for name, group_data in sp_ads.groupby('center_around_4km'):\n",
    "    group_data.plot(y='total_area', title=name, kind='hist', bins=50)\n",
    "plt.xlabel('Общая площадь')\n",
    "plt.ylabel('Количество значений')\n",
    "plt.show()"
   ]
  },
  {
   "cell_type": "code",
   "execution_count": 123,
   "metadata": {},
   "outputs": [
    {
     "data": {
      "text/plain": [
       "count    1673.000000\n",
       "mean       94.883192\n",
       "std        54.613240\n",
       "min        17.600000\n",
       "25%        60.440000\n",
       "50%        82.000000\n",
       "75%       112.000000\n",
       "max       590.000000\n",
       "Name: total_area, dtype: float64"
      ]
     },
     "execution_count": 123,
     "metadata": {},
     "output_type": "execute_result"
    }
   ],
   "source": [
    "# Для центра Санкт-Петербурга\n",
    "sp_ads_center['total_area'].describe()"
   ]
  },
  {
   "cell_type": "code",
   "execution_count": 124,
   "metadata": {},
   "outputs": [
    {
     "data": {
      "text/plain": [
       "count    13267.000000\n",
       "mean        63.374730\n",
       "std         38.521602\n",
       "min         17.600000\n",
       "25%         41.800000\n",
       "50%         54.000000\n",
       "75%         72.600000\n",
       "max        900.000000\n",
       "Name: total_area, dtype: float64"
      ]
     },
     "execution_count": 124,
     "metadata": {},
     "output_type": "execute_result"
    }
   ],
   "source": [
    "# Для всего города\n",
    "sp_ads['total_area'].describe()"
   ]
  },
  {
   "cell_type": "markdown",
   "metadata": {},
   "source": [
    "Как мы видим в центре Санкт-Петербурга увеличилась средняя площадь продаваемых квартир, не удивительно, в центре города всегда идет запрос на простороное жилье. Гистограмма похожа на нормальное распределение."
   ]
  },
  {
   "cell_type": "markdown",
   "metadata": {},
   "source": [
    "#### Сравним цены на жилье"
   ]
  },
  {
   "cell_type": "code",
   "execution_count": 125,
   "metadata": {},
   "outputs": [
    {
     "data": {
      "image/png": "[encoded data removed]",
      "text/plain": [
       "<Figure size 360x360 with 1 Axes>"
      ]
     },
     "metadata": {
      "needs_background": "light"
     },
     "output_type": "display_data"
    },
    {
     "data": {
      "image/png": "[encoded data removed]",
      "text/plain": [
       "<Figure size 360x360 with 1 Axes>"
      ]
     },
     "metadata": {
      "needs_background": "light"
     },
     "output_type": "display_data"
    }
   ],
   "source": [
    "for name, group_data in sp_ads.groupby('center_around_4km'):\n",
    "    group_data.plot(y='last_price', title=name, kind='hist', bins=50, figsize=(5, 5), range=(0, 10000000))\n",
    "plt.xlabel('Цена')\n",
    "plt.ylabel('Количество значений')\n",
    "plt.show()"
   ]
  },
  {
   "cell_type": "code",
   "execution_count": 126,
   "metadata": {},
   "outputs": [
    {
     "data": {
      "text/plain": [
       "count         1673.0\n",
       "mean      14436172.0\n",
       "std       27312925.0\n",
       "min        1600000.0\n",
       "25%        6850000.0\n",
       "50%        9300000.0\n",
       "75%       13700000.0\n",
       "max      763000000.0\n",
       "Name: last_price, dtype: float64"
      ]
     },
     "execution_count": 126,
     "metadata": {},
     "output_type": "execute_result"
    }
   ],
   "source": [
    "# Для центра Санкт-Петербурга\n",
    "sp_ads_center['last_price'].describe().round(0)"
   ]
  },
  {
   "cell_type": "code",
   "execution_count": 127,
   "metadata": {},
   "outputs": [
    {
     "data": {
      "text/plain": [
       "count        13267.0\n",
       "mean       7723921.0\n",
       "std       13158244.0\n",
       "min        1200000.0\n",
       "25%        4150000.0\n",
       "50%        5350000.0\n",
       "75%        7769950.0\n",
       "max      763000000.0\n",
       "Name: last_price, dtype: float64"
      ]
     },
     "execution_count": 127,
     "metadata": {},
     "output_type": "execute_result"
    }
   ],
   "source": [
    "# Для всего города\n",
    "sp_ads['last_price'].describe().round(0)"
   ]
  },
  {
   "cell_type": "markdown",
   "metadata": {},
   "source": [
    "Средняя цена на жилье в центре Санкт-Петербурга почти в два раза выше, чем по всему городу в целом. **Ближе к центру - выше стоимость**."
   ]
  },
  {
   "cell_type": "markdown",
   "metadata": {},
   "source": [
    "#### Сравним количество комнат"
   ]
  },
  {
   "cell_type": "code",
   "execution_count": 128,
   "metadata": {},
   "outputs": [
    {
     "data": {
      "image/png": "[encoded data removed]",
      "text/plain": [
       "<Figure size 432x288 with 1 Axes>"
      ]
     },
     "metadata": {
      "needs_background": "light"
     },
     "output_type": "display_data"
    },
    {
     "data": {
      "image/png": "[encoded data removed]",
      "text/plain": [
       "<Figure size 432x288 with 1 Axes>"
      ]
     },
     "metadata": {
      "needs_background": "light"
     },
     "output_type": "display_data"
    }
   ],
   "source": [
    "for name, group_data in sp_ads.groupby('center_around_4km'):\n",
    "    group_data.plot(y='rooms', title=name, kind='hist', bins=30, range=(0, 10))\n",
    "plt.xlabel('Количество комнат')\n",
    "plt.ylabel('Количество значений')\n",
    "plt.show()"
   ]
  },
  {
   "cell_type": "code",
   "execution_count": 129,
   "metadata": {},
   "outputs": [
    {
     "data": {
      "text/plain": [
       "count    1673.000000\n",
       "mean        2.994023\n",
       "std         1.483147\n",
       "min         1.000000\n",
       "25%         2.000000\n",
       "50%         3.000000\n",
       "75%         4.000000\n",
       "max        19.000000\n",
       "Name: rooms, dtype: float64"
      ]
     },
     "execution_count": 129,
     "metadata": {},
     "output_type": "execute_result"
    }
   ],
   "source": [
    "# Для центра Санкт-Петербурга\n",
    "sp_ads_center['rooms'].describe()"
   ]
  },
  {
   "cell_type": "code",
   "execution_count": 130,
   "metadata": {},
   "outputs": [
    {
     "data": {
      "text/plain": [
       "3     0.306635\n",
       "2     0.289301\n",
       "4     0.163778\n",
       "1     0.113568\n",
       "5     0.080693\n",
       "6     0.025702\n",
       "7     0.013150\n",
       "8     0.003586\n",
       "10    0.001195\n",
       "19    0.000598\n",
       "16    0.000598\n",
       "15    0.000598\n",
       "11    0.000598\n",
       "Name: rooms, dtype: float64"
      ]
     },
     "execution_count": 130,
     "metadata": {},
     "output_type": "execute_result"
    }
   ],
   "source": [
    "# Для центра Санкт-Петербурга\n",
    "sp_ads_center['rooms'].value_counts(abs)"
   ]
  },
  {
   "cell_type": "code",
   "execution_count": 131,
   "metadata": {},
   "outputs": [
    {
     "data": {
      "text/plain": [
       "count    13267.000000\n",
       "mean         2.145398\n",
       "std          1.107807\n",
       "min          1.000000\n",
       "25%          1.000000\n",
       "50%          2.000000\n",
       "75%          3.000000\n",
       "max         19.000000\n",
       "Name: rooms, dtype: float64"
      ]
     },
     "execution_count": 131,
     "metadata": {},
     "output_type": "execute_result"
    }
   ],
   "source": [
    "# Для всего города\n",
    "sp_ads['rooms'].describe()"
   ]
  },
  {
   "cell_type": "code",
   "execution_count": 132,
   "metadata": {},
   "outputs": [],
   "source": [
    "# Для всего города\n",
    "p = sp_ads['rooms'].value_counts(abs)"
   ]
  },
  {
   "cell_type": "code",
   "execution_count": 133,
   "metadata": {},
   "outputs": [
    {
     "data": {
      "text/plain": [
       "0.9999999999999999"
      ]
     },
     "execution_count": 133,
     "metadata": {},
     "output_type": "execute_result"
    }
   ],
   "source": [
    "p.sum()"
   ]
  },
  {
   "cell_type": "markdown",
   "metadata": {},
   "source": [
    "Заметим тенденцию, в центре города в основном квартиры двух- и трехкомнатные, а в целом по городу одно- и двухкомнатные. Количество однокомнатных квартир в центре ~11%, а в остальной части города ~32%. "
   ]
  },
  {
   "cell_type": "markdown",
   "metadata": {},
   "source": [
    "#### Сравним высоту потолков"
   ]
  },
  {
   "cell_type": "code",
   "execution_count": 134,
   "metadata": {},
   "outputs": [
    {
     "data": {
      "image/png": "[encoded data removed]",
      "text/plain": [
       "<Figure size 432x288 with 1 Axes>"
      ]
     },
     "metadata": {
      "needs_background": "light"
     },
     "output_type": "display_data"
    },
    {
     "data": {
      "image/png": "[encoded data removed]",
      "text/plain": [
       "<Figure size 432x288 with 1 Axes>"
      ]
     },
     "metadata": {
      "needs_background": "light"
     },
     "output_type": "display_data"
    }
   ],
   "source": [
    "for name, group_data in sp_ads.groupby('center_around_4km'):\n",
    "    group_data.plot(y='ceiling_height', title=name, kind='hist', bins=30, range=(0, 6))\n",
    "plt.xlabel('Количество комнат')\n",
    "plt.ylabel('Количество значений')\n",
    "plt.show()"
   ]
  },
  {
   "cell_type": "code",
   "execution_count": 135,
   "metadata": {},
   "outputs": [
    {
     "data": {
      "text/plain": [
       "count    1673.000000\n",
       "mean        2.977525\n",
       "std         0.376821\n",
       "min         2.500000\n",
       "25%         2.650000\n",
       "50%         2.900000\n",
       "75%         3.200000\n",
       "max         5.300000\n",
       "Name: ceiling_height, dtype: float64"
      ]
     },
     "execution_count": 135,
     "metadata": {},
     "output_type": "execute_result"
    }
   ],
   "source": [
    "# Для центра Санкт-Петербурга\n",
    "sp_ads_center['ceiling_height'].describe()"
   ]
  },
  {
   "cell_type": "code",
   "execution_count": 136,
   "metadata": {},
   "outputs": [
    {
     "data": {
      "text/plain": [
       "count    13267.000000\n",
       "mean         2.716300\n",
       "std          0.245713\n",
       "min          2.480000\n",
       "25%          2.600000\n",
       "50%          2.650000\n",
       "75%          2.730000\n",
       "max          8.300000\n",
       "Name: ceiling_height, dtype: float64"
      ]
     },
     "execution_count": 136,
     "metadata": {},
     "output_type": "execute_result"
    }
   ],
   "source": [
    "# Для всего города\n",
    "sp_ads['ceiling_height'].describe()"
   ]
  },
  {
   "cell_type": "markdown",
   "metadata": {},
   "source": [
    "Высота потолков в центре города выше, а доля потолков выше трех метров составляет порядка 50%. Веротяней всего это старый жилой фонд начала 20 века, характеризующийся более высокими стандаратми к комфорту квартир."
   ]
  },
  {
   "cell_type": "markdown",
   "metadata": {},
   "source": [
    "#### Выделим факторы, которые влияют на стоимость квартиры в Санкт-Петербурге"
   ]
  },
  {
   "cell_type": "code",
   "execution_count": 137,
   "metadata": {},
   "outputs": [
    {
     "data": {
      "text/html": [
       "<div>\n",
       "<style scoped>\n",
       "    .dataframe tbody tr th:only-of-type {\n",
       "        vertical-align: middle;\n",
       "    }\n",
       "\n",
       "    .dataframe tbody tr th {\n",
       "        vertical-align: top;\n",
       "    }\n",
       "\n",
       "    .dataframe thead th {\n",
       "        text-align: right;\n",
       "    }\n",
       "</style>\n",
       "<table border=\"1\" class=\"dataframe\">\n",
       "  <thead>\n",
       "    <tr style=\"text-align: right;\">\n",
       "      <th></th>\n",
       "      <th>index</th>\n",
       "      <th>total_images</th>\n",
       "      <th>last_price</th>\n",
       "      <th>total_area</th>\n",
       "      <th>rooms</th>\n",
       "      <th>ceiling_height</th>\n",
       "      <th>floors_total</th>\n",
       "      <th>living_area</th>\n",
       "      <th>floor</th>\n",
       "      <th>is_apartment</th>\n",
       "      <th>...</th>\n",
       "      <th>ponds_nearest</th>\n",
       "      <th>days_exposition</th>\n",
       "      <th>ratio_living</th>\n",
       "      <th>square_meter</th>\n",
       "      <th>exposition_weekday</th>\n",
       "      <th>exposition_month</th>\n",
       "      <th>exposition_year</th>\n",
       "      <th>ratio_living_area</th>\n",
       "      <th>ratio_kitchen_area</th>\n",
       "      <th>cityCenters_km</th>\n",
       "    </tr>\n",
       "  </thead>\n",
       "  <tbody>\n",
       "    <tr>\n",
       "      <td>index</td>\n",
       "      <td>1.000000</td>\n",
       "      <td>-0.007823</td>\n",
       "      <td>-0.022673</td>\n",
       "      <td>-0.031781</td>\n",
       "      <td>-0.024037</td>\n",
       "      <td>-0.054434</td>\n",
       "      <td>0.031223</td>\n",
       "      <td>-0.042652</td>\n",
       "      <td>-0.014596</td>\n",
       "      <td>-0.031922</td>\n",
       "      <td>...</td>\n",
       "      <td>-0.048739</td>\n",
       "      <td>-0.004495</td>\n",
       "      <td>-0.060841</td>\n",
       "      <td>-0.025768</td>\n",
       "      <td>-0.010667</td>\n",
       "      <td>-0.012315</td>\n",
       "      <td>0.033073</td>\n",
       "      <td>-0.045955</td>\n",
       "      <td>0.010767</td>\n",
       "      <td>0.044592</td>\n",
       "    </tr>\n",
       "    <tr>\n",
       "      <td>total_images</td>\n",
       "      <td>-0.007823</td>\n",
       "      <td>1.000000</td>\n",
       "      <td>0.138509</td>\n",
       "      <td>0.097995</td>\n",
       "      <td>0.035695</td>\n",
       "      <td>0.098274</td>\n",
       "      <td>-0.028090</td>\n",
       "      <td>0.075828</td>\n",
       "      <td>-0.010921</td>\n",
       "      <td>-0.009916</td>\n",
       "      <td>...</td>\n",
       "      <td>0.028028</td>\n",
       "      <td>-0.043212</td>\n",
       "      <td>0.027626</td>\n",
       "      <td>0.159213</td>\n",
       "      <td>0.027551</td>\n",
       "      <td>-0.006188</td>\n",
       "      <td>0.155350</td>\n",
       "      <td>-0.025186</td>\n",
       "      <td>0.044442</td>\n",
       "      <td>-0.029915</td>\n",
       "    </tr>\n",
       "    <tr>\n",
       "      <td>last_price</td>\n",
       "      <td>-0.022673</td>\n",
       "      <td>0.138509</td>\n",
       "      <td>1.000000</td>\n",
       "      <td>0.536393</td>\n",
       "      <td>0.268831</td>\n",
       "      <td>0.083033</td>\n",
       "      <td>0.060110</td>\n",
       "      <td>0.471809</td>\n",
       "      <td>0.136024</td>\n",
       "      <td>0.013576</td>\n",
       "      <td>...</td>\n",
       "      <td>-0.031505</td>\n",
       "      <td>0.042752</td>\n",
       "      <td>-0.005408</td>\n",
       "      <td>0.749651</td>\n",
       "      <td>0.042433</td>\n",
       "      <td>-0.009568</td>\n",
       "      <td>-0.038414</td>\n",
       "      <td>0.001721</td>\n",
       "      <td>-0.104068</td>\n",
       "      <td>-0.078488</td>\n",
       "    </tr>\n",
       "    <tr>\n",
       "      <td>total_area</td>\n",
       "      <td>-0.031781</td>\n",
       "      <td>0.097995</td>\n",
       "      <td>0.536393</td>\n",
       "      <td>1.000000</td>\n",
       "      <td>0.757069</td>\n",
       "      <td>0.201911</td>\n",
       "      <td>0.033264</td>\n",
       "      <td>0.938279</td>\n",
       "      <td>0.143422</td>\n",
       "      <td>-0.013357</td>\n",
       "      <td>...</td>\n",
       "      <td>-0.010533</td>\n",
       "      <td>0.123473</td>\n",
       "      <td>0.076338</td>\n",
       "      <td>0.191587</td>\n",
       "      <td>0.009444</td>\n",
       "      <td>-0.039178</td>\n",
       "      <td>-0.083240</td>\n",
       "      <td>0.158862</td>\n",
       "      <td>-0.355575</td>\n",
       "      <td>-0.059533</td>\n",
       "    </tr>\n",
       "    <tr>\n",
       "      <td>rooms</td>\n",
       "      <td>-0.024037</td>\n",
       "      <td>0.035695</td>\n",
       "      <td>0.268831</td>\n",
       "      <td>0.757069</td>\n",
       "      <td>1.000000</td>\n",
       "      <td>0.156140</td>\n",
       "      <td>-0.130464</td>\n",
       "      <td>0.816658</td>\n",
       "      <td>-0.014571</td>\n",
       "      <td>-0.011408</td>\n",
       "      <td>...</td>\n",
       "      <td>-0.003424</td>\n",
       "      <td>0.134732</td>\n",
       "      <td>0.256502</td>\n",
       "      <td>-0.106159</td>\n",
       "      <td>-0.014966</td>\n",
       "      <td>-0.047320</td>\n",
       "      <td>-0.071386</td>\n",
       "      <td>0.418590</td>\n",
       "      <td>-0.476173</td>\n",
       "      <td>-0.084120</td>\n",
       "    </tr>\n",
       "    <tr>\n",
       "      <td>ceiling_height</td>\n",
       "      <td>-0.054434</td>\n",
       "      <td>0.098274</td>\n",
       "      <td>0.083033</td>\n",
       "      <td>0.201911</td>\n",
       "      <td>0.156140</td>\n",
       "      <td>1.000000</td>\n",
       "      <td>-0.203135</td>\n",
       "      <td>0.221413</td>\n",
       "      <td>-0.121466</td>\n",
       "      <td>0.019086</td>\n",
       "      <td>...</td>\n",
       "      <td>-0.043910</td>\n",
       "      <td>0.075590</td>\n",
       "      <td>0.086453</td>\n",
       "      <td>0.019193</td>\n",
       "      <td>-0.053133</td>\n",
       "      <td>-0.010616</td>\n",
       "      <td>0.026625</td>\n",
       "      <td>0.112713</td>\n",
       "      <td>-0.072300</td>\n",
       "      <td>-0.110944</td>\n",
       "    </tr>\n",
       "    <tr>\n",
       "      <td>floors_total</td>\n",
       "      <td>0.031223</td>\n",
       "      <td>-0.028090</td>\n",
       "      <td>0.060110</td>\n",
       "      <td>0.033264</td>\n",
       "      <td>-0.130464</td>\n",
       "      <td>-0.203135</td>\n",
       "      <td>1.000000</td>\n",
       "      <td>-0.073883</td>\n",
       "      <td>0.661711</td>\n",
       "      <td>-0.010230</td>\n",
       "      <td>...</td>\n",
       "      <td>0.090969</td>\n",
       "      <td>0.016463</td>\n",
       "      <td>-0.245852</td>\n",
       "      <td>0.203029</td>\n",
       "      <td>0.013346</td>\n",
       "      <td>0.017660</td>\n",
       "      <td>-0.024928</td>\n",
       "      <td>-0.315244</td>\n",
       "      <td>0.113585</td>\n",
       "      <td>0.347679</td>\n",
       "    </tr>\n",
       "    <tr>\n",
       "      <td>living_area</td>\n",
       "      <td>-0.042652</td>\n",
       "      <td>0.075828</td>\n",
       "      <td>0.471809</td>\n",
       "      <td>0.938279</td>\n",
       "      <td>0.816658</td>\n",
       "      <td>0.221413</td>\n",
       "      <td>-0.073883</td>\n",
       "      <td>1.000000</td>\n",
       "      <td>0.044173</td>\n",
       "      <td>-0.003929</td>\n",
       "      <td>...</td>\n",
       "      <td>-0.007696</td>\n",
       "      <td>0.126687</td>\n",
       "      <td>0.281763</td>\n",
       "      <td>0.043378</td>\n",
       "      <td>0.003259</td>\n",
       "      <td>-0.036923</td>\n",
       "      <td>-0.092529</td>\n",
       "      <td>0.434985</td>\n",
       "      <td>-0.462587</td>\n",
       "      <td>-0.099932</td>\n",
       "    </tr>\n",
       "    <tr>\n",
       "      <td>floor</td>\n",
       "      <td>-0.014596</td>\n",
       "      <td>-0.010921</td>\n",
       "      <td>0.136024</td>\n",
       "      <td>0.143422</td>\n",
       "      <td>-0.014571</td>\n",
       "      <td>-0.121466</td>\n",
       "      <td>0.661711</td>\n",
       "      <td>0.044173</td>\n",
       "      <td>1.000000</td>\n",
       "      <td>-0.005243</td>\n",
       "      <td>...</td>\n",
       "      <td>0.040308</td>\n",
       "      <td>0.030712</td>\n",
       "      <td>-0.157165</td>\n",
       "      <td>0.197827</td>\n",
       "      <td>0.042681</td>\n",
       "      <td>0.022265</td>\n",
       "      <td>-0.052609</td>\n",
       "      <td>-0.206600</td>\n",
       "      <td>0.017328</td>\n",
       "      <td>0.230451</td>\n",
       "    </tr>\n",
       "    <tr>\n",
       "      <td>is_apartment</td>\n",
       "      <td>-0.031922</td>\n",
       "      <td>-0.009916</td>\n",
       "      <td>0.013576</td>\n",
       "      <td>-0.013357</td>\n",
       "      <td>-0.011408</td>\n",
       "      <td>0.019086</td>\n",
       "      <td>-0.010230</td>\n",
       "      <td>-0.003929</td>\n",
       "      <td>-0.005243</td>\n",
       "      <td>1.000000</td>\n",
       "      <td>...</td>\n",
       "      <td>-0.011440</td>\n",
       "      <td>0.048002</td>\n",
       "      <td>0.012499</td>\n",
       "      <td>0.041655</td>\n",
       "      <td>-0.075591</td>\n",
       "      <td>0.015017</td>\n",
       "      <td>-0.014343</td>\n",
       "      <td>0.038903</td>\n",
       "      <td>0.016890</td>\n",
       "      <td>-0.054593</td>\n",
       "    </tr>\n",
       "    <tr>\n",
       "      <td>studio</td>\n",
       "      <td>NaN</td>\n",
       "      <td>NaN</td>\n",
       "      <td>NaN</td>\n",
       "      <td>NaN</td>\n",
       "      <td>NaN</td>\n",
       "      <td>NaN</td>\n",
       "      <td>NaN</td>\n",
       "      <td>NaN</td>\n",
       "      <td>NaN</td>\n",
       "      <td>NaN</td>\n",
       "      <td>...</td>\n",
       "      <td>NaN</td>\n",
       "      <td>NaN</td>\n",
       "      <td>NaN</td>\n",
       "      <td>NaN</td>\n",
       "      <td>NaN</td>\n",
       "      <td>NaN</td>\n",
       "      <td>NaN</td>\n",
       "      <td>NaN</td>\n",
       "      <td>NaN</td>\n",
       "      <td>NaN</td>\n",
       "    </tr>\n",
       "    <tr>\n",
       "      <td>open_plan</td>\n",
       "      <td>0.012917</td>\n",
       "      <td>-0.016236</td>\n",
       "      <td>-0.007205</td>\n",
       "      <td>-0.008892</td>\n",
       "      <td>0.011806</td>\n",
       "      <td>0.018136</td>\n",
       "      <td>-0.013292</td>\n",
       "      <td>0.002964</td>\n",
       "      <td>-0.022806</td>\n",
       "      <td>-0.002398</td>\n",
       "      <td>...</td>\n",
       "      <td>-0.013795</td>\n",
       "      <td>-0.012356</td>\n",
       "      <td>0.035193</td>\n",
       "      <td>-0.019718</td>\n",
       "      <td>-0.000078</td>\n",
       "      <td>0.008733</td>\n",
       "      <td>-0.048258</td>\n",
       "      <td>0.048342</td>\n",
       "      <td>0.003251</td>\n",
       "      <td>0.001677</td>\n",
       "    </tr>\n",
       "    <tr>\n",
       "      <td>kitchen_area</td>\n",
       "      <td>-0.018450</td>\n",
       "      <td>0.144483</td>\n",
       "      <td>0.319527</td>\n",
       "      <td>0.547708</td>\n",
       "      <td>0.286216</td>\n",
       "      <td>0.119654</td>\n",
       "      <td>0.072378</td>\n",
       "      <td>0.413723</td>\n",
       "      <td>0.112314</td>\n",
       "      <td>0.003557</td>\n",
       "      <td>...</td>\n",
       "      <td>-0.001191</td>\n",
       "      <td>0.075714</td>\n",
       "      <td>-0.185201</td>\n",
       "      <td>0.348986</td>\n",
       "      <td>-0.010865</td>\n",
       "      <td>-0.058197</td>\n",
       "      <td>-0.019708</td>\n",
       "      <td>-0.274024</td>\n",
       "      <td>0.458244</td>\n",
       "      <td>-0.017825</td>\n",
       "    </tr>\n",
       "    <tr>\n",
       "      <td>balcony</td>\n",
       "      <td>0.046797</td>\n",
       "      <td>0.003241</td>\n",
       "      <td>0.118194</td>\n",
       "      <td>0.062188</td>\n",
       "      <td>-0.061462</td>\n",
       "      <td>-0.059579</td>\n",
       "      <td>0.435127</td>\n",
       "      <td>0.008053</td>\n",
       "      <td>0.333230</td>\n",
       "      <td>0.026331</td>\n",
       "      <td>...</td>\n",
       "      <td>0.009287</td>\n",
       "      <td>0.022388</td>\n",
       "      <td>-0.107724</td>\n",
       "      <td>0.173871</td>\n",
       "      <td>-0.001593</td>\n",
       "      <td>-0.016550</td>\n",
       "      <td>-0.052189</td>\n",
       "      <td>-0.160152</td>\n",
       "      <td>0.081850</td>\n",
       "      <td>0.169174</td>\n",
       "    </tr>\n",
       "    <tr>\n",
       "      <td>airports_nearest</td>\n",
       "      <td>-0.002513</td>\n",
       "      <td>0.008704</td>\n",
       "      <td>0.032776</td>\n",
       "      <td>0.007393</td>\n",
       "      <td>-0.026207</td>\n",
       "      <td>0.016404</td>\n",
       "      <td>-0.023528</td>\n",
       "      <td>-0.012041</td>\n",
       "      <td>-0.014340</td>\n",
       "      <td>0.022881</td>\n",
       "      <td>...</td>\n",
       "      <td>0.090863</td>\n",
       "      <td>0.035218</td>\n",
       "      <td>-0.097599</td>\n",
       "      <td>0.093178</td>\n",
       "      <td>-0.014356</td>\n",
       "      <td>-0.025800</td>\n",
       "      <td>0.018981</td>\n",
       "      <td>-0.063328</td>\n",
       "      <td>0.068616</td>\n",
       "      <td>0.357407</td>\n",
       "    </tr>\n",
       "    <tr>\n",
       "      <td>cityCenters_nearest</td>\n",
       "      <td>0.043473</td>\n",
       "      <td>-0.031132</td>\n",
       "      <td>-0.075239</td>\n",
       "      <td>-0.054148</td>\n",
       "      <td>-0.081076</td>\n",
       "      <td>-0.118332</td>\n",
       "      <td>0.355697</td>\n",
       "      <td>-0.091506</td>\n",
       "      <td>0.235131</td>\n",
       "      <td>-0.056562</td>\n",
       "      <td>...</td>\n",
       "      <td>0.409028</td>\n",
       "      <td>0.001614</td>\n",
       "      <td>-0.114231</td>\n",
       "      <td>-0.033703</td>\n",
       "      <td>-0.046500</td>\n",
       "      <td>-0.010382</td>\n",
       "      <td>0.028722</td>\n",
       "      <td>-0.136489</td>\n",
       "      <td>0.064575</td>\n",
       "      <td>0.974041</td>\n",
       "    </tr>\n",
       "    <tr>\n",
       "      <td>parks_around3000</td>\n",
       "      <td>-0.021243</td>\n",
       "      <td>0.060963</td>\n",
       "      <td>0.075793</td>\n",
       "      <td>0.076691</td>\n",
       "      <td>0.082066</td>\n",
       "      <td>0.109833</td>\n",
       "      <td>-0.278944</td>\n",
       "      <td>0.103664</td>\n",
       "      <td>-0.191924</td>\n",
       "      <td>0.055887</td>\n",
       "      <td>...</td>\n",
       "      <td>-0.252873</td>\n",
       "      <td>0.015413</td>\n",
       "      <td>0.059380</td>\n",
       "      <td>0.043508</td>\n",
       "      <td>-0.017150</td>\n",
       "      <td>-0.008217</td>\n",
       "      <td>-0.011407</td>\n",
       "      <td>0.106882</td>\n",
       "      <td>-0.029321</td>\n",
       "      <td>-0.378997</td>\n",
       "    </tr>\n",
       "    <tr>\n",
       "      <td>parks_nearest</td>\n",
       "      <td>0.008377</td>\n",
       "      <td>-0.001391</td>\n",
       "      <td>0.027777</td>\n",
       "      <td>0.014229</td>\n",
       "      <td>-0.038370</td>\n",
       "      <td>0.009213</td>\n",
       "      <td>0.111540</td>\n",
       "      <td>-0.022024</td>\n",
       "      <td>0.084832</td>\n",
       "      <td>-0.041302</td>\n",
       "      <td>...</td>\n",
       "      <td>-0.022767</td>\n",
       "      <td>-0.027028</td>\n",
       "      <td>-0.084316</td>\n",
       "      <td>0.086345</td>\n",
       "      <td>-0.011018</td>\n",
       "      <td>0.003894</td>\n",
       "      <td>0.010268</td>\n",
       "      <td>-0.099630</td>\n",
       "      <td>0.044718</td>\n",
       "      <td>0.147804</td>\n",
       "    </tr>\n",
       "    <tr>\n",
       "      <td>ponds_around3000</td>\n",
       "      <td>0.008364</td>\n",
       "      <td>-0.001314</td>\n",
       "      <td>0.027877</td>\n",
       "      <td>0.014314</td>\n",
       "      <td>-0.038243</td>\n",
       "      <td>0.009360</td>\n",
       "      <td>0.111120</td>\n",
       "      <td>-0.021914</td>\n",
       "      <td>0.084543</td>\n",
       "      <td>-0.041263</td>\n",
       "      <td>...</td>\n",
       "      <td>-0.023124</td>\n",
       "      <td>-0.027009</td>\n",
       "      <td>-0.084260</td>\n",
       "      <td>0.086394</td>\n",
       "      <td>-0.011019</td>\n",
       "      <td>0.003869</td>\n",
       "      <td>0.010290</td>\n",
       "      <td>-0.099500</td>\n",
       "      <td>0.044686</td>\n",
       "      <td>0.147531</td>\n",
       "    </tr>\n",
       "    <tr>\n",
       "      <td>ponds_nearest</td>\n",
       "      <td>-0.048739</td>\n",
       "      <td>0.028028</td>\n",
       "      <td>-0.031505</td>\n",
       "      <td>-0.010533</td>\n",
       "      <td>-0.003424</td>\n",
       "      <td>-0.043910</td>\n",
       "      <td>0.090969</td>\n",
       "      <td>-0.007696</td>\n",
       "      <td>0.040308</td>\n",
       "      <td>-0.011440</td>\n",
       "      <td>...</td>\n",
       "      <td>1.000000</td>\n",
       "      <td>-0.021225</td>\n",
       "      <td>0.025823</td>\n",
       "      <td>-0.054818</td>\n",
       "      <td>-0.038332</td>\n",
       "      <td>0.054438</td>\n",
       "      <td>0.024611</td>\n",
       "      <td>-0.011756</td>\n",
       "      <td>0.017905</td>\n",
       "      <td>0.400173</td>\n",
       "    </tr>\n",
       "    <tr>\n",
       "      <td>days_exposition</td>\n",
       "      <td>-0.004495</td>\n",
       "      <td>-0.043212</td>\n",
       "      <td>0.042752</td>\n",
       "      <td>0.123473</td>\n",
       "      <td>0.134732</td>\n",
       "      <td>0.075590</td>\n",
       "      <td>0.016463</td>\n",
       "      <td>0.126687</td>\n",
       "      <td>0.030712</td>\n",
       "      <td>0.048002</td>\n",
       "      <td>...</td>\n",
       "      <td>-0.021225</td>\n",
       "      <td>1.000000</td>\n",
       "      <td>0.058707</td>\n",
       "      <td>0.000140</td>\n",
       "      <td>-0.034554</td>\n",
       "      <td>-0.046065</td>\n",
       "      <td>-0.663007</td>\n",
       "      <td>0.048866</td>\n",
       "      <td>-0.050464</td>\n",
       "      <td>0.002236</td>\n",
       "    </tr>\n",
       "    <tr>\n",
       "      <td>ratio_living</td>\n",
       "      <td>-0.060841</td>\n",
       "      <td>0.027626</td>\n",
       "      <td>-0.005408</td>\n",
       "      <td>0.076338</td>\n",
       "      <td>0.256502</td>\n",
       "      <td>0.086453</td>\n",
       "      <td>-0.245852</td>\n",
       "      <td>0.281763</td>\n",
       "      <td>-0.157165</td>\n",
       "      <td>0.012499</td>\n",
       "      <td>...</td>\n",
       "      <td>0.025823</td>\n",
       "      <td>0.058707</td>\n",
       "      <td>1.000000</td>\n",
       "      <td>-0.274123</td>\n",
       "      <td>-0.010937</td>\n",
       "      <td>-0.005739</td>\n",
       "      <td>-0.073855</td>\n",
       "      <td>0.707004</td>\n",
       "      <td>-0.357371</td>\n",
       "      <td>-0.120830</td>\n",
       "    </tr>\n",
       "    <tr>\n",
       "      <td>square_meter</td>\n",
       "      <td>-0.025768</td>\n",
       "      <td>0.159213</td>\n",
       "      <td>0.749651</td>\n",
       "      <td>0.191587</td>\n",
       "      <td>-0.106159</td>\n",
       "      <td>0.019193</td>\n",
       "      <td>0.203029</td>\n",
       "      <td>0.043378</td>\n",
       "      <td>0.197827</td>\n",
       "      <td>0.041655</td>\n",
       "      <td>...</td>\n",
       "      <td>-0.054818</td>\n",
       "      <td>0.000140</td>\n",
       "      <td>-0.274123</td>\n",
       "      <td>1.000000</td>\n",
       "      <td>0.026616</td>\n",
       "      <td>-0.004366</td>\n",
       "      <td>0.018315</td>\n",
       "      <td>-0.394710</td>\n",
       "      <td>0.276302</td>\n",
       "      <td>-0.030032</td>\n",
       "    </tr>\n",
       "    <tr>\n",
       "      <td>exposition_weekday</td>\n",
       "      <td>-0.010667</td>\n",
       "      <td>0.027551</td>\n",
       "      <td>0.042433</td>\n",
       "      <td>0.009444</td>\n",
       "      <td>-0.014966</td>\n",
       "      <td>-0.053133</td>\n",
       "      <td>0.013346</td>\n",
       "      <td>0.003259</td>\n",
       "      <td>0.042681</td>\n",
       "      <td>-0.075591</td>\n",
       "      <td>...</td>\n",
       "      <td>-0.038332</td>\n",
       "      <td>-0.034554</td>\n",
       "      <td>-0.010937</td>\n",
       "      <td>0.026616</td>\n",
       "      <td>1.000000</td>\n",
       "      <td>0.026678</td>\n",
       "      <td>-0.007514</td>\n",
       "      <td>-0.001323</td>\n",
       "      <td>0.007921</td>\n",
       "      <td>-0.051086</td>\n",
       "    </tr>\n",
       "    <tr>\n",
       "      <td>exposition_month</td>\n",
       "      <td>-0.012315</td>\n",
       "      <td>-0.006188</td>\n",
       "      <td>-0.009568</td>\n",
       "      <td>-0.039178</td>\n",
       "      <td>-0.047320</td>\n",
       "      <td>-0.010616</td>\n",
       "      <td>0.017660</td>\n",
       "      <td>-0.036923</td>\n",
       "      <td>0.022265</td>\n",
       "      <td>0.015017</td>\n",
       "      <td>...</td>\n",
       "      <td>0.054438</td>\n",
       "      <td>-0.046065</td>\n",
       "      <td>-0.005739</td>\n",
       "      <td>-0.004366</td>\n",
       "      <td>0.026678</td>\n",
       "      <td>1.000000</td>\n",
       "      <td>-0.183470</td>\n",
       "      <td>0.004644</td>\n",
       "      <td>-0.017910</td>\n",
       "      <td>-0.008301</td>\n",
       "    </tr>\n",
       "    <tr>\n",
       "      <td>exposition_year</td>\n",
       "      <td>0.033073</td>\n",
       "      <td>0.155350</td>\n",
       "      <td>-0.038414</td>\n",
       "      <td>-0.083240</td>\n",
       "      <td>-0.071386</td>\n",
       "      <td>0.026625</td>\n",
       "      <td>-0.024928</td>\n",
       "      <td>-0.092529</td>\n",
       "      <td>-0.052609</td>\n",
       "      <td>-0.014343</td>\n",
       "      <td>...</td>\n",
       "      <td>0.024611</td>\n",
       "      <td>-0.663007</td>\n",
       "      <td>-0.073855</td>\n",
       "      <td>0.018315</td>\n",
       "      <td>-0.007514</td>\n",
       "      <td>-0.183470</td>\n",
       "      <td>1.000000</td>\n",
       "      <td>-0.045551</td>\n",
       "      <td>0.060762</td>\n",
       "      <td>0.031759</td>\n",
       "    </tr>\n",
       "    <tr>\n",
       "      <td>ratio_living_area</td>\n",
       "      <td>-0.045955</td>\n",
       "      <td>-0.025186</td>\n",
       "      <td>0.001721</td>\n",
       "      <td>0.158862</td>\n",
       "      <td>0.418590</td>\n",
       "      <td>0.112713</td>\n",
       "      <td>-0.315244</td>\n",
       "      <td>0.434985</td>\n",
       "      <td>-0.206600</td>\n",
       "      <td>0.038903</td>\n",
       "      <td>...</td>\n",
       "      <td>-0.011756</td>\n",
       "      <td>0.048866</td>\n",
       "      <td>0.707004</td>\n",
       "      <td>-0.394710</td>\n",
       "      <td>-0.001323</td>\n",
       "      <td>0.004644</td>\n",
       "      <td>-0.045551</td>\n",
       "      <td>1.000000</td>\n",
       "      <td>-0.586916</td>\n",
       "      <td>-0.144818</td>\n",
       "    </tr>\n",
       "    <tr>\n",
       "      <td>ratio_kitchen_area</td>\n",
       "      <td>0.010767</td>\n",
       "      <td>0.044442</td>\n",
       "      <td>-0.104068</td>\n",
       "      <td>-0.355575</td>\n",
       "      <td>-0.476173</td>\n",
       "      <td>-0.072300</td>\n",
       "      <td>0.113585</td>\n",
       "      <td>-0.462587</td>\n",
       "      <td>0.017328</td>\n",
       "      <td>0.016890</td>\n",
       "      <td>...</td>\n",
       "      <td>0.017905</td>\n",
       "      <td>-0.050464</td>\n",
       "      <td>-0.357371</td>\n",
       "      <td>0.276302</td>\n",
       "      <td>0.007921</td>\n",
       "      <td>-0.017910</td>\n",
       "      <td>0.060762</td>\n",
       "      <td>-0.586916</td>\n",
       "      <td>1.000000</td>\n",
       "      <td>0.067133</td>\n",
       "    </tr>\n",
       "    <tr>\n",
       "      <td>cityCenters_km</td>\n",
       "      <td>0.044592</td>\n",
       "      <td>-0.029915</td>\n",
       "      <td>-0.078488</td>\n",
       "      <td>-0.059533</td>\n",
       "      <td>-0.084120</td>\n",
       "      <td>-0.110944</td>\n",
       "      <td>0.347679</td>\n",
       "      <td>-0.099932</td>\n",
       "      <td>0.230451</td>\n",
       "      <td>-0.054593</td>\n",
       "      <td>...</td>\n",
       "      <td>0.400173</td>\n",
       "      <td>0.002236</td>\n",
       "      <td>-0.120830</td>\n",
       "      <td>-0.030032</td>\n",
       "      <td>-0.051086</td>\n",
       "      <td>-0.008301</td>\n",
       "      <td>0.031759</td>\n",
       "      <td>-0.144818</td>\n",
       "      <td>0.067133</td>\n",
       "      <td>1.000000</td>\n",
       "    </tr>\n",
       "  </tbody>\n",
       "</table>\n",
       "<p>29 rows × 29 columns</p>\n",
       "</div>"
      ],
      "text/plain": [
       "                        index  total_images  last_price  total_area     rooms  \\\n",
       "index                1.000000     -0.007823   -0.022673   -0.031781 -0.024037   \n",
       "total_images        -0.007823      1.000000    0.138509    0.097995  0.035695   \n",
       "last_price          -0.022673      0.138509    1.000000    0.536393  0.268831   \n",
       "total_area          -0.031781      0.097995    0.536393    1.000000  0.757069   \n",
       "rooms               -0.024037      0.035695    0.268831    0.757069  1.000000   \n",
       "ceiling_height      -0.054434      0.098274    0.083033    0.201911  0.156140   \n",
       "floors_total         0.031223     -0.028090    0.060110    0.033264 -0.130464   \n",
       "living_area         -0.042652      0.075828    0.471809    0.938279  0.816658   \n",
       "floor               -0.014596     -0.010921    0.136024    0.143422 -0.014571   \n",
       "is_apartment        -0.031922     -0.009916    0.013576   -0.013357 -0.011408   \n",
       "studio                    NaN           NaN         NaN         NaN       NaN   \n",
       "open_plan            0.012917     -0.016236   -0.007205   -0.008892  0.011806   \n",
       "kitchen_area        -0.018450      0.144483    0.319527    0.547708  0.286216   \n",
       "balcony              0.046797      0.003241    0.118194    0.062188 -0.061462   \n",
       "airports_nearest    -0.002513      0.008704    0.032776    0.007393 -0.026207   \n",
       "cityCenters_nearest  0.043473     -0.031132   -0.075239   -0.054148 -0.081076   \n",
       "parks_around3000    -0.021243      0.060963    0.075793    0.076691  0.082066   \n",
       "parks_nearest        0.008377     -0.001391    0.027777    0.014229 -0.038370   \n",
       "ponds_around3000     0.008364     -0.001314    0.027877    0.014314 -0.038243   \n",
       "ponds_nearest       -0.048739      0.028028   -0.031505   -0.010533 -0.003424   \n",
       "days_exposition     -0.004495     -0.043212    0.042752    0.123473  0.134732   \n",
       "ratio_living        -0.060841      0.027626   -0.005408    0.076338  0.256502   \n",
       "square_meter        -0.025768      0.159213    0.749651    0.191587 -0.106159   \n",
       "exposition_weekday  -0.010667      0.027551    0.042433    0.009444 -0.014966   \n",
       "exposition_month    -0.012315     -0.006188   -0.009568   -0.039178 -0.047320   \n",
       "exposition_year      0.033073      0.155350   -0.038414   -0.083240 -0.071386   \n",
       "ratio_living_area   -0.045955     -0.025186    0.001721    0.158862  0.418590   \n",
       "ratio_kitchen_area   0.010767      0.044442   -0.104068   -0.355575 -0.476173   \n",
       "cityCenters_km       0.044592     -0.029915   -0.078488   -0.059533 -0.084120   \n",
       "\n",
       "                     ceiling_height  floors_total  living_area     floor  \\\n",
       "index                     -0.054434      0.031223    -0.042652 -0.014596   \n",
       "total_images               0.098274     -0.028090     0.075828 -0.010921   \n",
       "last_price                 0.083033      0.060110     0.471809  0.136024   \n",
       "total_area                 0.201911      0.033264     0.938279  0.143422   \n",
       "rooms                      0.156140     -0.130464     0.816658 -0.014571   \n",
       "ceiling_height             1.000000     -0.203135     0.221413 -0.121466   \n",
       "floors_total              -0.203135      1.000000    -0.073883  0.661711   \n",
       "living_area                0.221413     -0.073883     1.000000  0.044173   \n",
       "floor                     -0.121466      0.661711     0.044173  1.000000   \n",
       "is_apartment               0.019086     -0.010230    -0.003929 -0.005243   \n",
       "studio                          NaN           NaN          NaN       NaN   \n",
       "open_plan                  0.018136     -0.013292     0.002964 -0.022806   \n",
       "kitchen_area               0.119654      0.072378     0.413723  0.112314   \n",
       "balcony                   -0.059579      0.435127     0.008053  0.333230   \n",
       "airports_nearest           0.016404     -0.023528    -0.012041 -0.014340   \n",
       "cityCenters_nearest       -0.118332      0.355697    -0.091506  0.235131   \n",
       "parks_around3000           0.109833     -0.278944     0.103664 -0.191924   \n",
       "parks_nearest              0.009213      0.111540    -0.022024  0.084832   \n",
       "ponds_around3000           0.009360      0.111120    -0.021914  0.084543   \n",
       "ponds_nearest             -0.043910      0.090969    -0.007696  0.040308   \n",
       "days_exposition            0.075590      0.016463     0.126687  0.030712   \n",
       "ratio_living               0.086453     -0.245852     0.281763 -0.157165   \n",
       "square_meter               0.019193      0.203029     0.043378  0.197827   \n",
       "exposition_weekday        -0.053133      0.013346     0.003259  0.042681   \n",
       "exposition_month          -0.010616      0.017660    -0.036923  0.022265   \n",
       "exposition_year            0.026625     -0.024928    -0.092529 -0.052609   \n",
       "ratio_living_area          0.112713     -0.315244     0.434985 -0.206600   \n",
       "ratio_kitchen_area        -0.072300      0.113585    -0.462587  0.017328   \n",
       "cityCenters_km            -0.110944      0.347679    -0.099932  0.230451   \n",
       "\n",
       "                     is_apartment  ...  ponds_nearest  days_exposition  \\\n",
       "index                   -0.031922  ...      -0.048739        -0.004495   \n",
       "total_images            -0.009916  ...       0.028028        -0.043212   \n",
       "last_price               0.013576  ...      -0.031505         0.042752   \n",
       "total_area              -0.013357  ...      -0.010533         0.123473   \n",
       "rooms                   -0.011408  ...      -0.003424         0.134732   \n",
       "ceiling_height           0.019086  ...      -0.043910         0.075590   \n",
       "floors_total            -0.010230  ...       0.090969         0.016463   \n",
       "living_area             -0.003929  ...      -0.007696         0.126687   \n",
       "floor                   -0.005243  ...       0.040308         0.030712   \n",
       "is_apartment             1.000000  ...      -0.011440         0.048002   \n",
       "studio                        NaN  ...            NaN              NaN   \n",
       "open_plan               -0.002398  ...      -0.013795        -0.012356   \n",
       "kitchen_area             0.003557  ...      -0.001191         0.075714   \n",
       "balcony                  0.026331  ...       0.009287         0.022388   \n",
       "airports_nearest         0.022881  ...       0.090863         0.035218   \n",
       "cityCenters_nearest     -0.056562  ...       0.409028         0.001614   \n",
       "parks_around3000         0.055887  ...      -0.252873         0.015413   \n",
       "parks_nearest           -0.041302  ...      -0.022767        -0.027028   \n",
       "ponds_around3000        -0.041263  ...      -0.023124        -0.027009   \n",
       "ponds_nearest           -0.011440  ...       1.000000        -0.021225   \n",
       "days_exposition          0.048002  ...      -0.021225         1.000000   \n",
       "ratio_living             0.012499  ...       0.025823         0.058707   \n",
       "square_meter             0.041655  ...      -0.054818         0.000140   \n",
       "exposition_weekday      -0.075591  ...      -0.038332        -0.034554   \n",
       "exposition_month         0.015017  ...       0.054438        -0.046065   \n",
       "exposition_year         -0.014343  ...       0.024611        -0.663007   \n",
       "ratio_living_area        0.038903  ...      -0.011756         0.048866   \n",
       "ratio_kitchen_area       0.016890  ...       0.017905        -0.050464   \n",
       "cityCenters_km          -0.054593  ...       0.400173         0.002236   \n",
       "\n",
       "                     ratio_living  square_meter  exposition_weekday  \\\n",
       "index                   -0.060841     -0.025768           -0.010667   \n",
       "total_images             0.027626      0.159213            0.027551   \n",
       "last_price              -0.005408      0.749651            0.042433   \n",
       "total_area               0.076338      0.191587            0.009444   \n",
       "rooms                    0.256502     -0.106159           -0.014966   \n",
       "ceiling_height           0.086453      0.019193           -0.053133   \n",
       "floors_total            -0.245852      0.203029            0.013346   \n",
       "living_area              0.281763      0.043378            0.003259   \n",
       "floor                   -0.157165      0.197827            0.042681   \n",
       "is_apartment             0.012499      0.041655           -0.075591   \n",
       "studio                        NaN           NaN                 NaN   \n",
       "open_plan                0.035193     -0.019718           -0.000078   \n",
       "kitchen_area            -0.185201      0.348986           -0.010865   \n",
       "balcony                 -0.107724      0.173871           -0.001593   \n",
       "airports_nearest        -0.097599      0.093178           -0.014356   \n",
       "cityCenters_nearest     -0.114231     -0.033703           -0.046500   \n",
       "parks_around3000         0.059380      0.043508           -0.017150   \n",
       "parks_nearest           -0.084316      0.086345           -0.011018   \n",
       "ponds_around3000        -0.084260      0.086394           -0.011019   \n",
       "ponds_nearest            0.025823     -0.054818           -0.038332   \n",
       "days_exposition          0.058707      0.000140           -0.034554   \n",
       "ratio_living             1.000000     -0.274123           -0.010937   \n",
       "square_meter            -0.274123      1.000000            0.026616   \n",
       "exposition_weekday      -0.010937      0.026616            1.000000   \n",
       "exposition_month        -0.005739     -0.004366            0.026678   \n",
       "exposition_year         -0.073855      0.018315           -0.007514   \n",
       "ratio_living_area        0.707004     -0.394710           -0.001323   \n",
       "ratio_kitchen_area      -0.357371      0.276302            0.007921   \n",
       "cityCenters_km          -0.120830     -0.030032           -0.051086   \n",
       "\n",
       "                     exposition_month  exposition_year  ratio_living_area  \\\n",
       "index                       -0.012315         0.033073          -0.045955   \n",
       "total_images                -0.006188         0.155350          -0.025186   \n",
       "last_price                  -0.009568        -0.038414           0.001721   \n",
       "total_area                  -0.039178        -0.083240           0.158862   \n",
       "rooms                       -0.047320        -0.071386           0.418590   \n",
       "ceiling_height              -0.010616         0.026625           0.112713   \n",
       "floors_total                 0.017660        -0.024928          -0.315244   \n",
       "living_area                 -0.036923        -0.092529           0.434985   \n",
       "floor                        0.022265        -0.052609          -0.206600   \n",
       "is_apartment                 0.015017        -0.014343           0.038903   \n",
       "studio                            NaN              NaN                NaN   \n",
       "open_plan                    0.008733        -0.048258           0.048342   \n",
       "kitchen_area                -0.058197        -0.019708          -0.274024   \n",
       "balcony                     -0.016550        -0.052189          -0.160152   \n",
       "airports_nearest            -0.025800         0.018981          -0.063328   \n",
       "cityCenters_nearest         -0.010382         0.028722          -0.136489   \n",
       "parks_around3000            -0.008217        -0.011407           0.106882   \n",
       "parks_nearest                0.003894         0.010268          -0.099630   \n",
       "ponds_around3000             0.003869         0.010290          -0.099500   \n",
       "ponds_nearest                0.054438         0.024611          -0.011756   \n",
       "days_exposition             -0.046065        -0.663007           0.048866   \n",
       "ratio_living                -0.005739        -0.073855           0.707004   \n",
       "square_meter                -0.004366         0.018315          -0.394710   \n",
       "exposition_weekday           0.026678        -0.007514          -0.001323   \n",
       "exposition_month             1.000000        -0.183470           0.004644   \n",
       "exposition_year             -0.183470         1.000000          -0.045551   \n",
       "ratio_living_area            0.004644        -0.045551           1.000000   \n",
       "ratio_kitchen_area          -0.017910         0.060762          -0.586916   \n",
       "cityCenters_km              -0.008301         0.031759          -0.144818   \n",
       "\n",
       "                     ratio_kitchen_area  cityCenters_km  \n",
       "index                          0.010767        0.044592  \n",
       "total_images                   0.044442       -0.029915  \n",
       "last_price                    -0.104068       -0.078488  \n",
       "total_area                    -0.355575       -0.059533  \n",
       "rooms                         -0.476173       -0.084120  \n",
       "ceiling_height                -0.072300       -0.110944  \n",
       "floors_total                   0.113585        0.347679  \n",
       "living_area                   -0.462587       -0.099932  \n",
       "floor                          0.017328        0.230451  \n",
       "is_apartment                   0.016890       -0.054593  \n",
       "studio                              NaN             NaN  \n",
       "open_plan                      0.003251        0.001677  \n",
       "kitchen_area                   0.458244       -0.017825  \n",
       "balcony                        0.081850        0.169174  \n",
       "airports_nearest               0.068616        0.357407  \n",
       "cityCenters_nearest            0.064575        0.974041  \n",
       "parks_around3000              -0.029321       -0.378997  \n",
       "parks_nearest                  0.044718        0.147804  \n",
       "ponds_around3000               0.044686        0.147531  \n",
       "ponds_nearest                  0.017905        0.400173  \n",
       "days_exposition               -0.050464        0.002236  \n",
       "ratio_living                  -0.357371       -0.120830  \n",
       "square_meter                   0.276302       -0.030032  \n",
       "exposition_weekday             0.007921       -0.051086  \n",
       "exposition_month              -0.017910       -0.008301  \n",
       "exposition_year                0.060762        0.031759  \n",
       "ratio_living_area             -0.586916       -0.144818  \n",
       "ratio_kitchen_area             1.000000        0.067133  \n",
       "cityCenters_km                 0.067133        1.000000  \n",
       "\n",
       "[29 rows x 29 columns]"
      ]
     },
     "execution_count": 137,
     "metadata": {},
     "output_type": "execute_result"
    }
   ],
   "source": [
    "sp_ads_center.corr()"
   ]
  },
  {
   "cell_type": "code",
   "execution_count": 138,
   "metadata": {
    "scrolled": true
   },
   "outputs": [
    {
     "data": {
      "image/png": "[encoded data removed]",
      "text/plain": [
       "<Figure size 432x288 with 16 Axes>"
      ]
     },
     "metadata": {
      "needs_background": "light"
     },
     "output_type": "display_data"
    }
   ],
   "source": [
    "sp_ads_center_research = sp_ads_center.loc[:, ['last_price', 'total_area', 'rooms', 'cityCenters_nearest']]\n",
    "pd.plotting.scatter_matrix(sp_ads_center_research)\n",
    "plt.show()"
   ]
  },
  {
   "cell_type": "code",
   "execution_count": 139,
   "metadata": {},
   "outputs": [
    {
     "data": {
      "text/html": [
       "<div>\n",
       "<style scoped>\n",
       "    .dataframe tbody tr th:only-of-type {\n",
       "        vertical-align: middle;\n",
       "    }\n",
       "\n",
       "    .dataframe tbody tr th {\n",
       "        vertical-align: top;\n",
       "    }\n",
       "\n",
       "    .dataframe thead th {\n",
       "        text-align: right;\n",
       "    }\n",
       "</style>\n",
       "<table border=\"1\" class=\"dataframe\">\n",
       "  <thead>\n",
       "    <tr style=\"text-align: right;\">\n",
       "      <th></th>\n",
       "      <th>last_price</th>\n",
       "      <th>total_area</th>\n",
       "      <th>rooms</th>\n",
       "      <th>cityCenters_nearest</th>\n",
       "    </tr>\n",
       "  </thead>\n",
       "  <tbody>\n",
       "    <tr>\n",
       "      <td>last_price</td>\n",
       "      <td>1.000000</td>\n",
       "      <td>0.536393</td>\n",
       "      <td>0.268831</td>\n",
       "      <td>-0.075239</td>\n",
       "    </tr>\n",
       "    <tr>\n",
       "      <td>total_area</td>\n",
       "      <td>0.536393</td>\n",
       "      <td>1.000000</td>\n",
       "      <td>0.757069</td>\n",
       "      <td>-0.054148</td>\n",
       "    </tr>\n",
       "    <tr>\n",
       "      <td>rooms</td>\n",
       "      <td>0.268831</td>\n",
       "      <td>0.757069</td>\n",
       "      <td>1.000000</td>\n",
       "      <td>-0.081076</td>\n",
       "    </tr>\n",
       "    <tr>\n",
       "      <td>cityCenters_nearest</td>\n",
       "      <td>-0.075239</td>\n",
       "      <td>-0.054148</td>\n",
       "      <td>-0.081076</td>\n",
       "      <td>1.000000</td>\n",
       "    </tr>\n",
       "  </tbody>\n",
       "</table>\n",
       "</div>"
      ],
      "text/plain": [
       "                     last_price  total_area     rooms  cityCenters_nearest\n",
       "last_price             1.000000    0.536393  0.268831            -0.075239\n",
       "total_area             0.536393    1.000000  0.757069            -0.054148\n",
       "rooms                  0.268831    0.757069  1.000000            -0.081076\n",
       "cityCenters_nearest   -0.075239   -0.054148 -0.081076             1.000000"
      ]
     },
     "execution_count": 139,
     "metadata": {},
     "output_type": "execute_result"
    }
   ],
   "source": [
    "# Матрица корреляции для центра Санкт-Петербурга \n",
    "sp_ads_center_research.corr()"
   ]
  },
  {
   "cell_type": "code",
   "execution_count": 140,
   "metadata": {},
   "outputs": [
    {
     "data": {
      "text/html": [
       "<div>\n",
       "<style scoped>\n",
       "    .dataframe tbody tr th:only-of-type {\n",
       "        vertical-align: middle;\n",
       "    }\n",
       "\n",
       "    .dataframe tbody tr th {\n",
       "        vertical-align: top;\n",
       "    }\n",
       "\n",
       "    .dataframe thead th {\n",
       "        text-align: right;\n",
       "    }\n",
       "</style>\n",
       "<table border=\"1\" class=\"dataframe\">\n",
       "  <thead>\n",
       "    <tr style=\"text-align: right;\">\n",
       "      <th></th>\n",
       "      <th>last_price</th>\n",
       "      <th>total_area</th>\n",
       "      <th>rooms</th>\n",
       "      <th>cityCenters_nearest</th>\n",
       "    </tr>\n",
       "  </thead>\n",
       "  <tbody>\n",
       "    <tr>\n",
       "      <td>last_price</td>\n",
       "      <td>1.000000</td>\n",
       "      <td>0.649255</td>\n",
       "      <td>0.365193</td>\n",
       "      <td>-0.242797</td>\n",
       "    </tr>\n",
       "    <tr>\n",
       "      <td>total_area</td>\n",
       "      <td>0.649255</td>\n",
       "      <td>1.000000</td>\n",
       "      <td>0.761095</td>\n",
       "      <td>-0.335797</td>\n",
       "    </tr>\n",
       "    <tr>\n",
       "      <td>rooms</td>\n",
       "      <td>0.365193</td>\n",
       "      <td>0.761095</td>\n",
       "      <td>1.000000</td>\n",
       "      <td>-0.294481</td>\n",
       "    </tr>\n",
       "    <tr>\n",
       "      <td>cityCenters_nearest</td>\n",
       "      <td>-0.242797</td>\n",
       "      <td>-0.335797</td>\n",
       "      <td>-0.294481</td>\n",
       "      <td>1.000000</td>\n",
       "    </tr>\n",
       "  </tbody>\n",
       "</table>\n",
       "</div>"
      ],
      "text/plain": [
       "                     last_price  total_area     rooms  cityCenters_nearest\n",
       "last_price             1.000000    0.649255  0.365193            -0.242797\n",
       "total_area             0.649255    1.000000  0.761095            -0.335797\n",
       "rooms                  0.365193    0.761095  1.000000            -0.294481\n",
       "cityCenters_nearest   -0.242797   -0.335797 -0.294481             1.000000"
      ]
     },
     "execution_count": 140,
     "metadata": {},
     "output_type": "execute_result"
    }
   ],
   "source": [
    "# Матрица корреляции для всего Санкт-Петербурга \n",
    "sp_ads_research = sp_ads.loc[:, ['last_price', 'total_area', 'rooms', 'cityCenters_nearest']]\n",
    "sp_ads_research.corr()"
   ]
  },
  {
   "cell_type": "markdown",
   "metadata": {},
   "source": [
    "Как мы можем заметить по матрицам корреляции зависимость в таблице `sp_ads_center_research` от расстояния до центра практически стало нулевым, следовательно мы верно выбрали область центра Санкт-Петербурга.  \n",
    "\n",
    "Параметры размера общей площади и количество комнат стал чуть меньше влиять на стоимость для центра Санкт-Петербурга.  \n",
    "\n"
   ]
  },
  {
   "cell_type": "code",
   "execution_count": 141,
   "metadata": {},
   "outputs": [
    {
     "data": {
      "text/html": [
       "<div>\n",
       "<style scoped>\n",
       "    .dataframe tbody tr th:only-of-type {\n",
       "        vertical-align: middle;\n",
       "    }\n",
       "\n",
       "    .dataframe tbody tr th {\n",
       "        vertical-align: top;\n",
       "    }\n",
       "\n",
       "    .dataframe thead th {\n",
       "        text-align: right;\n",
       "    }\n",
       "</style>\n",
       "<table border=\"1\" class=\"dataframe\">\n",
       "  <thead>\n",
       "    <tr style=\"text-align: right;\">\n",
       "      <th></th>\n",
       "      <th>median</th>\n",
       "      <th>min</th>\n",
       "      <th>max</th>\n",
       "    </tr>\n",
       "    <tr>\n",
       "      <th>floor_type</th>\n",
       "      <th></th>\n",
       "      <th></th>\n",
       "      <th></th>\n",
       "    </tr>\n",
       "  </thead>\n",
       "  <tbody>\n",
       "    <tr>\n",
       "      <td>другой</td>\n",
       "      <td>9900000.0</td>\n",
       "      <td>2200000.0</td>\n",
       "      <td>330000000.0</td>\n",
       "    </tr>\n",
       "    <tr>\n",
       "      <td>последний</td>\n",
       "      <td>9000000.0</td>\n",
       "      <td>3599000.0</td>\n",
       "      <td>763000000.0</td>\n",
       "    </tr>\n",
       "    <tr>\n",
       "      <td>первый</td>\n",
       "      <td>6800000.0</td>\n",
       "      <td>1600000.0</td>\n",
       "      <td>49900000.0</td>\n",
       "    </tr>\n",
       "  </tbody>\n",
       "</table>\n",
       "</div>"
      ],
      "text/plain": [
       "               median        min          max\n",
       "floor_type                                   \n",
       "другой      9900000.0  2200000.0  330000000.0\n",
       "последний   9000000.0  3599000.0  763000000.0\n",
       "первый      6800000.0  1600000.0   49900000.0"
      ]
     },
     "execution_count": 141,
     "metadata": {},
     "output_type": "execute_result"
    }
   ],
   "source": [
    "sp_ads_center_rooms = sp_ads_center.groupby('floor_type')['last_price'].agg(['median', 'min', 'max']).sort_values(by='median', ascending=False)\n",
    "sp_ads_center_rooms"
   ]
  },
  {
   "cell_type": "markdown",
   "metadata": {},
   "source": [
    "Как и для первоначального DataFrame, в центре самые дешевые квартиры находятся на первых этажах. Никто не любит, чтобы ему заглядывали в окна."
   ]
  },
  {
   "cell_type": "code",
   "execution_count": 142,
   "metadata": {},
   "outputs": [
    {
     "data": {
      "text/html": [
       "<div>\n",
       "<style scoped>\n",
       "    .dataframe tbody tr th:only-of-type {\n",
       "        vertical-align: middle;\n",
       "    }\n",
       "\n",
       "    .dataframe tbody tr th {\n",
       "        vertical-align: top;\n",
       "    }\n",
       "\n",
       "    .dataframe thead th {\n",
       "        text-align: right;\n",
       "    }\n",
       "</style>\n",
       "<table border=\"1\" class=\"dataframe\">\n",
       "  <thead>\n",
       "    <tr style=\"text-align: right;\">\n",
       "      <th></th>\n",
       "      <th>count</th>\n",
       "      <th>max</th>\n",
       "      <th>median</th>\n",
       "    </tr>\n",
       "    <tr>\n",
       "      <th>exposition_weekday</th>\n",
       "      <th></th>\n",
       "      <th></th>\n",
       "      <th></th>\n",
       "    </tr>\n",
       "  </thead>\n",
       "  <tbody>\n",
       "    <tr>\n",
       "      <td>0</td>\n",
       "      <td>256</td>\n",
       "      <td>160000000.0</td>\n",
       "      <td>9325000.0</td>\n",
       "    </tr>\n",
       "    <tr>\n",
       "      <td>1</td>\n",
       "      <td>292</td>\n",
       "      <td>159000000.0</td>\n",
       "      <td>9625000.0</td>\n",
       "    </tr>\n",
       "    <tr>\n",
       "      <td>2</td>\n",
       "      <td>274</td>\n",
       "      <td>330000000.0</td>\n",
       "      <td>9375000.0</td>\n",
       "    </tr>\n",
       "    <tr>\n",
       "      <td>3</td>\n",
       "      <td>371</td>\n",
       "      <td>159984000.0</td>\n",
       "      <td>9450000.0</td>\n",
       "    </tr>\n",
       "    <tr>\n",
       "      <td>4</td>\n",
       "      <td>266</td>\n",
       "      <td>140000000.0</td>\n",
       "      <td>8850000.0</td>\n",
       "    </tr>\n",
       "    <tr>\n",
       "      <td>5</td>\n",
       "      <td>112</td>\n",
       "      <td>763000000.0</td>\n",
       "      <td>8500000.0</td>\n",
       "    </tr>\n",
       "    <tr>\n",
       "      <td>6</td>\n",
       "      <td>102</td>\n",
       "      <td>130000000.0</td>\n",
       "      <td>9700000.0</td>\n",
       "    </tr>\n",
       "  </tbody>\n",
       "</table>\n",
       "</div>"
      ],
      "text/plain": [
       "                    count          max     median\n",
       "exposition_weekday                               \n",
       "0                     256  160000000.0  9325000.0\n",
       "1                     292  159000000.0  9625000.0\n",
       "2                     274  330000000.0  9375000.0\n",
       "3                     371  159984000.0  9450000.0\n",
       "4                     266  140000000.0  8850000.0\n",
       "5                     112  763000000.0  8500000.0\n",
       "6                     102  130000000.0  9700000.0"
      ]
     },
     "execution_count": 142,
     "metadata": {},
     "output_type": "execute_result"
    }
   ],
   "source": [
    "sp_ads_center.pivot_table(index='exposition_weekday', values='last_price', aggfunc = {'count', 'median', 'max'})"
   ]
  },
  {
   "cell_type": "markdown",
   "metadata": {},
   "source": [
    "Количество объявлений с понедельника по пятницу, больше, чем для выходных. Это соответствует полученным ранее выводам.  \n",
    "\n",
    "В среднем стоимость квартир выставленных в пт и субботу ниже, чем в дргуие дни."
   ]
  },
  {
   "cell_type": "code",
   "execution_count": 143,
   "metadata": {},
   "outputs": [
    {
     "data": {
      "image/png": "[encoded data removed]",
      "text/plain": [
       "<Figure size 432x288 with 1 Axes>"
      ]
     },
     "metadata": {
      "needs_background": "light"
     },
     "output_type": "display_data"
    }
   ],
   "source": [
    "sp_ads_center.hist('exposition_month', bins=12);"
   ]
  },
  {
   "cell_type": "markdown",
   "metadata": {},
   "source": [
    "В среднем цены выше в сентябре и феврале, а чаще всего в центре публикуют объявления о продаже квартиры в феврале и ноябре. "
   ]
  },
  {
   "cell_type": "code",
   "execution_count": 144,
   "metadata": {},
   "outputs": [
    {
     "data": {
      "text/html": [
       "<div>\n",
       "<style scoped>\n",
       "    .dataframe tbody tr th:only-of-type {\n",
       "        vertical-align: middle;\n",
       "    }\n",
       "\n",
       "    .dataframe tbody tr th {\n",
       "        vertical-align: top;\n",
       "    }\n",
       "\n",
       "    .dataframe thead th {\n",
       "        text-align: right;\n",
       "    }\n",
       "</style>\n",
       "<table border=\"1\" class=\"dataframe\">\n",
       "  <thead>\n",
       "    <tr style=\"text-align: right;\">\n",
       "      <th></th>\n",
       "      <th>count</th>\n",
       "      <th>max</th>\n",
       "      <th>median</th>\n",
       "    </tr>\n",
       "    <tr>\n",
       "      <th>exposition_year</th>\n",
       "      <th></th>\n",
       "      <th></th>\n",
       "      <th></th>\n",
       "    </tr>\n",
       "  </thead>\n",
       "  <tbody>\n",
       "    <tr>\n",
       "      <td>2014</td>\n",
       "      <td>17</td>\n",
       "      <td>79339000.0</td>\n",
       "      <td>19800000.0</td>\n",
       "    </tr>\n",
       "    <tr>\n",
       "      <td>2015</td>\n",
       "      <td>176</td>\n",
       "      <td>180000000.0</td>\n",
       "      <td>9990000.0</td>\n",
       "    </tr>\n",
       "    <tr>\n",
       "      <td>2016</td>\n",
       "      <td>261</td>\n",
       "      <td>401300000.0</td>\n",
       "      <td>9500000.0</td>\n",
       "    </tr>\n",
       "    <tr>\n",
       "      <td>2017</td>\n",
       "      <td>672</td>\n",
       "      <td>763000000.0</td>\n",
       "      <td>9000000.0</td>\n",
       "    </tr>\n",
       "    <tr>\n",
       "      <td>2018</td>\n",
       "      <td>484</td>\n",
       "      <td>330000000.0</td>\n",
       "      <td>9235000.0</td>\n",
       "    </tr>\n",
       "    <tr>\n",
       "      <td>2019</td>\n",
       "      <td>63</td>\n",
       "      <td>95000000.0</td>\n",
       "      <td>8840000.0</td>\n",
       "    </tr>\n",
       "  </tbody>\n",
       "</table>\n",
       "</div>"
      ],
      "text/plain": [
       "                 count          max      median\n",
       "exposition_year                                \n",
       "2014                17   79339000.0  19800000.0\n",
       "2015               176  180000000.0   9990000.0\n",
       "2016               261  401300000.0   9500000.0\n",
       "2017               672  763000000.0   9000000.0\n",
       "2018               484  330000000.0   9235000.0\n",
       "2019                63   95000000.0   8840000.0"
      ]
     },
     "execution_count": 144,
     "metadata": {},
     "output_type": "execute_result"
    }
   ],
   "source": [
    "sp_ads_center.pivot_table(index='exposition_year', values='last_price', aggfunc = {'count', 'median', 'max'})"
   ]
  },
  {
   "cell_type": "markdown",
   "metadata": {},
   "source": [
    "В центре наблюдается аналогичное уменьшение количества объявлений с 2017 года, а также уменьшение средней стоимости квартир выставленных на продажу."
   ]
  },
  {
   "cell_type": "markdown",
   "metadata": {},
   "source": [
    "### Шаг 5. Общий вывод"
   ]
  },
  {
   "cell_type": "markdown",
   "metadata": {},
   "source": [
    "#### Предобработка данных\n",
    "Подводя итог, хотелось бы в первую очередь обратить внимание на то, что в таблице пропущенно достаточно большое количество значений. Требуется выяснить причины возникновения пропусков и по возможности дополнить таблицу реальными значениями. Это в целом благоприятно повлияет на проведение анализа данных.\n",
    "\n",
    "Основные методы и способы использованные при заполнении пропусков:\n",
    "- медиана,\n",
    "- медианой для групп данных,\n",
    "- нулевым значением,\n",
    "- булев типом.\n",
    "\n",
    "В пердобработке данных были выявлены ошибочные форматы переменных, они были изменены для дальнейшей работы с ними: first_day_exposition, floors_total, balcony, parks_around3000, ponds_around3000, days_exposition.\n",
    "\n",
    "#### Добавлены новые столбцы\n",
    "Для более точного анализа были добавлены и вычислены следующие значения стоимость квадратного метра `['square_meter']`, соотношение жилой и общей площади `[ratio_living_area]`, отношение площади кухни к общей `[ratio_kitchen_area]`.\n",
    "\n",
    "Методом `to_datetime` к столбцу `['first_day_exposition']` вычеслили временные значения день недели, месяц, год публикации объявления и дополнили таблицу.\n",
    "\n",
    "Присвоили этажам следующие значения и создали столбец `[floor_type]`, варианты — первый, последний, другой.\n",
    "\n",
    "#### Результаты анализа данных\n",
    "\n",
    "***Основные факторы*** влияющие на стоимость жилья:\n",
    "    - общая площадь,\n",
    "    - количество комнат,\n",
    "    - высота потолков,\n",
    "    - жилая площадь,\n",
    "    - площадь кухни.\n",
    "    - удаленность от центра.\n",
    "\n",
    "Выявлены выбросы в столбцах: *last_price, rooms, ceiling_height, floors_total, living_area, kitchen_area, days_exposition*.\n",
    "\n",
    "Основные характеристики объявлений:\n",
    "1. В основном продаются квартиры до ***100 м2***\n",
    "2. Основная стоимость квартир варируется в пределах до ***10 млн. руб***\n",
    "3. В среднем высота потолков состовляет ***2,7 м***\n",
    "4. Продажу до ***45 дней*** можно назвать очень быстрой, а продажу более ***199 дней*** очень долгой\n",
    "5. Чаще всего объявлению публикуются в ***будни***\n",
    "6. Чаще всего публикуют объявления о продаже квартиры в ***феврале и ноябре***\n",
    "7. До ***2017 года*** наблюдался значительный ***рост*** подачи объявлений о продаже недвижимости, далее происходит уменьшение количества объявлений\n",
    "\n",
    "\n",
    "***Топ-10 городов*** с наибольшим количеством объявлений: Санкт-Петербург, посёлок Мурино, посёлок Шушары, Всеволожск, Колпино, Пушкин, посёлок Парголово, деревня Кудрово, Гатчина, Выборг.  \n",
    "\n",
    "Самая высокая стоимость квадратного метра недвижимости, количество объявлений и самая высокая цена на квартиры в ***Санкт-Петербурге***. Меньше всего объявлений, самая низкая цена за м.кв. и объявление с самой дешевой квартирой в ***Выборге***.\n",
    "\n",
    "\n",
    "Анализируя объявления в Санкт-Петербурге была выделена зона ***центра города равная 4 км***.  \n",
    "\n",
    "Проведя анализ данных по **центру Санкт-Петербурга** были сделаны следующие выводы:  \n",
    "\n",
    "1. В центре Санкт-Петербурга увеличивается средняя площадь продаваемых квартир  \n",
    "2. Средняя цена на жилье в центре Санкт-Петербурга почти в два раза выше, чем по всему городу в целом \n",
    "3. В центре города в основном квартиры двух- и трехкомнатные, а в целом по городу одно- и двухкомнатные  \n",
    "4. Количество однокомнатных квартир в центре ~11%, а в остальной части города ~32%\n",
    "5. Высота потолков в центре города выше, а доля потолков выше трех метров составляет порядка 50%\n",
    "6. В центре Санкт-Петербурга размер общей площади и количество комнат чуть меньше влиять на стоимость\n",
    "7. В центре самые дешевые квартиры находятся на первых этажах, также как и для других объявлений\n",
    "8. Количество объявлений в будни, больше, чем для выходных\n",
    "9. В среднем стоимость квартир выставленных в пт и субботу ниже, чем в дргуие дни\n",
    "10. В среднем цены выше в сентябре и феврале\n",
    "11. Чаще всего в центре публикуют объявления о продаже квартир в феврале и ноябре, также как и для других объявлений\n",
    "12. В центре наблюдается уменьшение количества объявлений с 2017 года, а также уменьшение средней стоимости квартир выставленных на продажу, также как и для других объявлений  \n",
    "\n",
    "\n",
    "**Рекомендации для ресурсов публикации объявлений:**\n",
    "1. Минимизировать количество пропущенных значений, путем требования заполнения всех метрик объявлений, для уменьшения возможных мошеннеческих действий.\n",
    "2. Актуализировать список населенных пунктов.\n",
    "3. Валидация заполненных форм объявления перед публикацией(например, сравнение значений поданного объявления по адресу дома с базой данных имеющихся объявлений)."
   ]
  }
 ],
 "metadata": {
  "kernelspec": {
   "display_name": "Python 3",
   "language": "python",
   "name": "python3"
  },
  "language_info": {
   "codemirror_mode": {
    "name": "ipython",
    "version": 3
   },
   "file_extension": ".py",
   "mimetype": "text/x-python",
   "name": "python",
   "nbconvert_exporter": "python",
   "pygments_lexer": "ipython3",
   "version": "3.7.8"
  },
  "toc": {
   "base_numbering": 1,
   "nav_menu": {},
   "number_sections": true,
   "sideBar": true,
   "skip_h1_title": false,
   "title_cell": "Table of Contents",
   "title_sidebar": "Contents",
   "toc_cell": false,
   "toc_position": {
    "height": "calc(100% - 180px)",
    "left": "10px",
    "top": "150px",
    "width": "286.237px"
   },
   "toc_section_display": true,
   "toc_window_display": true
  }
 },
 "nbformat": 4,
 "nbformat_minor": 2
}
