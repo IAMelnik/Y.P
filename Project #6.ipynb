{
 "cells": [
  {
   "cell_type": "markdown",
   "metadata": {},
   "source": [
    "# Рекомендация тарифов"
   ]
  },
  {
   "cell_type": "markdown",
   "metadata": {},
   "source": [
    "Оператор мобильной связи «Мегалайн» выяснил: многие клиенты пользуются архивными тарифами. Они хотят построить систему, способную проанализировать поведение клиентов и предложить пользователям новый тариф: «Смарт» или «Ультра»."
   ]
  },
  {
   "cell_type": "markdown",
   "metadata": {},
   "source": [
    "В вашем распоряжении данные о поведении клиентов, которые уже перешли на эти тарифы (из проекта курса «Статистический анализ данных»). Нужно построить модель для задачи классификации, которая выберет подходящий тариф. Предобработка данных не понадобится — вы её уже сделали.\n",
    "\n",
    "Постройте модель с максимально большим значением *accuracy*. Чтобы сдать проект успешно, нужно довести долю правильных ответов по крайней мере до 0.75. Проверьте *accuracy* на тестовой выборке самостоятельно."
   ]
  },
  {
   "cell_type": "markdown",
   "metadata": {},
   "source": [
    "### Оглавление\n",
    "[1. Откройте и изучите файл](#open_file)  \n",
    "[2. Разбейте данные на выборки](#split_data)  \n",
    "[3. Исследуйте модели](#explore_models)  \n",
    "[4. Проверьте модель на тестовой выборке](#test_models)  \n",
    "[5. (бонус) Проверьте модели на адекватность](#adequacy_models)  \n",
    "[Вывод](#conclusion)  "
   ]
  },
  {
   "cell_type": "markdown",
   "metadata": {},
   "source": [
    "<a id=\"open_file\"></a>\n",
    "## Откройте и изучите файл"
   ]
  },
  {
   "cell_type": "markdown",
   "metadata": {},
   "source": [
    "#### Импортируем библиотеки"
   ]
  },
  {
   "cell_type": "code",
   "execution_count": 1,
   "metadata": {},
   "outputs": [],
   "source": [
    "import pandas as pd\n",
    "from sklearn.tree import DecisionTreeClassifier\n",
    "from sklearn.ensemble import RandomForestClassifier\n",
    "from sklearn.linear_model import LogisticRegression\n",
    "from sklearn.model_selection import train_test_split\n",
    "from sklearn.metrics import accuracy_score\n",
    "from sklearn.metrics import confusion_matrix\n",
    "from sklearn.metrics import precision_score, recall_score\n",
    "from sklearn.metrics import classification_report\n",
    "from sklearn.metrics import f1_score\n",
    "import matplotlib.pyplot as plt\n",
    "import numpy as np\n",
    "from sklearn.dummy import DummyClassifier\n",
    "import warnings\n",
    "from IPython.display import display\n",
    "warnings.filterwarnings(\"ignore\", category=FutureWarning)"
   ]
  },
  {
   "cell_type": "markdown",
   "metadata": {},
   "source": [
    "#### Изучим файл с данными"
   ]
  },
  {
   "cell_type": "code",
   "execution_count": 2,
   "metadata": {},
   "outputs": [],
   "source": [
    "df = pd.read_csv('/datasets/users_behavior.csv')"
   ]
  },
  {
   "cell_type": "code",
   "execution_count": 3,
   "metadata": {},
   "outputs": [
    {
     "name": "stdout",
     "output_type": "stream",
     "text": [
      "<class 'pandas.core.frame.DataFrame'>\n",
      "RangeIndex: 3214 entries, 0 to 3213\n",
      "Data columns (total 5 columns):\n",
      "calls       3214 non-null float64\n",
      "minutes     3214 non-null float64\n",
      "messages    3214 non-null float64\n",
      "mb_used     3214 non-null float64\n",
      "is_ultra    3214 non-null int64\n",
      "dtypes: float64(4), int64(1)\n",
      "memory usage: 125.7 KB\n"
     ]
    }
   ],
   "source": [
    "df.info()"
   ]
  },
  {
   "cell_type": "code",
   "execution_count": 4,
   "metadata": {},
   "outputs": [
    {
     "data": {
      "text/html": [
       "<div>\n",
       "<style scoped>\n",
       "    .dataframe tbody tr th:only-of-type {\n",
       "        vertical-align: middle;\n",
       "    }\n",
       "\n",
       "    .dataframe tbody tr th {\n",
       "        vertical-align: top;\n",
       "    }\n",
       "\n",
       "    .dataframe thead th {\n",
       "        text-align: right;\n",
       "    }\n",
       "</style>\n",
       "<table border=\"1\" class=\"dataframe\">\n",
       "  <thead>\n",
       "    <tr style=\"text-align: right;\">\n",
       "      <th></th>\n",
       "      <th>calls</th>\n",
       "      <th>minutes</th>\n",
       "      <th>messages</th>\n",
       "      <th>mb_used</th>\n",
       "      <th>is_ultra</th>\n",
       "    </tr>\n",
       "  </thead>\n",
       "  <tbody>\n",
       "    <tr>\n",
       "      <td>0</td>\n",
       "      <td>40.0</td>\n",
       "      <td>311.90</td>\n",
       "      <td>83.0</td>\n",
       "      <td>19915.42</td>\n",
       "      <td>0</td>\n",
       "    </tr>\n",
       "    <tr>\n",
       "      <td>1</td>\n",
       "      <td>85.0</td>\n",
       "      <td>516.75</td>\n",
       "      <td>56.0</td>\n",
       "      <td>22696.96</td>\n",
       "      <td>0</td>\n",
       "    </tr>\n",
       "    <tr>\n",
       "      <td>2</td>\n",
       "      <td>77.0</td>\n",
       "      <td>467.66</td>\n",
       "      <td>86.0</td>\n",
       "      <td>21060.45</td>\n",
       "      <td>0</td>\n",
       "    </tr>\n",
       "    <tr>\n",
       "      <td>3</td>\n",
       "      <td>106.0</td>\n",
       "      <td>745.53</td>\n",
       "      <td>81.0</td>\n",
       "      <td>8437.39</td>\n",
       "      <td>1</td>\n",
       "    </tr>\n",
       "    <tr>\n",
       "      <td>4</td>\n",
       "      <td>66.0</td>\n",
       "      <td>418.74</td>\n",
       "      <td>1.0</td>\n",
       "      <td>14502.75</td>\n",
       "      <td>0</td>\n",
       "    </tr>\n",
       "  </tbody>\n",
       "</table>\n",
       "</div>"
      ],
      "text/plain": [
       "   calls  minutes  messages   mb_used  is_ultra\n",
       "0   40.0   311.90      83.0  19915.42         0\n",
       "1   85.0   516.75      56.0  22696.96         0\n",
       "2   77.0   467.66      86.0  21060.45         0\n",
       "3  106.0   745.53      81.0   8437.39         1\n",
       "4   66.0   418.74       1.0  14502.75         0"
      ]
     },
     "execution_count": 4,
     "metadata": {},
     "output_type": "execute_result"
    }
   ],
   "source": [
    "df.head()"
   ]
  },
  {
   "cell_type": "code",
   "execution_count": 5,
   "metadata": {},
   "outputs": [
    {
     "data": {
      "text/plain": [
       "calls       0\n",
       "minutes     0\n",
       "messages    0\n",
       "mb_used     0\n",
       "is_ultra    0\n",
       "dtype: int64"
      ]
     },
     "execution_count": 5,
     "metadata": {},
     "output_type": "execute_result"
    }
   ],
   "source": [
    "df.isna().sum()"
   ]
  },
  {
   "cell_type": "code",
   "execution_count": 6,
   "metadata": {},
   "outputs": [
    {
     "data": {
      "text/plain": [
       "0"
      ]
     },
     "execution_count": 6,
     "metadata": {},
     "output_type": "execute_result"
    }
   ],
   "source": [
    "df.duplicated().sum()"
   ]
  },
  {
   "cell_type": "markdown",
   "metadata": {},
   "source": [
    "### Вывод"
   ]
  },
  {
   "cell_type": "markdown",
   "metadata": {},
   "source": [
    "Таблица состоит из 5 колонок и 3214 строк, пропуски и дубликаты отсутствуют.  \n",
    "Известны следующие параметры:\n",
    "- *сalls* — количество звонков,\n",
    "- *minutes* — суммарная длительность звонков в минутах,\n",
    "- *messages* — количество sms-сообщений,\n",
    "- *mb_used* — израсходованный интернет-трафик в Мб,\n",
    "- *is_ultra* — каким тарифом пользовался в течение месяца («Ультра» — 1, «Смарт» — 0)."
   ]
  },
  {
   "cell_type": "markdown",
   "metadata": {},
   "source": [
    "<a id=\"split_data\"></a>\n",
    "## Разбейте данные на выборки"
   ]
  },
  {
   "cell_type": "markdown",
   "metadata": {},
   "source": [
    "Для дальнейшего создания моделей требуется выделить **целевой признак**.  \n",
    "В нашем случае целевым признаком является столбец **is_ultra**."
   ]
  },
  {
   "cell_type": "code",
   "execution_count": 7,
   "metadata": {},
   "outputs": [],
   "source": [
    "# извлечем признаки \n",
    "features = df.drop('is_ultra', axis=1)"
   ]
  },
  {
   "cell_type": "code",
   "execution_count": 8,
   "metadata": {},
   "outputs": [],
   "source": [
    "# извлечем целевой признак\n",
    "target = df['is_ultra']"
   ]
  },
  {
   "cell_type": "markdown",
   "metadata": {},
   "source": [
    "В случае, когда необходимо выделить тестовую выборку из всего набора данных применяют соотношение:  \n",
    "- обучающая - 60 %,\n",
    "- валидационная - 20%,\n",
    "- тестовая - 20%."
   ]
  },
  {
   "cell_type": "markdown",
   "metadata": {},
   "source": [
    "#### Выделим из данных тестовую выборку методом `train_test_split`:"
   ]
  },
  {
   "cell_type": "code",
   "execution_count": 9,
   "metadata": {},
   "outputs": [],
   "source": [
    "# отделим 20% данных для тестовой выборки\n",
    "features_train, features_test, target_train, target_test = train_test_split(\n",
    "    features, target, test_size=0.20, random_state=12345)"
   ]
  },
  {
   "cell_type": "code",
   "execution_count": 10,
   "metadata": {},
   "outputs": [
    {
     "name": "stdout",
     "output_type": "stream",
     "text": [
      "(3214, 4)\n",
      "(2571, 4)\n",
      "(643, 4)\n"
     ]
    }
   ],
   "source": [
    "print(features.shape)\n",
    "print(features_train.shape)\n",
    "print(features_test.shape)"
   ]
  },
  {
   "cell_type": "markdown",
   "metadata": {},
   "source": [
    "#### Выделим из данных валидатационную выборку методом `train_test_split`:"
   ]
  },
  {
   "cell_type": "code",
   "execution_count": 11,
   "metadata": {},
   "outputs": [],
   "source": [
    "# отделим 25% данных для валидатационной выборки\n",
    "features_train, features_valid, target_train, target_valid = train_test_split(\n",
    "    features_train, target_train, test_size=0.25, random_state=12345)"
   ]
  },
  {
   "cell_type": "code",
   "execution_count": 12,
   "metadata": {},
   "outputs": [
    {
     "data": {
      "text/plain": [
       "(643, 4)"
      ]
     },
     "execution_count": 12,
     "metadata": {},
     "output_type": "execute_result"
    }
   ],
   "source": [
    "features_valid.shape"
   ]
  },
  {
   "cell_type": "markdown",
   "metadata": {},
   "source": [
    "**Проверим сходимость изначального размера таблицы:**"
   ]
  },
  {
   "cell_type": "code",
   "execution_count": 13,
   "metadata": {},
   "outputs": [
    {
     "data": {
      "text/plain": [
       "(3214, 4)"
      ]
     },
     "execution_count": 13,
     "metadata": {},
     "output_type": "execute_result"
    }
   ],
   "source": [
    "(features_train + features_valid + features_test).shape"
   ]
  },
  {
   "cell_type": "markdown",
   "metadata": {},
   "source": [
    "### Вывод"
   ]
  },
  {
   "cell_type": "markdown",
   "metadata": {},
   "source": [
    "Мы выделили целевой признак в таблице - столбец **is_ultra**.  \n",
    "Разбили данные на 3 выборки (в соотношении 3:1:1): **обучающую, валидационную, тестовую.**"
   ]
  },
  {
   "cell_type": "markdown",
   "metadata": {},
   "source": [
    "<a id=\"explore_models\"></a>\n",
    "## Исследуйте модели"
   ]
  },
  {
   "cell_type": "markdown",
   "metadata": {},
   "source": [
    "Целевой признак является **категориальным и двоичным(значение 0 или 1)**, следовательно решается задача *бинарной классификации*.  \n",
    "Исходя из этих предположений, выберем модели работающие с задачами классификации:"
   ]
  },
  {
   "cell_type": "markdown",
   "metadata": {},
   "source": [
    "#### Решающее дерево"
   ]
  },
  {
   "cell_type": "markdown",
   "metadata": {},
   "source": [
    "Обучим модель на тренировочной выборке и подберем наиболее подходящую величину **гипрепараметра** - **глубина дерева(`max_depth`)**.  \n",
    "Получим предсказания модели на валидатационной выборке и посчитаем качество модели `accuracy_score` для наиболее подходящего значения `max_depth`."
   ]
  },
  {
   "cell_type": "code",
   "execution_count": 14,
   "metadata": {},
   "outputs": [
    {
     "name": "stdout",
     "output_type": "stream",
     "text": [
      "Accuracy наилучшей модели на валидационной выборке: 0.7744945567651633\n",
      "Лучшее значение max_depth: 7\n"
     ]
    }
   ],
   "source": [
    "best_model_dts = None\n",
    "best_result_dts = 0\n",
    "for depth in range(1, 10):\n",
    "    model_dts = DecisionTreeClassifier(random_state=12345, max_depth=depth)\n",
    "    model_dts.fit(features_train, target_train)\n",
    "    predictions_valid_dts = model_dts.predict(features_valid)\n",
    "    result_dts = accuracy_score(target_valid, predictions_valid_dts)\n",
    "    if result_dts > best_result_dts:\n",
    "        best_model_dts = model_dts\n",
    "        best_result_dts = result_dts\n",
    "        best_depth = depth\n",
    "        \n",
    "print(\"Accuracy наилучшей модели на валидационной выборке:\", best_result_dts)\n",
    "print(\"Лучшее значение max_depth:\", best_depth)"
   ]
  },
  {
   "cell_type": "code",
   "execution_count": 15,
   "metadata": {},
   "outputs": [
    {
     "name": "stdout",
     "output_type": "stream",
     "text": [
      "max_depth = 1 : 0.7387247278382582\n",
      "max_depth = 2 : 0.7573872472783826\n",
      "max_depth = 3 : 0.7651632970451011\n",
      "max_depth = 4 : 0.7636080870917574\n",
      "max_depth = 5 : 0.7589424572317263\n",
      "max_depth = 6 : 0.7573872472783826\n",
      "max_depth = 7 : 0.7744945567651633\n",
      "max_depth = 8 : 0.7667185069984448\n",
      "max_depth = 9 : 0.7620528771384136\n"
     ]
    }
   ],
   "source": [
    "for depth in range(1, 10):\n",
    "    model_dts = DecisionTreeClassifier(random_state=12345, max_depth=depth)\n",
    "    model_dts.fit(features_train, target_train)\n",
    "    predictions_valid_dts = model_dts.predict(features_valid)\n",
    "    result_dts = accuracy_score(target_valid, predictions_valid_dts)\n",
    "    print('max_depth = {} : {}'.format(depth, result_dts))"
   ]
  },
  {
   "cell_type": "markdown",
   "metadata": {},
   "source": [
    "Как мы видим, accuracy наилучшей модели **\"Решающее дерево\"** достигается при **глубине дерева равной 7.**"
   ]
  },
  {
   "cell_type": "markdown",
   "metadata": {},
   "source": [
    "#### Случайный лес"
   ]
  },
  {
   "cell_type": "markdown",
   "metadata": {},
   "source": [
    "Обучим модель на тренировочной выборке и подберем наиболее подходящую величину **гипрепараметров**:  \n",
    "1. **количество деревьев(`n_estimators`)**.  \n",
    "2. **макисимальная глубина деревьев(`max_depth`)**.\n",
    "3. **число признаков(`max_features`)**.\n",
    "Получим предсказания модели на валидатационной выборке и посчитаем качество модели `score` для наиболее подходящих значений гиперпараметров."
   ]
  },
  {
   "cell_type": "code",
   "execution_count": 16,
   "metadata": {},
   "outputs": [
    {
     "name": "stdout",
     "output_type": "stream",
     "text": [
      "Accuracy наилучшей модели на валидационной выборке: 0.7838258164852255\n",
      "Лучшее значение n_estimators 5\n",
      "Лучшее значение max_depth: 5\n",
      "Лучшее значение max_features 3\n"
     ]
    }
   ],
   "source": [
    "est_model_rfc = None\n",
    "best_result_rfc = 0\n",
    "for est in range(1, 6):\n",
    "    for depth in range(1, 6):\n",
    "        for mf in range(1, 5):\n",
    "            model_rfc = RandomForestClassifier(random_state=12345, n_estimators=est, max_depth=depth, max_features=mf)\n",
    "            model_rfc.fit(features_train, target_train) \n",
    "            result_rfc = model_rfc.score(features_valid, target_valid) \n",
    "            if result_rfc > best_result_rfc:\n",
    "                best_model_rfc = model_rfc \n",
    "                best_result_rfc = result_rfc\n",
    "                best_est = est\n",
    "                best_depth = depth\n",
    "                best_mf = mf\n",
    "print(\"Accuracy наилучшей модели на валидационной выборке:\", best_result_rfc)\n",
    "print(\"Лучшее значение n_estimators\", best_est)\n",
    "print(\"Лучшее значение max_depth:\", best_depth)\n",
    "print(\"Лучшее значение max_features\", best_mf)"
   ]
  },
  {
   "cell_type": "markdown",
   "metadata": {},
   "source": [
    "**Рассмотрим отдельно каждый гиперпараметр перебором значений:**"
   ]
  },
  {
   "cell_type": "code",
   "execution_count": 17,
   "metadata": {},
   "outputs": [
    {
     "name": "stdout",
     "output_type": "stream",
     "text": [
      "n_estimators = 1 : 0.7247278382581649\n",
      "n_estimators = 2 : 0.7589424572317263\n",
      "n_estimators = 3 : 0.7636080870917574\n",
      "n_estimators = 4 : 0.7744945567651633\n",
      "n_estimators = 5 : 0.7589424572317263\n"
     ]
    }
   ],
   "source": [
    "# количество деревьев(n_estimators)\n",
    "for est in range(1, 6):\n",
    "    model_rfc = RandomForestClassifier(random_state=12345, n_estimators=est, max_features=mf) \n",
    "    model_rfc.fit(features_train, target_train) \n",
    "    result_rfc = model_rfc.score(features_valid, target_valid) \n",
    "    print('n_estimators = {} : {}'.format(est, result_rfc))"
   ]
  },
  {
   "cell_type": "code",
   "execution_count": 18,
   "metadata": {},
   "outputs": [
    {
     "name": "stdout",
     "output_type": "stream",
     "text": [
      "depth = 1 : 0.7402799377916018\n",
      "depth = 2 : 0.7682737169517885\n",
      "depth = 3 : 0.7698289269051322\n",
      "depth = 4 : 0.7744945567651633\n",
      "depth = 5 : 0.7822706065318819\n"
     ]
    }
   ],
   "source": [
    "# макисимальная глубина деревьев(max_depth)\n",
    "for depth in range(1, 6):\n",
    "    model_rfc = RandomForestClassifier(random_state=12345, n_estimators=est, max_depth=depth, max_features=mf) \n",
    "    model_rfc.fit(features_train, target_train) \n",
    "    result_rfc = model_rfc.score(features_valid, target_valid) \n",
    "    print('depth = {} : {}'.format(depth, result_rfc))"
   ]
  },
  {
   "cell_type": "code",
   "execution_count": 19,
   "metadata": {},
   "outputs": [
    {
     "name": "stdout",
     "output_type": "stream",
     "text": [
      "features = 1 : 0.7682737169517885\n",
      "features = 2 : 0.7698289269051322\n",
      "features = 3 : 0.7838258164852255\n",
      "features = 4 : 0.7822706065318819\n"
     ]
    }
   ],
   "source": [
    "# число признаков(max_features)\n",
    "for mf in range(1, 5):\n",
    "    model_rfc = RandomForestClassifier(random_state=12345, n_estimators=est, max_depth=depth, max_features=mf)\n",
    "    model_rfc.fit(features_train, target_train) \n",
    "    result_rfc = model_rfc.score(features_valid, target_valid) \n",
    "    print('features = {} : {}'.format(mf, result_rfc))"
   ]
  },
  {
   "cell_type": "markdown",
   "metadata": {},
   "source": [
    "Accuracy наилучшей модели **\"Случайный лес\"** достигается при **количестве деревьев равном 5, максимальной глубине - 5, числу признаков - 3.**"
   ]
  },
  {
   "cell_type": "markdown",
   "metadata": {},
   "source": [
    "#### Логистическая регрессия"
   ]
  },
  {
   "cell_type": "markdown",
   "metadata": {},
   "source": [
    "Обучим модель на тренировочной выборке и получим предсказания модели на валидатационной выборке и посчитаем качество модели `score`."
   ]
  },
  {
   "cell_type": "code",
   "execution_count": 20,
   "metadata": {},
   "outputs": [
    {
     "name": "stdout",
     "output_type": "stream",
     "text": [
      "Accuracy модели логистической регрессии на валидационной выборке: 0.6967340590979783\n"
     ]
    }
   ],
   "source": [
    "model_lr = LogisticRegression(random_state=12345) \n",
    "model_lr.fit(features_train, target_train) \n",
    "result_lr = model_lr.score(features_valid, target_valid) \n",
    "\n",
    "print(\"Accuracy модели логистической регрессии на валидационной выборке:\", result_lr)"
   ]
  },
  {
   "cell_type": "markdown",
   "metadata": {},
   "source": [
    "#### Отдельно выведем значение Accuracy для каждой модели"
   ]
  },
  {
   "cell_type": "code",
   "execution_count": 21,
   "metadata": {},
   "outputs": [
    {
     "data": {
      "text/html": [
       "<div>\n",
       "<style scoped>\n",
       "    .dataframe tbody tr th:only-of-type {\n",
       "        vertical-align: middle;\n",
       "    }\n",
       "\n",
       "    .dataframe tbody tr th {\n",
       "        vertical-align: top;\n",
       "    }\n",
       "\n",
       "    .dataframe thead th {\n",
       "        text-align: right;\n",
       "    }\n",
       "</style>\n",
       "<table border=\"1\" class=\"dataframe\">\n",
       "  <thead>\n",
       "    <tr style=\"text-align: right;\">\n",
       "      <th></th>\n",
       "      <th>Accuracy</th>\n",
       "    </tr>\n",
       "  </thead>\n",
       "  <tbody>\n",
       "    <tr>\n",
       "      <td>Решающее дерево</td>\n",
       "      <td>0.774495</td>\n",
       "    </tr>\n",
       "    <tr>\n",
       "      <td>Случайный лес</td>\n",
       "      <td>0.783826</td>\n",
       "    </tr>\n",
       "    <tr>\n",
       "      <td>Логистическая регрессия</td>\n",
       "      <td>0.696734</td>\n",
       "    </tr>\n",
       "  </tbody>\n",
       "</table>\n",
       "</div>"
      ],
      "text/plain": [
       "                         Accuracy\n",
       "Решающее дерево          0.774495\n",
       "Случайный лес            0.783826\n",
       "Логистическая регрессия  0.696734"
      ]
     },
     "execution_count": 21,
     "metadata": {},
     "output_type": "execute_result"
    }
   ],
   "source": [
    "data= {best_result_dts, best_result_rfc, result_lr}\n",
    "pd.DataFrame(data, index=('Решающее дерево', 'Случайный лес', 'Логистическая регрессия'), columns=['Accuracy'])"
   ]
  },
  {
   "cell_type": "markdown",
   "metadata": {},
   "source": [
    "### Вывод"
   ]
  },
  {
   "cell_type": "markdown",
   "metadata": {},
   "source": [
    "Лучший результат ***Accuracy (точности)*** в **0.783826** показала модель построенная по алгортму машинного обучения ***Random forest (множество решающих деревьев)***.  \n",
    "Наиболее оптимальные гиперпараметры для модели ***Random forest***:\n",
    "- количество деревьев (n_estimators) - 4, \n",
    "- макисимальная глубина деревьев (max_depth) - 5, \n",
    "- число признаков (max_features) - 3.\n",
    "\n"
   ]
  },
  {
   "cell_type": "markdown",
   "metadata": {},
   "source": [
    "<a id=\"test_models\"></a>\n",
    "## Проверьте модель на тестовой выборке"
   ]
  },
  {
   "cell_type": "markdown",
   "metadata": {},
   "source": [
    "Проведем эксперименты для каждой модели на тестовых данных."
   ]
  },
  {
   "cell_type": "markdown",
   "metadata": {},
   "source": [
    "#### Решающее дерево"
   ]
  },
  {
   "cell_type": "code",
   "execution_count": 22,
   "metadata": {},
   "outputs": [
    {
     "name": "stdout",
     "output_type": "stream",
     "text": [
      "Accuracy - Обучающая выборка: 0.7744945567651633\n",
      "Accuracy - Тестовая выборка: 0.7884914463452566\n",
      "Количество верных ответов: 507\n"
     ]
    }
   ],
   "source": [
    "test_predictions_dts = best_model_dts.predict(features_test)\n",
    "test_result_dts = accuracy_score(target_test, test_predictions_dts)\n",
    "test_result_dts_norma = accuracy_score(target_test, test_predictions_dts, normalize=False)\n",
    "print(\"Accuracy - Обучающая выборка:\", best_result_dts)\n",
    "print(\"Accuracy - Тестовая выборка:\", test_result_dts)\n",
    "print(\"Количество верных ответов:\", test_result_dts_norma)"
   ]
  },
  {
   "cell_type": "markdown",
   "metadata": {},
   "source": [
    "#### Случайный лес"
   ]
  },
  {
   "cell_type": "code",
   "execution_count": 23,
   "metadata": {},
   "outputs": [
    {
     "name": "stdout",
     "output_type": "stream",
     "text": [
      "Accuracy - Обучающая выборка: 0.7838258164852255\n",
      "Accuracy - Тестовая выборка: 0.7884914463452566\n",
      "Количество верных ответов: 507\n"
     ]
    }
   ],
   "source": [
    "test_predictions_rfc = best_model_rfc.predict(features_test)\n",
    "test_result_rfc = accuracy_score(target_test, test_predictions_rfc)\n",
    "test_result_rfc_norma = accuracy_score(target_test, test_predictions_rfc, normalize=False)\n",
    "print(\"Accuracy - Обучающая выборка:\", best_result_rfc)\n",
    "print(\"Accuracy - Тестовая выборка:\", test_result_rfc)\n",
    "print(\"Количество верных ответов:\", test_result_rfc_norma)"
   ]
  },
  {
   "cell_type": "markdown",
   "metadata": {},
   "source": [
    "#### Логистическая регрессия"
   ]
  },
  {
   "cell_type": "code",
   "execution_count": 24,
   "metadata": {},
   "outputs": [
    {
     "name": "stdout",
     "output_type": "stream",
     "text": [
      "Accuracy - Обучающая выборка: 0.6967340590979783\n",
      "Accuracy - Тестовая выборка: 0.702954898911353\n",
      "Количество верных ответов: 452\n"
     ]
    }
   ],
   "source": [
    "test_predictions_lr = model_lr.predict(features_test)\n",
    "test_result_lr = accuracy_score(target_test, test_predictions_lr)\n",
    "test_result_lr_norma = accuracy_score(target_test, test_predictions_lr, normalize=False)\n",
    "print(\"Accuracy - Обучающая выборка:\", result_lr)\n",
    "print(\"Accuracy - Тестовая выборка:\", test_result_lr)\n",
    "print(\"Количество верных ответов:\", test_result_lr_norma)"
   ]
  },
  {
   "cell_type": "code",
   "execution_count": 25,
   "metadata": {},
   "outputs": [
    {
     "data": {
      "text/html": [
       "<div>\n",
       "<style scoped>\n",
       "    .dataframe tbody tr th:only-of-type {\n",
       "        vertical-align: middle;\n",
       "    }\n",
       "\n",
       "    .dataframe tbody tr th {\n",
       "        vertical-align: top;\n",
       "    }\n",
       "\n",
       "    .dataframe thead th {\n",
       "        text-align: right;\n",
       "    }\n",
       "</style>\n",
       "<table border=\"1\" class=\"dataframe\">\n",
       "  <thead>\n",
       "    <tr style=\"text-align: right;\">\n",
       "      <th></th>\n",
       "      <th>Accuracy_valid</th>\n",
       "      <th>Accuracy_test</th>\n",
       "    </tr>\n",
       "  </thead>\n",
       "  <tbody>\n",
       "    <tr>\n",
       "      <td>Решающее дерево</td>\n",
       "      <td>0.774495</td>\n",
       "      <td>0.788491</td>\n",
       "    </tr>\n",
       "    <tr>\n",
       "      <td>Случайный лес</td>\n",
       "      <td>0.783826</td>\n",
       "      <td>0.788491</td>\n",
       "    </tr>\n",
       "    <tr>\n",
       "      <td>Логистическая регрессия</td>\n",
       "      <td>0.696734</td>\n",
       "      <td>0.702955</td>\n",
       "    </tr>\n",
       "  </tbody>\n",
       "</table>\n",
       "</div>"
      ],
      "text/plain": [
       "                         Accuracy_valid  Accuracy_test\n",
       "Решающее дерево                0.774495       0.788491\n",
       "Случайный лес                  0.783826       0.788491\n",
       "Логистическая регрессия        0.696734       0.702955"
      ]
     },
     "execution_count": 25,
     "metadata": {},
     "output_type": "execute_result"
    }
   ],
   "source": [
    "data2= {'Accuracy_valid':[best_result_dts, best_result_rfc, result_lr], \n",
    "        'Accuracy_test': [test_result_dts, test_result_rfc, test_result_lr]}\n",
    "pd.DataFrame(data2, index=('Решающее дерево', 'Случайный лес', 'Логистическая регрессия'))"
   ]
  },
  {
   "cell_type": "markdown",
   "metadata": {},
   "source": [
    "### Вывод"
   ]
  },
  {
   "cell_type": "markdown",
   "metadata": {},
   "source": [
    "Все модели показали схожие результаты точности на тестовой выборке и при их обучении.  \n",
    "Как и ожидалось, больше всего точных ответов предсказывают модели ***случайный лес (Random forest)*** и ***решающее дерево (Decision Tree).***  \n",
    "Наименьшую точность показывает модель ***логистической регрессии (Logistic Regression).***"
   ]
  },
  {
   "cell_type": "markdown",
   "metadata": {},
   "source": [
    "<a id=\"adequacy_models\"></a>\n",
    "## Проверьте модели на адекватность"
   ]
  },
  {
   "cell_type": "markdown",
   "metadata": {},
   "source": [
    "Для оценки качества моделей и сравнения различных алгоритмов используем метрики ***confusion matrix, precision, recall, f1-score***."
   ]
  },
  {
   "cell_type": "markdown",
   "metadata": {},
   "source": [
    "Рассмотрим матрицы несоответствий (ошибок) ***confusion matrix*** для каждой модели:"
   ]
  },
  {
   "cell_type": "markdown",
   "metadata": {},
   "source": [
    "#### Для модели решающее дерево:"
   ]
  },
  {
   "cell_type": "code",
   "execution_count": 26,
   "metadata": {},
   "outputs": [
    {
     "data": {
      "text/html": [
       "<div>\n",
       "<style scoped>\n",
       "    .dataframe tbody tr th:only-of-type {\n",
       "        vertical-align: middle;\n",
       "    }\n",
       "\n",
       "    .dataframe tbody tr th {\n",
       "        vertical-align: top;\n",
       "    }\n",
       "\n",
       "    .dataframe thead th {\n",
       "        text-align: right;\n",
       "    }\n",
       "</style>\n",
       "<table border=\"1\" class=\"dataframe\">\n",
       "  <thead>\n",
       "    <tr style=\"text-align: right;\">\n",
       "      <th>col_0</th>\n",
       "      <th>0</th>\n",
       "      <th>1</th>\n",
       "    </tr>\n",
       "    <tr>\n",
       "      <th>is_ultra</th>\n",
       "      <th></th>\n",
       "      <th></th>\n",
       "    </tr>\n",
       "  </thead>\n",
       "  <tbody>\n",
       "    <tr>\n",
       "      <td>0</td>\n",
       "      <td>421</td>\n",
       "      <td>26</td>\n",
       "    </tr>\n",
       "    <tr>\n",
       "      <td>1</td>\n",
       "      <td>110</td>\n",
       "      <td>86</td>\n",
       "    </tr>\n",
       "  </tbody>\n",
       "</table>\n",
       "</div>"
      ],
      "text/plain": [
       "col_0       0   1\n",
       "is_ultra         \n",
       "0         421  26\n",
       "1         110  86"
      ]
     },
     "execution_count": 26,
     "metadata": {},
     "output_type": "execute_result"
    }
   ],
   "source": [
    "pd.crosstab(target_test, test_predictions_dts)"
   ]
  },
  {
   "cell_type": "markdown",
   "metadata": {},
   "source": [
    "#### Для модели случайный лес:"
   ]
  },
  {
   "cell_type": "code",
   "execution_count": 27,
   "metadata": {},
   "outputs": [
    {
     "data": {
      "text/html": [
       "<div>\n",
       "<style scoped>\n",
       "    .dataframe tbody tr th:only-of-type {\n",
       "        vertical-align: middle;\n",
       "    }\n",
       "\n",
       "    .dataframe tbody tr th {\n",
       "        vertical-align: top;\n",
       "    }\n",
       "\n",
       "    .dataframe thead th {\n",
       "        text-align: right;\n",
       "    }\n",
       "</style>\n",
       "<table border=\"1\" class=\"dataframe\">\n",
       "  <thead>\n",
       "    <tr style=\"text-align: right;\">\n",
       "      <th>col_0</th>\n",
       "      <th>0</th>\n",
       "      <th>1</th>\n",
       "    </tr>\n",
       "    <tr>\n",
       "      <th>is_ultra</th>\n",
       "      <th></th>\n",
       "      <th></th>\n",
       "    </tr>\n",
       "  </thead>\n",
       "  <tbody>\n",
       "    <tr>\n",
       "      <td>0</td>\n",
       "      <td>416</td>\n",
       "      <td>31</td>\n",
       "    </tr>\n",
       "    <tr>\n",
       "      <td>1</td>\n",
       "      <td>105</td>\n",
       "      <td>91</td>\n",
       "    </tr>\n",
       "  </tbody>\n",
       "</table>\n",
       "</div>"
      ],
      "text/plain": [
       "col_0       0   1\n",
       "is_ultra         \n",
       "0         416  31\n",
       "1         105  91"
      ]
     },
     "execution_count": 27,
     "metadata": {},
     "output_type": "execute_result"
    }
   ],
   "source": [
    "pd.crosstab(target_test, test_predictions_rfc)"
   ]
  },
  {
   "cell_type": "markdown",
   "metadata": {},
   "source": [
    "#### Для модели логистическая регрессия:"
   ]
  },
  {
   "cell_type": "code",
   "execution_count": 28,
   "metadata": {},
   "outputs": [
    {
     "data": {
      "text/html": [
       "<div>\n",
       "<style scoped>\n",
       "    .dataframe tbody tr th:only-of-type {\n",
       "        vertical-align: middle;\n",
       "    }\n",
       "\n",
       "    .dataframe tbody tr th {\n",
       "        vertical-align: top;\n",
       "    }\n",
       "\n",
       "    .dataframe thead th {\n",
       "        text-align: right;\n",
       "    }\n",
       "</style>\n",
       "<table border=\"1\" class=\"dataframe\">\n",
       "  <thead>\n",
       "    <tr style=\"text-align: right;\">\n",
       "      <th>col_0</th>\n",
       "      <th>0</th>\n",
       "      <th>1</th>\n",
       "    </tr>\n",
       "    <tr>\n",
       "      <th>is_ultra</th>\n",
       "      <th></th>\n",
       "      <th></th>\n",
       "    </tr>\n",
       "  </thead>\n",
       "  <tbody>\n",
       "    <tr>\n",
       "      <td>0</td>\n",
       "      <td>443</td>\n",
       "      <td>4</td>\n",
       "    </tr>\n",
       "    <tr>\n",
       "      <td>1</td>\n",
       "      <td>187</td>\n",
       "      <td>9</td>\n",
       "    </tr>\n",
       "  </tbody>\n",
       "</table>\n",
       "</div>"
      ],
      "text/plain": [
       "col_0       0  1\n",
       "is_ultra        \n",
       "0         443  4\n",
       "1         187  9"
      ]
     },
     "execution_count": 28,
     "metadata": {},
     "output_type": "execute_result"
    }
   ],
   "source": [
    "pd.crosstab(target_test, test_predictions_lr)"
   ]
  },
  {
   "cell_type": "markdown",
   "metadata": {},
   "source": [
    "Как мы видим модели ***Решающее дерево*** и ***Случайный лес*** имеют схожие матрицы несоответствий.  \n",
    "Алгоритм ***Логистической регрессии*** зачастую ошибался и устанавливал метку класса 1 не верно(ошибка 2 рода), т.е. зачастую правильно не смог найти клиентов с тарифом **\"Ультра\"**."
   ]
  },
  {
   "cell_type": "markdown",
   "metadata": {},
   "source": [
    "#### Для каждой модели выведем метрики ***precision, recall, f1-score***."
   ]
  },
  {
   "cell_type": "markdown",
   "metadata": {},
   "source": [
    "**Характеристика метрик:**  \n",
    "\n",
    "**precision** - указывает нам долю объектов, названных классификатором положительными и при этом действительно являющимися положительными.  \n",
    "\n",
    "**recall** - показывает нам, какую долю объектов положительного класса из всех объектов положительного класса нашел алгоритм.  \n",
    "\n",
    "**f1-score** - среднее гармоническое точности и полноты, она стремится к нулю, если точность или полнота стремится к нулю."
   ]
  },
  {
   "cell_type": "markdown",
   "metadata": {},
   "source": [
    "#### Для модели решающее дерево:"
   ]
  },
  {
   "cell_type": "code",
   "execution_count": 29,
   "metadata": {},
   "outputs": [
    {
     "name": "stdout",
     "output_type": "stream",
     "text": [
      "0.7678571428571429\n",
      "0.4387755102040816\n",
      "0.5584415584415584\n"
     ]
    }
   ],
   "source": [
    "print(precision_score(target_test, test_predictions_dts))\n",
    "print(recall_score(target_test, test_predictions_dts))\n",
    "print(f1_score(target_test, test_predictions_dts))"
   ]
  },
  {
   "cell_type": "markdown",
   "metadata": {},
   "source": [
    "#### Для модели случайный лес:"
   ]
  },
  {
   "cell_type": "code",
   "execution_count": 30,
   "metadata": {},
   "outputs": [
    {
     "name": "stdout",
     "output_type": "stream",
     "text": [
      "0.7459016393442623\n",
      "0.4642857142857143\n",
      "0.5723270440251572\n"
     ]
    }
   ],
   "source": [
    "print(precision_score(target_test, test_predictions_rfc))\n",
    "print(recall_score(target_test, test_predictions_rfc))\n",
    "print(f1_score(target_test, test_predictions_rfc))"
   ]
  },
  {
   "cell_type": "markdown",
   "metadata": {},
   "source": [
    "#### Для модели логистическая регрессия:"
   ]
  },
  {
   "cell_type": "code",
   "execution_count": 31,
   "metadata": {},
   "outputs": [
    {
     "name": "stdout",
     "output_type": "stream",
     "text": [
      "0.6923076923076923\n",
      "0.04591836734693878\n",
      "0.0861244019138756\n"
     ]
    }
   ],
   "source": [
    "print(precision_score(target_test, test_predictions_lr))\n",
    "print(recall_score(target_test, test_predictions_lr))\n",
    "print(f1_score(target_test, test_predictions_lr))"
   ]
  },
  {
   "cell_type": "markdown",
   "metadata": {},
   "source": [
    "Метрики **recall_score и f1_score** самые низкие у модели **логистической регрессии**.  \n",
    "\n",
    "Следовательно, наш вывод из матрицы несоответствий подтверждается, модель ***логистической регрессии*** имеет очень низкую способность выявления объектов класса 1 (тариф \"Ультра\").  \n",
    "\n",
    "\n",
    "Модели ***Решающее дерево*** и ***Случайный лес*** имеют высокие оценки метрик, поэтому для построения системы, анализа поведения клиентов предлагаем использовать имеено эти модели."
   ]
  },
  {
   "cell_type": "markdown",
   "metadata": {},
   "source": [
    "#### Оценим сбалансированность данных:"
   ]
  },
  {
   "cell_type": "code",
   "execution_count": 32,
   "metadata": {},
   "outputs": [
    {
     "data": {
      "text/plain": [
       "0.30647168637212197"
      ]
     },
     "execution_count": 32,
     "metadata": {},
     "output_type": "execute_result"
    }
   ],
   "source": [
    "df[df['is_ultra'] == 1]['is_ultra'].count() / len(df)"
   ]
  },
  {
   "cell_type": "markdown",
   "metadata": {},
   "source": [
    "Только около 30% данных принадлежат к классу 1 (тариф \"Ультра\").\n",
    "\n",
    "Исходя из полученных результатов, можно сделать вывод, что для **оптимизации алгоритма моделей и повышения точности прогноза**, требуется уравновесить в данных количество пользователей с тарифами \"Смарт\" и \"Ультра\"."
   ]
  },
  {
   "cell_type": "markdown",
   "metadata": {},
   "source": [
    "Создадим DataFrame с значениями признаков:\n",
    "- равных нулю;\n",
    "- с максимальными значениями признаков в исходных данных;\n",
    "- с медианным значением признаков клиентов на тарифе \"Ультра\";\n",
    "- с максимальными лимитами тарифа «Ультра»: 3000 минут разговора, 1000 сообщений и 30 Гб интернет-трафика."
   ]
  },
  {
   "cell_type": "code",
   "execution_count": 33,
   "metadata": {},
   "outputs": [
    {
     "data": {
      "text/plain": [
       "calls         244.00\n",
       "minutes      1632.06\n",
       "messages      224.00\n",
       "mb_used     49745.73\n",
       "is_ultra        1.00\n",
       "dtype: float64"
      ]
     },
     "execution_count": 33,
     "metadata": {},
     "output_type": "execute_result"
    }
   ],
   "source": [
    "df.max()"
   ]
  },
  {
   "cell_type": "code",
   "execution_count": 34,
   "metadata": {},
   "outputs": [
    {
     "data": {
      "text/plain": [
       "calls          74.00\n",
       "minutes       502.55\n",
       "messages       38.00\n",
       "mb_used     19308.01\n",
       "is_ultra        1.00\n",
       "dtype: float64"
      ]
     },
     "execution_count": 34,
     "metadata": {},
     "output_type": "execute_result"
    }
   ],
   "source": [
    "df[df['is_ultra']==1].median()"
   ]
  },
  {
   "cell_type": "code",
   "execution_count": 35,
   "metadata": {},
   "outputs": [
    {
     "data": {
      "text/html": [
       "<div>\n",
       "<style scoped>\n",
       "    .dataframe tbody tr th:only-of-type {\n",
       "        vertical-align: middle;\n",
       "    }\n",
       "\n",
       "    .dataframe tbody tr th {\n",
       "        vertical-align: top;\n",
       "    }\n",
       "\n",
       "    .dataframe thead th {\n",
       "        text-align: right;\n",
       "    }\n",
       "</style>\n",
       "<table border=\"1\" class=\"dataframe\">\n",
       "  <thead>\n",
       "    <tr style=\"text-align: right;\">\n",
       "      <th></th>\n",
       "      <th>calls</th>\n",
       "      <th>minutes</th>\n",
       "      <th>messages</th>\n",
       "      <th>mb_used</th>\n",
       "    </tr>\n",
       "  </thead>\n",
       "  <tbody>\n",
       "    <tr>\n",
       "      <td>0</td>\n",
       "      <td>0</td>\n",
       "      <td>0</td>\n",
       "      <td>0</td>\n",
       "      <td>0</td>\n",
       "    </tr>\n",
       "    <tr>\n",
       "      <td>1</td>\n",
       "      <td>244</td>\n",
       "      <td>1632</td>\n",
       "      <td>224</td>\n",
       "      <td>50000</td>\n",
       "    </tr>\n",
       "    <tr>\n",
       "      <td>2</td>\n",
       "      <td>74</td>\n",
       "      <td>503</td>\n",
       "      <td>38</td>\n",
       "      <td>19500</td>\n",
       "    </tr>\n",
       "    <tr>\n",
       "      <td>3</td>\n",
       "      <td>800</td>\n",
       "      <td>3000</td>\n",
       "      <td>1000</td>\n",
       "      <td>30720</td>\n",
       "    </tr>\n",
       "  </tbody>\n",
       "</table>\n",
       "</div>"
      ],
      "text/plain": [
       "   calls  minutes  messages  mb_used\n",
       "0      0        0         0        0\n",
       "1    244     1632       224    50000\n",
       "2     74      503        38    19500\n",
       "3    800     3000      1000    30720"
      ]
     },
     "execution_count": 35,
     "metadata": {},
     "output_type": "execute_result"
    }
   ],
   "source": [
    "new_df = pd.DataFrame(\n",
    "    [[0, 0, 0, 0],\n",
    "     [244, 1632, 224, 50000],\n",
    "     [74, 503, 38, 19500],\n",
    "     [800, 3000, 1000, 30720]],\n",
    "    columns=features.columns)\n",
    "new_df"
   ]
  },
  {
   "cell_type": "markdown",
   "metadata": {},
   "source": [
    "Значение целевого признака в этой таблице должно быть 0 для первой строки и для всех остальных 1.  \n",
    "Оценим результаты предсказаний моделей:"
   ]
  },
  {
   "cell_type": "code",
   "execution_count": 36,
   "metadata": {},
   "outputs": [
    {
     "data": {
      "text/plain": [
       "array([1, 1, 0, 1])"
      ]
     },
     "execution_count": 36,
     "metadata": {},
     "output_type": "execute_result"
    }
   ],
   "source": [
    "best_model_dts.predict(new_df)"
   ]
  },
  {
   "cell_type": "code",
   "execution_count": 37,
   "metadata": {},
   "outputs": [
    {
     "data": {
      "text/plain": [
       "array([1, 1, 0, 1])"
      ]
     },
     "execution_count": 37,
     "metadata": {},
     "output_type": "execute_result"
    }
   ],
   "source": [
    "best_model_rfc.predict(new_df)"
   ]
  },
  {
   "cell_type": "code",
   "execution_count": 38,
   "metadata": {},
   "outputs": [
    {
     "data": {
      "text/plain": [
       "array([0, 0, 0, 0])"
      ]
     },
     "execution_count": 38,
     "metadata": {},
     "output_type": "execute_result"
    }
   ],
   "source": [
    "model_lr.predict(new_df)"
   ]
  },
  {
   "cell_type": "markdown",
   "metadata": {},
   "source": [
    "Как мы видими ни одна из моделей не выдала верный результат.  \n",
    "Особо странно, что при нулевом значении всех ячеек, модели с лучшими значениями Accuracy выдают не верный результат.  \n",
    "Модели Решающее дерево и Случайный лес ошибаются в 50% случаев, линейная регрессия в 75 % случаев."
   ]
  },
  {
   "cell_type": "markdown",
   "metadata": {},
   "source": [
    "#### Проверка на адекватность с помощью DummyClassifier"
   ]
  },
  {
   "cell_type": "markdown",
   "metadata": {},
   "source": [
    "#### Вариант 1"
   ]
  },
  {
   "cell_type": "code",
   "execution_count": 39,
   "metadata": {},
   "outputs": [
    {
     "data": {
      "text/plain": [
       "0.75"
      ]
     },
     "execution_count": 39,
     "metadata": {},
     "output_type": "execute_result"
    }
   ],
   "source": [
    "X = [0, 1, 1, 1]\n",
    "y = best_model_dts.predict(new_df)\n",
    "dummy_clf = DummyClassifier(strategy=\"most_frequent\")\n",
    "dummy_clf.fit(X, y)\n",
    "DummyClassifier(strategy=\"most_frequent\")\n",
    "dummy_clf.predict(X)\n",
    "dummy_clf.score(X, y)"
   ]
  },
  {
   "cell_type": "code",
   "execution_count": 40,
   "metadata": {},
   "outputs": [
    {
     "data": {
      "text/plain": [
       "0.75"
      ]
     },
     "execution_count": 40,
     "metadata": {},
     "output_type": "execute_result"
    }
   ],
   "source": [
    "X = [0, 1, 1, 1]\n",
    "y = best_model_rfc.predict(new_df)\n",
    "dummy_clf = DummyClassifier(strategy=\"most_frequent\")\n",
    "dummy_clf.fit(X, y)\n",
    "DummyClassifier(strategy=\"most_frequent\")\n",
    "dummy_clf.predict(X)\n",
    "dummy_clf.score(X, y)"
   ]
  },
  {
   "cell_type": "code",
   "execution_count": 41,
   "metadata": {},
   "outputs": [
    {
     "data": {
      "text/plain": [
       "1.0"
      ]
     },
     "execution_count": 41,
     "metadata": {},
     "output_type": "execute_result"
    }
   ],
   "source": [
    "X = [0, 1, 1, 1]\n",
    "y = model_lr.predict(new_df)\n",
    "dummy_clf = DummyClassifier(strategy=\"most_frequent\")\n",
    "dummy_clf.fit(X, y)\n",
    "DummyClassifier(strategy=\"most_frequent\")\n",
    "dummy_clf.predict(X)\n",
    "dummy_clf.score(X, y)"
   ]
  },
  {
   "cell_type": "markdown",
   "metadata": {},
   "source": [
    "#### Вариант 2"
   ]
  },
  {
   "cell_type": "code",
   "execution_count": 42,
   "metadata": {},
   "outputs": [
    {
     "data": {
      "text/plain": [
       "0.8226509023024269"
      ]
     },
     "execution_count": 42,
     "metadata": {},
     "output_type": "execute_result"
    }
   ],
   "source": [
    "X = target\n",
    "y = best_model_dts.predict(features)\n",
    "dummy_clf = DummyClassifier(strategy=\"most_frequent\")\n",
    "dummy_clf.fit(X, y)\n",
    "DummyClassifier(strategy=\"most_frequent\")\n",
    "dummy_clf.predict(X)\n",
    "dummy_clf.score(X, y)"
   ]
  },
  {
   "cell_type": "code",
   "execution_count": 43,
   "metadata": {},
   "outputs": [
    {
     "data": {
      "text/plain": [
       "0.8105164903546982"
      ]
     },
     "execution_count": 43,
     "metadata": {},
     "output_type": "execute_result"
    }
   ],
   "source": [
    "X = target\n",
    "y = best_model_rfc.predict(features)\n",
    "dummy_clf = DummyClassifier(strategy=\"most_frequent\")\n",
    "dummy_clf.fit(X, y)\n",
    "DummyClassifier(strategy=\"most_frequent\")\n",
    "dummy_clf.predict(X)\n",
    "dummy_clf.score(X, y)"
   ]
  },
  {
   "cell_type": "code",
   "execution_count": 44,
   "metadata": {},
   "outputs": [
    {
     "data": {
      "text/plain": [
       "0.9800871188550093"
      ]
     },
     "execution_count": 44,
     "metadata": {},
     "output_type": "execute_result"
    }
   ],
   "source": [
    "X = target\n",
    "y = model_lr.predict(features)\n",
    "dummy_clf = DummyClassifier(strategy=\"most_frequent\")\n",
    "dummy_clf.fit(X, y)\n",
    "DummyClassifier(strategy=\"most_frequent\")\n",
    "dummy_clf.predict(X)\n",
    "dummy_clf.score(X, y)"
   ]
  },
  {
   "cell_type": "markdown",
   "metadata": {},
   "source": [
    "Вычислим долю значений равных 0 в целевом признаке:"
   ]
  },
  {
   "cell_type": "code",
   "execution_count": 45,
   "metadata": {},
   "outputs": [
    {
     "data": {
      "text/plain": [
       "0.693528313627878"
      ]
     },
     "execution_count": 45,
     "metadata": {},
     "output_type": "execute_result"
    }
   ],
   "source": [
    "1 - (sum(target) / len(target))"
   ]
  },
  {
   "cell_type": "markdown",
   "metadata": {},
   "source": [
    "По итогу анализа на адекватность можно сказать, что предсказанные значения моделью линейной регрессии можно получить с такой же точностью случайно."
   ]
  },
  {
   "cell_type": "markdown",
   "metadata": {},
   "source": [
    "<a id=\"conclusion\"></a>\n",
    "## Вывод"
   ]
  },
  {
   "cell_type": "markdown",
   "metadata": {},
   "source": [
    "Данные состоят из 5 колонок и 3214 строк, пропуски и дубликаты отсутствуют.  \n",
    "**Известны следующие параметры:**\n",
    "- *сalls* — количество звонков,\n",
    "- *minutes* — суммарная длительность звонков в минутах,\n",
    "- *messages* — количество sms-сообщений,\n",
    "- *mb_used* — израсходованный интернет-трафик в Мб,\n",
    "- *is_ultra* — каким тарифом пользовался в течение месяца («Ультра» — 1, «Смарт» — 0).\n",
    "\n",
    "Целевой признак в данных - столбец **is_ultra**.  \n",
    "\n",
    "Для построения моделей данные были разбиты на 3 выборки (в соотношении 3:1:1): **обучающую, валидационную, тестовую.**  \n",
    "    \n",
    "Лучшим результат ***Accuracy (точности)*** в **0.783826** показала модель построенная по алгортму машинного обучения ***Random forest (Случайный лес)***.  \n",
    "\n",
    "**Наиболее оптимальные гиперпараметры для модели** ***Random forest***:\n",
    "- количество деревьев (n_estimators) - 5, \n",
    "- макисимальная глубина деревьев (max_depth) - 5, \n",
    "- число признаков (max_features) - 3.    \n",
    "\n",
    "\n",
    "Все модели показали схожие результаты точности на тестовой выборке и при их обучении.  \n",
    "\n",
    "\n",
    "| Model | Accuracy_valid | Accuracy_test |\n",
    "| --- | --- | --- |\n",
    "| Решающее дерево | 0.774495 | 0.788491 |\n",
    "| Случайный лес | 0.783826 | 0.788491 |\n",
    "| Логистическая регрессия | 0.696734 | 0.702955 |  \n",
    "\n",
    "\n",
    "Наименьшую точность на тестовой выборке показала модель ***логистической регрессии (Logistic Regression).***  \n",
    "\n",
    "**При анализе метрик моделей, получены следующие выводы:**    \n",
    "1. Модели ***Решающее дерево*** и ***Случайный лес*** имеют схожие матрицы несоответствий;\n",
    "2. Алгоритм ***Логистической регрессии*** зачастую ошибался и устанавливал метку класса 1 не верно(ошибка 2 рода);\n",
    "3. Модель ***Логистической регрессии*** имеет очень низкую способность выявления объектов класса 1 (тариф \"Ультра\");  \n",
    "4. Модели ***Решающее дерево*** и ***Случайный лес*** имеют высокие оценки метрик, поэтому для построения системы, анализа поведения клиентов предлагаем использовать имеено эти модели.\n",
    "****\n",
    "**Рекомендации:**  \n",
    "- Требуется **уравновесить** в данных количество пользователей с тарифами \"Смарт\" и \"Ультра\", для оптимизации алгоритма моделей и повышения точности прогноза;\n",
    "- Для дальнейшего построения системы классификации клиентов и выбору тарифов предлагаем использовать модели ***Случайный лес*** и ***Решающее дерево***.\n",
    "\n"
   ]
  }
 ],
 "metadata": {
  "kernelspec": {
   "display_name": "Python 3",
   "language": "python",
   "name": "python3"
  },
  "language_info": {
   "codemirror_mode": {
    "name": "ipython",
    "version": 3
   },
   "file_extension": ".py",
   "mimetype": "text/x-python",
   "name": "python",
   "nbconvert_exporter": "python",
   "pygments_lexer": "ipython3",
   "version": "3.7.8"
  },
  "toc": {
   "base_numbering": 1,
   "nav_menu": {},
   "number_sections": true,
   "sideBar": true,
   "skip_h1_title": false,
   "title_cell": "Table of Contents",
   "title_sidebar": "Contents",
   "toc_cell": false,
   "toc_position": {},
   "toc_section_display": true,
   "toc_window_display": true
  }
 },
 "nbformat": 4,
 "nbformat_minor": 2
}
