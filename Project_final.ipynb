{
 "cells": [
  {
   "cell_type": "markdown",
   "metadata": {
    "id": "XRxRYIk16stR"
   },
   "source": [
    "# Оглавление"
   ]
  },
  {
   "cell_type": "markdown",
   "metadata": {
    "id": "rDzsG5Lf8qwX"
   },
   "source": [
    "[1. Описание проекта](#glava_1)  \n",
    "[2. Подготовка данных](#glava_2)  \n",
    "[3. Предобработка данных](#glava_3)  \n",
    "[4. Анализ данных](#glava_4)  \n",
    "[5. Обучение моделей](#glava_5)  \n",
    "[6. Анализ модели](#glava_6)  \n",
    "[Вывод](#conclusion)  \n",
    " "
   ]
  },
  {
   "cell_type": "markdown",
   "metadata": {
    "id": "9UognSTm65Wu"
   },
   "source": [
    "<a id=\"glava_1\"></a>\n",
    "\n",
    "## Описание проекта"
   ]
  },
  {
   "cell_type": "markdown",
   "metadata": {
    "id": "9UognSTm65Wu"
   },
   "source": [
    "Металлургический комбинат ООО «Так закаляем сталь» решил уменьшить потребление электроэнергии на этапе обработки стали. Необходимо построить модель, которая предскажет температуру стали."
   ]
  },
  {
   "cell_type": "markdown",
   "metadata": {
    "id": "9UognSTm65Wu"
   },
   "source": [
    "### Описание этапа обработки"
   ]
  },
  {
   "cell_type": "markdown",
   "metadata": {
    "id": "9UognSTm65Wu"
   },
   "source": [
    "Сталь обрабатывают в металлическом ковше вместимостью около 100 тонн. Расплавленную сталь заливают в ковш и подогревают до нужной температуры графитовыми электродами. Они установлены в крышке ковша. \n",
    "\n",
    "Из сплава выводится сера (десульфурация), добавлением примесей корректируется химический состав и отбираются пробы. Сталь легируют — изменяют её состав — подавая куски сплава из бункера для сыпучих материалов или проволоку через специальный трайб-аппарат (англ. tribe, «масса»).\n",
    "\n",
    "Перед тем как первый раз ввести легирующие добавки, измеряют температуру стали и производят её химический анализ. Потом температуру на несколько минут повышают, добавляют легирующие материалы и продувают сплав инертным газом. Затем его перемешивают и снова проводят измерения. Такой цикл повторяется до достижения целевого химического состава и оптимальной температуры плавки.\n",
    "\n",
    "Тогда расплавленная сталь отправляется на доводку металла или поступает в машину непрерывной разливки. Оттуда готовый продукт выходит в виде заготовок-слябов (англ. *slab*, «плита»)."
   ]
  },
  {
   "cell_type": "markdown",
   "metadata": {
    "id": "9UognSTm65Wu"
   },
   "source": [
    "### Описание данных"
   ]
  },
  {
   "cell_type": "markdown",
   "metadata": {
    "id": "9UognSTm65Wu"
   },
   "source": [
    "Данные состоят из файлов, полученных из разных источников:\n",
    "\n",
    "- `data_arc.csv` — данные об электродах;\n",
    "- `data_bulk.csv` — данные о подаче сыпучих материалов (объём);\n",
    "- `data_bulk_time.csv` *—* данные о подаче сыпучих материалов (время);\n",
    "- `data_gas.csv` — данные о продувке сплава газом;\n",
    "- `data_temp.csv` — результаты измерения температуры;\n",
    "- `data_wire.csv` — данные о проволочных материалах (объём);\n",
    "- `data_wire_time.csv` — данные о проволочных материалах (время).\n",
    "\n",
    "Во всех файлах столбец `key` содержит номер партии. В файлах может быть несколько строк с одинаковым значением `key`: они соответствуют разным итерациям обработки.\n",
    "\n",
    "<a id=\"glava_2\"></a>"
   ]
  },
  {
   "cell_type": "markdown",
   "metadata": {
    "id": "9UognSTm65Wu"
   },
   "source": [
    "## Подготовка данных"
   ]
  },
  {
   "cell_type": "code",
   "execution_count": 1,
   "metadata": {
    "id": "9UognSTm65Wu"
   },
   "outputs": [],
   "source": [
    "import pandas as pd\n",
    "import numpy as np\n",
    "import math\n",
    "\n",
    "import warnings\n",
    "from sklearn.metrics import mean_absolute_error\n",
    "from sklearn.model_selection import train_test_split\n",
    "from sklearn.preprocessing import StandardScaler\n",
    "from sklearn.linear_model import LinearRegression\n",
    "from sklearn.ensemble import RandomForestRegressor\n",
    "from lightgbm import LGBMRegressor\n",
    "from catboost import CatBoostRegressor\n",
    "from sklearn.model_selection import GridSearchCV\n",
    "from sklearn.model_selection import cross_val_score\n",
    "import matplotlib.pyplot as plt\n",
    "import seaborn as sns\n",
    "import warnings\n",
    "warnings.simplefilter(action='ignore', category=FutureWarning)\n",
    "from sklearn.metrics import make_scorer\n",
    "from statsmodels.stats.outliers_influence import variance_inflation_factor"
   ]
  },
  {
   "cell_type": "raw",
   "metadata": {
    "id": "KbsKv83tYNUG"
   },
   "source": [
    "data_arc = pd.read_csv('/content/drive/MyDrive/Colab Notebooks/Final_project/final_steel/data_arc.csv')\n",
    "data_bulk = pd.read_csv('/content/drive/MyDrive/Colab Notebooks/Final_project/final_steel/data_bulk.csv')\n",
    "data_bulk_time = pd.read_csv('/content/drive/MyDrive/Colab Notebooks/Final_project/final_steel/data_bulk_time.csv')\n",
    "data_gas = pd.read_csv('/content/drive/MyDrive/Colab Notebooks/Final_project/final_steel/data_gas.csv')\n",
    "data_temp = pd.read_csv('/content/drive/MyDrive/Colab Notebooks/Final_project/final_steel/data_temp.csv')\n",
    "data_wire = pd.read_csv('/content/drive/MyDrive/Colab Notebooks/Final_project/final_steel/data_wire.csv')\n",
    "data_wire_time = pd.read_csv('/content/drive/MyDrive/Colab Notebooks/Final_project/final_steel/data_wire_time.csv')"
   ]
  },
  {
   "cell_type": "code",
   "execution_count": 2,
   "metadata": {},
   "outputs": [],
   "source": [
    "data_arc = pd.read_csv('/datasets/final_steel/data_arc.csv')\n",
    "data_bulk = pd.read_csv('/datasets/final_steel/data_bulk.csv')\n",
    "data_bulk_time = pd.read_csv('/datasets/final_steel/data_bulk_time.csv')\n",
    "data_gas = pd.read_csv('/datasets/final_steel/data_gas.csv')\n",
    "data_temp = pd.read_csv('/datasets/final_steel/data_temp.csv')\n",
    "data_wire = pd.read_csv('/datasets/final_steel/data_wire.csv')\n",
    "data_wire_time = pd.read_csv('/datasets/final_steel/data_wire_time.csv')"
   ]
  },
  {
   "cell_type": "code",
   "execution_count": 3,
   "metadata": {
    "colab": {
     "base_uri": "https://localhost:8080/"
    },
    "id": "MqKXo3TLYQt-",
    "outputId": "a25510eb-8b66-4d0d-d390-685a284b68cd"
   },
   "outputs": [
    {
     "name": "stdout",
     "output_type": "stream",
     "text": [
      "<class 'pandas.core.frame.DataFrame'>\n",
      "RangeIndex: 14876 entries, 0 to 14875\n",
      "Data columns (total 5 columns):\n",
      "key                     14876 non-null int64\n",
      "Начало нагрева дугой    14876 non-null object\n",
      "Конец нагрева дугой     14876 non-null object\n",
      "Активная мощность       14876 non-null float64\n",
      "Реактивная мощность     14876 non-null float64\n",
      "dtypes: float64(2), int64(1), object(2)\n",
      "memory usage: 581.2+ KB\n"
     ]
    }
   ],
   "source": [
    "data_arc.info() #данные об электродах"
   ]
  },
  {
   "cell_type": "code",
   "execution_count": 4,
   "metadata": {
    "colab": {
     "base_uri": "https://localhost:8080/"
    },
    "id": "OEgftgt2tr3b",
    "outputId": "855af700-9dac-4b37-82fd-2372ad03cd1d"
   },
   "outputs": [
    {
     "data": {
      "text/plain": [
       "3214"
      ]
     },
     "execution_count": 4,
     "metadata": {},
     "output_type": "execute_result"
    }
   ],
   "source": [
    "data_arc['key'].nunique()"
   ]
  },
  {
   "cell_type": "code",
   "execution_count": 5,
   "metadata": {
    "colab": {
     "base_uri": "https://localhost:8080/",
     "height": 197
    },
    "id": "N8I5IcWTk2Pg",
    "outputId": "4f3bbde6-5800-4aa2-a374-247ebc25972b"
   },
   "outputs": [
    {
     "data": {
      "text/html": [
       "<div>\n",
       "<style scoped>\n",
       "    .dataframe tbody tr th:only-of-type {\n",
       "        vertical-align: middle;\n",
       "    }\n",
       "\n",
       "    .dataframe tbody tr th {\n",
       "        vertical-align: top;\n",
       "    }\n",
       "\n",
       "    .dataframe thead th {\n",
       "        text-align: right;\n",
       "    }\n",
       "</style>\n",
       "<table border=\"1\" class=\"dataframe\">\n",
       "  <thead>\n",
       "    <tr style=\"text-align: right;\">\n",
       "      <th></th>\n",
       "      <th>key</th>\n",
       "      <th>Начало нагрева дугой</th>\n",
       "      <th>Конец нагрева дугой</th>\n",
       "      <th>Активная мощность</th>\n",
       "      <th>Реактивная мощность</th>\n",
       "    </tr>\n",
       "  </thead>\n",
       "  <tbody>\n",
       "    <tr>\n",
       "      <td>0</td>\n",
       "      <td>1</td>\n",
       "      <td>2019-05-03 11:02:14</td>\n",
       "      <td>2019-05-03 11:06:02</td>\n",
       "      <td>0.976059</td>\n",
       "      <td>0.687084</td>\n",
       "    </tr>\n",
       "    <tr>\n",
       "      <td>1</td>\n",
       "      <td>1</td>\n",
       "      <td>2019-05-03 11:07:28</td>\n",
       "      <td>2019-05-03 11:10:33</td>\n",
       "      <td>0.805607</td>\n",
       "      <td>0.520285</td>\n",
       "    </tr>\n",
       "    <tr>\n",
       "      <td>2</td>\n",
       "      <td>1</td>\n",
       "      <td>2019-05-03 11:11:44</td>\n",
       "      <td>2019-05-03 11:14:36</td>\n",
       "      <td>0.744363</td>\n",
       "      <td>0.498805</td>\n",
       "    </tr>\n",
       "    <tr>\n",
       "      <td>3</td>\n",
       "      <td>1</td>\n",
       "      <td>2019-05-03 11:18:14</td>\n",
       "      <td>2019-05-03 11:24:19</td>\n",
       "      <td>1.659363</td>\n",
       "      <td>1.062669</td>\n",
       "    </tr>\n",
       "    <tr>\n",
       "      <td>4</td>\n",
       "      <td>1</td>\n",
       "      <td>2019-05-03 11:26:09</td>\n",
       "      <td>2019-05-03 11:28:37</td>\n",
       "      <td>0.692755</td>\n",
       "      <td>0.414397</td>\n",
       "    </tr>\n",
       "  </tbody>\n",
       "</table>\n",
       "</div>"
      ],
      "text/plain": [
       "   key Начало нагрева дугой  Конец нагрева дугой  Активная мощность  \\\n",
       "0    1  2019-05-03 11:02:14  2019-05-03 11:06:02           0.976059   \n",
       "1    1  2019-05-03 11:07:28  2019-05-03 11:10:33           0.805607   \n",
       "2    1  2019-05-03 11:11:44  2019-05-03 11:14:36           0.744363   \n",
       "3    1  2019-05-03 11:18:14  2019-05-03 11:24:19           1.659363   \n",
       "4    1  2019-05-03 11:26:09  2019-05-03 11:28:37           0.692755   \n",
       "\n",
       "   Реактивная мощность  \n",
       "0             0.687084  \n",
       "1             0.520285  \n",
       "2             0.498805  \n",
       "3             1.062669  \n",
       "4             0.414397  "
      ]
     },
     "execution_count": 5,
     "metadata": {},
     "output_type": "execute_result"
    }
   ],
   "source": [
    "data_arc.head()"
   ]
  },
  {
   "cell_type": "code",
   "execution_count": 6,
   "metadata": {
    "colab": {
     "base_uri": "https://localhost:8080/",
     "height": 286
    },
    "id": "LN3S5Sj5lI-j",
    "outputId": "b95cae60-0868-4856-acb5-8d69465c61d3"
   },
   "outputs": [
    {
     "data": {
      "text/html": [
       "<div>\n",
       "<style scoped>\n",
       "    .dataframe tbody tr th:only-of-type {\n",
       "        vertical-align: middle;\n",
       "    }\n",
       "\n",
       "    .dataframe tbody tr th {\n",
       "        vertical-align: top;\n",
       "    }\n",
       "\n",
       "    .dataframe thead th {\n",
       "        text-align: right;\n",
       "    }\n",
       "</style>\n",
       "<table border=\"1\" class=\"dataframe\">\n",
       "  <thead>\n",
       "    <tr style=\"text-align: right;\">\n",
       "      <th></th>\n",
       "      <th>key</th>\n",
       "      <th>Активная мощность</th>\n",
       "      <th>Реактивная мощность</th>\n",
       "    </tr>\n",
       "  </thead>\n",
       "  <tbody>\n",
       "    <tr>\n",
       "      <td>count</td>\n",
       "      <td>14876.000000</td>\n",
       "      <td>14876.000000</td>\n",
       "      <td>14876.000000</td>\n",
       "    </tr>\n",
       "    <tr>\n",
       "      <td>mean</td>\n",
       "      <td>1615.220422</td>\n",
       "      <td>0.670441</td>\n",
       "      <td>0.452592</td>\n",
       "    </tr>\n",
       "    <tr>\n",
       "      <td>std</td>\n",
       "      <td>934.571502</td>\n",
       "      <td>0.408159</td>\n",
       "      <td>5.878702</td>\n",
       "    </tr>\n",
       "    <tr>\n",
       "      <td>min</td>\n",
       "      <td>1.000000</td>\n",
       "      <td>0.030002</td>\n",
       "      <td>-715.504924</td>\n",
       "    </tr>\n",
       "    <tr>\n",
       "      <td>25%</td>\n",
       "      <td>806.000000</td>\n",
       "      <td>0.395297</td>\n",
       "      <td>0.290991</td>\n",
       "    </tr>\n",
       "    <tr>\n",
       "      <td>50%</td>\n",
       "      <td>1617.000000</td>\n",
       "      <td>0.555517</td>\n",
       "      <td>0.415962</td>\n",
       "    </tr>\n",
       "    <tr>\n",
       "      <td>75%</td>\n",
       "      <td>2429.000000</td>\n",
       "      <td>0.857034</td>\n",
       "      <td>0.637371</td>\n",
       "    </tr>\n",
       "    <tr>\n",
       "      <td>max</td>\n",
       "      <td>3241.000000</td>\n",
       "      <td>3.731596</td>\n",
       "      <td>2.676388</td>\n",
       "    </tr>\n",
       "  </tbody>\n",
       "</table>\n",
       "</div>"
      ],
      "text/plain": [
       "                key  Активная мощность  Реактивная мощность\n",
       "count  14876.000000       14876.000000         14876.000000\n",
       "mean    1615.220422           0.670441             0.452592\n",
       "std      934.571502           0.408159             5.878702\n",
       "min        1.000000           0.030002          -715.504924\n",
       "25%      806.000000           0.395297             0.290991\n",
       "50%     1617.000000           0.555517             0.415962\n",
       "75%     2429.000000           0.857034             0.637371\n",
       "max     3241.000000           3.731596             2.676388"
      ]
     },
     "execution_count": 6,
     "metadata": {},
     "output_type": "execute_result"
    }
   ],
   "source": [
    "data_arc.describe()"
   ]
  },
  {
   "cell_type": "code",
   "execution_count": 7,
   "metadata": {
    "id": "oeRsECgh9kHw"
   },
   "outputs": [],
   "source": [
    "data_arc.columns = ['key', 'start_arc_heating', 'end_arc_heating', 'active_power', 'reactive_power']"
   ]
  },
  {
   "cell_type": "markdown",
   "metadata": {
    "id": "kosR1JhrtxHz"
   },
   "source": [
    "Данные об электродах включают в себя инофрмацию о партии продукции, величине затраченной на нагрев активной и реактивной мощности.  \n",
    "\n",
    "Присутствуют аномалии в значении реактивной мощности."
   ]
  },
  {
   "cell_type": "code",
   "execution_count": 8,
   "metadata": {
    "colab": {
     "base_uri": "https://localhost:8080/"
    },
    "id": "fjeeGkaLZQlD",
    "outputId": "5520ae98-a948-4dd2-90b3-4c68d67d0a85"
   },
   "outputs": [
    {
     "name": "stdout",
     "output_type": "stream",
     "text": [
      "<class 'pandas.core.frame.DataFrame'>\n",
      "RangeIndex: 3129 entries, 0 to 3128\n",
      "Data columns (total 16 columns):\n",
      "key        3129 non-null int64\n",
      "Bulk 1     252 non-null float64\n",
      "Bulk 2     22 non-null float64\n",
      "Bulk 3     1298 non-null float64\n",
      "Bulk 4     1014 non-null float64\n",
      "Bulk 5     77 non-null float64\n",
      "Bulk 6     576 non-null float64\n",
      "Bulk 7     25 non-null float64\n",
      "Bulk 8     1 non-null float64\n",
      "Bulk 9     19 non-null float64\n",
      "Bulk 10    176 non-null float64\n",
      "Bulk 11    177 non-null float64\n",
      "Bulk 12    2450 non-null float64\n",
      "Bulk 13    18 non-null float64\n",
      "Bulk 14    2806 non-null float64\n",
      "Bulk 15    2248 non-null float64\n",
      "dtypes: float64(15), int64(1)\n",
      "memory usage: 391.2 KB\n"
     ]
    }
   ],
   "source": [
    "data_bulk.info() #данные о подаче сыпучих материалов (объём)"
   ]
  },
  {
   "cell_type": "code",
   "execution_count": 9,
   "metadata": {
    "colab": {
     "base_uri": "https://localhost:8080/",
     "height": 197
    },
    "id": "UySKy2vQk9dA",
    "outputId": "cd55a632-6463-4747-978c-d06f6257148f"
   },
   "outputs": [
    {
     "data": {
      "text/html": [
       "<div>\n",
       "<style scoped>\n",
       "    .dataframe tbody tr th:only-of-type {\n",
       "        vertical-align: middle;\n",
       "    }\n",
       "\n",
       "    .dataframe tbody tr th {\n",
       "        vertical-align: top;\n",
       "    }\n",
       "\n",
       "    .dataframe thead th {\n",
       "        text-align: right;\n",
       "    }\n",
       "</style>\n",
       "<table border=\"1\" class=\"dataframe\">\n",
       "  <thead>\n",
       "    <tr style=\"text-align: right;\">\n",
       "      <th></th>\n",
       "      <th>key</th>\n",
       "      <th>Bulk 1</th>\n",
       "      <th>Bulk 2</th>\n",
       "      <th>Bulk 3</th>\n",
       "      <th>Bulk 4</th>\n",
       "      <th>Bulk 5</th>\n",
       "      <th>Bulk 6</th>\n",
       "      <th>Bulk 7</th>\n",
       "      <th>Bulk 8</th>\n",
       "      <th>Bulk 9</th>\n",
       "      <th>Bulk 10</th>\n",
       "      <th>Bulk 11</th>\n",
       "      <th>Bulk 12</th>\n",
       "      <th>Bulk 13</th>\n",
       "      <th>Bulk 14</th>\n",
       "      <th>Bulk 15</th>\n",
       "    </tr>\n",
       "  </thead>\n",
       "  <tbody>\n",
       "    <tr>\n",
       "      <td>0</td>\n",
       "      <td>1</td>\n",
       "      <td>NaN</td>\n",
       "      <td>NaN</td>\n",
       "      <td>NaN</td>\n",
       "      <td>43.0</td>\n",
       "      <td>NaN</td>\n",
       "      <td>NaN</td>\n",
       "      <td>NaN</td>\n",
       "      <td>NaN</td>\n",
       "      <td>NaN</td>\n",
       "      <td>NaN</td>\n",
       "      <td>NaN</td>\n",
       "      <td>206.0</td>\n",
       "      <td>NaN</td>\n",
       "      <td>150.0</td>\n",
       "      <td>154.0</td>\n",
       "    </tr>\n",
       "    <tr>\n",
       "      <td>1</td>\n",
       "      <td>2</td>\n",
       "      <td>NaN</td>\n",
       "      <td>NaN</td>\n",
       "      <td>NaN</td>\n",
       "      <td>73.0</td>\n",
       "      <td>NaN</td>\n",
       "      <td>NaN</td>\n",
       "      <td>NaN</td>\n",
       "      <td>NaN</td>\n",
       "      <td>NaN</td>\n",
       "      <td>NaN</td>\n",
       "      <td>NaN</td>\n",
       "      <td>206.0</td>\n",
       "      <td>NaN</td>\n",
       "      <td>149.0</td>\n",
       "      <td>154.0</td>\n",
       "    </tr>\n",
       "    <tr>\n",
       "      <td>2</td>\n",
       "      <td>3</td>\n",
       "      <td>NaN</td>\n",
       "      <td>NaN</td>\n",
       "      <td>NaN</td>\n",
       "      <td>34.0</td>\n",
       "      <td>NaN</td>\n",
       "      <td>NaN</td>\n",
       "      <td>NaN</td>\n",
       "      <td>NaN</td>\n",
       "      <td>NaN</td>\n",
       "      <td>NaN</td>\n",
       "      <td>NaN</td>\n",
       "      <td>205.0</td>\n",
       "      <td>NaN</td>\n",
       "      <td>152.0</td>\n",
       "      <td>153.0</td>\n",
       "    </tr>\n",
       "    <tr>\n",
       "      <td>3</td>\n",
       "      <td>4</td>\n",
       "      <td>NaN</td>\n",
       "      <td>NaN</td>\n",
       "      <td>NaN</td>\n",
       "      <td>81.0</td>\n",
       "      <td>NaN</td>\n",
       "      <td>NaN</td>\n",
       "      <td>NaN</td>\n",
       "      <td>NaN</td>\n",
       "      <td>NaN</td>\n",
       "      <td>NaN</td>\n",
       "      <td>NaN</td>\n",
       "      <td>207.0</td>\n",
       "      <td>NaN</td>\n",
       "      <td>153.0</td>\n",
       "      <td>154.0</td>\n",
       "    </tr>\n",
       "    <tr>\n",
       "      <td>4</td>\n",
       "      <td>5</td>\n",
       "      <td>NaN</td>\n",
       "      <td>NaN</td>\n",
       "      <td>NaN</td>\n",
       "      <td>78.0</td>\n",
       "      <td>NaN</td>\n",
       "      <td>NaN</td>\n",
       "      <td>NaN</td>\n",
       "      <td>NaN</td>\n",
       "      <td>NaN</td>\n",
       "      <td>NaN</td>\n",
       "      <td>NaN</td>\n",
       "      <td>203.0</td>\n",
       "      <td>NaN</td>\n",
       "      <td>151.0</td>\n",
       "      <td>152.0</td>\n",
       "    </tr>\n",
       "  </tbody>\n",
       "</table>\n",
       "</div>"
      ],
      "text/plain": [
       "   key  Bulk 1  Bulk 2  Bulk 3  Bulk 4  Bulk 5  Bulk 6  Bulk 7  Bulk 8  \\\n",
       "0    1     NaN     NaN     NaN    43.0     NaN     NaN     NaN     NaN   \n",
       "1    2     NaN     NaN     NaN    73.0     NaN     NaN     NaN     NaN   \n",
       "2    3     NaN     NaN     NaN    34.0     NaN     NaN     NaN     NaN   \n",
       "3    4     NaN     NaN     NaN    81.0     NaN     NaN     NaN     NaN   \n",
       "4    5     NaN     NaN     NaN    78.0     NaN     NaN     NaN     NaN   \n",
       "\n",
       "   Bulk 9  Bulk 10  Bulk 11  Bulk 12  Bulk 13  Bulk 14  Bulk 15  \n",
       "0     NaN      NaN      NaN    206.0      NaN    150.0    154.0  \n",
       "1     NaN      NaN      NaN    206.0      NaN    149.0    154.0  \n",
       "2     NaN      NaN      NaN    205.0      NaN    152.0    153.0  \n",
       "3     NaN      NaN      NaN    207.0      NaN    153.0    154.0  \n",
       "4     NaN      NaN      NaN    203.0      NaN    151.0    152.0  "
      ]
     },
     "execution_count": 9,
     "metadata": {},
     "output_type": "execute_result"
    }
   ],
   "source": [
    "data_bulk.head()"
   ]
  },
  {
   "cell_type": "code",
   "execution_count": 10,
   "metadata": {
    "colab": {
     "base_uri": "https://localhost:8080/"
    },
    "id": "OihujrNMZSrY",
    "outputId": "88b9286c-a852-46a8-8956-f997c0820edc"
   },
   "outputs": [
    {
     "name": "stdout",
     "output_type": "stream",
     "text": [
      "<class 'pandas.core.frame.DataFrame'>\n",
      "RangeIndex: 3129 entries, 0 to 3128\n",
      "Data columns (total 16 columns):\n",
      "key        3129 non-null int64\n",
      "Bulk 1     252 non-null object\n",
      "Bulk 2     22 non-null object\n",
      "Bulk 3     1298 non-null object\n",
      "Bulk 4     1014 non-null object\n",
      "Bulk 5     77 non-null object\n",
      "Bulk 6     576 non-null object\n",
      "Bulk 7     25 non-null object\n",
      "Bulk 8     1 non-null object\n",
      "Bulk 9     19 non-null object\n",
      "Bulk 10    176 non-null object\n",
      "Bulk 11    177 non-null object\n",
      "Bulk 12    2450 non-null object\n",
      "Bulk 13    18 non-null object\n",
      "Bulk 14    2806 non-null object\n",
      "Bulk 15    2248 non-null object\n",
      "dtypes: int64(1), object(15)\n",
      "memory usage: 391.2+ KB\n"
     ]
    }
   ],
   "source": [
    "data_bulk_time.info() #данные о подаче сыпучих материалов (время)"
   ]
  },
  {
   "cell_type": "code",
   "execution_count": 11,
   "metadata": {
    "colab": {
     "base_uri": "https://localhost:8080/",
     "height": 197
    },
    "id": "51DVjs5TlZI1",
    "outputId": "6edf5aa1-b745-4b29-bdb8-8f4df719ea4c"
   },
   "outputs": [
    {
     "data": {
      "text/html": [
       "<div>\n",
       "<style scoped>\n",
       "    .dataframe tbody tr th:only-of-type {\n",
       "        vertical-align: middle;\n",
       "    }\n",
       "\n",
       "    .dataframe tbody tr th {\n",
       "        vertical-align: top;\n",
       "    }\n",
       "\n",
       "    .dataframe thead th {\n",
       "        text-align: right;\n",
       "    }\n",
       "</style>\n",
       "<table border=\"1\" class=\"dataframe\">\n",
       "  <thead>\n",
       "    <tr style=\"text-align: right;\">\n",
       "      <th></th>\n",
       "      <th>key</th>\n",
       "      <th>Bulk 1</th>\n",
       "      <th>Bulk 2</th>\n",
       "      <th>Bulk 3</th>\n",
       "      <th>Bulk 4</th>\n",
       "      <th>Bulk 5</th>\n",
       "      <th>Bulk 6</th>\n",
       "      <th>Bulk 7</th>\n",
       "      <th>Bulk 8</th>\n",
       "      <th>Bulk 9</th>\n",
       "      <th>Bulk 10</th>\n",
       "      <th>Bulk 11</th>\n",
       "      <th>Bulk 12</th>\n",
       "      <th>Bulk 13</th>\n",
       "      <th>Bulk 14</th>\n",
       "      <th>Bulk 15</th>\n",
       "    </tr>\n",
       "  </thead>\n",
       "  <tbody>\n",
       "    <tr>\n",
       "      <td>0</td>\n",
       "      <td>1</td>\n",
       "      <td>NaN</td>\n",
       "      <td>NaN</td>\n",
       "      <td>NaN</td>\n",
       "      <td>2019-05-03 11:21:30</td>\n",
       "      <td>NaN</td>\n",
       "      <td>NaN</td>\n",
       "      <td>NaN</td>\n",
       "      <td>NaN</td>\n",
       "      <td>NaN</td>\n",
       "      <td>NaN</td>\n",
       "      <td>NaN</td>\n",
       "      <td>2019-05-03 11:03:52</td>\n",
       "      <td>NaN</td>\n",
       "      <td>2019-05-03 11:03:52</td>\n",
       "      <td>2019-05-03 11:03:52</td>\n",
       "    </tr>\n",
       "    <tr>\n",
       "      <td>1</td>\n",
       "      <td>2</td>\n",
       "      <td>NaN</td>\n",
       "      <td>NaN</td>\n",
       "      <td>NaN</td>\n",
       "      <td>2019-05-03 11:46:38</td>\n",
       "      <td>NaN</td>\n",
       "      <td>NaN</td>\n",
       "      <td>NaN</td>\n",
       "      <td>NaN</td>\n",
       "      <td>NaN</td>\n",
       "      <td>NaN</td>\n",
       "      <td>NaN</td>\n",
       "      <td>2019-05-03 11:40:20</td>\n",
       "      <td>NaN</td>\n",
       "      <td>2019-05-03 11:40:20</td>\n",
       "      <td>2019-05-03 11:40:20</td>\n",
       "    </tr>\n",
       "    <tr>\n",
       "      <td>2</td>\n",
       "      <td>3</td>\n",
       "      <td>NaN</td>\n",
       "      <td>NaN</td>\n",
       "      <td>NaN</td>\n",
       "      <td>2019-05-03 12:31:06</td>\n",
       "      <td>NaN</td>\n",
       "      <td>NaN</td>\n",
       "      <td>NaN</td>\n",
       "      <td>NaN</td>\n",
       "      <td>NaN</td>\n",
       "      <td>NaN</td>\n",
       "      <td>NaN</td>\n",
       "      <td>2019-05-03 12:09:40</td>\n",
       "      <td>NaN</td>\n",
       "      <td>2019-05-03 12:09:40</td>\n",
       "      <td>2019-05-03 12:09:40</td>\n",
       "    </tr>\n",
       "    <tr>\n",
       "      <td>3</td>\n",
       "      <td>4</td>\n",
       "      <td>NaN</td>\n",
       "      <td>NaN</td>\n",
       "      <td>NaN</td>\n",
       "      <td>2019-05-03 12:48:43</td>\n",
       "      <td>NaN</td>\n",
       "      <td>NaN</td>\n",
       "      <td>NaN</td>\n",
       "      <td>NaN</td>\n",
       "      <td>NaN</td>\n",
       "      <td>NaN</td>\n",
       "      <td>NaN</td>\n",
       "      <td>2019-05-03 12:41:24</td>\n",
       "      <td>NaN</td>\n",
       "      <td>2019-05-03 12:41:24</td>\n",
       "      <td>2019-05-03 12:41:24</td>\n",
       "    </tr>\n",
       "    <tr>\n",
       "      <td>4</td>\n",
       "      <td>5</td>\n",
       "      <td>NaN</td>\n",
       "      <td>NaN</td>\n",
       "      <td>NaN</td>\n",
       "      <td>2019-05-03 13:18:50</td>\n",
       "      <td>NaN</td>\n",
       "      <td>NaN</td>\n",
       "      <td>NaN</td>\n",
       "      <td>NaN</td>\n",
       "      <td>NaN</td>\n",
       "      <td>NaN</td>\n",
       "      <td>NaN</td>\n",
       "      <td>2019-05-03 13:12:56</td>\n",
       "      <td>NaN</td>\n",
       "      <td>2019-05-03 13:12:56</td>\n",
       "      <td>2019-05-03 13:12:56</td>\n",
       "    </tr>\n",
       "  </tbody>\n",
       "</table>\n",
       "</div>"
      ],
      "text/plain": [
       "   key Bulk 1 Bulk 2 Bulk 3               Bulk 4 Bulk 5 Bulk 6 Bulk 7 Bulk 8  \\\n",
       "0    1    NaN    NaN    NaN  2019-05-03 11:21:30    NaN    NaN    NaN    NaN   \n",
       "1    2    NaN    NaN    NaN  2019-05-03 11:46:38    NaN    NaN    NaN    NaN   \n",
       "2    3    NaN    NaN    NaN  2019-05-03 12:31:06    NaN    NaN    NaN    NaN   \n",
       "3    4    NaN    NaN    NaN  2019-05-03 12:48:43    NaN    NaN    NaN    NaN   \n",
       "4    5    NaN    NaN    NaN  2019-05-03 13:18:50    NaN    NaN    NaN    NaN   \n",
       "\n",
       "  Bulk 9 Bulk 10 Bulk 11              Bulk 12 Bulk 13              Bulk 14  \\\n",
       "0    NaN     NaN     NaN  2019-05-03 11:03:52     NaN  2019-05-03 11:03:52   \n",
       "1    NaN     NaN     NaN  2019-05-03 11:40:20     NaN  2019-05-03 11:40:20   \n",
       "2    NaN     NaN     NaN  2019-05-03 12:09:40     NaN  2019-05-03 12:09:40   \n",
       "3    NaN     NaN     NaN  2019-05-03 12:41:24     NaN  2019-05-03 12:41:24   \n",
       "4    NaN     NaN     NaN  2019-05-03 13:12:56     NaN  2019-05-03 13:12:56   \n",
       "\n",
       "               Bulk 15  \n",
       "0  2019-05-03 11:03:52  \n",
       "1  2019-05-03 11:40:20  \n",
       "2  2019-05-03 12:09:40  \n",
       "3  2019-05-03 12:41:24  \n",
       "4  2019-05-03 13:12:56  "
      ]
     },
     "execution_count": 11,
     "metadata": {},
     "output_type": "execute_result"
    }
   ],
   "source": [
    "data_bulk_time.head()"
   ]
  },
  {
   "cell_type": "markdown",
   "metadata": {
    "id": "BIEWREuLtvW3"
   },
   "source": [
    "Процесс подачи сыпучих материалов описан с помощью двух таблиц. Первая таблица указывает на партию, вид сырья и объема подачи. Вторая таблица указывает в какое время происходила подача."
   ]
  },
  {
   "cell_type": "code",
   "execution_count": 12,
   "metadata": {
    "colab": {
     "base_uri": "https://localhost:8080/"
    },
    "id": "j9hKOyXGZc_N",
    "outputId": "38bc85a2-3d88-4598-d889-ccb5ffcf81f1"
   },
   "outputs": [
    {
     "name": "stdout",
     "output_type": "stream",
     "text": [
      "<class 'pandas.core.frame.DataFrame'>\n",
      "RangeIndex: 3239 entries, 0 to 3238\n",
      "Data columns (total 2 columns):\n",
      "key      3239 non-null int64\n",
      "Газ 1    3239 non-null float64\n",
      "dtypes: float64(1), int64(1)\n",
      "memory usage: 50.7 KB\n"
     ]
    }
   ],
   "source": [
    "data_gas.info()  #данные о продувке сплава газом"
   ]
  },
  {
   "cell_type": "code",
   "execution_count": 13,
   "metadata": {
    "colab": {
     "base_uri": "https://localhost:8080/",
     "height": 197
    },
    "id": "YvxrtdmtlqCm",
    "outputId": "e08ee06d-e8cf-449f-e177-c3b4878d2c8c"
   },
   "outputs": [
    {
     "data": {
      "text/html": [
       "<div>\n",
       "<style scoped>\n",
       "    .dataframe tbody tr th:only-of-type {\n",
       "        vertical-align: middle;\n",
       "    }\n",
       "\n",
       "    .dataframe tbody tr th {\n",
       "        vertical-align: top;\n",
       "    }\n",
       "\n",
       "    .dataframe thead th {\n",
       "        text-align: right;\n",
       "    }\n",
       "</style>\n",
       "<table border=\"1\" class=\"dataframe\">\n",
       "  <thead>\n",
       "    <tr style=\"text-align: right;\">\n",
       "      <th></th>\n",
       "      <th>key</th>\n",
       "      <th>Газ 1</th>\n",
       "    </tr>\n",
       "  </thead>\n",
       "  <tbody>\n",
       "    <tr>\n",
       "      <td>3234</td>\n",
       "      <td>3237</td>\n",
       "      <td>5.543905</td>\n",
       "    </tr>\n",
       "    <tr>\n",
       "      <td>3235</td>\n",
       "      <td>3238</td>\n",
       "      <td>6.745669</td>\n",
       "    </tr>\n",
       "    <tr>\n",
       "      <td>3236</td>\n",
       "      <td>3239</td>\n",
       "      <td>16.023518</td>\n",
       "    </tr>\n",
       "    <tr>\n",
       "      <td>3237</td>\n",
       "      <td>3240</td>\n",
       "      <td>11.863103</td>\n",
       "    </tr>\n",
       "    <tr>\n",
       "      <td>3238</td>\n",
       "      <td>3241</td>\n",
       "      <td>12.680959</td>\n",
       "    </tr>\n",
       "  </tbody>\n",
       "</table>\n",
       "</div>"
      ],
      "text/plain": [
       "       key      Газ 1\n",
       "3234  3237   5.543905\n",
       "3235  3238   6.745669\n",
       "3236  3239  16.023518\n",
       "3237  3240  11.863103\n",
       "3238  3241  12.680959"
      ]
     },
     "execution_count": 13,
     "metadata": {},
     "output_type": "execute_result"
    }
   ],
   "source": [
    "data_gas.tail()"
   ]
  },
  {
   "cell_type": "code",
   "execution_count": 14,
   "metadata": {
    "colab": {
     "base_uri": "https://localhost:8080/"
    },
    "id": "uSTzqeXduG6k",
    "outputId": "87d44acf-2eca-45a2-e438-01f54465dc1b"
   },
   "outputs": [
    {
     "data": {
      "text/plain": [
       "3239"
      ]
     },
     "execution_count": 14,
     "metadata": {},
     "output_type": "execute_result"
    }
   ],
   "source": [
    "data_gas['key'].nunique()"
   ]
  },
  {
   "cell_type": "code",
   "execution_count": 15,
   "metadata": {
    "id": "ltm0Qgw-onXy"
   },
   "outputs": [],
   "source": [
    "data_gas.columns = ['key', 'volume_gas']"
   ]
  },
  {
   "cell_type": "markdown",
   "metadata": {
    "id": "IDMXsYaJvP2u"
   },
   "source": [
    "Данные о продувке сплава газом, представлены суммарно для каждой партии продукции."
   ]
  },
  {
   "cell_type": "code",
   "execution_count": 16,
   "metadata": {
    "colab": {
     "base_uri": "https://localhost:8080/"
    },
    "id": "iIsClznAZdCC",
    "outputId": "7239ecf8-cc7f-4e77-fe7b-f383a446788a"
   },
   "outputs": [
    {
     "name": "stdout",
     "output_type": "stream",
     "text": [
      "<class 'pandas.core.frame.DataFrame'>\n",
      "RangeIndex: 15907 entries, 0 to 15906\n",
      "Data columns (total 3 columns):\n",
      "key             15907 non-null int64\n",
      "Время замера    15907 non-null object\n",
      "Температура     13006 non-null float64\n",
      "dtypes: float64(1), int64(1), object(1)\n",
      "memory usage: 372.9+ KB\n"
     ]
    }
   ],
   "source": [
    "data_temp.info() #результаты измерения температуры"
   ]
  },
  {
   "cell_type": "code",
   "execution_count": 17,
   "metadata": {
    "colab": {
     "base_uri": "https://localhost:8080/",
     "height": 197
    },
    "id": "eTKkoMcEl1wn",
    "outputId": "0dacec3b-4376-4bd3-84cc-8d3185c6acb1"
   },
   "outputs": [
    {
     "data": {
      "text/html": [
       "<div>\n",
       "<style scoped>\n",
       "    .dataframe tbody tr th:only-of-type {\n",
       "        vertical-align: middle;\n",
       "    }\n",
       "\n",
       "    .dataframe tbody tr th {\n",
       "        vertical-align: top;\n",
       "    }\n",
       "\n",
       "    .dataframe thead th {\n",
       "        text-align: right;\n",
       "    }\n",
       "</style>\n",
       "<table border=\"1\" class=\"dataframe\">\n",
       "  <thead>\n",
       "    <tr style=\"text-align: right;\">\n",
       "      <th></th>\n",
       "      <th>key</th>\n",
       "      <th>Время замера</th>\n",
       "      <th>Температура</th>\n",
       "    </tr>\n",
       "  </thead>\n",
       "  <tbody>\n",
       "    <tr>\n",
       "      <td>0</td>\n",
       "      <td>1</td>\n",
       "      <td>2019-05-03 11:16:18</td>\n",
       "      <td>1571.0</td>\n",
       "    </tr>\n",
       "    <tr>\n",
       "      <td>1</td>\n",
       "      <td>1</td>\n",
       "      <td>2019-05-03 11:25:53</td>\n",
       "      <td>1604.0</td>\n",
       "    </tr>\n",
       "    <tr>\n",
       "      <td>2</td>\n",
       "      <td>1</td>\n",
       "      <td>2019-05-03 11:29:11</td>\n",
       "      <td>1618.0</td>\n",
       "    </tr>\n",
       "    <tr>\n",
       "      <td>3</td>\n",
       "      <td>1</td>\n",
       "      <td>2019-05-03 11:30:01</td>\n",
       "      <td>1601.0</td>\n",
       "    </tr>\n",
       "    <tr>\n",
       "      <td>4</td>\n",
       "      <td>1</td>\n",
       "      <td>2019-05-03 11:30:39</td>\n",
       "      <td>1613.0</td>\n",
       "    </tr>\n",
       "  </tbody>\n",
       "</table>\n",
       "</div>"
      ],
      "text/plain": [
       "   key         Время замера  Температура\n",
       "0    1  2019-05-03 11:16:18       1571.0\n",
       "1    1  2019-05-03 11:25:53       1604.0\n",
       "2    1  2019-05-03 11:29:11       1618.0\n",
       "3    1  2019-05-03 11:30:01       1601.0\n",
       "4    1  2019-05-03 11:30:39       1613.0"
      ]
     },
     "execution_count": 17,
     "metadata": {},
     "output_type": "execute_result"
    }
   ],
   "source": [
    "data_temp.head()"
   ]
  },
  {
   "cell_type": "code",
   "execution_count": 18,
   "metadata": {
    "colab": {
     "base_uri": "https://localhost:8080/"
    },
    "id": "7K3DCE0R1Wca",
    "outputId": "7366e3c0-d6a7-40d0-e9c7-c1ffdb47bcc9"
   },
   "outputs": [
    {
     "data": {
      "text/plain": [
       "key             0.000000\n",
       "Время замера    0.000000\n",
       "Температура     0.223051\n",
       "dtype: float64"
      ]
     },
     "execution_count": 18,
     "metadata": {},
     "output_type": "execute_result"
    }
   ],
   "source": [
    "data_temp.isna().sum() / data_temp.count()"
   ]
  },
  {
   "cell_type": "markdown",
   "metadata": {
    "id": "_-vcL9KM1yIu"
   },
   "source": [
    "В целевой переменной  ~ 22% пропусков."
   ]
  },
  {
   "cell_type": "code",
   "execution_count": 19,
   "metadata": {
    "colab": {
     "base_uri": "https://localhost:8080/",
     "height": 286
    },
    "id": "tbp2b1CfwAfo",
    "outputId": "7d8efab7-2085-4c43-ac7f-a23293bfeb62"
   },
   "outputs": [
    {
     "data": {
      "text/html": [
       "<div>\n",
       "<style scoped>\n",
       "    .dataframe tbody tr th:only-of-type {\n",
       "        vertical-align: middle;\n",
       "    }\n",
       "\n",
       "    .dataframe tbody tr th {\n",
       "        vertical-align: top;\n",
       "    }\n",
       "\n",
       "    .dataframe thead th {\n",
       "        text-align: right;\n",
       "    }\n",
       "</style>\n",
       "<table border=\"1\" class=\"dataframe\">\n",
       "  <thead>\n",
       "    <tr style=\"text-align: right;\">\n",
       "      <th></th>\n",
       "      <th>key</th>\n",
       "      <th>Температура</th>\n",
       "    </tr>\n",
       "  </thead>\n",
       "  <tbody>\n",
       "    <tr>\n",
       "      <td>count</td>\n",
       "      <td>15907.000000</td>\n",
       "      <td>13006.000000</td>\n",
       "    </tr>\n",
       "    <tr>\n",
       "      <td>mean</td>\n",
       "      <td>1607.880870</td>\n",
       "      <td>1591.840920</td>\n",
       "    </tr>\n",
       "    <tr>\n",
       "      <td>std</td>\n",
       "      <td>942.212073</td>\n",
       "      <td>21.375851</td>\n",
       "    </tr>\n",
       "    <tr>\n",
       "      <td>min</td>\n",
       "      <td>1.000000</td>\n",
       "      <td>1191.000000</td>\n",
       "    </tr>\n",
       "    <tr>\n",
       "      <td>25%</td>\n",
       "      <td>790.000000</td>\n",
       "      <td>1581.000000</td>\n",
       "    </tr>\n",
       "    <tr>\n",
       "      <td>50%</td>\n",
       "      <td>1618.000000</td>\n",
       "      <td>1591.000000</td>\n",
       "    </tr>\n",
       "    <tr>\n",
       "      <td>75%</td>\n",
       "      <td>2427.000000</td>\n",
       "      <td>1601.000000</td>\n",
       "    </tr>\n",
       "    <tr>\n",
       "      <td>max</td>\n",
       "      <td>3241.000000</td>\n",
       "      <td>1705.000000</td>\n",
       "    </tr>\n",
       "  </tbody>\n",
       "</table>\n",
       "</div>"
      ],
      "text/plain": [
       "                key   Температура\n",
       "count  15907.000000  13006.000000\n",
       "mean    1607.880870   1591.840920\n",
       "std      942.212073     21.375851\n",
       "min        1.000000   1191.000000\n",
       "25%      790.000000   1581.000000\n",
       "50%     1618.000000   1591.000000\n",
       "75%     2427.000000   1601.000000\n",
       "max     3241.000000   1705.000000"
      ]
     },
     "execution_count": 19,
     "metadata": {},
     "output_type": "execute_result"
    }
   ],
   "source": [
    "data_temp.describe()"
   ]
  },
  {
   "cell_type": "code",
   "execution_count": 20,
   "metadata": {
    "colab": {
     "base_uri": "https://localhost:8080/"
    },
    "id": "8dJ4AJrgwLdn",
    "outputId": "38350c49-4c14-4a82-aaee-60e454102e07"
   },
   "outputs": [
    {
     "data": {
      "text/plain": [
       "3216"
      ]
     },
     "execution_count": 20,
     "metadata": {},
     "output_type": "execute_result"
    }
   ],
   "source": [
    "data_temp['key'].nunique()"
   ]
  },
  {
   "cell_type": "code",
   "execution_count": 21,
   "metadata": {
    "id": "FJofRcikjUoC"
   },
   "outputs": [],
   "source": [
    "data_temp.columns = ['key', 'start_meas_temp', 'temp']"
   ]
  },
  {
   "cell_type": "code",
   "execution_count": 22,
   "metadata": {
    "colab": {
     "base_uri": "https://localhost:8080/",
     "height": 308
    },
    "id": "-r3DSp5yr7FQ",
    "outputId": "a5c4ded0-626b-4d67-f490-4b909ad8b77c"
   },
   "outputs": [
    {
     "data": {
      "image/png": "[encoded data removed]",
      "text/plain": [
       "<Figure size 432x288 with 1 Axes>"
      ]
     },
     "metadata": {
      "needs_background": "light"
     },
     "output_type": "display_data"
    }
   ],
   "source": [
    "data_temp['temp'].hist(bins=100, range=(1400, 1800));\n",
    "plt.suptitle('Гистограмма температуры')\n",
    "plt.xlabel('Температура')\n",
    "plt.ylabel('Количество значений')\n",
    "plt.show()"
   ]
  },
  {
   "cell_type": "markdown",
   "metadata": {
    "id": "o0u9B3a1v3DF"
   },
   "source": [
    "Данные о последнем измерении температуры являются **целевой переменной**.   \n",
    "\n",
    "Обучение модели возможно провести только для 3216 партий продукции. Это максимальное количество уникальных значений **key** в таблице **data_temp**.\n",
    "\n",
    "Измерение температуры проводились на разных этапах производства каждой партии.  \n",
    "\n",
    "Изменения зафиксированной температуры находятся в диапазоне от 1191 до 1705 градусов.  \n",
    "\n",
    "Основная часть измерений температуры находится в пределах 100 градусов. Это указывает на то, что опускание электродов в ковш служит для поддержания температуры и подогрев, остывающего сырья.\n"
   ]
  },
  {
   "cell_type": "code",
   "execution_count": 23,
   "metadata": {
    "colab": {
     "base_uri": "https://localhost:8080/"
    },
    "id": "G2kVg6GPZdFv",
    "outputId": "c2415a37-c375-499e-c81c-a72638122dff"
   },
   "outputs": [
    {
     "name": "stdout",
     "output_type": "stream",
     "text": [
      "<class 'pandas.core.frame.DataFrame'>\n",
      "RangeIndex: 3081 entries, 0 to 3080\n",
      "Data columns (total 10 columns):\n",
      "key       3081 non-null int64\n",
      "Wire 1    3055 non-null float64\n",
      "Wire 2    1079 non-null float64\n",
      "Wire 3    63 non-null float64\n",
      "Wire 4    14 non-null float64\n",
      "Wire 5    1 non-null float64\n",
      "Wire 6    73 non-null float64\n",
      "Wire 7    11 non-null float64\n",
      "Wire 8    19 non-null float64\n",
      "Wire 9    29 non-null float64\n",
      "dtypes: float64(9), int64(1)\n",
      "memory usage: 240.8 KB\n"
     ]
    }
   ],
   "source": [
    "data_wire.info() #данные о проволочных материалах (объём)"
   ]
  },
  {
   "cell_type": "code",
   "execution_count": 24,
   "metadata": {
    "colab": {
     "base_uri": "https://localhost:8080/",
     "height": 197
    },
    "id": "uUspWl5zngTx",
    "outputId": "ccf64ebe-0780-465b-ac6d-6c6665c7133c"
   },
   "outputs": [
    {
     "data": {
      "text/html": [
       "<div>\n",
       "<style scoped>\n",
       "    .dataframe tbody tr th:only-of-type {\n",
       "        vertical-align: middle;\n",
       "    }\n",
       "\n",
       "    .dataframe tbody tr th {\n",
       "        vertical-align: top;\n",
       "    }\n",
       "\n",
       "    .dataframe thead th {\n",
       "        text-align: right;\n",
       "    }\n",
       "</style>\n",
       "<table border=\"1\" class=\"dataframe\">\n",
       "  <thead>\n",
       "    <tr style=\"text-align: right;\">\n",
       "      <th></th>\n",
       "      <th>key</th>\n",
       "      <th>Wire 1</th>\n",
       "      <th>Wire 2</th>\n",
       "      <th>Wire 3</th>\n",
       "      <th>Wire 4</th>\n",
       "      <th>Wire 5</th>\n",
       "      <th>Wire 6</th>\n",
       "      <th>Wire 7</th>\n",
       "      <th>Wire 8</th>\n",
       "      <th>Wire 9</th>\n",
       "    </tr>\n",
       "  </thead>\n",
       "  <tbody>\n",
       "    <tr>\n",
       "      <td>0</td>\n",
       "      <td>1</td>\n",
       "      <td>60.059998</td>\n",
       "      <td>NaN</td>\n",
       "      <td>NaN</td>\n",
       "      <td>NaN</td>\n",
       "      <td>NaN</td>\n",
       "      <td>NaN</td>\n",
       "      <td>NaN</td>\n",
       "      <td>NaN</td>\n",
       "      <td>NaN</td>\n",
       "    </tr>\n",
       "    <tr>\n",
       "      <td>1</td>\n",
       "      <td>2</td>\n",
       "      <td>96.052315</td>\n",
       "      <td>NaN</td>\n",
       "      <td>NaN</td>\n",
       "      <td>NaN</td>\n",
       "      <td>NaN</td>\n",
       "      <td>NaN</td>\n",
       "      <td>NaN</td>\n",
       "      <td>NaN</td>\n",
       "      <td>NaN</td>\n",
       "    </tr>\n",
       "    <tr>\n",
       "      <td>2</td>\n",
       "      <td>3</td>\n",
       "      <td>91.160157</td>\n",
       "      <td>NaN</td>\n",
       "      <td>NaN</td>\n",
       "      <td>NaN</td>\n",
       "      <td>NaN</td>\n",
       "      <td>NaN</td>\n",
       "      <td>NaN</td>\n",
       "      <td>NaN</td>\n",
       "      <td>NaN</td>\n",
       "    </tr>\n",
       "    <tr>\n",
       "      <td>3</td>\n",
       "      <td>4</td>\n",
       "      <td>89.063515</td>\n",
       "      <td>NaN</td>\n",
       "      <td>NaN</td>\n",
       "      <td>NaN</td>\n",
       "      <td>NaN</td>\n",
       "      <td>NaN</td>\n",
       "      <td>NaN</td>\n",
       "      <td>NaN</td>\n",
       "      <td>NaN</td>\n",
       "    </tr>\n",
       "    <tr>\n",
       "      <td>4</td>\n",
       "      <td>5</td>\n",
       "      <td>89.238236</td>\n",
       "      <td>9.11456</td>\n",
       "      <td>NaN</td>\n",
       "      <td>NaN</td>\n",
       "      <td>NaN</td>\n",
       "      <td>NaN</td>\n",
       "      <td>NaN</td>\n",
       "      <td>NaN</td>\n",
       "      <td>NaN</td>\n",
       "    </tr>\n",
       "  </tbody>\n",
       "</table>\n",
       "</div>"
      ],
      "text/plain": [
       "   key     Wire 1   Wire 2  Wire 3  Wire 4  Wire 5  Wire 6  Wire 7  Wire 8  \\\n",
       "0    1  60.059998      NaN     NaN     NaN     NaN     NaN     NaN     NaN   \n",
       "1    2  96.052315      NaN     NaN     NaN     NaN     NaN     NaN     NaN   \n",
       "2    3  91.160157      NaN     NaN     NaN     NaN     NaN     NaN     NaN   \n",
       "3    4  89.063515      NaN     NaN     NaN     NaN     NaN     NaN     NaN   \n",
       "4    5  89.238236  9.11456     NaN     NaN     NaN     NaN     NaN     NaN   \n",
       "\n",
       "   Wire 9  \n",
       "0     NaN  \n",
       "1     NaN  \n",
       "2     NaN  \n",
       "3     NaN  \n",
       "4     NaN  "
      ]
     },
     "execution_count": 24,
     "metadata": {},
     "output_type": "execute_result"
    }
   ],
   "source": [
    "data_wire.head()"
   ]
  },
  {
   "cell_type": "code",
   "execution_count": 25,
   "metadata": {
    "colab": {
     "base_uri": "https://localhost:8080/"
    },
    "id": "mdfBohoCZdJE",
    "outputId": "f9404d60-f3b1-46bf-9e5b-3a18a6fcc355"
   },
   "outputs": [
    {
     "name": "stdout",
     "output_type": "stream",
     "text": [
      "<class 'pandas.core.frame.DataFrame'>\n",
      "RangeIndex: 3081 entries, 0 to 3080\n",
      "Data columns (total 10 columns):\n",
      "key       3081 non-null int64\n",
      "Wire 1    3055 non-null object\n",
      "Wire 2    1079 non-null object\n",
      "Wire 3    63 non-null object\n",
      "Wire 4    14 non-null object\n",
      "Wire 5    1 non-null object\n",
      "Wire 6    73 non-null object\n",
      "Wire 7    11 non-null object\n",
      "Wire 8    19 non-null object\n",
      "Wire 9    29 non-null object\n",
      "dtypes: int64(1), object(9)\n",
      "memory usage: 240.8+ KB\n"
     ]
    }
   ],
   "source": [
    "data_wire_time.info() #данные о проволочных материалах (время)"
   ]
  },
  {
   "cell_type": "code",
   "execution_count": 26,
   "metadata": {
    "colab": {
     "base_uri": "https://localhost:8080/",
     "height": 197
    },
    "id": "ck2DmDK5nlgW",
    "outputId": "ea0e37bf-6484-43ac-ffa3-1011cb6142a3"
   },
   "outputs": [
    {
     "data": {
      "text/html": [
       "<div>\n",
       "<style scoped>\n",
       "    .dataframe tbody tr th:only-of-type {\n",
       "        vertical-align: middle;\n",
       "    }\n",
       "\n",
       "    .dataframe tbody tr th {\n",
       "        vertical-align: top;\n",
       "    }\n",
       "\n",
       "    .dataframe thead th {\n",
       "        text-align: right;\n",
       "    }\n",
       "</style>\n",
       "<table border=\"1\" class=\"dataframe\">\n",
       "  <thead>\n",
       "    <tr style=\"text-align: right;\">\n",
       "      <th></th>\n",
       "      <th>key</th>\n",
       "      <th>Wire 1</th>\n",
       "      <th>Wire 2</th>\n",
       "      <th>Wire 3</th>\n",
       "      <th>Wire 4</th>\n",
       "      <th>Wire 5</th>\n",
       "      <th>Wire 6</th>\n",
       "      <th>Wire 7</th>\n",
       "      <th>Wire 8</th>\n",
       "      <th>Wire 9</th>\n",
       "    </tr>\n",
       "  </thead>\n",
       "  <tbody>\n",
       "    <tr>\n",
       "      <td>0</td>\n",
       "      <td>1</td>\n",
       "      <td>2019-05-03 11:11:41</td>\n",
       "      <td>NaN</td>\n",
       "      <td>NaN</td>\n",
       "      <td>NaN</td>\n",
       "      <td>NaN</td>\n",
       "      <td>NaN</td>\n",
       "      <td>NaN</td>\n",
       "      <td>NaN</td>\n",
       "      <td>NaN</td>\n",
       "    </tr>\n",
       "    <tr>\n",
       "      <td>1</td>\n",
       "      <td>2</td>\n",
       "      <td>2019-05-03 11:46:10</td>\n",
       "      <td>NaN</td>\n",
       "      <td>NaN</td>\n",
       "      <td>NaN</td>\n",
       "      <td>NaN</td>\n",
       "      <td>NaN</td>\n",
       "      <td>NaN</td>\n",
       "      <td>NaN</td>\n",
       "      <td>NaN</td>\n",
       "    </tr>\n",
       "    <tr>\n",
       "      <td>2</td>\n",
       "      <td>3</td>\n",
       "      <td>2019-05-03 12:13:47</td>\n",
       "      <td>NaN</td>\n",
       "      <td>NaN</td>\n",
       "      <td>NaN</td>\n",
       "      <td>NaN</td>\n",
       "      <td>NaN</td>\n",
       "      <td>NaN</td>\n",
       "      <td>NaN</td>\n",
       "      <td>NaN</td>\n",
       "    </tr>\n",
       "    <tr>\n",
       "      <td>3</td>\n",
       "      <td>4</td>\n",
       "      <td>2019-05-03 12:48:05</td>\n",
       "      <td>NaN</td>\n",
       "      <td>NaN</td>\n",
       "      <td>NaN</td>\n",
       "      <td>NaN</td>\n",
       "      <td>NaN</td>\n",
       "      <td>NaN</td>\n",
       "      <td>NaN</td>\n",
       "      <td>NaN</td>\n",
       "    </tr>\n",
       "    <tr>\n",
       "      <td>4</td>\n",
       "      <td>5</td>\n",
       "      <td>2019-05-03 13:18:15</td>\n",
       "      <td>2019-05-03 13:32:06</td>\n",
       "      <td>NaN</td>\n",
       "      <td>NaN</td>\n",
       "      <td>NaN</td>\n",
       "      <td>NaN</td>\n",
       "      <td>NaN</td>\n",
       "      <td>NaN</td>\n",
       "      <td>NaN</td>\n",
       "    </tr>\n",
       "  </tbody>\n",
       "</table>\n",
       "</div>"
      ],
      "text/plain": [
       "   key               Wire 1               Wire 2 Wire 3 Wire 4 Wire 5 Wire 6  \\\n",
       "0    1  2019-05-03 11:11:41                  NaN    NaN    NaN    NaN    NaN   \n",
       "1    2  2019-05-03 11:46:10                  NaN    NaN    NaN    NaN    NaN   \n",
       "2    3  2019-05-03 12:13:47                  NaN    NaN    NaN    NaN    NaN   \n",
       "3    4  2019-05-03 12:48:05                  NaN    NaN    NaN    NaN    NaN   \n",
       "4    5  2019-05-03 13:18:15  2019-05-03 13:32:06    NaN    NaN    NaN    NaN   \n",
       "\n",
       "  Wire 7 Wire 8 Wire 9  \n",
       "0    NaN    NaN    NaN  \n",
       "1    NaN    NaN    NaN  \n",
       "2    NaN    NaN    NaN  \n",
       "3    NaN    NaN    NaN  \n",
       "4    NaN    NaN    NaN  "
      ]
     },
     "execution_count": 26,
     "metadata": {},
     "output_type": "execute_result"
    }
   ],
   "source": [
    "data_wire_time.head()"
   ]
  },
  {
   "cell_type": "markdown",
   "metadata": {
    "id": "hducu5D-xOTQ"
   },
   "source": [
    "Данные о проволочных материалах, как и данные о сыпучих материалах, включают объем и время загрузки.  \n"
   ]
  },
  {
   "cell_type": "markdown",
   "metadata": {
    "id": "S7vZvQAErwmO"
   },
   "source": [
    "### Вывод"
   ]
  },
  {
   "cell_type": "markdown",
   "metadata": {
    "id": "3U6qAV8Kr4Hz"
   },
   "source": [
    "Производственный процесс представляет из себя цикл этапов, включающих опускание электродов в ковш(нагрев), добавление сыпучих материалов и проволки, продувка газов, замеры температуры.  \n",
    "\n",
    "Данные о последнем измерении температуры являются **целевой переменной**.     \n",
    "\n",
    "Изменения зафиксированной температуры находятся в диапазоне от 1191 до 1705 градусов и равен 514.  "
   ]
  },
  {
   "cell_type": "markdown",
   "metadata": {
    "id": "gfYpHHXB8jCb"
   },
   "source": [
    "<a id=\"glava_3\"></a>\n",
    "## Предобработка данных"
   ]
  },
  {
   "cell_type": "code",
   "execution_count": 27,
   "metadata": {
    "colab": {
     "base_uri": "https://localhost:8080/",
     "height": 197
    },
    "id": "lYZgiFKh_rrg",
    "outputId": "4196301e-c730-4641-9974-f11f55b4fd86"
   },
   "outputs": [
    {
     "data": {
      "text/html": [
       "<div>\n",
       "<style scoped>\n",
       "    .dataframe tbody tr th:only-of-type {\n",
       "        vertical-align: middle;\n",
       "    }\n",
       "\n",
       "    .dataframe tbody tr th {\n",
       "        vertical-align: top;\n",
       "    }\n",
       "\n",
       "    .dataframe thead th {\n",
       "        text-align: right;\n",
       "    }\n",
       "</style>\n",
       "<table border=\"1\" class=\"dataframe\">\n",
       "  <thead>\n",
       "    <tr style=\"text-align: right;\">\n",
       "      <th></th>\n",
       "      <th>key</th>\n",
       "      <th>start_arc_heating</th>\n",
       "      <th>end_arc_heating</th>\n",
       "      <th>active_power</th>\n",
       "      <th>reactive_power</th>\n",
       "    </tr>\n",
       "  </thead>\n",
       "  <tbody>\n",
       "    <tr>\n",
       "      <td>0</td>\n",
       "      <td>1</td>\n",
       "      <td>2019-05-03 11:02:14</td>\n",
       "      <td>2019-05-03 11:06:02</td>\n",
       "      <td>0.976059</td>\n",
       "      <td>0.687084</td>\n",
       "    </tr>\n",
       "    <tr>\n",
       "      <td>1</td>\n",
       "      <td>1</td>\n",
       "      <td>2019-05-03 11:07:28</td>\n",
       "      <td>2019-05-03 11:10:33</td>\n",
       "      <td>0.805607</td>\n",
       "      <td>0.520285</td>\n",
       "    </tr>\n",
       "    <tr>\n",
       "      <td>2</td>\n",
       "      <td>1</td>\n",
       "      <td>2019-05-03 11:11:44</td>\n",
       "      <td>2019-05-03 11:14:36</td>\n",
       "      <td>0.744363</td>\n",
       "      <td>0.498805</td>\n",
       "    </tr>\n",
       "    <tr>\n",
       "      <td>3</td>\n",
       "      <td>1</td>\n",
       "      <td>2019-05-03 11:18:14</td>\n",
       "      <td>2019-05-03 11:24:19</td>\n",
       "      <td>1.659363</td>\n",
       "      <td>1.062669</td>\n",
       "    </tr>\n",
       "    <tr>\n",
       "      <td>4</td>\n",
       "      <td>1</td>\n",
       "      <td>2019-05-03 11:26:09</td>\n",
       "      <td>2019-05-03 11:28:37</td>\n",
       "      <td>0.692755</td>\n",
       "      <td>0.414397</td>\n",
       "    </tr>\n",
       "  </tbody>\n",
       "</table>\n",
       "</div>"
      ],
      "text/plain": [
       "   key    start_arc_heating      end_arc_heating  active_power  reactive_power\n",
       "0    1  2019-05-03 11:02:14  2019-05-03 11:06:02      0.976059        0.687084\n",
       "1    1  2019-05-03 11:07:28  2019-05-03 11:10:33      0.805607        0.520285\n",
       "2    1  2019-05-03 11:11:44  2019-05-03 11:14:36      0.744363        0.498805\n",
       "3    1  2019-05-03 11:18:14  2019-05-03 11:24:19      1.659363        1.062669\n",
       "4    1  2019-05-03 11:26:09  2019-05-03 11:28:37      0.692755        0.414397"
      ]
     },
     "execution_count": 27,
     "metadata": {},
     "output_type": "execute_result"
    }
   ],
   "source": [
    "data_arc.head()"
   ]
  },
  {
   "cell_type": "code",
   "execution_count": 28,
   "metadata": {
    "id": "EuqZxpun_Klf"
   },
   "outputs": [],
   "source": [
    "data_arc[['start_arc_heating', 'end_arc_heating']] = data_arc[['start_arc_heating', 'end_arc_heating']].apply(pd.to_datetime)"
   ]
  },
  {
   "cell_type": "code",
   "execution_count": 29,
   "metadata": {
    "colab": {
     "base_uri": "https://localhost:8080/"
    },
    "id": "fVQPfD8f_KvR",
    "outputId": "4645b2af-5de3-48c5-ea6e-5660c775e3f8"
   },
   "outputs": [
    {
     "name": "stdout",
     "output_type": "stream",
     "text": [
      "<class 'pandas.core.frame.DataFrame'>\n",
      "RangeIndex: 14876 entries, 0 to 14875\n",
      "Data columns (total 5 columns):\n",
      "key                  14876 non-null int64\n",
      "start_arc_heating    14876 non-null datetime64[ns]\n",
      "end_arc_heating      14876 non-null datetime64[ns]\n",
      "active_power         14876 non-null float64\n",
      "reactive_power       14876 non-null float64\n",
      "dtypes: datetime64[ns](2), float64(2), int64(1)\n",
      "memory usage: 581.2 KB\n"
     ]
    }
   ],
   "source": [
    "data_arc.info()"
   ]
  },
  {
   "cell_type": "code",
   "execution_count": 30,
   "metadata": {
    "colab": {
     "base_uri": "https://localhost:8080/"
    },
    "id": "0N1Z3ErPuxIw",
    "outputId": "b908aa0b-6592-4833-f0a4-2364dcc74a99"
   },
   "outputs": [
    {
     "data": {
      "text/plain": [
       "3214"
      ]
     },
     "execution_count": 30,
     "metadata": {},
     "output_type": "execute_result"
    }
   ],
   "source": [
    "data_arc['key'].nunique()"
   ]
  },
  {
   "cell_type": "markdown",
   "metadata": {
    "id": "xQ_iBgXy1DNM"
   },
   "source": [
    "Вычислим время опускания электродов в ковш (нагрев) в секундах на каждом этапе для каждой партии."
   ]
  },
  {
   "cell_type": "code",
   "execution_count": 31,
   "metadata": {
    "id": "XbD14vesAxDx"
   },
   "outputs": [],
   "source": [
    "data_arc['diff_seconds'] = (data_arc['end_arc_heating'] - data_arc['start_arc_heating'])/np.timedelta64(1,'s')"
   ]
  },
  {
   "cell_type": "markdown",
   "metadata": {
    "id": "0v39K-sV1WuJ"
   },
   "source": [
    "Вычислим и добавим в таблицу значение полной мощности **full_power**:"
   ]
  },
  {
   "cell_type": "markdown",
   "metadata": {
    "id": "ZujF-mjzsIZw"
   },
   "source": [
    "$$\n",
    "S = \\sqrt {P^2 + Q^2},\n",
    "$$\n",
    "где $ P $- активная  мощность; $ Q $ - реактивная  мощность."
   ]
  },
  {
   "cell_type": "code",
   "execution_count": 32,
   "metadata": {
    "id": "-A5OruooAxNP"
   },
   "outputs": [],
   "source": [
    "data_arc['full_power'] = (data_arc['active_power'] ** 2 + data_arc['reactive_power'] ** 2).apply(math.sqrt)"
   ]
  },
  {
   "cell_type": "markdown",
   "metadata": {
    "id": "unBLfCS71nOd"
   },
   "source": [
    "Произведем группировку значений по партии продукции. Значения времени нагрева, активной, реактивной и полной мощности просуммируем и выведем столбец с указанием количества этапов в партии."
   ]
  },
  {
   "cell_type": "code",
   "execution_count": 33,
   "metadata": {
    "id": "tv23OxvL-gNL"
   },
   "outputs": [],
   "source": [
    "data_arc_batch = data_arc.groupby(['key']).agg({'active_power':['count','sum'], 'reactive_power':['sum'],\n",
    "                                                'diff_seconds':['sum'], 'full_power':['sum']}).reset_index()"
   ]
  },
  {
   "cell_type": "code",
   "execution_count": 34,
   "metadata": {
    "id": "ldvq1wGMAJxY"
   },
   "outputs": [],
   "source": [
    "data_arc_batch.columns = ['key', 'count_arc', 'active_power_sum', 'reactive_power_sum', 'sum_time_arc', 'full_power_sum']"
   ]
  },
  {
   "cell_type": "code",
   "execution_count": 35,
   "metadata": {
    "colab": {
     "base_uri": "https://localhost:8080/",
     "height": 286
    },
    "id": "RvvkpvtS2sG2",
    "outputId": "3e083ce9-d2d6-4b94-edda-af53fd41439a"
   },
   "outputs": [
    {
     "data": {
      "text/html": [
       "<div>\n",
       "<style scoped>\n",
       "    .dataframe tbody tr th:only-of-type {\n",
       "        vertical-align: middle;\n",
       "    }\n",
       "\n",
       "    .dataframe tbody tr th {\n",
       "        vertical-align: top;\n",
       "    }\n",
       "\n",
       "    .dataframe thead th {\n",
       "        text-align: right;\n",
       "    }\n",
       "</style>\n",
       "<table border=\"1\" class=\"dataframe\">\n",
       "  <thead>\n",
       "    <tr style=\"text-align: right;\">\n",
       "      <th></th>\n",
       "      <th>key</th>\n",
       "      <th>count_arc</th>\n",
       "      <th>active_power_sum</th>\n",
       "      <th>reactive_power_sum</th>\n",
       "      <th>sum_time_arc</th>\n",
       "      <th>full_power_sum</th>\n",
       "    </tr>\n",
       "  </thead>\n",
       "  <tbody>\n",
       "    <tr>\n",
       "      <td>count</td>\n",
       "      <td>3214.000000</td>\n",
       "      <td>3214.000000</td>\n",
       "      <td>3214.000000</td>\n",
       "      <td>3214.000000</td>\n",
       "      <td>3214.000000</td>\n",
       "      <td>3214.000000</td>\n",
       "    </tr>\n",
       "    <tr>\n",
       "      <td>mean</td>\n",
       "      <td>1623.061294</td>\n",
       "      <td>4.628500</td>\n",
       "      <td>3.103138</td>\n",
       "      <td>2.094821</td>\n",
       "      <td>794.579029</td>\n",
       "      <td>4.104597</td>\n",
       "    </tr>\n",
       "    <tr>\n",
       "      <td>std</td>\n",
       "      <td>934.739859</td>\n",
       "      <td>1.608647</td>\n",
       "      <td>1.397390</td>\n",
       "      <td>12.689508</td>\n",
       "      <td>332.448622</td>\n",
       "      <td>12.700919</td>\n",
       "    </tr>\n",
       "    <tr>\n",
       "      <td>min</td>\n",
       "      <td>1.000000</td>\n",
       "      <td>1.000000</td>\n",
       "      <td>0.186226</td>\n",
       "      <td>-714.591636</td>\n",
       "      <td>57.000000</td>\n",
       "      <td>0.257637</td>\n",
       "    </tr>\n",
       "    <tr>\n",
       "      <td>25%</td>\n",
       "      <td>817.250000</td>\n",
       "      <td>4.000000</td>\n",
       "      <td>2.126339</td>\n",
       "      <td>1.599018</td>\n",
       "      <td>571.000000</td>\n",
       "      <td>2.677106</td>\n",
       "    </tr>\n",
       "    <tr>\n",
       "      <td>50%</td>\n",
       "      <td>1623.500000</td>\n",
       "      <td>4.000000</td>\n",
       "      <td>2.990537</td>\n",
       "      <td>2.229869</td>\n",
       "      <td>770.000000</td>\n",
       "      <td>3.753992</td>\n",
       "    </tr>\n",
       "    <tr>\n",
       "      <td>75%</td>\n",
       "      <td>2431.750000</td>\n",
       "      <td>6.000000</td>\n",
       "      <td>3.901147</td>\n",
       "      <td>2.899141</td>\n",
       "      <td>983.000000</td>\n",
       "      <td>4.858781</td>\n",
       "    </tr>\n",
       "    <tr>\n",
       "      <td>max</td>\n",
       "      <td>3241.000000</td>\n",
       "      <td>16.000000</td>\n",
       "      <td>17.496497</td>\n",
       "      <td>12.587990</td>\n",
       "      <td>4189.000000</td>\n",
       "      <td>717.137585</td>\n",
       "    </tr>\n",
       "  </tbody>\n",
       "</table>\n",
       "</div>"
      ],
      "text/plain": [
       "               key    count_arc  active_power_sum  reactive_power_sum  \\\n",
       "count  3214.000000  3214.000000       3214.000000         3214.000000   \n",
       "mean   1623.061294     4.628500          3.103138            2.094821   \n",
       "std     934.739859     1.608647          1.397390           12.689508   \n",
       "min       1.000000     1.000000          0.186226         -714.591636   \n",
       "25%     817.250000     4.000000          2.126339            1.599018   \n",
       "50%    1623.500000     4.000000          2.990537            2.229869   \n",
       "75%    2431.750000     6.000000          3.901147            2.899141   \n",
       "max    3241.000000    16.000000         17.496497           12.587990   \n",
       "\n",
       "       sum_time_arc  full_power_sum  \n",
       "count   3214.000000     3214.000000  \n",
       "mean     794.579029        4.104597  \n",
       "std      332.448622       12.700919  \n",
       "min       57.000000        0.257637  \n",
       "25%      571.000000        2.677106  \n",
       "50%      770.000000        3.753992  \n",
       "75%      983.000000        4.858781  \n",
       "max     4189.000000      717.137585  "
      ]
     },
     "execution_count": 35,
     "metadata": {},
     "output_type": "execute_result"
    }
   ],
   "source": [
    "data_arc_batch.describe()"
   ]
  },
  {
   "cell_type": "code",
   "execution_count": 36,
   "metadata": {
    "colab": {
     "base_uri": "https://localhost:8080/"
    },
    "id": "pS3klcN04KZ-",
    "outputId": "ea9f9be8-0329-46b9-d8ff-0af29bd1566e"
   },
   "outputs": [
    {
     "data": {
      "text/plain": [
       "Index(['key', 'Bulk 1', 'Bulk 2', 'Bulk 3', 'Bulk 4', 'Bulk 5', 'Bulk 6',\n",
       "       'Bulk 7', 'Bulk 8', 'Bulk 9', 'Bulk 10', 'Bulk 11', 'Bulk 12',\n",
       "       'Bulk 13', 'Bulk 14', 'Bulk 15'],\n",
       "      dtype='object')"
      ]
     },
     "execution_count": 36,
     "metadata": {},
     "output_type": "execute_result"
    }
   ],
   "source": [
    "#данные о подаче сыпучих материалов (объём)\n",
    "data_bulk.columns"
   ]
  },
  {
   "cell_type": "code",
   "execution_count": 37,
   "metadata": {
    "colab": {
     "base_uri": "https://localhost:8080/",
     "height": 197
    },
    "id": "KU8TIaKCHdmb",
    "outputId": "5225e971-9a8e-4da5-e9bf-e547fe442667"
   },
   "outputs": [
    {
     "data": {
      "text/html": [
       "<div>\n",
       "<style scoped>\n",
       "    .dataframe tbody tr th:only-of-type {\n",
       "        vertical-align: middle;\n",
       "    }\n",
       "\n",
       "    .dataframe tbody tr th {\n",
       "        vertical-align: top;\n",
       "    }\n",
       "\n",
       "    .dataframe thead th {\n",
       "        text-align: right;\n",
       "    }\n",
       "</style>\n",
       "<table border=\"1\" class=\"dataframe\">\n",
       "  <thead>\n",
       "    <tr style=\"text-align: right;\">\n",
       "      <th></th>\n",
       "      <th>key</th>\n",
       "      <th>Bulk 1</th>\n",
       "      <th>Bulk 2</th>\n",
       "      <th>Bulk 3</th>\n",
       "      <th>Bulk 4</th>\n",
       "      <th>Bulk 5</th>\n",
       "      <th>Bulk 6</th>\n",
       "      <th>Bulk 7</th>\n",
       "      <th>Bulk 8</th>\n",
       "      <th>Bulk 9</th>\n",
       "      <th>Bulk 10</th>\n",
       "      <th>Bulk 11</th>\n",
       "      <th>Bulk 12</th>\n",
       "      <th>Bulk 13</th>\n",
       "      <th>Bulk 14</th>\n",
       "      <th>Bulk 15</th>\n",
       "    </tr>\n",
       "  </thead>\n",
       "  <tbody>\n",
       "    <tr>\n",
       "      <td>0</td>\n",
       "      <td>1</td>\n",
       "      <td>NaN</td>\n",
       "      <td>NaN</td>\n",
       "      <td>NaN</td>\n",
       "      <td>43.0</td>\n",
       "      <td>NaN</td>\n",
       "      <td>NaN</td>\n",
       "      <td>NaN</td>\n",
       "      <td>NaN</td>\n",
       "      <td>NaN</td>\n",
       "      <td>NaN</td>\n",
       "      <td>NaN</td>\n",
       "      <td>206.0</td>\n",
       "      <td>NaN</td>\n",
       "      <td>150.0</td>\n",
       "      <td>154.0</td>\n",
       "    </tr>\n",
       "    <tr>\n",
       "      <td>1</td>\n",
       "      <td>2</td>\n",
       "      <td>NaN</td>\n",
       "      <td>NaN</td>\n",
       "      <td>NaN</td>\n",
       "      <td>73.0</td>\n",
       "      <td>NaN</td>\n",
       "      <td>NaN</td>\n",
       "      <td>NaN</td>\n",
       "      <td>NaN</td>\n",
       "      <td>NaN</td>\n",
       "      <td>NaN</td>\n",
       "      <td>NaN</td>\n",
       "      <td>206.0</td>\n",
       "      <td>NaN</td>\n",
       "      <td>149.0</td>\n",
       "      <td>154.0</td>\n",
       "    </tr>\n",
       "    <tr>\n",
       "      <td>2</td>\n",
       "      <td>3</td>\n",
       "      <td>NaN</td>\n",
       "      <td>NaN</td>\n",
       "      <td>NaN</td>\n",
       "      <td>34.0</td>\n",
       "      <td>NaN</td>\n",
       "      <td>NaN</td>\n",
       "      <td>NaN</td>\n",
       "      <td>NaN</td>\n",
       "      <td>NaN</td>\n",
       "      <td>NaN</td>\n",
       "      <td>NaN</td>\n",
       "      <td>205.0</td>\n",
       "      <td>NaN</td>\n",
       "      <td>152.0</td>\n",
       "      <td>153.0</td>\n",
       "    </tr>\n",
       "    <tr>\n",
       "      <td>3</td>\n",
       "      <td>4</td>\n",
       "      <td>NaN</td>\n",
       "      <td>NaN</td>\n",
       "      <td>NaN</td>\n",
       "      <td>81.0</td>\n",
       "      <td>NaN</td>\n",
       "      <td>NaN</td>\n",
       "      <td>NaN</td>\n",
       "      <td>NaN</td>\n",
       "      <td>NaN</td>\n",
       "      <td>NaN</td>\n",
       "      <td>NaN</td>\n",
       "      <td>207.0</td>\n",
       "      <td>NaN</td>\n",
       "      <td>153.0</td>\n",
       "      <td>154.0</td>\n",
       "    </tr>\n",
       "    <tr>\n",
       "      <td>4</td>\n",
       "      <td>5</td>\n",
       "      <td>NaN</td>\n",
       "      <td>NaN</td>\n",
       "      <td>NaN</td>\n",
       "      <td>78.0</td>\n",
       "      <td>NaN</td>\n",
       "      <td>NaN</td>\n",
       "      <td>NaN</td>\n",
       "      <td>NaN</td>\n",
       "      <td>NaN</td>\n",
       "      <td>NaN</td>\n",
       "      <td>NaN</td>\n",
       "      <td>203.0</td>\n",
       "      <td>NaN</td>\n",
       "      <td>151.0</td>\n",
       "      <td>152.0</td>\n",
       "    </tr>\n",
       "  </tbody>\n",
       "</table>\n",
       "</div>"
      ],
      "text/plain": [
       "   key  Bulk 1  Bulk 2  Bulk 3  Bulk 4  Bulk 5  Bulk 6  Bulk 7  Bulk 8  \\\n",
       "0    1     NaN     NaN     NaN    43.0     NaN     NaN     NaN     NaN   \n",
       "1    2     NaN     NaN     NaN    73.0     NaN     NaN     NaN     NaN   \n",
       "2    3     NaN     NaN     NaN    34.0     NaN     NaN     NaN     NaN   \n",
       "3    4     NaN     NaN     NaN    81.0     NaN     NaN     NaN     NaN   \n",
       "4    5     NaN     NaN     NaN    78.0     NaN     NaN     NaN     NaN   \n",
       "\n",
       "   Bulk 9  Bulk 10  Bulk 11  Bulk 12  Bulk 13  Bulk 14  Bulk 15  \n",
       "0     NaN      NaN      NaN    206.0      NaN    150.0    154.0  \n",
       "1     NaN      NaN      NaN    206.0      NaN    149.0    154.0  \n",
       "2     NaN      NaN      NaN    205.0      NaN    152.0    153.0  \n",
       "3     NaN      NaN      NaN    207.0      NaN    153.0    154.0  \n",
       "4     NaN      NaN      NaN    203.0      NaN    151.0    152.0  "
      ]
     },
     "execution_count": 37,
     "metadata": {},
     "output_type": "execute_result"
    }
   ],
   "source": [
    "data_bulk.head()"
   ]
  },
  {
   "cell_type": "markdown",
   "metadata": {
    "id": "tYkIKozeJFru"
   },
   "source": [
    "Произведем преобразование таблицы **data_bulk** функцией *melt*"
   ]
  },
  {
   "cell_type": "code",
   "execution_count": 38,
   "metadata": {
    "id": "_9AhubD5xXKt"
   },
   "outputs": [],
   "source": [
    "data_bulk_tidy = pd.melt(data_bulk, id_vars=['key'], value_vars=['Bulk 1', 'Bulk 2', 'Bulk 3', 'Bulk 4', 'Bulk 5', 'Bulk 6',\n",
    "       'Bulk 7', 'Bulk 8', 'Bulk 9', 'Bulk 10', 'Bulk 11', 'Bulk 12',\n",
    "       'Bulk 13', 'Bulk 14', 'Bulk 15'], value_name='volume')"
   ]
  },
  {
   "cell_type": "code",
   "execution_count": 39,
   "metadata": {
    "id": "Gy9TcDuSxXVB"
   },
   "outputs": [],
   "source": [
    "data_bulk_tidy = data_bulk_tidy.dropna().copy()"
   ]
  },
  {
   "cell_type": "code",
   "execution_count": 40,
   "metadata": {
    "colab": {
     "base_uri": "https://localhost:8080/",
     "height": 346
    },
    "id": "qaCfCANCHDUk",
    "outputId": "e34db781-9cf3-460f-eb0d-67f384024f4a"
   },
   "outputs": [
    {
     "data": {
      "text/html": [
       "<div>\n",
       "<style scoped>\n",
       "    .dataframe tbody tr th:only-of-type {\n",
       "        vertical-align: middle;\n",
       "    }\n",
       "\n",
       "    .dataframe tbody tr th {\n",
       "        vertical-align: top;\n",
       "    }\n",
       "\n",
       "    .dataframe thead th {\n",
       "        text-align: right;\n",
       "    }\n",
       "</style>\n",
       "<table border=\"1\" class=\"dataframe\">\n",
       "  <thead>\n",
       "    <tr style=\"text-align: right;\">\n",
       "      <th></th>\n",
       "      <th>key</th>\n",
       "      <th>variable</th>\n",
       "      <th>volume</th>\n",
       "    </tr>\n",
       "  </thead>\n",
       "  <tbody>\n",
       "    <tr>\n",
       "      <td>43806</td>\n",
       "      <td>1</td>\n",
       "      <td>Bulk 15</td>\n",
       "      <td>154.0</td>\n",
       "    </tr>\n",
       "    <tr>\n",
       "      <td>34419</td>\n",
       "      <td>1</td>\n",
       "      <td>Bulk 12</td>\n",
       "      <td>206.0</td>\n",
       "    </tr>\n",
       "    <tr>\n",
       "      <td>40677</td>\n",
       "      <td>1</td>\n",
       "      <td>Bulk 14</td>\n",
       "      <td>150.0</td>\n",
       "    </tr>\n",
       "    <tr>\n",
       "      <td>9387</td>\n",
       "      <td>1</td>\n",
       "      <td>Bulk 4</td>\n",
       "      <td>43.0</td>\n",
       "    </tr>\n",
       "    <tr>\n",
       "      <td>43807</td>\n",
       "      <td>2</td>\n",
       "      <td>Bulk 15</td>\n",
       "      <td>154.0</td>\n",
       "    </tr>\n",
       "    <tr>\n",
       "      <td>9388</td>\n",
       "      <td>2</td>\n",
       "      <td>Bulk 4</td>\n",
       "      <td>73.0</td>\n",
       "    </tr>\n",
       "    <tr>\n",
       "      <td>34420</td>\n",
       "      <td>2</td>\n",
       "      <td>Bulk 12</td>\n",
       "      <td>206.0</td>\n",
       "    </tr>\n",
       "    <tr>\n",
       "      <td>40678</td>\n",
       "      <td>2</td>\n",
       "      <td>Bulk 14</td>\n",
       "      <td>149.0</td>\n",
       "    </tr>\n",
       "    <tr>\n",
       "      <td>43808</td>\n",
       "      <td>3</td>\n",
       "      <td>Bulk 15</td>\n",
       "      <td>153.0</td>\n",
       "    </tr>\n",
       "    <tr>\n",
       "      <td>34421</td>\n",
       "      <td>3</td>\n",
       "      <td>Bulk 12</td>\n",
       "      <td>205.0</td>\n",
       "    </tr>\n",
       "  </tbody>\n",
       "</table>\n",
       "</div>"
      ],
      "text/plain": [
       "       key variable  volume\n",
       "43806    1  Bulk 15   154.0\n",
       "34419    1  Bulk 12   206.0\n",
       "40677    1  Bulk 14   150.0\n",
       "9387     1   Bulk 4    43.0\n",
       "43807    2  Bulk 15   154.0\n",
       "9388     2   Bulk 4    73.0\n",
       "34420    2  Bulk 12   206.0\n",
       "40678    2  Bulk 14   149.0\n",
       "43808    3  Bulk 15   153.0\n",
       "34421    3  Bulk 12   205.0"
      ]
     },
     "execution_count": 40,
     "metadata": {},
     "output_type": "execute_result"
    }
   ],
   "source": [
    "data_bulk_tidy.sort_values(by='key', ascending=True).head(10)"
   ]
  },
  {
   "cell_type": "code",
   "execution_count": 41,
   "metadata": {
    "colab": {
     "base_uri": "https://localhost:8080/"
    },
    "id": "6laOa7WR5uOe",
    "outputId": "0fdafffc-6e1b-47d1-f1f2-ef5fba1a88d4"
   },
   "outputs": [
    {
     "data": {
      "text/plain": [
       "3129"
      ]
     },
     "execution_count": 41,
     "metadata": {},
     "output_type": "execute_result"
    }
   ],
   "source": [
    "data_bulk_tidy['key'].nunique()"
   ]
  },
  {
   "cell_type": "markdown",
   "metadata": {
    "id": "Q_uBqnawJezY"
   },
   "source": [
    "Произведем аналогичное преобразование таблицы **data_bulk_time** функцией *melt*"
   ]
  },
  {
   "cell_type": "code",
   "execution_count": 42,
   "metadata": {
    "id": "y3WH4cTx5uRh"
   },
   "outputs": [],
   "source": [
    "data_bulk_time_tidy = pd.melt(data_bulk_time, id_vars=['key'], value_vars=['Bulk 1', 'Bulk 2', 'Bulk 3', 'Bulk 4', 'Bulk 5', 'Bulk 6',\n",
    "       'Bulk 7', 'Bulk 8', 'Bulk 9', 'Bulk 10', 'Bulk 11', 'Bulk 12',\n",
    "       'Bulk 13', 'Bulk 14', 'Bulk 15'], value_name='start_bulk')"
   ]
  },
  {
   "cell_type": "code",
   "execution_count": 43,
   "metadata": {
    "id": "mzcw03Ls6pAA"
   },
   "outputs": [],
   "source": [
    "data_bulk_time_tidy = data_bulk_time_tidy.dropna().copy()"
   ]
  },
  {
   "cell_type": "code",
   "execution_count": 44,
   "metadata": {
    "colab": {
     "base_uri": "https://localhost:8080/",
     "height": 197
    },
    "id": "JKySF-ld5ub3",
    "outputId": "ed0388de-cd76-41f3-fe00-b62b50997760"
   },
   "outputs": [
    {
     "data": {
      "text/html": [
       "<div>\n",
       "<style scoped>\n",
       "    .dataframe tbody tr th:only-of-type {\n",
       "        vertical-align: middle;\n",
       "    }\n",
       "\n",
       "    .dataframe tbody tr th {\n",
       "        vertical-align: top;\n",
       "    }\n",
       "\n",
       "    .dataframe thead th {\n",
       "        text-align: right;\n",
       "    }\n",
       "</style>\n",
       "<table border=\"1\" class=\"dataframe\">\n",
       "  <thead>\n",
       "    <tr style=\"text-align: right;\">\n",
       "      <th></th>\n",
       "      <th>key</th>\n",
       "      <th>variable</th>\n",
       "      <th>start_bulk</th>\n",
       "    </tr>\n",
       "  </thead>\n",
       "  <tbody>\n",
       "    <tr>\n",
       "      <td>11</td>\n",
       "      <td>12</td>\n",
       "      <td>Bulk 1</td>\n",
       "      <td>2019-05-03 17:50:19</td>\n",
       "    </tr>\n",
       "    <tr>\n",
       "      <td>48</td>\n",
       "      <td>57</td>\n",
       "      <td>Bulk 1</td>\n",
       "      <td>2019-05-05 10:09:13</td>\n",
       "    </tr>\n",
       "    <tr>\n",
       "      <td>49</td>\n",
       "      <td>58</td>\n",
       "      <td>Bulk 1</td>\n",
       "      <td>2019-05-05 11:01:42</td>\n",
       "    </tr>\n",
       "    <tr>\n",
       "      <td>50</td>\n",
       "      <td>59</td>\n",
       "      <td>Bulk 1</td>\n",
       "      <td>2019-05-05 11:59:23</td>\n",
       "    </tr>\n",
       "    <tr>\n",
       "      <td>51</td>\n",
       "      <td>60</td>\n",
       "      <td>Bulk 1</td>\n",
       "      <td>2019-05-05 13:13:45</td>\n",
       "    </tr>\n",
       "  </tbody>\n",
       "</table>\n",
       "</div>"
      ],
      "text/plain": [
       "    key variable           start_bulk\n",
       "11   12   Bulk 1  2019-05-03 17:50:19\n",
       "48   57   Bulk 1  2019-05-05 10:09:13\n",
       "49   58   Bulk 1  2019-05-05 11:01:42\n",
       "50   59   Bulk 1  2019-05-05 11:59:23\n",
       "51   60   Bulk 1  2019-05-05 13:13:45"
      ]
     },
     "execution_count": 44,
     "metadata": {},
     "output_type": "execute_result"
    }
   ],
   "source": [
    "data_bulk_time_tidy.head()"
   ]
  },
  {
   "cell_type": "code",
   "execution_count": 45,
   "metadata": {
    "colab": {
     "base_uri": "https://localhost:8080/"
    },
    "id": "Togc3pUSws6z",
    "outputId": "726657da-a504-4e66-afc0-aa58c88c74b9"
   },
   "outputs": [
    {
     "data": {
      "text/plain": [
       "3129"
      ]
     },
     "execution_count": 45,
     "metadata": {},
     "output_type": "execute_result"
    }
   ],
   "source": [
    "data_bulk_time_tidy['key'].nunique()"
   ]
  },
  {
   "cell_type": "markdown",
   "metadata": {
    "id": "w8o38unrJ3jn"
   },
   "source": [
    "Сгруппируем таблицы в единую и отобразим номер партии, вид сыпучего материала, время начала загрузки в ковш и его объем:"
   ]
  },
  {
   "cell_type": "code",
   "execution_count": 46,
   "metadata": {
    "id": "NoB_dTYH5ueu"
   },
   "outputs": [],
   "source": [
    "data_bulk_full = data_bulk_time_tidy.merge(data_bulk_tidy, how='left', on=['key', 'variable'])"
   ]
  },
  {
   "cell_type": "code",
   "execution_count": 47,
   "metadata": {
    "colab": {
     "base_uri": "https://localhost:8080/",
     "height": 197
    },
    "id": "njD007uC7Q5v",
    "outputId": "e2424dd1-c139-4129-bbf8-2aea15835f29"
   },
   "outputs": [
    {
     "data": {
      "text/html": [
       "<div>\n",
       "<style scoped>\n",
       "    .dataframe tbody tr th:only-of-type {\n",
       "        vertical-align: middle;\n",
       "    }\n",
       "\n",
       "    .dataframe tbody tr th {\n",
       "        vertical-align: top;\n",
       "    }\n",
       "\n",
       "    .dataframe thead th {\n",
       "        text-align: right;\n",
       "    }\n",
       "</style>\n",
       "<table border=\"1\" class=\"dataframe\">\n",
       "  <thead>\n",
       "    <tr style=\"text-align: right;\">\n",
       "      <th></th>\n",
       "      <th>key</th>\n",
       "      <th>variable</th>\n",
       "      <th>start_bulk</th>\n",
       "      <th>volume</th>\n",
       "    </tr>\n",
       "  </thead>\n",
       "  <tbody>\n",
       "    <tr>\n",
       "      <td>0</td>\n",
       "      <td>12</td>\n",
       "      <td>Bulk 1</td>\n",
       "      <td>2019-05-03 17:50:19</td>\n",
       "      <td>46.0</td>\n",
       "    </tr>\n",
       "    <tr>\n",
       "      <td>1</td>\n",
       "      <td>57</td>\n",
       "      <td>Bulk 1</td>\n",
       "      <td>2019-05-05 10:09:13</td>\n",
       "      <td>27.0</td>\n",
       "    </tr>\n",
       "    <tr>\n",
       "      <td>2</td>\n",
       "      <td>58</td>\n",
       "      <td>Bulk 1</td>\n",
       "      <td>2019-05-05 11:01:42</td>\n",
       "      <td>48.0</td>\n",
       "    </tr>\n",
       "    <tr>\n",
       "      <td>3</td>\n",
       "      <td>59</td>\n",
       "      <td>Bulk 1</td>\n",
       "      <td>2019-05-05 11:59:23</td>\n",
       "      <td>29.0</td>\n",
       "    </tr>\n",
       "    <tr>\n",
       "      <td>4</td>\n",
       "      <td>60</td>\n",
       "      <td>Bulk 1</td>\n",
       "      <td>2019-05-05 13:13:45</td>\n",
       "      <td>46.0</td>\n",
       "    </tr>\n",
       "  </tbody>\n",
       "</table>\n",
       "</div>"
      ],
      "text/plain": [
       "   key variable           start_bulk  volume\n",
       "0   12   Bulk 1  2019-05-03 17:50:19    46.0\n",
       "1   57   Bulk 1  2019-05-05 10:09:13    27.0\n",
       "2   58   Bulk 1  2019-05-05 11:01:42    48.0\n",
       "3   59   Bulk 1  2019-05-05 11:59:23    29.0\n",
       "4   60   Bulk 1  2019-05-05 13:13:45    46.0"
      ]
     },
     "execution_count": 47,
     "metadata": {},
     "output_type": "execute_result"
    }
   ],
   "source": [
    "data_bulk_full.head()"
   ]
  },
  {
   "cell_type": "code",
   "execution_count": 48,
   "metadata": {
    "id": "AVhYYQyr7_7G"
   },
   "outputs": [],
   "source": [
    "data_bulk_full.columns = ['key', 'bulk_material', 'start_time_bulk', 'volume_bulk']"
   ]
  },
  {
   "cell_type": "code",
   "execution_count": 49,
   "metadata": {
    "id": "PdhvE1fX88lm"
   },
   "outputs": [],
   "source": [
    "data_bulk_full['start_time_bulk'] = pd.to_datetime(data_bulk_full['start_time_bulk'])"
   ]
  },
  {
   "cell_type": "code",
   "execution_count": 50,
   "metadata": {
    "id": "gjE2x10kFnjD"
   },
   "outputs": [],
   "source": [
    "data_bulk_full = data_bulk_full.sort_values(by='start_time_bulk', ascending=True).copy()"
   ]
  },
  {
   "cell_type": "code",
   "execution_count": 51,
   "metadata": {
    "colab": {
     "base_uri": "https://localhost:8080/",
     "height": 197
    },
    "id": "Tk-7ECphHXHx",
    "outputId": "ebfc24b0-1a00-4ee8-8d5a-0993613a41ad"
   },
   "outputs": [
    {
     "data": {
      "text/html": [
       "<div>\n",
       "<style scoped>\n",
       "    .dataframe tbody tr th:only-of-type {\n",
       "        vertical-align: middle;\n",
       "    }\n",
       "\n",
       "    .dataframe tbody tr th {\n",
       "        vertical-align: top;\n",
       "    }\n",
       "\n",
       "    .dataframe thead th {\n",
       "        text-align: right;\n",
       "    }\n",
       "</style>\n",
       "<table border=\"1\" class=\"dataframe\">\n",
       "  <thead>\n",
       "    <tr style=\"text-align: right;\">\n",
       "      <th></th>\n",
       "      <th>key</th>\n",
       "      <th>bulk_material</th>\n",
       "      <th>start_time_bulk</th>\n",
       "      <th>volume_bulk</th>\n",
       "    </tr>\n",
       "  </thead>\n",
       "  <tbody>\n",
       "    <tr>\n",
       "      <td>8911</td>\n",
       "      <td>1</td>\n",
       "      <td>Bulk 15</td>\n",
       "      <td>2019-05-03 11:03:52</td>\n",
       "      <td>154.0</td>\n",
       "    </tr>\n",
       "    <tr>\n",
       "      <td>3637</td>\n",
       "      <td>1</td>\n",
       "      <td>Bulk 12</td>\n",
       "      <td>2019-05-03 11:03:52</td>\n",
       "      <td>206.0</td>\n",
       "    </tr>\n",
       "    <tr>\n",
       "      <td>6105</td>\n",
       "      <td>1</td>\n",
       "      <td>Bulk 14</td>\n",
       "      <td>2019-05-03 11:03:52</td>\n",
       "      <td>150.0</td>\n",
       "    </tr>\n",
       "    <tr>\n",
       "      <td>1572</td>\n",
       "      <td>1</td>\n",
       "      <td>Bulk 4</td>\n",
       "      <td>2019-05-03 11:21:30</td>\n",
       "      <td>43.0</td>\n",
       "    </tr>\n",
       "    <tr>\n",
       "      <td>3638</td>\n",
       "      <td>2</td>\n",
       "      <td>Bulk 12</td>\n",
       "      <td>2019-05-03 11:40:20</td>\n",
       "      <td>206.0</td>\n",
       "    </tr>\n",
       "  </tbody>\n",
       "</table>\n",
       "</div>"
      ],
      "text/plain": [
       "      key bulk_material     start_time_bulk  volume_bulk\n",
       "8911    1       Bulk 15 2019-05-03 11:03:52        154.0\n",
       "3637    1       Bulk 12 2019-05-03 11:03:52        206.0\n",
       "6105    1       Bulk 14 2019-05-03 11:03:52        150.0\n",
       "1572    1        Bulk 4 2019-05-03 11:21:30         43.0\n",
       "3638    2       Bulk 12 2019-05-03 11:40:20        206.0"
      ]
     },
     "execution_count": 51,
     "metadata": {},
     "output_type": "execute_result"
    }
   ],
   "source": [
    "data_bulk_full.head()"
   ]
  },
  {
   "cell_type": "markdown",
   "metadata": {
    "id": "xbZQQnCeKc0Y"
   },
   "source": [
    "Создадим таблицу **data_bulk_batch** отоброжающую партию стали, количество видов загружаемой продукции, суммарный объем загружаемого сырья."
   ]
  },
  {
   "cell_type": "code",
   "execution_count": 52,
   "metadata": {
    "id": "65fnFky4H36-"
   },
   "outputs": [],
   "source": [
    "data_bulk_batch = data_bulk_full.groupby(['key']).agg({'volume_bulk':['count','sum']}).reset_index()"
   ]
  },
  {
   "cell_type": "code",
   "execution_count": 53,
   "metadata": {
    "id": "3ozSWDOFNCaA"
   },
   "outputs": [],
   "source": [
    "data_bulk_batch.columns = ['key', 'bulk_count', 'volume_bulk_sum']"
   ]
  },
  {
   "cell_type": "code",
   "execution_count": 54,
   "metadata": {
    "id": "0FAOQsMsTZtn"
   },
   "outputs": [],
   "source": [
    "data_bulk.fillna(0, inplace=True)"
   ]
  },
  {
   "cell_type": "code",
   "execution_count": 55,
   "metadata": {
    "id": "Fl6Qjfa7TMvc"
   },
   "outputs": [],
   "source": [
    "data_bulk_batch = data_bulk_batch.merge(data_bulk, how='left', on='key').copy()"
   ]
  },
  {
   "cell_type": "code",
   "execution_count": 56,
   "metadata": {
    "colab": {
     "base_uri": "https://localhost:8080/"
    },
    "id": "xWaRx7OFL87Y",
    "outputId": "354bc8fe-db07-4649-cbed-629425b90e05"
   },
   "outputs": [
    {
     "data": {
      "text/plain": [
       "3129"
      ]
     },
     "execution_count": 56,
     "metadata": {},
     "output_type": "execute_result"
    }
   ],
   "source": [
    "data_bulk_batch['key'].nunique()"
   ]
  },
  {
   "cell_type": "code",
   "execution_count": 57,
   "metadata": {
    "colab": {
     "base_uri": "https://localhost:8080/"
    },
    "id": "k3Xlukb6IiLD",
    "outputId": "1f5f061d-5151-4b7c-864a-5041318afcc7"
   },
   "outputs": [
    {
     "data": {
      "text/plain": [
       "0"
      ]
     },
     "execution_count": 57,
     "metadata": {},
     "output_type": "execute_result"
    }
   ],
   "source": [
    "data_bulk_batch['volume_bulk_sum'][data_bulk_batch['volume_bulk_sum'] <= 0].count()"
   ]
  },
  {
   "cell_type": "code",
   "execution_count": 58,
   "metadata": {
    "colab": {
     "base_uri": "https://localhost:8080/",
     "height": 197
    },
    "id": "Spmivl1k-eY2",
    "outputId": "f7e100ed-2aa6-43ce-b84c-607fe0c04e52"
   },
   "outputs": [
    {
     "data": {
      "text/html": [
       "<div>\n",
       "<style scoped>\n",
       "    .dataframe tbody tr th:only-of-type {\n",
       "        vertical-align: middle;\n",
       "    }\n",
       "\n",
       "    .dataframe tbody tr th {\n",
       "        vertical-align: top;\n",
       "    }\n",
       "\n",
       "    .dataframe thead th {\n",
       "        text-align: right;\n",
       "    }\n",
       "</style>\n",
       "<table border=\"1\" class=\"dataframe\">\n",
       "  <thead>\n",
       "    <tr style=\"text-align: right;\">\n",
       "      <th></th>\n",
       "      <th>key</th>\n",
       "      <th>Wire 1</th>\n",
       "      <th>Wire 2</th>\n",
       "      <th>Wire 3</th>\n",
       "      <th>Wire 4</th>\n",
       "      <th>Wire 5</th>\n",
       "      <th>Wire 6</th>\n",
       "      <th>Wire 7</th>\n",
       "      <th>Wire 8</th>\n",
       "      <th>Wire 9</th>\n",
       "    </tr>\n",
       "  </thead>\n",
       "  <tbody>\n",
       "    <tr>\n",
       "      <td>0</td>\n",
       "      <td>1</td>\n",
       "      <td>60.059998</td>\n",
       "      <td>NaN</td>\n",
       "      <td>NaN</td>\n",
       "      <td>NaN</td>\n",
       "      <td>NaN</td>\n",
       "      <td>NaN</td>\n",
       "      <td>NaN</td>\n",
       "      <td>NaN</td>\n",
       "      <td>NaN</td>\n",
       "    </tr>\n",
       "    <tr>\n",
       "      <td>1</td>\n",
       "      <td>2</td>\n",
       "      <td>96.052315</td>\n",
       "      <td>NaN</td>\n",
       "      <td>NaN</td>\n",
       "      <td>NaN</td>\n",
       "      <td>NaN</td>\n",
       "      <td>NaN</td>\n",
       "      <td>NaN</td>\n",
       "      <td>NaN</td>\n",
       "      <td>NaN</td>\n",
       "    </tr>\n",
       "    <tr>\n",
       "      <td>2</td>\n",
       "      <td>3</td>\n",
       "      <td>91.160157</td>\n",
       "      <td>NaN</td>\n",
       "      <td>NaN</td>\n",
       "      <td>NaN</td>\n",
       "      <td>NaN</td>\n",
       "      <td>NaN</td>\n",
       "      <td>NaN</td>\n",
       "      <td>NaN</td>\n",
       "      <td>NaN</td>\n",
       "    </tr>\n",
       "    <tr>\n",
       "      <td>3</td>\n",
       "      <td>4</td>\n",
       "      <td>89.063515</td>\n",
       "      <td>NaN</td>\n",
       "      <td>NaN</td>\n",
       "      <td>NaN</td>\n",
       "      <td>NaN</td>\n",
       "      <td>NaN</td>\n",
       "      <td>NaN</td>\n",
       "      <td>NaN</td>\n",
       "      <td>NaN</td>\n",
       "    </tr>\n",
       "    <tr>\n",
       "      <td>4</td>\n",
       "      <td>5</td>\n",
       "      <td>89.238236</td>\n",
       "      <td>9.11456</td>\n",
       "      <td>NaN</td>\n",
       "      <td>NaN</td>\n",
       "      <td>NaN</td>\n",
       "      <td>NaN</td>\n",
       "      <td>NaN</td>\n",
       "      <td>NaN</td>\n",
       "      <td>NaN</td>\n",
       "    </tr>\n",
       "  </tbody>\n",
       "</table>\n",
       "</div>"
      ],
      "text/plain": [
       "   key     Wire 1   Wire 2  Wire 3  Wire 4  Wire 5  Wire 6  Wire 7  Wire 8  \\\n",
       "0    1  60.059998      NaN     NaN     NaN     NaN     NaN     NaN     NaN   \n",
       "1    2  96.052315      NaN     NaN     NaN     NaN     NaN     NaN     NaN   \n",
       "2    3  91.160157      NaN     NaN     NaN     NaN     NaN     NaN     NaN   \n",
       "3    4  89.063515      NaN     NaN     NaN     NaN     NaN     NaN     NaN   \n",
       "4    5  89.238236  9.11456     NaN     NaN     NaN     NaN     NaN     NaN   \n",
       "\n",
       "   Wire 9  \n",
       "0     NaN  \n",
       "1     NaN  \n",
       "2     NaN  \n",
       "3     NaN  \n",
       "4     NaN  "
      ]
     },
     "execution_count": 58,
     "metadata": {},
     "output_type": "execute_result"
    }
   ],
   "source": [
    "#данные о проволочных материалах (объём)\n",
    "data_wire.head()"
   ]
  },
  {
   "cell_type": "code",
   "execution_count": 59,
   "metadata": {
    "colab": {
     "base_uri": "https://localhost:8080/"
    },
    "id": "mMIt8C2a-ed5",
    "outputId": "046ff396-d5ab-4ebe-ef68-19355a7fe7a2"
   },
   "outputs": [
    {
     "data": {
      "text/plain": [
       "Index(['key', 'Wire 1', 'Wire 2', 'Wire 3', 'Wire 4', 'Wire 5', 'Wire 6',\n",
       "       'Wire 7', 'Wire 8', 'Wire 9'],\n",
       "      dtype='object')"
      ]
     },
     "execution_count": 59,
     "metadata": {},
     "output_type": "execute_result"
    }
   ],
   "source": [
    "data_wire.columns"
   ]
  },
  {
   "cell_type": "markdown",
   "metadata": {
    "id": "bSEaMlzrMnj4"
   },
   "source": [
    "Произведем преобразование и агрегацию таблиц **data_wire** и **data_wire_time**:"
   ]
  },
  {
   "cell_type": "code",
   "execution_count": 60,
   "metadata": {
    "id": "EO1fnsBH-eh7"
   },
   "outputs": [],
   "source": [
    "data_wire_tidy = pd.melt(data_wire, id_vars=['key'], value_vars=['Wire 1', 'Wire 2', 'Wire 3', 'Wire 4', 'Wire 5', 'Wire 6',\n",
    "       'Wire 7', 'Wire 8', 'Wire 9'], value_name='volume')"
   ]
  },
  {
   "cell_type": "code",
   "execution_count": 61,
   "metadata": {
    "id": "jH18dkC--elo"
   },
   "outputs": [],
   "source": [
    "data_wire_tidy = data_wire_tidy.dropna().copy()"
   ]
  },
  {
   "cell_type": "code",
   "execution_count": 62,
   "metadata": {
    "colab": {
     "base_uri": "https://localhost:8080/",
     "height": 197
    },
    "id": "dX1pp5Th-eq3",
    "outputId": "4938a652-c498-4224-f1b2-fba1866ffdc9"
   },
   "outputs": [
    {
     "data": {
      "text/html": [
       "<div>\n",
       "<style scoped>\n",
       "    .dataframe tbody tr th:only-of-type {\n",
       "        vertical-align: middle;\n",
       "    }\n",
       "\n",
       "    .dataframe tbody tr th {\n",
       "        vertical-align: top;\n",
       "    }\n",
       "\n",
       "    .dataframe thead th {\n",
       "        text-align: right;\n",
       "    }\n",
       "</style>\n",
       "<table border=\"1\" class=\"dataframe\">\n",
       "  <thead>\n",
       "    <tr style=\"text-align: right;\">\n",
       "      <th></th>\n",
       "      <th>key</th>\n",
       "      <th>variable</th>\n",
       "      <th>volume</th>\n",
       "    </tr>\n",
       "  </thead>\n",
       "  <tbody>\n",
       "    <tr>\n",
       "      <td>0</td>\n",
       "      <td>1</td>\n",
       "      <td>Wire 1</td>\n",
       "      <td>60.059998</td>\n",
       "    </tr>\n",
       "    <tr>\n",
       "      <td>1</td>\n",
       "      <td>2</td>\n",
       "      <td>Wire 1</td>\n",
       "      <td>96.052315</td>\n",
       "    </tr>\n",
       "    <tr>\n",
       "      <td>2</td>\n",
       "      <td>3</td>\n",
       "      <td>Wire 1</td>\n",
       "      <td>91.160157</td>\n",
       "    </tr>\n",
       "    <tr>\n",
       "      <td>3</td>\n",
       "      <td>4</td>\n",
       "      <td>Wire 1</td>\n",
       "      <td>89.063515</td>\n",
       "    </tr>\n",
       "    <tr>\n",
       "      <td>4</td>\n",
       "      <td>5</td>\n",
       "      <td>Wire 1</td>\n",
       "      <td>89.238236</td>\n",
       "    </tr>\n",
       "  </tbody>\n",
       "</table>\n",
       "</div>"
      ],
      "text/plain": [
       "   key variable     volume\n",
       "0    1   Wire 1  60.059998\n",
       "1    2   Wire 1  96.052315\n",
       "2    3   Wire 1  91.160157\n",
       "3    4   Wire 1  89.063515\n",
       "4    5   Wire 1  89.238236"
      ]
     },
     "execution_count": 62,
     "metadata": {},
     "output_type": "execute_result"
    }
   ],
   "source": [
    "data_wire_tidy.head()"
   ]
  },
  {
   "cell_type": "code",
   "execution_count": 63,
   "metadata": {
    "id": "cbkgna6b-euD"
   },
   "outputs": [],
   "source": [
    "data_wire_time_tidy = pd.melt(data_wire_time, id_vars=['key'], value_vars=['Wire 1', 'Wire 2', 'Wire 3', 'Wire 4', 'Wire 5', 'Wire 6',\n",
    "       'Wire 7', 'Wire 8', 'Wire 9'], value_name='volume')"
   ]
  },
  {
   "cell_type": "code",
   "execution_count": 64,
   "metadata": {
    "id": "PSabtFnO_XyY"
   },
   "outputs": [],
   "source": [
    "data_wire_time_tidy = data_wire_time_tidy.dropna().copy()"
   ]
  },
  {
   "cell_type": "code",
   "execution_count": 65,
   "metadata": {
    "colab": {
     "base_uri": "https://localhost:8080/",
     "height": 197
    },
    "id": "puv5q2on_X12",
    "outputId": "fa64d080-7cfb-43c7-be29-e889f1fcfd53"
   },
   "outputs": [
    {
     "data": {
      "text/html": [
       "<div>\n",
       "<style scoped>\n",
       "    .dataframe tbody tr th:only-of-type {\n",
       "        vertical-align: middle;\n",
       "    }\n",
       "\n",
       "    .dataframe tbody tr th {\n",
       "        vertical-align: top;\n",
       "    }\n",
       "\n",
       "    .dataframe thead th {\n",
       "        text-align: right;\n",
       "    }\n",
       "</style>\n",
       "<table border=\"1\" class=\"dataframe\">\n",
       "  <thead>\n",
       "    <tr style=\"text-align: right;\">\n",
       "      <th></th>\n",
       "      <th>key</th>\n",
       "      <th>variable</th>\n",
       "      <th>volume</th>\n",
       "    </tr>\n",
       "  </thead>\n",
       "  <tbody>\n",
       "    <tr>\n",
       "      <td>0</td>\n",
       "      <td>1</td>\n",
       "      <td>Wire 1</td>\n",
       "      <td>2019-05-03 11:11:41</td>\n",
       "    </tr>\n",
       "    <tr>\n",
       "      <td>1</td>\n",
       "      <td>2</td>\n",
       "      <td>Wire 1</td>\n",
       "      <td>2019-05-03 11:46:10</td>\n",
       "    </tr>\n",
       "    <tr>\n",
       "      <td>2</td>\n",
       "      <td>3</td>\n",
       "      <td>Wire 1</td>\n",
       "      <td>2019-05-03 12:13:47</td>\n",
       "    </tr>\n",
       "    <tr>\n",
       "      <td>3</td>\n",
       "      <td>4</td>\n",
       "      <td>Wire 1</td>\n",
       "      <td>2019-05-03 12:48:05</td>\n",
       "    </tr>\n",
       "    <tr>\n",
       "      <td>4</td>\n",
       "      <td>5</td>\n",
       "      <td>Wire 1</td>\n",
       "      <td>2019-05-03 13:18:15</td>\n",
       "    </tr>\n",
       "  </tbody>\n",
       "</table>\n",
       "</div>"
      ],
      "text/plain": [
       "   key variable               volume\n",
       "0    1   Wire 1  2019-05-03 11:11:41\n",
       "1    2   Wire 1  2019-05-03 11:46:10\n",
       "2    3   Wire 1  2019-05-03 12:13:47\n",
       "3    4   Wire 1  2019-05-03 12:48:05\n",
       "4    5   Wire 1  2019-05-03 13:18:15"
      ]
     },
     "execution_count": 65,
     "metadata": {},
     "output_type": "execute_result"
    }
   ],
   "source": [
    "data_wire_time_tidy.head()"
   ]
  },
  {
   "cell_type": "code",
   "execution_count": 66,
   "metadata": {
    "id": "vG80M5Sb_lD-"
   },
   "outputs": [],
   "source": [
    "data_wire_full = data_wire_time_tidy.merge(data_wire_tidy, how='left', on=['key', 'variable'])"
   ]
  },
  {
   "cell_type": "code",
   "execution_count": 67,
   "metadata": {
    "colab": {
     "base_uri": "https://localhost:8080/",
     "height": 197
    },
    "id": "x4wIBKpg_lSR",
    "outputId": "4ab493fa-a257-4a49-9c18-07fe9078ddab"
   },
   "outputs": [
    {
     "data": {
      "text/html": [
       "<div>\n",
       "<style scoped>\n",
       "    .dataframe tbody tr th:only-of-type {\n",
       "        vertical-align: middle;\n",
       "    }\n",
       "\n",
       "    .dataframe tbody tr th {\n",
       "        vertical-align: top;\n",
       "    }\n",
       "\n",
       "    .dataframe thead th {\n",
       "        text-align: right;\n",
       "    }\n",
       "</style>\n",
       "<table border=\"1\" class=\"dataframe\">\n",
       "  <thead>\n",
       "    <tr style=\"text-align: right;\">\n",
       "      <th></th>\n",
       "      <th>key</th>\n",
       "      <th>variable</th>\n",
       "      <th>volume_x</th>\n",
       "      <th>volume_y</th>\n",
       "    </tr>\n",
       "  </thead>\n",
       "  <tbody>\n",
       "    <tr>\n",
       "      <td>0</td>\n",
       "      <td>1</td>\n",
       "      <td>Wire 1</td>\n",
       "      <td>2019-05-03 11:11:41</td>\n",
       "      <td>60.059998</td>\n",
       "    </tr>\n",
       "    <tr>\n",
       "      <td>1</td>\n",
       "      <td>2</td>\n",
       "      <td>Wire 1</td>\n",
       "      <td>2019-05-03 11:46:10</td>\n",
       "      <td>96.052315</td>\n",
       "    </tr>\n",
       "    <tr>\n",
       "      <td>2</td>\n",
       "      <td>3</td>\n",
       "      <td>Wire 1</td>\n",
       "      <td>2019-05-03 12:13:47</td>\n",
       "      <td>91.160157</td>\n",
       "    </tr>\n",
       "    <tr>\n",
       "      <td>3</td>\n",
       "      <td>4</td>\n",
       "      <td>Wire 1</td>\n",
       "      <td>2019-05-03 12:48:05</td>\n",
       "      <td>89.063515</td>\n",
       "    </tr>\n",
       "    <tr>\n",
       "      <td>4</td>\n",
       "      <td>5</td>\n",
       "      <td>Wire 1</td>\n",
       "      <td>2019-05-03 13:18:15</td>\n",
       "      <td>89.238236</td>\n",
       "    </tr>\n",
       "  </tbody>\n",
       "</table>\n",
       "</div>"
      ],
      "text/plain": [
       "   key variable             volume_x   volume_y\n",
       "0    1   Wire 1  2019-05-03 11:11:41  60.059998\n",
       "1    2   Wire 1  2019-05-03 11:46:10  96.052315\n",
       "2    3   Wire 1  2019-05-03 12:13:47  91.160157\n",
       "3    4   Wire 1  2019-05-03 12:48:05  89.063515\n",
       "4    5   Wire 1  2019-05-03 13:18:15  89.238236"
      ]
     },
     "execution_count": 67,
     "metadata": {},
     "output_type": "execute_result"
    }
   ],
   "source": [
    "data_wire_full.head()"
   ]
  },
  {
   "cell_type": "code",
   "execution_count": 68,
   "metadata": {
    "id": "FPJKcrPNALJF"
   },
   "outputs": [],
   "source": [
    "data_wire_full.columns = ['key', 'wire_material', 'start_time_wire', 'volume_wire']"
   ]
  },
  {
   "cell_type": "code",
   "execution_count": 69,
   "metadata": {
    "id": "lwMB7ZJGALMN"
   },
   "outputs": [],
   "source": [
    "data_wire_full['start_time_wire'] = pd.to_datetime(data_wire_full['start_time_wire'])"
   ]
  },
  {
   "cell_type": "code",
   "execution_count": 70,
   "metadata": {
    "id": "4tDIp6UfGG_w"
   },
   "outputs": [],
   "source": [
    "data_wire_full = data_wire_full.sort_values(by='start_time_wire', ascending=True).copy()"
   ]
  },
  {
   "cell_type": "markdown",
   "metadata": {
    "id": "KD9wukHNNMqk"
   },
   "source": [
    "Мы получили таблицу **data_wire_full**, отоброжающую номер партии стали, тип загружаемого проволочного материала, время начала загрузки и объем. "
   ]
  },
  {
   "cell_type": "code",
   "execution_count": 71,
   "metadata": {
    "colab": {
     "base_uri": "https://localhost:8080/",
     "height": 197
    },
    "id": "u5Fx8IVZKHbo",
    "outputId": "09526b17-0198-49f5-b7c5-6a922706ecd1"
   },
   "outputs": [
    {
     "data": {
      "text/html": [
       "<div>\n",
       "<style scoped>\n",
       "    .dataframe tbody tr th:only-of-type {\n",
       "        vertical-align: middle;\n",
       "    }\n",
       "\n",
       "    .dataframe tbody tr th {\n",
       "        vertical-align: top;\n",
       "    }\n",
       "\n",
       "    .dataframe thead th {\n",
       "        text-align: right;\n",
       "    }\n",
       "</style>\n",
       "<table border=\"1\" class=\"dataframe\">\n",
       "  <thead>\n",
       "    <tr style=\"text-align: right;\">\n",
       "      <th></th>\n",
       "      <th>key</th>\n",
       "      <th>wire_material</th>\n",
       "      <th>start_time_wire</th>\n",
       "      <th>volume_wire</th>\n",
       "    </tr>\n",
       "  </thead>\n",
       "  <tbody>\n",
       "    <tr>\n",
       "      <td>0</td>\n",
       "      <td>1</td>\n",
       "      <td>Wire 1</td>\n",
       "      <td>2019-05-03 11:11:41</td>\n",
       "      <td>60.059998</td>\n",
       "    </tr>\n",
       "    <tr>\n",
       "      <td>1</td>\n",
       "      <td>2</td>\n",
       "      <td>Wire 1</td>\n",
       "      <td>2019-05-03 11:46:10</td>\n",
       "      <td>96.052315</td>\n",
       "    </tr>\n",
       "    <tr>\n",
       "      <td>2</td>\n",
       "      <td>3</td>\n",
       "      <td>Wire 1</td>\n",
       "      <td>2019-05-03 12:13:47</td>\n",
       "      <td>91.160157</td>\n",
       "    </tr>\n",
       "    <tr>\n",
       "      <td>3</td>\n",
       "      <td>4</td>\n",
       "      <td>Wire 1</td>\n",
       "      <td>2019-05-03 12:48:05</td>\n",
       "      <td>89.063515</td>\n",
       "    </tr>\n",
       "    <tr>\n",
       "      <td>4</td>\n",
       "      <td>5</td>\n",
       "      <td>Wire 1</td>\n",
       "      <td>2019-05-03 13:18:15</td>\n",
       "      <td>89.238236</td>\n",
       "    </tr>\n",
       "  </tbody>\n",
       "</table>\n",
       "</div>"
      ],
      "text/plain": [
       "   key wire_material     start_time_wire  volume_wire\n",
       "0    1        Wire 1 2019-05-03 11:11:41    60.059998\n",
       "1    2        Wire 1 2019-05-03 11:46:10    96.052315\n",
       "2    3        Wire 1 2019-05-03 12:13:47    91.160157\n",
       "3    4        Wire 1 2019-05-03 12:48:05    89.063515\n",
       "4    5        Wire 1 2019-05-03 13:18:15    89.238236"
      ]
     },
     "execution_count": 71,
     "metadata": {},
     "output_type": "execute_result"
    }
   ],
   "source": [
    "data_wire_full.head()"
   ]
  },
  {
   "cell_type": "markdown",
   "metadata": {
    "id": "2FOi-XHGOSXJ"
   },
   "source": [
    "Сгруппируем таблицу по партиям стали выведем столбцы: количество типов проволочных материалов и их суммарный объем."
   ]
  },
  {
   "cell_type": "code",
   "execution_count": 72,
   "metadata": {
    "id": "WicqZqVKJ9tO"
   },
   "outputs": [],
   "source": [
    "data_wire_batch = data_wire_full.groupby(['key']).agg({'wire_material':['count'], 'volume_wire':['sum']}).reset_index()"
   ]
  },
  {
   "cell_type": "code",
   "execution_count": 73,
   "metadata": {
    "id": "fWNcCAFnKgxO"
   },
   "outputs": [],
   "source": [
    "data_wire_batch.columns = ['key', 'wire_count', 'volume_wire_sum']"
   ]
  },
  {
   "cell_type": "code",
   "execution_count": 74,
   "metadata": {
    "id": "Q_ARBQHCT8QF"
   },
   "outputs": [],
   "source": [
    "data_wire.fillna(0, inplace=True)"
   ]
  },
  {
   "cell_type": "code",
   "execution_count": 75,
   "metadata": {
    "id": "t9a5HYoOT7ZX"
   },
   "outputs": [],
   "source": [
    "data_wire_batch = data_wire_batch.merge(data_wire, how='left', on='key').copy()"
   ]
  },
  {
   "cell_type": "code",
   "execution_count": 76,
   "metadata": {
    "colab": {
     "base_uri": "https://localhost:8080/"
    },
    "id": "6pQtF2zz9IOa",
    "outputId": "a067540a-256f-493a-864d-8edf753377dc"
   },
   "outputs": [
    {
     "data": {
      "text/plain": [
       "0"
      ]
     },
     "execution_count": 76,
     "metadata": {},
     "output_type": "execute_result"
    }
   ],
   "source": [
    "data_wire_batch['volume_wire_sum'][data_wire_batch['volume_wire_sum'] <= 0].count()"
   ]
  },
  {
   "cell_type": "code",
   "execution_count": 77,
   "metadata": {
    "id": "m9gGWY7tj-c9"
   },
   "outputs": [],
   "source": [
    "data_temp['start_meas_temp'] = pd.to_datetime(data_temp['start_meas_temp'])"
   ]
  },
  {
   "cell_type": "code",
   "execution_count": 78,
   "metadata": {
    "id": "Whs2tJ_0kMC3"
   },
   "outputs": [],
   "source": [
    "data_temp = data_temp.sort_values(by='start_meas_temp', ascending=True).copy()"
   ]
  },
  {
   "cell_type": "markdown",
   "metadata": {
    "id": "OcoKvS_QPjD1"
   },
   "source": [
    "Очистим данные от пропусков.  \n",
    "Проведем группировку данных в таблице **data_temp** по номеру партии **key**. Дополнительно создадим колонки: время начала и последнее измерение температуры, количество измерений, начальную и последнюю величину температуры.  \n"
   ]
  },
  {
   "cell_type": "code",
   "execution_count": 79,
   "metadata": {
    "id": "ZyN-vKkD2NIE"
   },
   "outputs": [],
   "source": [
    "data_temp = data_temp.dropna().copy()"
   ]
  },
  {
   "cell_type": "code",
   "execution_count": 80,
   "metadata": {
    "id": "TSv-D-8mpi0Q"
   },
   "outputs": [],
   "source": [
    "data_temp_batch = data_temp.groupby(['key']).agg({'start_meas_temp': ['min', 'max', 'count'], 'temp':['first','last']}).reset_index()"
   ]
  },
  {
   "cell_type": "code",
   "execution_count": 81,
   "metadata": {
    "colab": {
     "base_uri": "https://localhost:8080/",
     "height": 376
    },
    "id": "Dqcpb6-k_mDP",
    "outputId": "5b02b0e6-be41-465f-de96-a2f05f396019"
   },
   "outputs": [
    {
     "data": {
      "text/html": [
       "<div>\n",
       "<style scoped>\n",
       "    .dataframe tbody tr th:only-of-type {\n",
       "        vertical-align: middle;\n",
       "    }\n",
       "\n",
       "    .dataframe tbody tr th {\n",
       "        vertical-align: top;\n",
       "    }\n",
       "\n",
       "    .dataframe thead tr th {\n",
       "        text-align: left;\n",
       "    }\n",
       "</style>\n",
       "<table border=\"1\" class=\"dataframe\">\n",
       "  <thead>\n",
       "    <tr>\n",
       "      <th></th>\n",
       "      <th>key</th>\n",
       "      <th colspan=\"3\" halign=\"left\">start_meas_temp</th>\n",
       "      <th colspan=\"2\" halign=\"left\">temp</th>\n",
       "    </tr>\n",
       "    <tr>\n",
       "      <th></th>\n",
       "      <th></th>\n",
       "      <th>min</th>\n",
       "      <th>max</th>\n",
       "      <th>count</th>\n",
       "      <th>first</th>\n",
       "      <th>last</th>\n",
       "    </tr>\n",
       "  </thead>\n",
       "  <tbody>\n",
       "    <tr>\n",
       "      <td>0</td>\n",
       "      <td>1</td>\n",
       "      <td>2019-05-03 11:16:18</td>\n",
       "      <td>2019-05-03 11:30:39</td>\n",
       "      <td>5</td>\n",
       "      <td>1571.0</td>\n",
       "      <td>1613.0</td>\n",
       "    </tr>\n",
       "    <tr>\n",
       "      <td>1</td>\n",
       "      <td>2</td>\n",
       "      <td>2019-05-03 11:37:27</td>\n",
       "      <td>2019-05-03 11:59:12</td>\n",
       "      <td>6</td>\n",
       "      <td>1581.0</td>\n",
       "      <td>1602.0</td>\n",
       "    </tr>\n",
       "    <tr>\n",
       "      <td>2</td>\n",
       "      <td>3</td>\n",
       "      <td>2019-05-03 12:13:17</td>\n",
       "      <td>2019-05-03 12:34:57</td>\n",
       "      <td>5</td>\n",
       "      <td>1596.0</td>\n",
       "      <td>1599.0</td>\n",
       "    </tr>\n",
       "    <tr>\n",
       "      <td>3</td>\n",
       "      <td>4</td>\n",
       "      <td>2019-05-03 12:52:57</td>\n",
       "      <td>2019-05-03 12:59:25</td>\n",
       "      <td>3</td>\n",
       "      <td>1601.0</td>\n",
       "      <td>1625.0</td>\n",
       "    </tr>\n",
       "    <tr>\n",
       "      <td>4</td>\n",
       "      <td>5</td>\n",
       "      <td>2019-05-03 13:23:19</td>\n",
       "      <td>2019-05-03 13:36:01</td>\n",
       "      <td>2</td>\n",
       "      <td>1576.0</td>\n",
       "      <td>1602.0</td>\n",
       "    </tr>\n",
       "    <tr>\n",
       "      <td>5</td>\n",
       "      <td>6</td>\n",
       "      <td>2019-05-03 13:49:24</td>\n",
       "      <td>2019-05-03 14:12:29</td>\n",
       "      <td>5</td>\n",
       "      <td>1543.0</td>\n",
       "      <td>1596.0</td>\n",
       "    </tr>\n",
       "    <tr>\n",
       "      <td>6</td>\n",
       "      <td>7</td>\n",
       "      <td>2019-05-03 14:19:43</td>\n",
       "      <td>2019-05-03 14:42:37</td>\n",
       "      <td>5</td>\n",
       "      <td>1586.0</td>\n",
       "      <td>1599.0</td>\n",
       "    </tr>\n",
       "    <tr>\n",
       "      <td>7</td>\n",
       "      <td>8</td>\n",
       "      <td>2019-05-03 15:07:18</td>\n",
       "      <td>2019-05-03 15:22:52</td>\n",
       "      <td>4</td>\n",
       "      <td>1577.0</td>\n",
       "      <td>1598.0</td>\n",
       "    </tr>\n",
       "    <tr>\n",
       "      <td>8</td>\n",
       "      <td>9</td>\n",
       "      <td>2019-05-03 15:37:03</td>\n",
       "      <td>2019-05-03 16:01:16</td>\n",
       "      <td>5</td>\n",
       "      <td>1587.0</td>\n",
       "      <td>1592.0</td>\n",
       "    </tr>\n",
       "    <tr>\n",
       "      <td>9</td>\n",
       "      <td>10</td>\n",
       "      <td>2019-05-03 16:14:29</td>\n",
       "      <td>2019-05-03 16:36:08</td>\n",
       "      <td>8</td>\n",
       "      <td>1574.0</td>\n",
       "      <td>1593.0</td>\n",
       "    </tr>\n",
       "  </tbody>\n",
       "</table>\n",
       "</div>"
      ],
      "text/plain": [
       "  key     start_meas_temp                              temp        \n",
       "                      min                 max count   first    last\n",
       "0   1 2019-05-03 11:16:18 2019-05-03 11:30:39     5  1571.0  1613.0\n",
       "1   2 2019-05-03 11:37:27 2019-05-03 11:59:12     6  1581.0  1602.0\n",
       "2   3 2019-05-03 12:13:17 2019-05-03 12:34:57     5  1596.0  1599.0\n",
       "3   4 2019-05-03 12:52:57 2019-05-03 12:59:25     3  1601.0  1625.0\n",
       "4   5 2019-05-03 13:23:19 2019-05-03 13:36:01     2  1576.0  1602.0\n",
       "5   6 2019-05-03 13:49:24 2019-05-03 14:12:29     5  1543.0  1596.0\n",
       "6   7 2019-05-03 14:19:43 2019-05-03 14:42:37     5  1586.0  1599.0\n",
       "7   8 2019-05-03 15:07:18 2019-05-03 15:22:52     4  1577.0  1598.0\n",
       "8   9 2019-05-03 15:37:03 2019-05-03 16:01:16     5  1587.0  1592.0\n",
       "9  10 2019-05-03 16:14:29 2019-05-03 16:36:08     8  1574.0  1593.0"
      ]
     },
     "execution_count": 81,
     "metadata": {},
     "output_type": "execute_result"
    }
   ],
   "source": [
    "data_temp_batch.head(10)"
   ]
  },
  {
   "cell_type": "markdown",
   "metadata": {
    "id": "EWvOAYnDQum-"
   },
   "source": [
    "Вычислим время от первого и последнего замера температуры **diff_time_temp** и разницу температур **diff_temp**:"
   ]
  },
  {
   "cell_type": "code",
   "execution_count": 82,
   "metadata": {
    "id": "HOChFOZ46ugM"
   },
   "outputs": [],
   "source": [
    "data_temp_batch['diff_time_temp'] = ((data_temp_batch['start_meas_temp']['max'] - data_temp_batch['start_meas_temp']['min'])/np.timedelta64(1,'s'))"
   ]
  },
  {
   "cell_type": "code",
   "execution_count": 83,
   "metadata": {
    "id": "Hm46DQxz8u8B"
   },
   "outputs": [],
   "source": [
    "data_temp_batch['diff_temp'] = data_temp_batch['temp']['last'] - data_temp_batch['temp']['first']"
   ]
  },
  {
   "cell_type": "code",
   "execution_count": 84,
   "metadata": {
    "id": "-ee_EL039LK2"
   },
   "outputs": [],
   "source": [
    "data_temp_batch.columns = ['key', 'start_meas_temp', 'end_meas_temp', 'temp_count','temp_first', 'temp_last', 'diff_time_temp', 'diff_temp']"
   ]
  },
  {
   "cell_type": "code",
   "execution_count": 85,
   "metadata": {
    "colab": {
     "base_uri": "https://localhost:8080/"
    },
    "id": "KzN78pwY_ZAb",
    "outputId": "89fb97e7-c08e-4b5d-d120-37e1b690f296"
   },
   "outputs": [
    {
     "data": {
      "text/plain": [
       "741"
      ]
     },
     "execution_count": 85,
     "metadata": {},
     "output_type": "execute_result"
    }
   ],
   "source": [
    "data_temp_batch['temp_count'][data_temp_batch['temp_count'] <=1].count()"
   ]
  },
  {
   "cell_type": "markdown",
   "metadata": {
    "id": "HWTYJcV_RZk7"
   },
   "source": [
    "Количество измерений температуры должно быть больше одного, удалим данные не удовлетворяющие этому условию:"
   ]
  },
  {
   "cell_type": "code",
   "execution_count": 86,
   "metadata": {
    "id": "SFmyp3IX-VBS"
   },
   "outputs": [],
   "source": [
    "data_temp_batch = data_temp_batch.query('temp_count > 1').copy()"
   ]
  },
  {
   "cell_type": "code",
   "execution_count": 87,
   "metadata": {
    "colab": {
     "base_uri": "https://localhost:8080/"
    },
    "id": "U53v0c896tVP",
    "outputId": "cd739fcb-ffd3-4469-df6d-c63b45ec6c76"
   },
   "outputs": [
    {
     "name": "stdout",
     "output_type": "stream",
     "text": [
      "<class 'pandas.core.frame.DataFrame'>\n",
      "Int64Index: 2475 entries, 0 to 2476\n",
      "Data columns (total 8 columns):\n",
      "key                2475 non-null int64\n",
      "start_meas_temp    2475 non-null datetime64[ns]\n",
      "end_meas_temp      2475 non-null datetime64[ns]\n",
      "temp_count         2475 non-null int64\n",
      "temp_first         2475 non-null float64\n",
      "temp_last          2475 non-null float64\n",
      "diff_time_temp     2475 non-null float64\n",
      "diff_temp          2475 non-null float64\n",
      "dtypes: datetime64[ns](2), float64(4), int64(2)\n",
      "memory usage: 174.0 KB\n"
     ]
    }
   ],
   "source": [
    "data_temp_batch.info()"
   ]
  },
  {
   "cell_type": "code",
   "execution_count": 88,
   "metadata": {
    "id": "dFsSspncNkcv"
   },
   "outputs": [],
   "source": [
    "data_temp_batch = data_temp_batch.drop(columns=['start_meas_temp', 'end_meas_temp']).copy()"
   ]
  },
  {
   "cell_type": "code",
   "execution_count": 89,
   "metadata": {
    "colab": {
     "base_uri": "https://localhost:8080/",
     "height": 197
    },
    "id": "IdPg6vCw-RO_",
    "outputId": "9375ba83-011e-4496-f73f-9f8c40f44283"
   },
   "outputs": [
    {
     "data": {
      "text/html": [
       "<div>\n",
       "<style scoped>\n",
       "    .dataframe tbody tr th:only-of-type {\n",
       "        vertical-align: middle;\n",
       "    }\n",
       "\n",
       "    .dataframe tbody tr th {\n",
       "        vertical-align: top;\n",
       "    }\n",
       "\n",
       "    .dataframe thead th {\n",
       "        text-align: right;\n",
       "    }\n",
       "</style>\n",
       "<table border=\"1\" class=\"dataframe\">\n",
       "  <thead>\n",
       "    <tr style=\"text-align: right;\">\n",
       "      <th></th>\n",
       "      <th>key</th>\n",
       "      <th>count_arc</th>\n",
       "      <th>active_power_sum</th>\n",
       "      <th>reactive_power_sum</th>\n",
       "      <th>sum_time_arc</th>\n",
       "      <th>full_power_sum</th>\n",
       "    </tr>\n",
       "  </thead>\n",
       "  <tbody>\n",
       "    <tr>\n",
       "      <td>0</td>\n",
       "      <td>1</td>\n",
       "      <td>5</td>\n",
       "      <td>4.878147</td>\n",
       "      <td>3.183241</td>\n",
       "      <td>1098.0</td>\n",
       "      <td>5.826395</td>\n",
       "    </tr>\n",
       "    <tr>\n",
       "      <td>1</td>\n",
       "      <td>2</td>\n",
       "      <td>4</td>\n",
       "      <td>3.052598</td>\n",
       "      <td>1.998112</td>\n",
       "      <td>811.0</td>\n",
       "      <td>3.649216</td>\n",
       "    </tr>\n",
       "    <tr>\n",
       "      <td>2</td>\n",
       "      <td>3</td>\n",
       "      <td>5</td>\n",
       "      <td>2.525882</td>\n",
       "      <td>1.599076</td>\n",
       "      <td>655.0</td>\n",
       "      <td>2.989534</td>\n",
       "    </tr>\n",
       "    <tr>\n",
       "      <td>3</td>\n",
       "      <td>4</td>\n",
       "      <td>4</td>\n",
       "      <td>3.209250</td>\n",
       "      <td>2.060298</td>\n",
       "      <td>741.0</td>\n",
       "      <td>3.814962</td>\n",
       "    </tr>\n",
       "    <tr>\n",
       "      <td>4</td>\n",
       "      <td>5</td>\n",
       "      <td>4</td>\n",
       "      <td>3.347173</td>\n",
       "      <td>2.252643</td>\n",
       "      <td>869.0</td>\n",
       "      <td>4.035758</td>\n",
       "    </tr>\n",
       "  </tbody>\n",
       "</table>\n",
       "</div>"
      ],
      "text/plain": [
       "   key  count_arc  active_power_sum  reactive_power_sum  sum_time_arc  \\\n",
       "0    1          5          4.878147            3.183241        1098.0   \n",
       "1    2          4          3.052598            1.998112         811.0   \n",
       "2    3          5          2.525882            1.599076         655.0   \n",
       "3    4          4          3.209250            2.060298         741.0   \n",
       "4    5          4          3.347173            2.252643         869.0   \n",
       "\n",
       "   full_power_sum  \n",
       "0        5.826395  \n",
       "1        3.649216  \n",
       "2        2.989534  \n",
       "3        3.814962  \n",
       "4        4.035758  "
      ]
     },
     "execution_count": 89,
     "metadata": {},
     "output_type": "execute_result"
    }
   ],
   "source": [
    "data_arc_batch.head()"
   ]
  },
  {
   "cell_type": "code",
   "execution_count": 90,
   "metadata": {
    "colab": {
     "base_uri": "https://localhost:8080/",
     "height": 197
    },
    "id": "rN8-TTlFkpuK",
    "outputId": "220c1799-71da-49c3-dc65-c3d6ac524ad4"
   },
   "outputs": [
    {
     "data": {
      "text/html": [
       "<div>\n",
       "<style scoped>\n",
       "    .dataframe tbody tr th:only-of-type {\n",
       "        vertical-align: middle;\n",
       "    }\n",
       "\n",
       "    .dataframe tbody tr th {\n",
       "        vertical-align: top;\n",
       "    }\n",
       "\n",
       "    .dataframe thead th {\n",
       "        text-align: right;\n",
       "    }\n",
       "</style>\n",
       "<table border=\"1\" class=\"dataframe\">\n",
       "  <thead>\n",
       "    <tr style=\"text-align: right;\">\n",
       "      <th></th>\n",
       "      <th>key</th>\n",
       "      <th>bulk_count</th>\n",
       "      <th>volume_bulk_sum</th>\n",
       "      <th>Bulk 1</th>\n",
       "      <th>Bulk 2</th>\n",
       "      <th>Bulk 3</th>\n",
       "      <th>Bulk 4</th>\n",
       "      <th>Bulk 5</th>\n",
       "      <th>Bulk 6</th>\n",
       "      <th>Bulk 7</th>\n",
       "      <th>Bulk 8</th>\n",
       "      <th>Bulk 9</th>\n",
       "      <th>Bulk 10</th>\n",
       "      <th>Bulk 11</th>\n",
       "      <th>Bulk 12</th>\n",
       "      <th>Bulk 13</th>\n",
       "      <th>Bulk 14</th>\n",
       "      <th>Bulk 15</th>\n",
       "    </tr>\n",
       "  </thead>\n",
       "  <tbody>\n",
       "    <tr>\n",
       "      <td>0</td>\n",
       "      <td>1</td>\n",
       "      <td>4</td>\n",
       "      <td>553.0</td>\n",
       "      <td>0.0</td>\n",
       "      <td>0.0</td>\n",
       "      <td>0.0</td>\n",
       "      <td>43.0</td>\n",
       "      <td>0.0</td>\n",
       "      <td>0.0</td>\n",
       "      <td>0.0</td>\n",
       "      <td>0.0</td>\n",
       "      <td>0.0</td>\n",
       "      <td>0.0</td>\n",
       "      <td>0.0</td>\n",
       "      <td>206.0</td>\n",
       "      <td>0.0</td>\n",
       "      <td>150.0</td>\n",
       "      <td>154.0</td>\n",
       "    </tr>\n",
       "    <tr>\n",
       "      <td>1</td>\n",
       "      <td>2</td>\n",
       "      <td>4</td>\n",
       "      <td>582.0</td>\n",
       "      <td>0.0</td>\n",
       "      <td>0.0</td>\n",
       "      <td>0.0</td>\n",
       "      <td>73.0</td>\n",
       "      <td>0.0</td>\n",
       "      <td>0.0</td>\n",
       "      <td>0.0</td>\n",
       "      <td>0.0</td>\n",
       "      <td>0.0</td>\n",
       "      <td>0.0</td>\n",
       "      <td>0.0</td>\n",
       "      <td>206.0</td>\n",
       "      <td>0.0</td>\n",
       "      <td>149.0</td>\n",
       "      <td>154.0</td>\n",
       "    </tr>\n",
       "    <tr>\n",
       "      <td>2</td>\n",
       "      <td>3</td>\n",
       "      <td>4</td>\n",
       "      <td>544.0</td>\n",
       "      <td>0.0</td>\n",
       "      <td>0.0</td>\n",
       "      <td>0.0</td>\n",
       "      <td>34.0</td>\n",
       "      <td>0.0</td>\n",
       "      <td>0.0</td>\n",
       "      <td>0.0</td>\n",
       "      <td>0.0</td>\n",
       "      <td>0.0</td>\n",
       "      <td>0.0</td>\n",
       "      <td>0.0</td>\n",
       "      <td>205.0</td>\n",
       "      <td>0.0</td>\n",
       "      <td>152.0</td>\n",
       "      <td>153.0</td>\n",
       "    </tr>\n",
       "    <tr>\n",
       "      <td>3</td>\n",
       "      <td>4</td>\n",
       "      <td>4</td>\n",
       "      <td>595.0</td>\n",
       "      <td>0.0</td>\n",
       "      <td>0.0</td>\n",
       "      <td>0.0</td>\n",
       "      <td>81.0</td>\n",
       "      <td>0.0</td>\n",
       "      <td>0.0</td>\n",
       "      <td>0.0</td>\n",
       "      <td>0.0</td>\n",
       "      <td>0.0</td>\n",
       "      <td>0.0</td>\n",
       "      <td>0.0</td>\n",
       "      <td>207.0</td>\n",
       "      <td>0.0</td>\n",
       "      <td>153.0</td>\n",
       "      <td>154.0</td>\n",
       "    </tr>\n",
       "    <tr>\n",
       "      <td>4</td>\n",
       "      <td>5</td>\n",
       "      <td>4</td>\n",
       "      <td>584.0</td>\n",
       "      <td>0.0</td>\n",
       "      <td>0.0</td>\n",
       "      <td>0.0</td>\n",
       "      <td>78.0</td>\n",
       "      <td>0.0</td>\n",
       "      <td>0.0</td>\n",
       "      <td>0.0</td>\n",
       "      <td>0.0</td>\n",
       "      <td>0.0</td>\n",
       "      <td>0.0</td>\n",
       "      <td>0.0</td>\n",
       "      <td>203.0</td>\n",
       "      <td>0.0</td>\n",
       "      <td>151.0</td>\n",
       "      <td>152.0</td>\n",
       "    </tr>\n",
       "  </tbody>\n",
       "</table>\n",
       "</div>"
      ],
      "text/plain": [
       "   key  bulk_count  volume_bulk_sum  Bulk 1  Bulk 2  Bulk 3  Bulk 4  Bulk 5  \\\n",
       "0    1           4            553.0     0.0     0.0     0.0    43.0     0.0   \n",
       "1    2           4            582.0     0.0     0.0     0.0    73.0     0.0   \n",
       "2    3           4            544.0     0.0     0.0     0.0    34.0     0.0   \n",
       "3    4           4            595.0     0.0     0.0     0.0    81.0     0.0   \n",
       "4    5           4            584.0     0.0     0.0     0.0    78.0     0.0   \n",
       "\n",
       "   Bulk 6  Bulk 7  Bulk 8  Bulk 9  Bulk 10  Bulk 11  Bulk 12  Bulk 13  \\\n",
       "0     0.0     0.0     0.0     0.0      0.0      0.0    206.0      0.0   \n",
       "1     0.0     0.0     0.0     0.0      0.0      0.0    206.0      0.0   \n",
       "2     0.0     0.0     0.0     0.0      0.0      0.0    205.0      0.0   \n",
       "3     0.0     0.0     0.0     0.0      0.0      0.0    207.0      0.0   \n",
       "4     0.0     0.0     0.0     0.0      0.0      0.0    203.0      0.0   \n",
       "\n",
       "   Bulk 14  Bulk 15  \n",
       "0    150.0    154.0  \n",
       "1    149.0    154.0  \n",
       "2    152.0    153.0  \n",
       "3    153.0    154.0  \n",
       "4    151.0    152.0  "
      ]
     },
     "execution_count": 90,
     "metadata": {},
     "output_type": "execute_result"
    }
   ],
   "source": [
    "data_bulk_batch.head()"
   ]
  },
  {
   "cell_type": "code",
   "execution_count": 91,
   "metadata": {
    "colab": {
     "base_uri": "https://localhost:8080/",
     "height": 197
    },
    "id": "bSYjGN-7kpx7",
    "outputId": "4bb57200-dc84-4326-93f6-5cc7b2c7c3da"
   },
   "outputs": [
    {
     "data": {
      "text/html": [
       "<div>\n",
       "<style scoped>\n",
       "    .dataframe tbody tr th:only-of-type {\n",
       "        vertical-align: middle;\n",
       "    }\n",
       "\n",
       "    .dataframe tbody tr th {\n",
       "        vertical-align: top;\n",
       "    }\n",
       "\n",
       "    .dataframe thead th {\n",
       "        text-align: right;\n",
       "    }\n",
       "</style>\n",
       "<table border=\"1\" class=\"dataframe\">\n",
       "  <thead>\n",
       "    <tr style=\"text-align: right;\">\n",
       "      <th></th>\n",
       "      <th>key</th>\n",
       "      <th>wire_count</th>\n",
       "      <th>volume_wire_sum</th>\n",
       "      <th>Wire 1</th>\n",
       "      <th>Wire 2</th>\n",
       "      <th>Wire 3</th>\n",
       "      <th>Wire 4</th>\n",
       "      <th>Wire 5</th>\n",
       "      <th>Wire 6</th>\n",
       "      <th>Wire 7</th>\n",
       "      <th>Wire 8</th>\n",
       "      <th>Wire 9</th>\n",
       "    </tr>\n",
       "  </thead>\n",
       "  <tbody>\n",
       "    <tr>\n",
       "      <td>0</td>\n",
       "      <td>1</td>\n",
       "      <td>1</td>\n",
       "      <td>60.059998</td>\n",
       "      <td>60.059998</td>\n",
       "      <td>0.00000</td>\n",
       "      <td>0.0</td>\n",
       "      <td>0.0</td>\n",
       "      <td>0.0</td>\n",
       "      <td>0.0</td>\n",
       "      <td>0.0</td>\n",
       "      <td>0.0</td>\n",
       "      <td>0.0</td>\n",
       "    </tr>\n",
       "    <tr>\n",
       "      <td>1</td>\n",
       "      <td>2</td>\n",
       "      <td>1</td>\n",
       "      <td>96.052315</td>\n",
       "      <td>96.052315</td>\n",
       "      <td>0.00000</td>\n",
       "      <td>0.0</td>\n",
       "      <td>0.0</td>\n",
       "      <td>0.0</td>\n",
       "      <td>0.0</td>\n",
       "      <td>0.0</td>\n",
       "      <td>0.0</td>\n",
       "      <td>0.0</td>\n",
       "    </tr>\n",
       "    <tr>\n",
       "      <td>2</td>\n",
       "      <td>3</td>\n",
       "      <td>1</td>\n",
       "      <td>91.160157</td>\n",
       "      <td>91.160157</td>\n",
       "      <td>0.00000</td>\n",
       "      <td>0.0</td>\n",
       "      <td>0.0</td>\n",
       "      <td>0.0</td>\n",
       "      <td>0.0</td>\n",
       "      <td>0.0</td>\n",
       "      <td>0.0</td>\n",
       "      <td>0.0</td>\n",
       "    </tr>\n",
       "    <tr>\n",
       "      <td>3</td>\n",
       "      <td>4</td>\n",
       "      <td>1</td>\n",
       "      <td>89.063515</td>\n",
       "      <td>89.063515</td>\n",
       "      <td>0.00000</td>\n",
       "      <td>0.0</td>\n",
       "      <td>0.0</td>\n",
       "      <td>0.0</td>\n",
       "      <td>0.0</td>\n",
       "      <td>0.0</td>\n",
       "      <td>0.0</td>\n",
       "      <td>0.0</td>\n",
       "    </tr>\n",
       "    <tr>\n",
       "      <td>4</td>\n",
       "      <td>5</td>\n",
       "      <td>2</td>\n",
       "      <td>98.352796</td>\n",
       "      <td>89.238236</td>\n",
       "      <td>9.11456</td>\n",
       "      <td>0.0</td>\n",
       "      <td>0.0</td>\n",
       "      <td>0.0</td>\n",
       "      <td>0.0</td>\n",
       "      <td>0.0</td>\n",
       "      <td>0.0</td>\n",
       "      <td>0.0</td>\n",
       "    </tr>\n",
       "  </tbody>\n",
       "</table>\n",
       "</div>"
      ],
      "text/plain": [
       "   key  wire_count  volume_wire_sum     Wire 1   Wire 2  Wire 3  Wire 4  \\\n",
       "0    1           1        60.059998  60.059998  0.00000     0.0     0.0   \n",
       "1    2           1        96.052315  96.052315  0.00000     0.0     0.0   \n",
       "2    3           1        91.160157  91.160157  0.00000     0.0     0.0   \n",
       "3    4           1        89.063515  89.063515  0.00000     0.0     0.0   \n",
       "4    5           2        98.352796  89.238236  9.11456     0.0     0.0   \n",
       "\n",
       "   Wire 5  Wire 6  Wire 7  Wire 8  Wire 9  \n",
       "0     0.0     0.0     0.0     0.0     0.0  \n",
       "1     0.0     0.0     0.0     0.0     0.0  \n",
       "2     0.0     0.0     0.0     0.0     0.0  \n",
       "3     0.0     0.0     0.0     0.0     0.0  \n",
       "4     0.0     0.0     0.0     0.0     0.0  "
      ]
     },
     "execution_count": 91,
     "metadata": {},
     "output_type": "execute_result"
    }
   ],
   "source": [
    "data_wire_batch.head()"
   ]
  },
  {
   "cell_type": "code",
   "execution_count": 92,
   "metadata": {
    "colab": {
     "base_uri": "https://localhost:8080/",
     "height": 197
    },
    "id": "MvK77BOiM1CS",
    "outputId": "edda4a94-2e02-492d-e5f1-8ea31feb30fe"
   },
   "outputs": [
    {
     "data": {
      "text/html": [
       "<div>\n",
       "<style scoped>\n",
       "    .dataframe tbody tr th:only-of-type {\n",
       "        vertical-align: middle;\n",
       "    }\n",
       "\n",
       "    .dataframe tbody tr th {\n",
       "        vertical-align: top;\n",
       "    }\n",
       "\n",
       "    .dataframe thead th {\n",
       "        text-align: right;\n",
       "    }\n",
       "</style>\n",
       "<table border=\"1\" class=\"dataframe\">\n",
       "  <thead>\n",
       "    <tr style=\"text-align: right;\">\n",
       "      <th></th>\n",
       "      <th>key</th>\n",
       "      <th>volume_gas</th>\n",
       "    </tr>\n",
       "  </thead>\n",
       "  <tbody>\n",
       "    <tr>\n",
       "      <td>0</td>\n",
       "      <td>1</td>\n",
       "      <td>29.749986</td>\n",
       "    </tr>\n",
       "    <tr>\n",
       "      <td>1</td>\n",
       "      <td>2</td>\n",
       "      <td>12.555561</td>\n",
       "    </tr>\n",
       "    <tr>\n",
       "      <td>2</td>\n",
       "      <td>3</td>\n",
       "      <td>28.554793</td>\n",
       "    </tr>\n",
       "    <tr>\n",
       "      <td>3</td>\n",
       "      <td>4</td>\n",
       "      <td>18.841219</td>\n",
       "    </tr>\n",
       "    <tr>\n",
       "      <td>4</td>\n",
       "      <td>5</td>\n",
       "      <td>5.413692</td>\n",
       "    </tr>\n",
       "  </tbody>\n",
       "</table>\n",
       "</div>"
      ],
      "text/plain": [
       "   key  volume_gas\n",
       "0    1   29.749986\n",
       "1    2   12.555561\n",
       "2    3   28.554793\n",
       "3    4   18.841219\n",
       "4    5    5.413692"
      ]
     },
     "execution_count": 92,
     "metadata": {},
     "output_type": "execute_result"
    }
   ],
   "source": [
    "data_gas.head()"
   ]
  },
  {
   "cell_type": "code",
   "execution_count": 93,
   "metadata": {
    "colab": {
     "base_uri": "https://localhost:8080/",
     "height": 197
    },
    "id": "oL4ZTVlbkp2c",
    "outputId": "92da3317-20c8-4b7c-fa95-0064d85e76a5"
   },
   "outputs": [
    {
     "data": {
      "text/html": [
       "<div>\n",
       "<style scoped>\n",
       "    .dataframe tbody tr th:only-of-type {\n",
       "        vertical-align: middle;\n",
       "    }\n",
       "\n",
       "    .dataframe tbody tr th {\n",
       "        vertical-align: top;\n",
       "    }\n",
       "\n",
       "    .dataframe thead th {\n",
       "        text-align: right;\n",
       "    }\n",
       "</style>\n",
       "<table border=\"1\" class=\"dataframe\">\n",
       "  <thead>\n",
       "    <tr style=\"text-align: right;\">\n",
       "      <th></th>\n",
       "      <th>key</th>\n",
       "      <th>temp_count</th>\n",
       "      <th>temp_first</th>\n",
       "      <th>temp_last</th>\n",
       "      <th>diff_time_temp</th>\n",
       "      <th>diff_temp</th>\n",
       "    </tr>\n",
       "  </thead>\n",
       "  <tbody>\n",
       "    <tr>\n",
       "      <td>0</td>\n",
       "      <td>1</td>\n",
       "      <td>5</td>\n",
       "      <td>1571.0</td>\n",
       "      <td>1613.0</td>\n",
       "      <td>861.0</td>\n",
       "      <td>42.0</td>\n",
       "    </tr>\n",
       "    <tr>\n",
       "      <td>1</td>\n",
       "      <td>2</td>\n",
       "      <td>6</td>\n",
       "      <td>1581.0</td>\n",
       "      <td>1602.0</td>\n",
       "      <td>1305.0</td>\n",
       "      <td>21.0</td>\n",
       "    </tr>\n",
       "    <tr>\n",
       "      <td>2</td>\n",
       "      <td>3</td>\n",
       "      <td>5</td>\n",
       "      <td>1596.0</td>\n",
       "      <td>1599.0</td>\n",
       "      <td>1300.0</td>\n",
       "      <td>3.0</td>\n",
       "    </tr>\n",
       "    <tr>\n",
       "      <td>3</td>\n",
       "      <td>4</td>\n",
       "      <td>3</td>\n",
       "      <td>1601.0</td>\n",
       "      <td>1625.0</td>\n",
       "      <td>388.0</td>\n",
       "      <td>24.0</td>\n",
       "    </tr>\n",
       "    <tr>\n",
       "      <td>4</td>\n",
       "      <td>5</td>\n",
       "      <td>2</td>\n",
       "      <td>1576.0</td>\n",
       "      <td>1602.0</td>\n",
       "      <td>762.0</td>\n",
       "      <td>26.0</td>\n",
       "    </tr>\n",
       "  </tbody>\n",
       "</table>\n",
       "</div>"
      ],
      "text/plain": [
       "   key  temp_count  temp_first  temp_last  diff_time_temp  diff_temp\n",
       "0    1           5      1571.0     1613.0           861.0       42.0\n",
       "1    2           6      1581.0     1602.0          1305.0       21.0\n",
       "2    3           5      1596.0     1599.0          1300.0        3.0\n",
       "3    4           3      1601.0     1625.0           388.0       24.0\n",
       "4    5           2      1576.0     1602.0           762.0       26.0"
      ]
     },
     "execution_count": 93,
     "metadata": {},
     "output_type": "execute_result"
    }
   ],
   "source": [
    "data_temp_batch.head()"
   ]
  },
  {
   "cell_type": "markdown",
   "metadata": {
    "id": "bxy8JBDwZFTI"
   },
   "source": [
    "Сгруппируем все данные в единую таблицу **data_full**:"
   ]
  },
  {
   "cell_type": "code",
   "execution_count": 94,
   "metadata": {
    "id": "NiCfQlDdBlSA"
   },
   "outputs": [],
   "source": [
    "data_full = pd.merge(data_arc_batch, data_gas, how='left', on=['key'])"
   ]
  },
  {
   "cell_type": "code",
   "execution_count": 95,
   "metadata": {
    "id": "kNJARalxPN5B"
   },
   "outputs": [],
   "source": [
    "data_full = pd.merge(data_full, data_temp_batch, how='left', on=['key']).copy()"
   ]
  },
  {
   "cell_type": "code",
   "execution_count": 96,
   "metadata": {
    "id": "GB3ErhKAPM43"
   },
   "outputs": [],
   "source": [
    "data_full = pd.merge(data_full, data_bulk_batch, how='left', on=['key']).copy()"
   ]
  },
  {
   "cell_type": "code",
   "execution_count": 97,
   "metadata": {
    "id": "UzCGcwaLPM04"
   },
   "outputs": [],
   "source": [
    "data_full = pd.merge(data_full, data_wire_batch, how='left', on=['key']).copy()"
   ]
  },
  {
   "cell_type": "code",
   "execution_count": 98,
   "metadata": {
    "colab": {
     "base_uri": "https://localhost:8080/",
     "height": 234
    },
    "id": "J1WMZU-uQCL_",
    "outputId": "962a9240-bfe4-4887-c5ab-eed7578cee99"
   },
   "outputs": [
    {
     "data": {
      "text/html": [
       "<div>\n",
       "<style scoped>\n",
       "    .dataframe tbody tr th:only-of-type {\n",
       "        vertical-align: middle;\n",
       "    }\n",
       "\n",
       "    .dataframe tbody tr th {\n",
       "        vertical-align: top;\n",
       "    }\n",
       "\n",
       "    .dataframe thead th {\n",
       "        text-align: right;\n",
       "    }\n",
       "</style>\n",
       "<table border=\"1\" class=\"dataframe\">\n",
       "  <thead>\n",
       "    <tr style=\"text-align: right;\">\n",
       "      <th></th>\n",
       "      <th>key</th>\n",
       "      <th>count_arc</th>\n",
       "      <th>active_power_sum</th>\n",
       "      <th>reactive_power_sum</th>\n",
       "      <th>sum_time_arc</th>\n",
       "      <th>full_power_sum</th>\n",
       "      <th>volume_gas</th>\n",
       "      <th>temp_count</th>\n",
       "      <th>temp_first</th>\n",
       "      <th>temp_last</th>\n",
       "      <th>...</th>\n",
       "      <th>volume_wire_sum</th>\n",
       "      <th>Wire 1</th>\n",
       "      <th>Wire 2</th>\n",
       "      <th>Wire 3</th>\n",
       "      <th>Wire 4</th>\n",
       "      <th>Wire 5</th>\n",
       "      <th>Wire 6</th>\n",
       "      <th>Wire 7</th>\n",
       "      <th>Wire 8</th>\n",
       "      <th>Wire 9</th>\n",
       "    </tr>\n",
       "  </thead>\n",
       "  <tbody>\n",
       "    <tr>\n",
       "      <td>0</td>\n",
       "      <td>1</td>\n",
       "      <td>5</td>\n",
       "      <td>4.878147</td>\n",
       "      <td>3.183241</td>\n",
       "      <td>1098.0</td>\n",
       "      <td>5.826395</td>\n",
       "      <td>29.749986</td>\n",
       "      <td>5.0</td>\n",
       "      <td>1571.0</td>\n",
       "      <td>1613.0</td>\n",
       "      <td>...</td>\n",
       "      <td>60.059998</td>\n",
       "      <td>60.059998</td>\n",
       "      <td>0.00000</td>\n",
       "      <td>0.0</td>\n",
       "      <td>0.0</td>\n",
       "      <td>0.0</td>\n",
       "      <td>0.0</td>\n",
       "      <td>0.0</td>\n",
       "      <td>0.0</td>\n",
       "      <td>0.0</td>\n",
       "    </tr>\n",
       "    <tr>\n",
       "      <td>1</td>\n",
       "      <td>2</td>\n",
       "      <td>4</td>\n",
       "      <td>3.052598</td>\n",
       "      <td>1.998112</td>\n",
       "      <td>811.0</td>\n",
       "      <td>3.649216</td>\n",
       "      <td>12.555561</td>\n",
       "      <td>6.0</td>\n",
       "      <td>1581.0</td>\n",
       "      <td>1602.0</td>\n",
       "      <td>...</td>\n",
       "      <td>96.052315</td>\n",
       "      <td>96.052315</td>\n",
       "      <td>0.00000</td>\n",
       "      <td>0.0</td>\n",
       "      <td>0.0</td>\n",
       "      <td>0.0</td>\n",
       "      <td>0.0</td>\n",
       "      <td>0.0</td>\n",
       "      <td>0.0</td>\n",
       "      <td>0.0</td>\n",
       "    </tr>\n",
       "    <tr>\n",
       "      <td>2</td>\n",
       "      <td>3</td>\n",
       "      <td>5</td>\n",
       "      <td>2.525882</td>\n",
       "      <td>1.599076</td>\n",
       "      <td>655.0</td>\n",
       "      <td>2.989534</td>\n",
       "      <td>28.554793</td>\n",
       "      <td>5.0</td>\n",
       "      <td>1596.0</td>\n",
       "      <td>1599.0</td>\n",
       "      <td>...</td>\n",
       "      <td>91.160157</td>\n",
       "      <td>91.160157</td>\n",
       "      <td>0.00000</td>\n",
       "      <td>0.0</td>\n",
       "      <td>0.0</td>\n",
       "      <td>0.0</td>\n",
       "      <td>0.0</td>\n",
       "      <td>0.0</td>\n",
       "      <td>0.0</td>\n",
       "      <td>0.0</td>\n",
       "    </tr>\n",
       "    <tr>\n",
       "      <td>3</td>\n",
       "      <td>4</td>\n",
       "      <td>4</td>\n",
       "      <td>3.209250</td>\n",
       "      <td>2.060298</td>\n",
       "      <td>741.0</td>\n",
       "      <td>3.814962</td>\n",
       "      <td>18.841219</td>\n",
       "      <td>3.0</td>\n",
       "      <td>1601.0</td>\n",
       "      <td>1625.0</td>\n",
       "      <td>...</td>\n",
       "      <td>89.063515</td>\n",
       "      <td>89.063515</td>\n",
       "      <td>0.00000</td>\n",
       "      <td>0.0</td>\n",
       "      <td>0.0</td>\n",
       "      <td>0.0</td>\n",
       "      <td>0.0</td>\n",
       "      <td>0.0</td>\n",
       "      <td>0.0</td>\n",
       "      <td>0.0</td>\n",
       "    </tr>\n",
       "    <tr>\n",
       "      <td>4</td>\n",
       "      <td>5</td>\n",
       "      <td>4</td>\n",
       "      <td>3.347173</td>\n",
       "      <td>2.252643</td>\n",
       "      <td>869.0</td>\n",
       "      <td>4.035758</td>\n",
       "      <td>5.413692</td>\n",
       "      <td>2.0</td>\n",
       "      <td>1576.0</td>\n",
       "      <td>1602.0</td>\n",
       "      <td>...</td>\n",
       "      <td>98.352796</td>\n",
       "      <td>89.238236</td>\n",
       "      <td>9.11456</td>\n",
       "      <td>0.0</td>\n",
       "      <td>0.0</td>\n",
       "      <td>0.0</td>\n",
       "      <td>0.0</td>\n",
       "      <td>0.0</td>\n",
       "      <td>0.0</td>\n",
       "      <td>0.0</td>\n",
       "    </tr>\n",
       "  </tbody>\n",
       "</table>\n",
       "<p>5 rows × 40 columns</p>\n",
       "</div>"
      ],
      "text/plain": [
       "   key  count_arc  active_power_sum  reactive_power_sum  sum_time_arc  \\\n",
       "0    1          5          4.878147            3.183241        1098.0   \n",
       "1    2          4          3.052598            1.998112         811.0   \n",
       "2    3          5          2.525882            1.599076         655.0   \n",
       "3    4          4          3.209250            2.060298         741.0   \n",
       "4    5          4          3.347173            2.252643         869.0   \n",
       "\n",
       "   full_power_sum  volume_gas  temp_count  temp_first  temp_last  ...  \\\n",
       "0        5.826395   29.749986         5.0      1571.0     1613.0  ...   \n",
       "1        3.649216   12.555561         6.0      1581.0     1602.0  ...   \n",
       "2        2.989534   28.554793         5.0      1596.0     1599.0  ...   \n",
       "3        3.814962   18.841219         3.0      1601.0     1625.0  ...   \n",
       "4        4.035758    5.413692         2.0      1576.0     1602.0  ...   \n",
       "\n",
       "   volume_wire_sum     Wire 1   Wire 2  Wire 3  Wire 4  Wire 5  Wire 6  \\\n",
       "0        60.059998  60.059998  0.00000     0.0     0.0     0.0     0.0   \n",
       "1        96.052315  96.052315  0.00000     0.0     0.0     0.0     0.0   \n",
       "2        91.160157  91.160157  0.00000     0.0     0.0     0.0     0.0   \n",
       "3        89.063515  89.063515  0.00000     0.0     0.0     0.0     0.0   \n",
       "4        98.352796  89.238236  9.11456     0.0     0.0     0.0     0.0   \n",
       "\n",
       "   Wire 7  Wire 8  Wire 9  \n",
       "0     0.0     0.0     0.0  \n",
       "1     0.0     0.0     0.0  \n",
       "2     0.0     0.0     0.0  \n",
       "3     0.0     0.0     0.0  \n",
       "4     0.0     0.0     0.0  \n",
       "\n",
       "[5 rows x 40 columns]"
      ]
     },
     "execution_count": 98,
     "metadata": {},
     "output_type": "execute_result"
    }
   ],
   "source": [
    "data_full.head()"
   ]
  },
  {
   "cell_type": "code",
   "execution_count": 99,
   "metadata": {
    "colab": {
     "base_uri": "https://localhost:8080/"
    },
    "id": "QuqdOxLV406D",
    "outputId": "e253d71a-0c78-43d0-f550-b554e7c09f10"
   },
   "outputs": [
    {
     "data": {
      "text/plain": [
       "(3214, 40)"
      ]
     },
     "execution_count": 99,
     "metadata": {},
     "output_type": "execute_result"
    }
   ],
   "source": [
    "data_full.shape"
   ]
  },
  {
   "cell_type": "markdown",
   "metadata": {
    "id": "mA8iMcmf4wwL"
   },
   "source": [
    "### Вывод"
   ]
  },
  {
   "cell_type": "markdown",
   "metadata": {
    "id": "64uBHUmS4aPI"
   },
   "source": [
    "Данные собраны в единый датасет. Вычислены дополнительные значения, которые впоследствии будут использованы для обучения модели."
   ]
  },
  {
   "cell_type": "markdown",
   "metadata": {
    "id": "OD6ptbfjZaBq"
   },
   "source": [
    "<a id=\"glava_4\"></a>\n",
    "## Анализ данных"
   ]
  },
  {
   "cell_type": "markdown",
   "metadata": {
    "id": "SetvQVk9ZdXR"
   },
   "source": [
    "На данном этапе проведем более детальное исследование данных. Выявим аномалии и выбросы и очистим данные от них."
   ]
  },
  {
   "cell_type": "code",
   "execution_count": 100,
   "metadata": {
    "id": "TyiH1arilzqo"
   },
   "outputs": [],
   "source": [
    "# функция очистки данных от выбросов, построение графиков\n",
    "def clear_outliers(df, col):\n",
    "  q1 = df[col].quantile(0.25)\n",
    "  q3 = df[col].quantile(0.75)\n",
    "  iqr = q3-q1\n",
    "  upp_bor = q3+iqr*1.5\n",
    "  low_bor = q1-iqr*1.5\n",
    "  outlires = df[col][(df[col] > upp_bor) | (df[col] < low_bor)].count()\n",
    "  per_outliers = outlires/df[col].count()\n",
    "  df[col].plot(kind='box')\n",
    "  print('Верхняя граница {:.2f}, нижняя граница {:.2f}'.format(upp_bor, low_bor))\n",
    "  print('Процент выбросов {:.2%}'.format(per_outliers))\n",
    "  return upp_bor, low_bor"
   ]
  },
  {
   "cell_type": "code",
   "execution_count": 101,
   "metadata": {
    "colab": {
     "base_uri": "https://localhost:8080/",
     "height": 302
    },
    "id": "2ooN7qq1dy0I",
    "outputId": "ae55d9be-57bf-422e-ad18-aa174348f278"
   },
   "outputs": [
    {
     "name": "stdout",
     "output_type": "stream",
     "text": [
      "Верхняя граница 1654.50, нижняя граница 1522.50\n",
      "Процент выбросов 0.77%\n"
     ]
    },
    {
     "data": {
      "image/png": "[encoded data removed]",
      "text/plain": [
       "<Figure size 432x288 with 1 Axes>"
      ]
     },
     "metadata": {
      "needs_background": "light"
     },
     "output_type": "display_data"
    }
   ],
   "source": [
    "upp_bor, low_bor = clear_outliers(data_full, 'temp_first')"
   ]
  },
  {
   "cell_type": "code",
   "execution_count": 102,
   "metadata": {
    "id": "zTvsskH6dy4O"
   },
   "outputs": [],
   "source": [
    "data_full = data_full.query('(@low_bor < temp_first) & (temp_first < @upp_bor)').copy()"
   ]
  },
  {
   "cell_type": "code",
   "execution_count": 103,
   "metadata": {
    "colab": {
     "base_uri": "https://localhost:8080/",
     "height": 299
    },
    "id": "c2qlWiqPdy8G",
    "outputId": "9eb31a45-04cc-4d34-9f94-8ad247d9c04d"
   },
   "outputs": [
    {
     "name": "stdout",
     "output_type": "stream",
     "text": [
      "Верхняя граница 1617.00, нижняя граница 1569.00\n",
      "Процент выбросов 7.57%\n"
     ]
    },
    {
     "data": {
      "image/png": "[encoded data removed]",
      "text/plain": [
       "<Figure size 432x288 with 1 Axes>"
      ]
     },
     "metadata": {
      "needs_background": "light"
     },
     "output_type": "display_data"
    }
   ],
   "source": [
    "upp_bor, low_bor = clear_outliers(data_full, 'temp_last')"
   ]
  },
  {
   "cell_type": "code",
   "execution_count": 104,
   "metadata": {
    "id": "fTeMz3WVdzAQ"
   },
   "outputs": [],
   "source": [
    "data_full = data_full.query('(@low_bor < temp_last) & (temp_last < @upp_bor)').copy()"
   ]
  },
  {
   "cell_type": "code",
   "execution_count": 105,
   "metadata": {
    "colab": {
     "base_uri": "https://localhost:8080/",
     "height": 553
    },
    "id": "XDZIF1BFdzEK",
    "outputId": "3bfe49b9-8f80-47f5-f3e6-1489cb33b841"
   },
   "outputs": [
    {
     "data": {
      "image/png": "[encoded data removed]",
      "text/plain": [
       "<Figure size 720x576 with 1 Axes>"
      ]
     },
     "metadata": {
      "needs_background": "light"
     },
     "output_type": "display_data"
    }
   ],
   "source": [
    "data_full['temp_last'].hist(bins=100, figsize=(10,8));\n",
    "plt.suptitle('Last temp')\n",
    "plt.xlabel('Температура')\n",
    "plt.ylabel('Количество значений')\n",
    "plt.show()"
   ]
  },
  {
   "cell_type": "code",
   "execution_count": 106,
   "metadata": {
    "colab": {
     "base_uri": "https://localhost:8080/"
    },
    "id": "f42rHGq8dzIT",
    "outputId": "932ed3d6-69d5-4577-8f5a-a0bd9d705b39"
   },
   "outputs": [
    {
     "data": {
      "text/plain": [
       "46"
      ]
     },
     "execution_count": 106,
     "metadata": {},
     "output_type": "execute_result"
    }
   ],
   "source": [
    "data_full['temp_last'].nunique()"
   ]
  },
  {
   "cell_type": "markdown",
   "metadata": {
    "id": "I4XxpAdGgplc"
   },
   "source": [
    "Судя по гистограмме, значения температуры округляются после измерения. Целевая переменная содержит данные о всего лишь 60 уникальных значений температуры. "
   ]
  },
  {
   "cell_type": "code",
   "execution_count": 107,
   "metadata": {
    "colab": {
     "base_uri": "https://localhost:8080/",
     "height": 299
    },
    "id": "67fKiA1Jndr6",
    "outputId": "82c0b7f7-8074-4df2-ce83-f730b17bdaae"
   },
   "outputs": [
    {
     "name": "stdout",
     "output_type": "stream",
     "text": [
      "Верхняя граница 6.38, нижняя граница -0.46\n",
      "Процент выбросов 1.69%\n"
     ]
    },
    {
     "data": {
      "image/png": "[encoded data removed]",
      "text/plain": [
       "<Figure size 432x288 with 1 Axes>"
      ]
     },
     "metadata": {
      "needs_background": "light"
     },
     "output_type": "display_data"
    }
   ],
   "source": [
    "upp_bor, low_bor = clear_outliers(data_full, 'active_power_sum')"
   ]
  },
  {
   "cell_type": "code",
   "execution_count": 108,
   "metadata": {
    "id": "HPPO-E7vsFVR"
   },
   "outputs": [],
   "source": [
    "data_full = data_full.query('(@low_bor < active_power_sum) & (active_power_sum < @upp_bor)').copy()"
   ]
  },
  {
   "cell_type": "code",
   "execution_count": 109,
   "metadata": {
    "colab": {
     "base_uri": "https://localhost:8080/",
     "height": 299
    },
    "id": "bCrz6dxhSF_u",
    "outputId": "3f98d641-5143-4cca-f36a-fbf952ec96e5"
   },
   "outputs": [
    {
     "name": "stdout",
     "output_type": "stream",
     "text": [
      "Верхняя граница 4.62, нижняя граница -0.27\n",
      "Процент выбросов 0.91%\n"
     ]
    },
    {
     "data": {
      "image/png": "[encoded data removed]",
      "text/plain": [
       "<Figure size 432x288 with 1 Axes>"
      ]
     },
     "metadata": {
      "needs_background": "light"
     },
     "output_type": "display_data"
    }
   ],
   "source": [
    "upp_bor, low_bor = clear_outliers(data_full, 'reactive_power_sum')"
   ]
  },
  {
   "cell_type": "code",
   "execution_count": 110,
   "metadata": {
    "id": "B8408QrfcGJe"
   },
   "outputs": [],
   "source": [
    "data_full = data_full.query('(@low_bor < reactive_power_sum) & (reactive_power_sum < @upp_bor)').copy()"
   ]
  },
  {
   "cell_type": "code",
   "execution_count": 111,
   "metadata": {
    "colab": {
     "base_uri": "https://localhost:8080/",
     "height": 308
    },
    "id": "deSh2XKub10W",
    "outputId": "ed6936f2-cc91-4b55-ac9e-f9a4190c553e"
   },
   "outputs": [
    {
     "data": {
      "image/png": "[encoded data removed]",
      "text/plain": [
       "<Figure size 432x288 with 1 Axes>"
      ]
     },
     "metadata": {
      "needs_background": "light"
     },
     "output_type": "display_data"
    }
   ],
   "source": [
    "data_full['reactive_power_sum'].hist(bins=100);\n",
    "plt.suptitle('Гистограмма суммы реактивной мощности')\n",
    "plt.xlabel('Величина мощности')\n",
    "plt.ylabel('Количество значений')\n",
    "plt.show()"
   ]
  },
  {
   "cell_type": "code",
   "execution_count": 112,
   "metadata": {
    "colab": {
     "base_uri": "https://localhost:8080/",
     "height": 299
    },
    "id": "ujitobvgSZEV",
    "outputId": "ca02cb3b-bed8-4bc6-f49c-49c403a8905e"
   },
   "outputs": [
    {
     "name": "stdout",
     "output_type": "stream",
     "text": [
      "Верхняя граница 1522.00, нижняя граница -22.00\n",
      "Процент выбросов 0.27%\n"
     ]
    },
    {
     "data": {
      "image/png": "[encoded data removed]",
      "text/plain": [
       "<Figure size 432x288 with 1 Axes>"
      ]
     },
     "metadata": {
      "needs_background": "light"
     },
     "output_type": "display_data"
    }
   ],
   "source": [
    "upp_bor, low_bor = clear_outliers(data_full, 'sum_time_arc')"
   ]
  },
  {
   "cell_type": "code",
   "execution_count": 113,
   "metadata": {
    "id": "VMap2CePckLI"
   },
   "outputs": [],
   "source": [
    "data_full = data_full.query('(@low_bor < sum_time_arc) & (sum_time_arc < @upp_bor)').copy()"
   ]
  },
  {
   "cell_type": "code",
   "execution_count": 114,
   "metadata": {
    "colab": {
     "base_uri": "https://localhost:8080/",
     "height": 308
    },
    "id": "YYVnko4fckgq",
    "outputId": "3de3d75e-4f7d-40d1-e033-c7a7f440cc68"
   },
   "outputs": [
    {
     "data": {
      "image/png": "[encoded data removed]",
      "text/plain": [
       "<Figure size 432x288 with 1 Axes>"
      ]
     },
     "metadata": {
      "needs_background": "light"
     },
     "output_type": "display_data"
    }
   ],
   "source": [
    "data_full['sum_time_arc'].hist(bins=100);\n",
    "plt.suptitle('Гистограмма времени нагрева')\n",
    "plt.xlabel('Время нагрева, с')\n",
    "plt.ylabel('Количество значений')\n",
    "plt.show()"
   ]
  },
  {
   "cell_type": "code",
   "execution_count": 115,
   "metadata": {
    "colab": {
     "base_uri": "https://localhost:8080/",
     "height": 299
    },
    "id": "fUqkzNYZckk0",
    "outputId": "5cbc8781-e61c-4368-99fb-d614edf8fe8e"
   },
   "outputs": [
    {
     "name": "stdout",
     "output_type": "stream",
     "text": [
      "Верхняя граница 7.76, нижняя граница -0.48\n",
      "Процент выбросов 0.05%\n"
     ]
    },
    {
     "data": {
      "image/png": "[encoded data removed]",
      "text/plain": [
       "<Figure size 432x288 with 1 Axes>"
      ]
     },
     "metadata": {
      "needs_background": "light"
     },
     "output_type": "display_data"
    }
   ],
   "source": [
    "upp_bor, low_bor = clear_outliers(data_full, 'full_power_sum')"
   ]
  },
  {
   "cell_type": "code",
   "execution_count": 116,
   "metadata": {
    "id": "GIMCfydmckpg"
   },
   "outputs": [],
   "source": [
    "data_full = data_full.query('(@low_bor < full_power_sum) & (full_power_sum < @upp_bor)').copy()"
   ]
  },
  {
   "cell_type": "code",
   "execution_count": 117,
   "metadata": {
    "colab": {
     "base_uri": "https://localhost:8080/",
     "height": 299
    },
    "id": "wrGIuDw1ckuH",
    "outputId": "88868739-e9f8-4db5-926d-5c9207a7ead1"
   },
   "outputs": [
    {
     "name": "stdout",
     "output_type": "stream",
     "text": [
      "Верхняя граница 23.38, нижняя граница -2.68\n",
      "Процент выбросов 3.90%\n"
     ]
    },
    {
     "data": {
      "image/png": "[encoded data removed]",
      "text/plain": [
       "<Figure size 432x288 with 1 Axes>"
      ]
     },
     "metadata": {
      "needs_background": "light"
     },
     "output_type": "display_data"
    }
   ],
   "source": [
    "upp_bor, low_bor = clear_outliers(data_full, 'volume_gas')"
   ]
  },
  {
   "cell_type": "code",
   "execution_count": 118,
   "metadata": {
    "id": "LrbP7yxIdypX"
   },
   "outputs": [],
   "source": [
    "data_full = data_full.query('(@low_bor < volume_gas) & (volume_gas < @upp_bor)').copy()"
   ]
  },
  {
   "cell_type": "code",
   "execution_count": 119,
   "metadata": {
    "colab": {
     "base_uri": "https://localhost:8080/",
     "height": 308
    },
    "id": "YLyi751qdywM",
    "outputId": "633c6dc2-2391-4480-b519-207144cbe8aa"
   },
   "outputs": [
    {
     "data": {
      "image/png": "[encoded data removed]",
      "text/plain": [
       "<Figure size 432x288 with 1 Axes>"
      ]
     },
     "metadata": {
      "needs_background": "light"
     },
     "output_type": "display_data"
    }
   ],
   "source": [
    "data_full['volume_gas'].hist(bins=100);\n",
    "plt.suptitle('Гистограмма объема газа')\n",
    "plt.xlabel('Суммарный объем газа')\n",
    "plt.ylabel('Количество значений')\n",
    "plt.show()"
   ]
  },
  {
   "cell_type": "code",
   "execution_count": 120,
   "metadata": {
    "colab": {
     "base_uri": "https://localhost:8080/",
     "height": 299
    },
    "id": "eNtxomZhjeaS",
    "outputId": "4fd3b24a-9347-4db6-a0f5-3478b11df017"
   },
   "outputs": [
    {
     "name": "stdout",
     "output_type": "stream",
     "text": [
      "Верхняя граница 3551.00, нижняя граница -261.00\n",
      "Процент выбросов 1.96%\n"
     ]
    },
    {
     "data": {
      "image/png": "[encoded data removed]",
      "text/plain": [
       "<Figure size 432x288 with 1 Axes>"
      ]
     },
     "metadata": {
      "needs_background": "light"
     },
     "output_type": "display_data"
    }
   ],
   "source": [
    "upp_bor, low_bor = clear_outliers(data_full, 'diff_time_temp')"
   ]
  },
  {
   "cell_type": "code",
   "execution_count": 121,
   "metadata": {
    "id": "mWbeVY7ojegk"
   },
   "outputs": [],
   "source": [
    "data_full = data_full.query('(@low_bor < diff_time_temp) & (diff_time_temp < @upp_bor)').copy()"
   ]
  },
  {
   "cell_type": "code",
   "execution_count": 122,
   "metadata": {
    "colab": {
     "base_uri": "https://localhost:8080/",
     "height": 299
    },
    "id": "SBjkRgP0jeqa",
    "outputId": "ed81c731-b170-4839-e59e-bd9f9a13e80a"
   },
   "outputs": [
    {
     "name": "stdout",
     "output_type": "stream",
     "text": [
      "Верхняя граница 1242.25, нижняя граница -83.75\n",
      "Процент выбросов 0.85%\n"
     ]
    },
    {
     "data": {
      "image/png": "[encoded data removed]",
      "text/plain": [
       "<Figure size 432x288 with 1 Axes>"
      ]
     },
     "metadata": {
      "needs_background": "light"
     },
     "output_type": "display_data"
    }
   ],
   "source": [
    "upp_bor, low_bor = clear_outliers(data_full, 'volume_bulk_sum')"
   ]
  },
  {
   "cell_type": "code",
   "execution_count": 123,
   "metadata": {
    "id": "gKvkrXRIckx5"
   },
   "outputs": [],
   "source": [
    "data_full = data_full.query('(@low_bor < volume_bulk_sum) & (volume_bulk_sum < @upp_bor)').copy()"
   ]
  },
  {
   "cell_type": "code",
   "execution_count": 124,
   "metadata": {
    "colab": {
     "base_uri": "https://localhost:8080/",
     "height": 299
    },
    "id": "cXG23xi0j-Ut",
    "outputId": "37dfd66e-2ef2-46c0-bc38-12da18789243"
   },
   "outputs": [
    {
     "name": "stdout",
     "output_type": "stream",
     "text": [
      "Верхняя граница 240.05, нижняя граница -4.62\n",
      "Процент выбросов 3.54%\n"
     ]
    },
    {
     "data": {
      "image/png": "[encoded data removed]",
      "text/plain": [
       "<Figure size 432x288 with 1 Axes>"
      ]
     },
     "metadata": {
      "needs_background": "light"
     },
     "output_type": "display_data"
    }
   ],
   "source": [
    "upp_bor, low_bor = clear_outliers(data_full, 'volume_wire_sum')"
   ]
  },
  {
   "cell_type": "code",
   "execution_count": 125,
   "metadata": {
    "id": "x-75zZmrj-ZJ"
   },
   "outputs": [],
   "source": [
    "data_full = data_full.query('(@low_bor < volume_wire_sum) & (volume_wire_sum < @upp_bor)').copy()"
   ]
  },
  {
   "cell_type": "code",
   "execution_count": 126,
   "metadata": {
    "colab": {
     "base_uri": "https://localhost:8080/"
    },
    "id": "GxYchcM008gI",
    "outputId": "f0dac52d-a34b-43b2-d925-65f0c90d5082"
   },
   "outputs": [
    {
     "data": {
      "text/plain": [
       "key                   0\n",
       "count_arc             0\n",
       "active_power_sum      0\n",
       "reactive_power_sum    0\n",
       "sum_time_arc          0\n",
       "full_power_sum        0\n",
       "volume_gas            0\n",
       "temp_count            0\n",
       "temp_first            0\n",
       "temp_last             0\n",
       "diff_time_temp        0\n",
       "diff_temp             0\n",
       "bulk_count            0\n",
       "volume_bulk_sum       0\n",
       "Bulk 1                0\n",
       "Bulk 2                0\n",
       "Bulk 3                0\n",
       "Bulk 4                0\n",
       "Bulk 5                0\n",
       "Bulk 6                0\n",
       "Bulk 7                0\n",
       "Bulk 8                0\n",
       "Bulk 9                0\n",
       "Bulk 10               0\n",
       "Bulk 11               0\n",
       "Bulk 12               0\n",
       "Bulk 13               0\n",
       "Bulk 14               0\n",
       "Bulk 15               0\n",
       "wire_count            0\n",
       "volume_wire_sum       0\n",
       "Wire 1                0\n",
       "Wire 2                0\n",
       "Wire 3                0\n",
       "Wire 4                0\n",
       "Wire 5                0\n",
       "Wire 6                0\n",
       "Wire 7                0\n",
       "Wire 8                0\n",
       "Wire 9                0\n",
       "dtype: int64"
      ]
     },
     "execution_count": 126,
     "metadata": {},
     "output_type": "execute_result"
    }
   ],
   "source": [
    "data_full.isna().sum()"
   ]
  },
  {
   "cell_type": "code",
   "execution_count": 127,
   "metadata": {
    "colab": {
     "base_uri": "https://localhost:8080/"
    },
    "id": "2YlR5aeDj-im",
    "outputId": "84d2fdb6-18d2-4812-c679-1a708e378a8a"
   },
   "outputs": [
    {
     "data": {
      "text/plain": [
       "(1906, 40)"
      ]
     },
     "execution_count": 127,
     "metadata": {},
     "output_type": "execute_result"
    }
   ],
   "source": [
    "data_full.shape"
   ]
  },
  {
   "cell_type": "markdown",
   "metadata": {
    "id": "T1RbUghW5XJG"
   },
   "source": [
    "### Вывод"
   ]
  },
  {
   "cell_type": "markdown",
   "metadata": {
    "id": "H-2SvGGa5ZnS"
   },
   "source": [
    "Мы провели очистку данных от выбросов и пропусков. Размер датасета уменьшился до 1906 строк.   \n",
    "Требуется уточнить на производстве верно ли просиходят измерения температуры и по какому принципу идет округление, получаемых значений."
   ]
  },
  {
   "cell_type": "markdown",
   "metadata": {
    "id": "YBkiKp029zSF"
   },
   "source": [
    "<a id=\"glava_5\"></a>\n",
    "## Обучение моделей"
   ]
  },
  {
   "cell_type": "markdown",
   "metadata": {
    "id": "75Srjz5s8VbF"
   },
   "source": [
    "Для обучения будем использовать практически все переменные, кроме тех, которые явно указывают на целевую переменную, либо не могут быть известны заранее."
   ]
  },
  {
   "cell_type": "code",
   "execution_count": 128,
   "metadata": {
    "colab": {
     "base_uri": "https://localhost:8080/"
    },
    "id": "rSFpZDpjkwZA",
    "outputId": "47033afa-928f-424c-b625-03073e16602d"
   },
   "outputs": [
    {
     "data": {
      "text/plain": [
       "Index(['key', 'count_arc', 'active_power_sum', 'reactive_power_sum',\n",
       "       'sum_time_arc', 'full_power_sum', 'volume_gas', 'temp_count',\n",
       "       'temp_first', 'temp_last', 'diff_time_temp', 'diff_temp', 'bulk_count',\n",
       "       'volume_bulk_sum', 'Bulk 1', 'Bulk 2', 'Bulk 3', 'Bulk 4', 'Bulk 5',\n",
       "       'Bulk 6', 'Bulk 7', 'Bulk 8', 'Bulk 9', 'Bulk 10', 'Bulk 11', 'Bulk 12',\n",
       "       'Bulk 13', 'Bulk 14', 'Bulk 15', 'wire_count', 'volume_wire_sum',\n",
       "       'Wire 1', 'Wire 2', 'Wire 3', 'Wire 4', 'Wire 5', 'Wire 6', 'Wire 7',\n",
       "       'Wire 8', 'Wire 9'],\n",
       "      dtype='object')"
      ]
     },
     "execution_count": 128,
     "metadata": {},
     "output_type": "execute_result"
    }
   ],
   "source": [
    "data_full.columns"
   ]
  },
  {
   "cell_type": "code",
   "execution_count": 129,
   "metadata": {
    "id": "zviDlJef95yT"
   },
   "outputs": [],
   "source": [
    "features = data_full.drop(['key', 'temp_last', 'diff_temp', 'diff_time_temp'], axis=1)\n",
    "target = data_full['temp_last']"
   ]
  },
  {
   "cell_type": "code",
   "execution_count": 130,
   "metadata": {
    "colab": {
     "base_uri": "https://localhost:8080/"
    },
    "id": "auWsKgB0sM9y",
    "outputId": "a38194cf-c785-42b2-b36a-ed43088a0b4d"
   },
   "outputs": [
    {
     "data": {
      "text/plain": [
       "(1906, 36)"
      ]
     },
     "execution_count": 130,
     "metadata": {},
     "output_type": "execute_result"
    }
   ],
   "source": [
    "features.shape"
   ]
  },
  {
   "cell_type": "code",
   "execution_count": 131,
   "metadata": {
    "colab": {
     "base_uri": "https://localhost:8080/"
    },
    "id": "P1DwhtrltS2f",
    "outputId": "92b77df1-be8f-4068-aefb-b0596ff35309"
   },
   "outputs": [
    {
     "data": {
      "text/plain": [
       "(1906,)"
      ]
     },
     "execution_count": 131,
     "metadata": {},
     "output_type": "execute_result"
    }
   ],
   "source": [
    "target.shape"
   ]
  },
  {
   "cell_type": "code",
   "execution_count": 132,
   "metadata": {
    "id": "IZuVmTtISWqq"
   },
   "outputs": [],
   "source": [
    "# отделим 25% данных для тестовой выборки\n",
    "features_train, features_test, target_train, target_test = train_test_split(features, target, test_size=0.25, random_state=12345)"
   ]
  },
  {
   "cell_type": "code",
   "execution_count": 133,
   "metadata": {
    "colab": {
     "base_uri": "https://localhost:8080/"
    },
    "id": "XPJIn16Hawjk",
    "outputId": "c6afe0e2-a797-4bb3-97be-a3e4f513b9ee"
   },
   "outputs": [
    {
     "data": {
      "text/plain": [
       "(1429, 36)"
      ]
     },
     "execution_count": 133,
     "metadata": {},
     "output_type": "execute_result"
    }
   ],
   "source": [
    "features_train.shape"
   ]
  },
  {
   "cell_type": "code",
   "execution_count": 134,
   "metadata": {
    "colab": {
     "base_uri": "https://localhost:8080/",
     "height": 234
    },
    "id": "Z7onSysfXe5s",
    "outputId": "4444e2f4-9f2d-4a61-a4c6-8da3126190a5"
   },
   "outputs": [
    {
     "data": {
      "text/html": [
       "<div>\n",
       "<style scoped>\n",
       "    .dataframe tbody tr th:only-of-type {\n",
       "        vertical-align: middle;\n",
       "    }\n",
       "\n",
       "    .dataframe tbody tr th {\n",
       "        vertical-align: top;\n",
       "    }\n",
       "\n",
       "    .dataframe thead th {\n",
       "        text-align: right;\n",
       "    }\n",
       "</style>\n",
       "<table border=\"1\" class=\"dataframe\">\n",
       "  <thead>\n",
       "    <tr style=\"text-align: right;\">\n",
       "      <th></th>\n",
       "      <th>count_arc</th>\n",
       "      <th>active_power_sum</th>\n",
       "      <th>reactive_power_sum</th>\n",
       "      <th>sum_time_arc</th>\n",
       "      <th>full_power_sum</th>\n",
       "      <th>volume_gas</th>\n",
       "      <th>temp_count</th>\n",
       "      <th>temp_first</th>\n",
       "      <th>bulk_count</th>\n",
       "      <th>volume_bulk_sum</th>\n",
       "      <th>...</th>\n",
       "      <th>volume_wire_sum</th>\n",
       "      <th>Wire 1</th>\n",
       "      <th>Wire 2</th>\n",
       "      <th>Wire 3</th>\n",
       "      <th>Wire 4</th>\n",
       "      <th>Wire 5</th>\n",
       "      <th>Wire 6</th>\n",
       "      <th>Wire 7</th>\n",
       "      <th>Wire 8</th>\n",
       "      <th>Wire 9</th>\n",
       "    </tr>\n",
       "  </thead>\n",
       "  <tbody>\n",
       "    <tr>\n",
       "      <td>1568</td>\n",
       "      <td>5</td>\n",
       "      <td>3.124097</td>\n",
       "      <td>2.473933</td>\n",
       "      <td>760.0</td>\n",
       "      <td>3.989041</td>\n",
       "      <td>11.091015</td>\n",
       "      <td>4.0</td>\n",
       "      <td>1574.0</td>\n",
       "      <td>4.0</td>\n",
       "      <td>704.0</td>\n",
       "      <td>...</td>\n",
       "      <td>223.144467</td>\n",
       "      <td>168.011990</td>\n",
       "      <td>55.132477</td>\n",
       "      <td>0.0</td>\n",
       "      <td>0.0</td>\n",
       "      <td>0.0</td>\n",
       "      <td>0.0</td>\n",
       "      <td>0.0</td>\n",
       "      <td>0.0</td>\n",
       "      <td>0.0</td>\n",
       "    </tr>\n",
       "    <tr>\n",
       "      <td>632</td>\n",
       "      <td>5</td>\n",
       "      <td>4.625308</td>\n",
       "      <td>3.474716</td>\n",
       "      <td>1157.0</td>\n",
       "      <td>5.785312</td>\n",
       "      <td>14.371542</td>\n",
       "      <td>4.0</td>\n",
       "      <td>1570.0</td>\n",
       "      <td>3.0</td>\n",
       "      <td>710.0</td>\n",
       "      <td>...</td>\n",
       "      <td>39.967201</td>\n",
       "      <td>39.967201</td>\n",
       "      <td>0.000000</td>\n",
       "      <td>0.0</td>\n",
       "      <td>0.0</td>\n",
       "      <td>0.0</td>\n",
       "      <td>0.0</td>\n",
       "      <td>0.0</td>\n",
       "      <td>0.0</td>\n",
       "      <td>0.0</td>\n",
       "    </tr>\n",
       "    <tr>\n",
       "      <td>34</td>\n",
       "      <td>3</td>\n",
       "      <td>3.040438</td>\n",
       "      <td>1.878162</td>\n",
       "      <td>690.0</td>\n",
       "      <td>3.573990</td>\n",
       "      <td>10.711469</td>\n",
       "      <td>2.0</td>\n",
       "      <td>1585.0</td>\n",
       "      <td>5.0</td>\n",
       "      <td>802.0</td>\n",
       "      <td>...</td>\n",
       "      <td>130.079041</td>\n",
       "      <td>130.079041</td>\n",
       "      <td>0.000000</td>\n",
       "      <td>0.0</td>\n",
       "      <td>0.0</td>\n",
       "      <td>0.0</td>\n",
       "      <td>0.0</td>\n",
       "      <td>0.0</td>\n",
       "      <td>0.0</td>\n",
       "      <td>0.0</td>\n",
       "    </tr>\n",
       "    <tr>\n",
       "      <td>125</td>\n",
       "      <td>5</td>\n",
       "      <td>2.304784</td>\n",
       "      <td>2.033236</td>\n",
       "      <td>678.0</td>\n",
       "      <td>3.075474</td>\n",
       "      <td>6.068067</td>\n",
       "      <td>7.0</td>\n",
       "      <td>1604.0</td>\n",
       "      <td>5.0</td>\n",
       "      <td>983.0</td>\n",
       "      <td>...</td>\n",
       "      <td>59.230080</td>\n",
       "      <td>59.230080</td>\n",
       "      <td>0.000000</td>\n",
       "      <td>0.0</td>\n",
       "      <td>0.0</td>\n",
       "      <td>0.0</td>\n",
       "      <td>0.0</td>\n",
       "      <td>0.0</td>\n",
       "      <td>0.0</td>\n",
       "      <td>0.0</td>\n",
       "    </tr>\n",
       "    <tr>\n",
       "      <td>1052</td>\n",
       "      <td>6</td>\n",
       "      <td>3.128599</td>\n",
       "      <td>2.260904</td>\n",
       "      <td>729.0</td>\n",
       "      <td>3.861030</td>\n",
       "      <td>12.323388</td>\n",
       "      <td>8.0</td>\n",
       "      <td>1601.0</td>\n",
       "      <td>3.0</td>\n",
       "      <td>355.0</td>\n",
       "      <td>...</td>\n",
       "      <td>70.106392</td>\n",
       "      <td>70.106392</td>\n",
       "      <td>0.000000</td>\n",
       "      <td>0.0</td>\n",
       "      <td>0.0</td>\n",
       "      <td>0.0</td>\n",
       "      <td>0.0</td>\n",
       "      <td>0.0</td>\n",
       "      <td>0.0</td>\n",
       "      <td>0.0</td>\n",
       "    </tr>\n",
       "  </tbody>\n",
       "</table>\n",
       "<p>5 rows × 36 columns</p>\n",
       "</div>"
      ],
      "text/plain": [
       "      count_arc  active_power_sum  reactive_power_sum  sum_time_arc  \\\n",
       "1568          5          3.124097            2.473933         760.0   \n",
       "632           5          4.625308            3.474716        1157.0   \n",
       "34            3          3.040438            1.878162         690.0   \n",
       "125           5          2.304784            2.033236         678.0   \n",
       "1052          6          3.128599            2.260904         729.0   \n",
       "\n",
       "      full_power_sum  volume_gas  temp_count  temp_first  bulk_count  \\\n",
       "1568        3.989041   11.091015         4.0      1574.0         4.0   \n",
       "632         5.785312   14.371542         4.0      1570.0         3.0   \n",
       "34          3.573990   10.711469         2.0      1585.0         5.0   \n",
       "125         3.075474    6.068067         7.0      1604.0         5.0   \n",
       "1052        3.861030   12.323388         8.0      1601.0         3.0   \n",
       "\n",
       "      volume_bulk_sum  ...  volume_wire_sum      Wire 1     Wire 2  Wire 3  \\\n",
       "1568            704.0  ...       223.144467  168.011990  55.132477     0.0   \n",
       "632             710.0  ...        39.967201   39.967201   0.000000     0.0   \n",
       "34              802.0  ...       130.079041  130.079041   0.000000     0.0   \n",
       "125             983.0  ...        59.230080   59.230080   0.000000     0.0   \n",
       "1052            355.0  ...        70.106392   70.106392   0.000000     0.0   \n",
       "\n",
       "      Wire 4  Wire 5  Wire 6  Wire 7  Wire 8  Wire 9  \n",
       "1568     0.0     0.0     0.0     0.0     0.0     0.0  \n",
       "632      0.0     0.0     0.0     0.0     0.0     0.0  \n",
       "34       0.0     0.0     0.0     0.0     0.0     0.0  \n",
       "125      0.0     0.0     0.0     0.0     0.0     0.0  \n",
       "1052     0.0     0.0     0.0     0.0     0.0     0.0  \n",
       "\n",
       "[5 rows x 36 columns]"
      ]
     },
     "execution_count": 134,
     "metadata": {},
     "output_type": "execute_result"
    }
   ],
   "source": [
    "features_train.head()"
   ]
  },
  {
   "cell_type": "markdown",
   "metadata": {
    "id": "I6qgXNPs9LRU"
   },
   "source": [
    "Обучение будем проводить для следующих моделей:\n",
    "\n",
    "*   LinearRegression;\n",
    "*   RandomForestRegressor;\n",
    "*   CatBoostRegressor;\n",
    "*   LGBMRegressor.\n",
    "\n",
    "Будет использоваться перекрестная проверка и поиск гиперпараметров по сетке.\n"
   ]
  },
  {
   "cell_type": "markdown",
   "metadata": {
    "id": "498ZwWE2Rznv"
   },
   "source": [
    "### LinearRegression"
   ]
  },
  {
   "cell_type": "code",
   "execution_count": 135,
   "metadata": {
    "colab": {
     "base_uri": "https://localhost:8080/"
    },
    "id": "McdlArMJRySV",
    "outputId": "8b4edb31-1608-4d1f-ddfe-78d40af8a3bd"
   },
   "outputs": [
    {
     "name": "stdout",
     "output_type": "stream",
     "text": [
      "Среднее значение MAE при кросс-валидации LinearRegression = 5.24\n"
     ]
    }
   ],
   "source": [
    "lr = LinearRegression()\n",
    "scoring = make_scorer(mean_absolute_error, greater_is_better=False)\n",
    "scores_lr = cross_val_score(lr, features_train, target_train, \n",
    "                              scoring='neg_mean_absolute_error', cv=3)\n",
    "mae_scores_lr = -(scores_lr.mean())\n",
    "print('Среднее значение MAE при кросс-валидации LinearRegression = {:.2f}'.format(mae_scores_lr))"
   ]
  },
  {
   "cell_type": "markdown",
   "metadata": {
    "id": "yWYnA9nRWqRk"
   },
   "source": [
    "### RandomForestRegressor"
   ]
  },
  {
   "cell_type": "code",
   "execution_count": 136,
   "metadata": {
    "colab": {
     "base_uri": "https://localhost:8080/"
    },
    "id": "MzcZpPjlRyW8",
    "outputId": "4af75de1-10ea-40cb-b50e-85188b1c48ca"
   },
   "outputs": [
    {
     "name": "stdout",
     "output_type": "stream",
     "text": [
      "5.6860041987403775 {'max_features': 2, 'n_estimators': 10}\n",
      "5.418503615581992 {'max_features': 2, 'n_estimators': 100}\n",
      "5.635689293212037 {'max_features': 4, 'n_estimators': 10}\n",
      "5.344583624912525 {'max_features': 4, 'n_estimators': 100}\n",
      "5.624842547235828 {'max_features': 6, 'n_estimators': 10}\n",
      "5.269279216235127 {'max_features': 6, 'n_estimators': 100}\n",
      "5.37305808257523 {'max_features': 8, 'n_estimators': 10}\n",
      "5.24808957312806 {'max_features': 8, 'n_estimators': 100}\n",
      "Лучшие параметры модели {'max_features': 8, 'n_estimators': 100}\n",
      "Значение MAE при кросс-валидации RandomForestRegressor = 5.25\n"
     ]
    }
   ],
   "source": [
    "param_grid = [\n",
    "    {'n_estimators': [10, 100],\n",
    "    'max_features': [2, 4, 6, 8]}    \n",
    "]\n",
    "rfr = RandomForestRegressor(random_state=12345)\n",
    "scoring = make_scorer(mean_absolute_error, greater_is_better=False)\n",
    "grid_search = GridSearchCV(rfr, param_grid, cv=3,\n",
    "                          scoring=scoring)\n",
    "grid_search.fit(features_train, target_train)\n",
    "cvres = grid_search.cv_results_\n",
    "for mean_score, params in zip(cvres['mean_test_score'], cvres['params']):\n",
    "    print(-mean_score, params)\n",
    "best = grid_search.best_params_\n",
    "print('Лучшие параметры модели', best)\n",
    "print('Значение MAE при кросс-валидации RandomForestRegressor = {:.2f}'.format(-mean_score))"
   ]
  },
  {
   "cell_type": "markdown",
   "metadata": {
    "id": "5-JqQ_2MZMnc"
   },
   "source": [
    "### CatBoostRegressor"
   ]
  },
  {
   "cell_type": "code",
   "execution_count": 137,
   "metadata": {
    "colab": {
     "base_uri": "https://localhost:8080/"
    },
    "id": "iixEIyq2Rybt",
    "outputId": "dfcb340d-0ffd-4680-a62e-e1c618161a06"
   },
   "outputs": [
    {
     "name": "stdout",
     "output_type": "stream",
     "text": [
      "0:\tlearn: 8.5510922\ttotal: 50.1ms\tremaining: 50s\n",
      "200:\tlearn: 6.5444824\ttotal: 2.87s\tremaining: 11.4s\n",
      "400:\tlearn: 5.8520412\ttotal: 5.76s\tremaining: 8.61s\n",
      "600:\tlearn: 5.4133512\ttotal: 8.58s\tremaining: 5.7s\n",
      "800:\tlearn: 5.0297112\ttotal: 11.5s\tremaining: 2.85s\n",
      "999:\tlearn: 4.6361530\ttotal: 14.3s\tremaining: 0us\n",
      "0:\tlearn: 8.4220961\ttotal: 2.85ms\tremaining: 2.85s\n",
      "200:\tlearn: 6.4964152\ttotal: 2.89s\tremaining: 11.5s\n",
      "400:\tlearn: 5.7740279\ttotal: 5.73s\tremaining: 8.55s\n",
      "600:\tlearn: 5.3274643\ttotal: 8.63s\tremaining: 5.73s\n",
      "800:\tlearn: 4.9265292\ttotal: 11.5s\tremaining: 2.86s\n",
      "999:\tlearn: 4.5414289\ttotal: 14.3s\tremaining: 0us\n",
      "0:\tlearn: 8.5022165\ttotal: 2.06ms\tremaining: 2.05s\n",
      "200:\tlearn: 6.5724149\ttotal: 2.77s\tremaining: 11s\n",
      "400:\tlearn: 5.9103560\ttotal: 5.76s\tremaining: 8.61s\n",
      "600:\tlearn: 5.4892503\ttotal: 8.59s\tremaining: 5.7s\n",
      "800:\tlearn: 5.1076195\ttotal: 11.5s\tremaining: 2.85s\n",
      "999:\tlearn: 4.7418566\ttotal: 14.4s\tremaining: 0us\n",
      "Среднее значение MAE при кросс-валидации CatBoostRegressor = 4.98273855182086\n",
      "CPU times: user 37.5 s, sys: 7.02 s, total: 44.5 s\n",
      "Wall time: 48.8 s\n"
     ]
    }
   ],
   "source": [
    "%%time\n",
    "cbr = CatBoostRegressor(learning_rate=0.01,\n",
    "                        random_state=12345,\n",
    "                        verbose=200, \n",
    "                       iterations=1000,\n",
    "                       early_stopping_rounds=1000) \n",
    "scores_cbr = cross_val_score(cbr, features_train, target_train, \n",
    "                              scoring='neg_mean_absolute_error', cv=3)\n",
    "mae_scores_cbr = -scores_cbr.mean()\n",
    "print('Среднее значение MAE при кросс-валидации CatBoostRegressor =', mae_scores_cbr)"
   ]
  },
  {
   "cell_type": "markdown",
   "metadata": {
    "id": "Ezg00A7GXrDL"
   },
   "source": [
    "### LGBMRegressor"
   ]
  },
  {
   "cell_type": "code",
   "execution_count": 138,
   "metadata": {
    "id": "1gc30IYa96Cl"
   },
   "outputs": [],
   "source": [
    "model_lgbmr = LGBMRegressor(random_state=12345)\n",
    "param_grid = [{\n",
    "    'learning_rate':    np.arange(0.05, 0.2, 0.05),\n",
    "    'max_depth':        np.arange(4, 10, 1, dtype=int)\n",
    "}]"
   ]
  },
  {
   "cell_type": "code",
   "execution_count": 139,
   "metadata": {
    "colab": {
     "base_uri": "https://localhost:8080/"
    },
    "id": "QgnQc9ikXzjN",
    "outputId": "8b0bddb2-3ee6-4854-c915-758496cbe2e4"
   },
   "outputs": [
    {
     "name": "stdout",
     "output_type": "stream",
     "text": [
      "5.007740818750181 {'learning_rate': 0.05, 'max_depth': 4}\n",
      "5.005674763525955 {'learning_rate': 0.05, 'max_depth': 5}\n",
      "5.00266174281708 {'learning_rate': 0.05, 'max_depth': 6}\n",
      "4.972418785045732 {'learning_rate': 0.05, 'max_depth': 7}\n",
      "4.99172353720731 {'learning_rate': 0.05, 'max_depth': 8}\n",
      "4.981404422606428 {'learning_rate': 0.05, 'max_depth': 9}\n",
      "5.03040518689628 {'learning_rate': 0.1, 'max_depth': 4}\n",
      "5.008845509441266 {'learning_rate': 0.1, 'max_depth': 5}\n",
      "5.018225782116173 {'learning_rate': 0.1, 'max_depth': 6}\n",
      "4.968888543617488 {'learning_rate': 0.1, 'max_depth': 7}\n",
      "5.007386413166369 {'learning_rate': 0.1, 'max_depth': 8}\n",
      "5.0245898484959675 {'learning_rate': 0.1, 'max_depth': 9}\n",
      "5.087697594576992 {'learning_rate': 0.15000000000000002, 'max_depth': 4}\n",
      "5.124103105301504 {'learning_rate': 0.15000000000000002, 'max_depth': 5}\n",
      "5.071444412811073 {'learning_rate': 0.15000000000000002, 'max_depth': 6}\n",
      "5.089390525445919 {'learning_rate': 0.15000000000000002, 'max_depth': 7}\n",
      "5.053371027229951 {'learning_rate': 0.15000000000000002, 'max_depth': 8}\n",
      "5.176968805917342 {'learning_rate': 0.15000000000000002, 'max_depth': 9}\n",
      "5.120489811970919 {'learning_rate': 0.2, 'max_depth': 4}\n",
      "5.11734141836873 {'learning_rate': 0.2, 'max_depth': 5}\n",
      "5.15120391420712 {'learning_rate': 0.2, 'max_depth': 6}\n",
      "5.121223207954868 {'learning_rate': 0.2, 'max_depth': 7}\n",
      "5.171038578364818 {'learning_rate': 0.2, 'max_depth': 8}\n",
      "5.1580992517683875 {'learning_rate': 0.2, 'max_depth': 9}\n",
      "Лучшие параметры модели {'learning_rate': 0.1, 'max_depth': 7}\n",
      "Значение MAE при кросс-валидации LGBMRegressor = 5.16\n",
      "CPU times: user 1min 22s, sys: 927 ms, total: 1min 23s\n",
      "Wall time: 1min 24s\n"
     ]
    }
   ],
   "source": [
    "%%time\n",
    "grid_search = GridSearchCV(model_lgbmr, param_grid, cv=3,\n",
    "                          scoring='neg_mean_absolute_error')\n",
    "grid_search.fit(features_train, target_train)\n",
    "cvres = grid_search.cv_results_\n",
    "for mean_score, params in zip(cvres['mean_test_score'], cvres['params']):\n",
    "    print(-(mean_score), params)\n",
    "best = grid_search.best_params_\n",
    "print('Лучшие параметры модели', best)\n",
    "print('Значение MAE при кросс-валидации LGBMRegressor = {:.2f}'.format(-mean_score))"
   ]
  },
  {
   "cell_type": "markdown",
   "metadata": {
    "id": "vsQAE-bUmo4X"
   },
   "source": [
    "### Обучение на тестовых данных"
   ]
  },
  {
   "cell_type": "code",
   "execution_count": 140,
   "metadata": {
    "colab": {
     "base_uri": "https://localhost:8080/"
    },
    "id": "-0l8N7AD96Jk",
    "outputId": "80afbc92-e649-4c79-a354-c47d331cb763"
   },
   "outputs": [
    {
     "name": "stdout",
     "output_type": "stream",
     "text": [
      "MAE на тестовой выборке 5.22\n"
     ]
    }
   ],
   "source": [
    "model_lgbmr = LGBMRegressor(learning_rate=0.01, max_depth=7, random_state=12345)\n",
    "model_lgbmr.fit(features_train, target_train)\n",
    "target_predict = model_lgbmr.predict(features_test)\n",
    "mae = mean_absolute_error(target_test, target_predict)\n",
    "print('MAE на тестовой выборке {:.2f}'.format(mae))"
   ]
  },
  {
   "cell_type": "markdown",
   "metadata": {
    "id": "pRqcWi8W7Ng4"
   },
   "source": [
    "Все модели получили отличный результат метрики MAE.  \n",
    "Наиболее точной оказалась модель градиентного бустинга LGBMRegressor. Величина метрики MAE 5.19."
   ]
  },
  {
   "cell_type": "markdown",
   "metadata": {
    "id": "l7Lt9Z4T7Au3"
   },
   "source": [
    "<a id=\"glava_6\"></a>\n",
    "## Анализ модели"
   ]
  },
  {
   "cell_type": "markdown",
   "metadata": {
    "id": "lz-VhynVBS4O"
   },
   "source": [
    "Проведем анализ важности признаков **feature_importance** и заново проведем обучение модели с уменьшенным количеством признаков."
   ]
  },
  {
   "cell_type": "code",
   "execution_count": 141,
   "metadata": {
    "id": "uM-y4fSOW8RQ"
   },
   "outputs": [],
   "source": [
    "feature_lgbmr = pd.DataFrame(sorted(zip(model_lgbmr.feature_importances_,features_train.columns)), columns=['Value','Feature'])\n",
    "feature_lgbmr = feature_lgbmr.sort_values(by=\"Value\", ascending=False).copy()"
   ]
  },
  {
   "cell_type": "code",
   "execution_count": 142,
   "metadata": {
    "colab": {
     "base_uri": "https://localhost:8080/",
     "height": 1000
    },
    "id": "2JxRH3vYpbox",
    "outputId": "d9c1dbf2-6517-42b5-b0c8-fcad8c3dc178"
   },
   "outputs": [
    {
     "data": {
      "text/html": [
       "<div>\n",
       "<style scoped>\n",
       "    .dataframe tbody tr th:only-of-type {\n",
       "        vertical-align: middle;\n",
       "    }\n",
       "\n",
       "    .dataframe tbody tr th {\n",
       "        vertical-align: top;\n",
       "    }\n",
       "\n",
       "    .dataframe thead th {\n",
       "        text-align: right;\n",
       "    }\n",
       "</style>\n",
       "<table border=\"1\" class=\"dataframe\">\n",
       "  <thead>\n",
       "    <tr style=\"text-align: right;\">\n",
       "      <th></th>\n",
       "      <th>Value</th>\n",
       "      <th>Feature</th>\n",
       "    </tr>\n",
       "  </thead>\n",
       "  <tbody>\n",
       "    <tr>\n",
       "      <td>35</td>\n",
       "      <td>827</td>\n",
       "      <td>temp_first</td>\n",
       "    </tr>\n",
       "    <tr>\n",
       "      <td>34</td>\n",
       "      <td>528</td>\n",
       "      <td>active_power_sum</td>\n",
       "    </tr>\n",
       "    <tr>\n",
       "      <td>33</td>\n",
       "      <td>230</td>\n",
       "      <td>volume_gas</td>\n",
       "    </tr>\n",
       "    <tr>\n",
       "      <td>32</td>\n",
       "      <td>183</td>\n",
       "      <td>Bulk 14</td>\n",
       "    </tr>\n",
       "    <tr>\n",
       "      <td>31</td>\n",
       "      <td>146</td>\n",
       "      <td>Bulk 6</td>\n",
       "    </tr>\n",
       "    <tr>\n",
       "      <td>30</td>\n",
       "      <td>136</td>\n",
       "      <td>Wire 2</td>\n",
       "    </tr>\n",
       "    <tr>\n",
       "      <td>29</td>\n",
       "      <td>134</td>\n",
       "      <td>sum_time_arc</td>\n",
       "    </tr>\n",
       "    <tr>\n",
       "      <td>28</td>\n",
       "      <td>109</td>\n",
       "      <td>Wire 1</td>\n",
       "    </tr>\n",
       "    <tr>\n",
       "      <td>27</td>\n",
       "      <td>89</td>\n",
       "      <td>Bulk 15</td>\n",
       "    </tr>\n",
       "    <tr>\n",
       "      <td>26</td>\n",
       "      <td>77</td>\n",
       "      <td>full_power_sum</td>\n",
       "    </tr>\n",
       "    <tr>\n",
       "      <td>25</td>\n",
       "      <td>73</td>\n",
       "      <td>reactive_power_sum</td>\n",
       "    </tr>\n",
       "    <tr>\n",
       "      <td>24</td>\n",
       "      <td>66</td>\n",
       "      <td>volume_bulk_sum</td>\n",
       "    </tr>\n",
       "    <tr>\n",
       "      <td>23</td>\n",
       "      <td>64</td>\n",
       "      <td>volume_wire_sum</td>\n",
       "    </tr>\n",
       "    <tr>\n",
       "      <td>22</td>\n",
       "      <td>64</td>\n",
       "      <td>Bulk 12</td>\n",
       "    </tr>\n",
       "    <tr>\n",
       "      <td>21</td>\n",
       "      <td>40</td>\n",
       "      <td>Bulk 3</td>\n",
       "    </tr>\n",
       "    <tr>\n",
       "      <td>20</td>\n",
       "      <td>35</td>\n",
       "      <td>Bulk 4</td>\n",
       "    </tr>\n",
       "    <tr>\n",
       "      <td>19</td>\n",
       "      <td>22</td>\n",
       "      <td>Bulk 1</td>\n",
       "    </tr>\n",
       "    <tr>\n",
       "      <td>18</td>\n",
       "      <td>17</td>\n",
       "      <td>count_arc</td>\n",
       "    </tr>\n",
       "    <tr>\n",
       "      <td>17</td>\n",
       "      <td>14</td>\n",
       "      <td>temp_count</td>\n",
       "    </tr>\n",
       "    <tr>\n",
       "      <td>16</td>\n",
       "      <td>11</td>\n",
       "      <td>bulk_count</td>\n",
       "    </tr>\n",
       "    <tr>\n",
       "      <td>15</td>\n",
       "      <td>2</td>\n",
       "      <td>wire_count</td>\n",
       "    </tr>\n",
       "    <tr>\n",
       "      <td>1</td>\n",
       "      <td>0</td>\n",
       "      <td>Bulk 11</td>\n",
       "    </tr>\n",
       "    <tr>\n",
       "      <td>7</td>\n",
       "      <td>0</td>\n",
       "      <td>Bulk 9</td>\n",
       "    </tr>\n",
       "    <tr>\n",
       "      <td>2</td>\n",
       "      <td>0</td>\n",
       "      <td>Bulk 13</td>\n",
       "    </tr>\n",
       "    <tr>\n",
       "      <td>3</td>\n",
       "      <td>0</td>\n",
       "      <td>Bulk 2</td>\n",
       "    </tr>\n",
       "    <tr>\n",
       "      <td>4</td>\n",
       "      <td>0</td>\n",
       "      <td>Bulk 5</td>\n",
       "    </tr>\n",
       "    <tr>\n",
       "      <td>5</td>\n",
       "      <td>0</td>\n",
       "      <td>Bulk 7</td>\n",
       "    </tr>\n",
       "    <tr>\n",
       "      <td>6</td>\n",
       "      <td>0</td>\n",
       "      <td>Bulk 8</td>\n",
       "    </tr>\n",
       "    <tr>\n",
       "      <td>9</td>\n",
       "      <td>0</td>\n",
       "      <td>Wire 4</td>\n",
       "    </tr>\n",
       "    <tr>\n",
       "      <td>8</td>\n",
       "      <td>0</td>\n",
       "      <td>Wire 3</td>\n",
       "    </tr>\n",
       "    <tr>\n",
       "      <td>10</td>\n",
       "      <td>0</td>\n",
       "      <td>Wire 5</td>\n",
       "    </tr>\n",
       "    <tr>\n",
       "      <td>11</td>\n",
       "      <td>0</td>\n",
       "      <td>Wire 6</td>\n",
       "    </tr>\n",
       "    <tr>\n",
       "      <td>12</td>\n",
       "      <td>0</td>\n",
       "      <td>Wire 7</td>\n",
       "    </tr>\n",
       "    <tr>\n",
       "      <td>13</td>\n",
       "      <td>0</td>\n",
       "      <td>Wire 8</td>\n",
       "    </tr>\n",
       "    <tr>\n",
       "      <td>14</td>\n",
       "      <td>0</td>\n",
       "      <td>Wire 9</td>\n",
       "    </tr>\n",
       "    <tr>\n",
       "      <td>0</td>\n",
       "      <td>0</td>\n",
       "      <td>Bulk 10</td>\n",
       "    </tr>\n",
       "  </tbody>\n",
       "</table>\n",
       "</div>"
      ],
      "text/plain": [
       "    Value             Feature\n",
       "35    827          temp_first\n",
       "34    528    active_power_sum\n",
       "33    230          volume_gas\n",
       "32    183             Bulk 14\n",
       "31    146              Bulk 6\n",
       "30    136              Wire 2\n",
       "29    134        sum_time_arc\n",
       "28    109              Wire 1\n",
       "27     89             Bulk 15\n",
       "26     77      full_power_sum\n",
       "25     73  reactive_power_sum\n",
       "24     66     volume_bulk_sum\n",
       "23     64     volume_wire_sum\n",
       "22     64             Bulk 12\n",
       "21     40              Bulk 3\n",
       "20     35              Bulk 4\n",
       "19     22              Bulk 1\n",
       "18     17           count_arc\n",
       "17     14          temp_count\n",
       "16     11          bulk_count\n",
       "15      2          wire_count\n",
       "1       0             Bulk 11\n",
       "7       0              Bulk 9\n",
       "2       0             Bulk 13\n",
       "3       0              Bulk 2\n",
       "4       0              Bulk 5\n",
       "5       0              Bulk 7\n",
       "6       0              Bulk 8\n",
       "9       0              Wire 4\n",
       "8       0              Wire 3\n",
       "10      0              Wire 5\n",
       "11      0              Wire 6\n",
       "12      0              Wire 7\n",
       "13      0              Wire 8\n",
       "14      0              Wire 9\n",
       "0       0             Bulk 10"
      ]
     },
     "execution_count": 142,
     "metadata": {},
     "output_type": "execute_result"
    }
   ],
   "source": [
    "feature_lgbmr"
   ]
  },
  {
   "cell_type": "code",
   "execution_count": 143,
   "metadata": {
    "cellView": "form",
    "colab": {
     "base_uri": "https://localhost:8080/",
     "height": 728
    },
    "id": "t4_eC_3vXINM",
    "outputId": "d9c41067-26d5-4c7c-f377-4cfc3eac285c"
   },
   "outputs": [
    {
     "data": {
      "image/png": "[encoded data removed]",
      "text/plain": [
       "<Figure size 720x720 with 1 Axes>"
      ]
     },
     "metadata": {
      "needs_background": "light"
     },
     "output_type": "display_data"
    }
   ],
   "source": [
    "#@title\n",
    "plt.figure(figsize=(10, 10))\n",
    "sns.barplot(x=\"Value\", y=\"Feature\", data=feature_lgbmr)\n",
    "plt.title('LightGBM Features')\n",
    "plt.tight_layout()\n",
    "plt.show()"
   ]
  },
  {
   "cell_type": "markdown",
   "metadata": {
    "id": "4aTba3p2B7Bo"
   },
   "source": [
    "Выделим наименее важные признаки"
   ]
  },
  {
   "cell_type": "code",
   "execution_count": 144,
   "metadata": {
    "colab": {
     "base_uri": "https://localhost:8080/"
    },
    "id": "yXCZtfoCv8qr",
    "outputId": "352c957c-0d54-445b-833f-5455ddb0ce41"
   },
   "outputs": [
    {
     "data": {
      "text/plain": [
       "['wire_count',\n",
       " 'Bulk 11',\n",
       " 'Bulk 9',\n",
       " 'Bulk 13',\n",
       " 'Bulk 2',\n",
       " 'Bulk 5',\n",
       " 'Bulk 7',\n",
       " 'Bulk 8',\n",
       " 'Wire 4',\n",
       " 'Wire 3',\n",
       " 'Wire 5',\n",
       " 'Wire 6',\n",
       " 'Wire 7',\n",
       " 'Wire 8',\n",
       " 'Wire 9',\n",
       " 'Bulk 10']"
      ]
     },
     "execution_count": 144,
     "metadata": {},
     "output_type": "execute_result"
    }
   ],
   "source": [
    "bad_features = list(feature_lgbmr['Feature'][feature_lgbmr['Value'] < 10])\n",
    "bad_features"
   ]
  },
  {
   "cell_type": "markdown",
   "metadata": {},
   "source": [
    "Проверим данные на мультиколлинеарность. \n",
    "\n",
    "Для этого создадим функцию **vif_scores** для вычисления VIF (variation inflation factor) – коэффициент вздутия дисперсии."
   ]
  },
  {
   "cell_type": "code",
   "execution_count": 145,
   "metadata": {},
   "outputs": [],
   "source": [
    "def vif_scores(df):\n",
    "    VIF_Scores = pd.DataFrame()\n",
    "    VIF_Scores['independent_features'] = df.columns\n",
    "    VIF_Scores[\"VIF_Scores\"] = [variance_inflation_factor(df.values,i).round(4) for i in range(df.shape[1])]\n",
    "    return VIF_Scores"
   ]
  },
  {
   "cell_type": "code",
   "execution_count": 146,
   "metadata": {},
   "outputs": [
    {
     "name": "stderr",
     "output_type": "stream",
     "text": [
      "/opt/conda/lib/python3.7/site-packages/statsmodels/stats/outliers_influence.py:185: RuntimeWarning: divide by zero encountered in double_scalars\n",
      "  vif = 1. / (1. - r_squared_i)\n",
      "/opt/conda/lib/python3.7/site-packages/statsmodels/regression/linear_model.py:1638: RuntimeWarning: invalid value encountered in double_scalars\n",
      "  return 1 - self.ssr/self.uncentered_tss\n"
     ]
    }
   ],
   "source": [
    "vif_scores_df = vif_scores(features).copy();"
   ]
  },
  {
   "cell_type": "code",
   "execution_count": 147,
   "metadata": {},
   "outputs": [
    {
     "data": {
      "text/html": [
       "<div>\n",
       "<style scoped>\n",
       "    .dataframe tbody tr th:only-of-type {\n",
       "        vertical-align: middle;\n",
       "    }\n",
       "\n",
       "    .dataframe tbody tr th {\n",
       "        vertical-align: top;\n",
       "    }\n",
       "\n",
       "    .dataframe thead th {\n",
       "        text-align: right;\n",
       "    }\n",
       "</style>\n",
       "<table border=\"1\" class=\"dataframe\">\n",
       "  <thead>\n",
       "    <tr style=\"text-align: right;\">\n",
       "      <th></th>\n",
       "      <th>independent_features</th>\n",
       "      <th>VIF_Scores</th>\n",
       "    </tr>\n",
       "  </thead>\n",
       "  <tbody>\n",
       "    <tr>\n",
       "      <td>4</td>\n",
       "      <td>full_power_sum</td>\n",
       "      <td>75410.5626</td>\n",
       "    </tr>\n",
       "    <tr>\n",
       "      <td>1</td>\n",
       "      <td>active_power_sum</td>\n",
       "      <td>28896.9723</td>\n",
       "    </tr>\n",
       "    <tr>\n",
       "      <td>2</td>\n",
       "      <td>reactive_power_sum</td>\n",
       "      <td>11474.5020</td>\n",
       "    </tr>\n",
       "    <tr>\n",
       "      <td>3</td>\n",
       "      <td>sum_time_arc</td>\n",
       "      <td>234.5950</td>\n",
       "    </tr>\n",
       "    <tr>\n",
       "      <td>7</td>\n",
       "      <td>temp_first</td>\n",
       "      <td>41.2648</td>\n",
       "    </tr>\n",
       "    <tr>\n",
       "      <td>0</td>\n",
       "      <td>count_arc</td>\n",
       "      <td>33.5268</td>\n",
       "    </tr>\n",
       "    <tr>\n",
       "      <td>8</td>\n",
       "      <td>bulk_count</td>\n",
       "      <td>31.1890</td>\n",
       "    </tr>\n",
       "    <tr>\n",
       "      <td>25</td>\n",
       "      <td>wire_count</td>\n",
       "      <td>19.7908</td>\n",
       "    </tr>\n",
       "    <tr>\n",
       "      <td>6</td>\n",
       "      <td>temp_count</td>\n",
       "      <td>12.6776</td>\n",
       "    </tr>\n",
       "    <tr>\n",
       "      <td>5</td>\n",
       "      <td>volume_gas</td>\n",
       "      <td>7.6198</td>\n",
       "    </tr>\n",
       "  </tbody>\n",
       "</table>\n",
       "</div>"
      ],
      "text/plain": [
       "   independent_features  VIF_Scores\n",
       "4        full_power_sum  75410.5626\n",
       "1      active_power_sum  28896.9723\n",
       "2    reactive_power_sum  11474.5020\n",
       "3          sum_time_arc    234.5950\n",
       "7            temp_first     41.2648\n",
       "0             count_arc     33.5268\n",
       "8            bulk_count     31.1890\n",
       "25           wire_count     19.7908\n",
       "6            temp_count     12.6776\n",
       "5            volume_gas      7.6198"
      ]
     },
     "execution_count": 147,
     "metadata": {},
     "output_type": "execute_result"
    }
   ],
   "source": [
    "vif_scores_main = vif_scores_df[(vif_scores_df['VIF_Scores'] > 1) & (vif_scores_df['VIF_Scores'] != np.inf)].sort_values(by='VIF_Scores', ascending=False)\n",
    "vif_scores_main "
   ]
  },
  {
   "cell_type": "markdown",
   "metadata": {},
   "source": [
    "При коэффициенте VIF > 10 принято считать, что в данных присутствует мультиколлинеарность.  \n",
    "\n",
    "Данную проблему, в нашем случае, можно решить нескольким путями:  \n",
    "- убрать некоторые переменные;\n",
    "- оставить искуственно созданные переменные, которые описывают исходные."
   ]
  },
  {
   "cell_type": "code",
   "execution_count": 148,
   "metadata": {},
   "outputs": [
    {
     "data": {
      "text/plain": [
       "['full_power_sum',\n",
       " 'active_power_sum',\n",
       " 'reactive_power_sum',\n",
       " 'sum_time_arc',\n",
       " 'temp_first',\n",
       " 'count_arc',\n",
       " 'bulk_count',\n",
       " 'wire_count',\n",
       " 'temp_count']"
      ]
     },
     "execution_count": 148,
     "metadata": {},
     "output_type": "execute_result"
    }
   ],
   "source": [
    "vif_scores_main.query('VIF_Scores > 10')['independent_features'].tolist()"
   ]
  },
  {
   "cell_type": "markdown",
   "metadata": {
    "id": "JXcivGF2CG2c"
   },
   "source": [
    "Создадим новые обучающие и тестовые данные. Для этого исключим из обучающих данных наименее важные признаки и избавимся от мультиколлениарных переменных."
   ]
  },
  {
   "cell_type": "code",
   "execution_count": 149,
   "metadata": {
    "id": "4eb8IxU6mbvo"
   },
   "outputs": [],
   "source": [
    "features_new = data_full.drop(['key', 'temp_last', 'diff_temp', 'diff_time_temp', \n",
    " 'active_power_sum',\n",
    " 'reactive_power_sum',\n",
    " 'sum_time_arc',\n",
    " 'temp_first',\n",
    " 'count_arc',\n",
    " 'bulk_count',\n",
    " 'wire_count',\n",
    " 'temp_count',\n",
    " 'wire_count',\n",
    " 'Bulk 11',\n",
    " 'Bulk 9',\n",
    " 'Bulk 13',\n",
    " 'Bulk 2',\n",
    " 'Bulk 5',\n",
    " 'Bulk 7',\n",
    " 'Bulk 8',\n",
    " 'Wire 4',\n",
    " 'Wire 3',\n",
    " 'Wire 5',\n",
    " 'Wire 6',\n",
    " 'Wire 7',\n",
    " 'Wire 8',\n",
    " 'Wire 9',\n",
    " 'Bulk 10'], axis=1)\n",
    "target_new = data_full['temp_last']"
   ]
  },
  {
   "cell_type": "code",
   "execution_count": 150,
   "metadata": {},
   "outputs": [
    {
     "data": {
      "text/html": [
       "<div>\n",
       "<style scoped>\n",
       "    .dataframe tbody tr th:only-of-type {\n",
       "        vertical-align: middle;\n",
       "    }\n",
       "\n",
       "    .dataframe tbody tr th {\n",
       "        vertical-align: top;\n",
       "    }\n",
       "\n",
       "    .dataframe thead th {\n",
       "        text-align: right;\n",
       "    }\n",
       "</style>\n",
       "<table border=\"1\" class=\"dataframe\">\n",
       "  <thead>\n",
       "    <tr style=\"text-align: right;\">\n",
       "      <th></th>\n",
       "      <th>full_power_sum</th>\n",
       "      <th>volume_gas</th>\n",
       "      <th>volume_bulk_sum</th>\n",
       "      <th>Bulk 1</th>\n",
       "      <th>Bulk 3</th>\n",
       "      <th>Bulk 4</th>\n",
       "      <th>Bulk 6</th>\n",
       "      <th>Bulk 12</th>\n",
       "      <th>Bulk 14</th>\n",
       "      <th>Bulk 15</th>\n",
       "      <th>volume_wire_sum</th>\n",
       "      <th>Wire 1</th>\n",
       "      <th>Wire 2</th>\n",
       "    </tr>\n",
       "  </thead>\n",
       "  <tbody>\n",
       "    <tr>\n",
       "      <td>1</td>\n",
       "      <td>3.649216</td>\n",
       "      <td>12.555561</td>\n",
       "      <td>582.0</td>\n",
       "      <td>0.0</td>\n",
       "      <td>0.0</td>\n",
       "      <td>73.0</td>\n",
       "      <td>0.0</td>\n",
       "      <td>206.0</td>\n",
       "      <td>149.0</td>\n",
       "      <td>154.0</td>\n",
       "      <td>96.052315</td>\n",
       "      <td>96.052315</td>\n",
       "      <td>0.00000</td>\n",
       "    </tr>\n",
       "    <tr>\n",
       "      <td>4</td>\n",
       "      <td>4.035758</td>\n",
       "      <td>5.413692</td>\n",
       "      <td>584.0</td>\n",
       "      <td>0.0</td>\n",
       "      <td>0.0</td>\n",
       "      <td>78.0</td>\n",
       "      <td>0.0</td>\n",
       "      <td>203.0</td>\n",
       "      <td>151.0</td>\n",
       "      <td>152.0</td>\n",
       "      <td>98.352796</td>\n",
       "      <td>89.238236</td>\n",
       "      <td>9.11456</td>\n",
       "    </tr>\n",
       "    <tr>\n",
       "      <td>5</td>\n",
       "      <td>4.786837</td>\n",
       "      <td>11.273392</td>\n",
       "      <td>676.0</td>\n",
       "      <td>0.0</td>\n",
       "      <td>0.0</td>\n",
       "      <td>117.0</td>\n",
       "      <td>0.0</td>\n",
       "      <td>204.0</td>\n",
       "      <td>201.0</td>\n",
       "      <td>154.0</td>\n",
       "      <td>108.224477</td>\n",
       "      <td>99.109917</td>\n",
       "      <td>9.11456</td>\n",
       "    </tr>\n",
       "    <tr>\n",
       "      <td>6</td>\n",
       "      <td>2.987777</td>\n",
       "      <td>9.836267</td>\n",
       "      <td>627.0</td>\n",
       "      <td>0.0</td>\n",
       "      <td>0.0</td>\n",
       "      <td>117.0</td>\n",
       "      <td>0.0</td>\n",
       "      <td>204.0</td>\n",
       "      <td>152.0</td>\n",
       "      <td>154.0</td>\n",
       "      <td>98.061600</td>\n",
       "      <td>98.061600</td>\n",
       "      <td>0.00000</td>\n",
       "    </tr>\n",
       "    <tr>\n",
       "      <td>7</td>\n",
       "      <td>4.627389</td>\n",
       "      <td>15.171553</td>\n",
       "      <td>914.0</td>\n",
       "      <td>0.0</td>\n",
       "      <td>0.0</td>\n",
       "      <td>99.0</td>\n",
       "      <td>0.0</td>\n",
       "      <td>410.0</td>\n",
       "      <td>252.0</td>\n",
       "      <td>153.0</td>\n",
       "      <td>155.282394</td>\n",
       "      <td>155.282394</td>\n",
       "      <td>0.00000</td>\n",
       "    </tr>\n",
       "  </tbody>\n",
       "</table>\n",
       "</div>"
      ],
      "text/plain": [
       "   full_power_sum  volume_gas  volume_bulk_sum  Bulk 1  Bulk 3  Bulk 4  \\\n",
       "1        3.649216   12.555561            582.0     0.0     0.0    73.0   \n",
       "4        4.035758    5.413692            584.0     0.0     0.0    78.0   \n",
       "5        4.786837   11.273392            676.0     0.0     0.0   117.0   \n",
       "6        2.987777    9.836267            627.0     0.0     0.0   117.0   \n",
       "7        4.627389   15.171553            914.0     0.0     0.0    99.0   \n",
       "\n",
       "   Bulk 6  Bulk 12  Bulk 14  Bulk 15  volume_wire_sum      Wire 1   Wire 2  \n",
       "1     0.0    206.0    149.0    154.0        96.052315   96.052315  0.00000  \n",
       "4     0.0    203.0    151.0    152.0        98.352796   89.238236  9.11456  \n",
       "5     0.0    204.0    201.0    154.0       108.224477   99.109917  9.11456  \n",
       "6     0.0    204.0    152.0    154.0        98.061600   98.061600  0.00000  \n",
       "7     0.0    410.0    252.0    153.0       155.282394  155.282394  0.00000  "
      ]
     },
     "execution_count": 150,
     "metadata": {},
     "output_type": "execute_result"
    }
   ],
   "source": [
    "features_new.head()"
   ]
  },
  {
   "cell_type": "code",
   "execution_count": 151,
   "metadata": {
    "id": "K0pUopkonEaw"
   },
   "outputs": [],
   "source": [
    "# отделим 25% данных для тестовой выборки\n",
    "features_train, features_test, target_train, target_test = train_test_split(features_new, target_new, test_size=0.25, random_state=12345)"
   ]
  },
  {
   "cell_type": "code",
   "execution_count": 152,
   "metadata": {
    "colab": {
     "base_uri": "https://localhost:8080/"
    },
    "id": "E6bvw9klXqGo",
    "outputId": "1dd3715a-ee80-4298-b5ec-cc1a4d03e19f"
   },
   "outputs": [
    {
     "name": "stdout",
     "output_type": "stream",
     "text": [
      "MAE на тестовой выборке 5.57\n",
      "CPU times: user 793 ms, sys: 18.2 ms, total: 811 ms\n",
      "Wall time: 800 ms\n"
     ]
    }
   ],
   "source": [
    "%%time\n",
    "model_lgbmr = LGBMRegressor(learning_rate=0.05, max_depth=5, random_state=12345)\n",
    "model_lgbmr.fit(features_train, target_train)\n",
    "target_predict = model_lgbmr.predict(features_test)\n",
    "mae = mean_absolute_error(target_test, target_predict)\n",
    "print('MAE на тестовой выборке {:.2f}'.format(mae))"
   ]
  },
  {
   "cell_type": "markdown",
   "metadata": {
    "id": "dWxP808X7dXx"
   },
   "source": [
    "### Вывод"
   ]
  },
  {
   "cell_type": "markdown",
   "metadata": {
    "id": "FqPJ7TVaCpNU"
   },
   "source": [
    "Выделены наиболее выжные признаки. Проведено повтороне обучение модели.  \n",
    "\n",
    "Условие задачи выполнено, даже с учетом очистки в features большого количества переменных. \n",
    "\n",
    "Значение метрики для модели градиентного бустинга *LGBMRegressor* **MAE = 5.57**."
   ]
  },
  {
   "cell_type": "markdown",
   "metadata": {
    "id": "0JV9kCJLiLAb"
   },
   "source": [
    "<a id=\"conclusion\"></a>\n",
    "# Общий вывод"
   ]
  },
  {
   "cell_type": "markdown",
   "metadata": {
    "id": "pLAYung0iO1t"
   },
   "source": [
    "Производственный процесс представляет из себя цикл этапов, включающих опускание электродов в ковш(нагрев), добавление сыпучих материалов и проволки, продувка газов, замеры температуры.  \n",
    "\n",
    "Данные о последнем измерении температуры являются **целевой переменной**.     \n",
    "\n",
    "Изменения зафиксированной температуры находятся в диапазоне от 1191 до 1705 градусов.  \n",
    "\n",
    "Таблицы, описывающие разные этапы и циклы производства собраны в единый датасет.  \n",
    "\n",
    "Проведена очистка данных от выбросов и пропусков. Размер датасета уменьшился до 1906 строк. Потери составляют ~40% от первоначальных данных.\n",
    "\n",
    "Обучены модели:  \n",
    "* LinearRegression;\n",
    "* RandomForestRegressor;\n",
    "* CatBoostRegressor;\n",
    "* LGBMRegressor.\n",
    "\n",
    "Проведен анализ модели LGBMRegressor и ее **feature_importance**. Выявлены в данных переменные, имеющие признаки мультиколлениарности. \n",
    "\n",
    "Для очищенных данных от наименее важных признаков, и исключающих признаки мультиколлениарности, значение метрики модели **LGBMRegressor**  \n",
    "**MAE = 5.57**.\n",
    "\n",
    "Рекомендации:\n",
    "* увеличить количество наблюдений;\n",
    "* требуется уточнить на производстве, с чем связанны окургление значений температуры;\n",
    "* провести аудит и контроль качества получаемых данных;\n",
    "* предоставить технологическую карту процесса изготовления продукции, для уточнения пределов значений переменных."
   ]
  }
 ],
 "metadata": {
  "colab": {
   "collapsed_sections": [],
   "name": "Final_project.ipynb",
   "provenance": []
  },
  "kernelspec": {
   "display_name": "Python 3",
   "language": "python",
   "name": "python3"
  },
  "language_info": {
   "codemirror_mode": {
    "name": "ipython",
    "version": 3
   },
   "file_extension": ".py",
   "mimetype": "text/x-python",
   "name": "python",
   "nbconvert_exporter": "python",
   "pygments_lexer": "ipython3",
   "version": "3.7.8"
  },
  "toc": {
   "base_numbering": 1,
   "nav_menu": {},
   "number_sections": true,
   "sideBar": true,
   "skip_h1_title": true,
   "title_cell": "Table of Contents",
   "title_sidebar": "Contents",
   "toc_cell": false,
   "toc_position": {},
   "toc_section_display": true,
   "toc_window_display": true
  }
 },
 "nbformat": 4,
 "nbformat_minor": 1
}
