{
 "cells": [
  {
   "cell_type": "markdown",
   "metadata": {},
   "source": [
    "Нужно защитить данные, чтобы при преобразовании качество моделей машинного обучения не ухудшилось. "
   ]
  },
  {
   "cell_type": "markdown",
   "metadata": {},
   "source": [
    "**Описание данных**\n",
    "\n",
    "- Признаки: пол, возраст и зарплата застрахованного, количество членов его семьи.\n",
    "- Целевой признак: количество страховых выплат клиенту за последние 5 лет."
   ]
  },
  {
   "cell_type": "markdown",
   "metadata": {},
   "source": [
    "## Оглавление"
   ]
  },
  {
   "cell_type": "markdown",
   "metadata": {},
   "source": [
    "[1. Загрузка данных](#glava_1)  \n",
    "[2. Умножение матриц](#glava_2)  \n",
    "[3. Алгоритм преобразования](#glava_3)  \n",
    "[4. Проверка алгоритма](#glava_4)  \n",
    "[Вывод](#conclusion)  "
   ]
  },
  {
   "cell_type": "markdown",
   "metadata": {},
   "source": [
    "<a id=\"glava_1\"></a>\n",
    "## Загрузка данных"
   ]
  },
  {
   "cell_type": "code",
   "execution_count": 1,
   "metadata": {},
   "outputs": [],
   "source": [
    "import pandas as pd\n",
    "import numpy as np\n",
    "from sklearn.metrics import r2_score\n",
    "from sklearn.linear_model import LinearRegression\n",
    "from sklearn.model_selection import train_test_split\n",
    "import random"
   ]
  },
  {
   "cell_type": "code",
   "execution_count": 2,
   "metadata": {},
   "outputs": [],
   "source": [
    "df = pd.read_csv('/datasets/insurance.csv')"
   ]
  },
  {
   "cell_type": "code",
   "execution_count": 3,
   "metadata": {},
   "outputs": [
    {
     "data": {
      "text/html": [
       "<div>\n",
       "<style scoped>\n",
       "    .dataframe tbody tr th:only-of-type {\n",
       "        vertical-align: middle;\n",
       "    }\n",
       "\n",
       "    .dataframe tbody tr th {\n",
       "        vertical-align: top;\n",
       "    }\n",
       "\n",
       "    .dataframe thead th {\n",
       "        text-align: right;\n",
       "    }\n",
       "</style>\n",
       "<table border=\"1\" class=\"dataframe\">\n",
       "  <thead>\n",
       "    <tr style=\"text-align: right;\">\n",
       "      <th></th>\n",
       "      <th>Пол</th>\n",
       "      <th>Возраст</th>\n",
       "      <th>Зарплата</th>\n",
       "      <th>Члены семьи</th>\n",
       "      <th>Страховые выплаты</th>\n",
       "    </tr>\n",
       "  </thead>\n",
       "  <tbody>\n",
       "    <tr>\n",
       "      <td>0</td>\n",
       "      <td>1</td>\n",
       "      <td>41.0</td>\n",
       "      <td>49600.0</td>\n",
       "      <td>1</td>\n",
       "      <td>0</td>\n",
       "    </tr>\n",
       "    <tr>\n",
       "      <td>1</td>\n",
       "      <td>0</td>\n",
       "      <td>46.0</td>\n",
       "      <td>38000.0</td>\n",
       "      <td>1</td>\n",
       "      <td>1</td>\n",
       "    </tr>\n",
       "    <tr>\n",
       "      <td>2</td>\n",
       "      <td>0</td>\n",
       "      <td>29.0</td>\n",
       "      <td>21000.0</td>\n",
       "      <td>0</td>\n",
       "      <td>0</td>\n",
       "    </tr>\n",
       "    <tr>\n",
       "      <td>3</td>\n",
       "      <td>0</td>\n",
       "      <td>21.0</td>\n",
       "      <td>41700.0</td>\n",
       "      <td>2</td>\n",
       "      <td>0</td>\n",
       "    </tr>\n",
       "    <tr>\n",
       "      <td>4</td>\n",
       "      <td>1</td>\n",
       "      <td>28.0</td>\n",
       "      <td>26100.0</td>\n",
       "      <td>0</td>\n",
       "      <td>0</td>\n",
       "    </tr>\n",
       "  </tbody>\n",
       "</table>\n",
       "</div>"
      ],
      "text/plain": [
       "   Пол  Возраст  Зарплата  Члены семьи  Страховые выплаты\n",
       "0    1     41.0   49600.0            1                  0\n",
       "1    0     46.0   38000.0            1                  1\n",
       "2    0     29.0   21000.0            0                  0\n",
       "3    0     21.0   41700.0            2                  0\n",
       "4    1     28.0   26100.0            0                  0"
      ]
     },
     "execution_count": 3,
     "metadata": {},
     "output_type": "execute_result"
    }
   ],
   "source": [
    "df.head()"
   ]
  },
  {
   "cell_type": "code",
   "execution_count": 4,
   "metadata": {},
   "outputs": [
    {
     "name": "stdout",
     "output_type": "stream",
     "text": [
      "<class 'pandas.core.frame.DataFrame'>\n",
      "RangeIndex: 5000 entries, 0 to 4999\n",
      "Data columns (total 5 columns):\n",
      "Пол                  5000 non-null int64\n",
      "Возраст              5000 non-null float64\n",
      "Зарплата             5000 non-null float64\n",
      "Члены семьи          5000 non-null int64\n",
      "Страховые выплаты    5000 non-null int64\n",
      "dtypes: float64(2), int64(3)\n",
      "memory usage: 195.4 KB\n"
     ]
    }
   ],
   "source": [
    "df.info()"
   ]
  },
  {
   "cell_type": "code",
   "execution_count": 5,
   "metadata": {},
   "outputs": [
    {
     "data": {
      "text/plain": [
       "Пол                  0\n",
       "Возраст              0\n",
       "Зарплата             0\n",
       "Члены семьи          0\n",
       "Страховые выплаты    0\n",
       "dtype: int64"
      ]
     },
     "execution_count": 5,
     "metadata": {},
     "output_type": "execute_result"
    }
   ],
   "source": [
    "df.isna().sum()"
   ]
  },
  {
   "cell_type": "markdown",
   "metadata": {},
   "source": [
    "### Вывод"
   ]
  },
  {
   "cell_type": "markdown",
   "metadata": {},
   "source": [
    "Таблица с данными состоит из 5000 строк и 5 столбцов.  \n",
    "\n",
    "Пропуски отсутствуют."
   ]
  },
  {
   "cell_type": "markdown",
   "metadata": {},
   "source": [
    "<a id=\"glava_2\"></a>\n",
    "## Умножение матриц"
   ]
  },
  {
   "cell_type": "markdown",
   "metadata": {},
   "source": [
    "В этом задании вы можете записывать формулы в *Jupyter Notebook.*\n",
    "\n",
    "Чтобы записать формулу внутри текста, окружите её символами доллара \\\\$; если снаружи —  двойными символами \\\\$\\\\$. Эти формулы записываются на языке вёрстки *LaTeX.* \n",
    "\n",
    "Для примера мы записали формулы линейной регрессии. Можете их скопировать и отредактировать, чтобы решить задачу.\n",
    "\n",
    "Работать в *LaTeX* необязательно."
   ]
  },
  {
   "cell_type": "markdown",
   "metadata": {},
   "source": [
    "Обозначения:\n",
    "\n",
    "- $X$ — матрица признаков (нулевой столбец состоит из единиц)\n",
    "\n",
    "- $y$ — вектор целевого признака\n",
    "\n",
    "- $P$ — матрица, на которую умножаются признаки\n",
    "\n",
    "- $w$ — вектор весов линейной регрессии (нулевой элемент равен сдвигу)"
   ]
  },
  {
   "cell_type": "markdown",
   "metadata": {},
   "source": [
    "Предсказания:\n",
    "\n",
    "$$\n",
    "a = Xw\n",
    "$$\n",
    "\n",
    "Задача обучения:\n",
    "\n",
    "$$\n",
    "w = \\arg\\min_w MSE(Xw, y)\n",
    "$$\n",
    "\n",
    "Формула обучения:\n",
    "\n",
    "$$\n",
    "w = (X^T X)^{-1} X^T y\n",
    "$$"
   ]
  },
  {
   "cell_type": "markdown",
   "metadata": {},
   "source": [
    "**Вопрос:**  \n",
    "\n",
    "**Признаки умножают на обратимую матрицу. Изменится ли качество линейной регрессии?**"
   ]
  },
  {
   "cell_type": "markdown",
   "metadata": {},
   "source": [
    "**Ответ:** ***Не изменится***\n",
    "\n",
    "**Обоснование:** \n",
    "\n",
    "Умножим матрицу признаков на обратимую матрицу- P:  \n",
    "\n",
    "$$\n",
    "Z = XP  \n",
    "$$\n",
    "Формула вектора весов линейной регрессии будет выглядеть следующим образом:\n",
    "\n",
    "$$\n",
    "w1 = (Z^T Z)^{-1} Z^T y\n",
    "$$\n",
    "\n",
    "- $P$- обратимая матрица (матрица P с верхним индексом -1, произведение которой на P равно единичной матрице)   \n",
    "\n",
    "\n",
    "\n",
    "Подставим вектор Z в формулу линейной регрессии и раскроем скобки:\n",
    "\n",
    "$$\n",
    "a1 = Z(Z^T Z)^{-1} Z^T y = Z(Z^T)^{-1} Z^{-1} Z^T y\n",
    "$$\n",
    "\n",
    "Запишем вместо вектора Z его значение:\n",
    "\n",
    "$$\n",
    "a1 = XP((XP)^T(XP))^{-1} (XP)^T y\n",
    "$$\n",
    "    \n",
    "Выведем из скобок значение XP:\n",
    "\n",
    "$$\n",
    "a1 = XP(XP)^{-1}((XP)^T)^{-1}(XP)^T y\n",
    "$$\n",
    "\n",
    "$$\n",
    "a1 = XPP^{-1}X^{-1}(P^T X^T)^{-1}P^T X^T y\n",
    "$$\n",
    "    \n",
    "$$\n",
    "a1 = XPP^{-1}X^{-1}(X^T)^{-1}(P^T)^{-1} P^T X^T y\n",
    "$$    \n",
    "    \n",
    "Учитывая, что умножение обратимой матрицы равно единичной матрице $PP^{-1} = E$ и $(P^T)^{-1} P^T = Е$, получим:\n",
    "\n",
    "$$\n",
    "a1 = X E X^{-1}(X^T)^{-1} E X^T y\n",
    "$$\n",
    "\n",
    "Если любую матрицу P умножить на единичную (или наоборот), получится эта же матрица P, следовательно единичные матрицы E можно сократить:\n",
    "\n",
    "$$\n",
    "a1 = X X^{-1}(X^T)^{-1}X^T y = X(X^T X)^{-1} X^T y = Xw\n",
    "$$\n",
    "\n",
    "$$\n",
    "a1 = a\n",
    "$$"
   ]
  },
  {
   "cell_type": "markdown",
   "metadata": {},
   "source": [
    "Мы получили точно такое же уравнение линейной регрессии."
   ]
  },
  {
   "cell_type": "markdown",
   "metadata": {},
   "source": [
    "### Вывод"
   ]
  },
  {
   "cell_type": "markdown",
   "metadata": {},
   "source": [
    "При умножении признаков на обратимую матрицу уравнение линейной регресси не изменяется, т.к. произведение квадратной матрицы на обратную (с индексом -1) равно единичной матрице.  \n",
    "Если любую матрицу умножить на единичную (или наоборот), получится эта же матрица."
   ]
  },
  {
   "cell_type": "markdown",
   "metadata": {},
   "source": [
    "<a id=\"glava_3\"></a>\n",
    "## Алгоритм преобразования"
   ]
  },
  {
   "cell_type": "markdown",
   "metadata": {},
   "source": [
    "**Алгоритм**"
   ]
  },
  {
   "cell_type": "markdown",
   "metadata": {},
   "source": [
    "Для защиты данные клиентов предлагается использовать метод преобразования данных, основанный на умножении матрицы признаков на обратимую матрицу, сгенерированную случайно."
   ]
  },
  {
   "cell_type": "markdown",
   "metadata": {},
   "source": [
    "**Структура алгоритма:**  \n",
    "\n",
    "1. Получение данных, матрица $X$ с n-количеством признаков (features);  \n",
    "2. Генерация случайной матрицы $Z$ размера $n*n$;  \n",
    "3. Проверка матрицы $Z$ на обратимость;\n",
    "4. Умножение матрицы признаков $X$ на обратимую матрицу $Z$;\n",
    "5. Вывод новых значений."
   ]
  },
  {
   "cell_type": "markdown",
   "metadata": {},
   "source": [
    "**Обоснование**"
   ]
  },
  {
   "cell_type": "markdown",
   "metadata": {},
   "source": [
    "Учитывая выводы полученные во второй главе, можно утвержадть, что при умножении признаков на обратимую матрицу уравнение линейной регресси не изменяется.  \n",
    "\n",
    "Основным критерием получения корректных значений является, подбор обратимой матрицы размерностью соответствующей количеству признаков для модели линейной регрессии.  \n",
    "\n",
    "Квадратная матрица обратима тогда и только тогда, когда она невырождена, то есть её определитель ($det (A)$) не равен нулю.  \n",
    "\n",
    "Для сгенерированной случайной матрицы функцией numpy.random.normal(), вероятность получить необратимую матрицу близка к нулю."
   ]
  },
  {
   "cell_type": "markdown",
   "metadata": {},
   "source": [
    "<a id=\"glava_4\"></a>\n",
    "## Проверка алгоритма"
   ]
  },
  {
   "cell_type": "markdown",
   "metadata": {},
   "source": [
    "Проведем обучение линейной регрессии и сравним метрику качества **R2 score** до преобразования и после."
   ]
  },
  {
   "cell_type": "markdown",
   "metadata": {},
   "source": [
    "Выделим целевое значение признаков из таблицы данных:"
   ]
  },
  {
   "cell_type": "code",
   "execution_count": 6,
   "metadata": {},
   "outputs": [],
   "source": [
    "features = df.drop(['Страховые выплаты'], axis=1)\n",
    "target = df['Страховые выплаты']"
   ]
  },
  {
   "cell_type": "markdown",
   "metadata": {},
   "source": [
    "#### 1. Обучение модели до преобразования:"
   ]
  },
  {
   "cell_type": "markdown",
   "metadata": {},
   "source": [
    "Разобъем данные на обучающую и тестовую выборку и обучим модель линейной регрессии:"
   ]
  },
  {
   "cell_type": "code",
   "execution_count": 7,
   "metadata": {},
   "outputs": [],
   "source": [
    "features_train, features_test, target_train, target_test = train_test_split(\n",
    "    features, target, test_size=0.25, random_state=12345)"
   ]
  },
  {
   "cell_type": "code",
   "execution_count": 8,
   "metadata": {},
   "outputs": [
    {
     "name": "stdout",
     "output_type": "stream",
     "text": [
      "R2 score до преобразования: 0.43522757127026657\n"
     ]
    }
   ],
   "source": [
    "model = LinearRegression(normalize=True)\n",
    "model.fit(features_train, target_train)\n",
    "predictions = model.predict(features_test)\n",
    "result_r2 = r2_score(target_test, predictions)\n",
    "print('R2 score до преобразования:', result_r2)"
   ]
  },
  {
   "cell_type": "markdown",
   "metadata": {},
   "source": [
    "Создадим функцию преобразования данных:"
   ]
  },
  {
   "cell_type": "code",
   "execution_count": 9,
   "metadata": {},
   "outputs": [],
   "source": [
    "def code_features(features):\n",
    "    n = features.shape[1]\n",
    "    invertible_matrix = np.random.normal(0, 1, (n,n))\n",
    "    try:\n",
    "        check = np.linalg.det(invertible_matrix)\n",
    "        while check == 0:\n",
    "            invertible_matrix = np.random.normal(0, 1, (n,n))\n",
    "            check = np.linalg.det(invertible_matrix)\n",
    "        encryption_features = features @ invertible_matrix\n",
    "        return encryption_features\n",
    "    except:\n",
    "        print(\"Что-то пошло не так...\")"
   ]
  },
  {
   "cell_type": "markdown",
   "metadata": {},
   "source": [
    "#### 2. Обучение модели после преобразования:"
   ]
  },
  {
   "cell_type": "markdown",
   "metadata": {},
   "source": [
    "Применим функцию `code_features`, разобъем данные на обучающую и тестовую выборку и заново обучим модель линейной регрессии:"
   ]
  },
  {
   "cell_type": "code",
   "execution_count": 10,
   "metadata": {},
   "outputs": [],
   "source": [
    "encrypt_features = code_features(features)"
   ]
  },
  {
   "cell_type": "code",
   "execution_count": 11,
   "metadata": {},
   "outputs": [
    {
     "data": {
      "text/html": [
       "<div>\n",
       "<style scoped>\n",
       "    .dataframe tbody tr th:only-of-type {\n",
       "        vertical-align: middle;\n",
       "    }\n",
       "\n",
       "    .dataframe tbody tr th {\n",
       "        vertical-align: top;\n",
       "    }\n",
       "\n",
       "    .dataframe thead th {\n",
       "        text-align: right;\n",
       "    }\n",
       "</style>\n",
       "<table border=\"1\" class=\"dataframe\">\n",
       "  <thead>\n",
       "    <tr style=\"text-align: right;\">\n",
       "      <th></th>\n",
       "      <th>0</th>\n",
       "      <th>1</th>\n",
       "      <th>2</th>\n",
       "      <th>3</th>\n",
       "    </tr>\n",
       "  </thead>\n",
       "  <tbody>\n",
       "    <tr>\n",
       "      <td>0</td>\n",
       "      <td>70639.804009</td>\n",
       "      <td>75576.960732</td>\n",
       "      <td>45689.433450</td>\n",
       "      <td>62931.551683</td>\n",
       "    </tr>\n",
       "    <tr>\n",
       "      <td>1</td>\n",
       "      <td>54122.275467</td>\n",
       "      <td>57915.190779</td>\n",
       "      <td>35030.263101</td>\n",
       "      <td>48177.172853</td>\n",
       "    </tr>\n",
       "    <tr>\n",
       "      <td>2</td>\n",
       "      <td>29910.441065</td>\n",
       "      <td>32009.174750</td>\n",
       "      <td>19365.860973</td>\n",
       "      <td>26615.501532</td>\n",
       "    </tr>\n",
       "    <tr>\n",
       "      <td>3</td>\n",
       "      <td>59386.868175</td>\n",
       "      <td>63527.796433</td>\n",
       "      <td>38386.389622</td>\n",
       "      <td>52940.170340</td>\n",
       "    </tr>\n",
       "    <tr>\n",
       "      <td>4</td>\n",
       "      <td>37172.151526</td>\n",
       "      <td>39774.836551</td>\n",
       "      <td>24054.572434</td>\n",
       "      <td>33100.007342</td>\n",
       "    </tr>\n",
       "  </tbody>\n",
       "</table>\n",
       "</div>"
      ],
      "text/plain": [
       "              0             1             2             3\n",
       "0  70639.804009  75576.960732  45689.433450  62931.551683\n",
       "1  54122.275467  57915.190779  35030.263101  48177.172853\n",
       "2  29910.441065  32009.174750  19365.860973  26615.501532\n",
       "3  59386.868175  63527.796433  38386.389622  52940.170340\n",
       "4  37172.151526  39774.836551  24054.572434  33100.007342"
      ]
     },
     "execution_count": 11,
     "metadata": {},
     "output_type": "execute_result"
    }
   ],
   "source": [
    "encrypt_features.head()"
   ]
  },
  {
   "cell_type": "markdown",
   "metadata": {},
   "source": [
    "Как мы видим, после выполнения функции, значения признаков **features** принимают случайные значения."
   ]
  },
  {
   "cell_type": "code",
   "execution_count": 12,
   "metadata": {},
   "outputs": [],
   "source": [
    "features_train, features_test, target_train, target_test = train_test_split(\n",
    "    encrypt_features, target, test_size=0.25, random_state=12345)"
   ]
  },
  {
   "cell_type": "code",
   "execution_count": 13,
   "metadata": {},
   "outputs": [
    {
     "name": "stdout",
     "output_type": "stream",
     "text": [
      "R2 score после преобразования: 0.43522757127035716\n"
     ]
    }
   ],
   "source": [
    "model = LinearRegression(normalize=True)\n",
    "model.fit(features_train, target_train)\n",
    "predictions = model.predict(features_test)\n",
    "result_r2_after = r2_score(target_test, predictions)\n",
    "print('R2 score после преобразования:', result_r2_after)"
   ]
  },
  {
   "cell_type": "code",
   "execution_count": 14,
   "metadata": {},
   "outputs": [
    {
     "data": {
      "text/html": [
       "<div>\n",
       "<style scoped>\n",
       "    .dataframe tbody tr th:only-of-type {\n",
       "        vertical-align: middle;\n",
       "    }\n",
       "\n",
       "    .dataframe tbody tr th {\n",
       "        vertical-align: top;\n",
       "    }\n",
       "\n",
       "    .dataframe thead th {\n",
       "        text-align: right;\n",
       "    }\n",
       "</style>\n",
       "<table border=\"1\" class=\"dataframe\">\n",
       "  <thead>\n",
       "    <tr style=\"text-align: right;\">\n",
       "      <th></th>\n",
       "      <th>R2 score</th>\n",
       "    </tr>\n",
       "  </thead>\n",
       "  <tbody>\n",
       "    <tr>\n",
       "      <td>R2 score до преобразования</td>\n",
       "      <td>0.435228</td>\n",
       "    </tr>\n",
       "    <tr>\n",
       "      <td>R2 score после преобразования</td>\n",
       "      <td>0.435228</td>\n",
       "    </tr>\n",
       "  </tbody>\n",
       "</table>\n",
       "</div>"
      ],
      "text/plain": [
       "                               R2 score\n",
       "R2 score до преобразования     0.435228\n",
       "R2 score после преобразования  0.435228"
      ]
     },
     "execution_count": 14,
     "metadata": {},
     "output_type": "execute_result"
    }
   ],
   "source": [
    "data= {'R2 score':[result_r2, result_r2_after]}\n",
    "pd.DataFrame(data, index=('R2 score до преобразования', 'R2 score после преобразования'))"
   ]
  },
  {
   "cell_type": "markdown",
   "metadata": {},
   "source": [
    "<a id=\"conclusion\"></a>\n",
    "## Вывод"
   ]
  },
  {
   "cell_type": "markdown",
   "metadata": {},
   "source": [
    "Таблица с данными состоит из 5000 строк и 5 столбцов.\n",
    "\n",
    "Выполнено доказательство, что при умножении признаков на обратимую матрицу уравнение линейной регресси не изменяется.  \n",
    "\n",
    "Представлен алгоритм для защиты данных клиентов, основанный на умножении матрицы признаков на обратимую матрицу, сгенерированную случайно.  \n",
    "\n",
    "Создана функция `code_features` для преобразования данных.\n",
    "\n",
    "Обучены модели линейной регрессии, получены следующие значения метрики R2 score:\n",
    "\n",
    "\n",
    "|Этапы| Значение R2 score |\n",
    "| --- | --- |\n",
    "| R2 score до преобразования | 0.435228 |\n",
    "| R2 score после преобразования | 0.435228 |\n",
    "\n",
    "Метрика качества не изменилась, следовательно преобразование выполненно корректно.  \n",
    "\n",
    "Исходя из вышеизложенного можно сделать вывод, что используя обратимые матрицы с соответствующей размерностью, мы можем закодировать данные с сохранением точности результов обучения моделей."
   ]
  }
 ],
 "metadata": {
  "kernelspec": {
   "display_name": "Python 3",
   "language": "python",
   "name": "python3"
  },
  "language_info": {
   "codemirror_mode": {
    "name": "ipython",
    "version": 3
   },
   "file_extension": ".py",
   "mimetype": "text/x-python",
   "name": "python",
   "nbconvert_exporter": "python",
   "pygments_lexer": "ipython3",
   "version": "3.7.8"
  },
  "toc": {
   "base_numbering": 1,
   "nav_menu": {},
   "number_sections": true,
   "sideBar": true,
   "skip_h1_title": false,
   "title_cell": "Table of Contents",
   "title_sidebar": "Contents",
   "toc_cell": false,
   "toc_position": {},
   "toc_section_display": true,
   "toc_window_display": false
  }
 },
 "nbformat": 4,
 "nbformat_minor": 2
}
