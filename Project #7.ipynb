{
 "cells": [
  {
   "cell_type": "markdown",
   "metadata": {},
   "source": [
    "## Оглавление\n",
    "[1. Подготовка данных](#data_preparation)  \n",
    "[2. Исследование задачи](#research)  \n",
    "[3. Борьба с дисбалансом](#dealing_imbalance)  \n",
    "[4. Тестирование модели](#test_model)  \n",
    "[Вывод](#output)  "
   ]
  },
  {
   "cell_type": "markdown",
   "metadata": {},
   "source": [
    "# Отток клиентов"
   ]
  },
  {
   "cell_type": "markdown",
   "metadata": {},
   "source": [
    "Из «Бета-Банка» стали уходить клиенты. Каждый месяц. Немного, но заметно. Банковские маркетологи посчитали: сохранять текущих клиентов дешевле, чем привлекать новых.\n",
    "\n",
    "Нужно спрогнозировать, уйдёт клиент из банка в ближайшее время или нет. Вам предоставлены исторические данные о поведении клиентов и расторжении договоров с банком. \n",
    "\n",
    "Постройте модель с предельно большим значением *F1*-меры. Чтобы сдать проект успешно, нужно довести метрику до 0.59. Проверьте *F1*-меру на тестовой выборке самостоятельно.\n",
    "\n",
    "Дополнительно измеряйте *AUC-ROC*, сравнивайте её значение с *F1*-мерой.\n",
    "\n",
    "Источник данных: [https://www.kaggle.com/barelydedicated/bank-customer-churn-modeling](https://www.kaggle.com/barelydedicated/bank-customer-churn-modeling)"
   ]
  },
  {
   "cell_type": "markdown",
   "metadata": {},
   "source": [
    "**План работы:**  \n",
    "- Подготовить данные.\n",
    "- Исследовать баланс классов, обучить модель без учёта дисбаланса.\n",
    "- Улучшить качество модели, учитывая дисбаланс классов. \n",
    "- Обучить разные модели и найти лучшую.\n",
    "- Провести финальное тестирование."
   ]
  },
  {
   "cell_type": "markdown",
   "metadata": {},
   "source": [
    "**Описание данных**\n",
    "\n",
    "***Признаки:***\n",
    "- RowNumber — индекс строки в данных\n",
    "- CustomerId — уникальный идентификатор клиента\n",
    "- Surname — фамилия\n",
    "- CreditScore — кредитный рейтинг\n",
    "- Geography — страна проживания\n",
    "- Gender — пол\n",
    "- Age — возраст\n",
    "- Tenure — количество недвижимости у клиента\n",
    "- Balance — баланс на счёте\n",
    "- NumOfProducts — количество продуктов банка, используемых клиентом\n",
    "- HasCrCard — наличие кредитной карты\n",
    "- IsActiveMember — активность клиента\n",
    "- EstimatedSalary — предполагаемая зарплата  \n",
    "\n",
    "***Целевой признак:***\n",
    "- Exited — факт ухода клиента"
   ]
  },
  {
   "cell_type": "markdown",
   "metadata": {},
   "source": [
    "<a id=\"data_preparation\"></a>\n",
    "# 1. Подготовка данных"
   ]
  },
  {
   "cell_type": "markdown",
   "metadata": {},
   "source": [
    "#### Изучим файл с данными"
   ]
  },
  {
   "cell_type": "code",
   "execution_count": 1,
   "metadata": {},
   "outputs": [],
   "source": [
    "import pandas as pd\n",
    "import matplotlib.pyplot as plt\n",
    "from sklearn.preprocessing import OrdinalEncoder\n",
    "from sklearn.preprocessing import StandardScaler\n",
    "from sklearn.model_selection import train_test_split\n",
    "from sklearn.linear_model import LogisticRegression\n",
    "from sklearn.ensemble import RandomForestClassifier\n",
    "from sklearn.metrics import mean_absolute_error\n",
    "from sklearn.metrics import accuracy_score\n",
    "from sklearn.metrics import confusion_matrix\n",
    "from sklearn.metrics import precision_score, recall_score\n",
    "from sklearn.metrics import classification_report\n",
    "from sklearn.metrics import precision_recall_curve\n",
    "from sklearn.metrics import f1_score\n",
    "from sklearn.metrics import roc_auc_score\n",
    "from sklearn.metrics import roc_curve\n",
    "from sklearn.utils import shuffle\n",
    "from sklearn.model_selection import GridSearchCV\n",
    "from sklearn.dummy import DummyClassifier\n",
    "import matplotlib.pyplot as plt\n",
    "import warnings\n",
    "import warnings\n",
    "warnings.filterwarnings(\"ignore\")"
   ]
  },
  {
   "cell_type": "code",
   "execution_count": 2,
   "metadata": {},
   "outputs": [],
   "source": [
    "df = pd.read_csv('/datasets/Churn.csv')"
   ]
  },
  {
   "cell_type": "code",
   "execution_count": 3,
   "metadata": {},
   "outputs": [
    {
     "data": {
      "text/html": [
       "<div>\n",
       "<style scoped>\n",
       "    .dataframe tbody tr th:only-of-type {\n",
       "        vertical-align: middle;\n",
       "    }\n",
       "\n",
       "    .dataframe tbody tr th {\n",
       "        vertical-align: top;\n",
       "    }\n",
       "\n",
       "    .dataframe thead th {\n",
       "        text-align: right;\n",
       "    }\n",
       "</style>\n",
       "<table border=\"1\" class=\"dataframe\">\n",
       "  <thead>\n",
       "    <tr style=\"text-align: right;\">\n",
       "      <th></th>\n",
       "      <th>RowNumber</th>\n",
       "      <th>CustomerId</th>\n",
       "      <th>Surname</th>\n",
       "      <th>CreditScore</th>\n",
       "      <th>Geography</th>\n",
       "      <th>Gender</th>\n",
       "      <th>Age</th>\n",
       "      <th>Tenure</th>\n",
       "      <th>Balance</th>\n",
       "      <th>NumOfProducts</th>\n",
       "      <th>HasCrCard</th>\n",
       "      <th>IsActiveMember</th>\n",
       "      <th>EstimatedSalary</th>\n",
       "      <th>Exited</th>\n",
       "    </tr>\n",
       "  </thead>\n",
       "  <tbody>\n",
       "    <tr>\n",
       "      <td>0</td>\n",
       "      <td>1</td>\n",
       "      <td>15634602</td>\n",
       "      <td>Hargrave</td>\n",
       "      <td>619</td>\n",
       "      <td>France</td>\n",
       "      <td>Female</td>\n",
       "      <td>42</td>\n",
       "      <td>2.0</td>\n",
       "      <td>0.00</td>\n",
       "      <td>1</td>\n",
       "      <td>1</td>\n",
       "      <td>1</td>\n",
       "      <td>101348.88</td>\n",
       "      <td>1</td>\n",
       "    </tr>\n",
       "    <tr>\n",
       "      <td>1</td>\n",
       "      <td>2</td>\n",
       "      <td>15647311</td>\n",
       "      <td>Hill</td>\n",
       "      <td>608</td>\n",
       "      <td>Spain</td>\n",
       "      <td>Female</td>\n",
       "      <td>41</td>\n",
       "      <td>1.0</td>\n",
       "      <td>83807.86</td>\n",
       "      <td>1</td>\n",
       "      <td>0</td>\n",
       "      <td>1</td>\n",
       "      <td>112542.58</td>\n",
       "      <td>0</td>\n",
       "    </tr>\n",
       "    <tr>\n",
       "      <td>2</td>\n",
       "      <td>3</td>\n",
       "      <td>15619304</td>\n",
       "      <td>Onio</td>\n",
       "      <td>502</td>\n",
       "      <td>France</td>\n",
       "      <td>Female</td>\n",
       "      <td>42</td>\n",
       "      <td>8.0</td>\n",
       "      <td>159660.80</td>\n",
       "      <td>3</td>\n",
       "      <td>1</td>\n",
       "      <td>0</td>\n",
       "      <td>113931.57</td>\n",
       "      <td>1</td>\n",
       "    </tr>\n",
       "    <tr>\n",
       "      <td>3</td>\n",
       "      <td>4</td>\n",
       "      <td>15701354</td>\n",
       "      <td>Boni</td>\n",
       "      <td>699</td>\n",
       "      <td>France</td>\n",
       "      <td>Female</td>\n",
       "      <td>39</td>\n",
       "      <td>1.0</td>\n",
       "      <td>0.00</td>\n",
       "      <td>2</td>\n",
       "      <td>0</td>\n",
       "      <td>0</td>\n",
       "      <td>93826.63</td>\n",
       "      <td>0</td>\n",
       "    </tr>\n",
       "    <tr>\n",
       "      <td>4</td>\n",
       "      <td>5</td>\n",
       "      <td>15737888</td>\n",
       "      <td>Mitchell</td>\n",
       "      <td>850</td>\n",
       "      <td>Spain</td>\n",
       "      <td>Female</td>\n",
       "      <td>43</td>\n",
       "      <td>2.0</td>\n",
       "      <td>125510.82</td>\n",
       "      <td>1</td>\n",
       "      <td>1</td>\n",
       "      <td>1</td>\n",
       "      <td>79084.10</td>\n",
       "      <td>0</td>\n",
       "    </tr>\n",
       "  </tbody>\n",
       "</table>\n",
       "</div>"
      ],
      "text/plain": [
       "   RowNumber  CustomerId   Surname  CreditScore Geography  Gender  Age  \\\n",
       "0          1    15634602  Hargrave          619    France  Female   42   \n",
       "1          2    15647311      Hill          608     Spain  Female   41   \n",
       "2          3    15619304      Onio          502    France  Female   42   \n",
       "3          4    15701354      Boni          699    France  Female   39   \n",
       "4          5    15737888  Mitchell          850     Spain  Female   43   \n",
       "\n",
       "   Tenure    Balance  NumOfProducts  HasCrCard  IsActiveMember  \\\n",
       "0     2.0       0.00              1          1               1   \n",
       "1     1.0   83807.86              1          0               1   \n",
       "2     8.0  159660.80              3          1               0   \n",
       "3     1.0       0.00              2          0               0   \n",
       "4     2.0  125510.82              1          1               1   \n",
       "\n",
       "   EstimatedSalary  Exited  \n",
       "0        101348.88       1  \n",
       "1        112542.58       0  \n",
       "2        113931.57       1  \n",
       "3         93826.63       0  \n",
       "4         79084.10       0  "
      ]
     },
     "execution_count": 3,
     "metadata": {},
     "output_type": "execute_result"
    }
   ],
   "source": [
    "df.head()"
   ]
  },
  {
   "cell_type": "code",
   "execution_count": 4,
   "metadata": {},
   "outputs": [
    {
     "name": "stdout",
     "output_type": "stream",
     "text": [
      "<class 'pandas.core.frame.DataFrame'>\n",
      "RangeIndex: 10000 entries, 0 to 9999\n",
      "Data columns (total 14 columns):\n",
      "RowNumber          10000 non-null int64\n",
      "CustomerId         10000 non-null int64\n",
      "Surname            10000 non-null object\n",
      "CreditScore        10000 non-null int64\n",
      "Geography          10000 non-null object\n",
      "Gender             10000 non-null object\n",
      "Age                10000 non-null int64\n",
      "Tenure             9091 non-null float64\n",
      "Balance            10000 non-null float64\n",
      "NumOfProducts      10000 non-null int64\n",
      "HasCrCard          10000 non-null int64\n",
      "IsActiveMember     10000 non-null int64\n",
      "EstimatedSalary    10000 non-null float64\n",
      "Exited             10000 non-null int64\n",
      "dtypes: float64(3), int64(8), object(3)\n",
      "memory usage: 1.1+ MB\n"
     ]
    }
   ],
   "source": [
    "df.info()"
   ]
  },
  {
   "cell_type": "code",
   "execution_count": 5,
   "metadata": {},
   "outputs": [],
   "source": [
    "df = df.fillna(df['Tenure'].mean().astype('int'))"
   ]
  },
  {
   "cell_type": "code",
   "execution_count": 6,
   "metadata": {},
   "outputs": [
    {
     "data": {
      "text/plain": [
       "RowNumber          0\n",
       "CustomerId         0\n",
       "Surname            0\n",
       "CreditScore        0\n",
       "Geography          0\n",
       "Gender             0\n",
       "Age                0\n",
       "Tenure             0\n",
       "Balance            0\n",
       "NumOfProducts      0\n",
       "HasCrCard          0\n",
       "IsActiveMember     0\n",
       "EstimatedSalary    0\n",
       "Exited             0\n",
       "dtype: int64"
      ]
     },
     "execution_count": 6,
     "metadata": {},
     "output_type": "execute_result"
    }
   ],
   "source": [
    "df.isna().sum()"
   ]
  },
  {
   "cell_type": "code",
   "execution_count": 7,
   "metadata": {
    "scrolled": true
   },
   "outputs": [
    {
     "data": {
      "text/plain": [
       "RowNumber            int64\n",
       "CustomerId           int64\n",
       "Surname             object\n",
       "CreditScore          int64\n",
       "Geography           object\n",
       "Gender              object\n",
       "Age                  int64\n",
       "Tenure             float64\n",
       "Balance            float64\n",
       "NumOfProducts        int64\n",
       "HasCrCard            int64\n",
       "IsActiveMember       int64\n",
       "EstimatedSalary    float64\n",
       "Exited               int64\n",
       "dtype: object"
      ]
     },
     "execution_count": 7,
     "metadata": {},
     "output_type": "execute_result"
    }
   ],
   "source": [
    "df.dtypes"
   ]
  },
  {
   "cell_type": "code",
   "execution_count": 8,
   "metadata": {},
   "outputs": [
    {
     "data": {
      "text/plain": [
       "0"
      ]
     },
     "execution_count": 8,
     "metadata": {},
     "output_type": "execute_result"
    }
   ],
   "source": [
    "df.duplicated().sum()"
   ]
  },
  {
   "cell_type": "code",
   "execution_count": 9,
   "metadata": {
    "scrolled": true
   },
   "outputs": [
    {
     "data": {
      "text/html": [
       "<div>\n",
       "<style scoped>\n",
       "    .dataframe tbody tr th:only-of-type {\n",
       "        vertical-align: middle;\n",
       "    }\n",
       "\n",
       "    .dataframe tbody tr th {\n",
       "        vertical-align: top;\n",
       "    }\n",
       "\n",
       "    .dataframe thead th {\n",
       "        text-align: right;\n",
       "    }\n",
       "</style>\n",
       "<table border=\"1\" class=\"dataframe\">\n",
       "  <thead>\n",
       "    <tr style=\"text-align: right;\">\n",
       "      <th></th>\n",
       "      <th>RowNumber</th>\n",
       "      <th>CustomerId</th>\n",
       "      <th>CreditScore</th>\n",
       "      <th>Age</th>\n",
       "      <th>Tenure</th>\n",
       "      <th>Balance</th>\n",
       "      <th>NumOfProducts</th>\n",
       "      <th>HasCrCard</th>\n",
       "      <th>IsActiveMember</th>\n",
       "      <th>EstimatedSalary</th>\n",
       "      <th>Exited</th>\n",
       "    </tr>\n",
       "  </thead>\n",
       "  <tbody>\n",
       "    <tr>\n",
       "      <td>count</td>\n",
       "      <td>10000.00000</td>\n",
       "      <td>1.000000e+04</td>\n",
       "      <td>10000.000000</td>\n",
       "      <td>10000.000000</td>\n",
       "      <td>10000.000000</td>\n",
       "      <td>10000.000000</td>\n",
       "      <td>10000.000000</td>\n",
       "      <td>10000.00000</td>\n",
       "      <td>10000.000000</td>\n",
       "      <td>10000.000000</td>\n",
       "      <td>10000.000000</td>\n",
       "    </tr>\n",
       "    <tr>\n",
       "      <td>mean</td>\n",
       "      <td>5000.50000</td>\n",
       "      <td>1.569094e+07</td>\n",
       "      <td>650.528800</td>\n",
       "      <td>38.921800</td>\n",
       "      <td>4.907000</td>\n",
       "      <td>76485.889288</td>\n",
       "      <td>1.530200</td>\n",
       "      <td>0.70550</td>\n",
       "      <td>0.515100</td>\n",
       "      <td>100090.239881</td>\n",
       "      <td>0.203700</td>\n",
       "    </tr>\n",
       "    <tr>\n",
       "      <td>std</td>\n",
       "      <td>2886.89568</td>\n",
       "      <td>7.193619e+04</td>\n",
       "      <td>96.653299</td>\n",
       "      <td>10.487806</td>\n",
       "      <td>2.774873</td>\n",
       "      <td>62397.405202</td>\n",
       "      <td>0.581654</td>\n",
       "      <td>0.45584</td>\n",
       "      <td>0.499797</td>\n",
       "      <td>57510.492818</td>\n",
       "      <td>0.402769</td>\n",
       "    </tr>\n",
       "    <tr>\n",
       "      <td>min</td>\n",
       "      <td>1.00000</td>\n",
       "      <td>1.556570e+07</td>\n",
       "      <td>350.000000</td>\n",
       "      <td>18.000000</td>\n",
       "      <td>0.000000</td>\n",
       "      <td>0.000000</td>\n",
       "      <td>1.000000</td>\n",
       "      <td>0.00000</td>\n",
       "      <td>0.000000</td>\n",
       "      <td>11.580000</td>\n",
       "      <td>0.000000</td>\n",
       "    </tr>\n",
       "    <tr>\n",
       "      <td>25%</td>\n",
       "      <td>2500.75000</td>\n",
       "      <td>1.562853e+07</td>\n",
       "      <td>584.000000</td>\n",
       "      <td>32.000000</td>\n",
       "      <td>3.000000</td>\n",
       "      <td>0.000000</td>\n",
       "      <td>1.000000</td>\n",
       "      <td>0.00000</td>\n",
       "      <td>0.000000</td>\n",
       "      <td>51002.110000</td>\n",
       "      <td>0.000000</td>\n",
       "    </tr>\n",
       "    <tr>\n",
       "      <td>50%</td>\n",
       "      <td>5000.50000</td>\n",
       "      <td>1.569074e+07</td>\n",
       "      <td>652.000000</td>\n",
       "      <td>37.000000</td>\n",
       "      <td>4.000000</td>\n",
       "      <td>97198.540000</td>\n",
       "      <td>1.000000</td>\n",
       "      <td>1.00000</td>\n",
       "      <td>1.000000</td>\n",
       "      <td>100193.915000</td>\n",
       "      <td>0.000000</td>\n",
       "    </tr>\n",
       "    <tr>\n",
       "      <td>75%</td>\n",
       "      <td>7500.25000</td>\n",
       "      <td>1.575323e+07</td>\n",
       "      <td>718.000000</td>\n",
       "      <td>44.000000</td>\n",
       "      <td>7.000000</td>\n",
       "      <td>127644.240000</td>\n",
       "      <td>2.000000</td>\n",
       "      <td>1.00000</td>\n",
       "      <td>1.000000</td>\n",
       "      <td>149388.247500</td>\n",
       "      <td>0.000000</td>\n",
       "    </tr>\n",
       "    <tr>\n",
       "      <td>max</td>\n",
       "      <td>10000.00000</td>\n",
       "      <td>1.581569e+07</td>\n",
       "      <td>850.000000</td>\n",
       "      <td>92.000000</td>\n",
       "      <td>10.000000</td>\n",
       "      <td>250898.090000</td>\n",
       "      <td>4.000000</td>\n",
       "      <td>1.00000</td>\n",
       "      <td>1.000000</td>\n",
       "      <td>199992.480000</td>\n",
       "      <td>1.000000</td>\n",
       "    </tr>\n",
       "  </tbody>\n",
       "</table>\n",
       "</div>"
      ],
      "text/plain": [
       "         RowNumber    CustomerId   CreditScore           Age        Tenure  \\\n",
       "count  10000.00000  1.000000e+04  10000.000000  10000.000000  10000.000000   \n",
       "mean    5000.50000  1.569094e+07    650.528800     38.921800      4.907000   \n",
       "std     2886.89568  7.193619e+04     96.653299     10.487806      2.774873   \n",
       "min        1.00000  1.556570e+07    350.000000     18.000000      0.000000   \n",
       "25%     2500.75000  1.562853e+07    584.000000     32.000000      3.000000   \n",
       "50%     5000.50000  1.569074e+07    652.000000     37.000000      4.000000   \n",
       "75%     7500.25000  1.575323e+07    718.000000     44.000000      7.000000   \n",
       "max    10000.00000  1.581569e+07    850.000000     92.000000     10.000000   \n",
       "\n",
       "             Balance  NumOfProducts    HasCrCard  IsActiveMember  \\\n",
       "count   10000.000000   10000.000000  10000.00000    10000.000000   \n",
       "mean    76485.889288       1.530200      0.70550        0.515100   \n",
       "std     62397.405202       0.581654      0.45584        0.499797   \n",
       "min         0.000000       1.000000      0.00000        0.000000   \n",
       "25%         0.000000       1.000000      0.00000        0.000000   \n",
       "50%     97198.540000       1.000000      1.00000        1.000000   \n",
       "75%    127644.240000       2.000000      1.00000        1.000000   \n",
       "max    250898.090000       4.000000      1.00000        1.000000   \n",
       "\n",
       "       EstimatedSalary        Exited  \n",
       "count     10000.000000  10000.000000  \n",
       "mean     100090.239881      0.203700  \n",
       "std       57510.492818      0.402769  \n",
       "min          11.580000      0.000000  \n",
       "25%       51002.110000      0.000000  \n",
       "50%      100193.915000      0.000000  \n",
       "75%      149388.247500      0.000000  \n",
       "max      199992.480000      1.000000  "
      ]
     },
     "execution_count": 9,
     "metadata": {},
     "output_type": "execute_result"
    }
   ],
   "source": [
    "df.describe()"
   ]
  },
  {
   "cell_type": "markdown",
   "metadata": {},
   "source": [
    "#### Подготовим данные к обучению"
   ]
  },
  {
   "cell_type": "markdown",
   "metadata": {},
   "source": [
    "Преобразуем категориальные признаки в численные, методом прямого кодирования (One-Hot Encoding, OHE):"
   ]
  },
  {
   "cell_type": "code",
   "execution_count": 10,
   "metadata": {},
   "outputs": [],
   "source": [
    "df_ohe = pd.get_dummies(df, columns = ['Geography','Gender'], drop_first=True)\n",
    "target = df_ohe['Exited']\n",
    "features = df_ohe.drop(['Exited','RowNumber', 'CustomerId', 'Surname'], axis=1)"
   ]
  },
  {
   "cell_type": "markdown",
   "metadata": {},
   "source": [
    "Разобъем данные на тестовую, валидационную, обучающую и масштабируем признаки методом **Standard Scaler**:"
   ]
  },
  {
   "cell_type": "code",
   "execution_count": 11,
   "metadata": {},
   "outputs": [],
   "source": [
    "features_train, features_test, target_train, target_test = train_test_split(\n",
    "    features, target, test_size=0.20, random_state=12345, stratify=target)\n"
   ]
  },
  {
   "cell_type": "code",
   "execution_count": 12,
   "metadata": {},
   "outputs": [
    {
     "name": "stdout",
     "output_type": "stream",
     "text": [
      "(10000, 11)\n",
      "(8000, 11)\n",
      "(2000, 11)\n"
     ]
    }
   ],
   "source": [
    "print(features.shape)\n",
    "print(features_train.shape)\n",
    "print(features_test.shape)"
   ]
  },
  {
   "cell_type": "code",
   "execution_count": 13,
   "metadata": {},
   "outputs": [],
   "source": [
    "features_train, features_valid, target_train, target_valid = train_test_split(\n",
    "    features_train, target_train, test_size=0.25, random_state=12345, stratify=target_train)\n"
   ]
  },
  {
   "cell_type": "code",
   "execution_count": 14,
   "metadata": {},
   "outputs": [],
   "source": [
    "numeric = ['CreditScore', 'Age', 'Tenure','Balance', \n",
    "           'NumOfProducts', 'EstimatedSalary']\n",
    "\n",
    "scaler = StandardScaler()\n",
    "scaler.fit(features_train[numeric])\n",
    "features_train[numeric] = scaler.transform(features_train[numeric])\n",
    "features_valid[numeric] = scaler.transform(features_valid[numeric])\n",
    "features_test[numeric] = scaler.transform(features_test[numeric])"
   ]
  },
  {
   "cell_type": "code",
   "execution_count": 15,
   "metadata": {},
   "outputs": [
    {
     "data": {
      "text/html": [
       "<div>\n",
       "<style scoped>\n",
       "    .dataframe tbody tr th:only-of-type {\n",
       "        vertical-align: middle;\n",
       "    }\n",
       "\n",
       "    .dataframe tbody tr th {\n",
       "        vertical-align: top;\n",
       "    }\n",
       "\n",
       "    .dataframe thead th {\n",
       "        text-align: right;\n",
       "    }\n",
       "</style>\n",
       "<table border=\"1\" class=\"dataframe\">\n",
       "  <thead>\n",
       "    <tr style=\"text-align: right;\">\n",
       "      <th></th>\n",
       "      <th>CreditScore</th>\n",
       "      <th>Age</th>\n",
       "      <th>Tenure</th>\n",
       "      <th>Balance</th>\n",
       "      <th>NumOfProducts</th>\n",
       "      <th>HasCrCard</th>\n",
       "      <th>IsActiveMember</th>\n",
       "      <th>EstimatedSalary</th>\n",
       "      <th>Geography_Germany</th>\n",
       "      <th>Geography_Spain</th>\n",
       "      <th>Gender_Male</th>\n",
       "    </tr>\n",
       "  </thead>\n",
       "  <tbody>\n",
       "    <tr>\n",
       "      <td>5536</td>\n",
       "      <td>-0.143332</td>\n",
       "      <td>0.577533</td>\n",
       "      <td>-0.329033</td>\n",
       "      <td>-1.220573</td>\n",
       "      <td>0.797767</td>\n",
       "      <td>1</td>\n",
       "      <td>1</td>\n",
       "      <td>1.029613</td>\n",
       "      <td>0</td>\n",
       "      <td>1</td>\n",
       "      <td>1</td>\n",
       "    </tr>\n",
       "    <tr>\n",
       "      <td>8530</td>\n",
       "      <td>1.632702</td>\n",
       "      <td>-0.564119</td>\n",
       "      <td>-1.052713</td>\n",
       "      <td>0.435807</td>\n",
       "      <td>-0.916018</td>\n",
       "      <td>1</td>\n",
       "      <td>0</td>\n",
       "      <td>0.237986</td>\n",
       "      <td>0</td>\n",
       "      <td>0</td>\n",
       "      <td>0</td>\n",
       "    </tr>\n",
       "    <tr>\n",
       "      <td>1762</td>\n",
       "      <td>1.116413</td>\n",
       "      <td>-0.468981</td>\n",
       "      <td>-1.414553</td>\n",
       "      <td>1.245822</td>\n",
       "      <td>-0.916018</td>\n",
       "      <td>1</td>\n",
       "      <td>1</td>\n",
       "      <td>-0.686104</td>\n",
       "      <td>0</td>\n",
       "      <td>0</td>\n",
       "      <td>0</td>\n",
       "    </tr>\n",
       "    <tr>\n",
       "      <td>9090</td>\n",
       "      <td>1.643028</td>\n",
       "      <td>0.006707</td>\n",
       "      <td>0.032807</td>\n",
       "      <td>-1.220573</td>\n",
       "      <td>-0.916018</td>\n",
       "      <td>1</td>\n",
       "      <td>0</td>\n",
       "      <td>-0.391097</td>\n",
       "      <td>0</td>\n",
       "      <td>0</td>\n",
       "      <td>0</td>\n",
       "    </tr>\n",
       "    <tr>\n",
       "      <td>8777</td>\n",
       "      <td>-0.484083</td>\n",
       "      <td>-1.420358</td>\n",
       "      <td>-1.414553</td>\n",
       "      <td>1.421989</td>\n",
       "      <td>0.797767</td>\n",
       "      <td>1</td>\n",
       "      <td>0</td>\n",
       "      <td>-1.361559</td>\n",
       "      <td>0</td>\n",
       "      <td>1</td>\n",
       "      <td>1</td>\n",
       "    </tr>\n",
       "  </tbody>\n",
       "</table>\n",
       "</div>"
      ],
      "text/plain": [
       "      CreditScore       Age    Tenure   Balance  NumOfProducts  HasCrCard  \\\n",
       "5536    -0.143332  0.577533 -0.329033 -1.220573       0.797767          1   \n",
       "8530     1.632702 -0.564119 -1.052713  0.435807      -0.916018          1   \n",
       "1762     1.116413 -0.468981 -1.414553  1.245822      -0.916018          1   \n",
       "9090     1.643028  0.006707  0.032807 -1.220573      -0.916018          1   \n",
       "8777    -0.484083 -1.420358 -1.414553  1.421989       0.797767          1   \n",
       "\n",
       "      IsActiveMember  EstimatedSalary  Geography_Germany  Geography_Spain  \\\n",
       "5536               1         1.029613                  0                1   \n",
       "8530               0         0.237986                  0                0   \n",
       "1762               1        -0.686104                  0                0   \n",
       "9090               0        -0.391097                  0                0   \n",
       "8777               0        -1.361559                  0                1   \n",
       "\n",
       "      Gender_Male  \n",
       "5536            1  \n",
       "8530            0  \n",
       "1762            0  \n",
       "9090            0  \n",
       "8777            1  "
      ]
     },
     "execution_count": 15,
     "metadata": {},
     "output_type": "execute_result"
    }
   ],
   "source": [
    "features_train.head()"
   ]
  },
  {
   "cell_type": "markdown",
   "metadata": {},
   "source": [
    "Проведем проверку корректности разбиения данных:"
   ]
  },
  {
   "cell_type": "code",
   "execution_count": 16,
   "metadata": {},
   "outputs": [
    {
     "data": {
      "text/plain": [
       "(2000, 11)"
      ]
     },
     "execution_count": 16,
     "metadata": {},
     "output_type": "execute_result"
    }
   ],
   "source": [
    "features_valid.shape"
   ]
  },
  {
   "cell_type": "code",
   "execution_count": 17,
   "metadata": {},
   "outputs": [
    {
     "data": {
      "text/plain": [
       "(6000, 11)"
      ]
     },
     "execution_count": 17,
     "metadata": {},
     "output_type": "execute_result"
    }
   ],
   "source": [
    "features_train.shape"
   ]
  },
  {
   "cell_type": "code",
   "execution_count": 18,
   "metadata": {},
   "outputs": [
    {
     "data": {
      "text/plain": [
       "(2000, 11)"
      ]
     },
     "execution_count": 18,
     "metadata": {},
     "output_type": "execute_result"
    }
   ],
   "source": [
    "features_test.shape"
   ]
  },
  {
   "cell_type": "code",
   "execution_count": 19,
   "metadata": {},
   "outputs": [
    {
     "data": {
      "text/plain": [
       "(10000, 11)"
      ]
     },
     "execution_count": 19,
     "metadata": {},
     "output_type": "execute_result"
    }
   ],
   "source": [
    "(features_train + features_valid + features_test).shape"
   ]
  },
  {
   "cell_type": "markdown",
   "metadata": {},
   "source": [
    "### Вывод"
   ]
  },
  {
   "cell_type": "markdown",
   "metadata": {},
   "source": [
    "В таблице с данными 10000 строк и 14 столбцов.  \n",
    "\n",
    "Дубликаты отсутствуют.  \n",
    "\n",
    "Присутствуют 909 пропусков в столбце **Tenure — количество недвижимости у клиента**. Пропуск может говорить нам о том, что клиент возможно не захотел сообщить о количестве своей недвижимости, либо она отсутствует. Пропуски заполнены средним значением.\n",
    "\n",
    "\n",
    "**Проведена подготовка данных к машинному обучению:**\n",
    "1. Категориальные признаки преобразованы в численные, методом прямого кодирования (One-Hot Encoding, OHE). \n",
    "2. Данные разбиты на тестовую, валидационную и обучающую выборку, в соотношении 1:1:3.\n",
    "3. Выполнено масштабирование признаков, методом стандартизации данных  - ***StandardScaler***. \n",
    "4. Удалены столбцы (***RowNumber, CustomerId, Surname***), которые могут повлиять на обучение модели.\n",
    "\n",
    "Итоговые размер таблицы даных - 10000 строк, 11 столбцов."
   ]
  },
  {
   "cell_type": "markdown",
   "metadata": {},
   "source": [
    "<a id=\"research\"></a>\n",
    "# 2. Исследование задачи"
   ]
  },
  {
   "cell_type": "markdown",
   "metadata": {},
   "source": [
    "Целевой признак является **категориальным и двоичным(значение 0 или 1)**, следовательно решается задача *бинарной классификации*.  \n",
    "Выберем модели работающие с задачами классификации:  \n",
    "1. Логистическая регрессия (*LogisticRegression*).\n",
    "2. Случайный лес (*RandomForestClassifier*)."
   ]
  },
  {
   "cell_type": "code",
   "execution_count": 20,
   "metadata": {},
   "outputs": [
    {
     "data": {
      "text/plain": [
       "0.20383333333333334"
      ]
     },
     "execution_count": 20,
     "metadata": {},
     "output_type": "execute_result"
    }
   ],
   "source": [
    "target_train.mean()"
   ]
  },
  {
   "cell_type": "markdown",
   "metadata": {},
   "source": [
    "Данные несбаласированны, т.к. доля значений положительного класса составляет 20%."
   ]
  },
  {
   "cell_type": "markdown",
   "metadata": {},
   "source": [
    "#### Построение моделей и подбор гиперпараметров"
   ]
  },
  {
   "cell_type": "markdown",
   "metadata": {},
   "source": [
    "Для начала построим модели без учета дисбаланса классов, сравним метрики и подберем гиперпараметры моделей."
   ]
  },
  {
   "cell_type": "markdown",
   "metadata": {},
   "source": [
    "**Логистическая регрессия**"
   ]
  },
  {
   "cell_type": "code",
   "execution_count": 21,
   "metadata": {},
   "outputs": [],
   "source": [
    "#Создание сетки гиперпараметров\n",
    "parametrs = {'C': [0.1, 0.2, 1, 1.1, 10, 50, 100],\n",
    "            \"penalty\":[\"l1\",\"l2\"]\n",
    "}"
   ]
  },
  {
   "cell_type": "code",
   "execution_count": 22,
   "metadata": {},
   "outputs": [
    {
     "data": {
      "text/plain": [
       "{'C': 0.1, 'penalty': 'l1'}"
      ]
     },
     "execution_count": 22,
     "metadata": {},
     "output_type": "execute_result"
    }
   ],
   "source": [
    "lr = LogisticRegression(random_state=12345)\n",
    "grid = GridSearchCV(lr, parametrs, cv=5)\n",
    "grid.fit(features_train, target_train)\n",
    "grid.best_params_"
   ]
  },
  {
   "cell_type": "code",
   "execution_count": 23,
   "metadata": {},
   "outputs": [
    {
     "name": "stdout",
     "output_type": "stream",
     "text": [
      "Accuracy: 0.819\n",
      "AUC-ROC: 0.7880129744536525\n",
      "F1-score: 0.311787072243346\n"
     ]
    }
   ],
   "source": [
    "lr = LogisticRegression(random_state=12345, C=0.1, penalty='l1')\n",
    "lr.fit(features_train, target_train)\n",
    "predicted_valid_lr = lr.predict(features_valid)\n",
    "result_lr = lr.score(features_valid, target_valid)\n",
    "f1 = f1_score(target_valid, predicted_valid_lr)\n",
    "probabilities_valid = lr.predict_proba(features_valid)\n",
    "probabilities_one_valid = probabilities_valid[:, 1]\n",
    "auc_roc = roc_auc_score(target_valid, probabilities_one_valid)\n",
    "print('Accuracy:', result_lr)\n",
    "print('AUC-ROC:', auc_roc)\n",
    "print('F1-score:', f1)"
   ]
  },
  {
   "cell_type": "code",
   "execution_count": 24,
   "metadata": {},
   "outputs": [],
   "source": [
    "#Создадим функццию печати результатов\n",
    "def print_result(accuracy, auc_roc, f1_score):\n",
    "    print('Accuracy:', accuracy)\n",
    "    print('AUC-ROC:', auc_roc)\n",
    "    print('F1-score:', f1_score)"
   ]
  },
  {
   "cell_type": "markdown",
   "metadata": {},
   "source": [
    "**Случайный лес**"
   ]
  },
  {
   "cell_type": "code",
   "execution_count": 25,
   "metadata": {},
   "outputs": [
    {
     "name": "stdout",
     "output_type": "stream",
     "text": [
      "Max_depth: 14\n",
      "N_estimators: 30\n",
      "Accuracy: 0.867\n",
      "AUC-ROC: 0.8477537630080003\n",
      "F1-score: 0.5920245398773006\n",
      "CPU times: user 26.1 s, sys: 0 ns, total: 26.1 s\n",
      "Wall time: 26.3 s\n"
     ]
    }
   ],
   "source": [
    "%%time\n",
    "best_result = 0\n",
    "for depth in range(1, 16, 1):\n",
    "    for est in range(5, 50, 5):\n",
    "        rfc = RandomForestClassifier(max_depth=depth, n_estimators=est, random_state=12345)\n",
    "        rfc.fit(features_train, target_train)\n",
    "        result_rfc = rfc.score(features_valid, target_valid)\n",
    "        predicted_valid = rfc.predict(features_valid)\n",
    "        f1_rfc = f1_score(target_valid, predicted_valid)\n",
    "        probabilities_valid = rfc.predict_proba(features_valid)\n",
    "        probabilities_one_valid = probabilities_valid[:, 1]\n",
    "        auc_roc_rfc = roc_auc_score(target_valid, probabilities_one_valid)\n",
    "        if result_rfc > best_result:\n",
    "            best_result = result_rfc\n",
    "            best_depth = depth\n",
    "            best_est = est\n",
    "            best_auc_roc = auc_roc_rfc\n",
    "            best_f1 = f1_rfc\n",
    "\n",
    "\n",
    "\n",
    "print('Max_depth:', best_depth)\n",
    "print('N_estimators:', best_est)\n",
    "print_result(best_result, best_auc_roc, best_f1)"
   ]
  },
  {
   "cell_type": "markdown",
   "metadata": {},
   "source": [
    "#### Отдельно выведем значение метрик для каждой модели"
   ]
  },
  {
   "cell_type": "code",
   "execution_count": 26,
   "metadata": {},
   "outputs": [
    {
     "data": {
      "text/html": [
       "<div>\n",
       "<style scoped>\n",
       "    .dataframe tbody tr th:only-of-type {\n",
       "        vertical-align: middle;\n",
       "    }\n",
       "\n",
       "    .dataframe tbody tr th {\n",
       "        vertical-align: top;\n",
       "    }\n",
       "\n",
       "    .dataframe thead th {\n",
       "        text-align: right;\n",
       "    }\n",
       "</style>\n",
       "<table border=\"1\" class=\"dataframe\">\n",
       "  <thead>\n",
       "    <tr style=\"text-align: right;\">\n",
       "      <th></th>\n",
       "      <th>Balanced</th>\n",
       "      <th>Accuracy</th>\n",
       "      <th>AUC-ROC</th>\n",
       "      <th>F1-score</th>\n",
       "    </tr>\n",
       "  </thead>\n",
       "  <tbody>\n",
       "    <tr>\n",
       "      <td>Логистическая регрессия</td>\n",
       "      <td>1.Несбалансированный</td>\n",
       "      <td>0.819</td>\n",
       "      <td>0.788013</td>\n",
       "      <td>0.311787</td>\n",
       "    </tr>\n",
       "    <tr>\n",
       "      <td>Случайный лес</td>\n",
       "      <td>1.Несбалансированный</td>\n",
       "      <td>0.867</td>\n",
       "      <td>0.847754</td>\n",
       "      <td>0.592025</td>\n",
       "    </tr>\n",
       "  </tbody>\n",
       "</table>\n",
       "</div>"
      ],
      "text/plain": [
       "                                     Balanced  Accuracy   AUC-ROC  F1-score\n",
       "Логистическая регрессия  1.Несбалансированный     0.819  0.788013  0.311787\n",
       "Случайный лес            1.Несбалансированный     0.867  0.847754  0.592025"
      ]
     },
     "execution_count": 26,
     "metadata": {},
     "output_type": "execute_result"
    }
   ],
   "source": [
    "none_balance = {'Balanced':'1.Несбалансированный', \n",
    "                'Accuracy':(result_lr, best_result), \n",
    "                'AUC-ROC':(auc_roc, best_auc_roc), \n",
    "                'F1-score':(f1, best_f1)}\n",
    "none_balance = pd.DataFrame(none_balance, index=('Логистическая регрессия', 'Случайный лес'))\n",
    "none_balance"
   ]
  },
  {
   "cell_type": "markdown",
   "metadata": {},
   "source": [
    "### Вывод"
   ]
  },
  {
   "cell_type": "markdown",
   "metadata": {},
   "source": [
    "Лучшие результаты показала модель построенная по алгортму машинного обучения ***Случайный лес (Random forest)***.  \n",
    "Наиболее оптимальные гиперпараметры для модели ***Случайный лес***:\n",
    "- макисимальная глубина деревьев (max_depth) - 14, \n",
    "- количество деревьев (n_estimators) - 30."
   ]
  },
  {
   "cell_type": "markdown",
   "metadata": {},
   "source": [
    "<a id=\"dealing_imbalance\"></a>\n",
    "# 3. Борьба с дисбалансом"
   ]
  },
  {
   "cell_type": "markdown",
   "metadata": {},
   "source": [
    "#### Вариант 1. Увеличение выборки - техника *upsampling*"
   ]
  },
  {
   "cell_type": "markdown",
   "metadata": {},
   "source": [
    "Увеличим долю значений положительного класса техникой - **upsampling**:"
   ]
  },
  {
   "cell_type": "code",
   "execution_count": 27,
   "metadata": {},
   "outputs": [],
   "source": [
    "# Создадим функцию \"увеличение выборки\"\n",
    "def upsample(features, target, repeat):\n",
    "    features_zeros = features[target == 0]\n",
    "    features_ones = features[target == 1]\n",
    "    target_zeros = target[target == 0]\n",
    "    target_ones = target[target == 1]\n",
    "    features_upsampled = pd.concat([features_zeros] + [features_ones] * repeat)\n",
    "    target_upsampled = pd.concat([target_zeros] + [target_ones] * repeat)\n",
    "    return features_upsampled, target_upsampled"
   ]
  },
  {
   "cell_type": "markdown",
   "metadata": {},
   "source": [
    "Применим функцию к обучающим данным и перемешаем полученные значения:"
   ]
  },
  {
   "cell_type": "code",
   "execution_count": 28,
   "metadata": {},
   "outputs": [],
   "source": [
    "features_upsampled, target_upsampled = upsample(features_train, target_train, 4)"
   ]
  },
  {
   "cell_type": "code",
   "execution_count": 29,
   "metadata": {},
   "outputs": [],
   "source": [
    "features_upsampled, target_upsampled = shuffle(features_upsampled, target_upsampled, random_state=12345)"
   ]
  },
  {
   "cell_type": "code",
   "execution_count": 30,
   "metadata": {},
   "outputs": [
    {
     "data": {
      "text/plain": [
       "0.5059468404178302"
      ]
     },
     "execution_count": 30,
     "metadata": {},
     "output_type": "execute_result"
    }
   ],
   "source": [
    "target_upsampled.mean()"
   ]
  },
  {
   "cell_type": "markdown",
   "metadata": {},
   "source": [
    "Мы увеличили долю значений с положительным классом до 50%."
   ]
  },
  {
   "cell_type": "markdown",
   "metadata": {},
   "source": [
    "Обучим модели по данным **features_upsampled, target_upsampled**:"
   ]
  },
  {
   "cell_type": "code",
   "execution_count": 31,
   "metadata": {},
   "outputs": [
    {
     "name": "stdout",
     "output_type": "stream",
     "text": [
      "Accuracy: 0.714\n",
      "AUC-ROC: 0.7922622159910296\n",
      "F1-score: 0.5085910652920962\n"
     ]
    }
   ],
   "source": [
    "lr_v1 = LogisticRegression(random_state=12345, C=0.1, penalty='l1')\n",
    "lr_v1.fit(features_upsampled, target_upsampled)\n",
    "predicted_valid_lr_v1 = lr_v1.predict(features_valid)\n",
    "result_lr_v1 = lr_v1.score(features_valid, target_valid)\n",
    "f1_lr_v1 = f1_score(target_valid, predicted_valid_lr_v1)\n",
    "probabilities_valid = lr_v1.predict_proba(features_valid)\n",
    "probabilities_one_valid = probabilities_valid[:, 1]\n",
    "auc_roc_lr_v1 = roc_auc_score(target_valid, probabilities_one_valid)\n",
    "print_result(result_lr_v1, auc_roc_lr_v1, f1_lr_v1)"
   ]
  },
  {
   "cell_type": "code",
   "execution_count": 32,
   "metadata": {},
   "outputs": [],
   "source": [
    "fpr, tpr, thresholds = roc_curve(target_valid, probabilities_one_valid)"
   ]
  },
  {
   "cell_type": "code",
   "execution_count": 33,
   "metadata": {},
   "outputs": [
    {
     "name": "stdout",
     "output_type": "stream",
     "text": [
      "Accuracy: 0.8455\n",
      "AUC-ROC: 0.855014490607711\n",
      "F1-score: 0.6093552465233881\n"
     ]
    }
   ],
   "source": [
    "model_rfc_v1 = RandomForestClassifier(max_depth=14, n_estimators=30, random_state=12345)\n",
    "model_rfc_v1.fit(features_upsampled, target_upsampled)\n",
    "result_rfc_v1 = model_rfc_v1.score(features_valid, target_valid)\n",
    "predicted_valid_rfc_v1 = model_rfc_v1.predict(features_valid)\n",
    "f1_rfc_v1 = f1_score(target_valid, predicted_valid_rfc_v1)\n",
    "\n",
    "probabilities_valid_v2 = model_rfc_v1.predict_proba(features_valid)\n",
    "probabilities_one_valid_v2 = probabilities_valid_v2[:, 1]\n",
    "auc_roc_rfc_v1 = roc_auc_score(target_valid, probabilities_one_valid_v2)\n",
    "print_result(result_rfc_v1, auc_roc_rfc_v1, f1_rfc_v1)"
   ]
  },
  {
   "cell_type": "code",
   "execution_count": 34,
   "metadata": {},
   "outputs": [],
   "source": [
    "fpr2, tpr2, thresholds2 = roc_curve(target_valid, probabilities_one_valid_v2)"
   ]
  },
  {
   "cell_type": "code",
   "execution_count": 35,
   "metadata": {},
   "outputs": [
    {
     "data": {
      "image/png": "[encoded data removed]",
      "text/plain": [
       "<Figure size 432x432 with 1 Axes>"
      ]
     },
     "metadata": {
      "needs_background": "light"
     },
     "output_type": "display_data"
    }
   ],
   "source": [
    "plt.figure(figsize=(6,6))\n",
    "plt.plot(fpr2, tpr2)\n",
    "plt.plot(fpr, tpr)\n",
    "# ROC-кривая случайной модели\n",
    "plt.plot([0, 1], [0, 1], linestyle='--')\n",
    "plt.xlim([0, 1])\n",
    "plt.ylim([0, 1])\n",
    "plt.plot(fpr, tpr, 'b', label = 'AUC_lr = %0.2f' % auc_roc_lr_v1)\n",
    "plt.plot(fpr2, tpr2, 'y', label = 'AUC_rfc = %0.2f' % auc_roc_rfc_v1)\n",
    "plt.legend(loc = 'lower right')\n",
    "plt.xlabel(\"False Positive Rate\")\n",
    "plt.ylabel(\"True Positive Rate\")\n",
    "plt.title(\"ROC-кривая\")\n",
    "plt.grid(True)\n",
    "plt.show()"
   ]
  },
  {
   "cell_type": "markdown",
   "metadata": {},
   "source": [
    "Как и в случае обучения несбалансированной модели, лучшие результаты метрик показывает модель **Случайный лес**.  "
   ]
  },
  {
   "cell_type": "code",
   "execution_count": 36,
   "metadata": {},
   "outputs": [
    {
     "data": {
      "text/html": [
       "<div>\n",
       "<style scoped>\n",
       "    .dataframe tbody tr th:only-of-type {\n",
       "        vertical-align: middle;\n",
       "    }\n",
       "\n",
       "    .dataframe tbody tr th {\n",
       "        vertical-align: top;\n",
       "    }\n",
       "\n",
       "    .dataframe thead th {\n",
       "        text-align: right;\n",
       "    }\n",
       "</style>\n",
       "<table border=\"1\" class=\"dataframe\">\n",
       "  <thead>\n",
       "    <tr style=\"text-align: right;\">\n",
       "      <th></th>\n",
       "      <th>Balanced</th>\n",
       "      <th>Accuracy</th>\n",
       "      <th>AUC-ROC</th>\n",
       "      <th>F1-score</th>\n",
       "    </tr>\n",
       "  </thead>\n",
       "  <tbody>\n",
       "    <tr>\n",
       "      <td>Логистическая регрессия</td>\n",
       "      <td>2.Техника-upsampling</td>\n",
       "      <td>0.7140</td>\n",
       "      <td>0.792262</td>\n",
       "      <td>0.508591</td>\n",
       "    </tr>\n",
       "    <tr>\n",
       "      <td>Случайный лес</td>\n",
       "      <td>2.Техника-upsampling</td>\n",
       "      <td>0.8455</td>\n",
       "      <td>0.855014</td>\n",
       "      <td>0.609355</td>\n",
       "    </tr>\n",
       "  </tbody>\n",
       "</table>\n",
       "</div>"
      ],
      "text/plain": [
       "                                     Balanced  Accuracy   AUC-ROC  F1-score\n",
       "Логистическая регрессия  2.Техника-upsampling    0.7140  0.792262  0.508591\n",
       "Случайный лес            2.Техника-upsampling    0.8455  0.855014  0.609355"
      ]
     },
     "execution_count": 36,
     "metadata": {},
     "output_type": "execute_result"
    }
   ],
   "source": [
    "upsamp_balance = {'Balanced':'2.Техника-upsampling', \n",
    "                  'Accuracy':(result_lr_v1, result_rfc_v1), \n",
    "                  'AUC-ROC':(auc_roc_lr_v1, auc_roc_rfc_v1), \n",
    "                  'F1-score':(f1_lr_v1, f1_rfc_v1)}\n",
    "upsamp_balance = pd.DataFrame(upsamp_balance, index=('Логистическая регрессия', 'Случайный лес'))\n",
    "upsamp_balance"
   ]
  },
  {
   "cell_type": "markdown",
   "metadata": {},
   "source": [
    "#### Вариант 2. Взвешивание классов - class_weight"
   ]
  },
  {
   "cell_type": "markdown",
   "metadata": {},
   "source": [
    "Избавимся от дисбаланса в моделях, применив в моделях значение аргумента ***class_weight***  равным ***balanced***. Рассчитаем и сравним метрики:"
   ]
  },
  {
   "cell_type": "code",
   "execution_count": 37,
   "metadata": {},
   "outputs": [
    {
     "name": "stdout",
     "output_type": "stream",
     "text": [
      "Accuracy: 0.719\n",
      "AUC-ROC: 0.7924966569034365\n",
      "F1-score: 0.5087412587412588\n"
     ]
    }
   ],
   "source": [
    "lr_v2 = LogisticRegression(random_state=12345, class_weight='balanced', C=0.1, penalty='l1')\n",
    "lr_v2.fit(features_train, target_train)\n",
    "predicted_valid_lr_v2 = lr_v2.predict(features_valid)\n",
    "result_lr_v2 = lr_v2.score(features_valid, target_valid)\n",
    "f1_lr_v2 = f1_score(target_valid, predicted_valid_lr_v2)\n",
    "probabilities_valid_v2 = lr_v2.predict_proba(features_valid)\n",
    "probabilities_one_valid = probabilities_valid_v2[:, 1]\n",
    "auc_roc_lr_v2 = roc_auc_score(target_valid, probabilities_one_valid)\n",
    "print_result(result_lr_v2, auc_roc_lr_v2, f1_lr_v2)"
   ]
  },
  {
   "cell_type": "code",
   "execution_count": 38,
   "metadata": {},
   "outputs": [
    {
     "name": "stdout",
     "output_type": "stream",
     "text": [
      "Accuracy: 0.8555\n",
      "AUC-ROC: 0.8511600969228089\n",
      "F1-score: 0.5853658536585367\n"
     ]
    }
   ],
   "source": [
    "model_rfc_v2 = RandomForestClassifier(max_depth=14, n_estimators=30, random_state=12345, class_weight='balanced')\n",
    "model_rfc_v2.fit(features_train, target_train)\n",
    "result_rfc_v2 = model_rfc_v2.score(features_valid, target_valid)\n",
    "predicted_valid_rfc_v2 = model_rfc_v2.predict(features_valid)\n",
    "f1_rfc_v2 = f1_score(target_valid, predicted_valid_rfc_v2)\n",
    "\n",
    "probabilities_valid_v2 = model_rfc_v2.predict_proba(features_valid)\n",
    "probabilities_one_valid = probabilities_valid_v2[:, 1]\n",
    "auc_roc_rfc_v2 = roc_auc_score(target_valid, probabilities_one_valid)\n",
    "print_result(result_rfc_v2, auc_roc_rfc_v2, f1_rfc_v2)"
   ]
  },
  {
   "cell_type": "code",
   "execution_count": 39,
   "metadata": {},
   "outputs": [
    {
     "data": {
      "text/html": [
       "<div>\n",
       "<style scoped>\n",
       "    .dataframe tbody tr th:only-of-type {\n",
       "        vertical-align: middle;\n",
       "    }\n",
       "\n",
       "    .dataframe tbody tr th {\n",
       "        vertical-align: top;\n",
       "    }\n",
       "\n",
       "    .dataframe thead th {\n",
       "        text-align: right;\n",
       "    }\n",
       "</style>\n",
       "<table border=\"1\" class=\"dataframe\">\n",
       "  <thead>\n",
       "    <tr style=\"text-align: right;\">\n",
       "      <th></th>\n",
       "      <th>Balanced</th>\n",
       "      <th>Accuracy</th>\n",
       "      <th>AUC-ROC</th>\n",
       "      <th>F1-score</th>\n",
       "    </tr>\n",
       "  </thead>\n",
       "  <tbody>\n",
       "    <tr>\n",
       "      <td>Логистическая регрессия</td>\n",
       "      <td>3.Техника-class_weight</td>\n",
       "      <td>0.7190</td>\n",
       "      <td>0.792497</td>\n",
       "      <td>0.508741</td>\n",
       "    </tr>\n",
       "    <tr>\n",
       "      <td>Случайный лес</td>\n",
       "      <td>3.Техника-class_weight</td>\n",
       "      <td>0.8555</td>\n",
       "      <td>0.851160</td>\n",
       "      <td>0.585366</td>\n",
       "    </tr>\n",
       "  </tbody>\n",
       "</table>\n",
       "</div>"
      ],
      "text/plain": [
       "                                       Balanced  Accuracy   AUC-ROC  F1-score\n",
       "Логистическая регрессия  3.Техника-class_weight    0.7190  0.792497  0.508741\n",
       "Случайный лес            3.Техника-class_weight    0.8555  0.851160  0.585366"
      ]
     },
     "execution_count": 39,
     "metadata": {},
     "output_type": "execute_result"
    }
   ],
   "source": [
    "cs_balance = {'Balanced':'3.Техника-class_weight',\n",
    "              'Accuracy':(result_lr_v2, result_rfc_v2), \n",
    "                  'AUC-ROC':(auc_roc_lr_v2, auc_roc_rfc_v2), \n",
    "                  'F1-score':(f1_lr_v2, f1_rfc_v2)}\n",
    "cs_balance= pd.DataFrame(cs_balance, index=('Логистическая регрессия', 'Случайный лес'))\n",
    "cs_balance"
   ]
  },
  {
   "cell_type": "markdown",
   "metadata": {},
   "source": [
    "Сравним результаты метрик, полученных с дисбалансом данных и без него:"
   ]
  },
  {
   "cell_type": "code",
   "execution_count": 40,
   "metadata": {},
   "outputs": [],
   "source": [
    "data_balance = pd.concat([none_balance, upsamp_balance, cs_balance]).reset_index()"
   ]
  },
  {
   "cell_type": "code",
   "execution_count": 41,
   "metadata": {},
   "outputs": [],
   "source": [
    "data_balance.rename(columns={'index':'Модель'}, inplace=True)"
   ]
  },
  {
   "cell_type": "code",
   "execution_count": 42,
   "metadata": {},
   "outputs": [
    {
     "data": {
      "text/html": [
       "<div>\n",
       "<style scoped>\n",
       "    .dataframe tbody tr th:only-of-type {\n",
       "        vertical-align: middle;\n",
       "    }\n",
       "\n",
       "    .dataframe tbody tr th {\n",
       "        vertical-align: top;\n",
       "    }\n",
       "\n",
       "    .dataframe thead th {\n",
       "        text-align: right;\n",
       "    }\n",
       "</style>\n",
       "<table border=\"1\" class=\"dataframe\">\n",
       "  <thead>\n",
       "    <tr style=\"text-align: right;\">\n",
       "      <th></th>\n",
       "      <th></th>\n",
       "      <th>AUC-ROC</th>\n",
       "      <th>Accuracy</th>\n",
       "      <th>F1-score</th>\n",
       "    </tr>\n",
       "    <tr>\n",
       "      <th>Balanced</th>\n",
       "      <th>Модель</th>\n",
       "      <th></th>\n",
       "      <th></th>\n",
       "      <th></th>\n",
       "    </tr>\n",
       "  </thead>\n",
       "  <tbody>\n",
       "    <tr>\n",
       "      <td rowspan=\"2\" valign=\"top\">1.Несбалансированный</td>\n",
       "      <td>Логистическая регрессия</td>\n",
       "      <td>0.788013</td>\n",
       "      <td>0.8190</td>\n",
       "      <td>0.311787</td>\n",
       "    </tr>\n",
       "    <tr>\n",
       "      <td>Случайный лес</td>\n",
       "      <td>0.847754</td>\n",
       "      <td>0.8670</td>\n",
       "      <td>0.592025</td>\n",
       "    </tr>\n",
       "    <tr>\n",
       "      <td rowspan=\"2\" valign=\"top\">2.Техника-upsampling</td>\n",
       "      <td>Логистическая регрессия</td>\n",
       "      <td>0.792262</td>\n",
       "      <td>0.7140</td>\n",
       "      <td>0.508591</td>\n",
       "    </tr>\n",
       "    <tr>\n",
       "      <td>Случайный лес</td>\n",
       "      <td>0.855014</td>\n",
       "      <td>0.8455</td>\n",
       "      <td>0.609355</td>\n",
       "    </tr>\n",
       "    <tr>\n",
       "      <td rowspan=\"2\" valign=\"top\">3.Техника-class_weight</td>\n",
       "      <td>Логистическая регрессия</td>\n",
       "      <td>0.792497</td>\n",
       "      <td>0.7190</td>\n",
       "      <td>0.508741</td>\n",
       "    </tr>\n",
       "    <tr>\n",
       "      <td>Случайный лес</td>\n",
       "      <td>0.851160</td>\n",
       "      <td>0.8555</td>\n",
       "      <td>0.585366</td>\n",
       "    </tr>\n",
       "  </tbody>\n",
       "</table>\n",
       "</div>"
      ],
      "text/plain": [
       "                                                 AUC-ROC  Accuracy  F1-score\n",
       "Balanced               Модель                                               \n",
       "1.Несбалансированный   Логистическая регрессия  0.788013    0.8190  0.311787\n",
       "                       Случайный лес            0.847754    0.8670  0.592025\n",
       "2.Техника-upsampling   Логистическая регрессия  0.792262    0.7140  0.508591\n",
       "                       Случайный лес            0.855014    0.8455  0.609355\n",
       "3.Техника-class_weight Логистическая регрессия  0.792497    0.7190  0.508741\n",
       "                       Случайный лес            0.851160    0.8555  0.585366"
      ]
     },
     "execution_count": 42,
     "metadata": {},
     "output_type": "execute_result"
    }
   ],
   "source": [
    "data_balance.pivot_table(index=['Balanced', 'Модель'])"
   ]
  },
  {
   "cell_type": "markdown",
   "metadata": {},
   "source": [
    "При обучении моделей сбалансированных моделей, можно заметить:  \n",
    "- метрика Accuracy уменьшилась для всех моделей,\n",
    "- метрика AUC_ROC практически не изменилась,\n",
    "- метрика F1-score увеличилась для всех моделей.  \n",
    "\n",
    "Наибольший прирост метрики F1-score мы наблюдаем для логистической регрессии.  \n",
    "\n",
    "Модель **Случайный лес** показывает лучшие результаты, будем использовать ее в дальнейшем исследовании."
   ]
  },
  {
   "cell_type": "markdown",
   "metadata": {},
   "source": [
    "<a id=\"test_model\"></a>\n",
    "# 4. Тестирование модели"
   ]
  },
  {
   "cell_type": "markdown",
   "metadata": {},
   "source": [
    "Сгруппируем тренировочную и валидационную выборки перед финальным тестированием:"
   ]
  },
  {
   "cell_type": "code",
   "execution_count": 43,
   "metadata": {},
   "outputs": [],
   "source": [
    "final_features = pd.concat([features_train, features_valid])"
   ]
  },
  {
   "cell_type": "code",
   "execution_count": 44,
   "metadata": {},
   "outputs": [],
   "source": [
    "final_target = pd.concat([target_train, target_valid])"
   ]
  },
  {
   "cell_type": "code",
   "execution_count": 45,
   "metadata": {},
   "outputs": [
    {
     "data": {
      "text/plain": [
       "0.20375"
      ]
     },
     "execution_count": 45,
     "metadata": {},
     "output_type": "execute_result"
    }
   ],
   "source": [
    "final_target.mean()"
   ]
  },
  {
   "cell_type": "code",
   "execution_count": 46,
   "metadata": {},
   "outputs": [
    {
     "data": {
      "text/plain": [
       "(8000, 11)"
      ]
     },
     "execution_count": 46,
     "metadata": {},
     "output_type": "execute_result"
    }
   ],
   "source": [
    "final_features.shape"
   ]
  },
  {
   "cell_type": "markdown",
   "metadata": {},
   "source": [
    "Избавимся от дисбаланса и обучим модель:"
   ]
  },
  {
   "cell_type": "code",
   "execution_count": 47,
   "metadata": {},
   "outputs": [],
   "source": [
    "features_upsampled_mf, target_upsampled_mf = upsample(final_features, final_target, 4)"
   ]
  },
  {
   "cell_type": "code",
   "execution_count": 48,
   "metadata": {},
   "outputs": [
    {
     "name": "stdout",
     "output_type": "stream",
     "text": [
      "Accuracy: 0.9881303335919317\n",
      "AUC-ROC: 0.9995817241478941\n",
      "F1-score: 0.9883535053665221\n"
     ]
    }
   ],
   "source": [
    "model_final = RandomForestClassifier(max_depth=14, n_estimators=30, random_state=12345)\n",
    "model_final.fit(features_upsampled_mf, target_upsampled_mf)\n",
    "predicted_mf = model_final.predict(features_upsampled_mf)\n",
    "result_mf = model_final.score(features_upsampled_mf, target_upsampled_mf)\n",
    "f1_mf = f1_score(target_upsampled_mf, predicted_mf)\n",
    "\n",
    "probabilities_valid_mf = model_final.predict_proba(features_upsampled_mf)\n",
    "probabilities_one_valid = probabilities_valid_mf[:, 1]\n",
    "auc_roc_mf = roc_auc_score(target_upsampled_mf, probabilities_one_valid)\n",
    "print_result(result_mf, auc_roc_mf, f1_mf)"
   ]
  },
  {
   "cell_type": "markdown",
   "metadata": {},
   "source": [
    "Проведем тестирование модели **Случайного леса** на тестовой выборке:"
   ]
  },
  {
   "cell_type": "code",
   "execution_count": 49,
   "metadata": {},
   "outputs": [
    {
     "name": "stdout",
     "output_type": "stream",
     "text": [
      "Accuracy: 0.84\n",
      "AUC-ROC: 0.8592012659809272\n",
      "F1-score: 0.6039603960396039\n"
     ]
    }
   ],
   "source": [
    "predicted_test = model_final.predict(features_test)\n",
    "f1_test = f1_score(target_test, predicted_test)\n",
    "result_predicted_test = accuracy_score(target_test, predicted_test)\n",
    "probabilities_valid = model_final.predict_proba(features_test)\n",
    "probabilities_one_valid = probabilities_valid[:, 1]\n",
    "auc_roc_test = roc_auc_score(target_test, probabilities_one_valid)\n",
    "print_result(result_predicted_test, auc_roc_test, f1_test)"
   ]
  },
  {
   "cell_type": "markdown",
   "metadata": {},
   "source": [
    "***Построим график ROC-кривой:***"
   ]
  },
  {
   "cell_type": "code",
   "execution_count": 50,
   "metadata": {},
   "outputs": [
    {
     "data": {
      "image/png": "[encoded data removed]",
      "text/plain": [
       "<Figure size 648x648 with 1 Axes>"
      ]
     },
     "metadata": {
      "needs_background": "light"
     },
     "output_type": "display_data"
    }
   ],
   "source": [
    "fpr, tpr, thresholds = roc_curve(target_test, probabilities_one_valid)\n",
    "\n",
    "plt.figure(figsize=(9,9))\n",
    "plt.plot(fpr, tpr)\n",
    "# ROC-кривая случайной модели\n",
    "plt.plot([0, 1], [0, 1], linestyle='--')\n",
    "plt.xlim([0, 1])\n",
    "plt.ylim([0, 1])\n",
    "plt.plot(fpr, tpr, 'b', label = 'AUC = %0.2f' % auc_roc_test)\n",
    "plt.legend(loc = 'lower right')\n",
    "plt.xlabel(\"False Positive Rate\")\n",
    "plt.ylabel(\"True Positive Rate\")\n",
    "plt.title(\"ROC-кривая\")\n",
    "plt.grid(True)\n",
    "plt.show()"
   ]
  },
  {
   "cell_type": "markdown",
   "metadata": {},
   "source": [
    "ROC-кривая показывает нам, что качество модели для бинарной классификации значительно выше чем у случайной модели.  \n",
    "**AUC = 0,86**  \n",
    "\n",
    "По ROC-кривой, мы можем подобрать необходимую точность, исходя из порогов и поставленной бизнес-задачи."
   ]
  },
  {
   "cell_type": "code",
   "execution_count": 51,
   "metadata": {},
   "outputs": [
    {
     "name": "stdout",
     "output_type": "stream",
     "text": [
      "Accuracy: 0.6027\n",
      "AUC-ROC: 0.5\n",
      "F1-score: 0.0\n"
     ]
    }
   ],
   "source": [
    "X = target\n",
    "y = model_final.predict(features)\n",
    "dummy_clf = DummyClassifier(strategy=\"most_frequent\")\n",
    "dummy_clf.fit(X, y)\n",
    "DummyClassifier(strategy=\"most_frequent\")\n",
    "predict = dummy_clf.predict(X)\n",
    "result_mf = dummy_clf.score(X, y)\n",
    "f1_dum = f1_score(X, predict)\n",
    "probabilities_valid_dum = dummy_clf.predict_proba(y)\n",
    "probabilities_one_valid = probabilities_valid_dum[:, 1]\n",
    "auc_roc_dum = roc_auc_score(X, probabilities_one_valid)\n",
    "print_result(result_mf, auc_roc_dum, f1_dum)"
   ]
  },
  {
   "cell_type": "markdown",
   "metadata": {},
   "source": [
    "<a id=\"output\"></a>\n",
    "# Вывод"
   ]
  },
  {
   "cell_type": "markdown",
   "metadata": {},
   "source": [
    "В таблице с данными 10000 строк и 14 столбцов.  \n",
    "\n",
    "Дубликаты отсутствуют.  \n",
    "\n",
    "Присутствуют 909 пропусков в столбце **Tenure — количество недвижимости у клиента**.  \n",
    "Пропуски заполнены средним значением.\n",
    "\n",
    "Проведена подготовка данных к машинному обучению:\n",
    "1. Применен метод прямого кодирования (One-Hot Encoding, OHE). \n",
    "2. Данные разбиты на тестовую, валидационную и обучающую выборку, в соотношении 1:1:3.\n",
    "3. Выполнено масштабирование признаков, методом стандартизации данных - ***StandardScaler***. \n",
    "4. Удалены столбцы (***RowNumber, CustomerId, Surname***), которые могут повлиять на обучение модели.\n",
    "\n",
    "Итоговые размер таблицы даных - **10000 строк, 11 столбцов.**  \n",
    "\n",
    "Исследование проведено для двух видов моделей:\n",
    "1. Логистическая регрессия (*LogisticRegression*).\n",
    "2. Случайный лес (*RandomForestClassifier*).  \n",
    "\n",
    "Данные несбаласированны, доля значений положительного класса составляет **20%**.  \n",
    "\n",
    "Лучшие результаты метрик показала модель построенная по алгортму машинного обучения ***Случайный лес (Random forest)***.  \n",
    "\n",
    "Оптимальные гиперпараметры ***Случайный лес***:\n",
    "- макисимальная глубина деревьев **(max_depth) - 14**, \n",
    "- количество деревьев **(n_estimators) - 30**.  \n",
    "\n",
    "Изучены два вида борьбы с дисбалансом:\n",
    "1. Увеличение выборки - техника upsampling.\n",
    "2. Взвешивание классов - class_weight.\n",
    "\n",
    "При обучении сбалансированных моделей, выявлено:  \n",
    "- метрика Accuracy уменьшилась для всех моделей,\n",
    "- метрика AUC_ROC практически не изменилась,\n",
    "- метрика F1-score увеличилась для всех моделей.  \n",
    "\n",
    "Оба варианта борьбы с дисбалансом показывают отличные результаты на тестовой выборке.  \n",
    "\n",
    "**Удалось достичь наилучших значений метрик на тестовой выборке:**  \n",
    "- **Accuracy: 0.84;**\n",
    "- **AUC-ROC: 0.860;**\n",
    "- **F1-score: 0.603.**"
   ]
  }
 ],
 "metadata": {
  "kernelspec": {
   "display_name": "Python 3",
   "language": "python",
   "name": "python3"
  },
  "language_info": {
   "codemirror_mode": {
    "name": "ipython",
    "version": 3
   },
   "file_extension": ".py",
   "mimetype": "text/x-python",
   "name": "python",
   "nbconvert_exporter": "python",
   "pygments_lexer": "ipython3",
   "version": "3.7.8"
  },
  "toc": {
   "base_numbering": 1,
   "nav_menu": {},
   "number_sections": true,
   "sideBar": true,
   "skip_h1_title": true,
   "title_cell": "Table of Contents",
   "title_sidebar": "Contents",
   "toc_cell": false,
   "toc_position": {},
   "toc_section_display": true,
   "toc_window_display": false
  }
 },
 "nbformat": 4,
 "nbformat_minor": 2
}
