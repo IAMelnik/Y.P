{
  "nbformat": 4,
  "nbformat_minor": 0,
  "metadata": {
    "kernelspec": {
      "display_name": "Python 3",
      "language": "python",
      "name": "python3"
    },
    "language_info": {
      "codemirror_mode": {
        "name": "ipython",
        "version": 3
      },
      "file_extension": ".py",
      "mimetype": "text/x-python",
      "name": "python",
      "nbconvert_exporter": "python",
      "pygments_lexer": "ipython3",
      "version": "3.7.8"
    },
    "toc": {
      "base_numbering": 1,
      "nav_menu": {},
      "number_sections": true,
      "sideBar": true,
      "skip_h1_title": false,
      "title_cell": "Table of Contents",
      "title_sidebar": "Contents",
      "toc_cell": false,
      "toc_position": {},
      "toc_section_display": true,
      "toc_window_display": false
    },
    "colab": {
      "name": "a86197ad-100a-47c4-a68f-7c2ca0d8b330.ipynb",
      "provenance": []
    }
  },
  "cells": [
    {
      "cell_type": "markdown",
      "metadata": {
        "id": "uyc5tJ6gXF4j"
      },
      "source": [
        "# Оглавление\n",
        "[1. Подготовка данных](#glava_1)  \n",
        "[2. Анализ данных](#glava_2)  \n",
        "[3. Модель](#glava_3)  \n",
        "[Вывод](#conclusion)  "
      ]
    },
    {
      "cell_type": "markdown",
      "metadata": {
        "id": "CTbXOvloXF4l"
      },
      "source": [
        "# Описание проекта\n",
        "\n",
        "Подготовьте прототип модели машинного обучения для «Цифры». Компания разрабатывает решения для эффективной работы промышленных предприятий.\n",
        "\n",
        "Модель должна предсказать коэффициент восстановления золота из золотосодержащей руды. В вашем распоряжении данные с параметрами добычи и очистки. \n",
        "\n",
        "Модель поможет оптимизировать производство, чтобы не запускать предприятие с убыточными характеристиками.\n",
        "\n",
        "Данные находятся в трёх файлах:\n",
        "- gold_recovery_train.csv — обучающая выборка;\n",
        "- gold_recovery_test.csv — тестовая выборка;\n",
        "- gold_recovery_full.csv — исходные данные.\n",
        "Данные индексируются датой и временем получения информации (признак date). \n",
        "\n",
        "Опишем каждую стадию получения золота из руды:  \n",
        "\n",
        "1.***Флотация***  \n",
        "\n",
        "Во флотационную установку подаётся смесь золотосодержащей руды. После обогащения получается черновой концентрат и «отвальные хвосты», то есть остатки продукта с низкой концентрацией ценных металлов.\n",
        "На стабильность этого процесса влияет непостоянное и неоптимальное физико-химическое состояние флотационной пульпы (смеси твёрдых частиц и жидкости).  \n",
        "\n",
        "2.***Очистка***  \n",
        "\n",
        "Черновой концентрат проходит две очистки. На выходе получается финальный концентрат и новые отвальные хвосты.\n",
        "\n",
        "Необходимо:\n",
        "\n",
        "1. Подготовить данные;\n",
        "2. Провести исследовательский анализ данных;\n",
        "3. Построить и обучить модель.\n",
        "\n"
      ]
    },
    {
      "cell_type": "markdown",
      "metadata": {
        "id": "rvXflAWWXF4m"
      },
      "source": [
        "<a id=\"glava_1\"></a>\n",
        "# 1. Подготовка данных"
      ]
    },
    {
      "cell_type": "markdown",
      "metadata": {
        "id": "xE5LMVxDXF4m"
      },
      "source": [
        "**1.1. Открем файлы и изучим их.**"
      ]
    },
    {
      "cell_type": "code",
      "metadata": {
        "id": "wyRMADrOXF4n"
      },
      "source": [
        "import pandas as pd\n",
        "import matplotlib.pyplot as plt\n",
        "import numpy as np\n",
        "import warnings\n",
        "from sklearn.linear_model import LinearRegression\n",
        "from sklearn.metrics import mean_squared_error\n",
        "from sklearn.metrics import r2_score\n",
        "from sklearn.metrics import mean_absolute_error\n",
        "from sklearn.linear_model import LinearRegression\n",
        "from sklearn.tree import DecisionTreeRegressor\n",
        "from sklearn.ensemble import RandomForestRegressor\n",
        "from sklearn.preprocessing import StandardScaler\n",
        "from sklearn.metrics import accuracy_score\n",
        "from sklearn.metrics import confusion_matrix\n",
        "from sklearn.metrics import precision_score, recall_score\n",
        "from sklearn.metrics import classification_report\n",
        "from sklearn.metrics import f1_score\n",
        "from sklearn.model_selection import cross_val_score\n",
        "from sklearn.model_selection import GridSearchCV\n",
        "import matplotlib.pyplot as plt\n",
        "from sklearn.dummy import DummyClassifier\n",
        "from IPython.display import display\n",
        "warnings.filterwarnings(\"ignore\", category=FutureWarning)"
      ],
      "execution_count": null,
      "outputs": []
    },
    {
      "cell_type": "code",
      "metadata": {
        "id": "UN8DVeopXF4p"
      },
      "source": [
        "train = pd.read_csv('/datasets/gold_recovery_train.csv')"
      ],
      "execution_count": null,
      "outputs": []
    },
    {
      "cell_type": "code",
      "metadata": {
        "id": "T6u_X_P2XF4q"
      },
      "source": [
        "test = pd.read_csv('/datasets/gold_recovery_test.csv')"
      ],
      "execution_count": null,
      "outputs": []
    },
    {
      "cell_type": "code",
      "metadata": {
        "id": "Hsvz3gp7XF4q"
      },
      "source": [
        "full = pd.read_csv('/datasets/gold_recovery_full.csv')"
      ],
      "execution_count": null,
      "outputs": []
    },
    {
      "cell_type": "code",
      "metadata": {
        "id": "VqEvFrdeXF4r",
        "outputId": "30ed7a1c-25a8-443e-8646-99500adf59ca"
      },
      "source": [
        "train.info()"
      ],
      "execution_count": null,
      "outputs": [
        {
          "output_type": "stream",
          "text": [
            "<class 'pandas.core.frame.DataFrame'>\n",
            "RangeIndex: 16860 entries, 0 to 16859\n",
            "Data columns (total 87 columns):\n",
            "date                                                  16860 non-null object\n",
            "final.output.concentrate_ag                           16788 non-null float64\n",
            "final.output.concentrate_pb                           16788 non-null float64\n",
            "final.output.concentrate_sol                          16490 non-null float64\n",
            "final.output.concentrate_au                           16789 non-null float64\n",
            "final.output.recovery                                 15339 non-null float64\n",
            "final.output.tail_ag                                  16794 non-null float64\n",
            "final.output.tail_pb                                  16677 non-null float64\n",
            "final.output.tail_sol                                 16715 non-null float64\n",
            "final.output.tail_au                                  16794 non-null float64\n",
            "primary_cleaner.input.sulfate                         15553 non-null float64\n",
            "primary_cleaner.input.depressant                      15598 non-null float64\n",
            "primary_cleaner.input.feed_size                       16860 non-null float64\n",
            "primary_cleaner.input.xanthate                        15875 non-null float64\n",
            "primary_cleaner.output.concentrate_ag                 16778 non-null float64\n",
            "primary_cleaner.output.concentrate_pb                 16502 non-null float64\n",
            "primary_cleaner.output.concentrate_sol                16224 non-null float64\n",
            "primary_cleaner.output.concentrate_au                 16778 non-null float64\n",
            "primary_cleaner.output.tail_ag                        16777 non-null float64\n",
            "primary_cleaner.output.tail_pb                        16761 non-null float64\n",
            "primary_cleaner.output.tail_sol                       16579 non-null float64\n",
            "primary_cleaner.output.tail_au                        16777 non-null float64\n",
            "primary_cleaner.state.floatbank8_a_air                16820 non-null float64\n",
            "primary_cleaner.state.floatbank8_a_level              16827 non-null float64\n",
            "primary_cleaner.state.floatbank8_b_air                16820 non-null float64\n",
            "primary_cleaner.state.floatbank8_b_level              16833 non-null float64\n",
            "primary_cleaner.state.floatbank8_c_air                16822 non-null float64\n",
            "primary_cleaner.state.floatbank8_c_level              16833 non-null float64\n",
            "primary_cleaner.state.floatbank8_d_air                16821 non-null float64\n",
            "primary_cleaner.state.floatbank8_d_level              16833 non-null float64\n",
            "rougher.calculation.sulfate_to_au_concentrate         16833 non-null float64\n",
            "rougher.calculation.floatbank10_sulfate_to_au_feed    16833 non-null float64\n",
            "rougher.calculation.floatbank11_sulfate_to_au_feed    16833 non-null float64\n",
            "rougher.calculation.au_pb_ratio                       15618 non-null float64\n",
            "rougher.input.feed_ag                                 16778 non-null float64\n",
            "rougher.input.feed_pb                                 16632 non-null float64\n",
            "rougher.input.feed_rate                               16347 non-null float64\n",
            "rougher.input.feed_size                               16443 non-null float64\n",
            "rougher.input.feed_sol                                16568 non-null float64\n",
            "rougher.input.feed_au                                 16777 non-null float64\n",
            "rougher.input.floatbank10_sulfate                     15816 non-null float64\n",
            "rougher.input.floatbank10_xanthate                    16514 non-null float64\n",
            "rougher.input.floatbank11_sulfate                     16237 non-null float64\n",
            "rougher.input.floatbank11_xanthate                    14956 non-null float64\n",
            "rougher.output.concentrate_ag                         16778 non-null float64\n",
            "rougher.output.concentrate_pb                         16778 non-null float64\n",
            "rougher.output.concentrate_sol                        16698 non-null float64\n",
            "rougher.output.concentrate_au                         16778 non-null float64\n",
            "rougher.output.recovery                               14287 non-null float64\n",
            "rougher.output.tail_ag                                14610 non-null float64\n",
            "rougher.output.tail_pb                                16778 non-null float64\n",
            "rougher.output.tail_sol                               14611 non-null float64\n",
            "rougher.output.tail_au                                14611 non-null float64\n",
            "rougher.state.floatbank10_a_air                       16807 non-null float64\n",
            "rougher.state.floatbank10_a_level                     16807 non-null float64\n",
            "rougher.state.floatbank10_b_air                       16807 non-null float64\n",
            "rougher.state.floatbank10_b_level                     16807 non-null float64\n",
            "rougher.state.floatbank10_c_air                       16807 non-null float64\n",
            "rougher.state.floatbank10_c_level                     16814 non-null float64\n",
            "rougher.state.floatbank10_d_air                       16802 non-null float64\n",
            "rougher.state.floatbank10_d_level                     16809 non-null float64\n",
            "rougher.state.floatbank10_e_air                       16257 non-null float64\n",
            "rougher.state.floatbank10_e_level                     16809 non-null float64\n",
            "rougher.state.floatbank10_f_air                       16802 non-null float64\n",
            "rougher.state.floatbank10_f_level                     16802 non-null float64\n",
            "secondary_cleaner.output.tail_ag                      16776 non-null float64\n",
            "secondary_cleaner.output.tail_pb                      16764 non-null float64\n",
            "secondary_cleaner.output.tail_sol                     14874 non-null float64\n",
            "secondary_cleaner.output.tail_au                      16778 non-null float64\n",
            "secondary_cleaner.state.floatbank2_a_air              16497 non-null float64\n",
            "secondary_cleaner.state.floatbank2_a_level            16751 non-null float64\n",
            "secondary_cleaner.state.floatbank2_b_air              16705 non-null float64\n",
            "secondary_cleaner.state.floatbank2_b_level            16748 non-null float64\n",
            "secondary_cleaner.state.floatbank3_a_air              16763 non-null float64\n",
            "secondary_cleaner.state.floatbank3_a_level            16747 non-null float64\n",
            "secondary_cleaner.state.floatbank3_b_air              16752 non-null float64\n",
            "secondary_cleaner.state.floatbank3_b_level            16750 non-null float64\n",
            "secondary_cleaner.state.floatbank4_a_air              16731 non-null float64\n",
            "secondary_cleaner.state.floatbank4_a_level            16747 non-null float64\n",
            "secondary_cleaner.state.floatbank4_b_air              16768 non-null float64\n",
            "secondary_cleaner.state.floatbank4_b_level            16767 non-null float64\n",
            "secondary_cleaner.state.floatbank5_a_air              16775 non-null float64\n",
            "secondary_cleaner.state.floatbank5_a_level            16775 non-null float64\n",
            "secondary_cleaner.state.floatbank5_b_air              16775 non-null float64\n",
            "secondary_cleaner.state.floatbank5_b_level            16776 non-null float64\n",
            "secondary_cleaner.state.floatbank6_a_air              16757 non-null float64\n",
            "secondary_cleaner.state.floatbank6_a_level            16775 non-null float64\n",
            "dtypes: float64(86), object(1)\n",
            "memory usage: 11.2+ MB\n"
          ],
          "name": "stdout"
        }
      ]
    },
    {
      "cell_type": "code",
      "metadata": {
        "id": "qGjE-gDXXF4s",
        "outputId": "d880a1a2-de5f-4c37-f62a-e989497aa0c2"
      },
      "source": [
        "test.info()"
      ],
      "execution_count": null,
      "outputs": [
        {
          "output_type": "stream",
          "text": [
            "<class 'pandas.core.frame.DataFrame'>\n",
            "RangeIndex: 5856 entries, 0 to 5855\n",
            "Data columns (total 53 columns):\n",
            "date                                          5856 non-null object\n",
            "primary_cleaner.input.sulfate                 5554 non-null float64\n",
            "primary_cleaner.input.depressant              5572 non-null float64\n",
            "primary_cleaner.input.feed_size               5856 non-null float64\n",
            "primary_cleaner.input.xanthate                5690 non-null float64\n",
            "primary_cleaner.state.floatbank8_a_air        5840 non-null float64\n",
            "primary_cleaner.state.floatbank8_a_level      5840 non-null float64\n",
            "primary_cleaner.state.floatbank8_b_air        5840 non-null float64\n",
            "primary_cleaner.state.floatbank8_b_level      5840 non-null float64\n",
            "primary_cleaner.state.floatbank8_c_air        5840 non-null float64\n",
            "primary_cleaner.state.floatbank8_c_level      5840 non-null float64\n",
            "primary_cleaner.state.floatbank8_d_air        5840 non-null float64\n",
            "primary_cleaner.state.floatbank8_d_level      5840 non-null float64\n",
            "rougher.input.feed_ag                         5840 non-null float64\n",
            "rougher.input.feed_pb                         5840 non-null float64\n",
            "rougher.input.feed_rate                       5816 non-null float64\n",
            "rougher.input.feed_size                       5834 non-null float64\n",
            "rougher.input.feed_sol                        5789 non-null float64\n",
            "rougher.input.feed_au                         5840 non-null float64\n",
            "rougher.input.floatbank10_sulfate             5599 non-null float64\n",
            "rougher.input.floatbank10_xanthate            5733 non-null float64\n",
            "rougher.input.floatbank11_sulfate             5801 non-null float64\n",
            "rougher.input.floatbank11_xanthate            5503 non-null float64\n",
            "rougher.state.floatbank10_a_air               5839 non-null float64\n",
            "rougher.state.floatbank10_a_level             5840 non-null float64\n",
            "rougher.state.floatbank10_b_air               5839 non-null float64\n",
            "rougher.state.floatbank10_b_level             5840 non-null float64\n",
            "rougher.state.floatbank10_c_air               5839 non-null float64\n",
            "rougher.state.floatbank10_c_level             5840 non-null float64\n",
            "rougher.state.floatbank10_d_air               5839 non-null float64\n",
            "rougher.state.floatbank10_d_level             5840 non-null float64\n",
            "rougher.state.floatbank10_e_air               5839 non-null float64\n",
            "rougher.state.floatbank10_e_level             5840 non-null float64\n",
            "rougher.state.floatbank10_f_air               5839 non-null float64\n",
            "rougher.state.floatbank10_f_level             5840 non-null float64\n",
            "secondary_cleaner.state.floatbank2_a_air      5836 non-null float64\n",
            "secondary_cleaner.state.floatbank2_a_level    5840 non-null float64\n",
            "secondary_cleaner.state.floatbank2_b_air      5833 non-null float64\n",
            "secondary_cleaner.state.floatbank2_b_level    5840 non-null float64\n",
            "secondary_cleaner.state.floatbank3_a_air      5822 non-null float64\n",
            "secondary_cleaner.state.floatbank3_a_level    5840 non-null float64\n",
            "secondary_cleaner.state.floatbank3_b_air      5840 non-null float64\n",
            "secondary_cleaner.state.floatbank3_b_level    5840 non-null float64\n",
            "secondary_cleaner.state.floatbank4_a_air      5840 non-null float64\n",
            "secondary_cleaner.state.floatbank4_a_level    5840 non-null float64\n",
            "secondary_cleaner.state.floatbank4_b_air      5840 non-null float64\n",
            "secondary_cleaner.state.floatbank4_b_level    5840 non-null float64\n",
            "secondary_cleaner.state.floatbank5_a_air      5840 non-null float64\n",
            "secondary_cleaner.state.floatbank5_a_level    5840 non-null float64\n",
            "secondary_cleaner.state.floatbank5_b_air      5840 non-null float64\n",
            "secondary_cleaner.state.floatbank5_b_level    5840 non-null float64\n",
            "secondary_cleaner.state.floatbank6_a_air      5840 non-null float64\n",
            "secondary_cleaner.state.floatbank6_a_level    5840 non-null float64\n",
            "dtypes: float64(52), object(1)\n",
            "memory usage: 2.4+ MB\n"
          ],
          "name": "stdout"
        }
      ]
    },
    {
      "cell_type": "code",
      "metadata": {
        "scrolled": true,
        "id": "Pobb7vJHXF4t",
        "outputId": "f7330ace-3867-4636-de31-58f198ef8f50"
      },
      "source": [
        "train.shape"
      ],
      "execution_count": null,
      "outputs": [
        {
          "output_type": "execute_result",
          "data": {
            "text/plain": [
              "(16860, 87)"
            ]
          },
          "metadata": {
            "tags": []
          },
          "execution_count": 7
        }
      ]
    },
    {
      "cell_type": "code",
      "metadata": {
        "id": "bMW8ahL2XF4u",
        "outputId": "9b2e3aef-6d74-4564-b848-862ea3c8ba8a"
      },
      "source": [
        "test.shape"
      ],
      "execution_count": null,
      "outputs": [
        {
          "output_type": "execute_result",
          "data": {
            "text/plain": [
              "(5856, 53)"
            ]
          },
          "metadata": {
            "tags": []
          },
          "execution_count": 8
        }
      ]
    },
    {
      "cell_type": "code",
      "metadata": {
        "id": "kDggiV1mXF4u",
        "outputId": "b3ff16aa-c84c-40f8-e47a-590229cb7969"
      },
      "source": [
        "full.shape"
      ],
      "execution_count": null,
      "outputs": [
        {
          "output_type": "execute_result",
          "data": {
            "text/plain": [
              "(22716, 87)"
            ]
          },
          "metadata": {
            "tags": []
          },
          "execution_count": 9
        }
      ]
    },
    {
      "cell_type": "code",
      "metadata": {
        "id": "0Y9F07RiXF4v",
        "outputId": "09baa481-674a-4a8c-a470-3e40a1609677"
      },
      "source": [
        "train.shape[0]+ test.shape[0]"
      ],
      "execution_count": null,
      "outputs": [
        {
          "output_type": "execute_result",
          "data": {
            "text/plain": [
              "22716"
            ]
          },
          "metadata": {
            "tags": []
          },
          "execution_count": 10
        }
      ]
    },
    {
      "cell_type": "code",
      "metadata": {
        "id": "t6-D-JR5XF4v",
        "outputId": "98a78576-5d46-411b-a64e-4c5124189865"
      },
      "source": [
        "train.isna().sum()"
      ],
      "execution_count": null,
      "outputs": [
        {
          "output_type": "execute_result",
          "data": {
            "text/plain": [
              "date                                            0\n",
              "final.output.concentrate_ag                    72\n",
              "final.output.concentrate_pb                    72\n",
              "final.output.concentrate_sol                  370\n",
              "final.output.concentrate_au                    71\n",
              "                                             ... \n",
              "secondary_cleaner.state.floatbank5_a_level     85\n",
              "secondary_cleaner.state.floatbank5_b_air       85\n",
              "secondary_cleaner.state.floatbank5_b_level     84\n",
              "secondary_cleaner.state.floatbank6_a_air      103\n",
              "secondary_cleaner.state.floatbank6_a_level     85\n",
              "Length: 87, dtype: int64"
            ]
          },
          "metadata": {
            "tags": []
          },
          "execution_count": 11
        }
      ]
    },
    {
      "cell_type": "code",
      "metadata": {
        "id": "pssJ6EZiXF4w",
        "outputId": "76d13e69-62c8-4a46-9123-0f3450dc7318"
      },
      "source": [
        "test.isna().sum()"
      ],
      "execution_count": null,
      "outputs": [
        {
          "output_type": "execute_result",
          "data": {
            "text/plain": [
              "date                                            0\n",
              "primary_cleaner.input.sulfate                 302\n",
              "primary_cleaner.input.depressant              284\n",
              "primary_cleaner.input.feed_size                 0\n",
              "primary_cleaner.input.xanthate                166\n",
              "primary_cleaner.state.floatbank8_a_air         16\n",
              "primary_cleaner.state.floatbank8_a_level       16\n",
              "primary_cleaner.state.floatbank8_b_air         16\n",
              "primary_cleaner.state.floatbank8_b_level       16\n",
              "primary_cleaner.state.floatbank8_c_air         16\n",
              "primary_cleaner.state.floatbank8_c_level       16\n",
              "primary_cleaner.state.floatbank8_d_air         16\n",
              "primary_cleaner.state.floatbank8_d_level       16\n",
              "rougher.input.feed_ag                          16\n",
              "rougher.input.feed_pb                          16\n",
              "rougher.input.feed_rate                        40\n",
              "rougher.input.feed_size                        22\n",
              "rougher.input.feed_sol                         67\n",
              "rougher.input.feed_au                          16\n",
              "rougher.input.floatbank10_sulfate             257\n",
              "rougher.input.floatbank10_xanthate            123\n",
              "rougher.input.floatbank11_sulfate              55\n",
              "rougher.input.floatbank11_xanthate            353\n",
              "rougher.state.floatbank10_a_air                17\n",
              "rougher.state.floatbank10_a_level              16\n",
              "rougher.state.floatbank10_b_air                17\n",
              "rougher.state.floatbank10_b_level              16\n",
              "rougher.state.floatbank10_c_air                17\n",
              "rougher.state.floatbank10_c_level              16\n",
              "rougher.state.floatbank10_d_air                17\n",
              "rougher.state.floatbank10_d_level              16\n",
              "rougher.state.floatbank10_e_air                17\n",
              "rougher.state.floatbank10_e_level              16\n",
              "rougher.state.floatbank10_f_air                17\n",
              "rougher.state.floatbank10_f_level              16\n",
              "secondary_cleaner.state.floatbank2_a_air       20\n",
              "secondary_cleaner.state.floatbank2_a_level     16\n",
              "secondary_cleaner.state.floatbank2_b_air       23\n",
              "secondary_cleaner.state.floatbank2_b_level     16\n",
              "secondary_cleaner.state.floatbank3_a_air       34\n",
              "secondary_cleaner.state.floatbank3_a_level     16\n",
              "secondary_cleaner.state.floatbank3_b_air       16\n",
              "secondary_cleaner.state.floatbank3_b_level     16\n",
              "secondary_cleaner.state.floatbank4_a_air       16\n",
              "secondary_cleaner.state.floatbank4_a_level     16\n",
              "secondary_cleaner.state.floatbank4_b_air       16\n",
              "secondary_cleaner.state.floatbank4_b_level     16\n",
              "secondary_cleaner.state.floatbank5_a_air       16\n",
              "secondary_cleaner.state.floatbank5_a_level     16\n",
              "secondary_cleaner.state.floatbank5_b_air       16\n",
              "secondary_cleaner.state.floatbank5_b_level     16\n",
              "secondary_cleaner.state.floatbank6_a_air       16\n",
              "secondary_cleaner.state.floatbank6_a_level     16\n",
              "dtype: int64"
            ]
          },
          "metadata": {
            "tags": []
          },
          "execution_count": 12
        }
      ]
    },
    {
      "cell_type": "code",
      "metadata": {
        "id": "9yOW-muHXF4w",
        "outputId": "9b46ffee-488f-465c-ada1-e1523a9a416f"
      },
      "source": [
        "full.isna().sum()"
      ],
      "execution_count": null,
      "outputs": [
        {
          "output_type": "execute_result",
          "data": {
            "text/plain": [
              "date                                            0\n",
              "final.output.concentrate_ag                    89\n",
              "final.output.concentrate_pb                    87\n",
              "final.output.concentrate_sol                  385\n",
              "final.output.concentrate_au                    86\n",
              "                                             ... \n",
              "secondary_cleaner.state.floatbank5_a_level    101\n",
              "secondary_cleaner.state.floatbank5_b_air      101\n",
              "secondary_cleaner.state.floatbank5_b_level    100\n",
              "secondary_cleaner.state.floatbank6_a_air      119\n",
              "secondary_cleaner.state.floatbank6_a_level    101\n",
              "Length: 87, dtype: int64"
            ]
          },
          "metadata": {
            "tags": []
          },
          "execution_count": 13
        }
      ]
    },
    {
      "cell_type": "code",
      "metadata": {
        "id": "q5NL0KRsXF4x",
        "outputId": "b123e0ea-050d-41a2-f4cf-655a850ebfd7"
      },
      "source": [
        "train.duplicated().sum()"
      ],
      "execution_count": null,
      "outputs": [
        {
          "output_type": "execute_result",
          "data": {
            "text/plain": [
              "0"
            ]
          },
          "metadata": {
            "tags": []
          },
          "execution_count": 14
        }
      ]
    },
    {
      "cell_type": "code",
      "metadata": {
        "id": "P67afeUlXF4x",
        "outputId": "03ef17be-e7de-4b5e-a63c-632fb8056541"
      },
      "source": [
        "test.duplicated().sum()"
      ],
      "execution_count": null,
      "outputs": [
        {
          "output_type": "execute_result",
          "data": {
            "text/plain": [
              "0"
            ]
          },
          "metadata": {
            "tags": []
          },
          "execution_count": 15
        }
      ]
    },
    {
      "cell_type": "code",
      "metadata": {
        "id": "1yMB591pXF4y",
        "outputId": "9e6bc07b-189c-4574-bd57-74cca6fd40d8"
      },
      "source": [
        "full.duplicated().sum()"
      ],
      "execution_count": null,
      "outputs": [
        {
          "output_type": "execute_result",
          "data": {
            "text/plain": [
              "0"
            ]
          },
          "metadata": {
            "tags": []
          },
          "execution_count": 16
        }
      ]
    },
    {
      "cell_type": "markdown",
      "metadata": {
        "id": "WpDIkQ64XF4y"
      },
      "source": [
        "**Вывод**  \n",
        "\n",
        "Даны три таблицы с данными - full, train, test.  \n",
        "Максимальный размер таблицы с данными - 22716 строк, 87 столбцов.  \n",
        "Таблица test имеет только 53 столбца.  \n",
        "В данных присутствуют пропуски.  \n",
        "Дубликаты отсутствуют."
      ]
    },
    {
      "cell_type": "markdown",
      "metadata": {
        "id": "NAdVmEk8XF4z"
      },
      "source": [
        "**1.2. Проверим, что эффективность обогащения рассчитана правильно. Вычислим её на обучающей выборке для признака `rougher.output.recovery`. Найдем MAE между расчётами и значением признака.**"
      ]
    },
    {
      "cell_type": "code",
      "metadata": {
        "id": "yIhg-RbDXF40",
        "outputId": "561df645-bd10-40d6-8b65-1d6d543d8a53"
      },
      "source": [
        "#Эффективность обогащения\n",
        "train['rougher.output.recovery'].head(5)\n"
      ],
      "execution_count": null,
      "outputs": [
        {
          "output_type": "execute_result",
          "data": {
            "text/plain": [
              "0    87.107763\n",
              "1    86.843261\n",
              "2    86.842308\n",
              "3    87.226430\n",
              "4    86.688794\n",
              "Name: rougher.output.recovery, dtype: float64"
            ]
          },
          "metadata": {
            "tags": []
          },
          "execution_count": 17
        }
      ]
    },
    {
      "cell_type": "markdown",
      "metadata": {
        "id": "UKKhcZBEXF41"
      },
      "source": [
        "Эффективность обогащения рассчитывается по формуле\n",
        "\n",
        "`Recovery = (c * (f - t)) / (f * (c - t)) * 100`  \n",
        "\n",
        "где:\n",
        "- C — доля золота в концентрате после флотации/очистки;\n",
        "- F — доля золота в сырье/концентрате до флотации/очистки;\n",
        "- T — доля золота в отвальных хвостах после флотации/очистки.  \n",
        "\n",
        "\n",
        "Для прогноза коэффициента нужно найти долю золота в концентратах и хвостах. Причём важен не только финальный продукт, но и черновой концентрат."
      ]
    },
    {
      "cell_type": "code",
      "metadata": {
        "id": "Vk50yFPLXF41"
      },
      "source": [
        "#C доля золота в концентрате после флотации/очистки\n",
        "c = train['rougher.output.concentrate_au']"
      ],
      "execution_count": null,
      "outputs": []
    },
    {
      "cell_type": "code",
      "metadata": {
        "id": "pY3dUekoXF42"
      },
      "source": [
        "#F — доля золота в сырье/концентрате до флотации/очистки\n",
        "f = train['rougher.input.feed_au']"
      ],
      "execution_count": null,
      "outputs": []
    },
    {
      "cell_type": "code",
      "metadata": {
        "id": "ip6o1EL7XF42"
      },
      "source": [
        "#T — доля золота в отвальных хвостах после флотации/очистки\n",
        "t = train['rougher.output.tail_au']"
      ],
      "execution_count": null,
      "outputs": []
    },
    {
      "cell_type": "code",
      "metadata": {
        "id": "h868yFjVXF43",
        "outputId": "3df2eb2e-2c89-46a7-b2ec-39e14270c0bf"
      },
      "source": [
        "train.loc[:, ['rougher.output.concentrate_au', 'rougher.input.feed_au', 'rougher.output.tail_au']]"
      ],
      "execution_count": null,
      "outputs": [
        {
          "output_type": "execute_result",
          "data": {
            "text/html": [
              "<div>\n",
              "<style scoped>\n",
              "    .dataframe tbody tr th:only-of-type {\n",
              "        vertical-align: middle;\n",
              "    }\n",
              "\n",
              "    .dataframe tbody tr th {\n",
              "        vertical-align: top;\n",
              "    }\n",
              "\n",
              "    .dataframe thead th {\n",
              "        text-align: right;\n",
              "    }\n",
              "</style>\n",
              "<table border=\"1\" class=\"dataframe\">\n",
              "  <thead>\n",
              "    <tr style=\"text-align: right;\">\n",
              "      <th></th>\n",
              "      <th>rougher.output.concentrate_au</th>\n",
              "      <th>rougher.input.feed_au</th>\n",
              "      <th>rougher.output.tail_au</th>\n",
              "    </tr>\n",
              "  </thead>\n",
              "  <tbody>\n",
              "    <tr>\n",
              "      <td>0</td>\n",
              "      <td>19.793808</td>\n",
              "      <td>6.486150</td>\n",
              "      <td>1.170244</td>\n",
              "    </tr>\n",
              "    <tr>\n",
              "      <td>1</td>\n",
              "      <td>20.050975</td>\n",
              "      <td>6.478583</td>\n",
              "      <td>1.184827</td>\n",
              "    </tr>\n",
              "    <tr>\n",
              "      <td>2</td>\n",
              "      <td>19.737170</td>\n",
              "      <td>6.362222</td>\n",
              "      <td>1.162562</td>\n",
              "    </tr>\n",
              "    <tr>\n",
              "      <td>3</td>\n",
              "      <td>19.320810</td>\n",
              "      <td>6.118189</td>\n",
              "      <td>1.079755</td>\n",
              "    </tr>\n",
              "    <tr>\n",
              "      <td>4</td>\n",
              "      <td>19.216101</td>\n",
              "      <td>5.663707</td>\n",
              "      <td>1.012642</td>\n",
              "    </tr>\n",
              "    <tr>\n",
              "      <td>...</td>\n",
              "      <td>...</td>\n",
              "      <td>...</td>\n",
              "      <td>...</td>\n",
              "    </tr>\n",
              "    <tr>\n",
              "      <td>16855</td>\n",
              "      <td>18.603550</td>\n",
              "      <td>5.335862</td>\n",
              "      <td>0.748633</td>\n",
              "    </tr>\n",
              "    <tr>\n",
              "      <td>16856</td>\n",
              "      <td>18.441436</td>\n",
              "      <td>4.838619</td>\n",
              "      <td>0.771582</td>\n",
              "    </tr>\n",
              "    <tr>\n",
              "      <td>16857</td>\n",
              "      <td>15.111231</td>\n",
              "      <td>4.525061</td>\n",
              "      <td>0.685059</td>\n",
              "    </tr>\n",
              "    <tr>\n",
              "      <td>16858</td>\n",
              "      <td>17.834772</td>\n",
              "      <td>4.362781</td>\n",
              "      <td>0.567130</td>\n",
              "    </tr>\n",
              "    <tr>\n",
              "      <td>16859</td>\n",
              "      <td>17.804134</td>\n",
              "      <td>4.365491</td>\n",
              "      <td>0.586439</td>\n",
              "    </tr>\n",
              "  </tbody>\n",
              "</table>\n",
              "<p>16860 rows × 3 columns</p>\n",
              "</div>"
            ],
            "text/plain": [
              "       rougher.output.concentrate_au  rougher.input.feed_au  \\\n",
              "0                          19.793808               6.486150   \n",
              "1                          20.050975               6.478583   \n",
              "2                          19.737170               6.362222   \n",
              "3                          19.320810               6.118189   \n",
              "4                          19.216101               5.663707   \n",
              "...                              ...                    ...   \n",
              "16855                      18.603550               5.335862   \n",
              "16856                      18.441436               4.838619   \n",
              "16857                      15.111231               4.525061   \n",
              "16858                      17.834772               4.362781   \n",
              "16859                      17.804134               4.365491   \n",
              "\n",
              "       rougher.output.tail_au  \n",
              "0                    1.170244  \n",
              "1                    1.184827  \n",
              "2                    1.162562  \n",
              "3                    1.079755  \n",
              "4                    1.012642  \n",
              "...                       ...  \n",
              "16855                0.748633  \n",
              "16856                0.771582  \n",
              "16857                0.685059  \n",
              "16858                0.567130  \n",
              "16859                0.586439  \n",
              "\n",
              "[16860 rows x 3 columns]"
            ]
          },
          "metadata": {
            "tags": []
          },
          "execution_count": 21
        }
      ]
    },
    {
      "cell_type": "markdown",
      "metadata": {
        "id": "s3b_7AXyXF44"
      },
      "source": [
        "Создадим функцию для расчета `recovery`:"
      ]
    },
    {
      "cell_type": "code",
      "metadata": {
        "id": "i-gwVwyUXF44"
      },
      "source": [
        "def recovery(c1, f1, t1):\n",
        "    rec = (c1*(f1-t1)) / (f1*(c1-t1)) * 100\n",
        "    return rec"
      ],
      "execution_count": null,
      "outputs": []
    },
    {
      "cell_type": "code",
      "metadata": {
        "id": "oihwqkgzXF44"
      },
      "source": [
        "train['calc_rougher.output.recovery'] = recovery(c,f,t)"
      ],
      "execution_count": null,
      "outputs": []
    },
    {
      "cell_type": "markdown",
      "metadata": {
        "id": "YFRKSHgpXF45"
      },
      "source": [
        "Вычислим **mean absolute error (MAE)**:"
      ]
    },
    {
      "cell_type": "code",
      "metadata": {
        "id": "MtDUDHdkXF45"
      },
      "source": [
        "def mae(y_true, y_pred):\n",
        "    mae_calc = np.mean(np.abs((y_true - y_pred)/y_true))*100\n",
        "    return mae_calc"
      ],
      "execution_count": null,
      "outputs": []
    },
    {
      "cell_type": "code",
      "metadata": {
        "id": "fOY6fZAvXF45",
        "outputId": "1d96b460-b2cf-4ae0-9db7-815e9975a8a1"
      },
      "source": [
        "mae(train['rougher.output.recovery'], train['calc_rougher.output.recovery'])"
      ],
      "execution_count": null,
      "outputs": [
        {
          "output_type": "execute_result",
          "data": {
            "text/plain": [
              "1.1865277311376902e-14"
            ]
          },
          "metadata": {
            "tags": []
          },
          "execution_count": 25
        }
      ]
    },
    {
      "cell_type": "markdown",
      "metadata": {
        "id": "C3kjFOn_XF46"
      },
      "source": [
        "**Вывод**  \n",
        "\n",
        "Проверка показала, что эффективности обогащения рассчитана верно, т.к. MAE между расчётами и значением признака мала и равна **1.18e-14**.\n"
      ]
    },
    {
      "cell_type": "code",
      "metadata": {
        "id": "1awM0FiqXF47"
      },
      "source": [
        ""
      ],
      "execution_count": null,
      "outputs": []
    },
    {
      "cell_type": "markdown",
      "metadata": {
        "id": "1Ae0rnmqXF47"
      },
      "source": [
        "**1.3. Проанализируем признаки, недоступные в тестовой выборке. Укажем, что это за параметры и к какому типу относятся.**"
      ]
    },
    {
      "cell_type": "markdown",
      "metadata": {
        "id": "tDUDEOfyXF48"
      },
      "source": [
        "Найдем признаки отсутствующие в таблице test:"
      ]
    },
    {
      "cell_type": "code",
      "metadata": {
        "id": "xi7W_VznXF48"
      },
      "source": [
        "columns_test = list(test)\n",
        "columns_train = list(train)"
      ],
      "execution_count": null,
      "outputs": []
    },
    {
      "cell_type": "code",
      "metadata": {
        "id": "-HUcb8drXF49",
        "outputId": "9aeb0a05-df5c-49f1-d098-0f4cc0563065"
      },
      "source": [
        "for i in columns_train:\n",
        "    if i not in columns_test:\n",
        "        x=[]\n",
        "        x.append(i)\n",
        "        print(x)"
      ],
      "execution_count": null,
      "outputs": [
        {
          "output_type": "stream",
          "text": [
            "['final.output.concentrate_ag']\n",
            "['final.output.concentrate_pb']\n",
            "['final.output.concentrate_sol']\n",
            "['final.output.concentrate_au']\n",
            "['final.output.recovery']\n",
            "['final.output.tail_ag']\n",
            "['final.output.tail_pb']\n",
            "['final.output.tail_sol']\n",
            "['final.output.tail_au']\n",
            "['primary_cleaner.output.concentrate_ag']\n",
            "['primary_cleaner.output.concentrate_pb']\n",
            "['primary_cleaner.output.concentrate_sol']\n",
            "['primary_cleaner.output.concentrate_au']\n",
            "['primary_cleaner.output.tail_ag']\n",
            "['primary_cleaner.output.tail_pb']\n",
            "['primary_cleaner.output.tail_sol']\n",
            "['primary_cleaner.output.tail_au']\n",
            "['rougher.calculation.sulfate_to_au_concentrate']\n",
            "['rougher.calculation.floatbank10_sulfate_to_au_feed']\n",
            "['rougher.calculation.floatbank11_sulfate_to_au_feed']\n",
            "['rougher.calculation.au_pb_ratio']\n",
            "['rougher.output.concentrate_ag']\n",
            "['rougher.output.concentrate_pb']\n",
            "['rougher.output.concentrate_sol']\n",
            "['rougher.output.concentrate_au']\n",
            "['rougher.output.recovery']\n",
            "['rougher.output.tail_ag']\n",
            "['rougher.output.tail_pb']\n",
            "['rougher.output.tail_sol']\n",
            "['rougher.output.tail_au']\n",
            "['secondary_cleaner.output.tail_ag']\n",
            "['secondary_cleaner.output.tail_pb']\n",
            "['secondary_cleaner.output.tail_sol']\n",
            "['secondary_cleaner.output.tail_au']\n",
            "['calc_rougher.output.recovery']\n"
          ],
          "name": "stdout"
        }
      ]
    },
    {
      "cell_type": "markdown",
      "metadata": {
        "id": "CJGPXBB9XF49"
      },
      "source": [
        "**Вывод**  \n",
        "\n",
        "В тестовой выборке, как мы видим, отсутствуют расчетные данные для всех стадий обогощения. Т.к. данные расчетные, использование их в модели машинного обучения нет смысла. Поэтому принято решение удалить из таблицы **train** эти признаки."
      ]
    },
    {
      "cell_type": "markdown",
      "metadata": {
        "id": "qghfGH8dXF4-"
      },
      "source": [
        "**1.4. Проведем предобработку данных.**"
      ]
    },
    {
      "cell_type": "markdown",
      "metadata": {
        "id": "yxjyFfvUXF4-"
      },
      "source": [
        "Заменим пропуски в данных методом `ffill` и удалим расчетные признаки из таблицы **train**:"
      ]
    },
    {
      "cell_type": "code",
      "metadata": {
        "id": "XhlzjxN2XF4_"
      },
      "source": [
        "train = train.fillna(method='ffill')\n",
        "test = test.fillna(method='ffill')\n",
        "full = full.fillna(method='ffill')"
      ],
      "execution_count": null,
      "outputs": []
    },
    {
      "cell_type": "code",
      "metadata": {
        "id": "vP2A3-LDXF4_"
      },
      "source": [
        "features = test.columns.values\n",
        "features_train = train[features].reset_index(drop=True)"
      ],
      "execution_count": null,
      "outputs": []
    },
    {
      "cell_type": "markdown",
      "metadata": {
        "id": "1Hb5PAj8XF5A"
      },
      "source": [
        "**Вывод**\n",
        "\n",
        "Предобработка проведена, удалены столбцы и заполнены пропуски."
      ]
    },
    {
      "cell_type": "markdown",
      "metadata": {
        "id": "bi_t7bCcXF5B"
      },
      "source": [
        "<a id=\"glava_2\"></a>\n",
        "# 2. Анализ данных"
      ]
    },
    {
      "cell_type": "markdown",
      "metadata": {
        "id": "83RIoLiuXF5B"
      },
      "source": [
        "**2.1. Посмотрим, как меняется концентрация металлов (Au, Ag, Pb) на различных этапах очистки.**"
      ]
    },
    {
      "cell_type": "markdown",
      "metadata": {
        "id": "E3EmgpmjXF5B"
      },
      "source": [
        "Концентрации характеризуются следующими значениями:  \n",
        "- `rougher.input.feed_...` - сырье поступающее во флотацию;\n",
        "- `rougher.output.concentrate_...` - сырье после флотации;\n",
        "- `primary_cleaner.output.concentrate_...` - сырье после первой очистки;\n",
        "- `final.output.concentrate_...` - сырье после финальной(второй) очистки."
      ]
    },
    {
      "cell_type": "markdown",
      "metadata": {
        "id": "fai8JM3uXF5C"
      },
      "source": [
        "Создадим таблицы для каждого металла с характеристиками концентраций построим гистограммы распределения:"
      ]
    },
    {
      "cell_type": "code",
      "metadata": {
        "id": "DVyxb_90XF5D"
      },
      "source": [
        "concentration_au = full[['rougher.input.feed_au', 'rougher.output.concentrate_au', 'primary_cleaner.output.concentrate_au',  'final.output.concentrate_au']]"
      ],
      "execution_count": null,
      "outputs": []
    },
    {
      "cell_type": "code",
      "metadata": {
        "id": "zzkYSWlEXF5D"
      },
      "source": [
        "concentration_ag = full[['rougher.input.feed_ag', 'rougher.output.concentrate_ag', 'primary_cleaner.output.concentrate_ag',  'final.output.concentrate_ag']]"
      ],
      "execution_count": null,
      "outputs": []
    },
    {
      "cell_type": "code",
      "metadata": {
        "id": "FVZj5rekXF5E"
      },
      "source": [
        "concentration_pb = full[['rougher.input.feed_pb', 'rougher.output.concentrate_pb', 'primary_cleaner.output.concentrate_pb',  'final.output.concentrate_pb']]"
      ],
      "execution_count": null,
      "outputs": []
    },
    {
      "cell_type": "code",
      "metadata": {
        "id": "Sx69Dw_fXF5G"
      },
      "source": [
        "concentration_sol = full[['rougher.input.feed_sol', 'rougher.output.concentrate_sol', 'primary_cleaner.output.concentrate_sol',  'final.output.concentrate_sol']]"
      ],
      "execution_count": null,
      "outputs": []
    },
    {
      "cell_type": "code",
      "metadata": {
        "id": "DfNghsgrXF5H",
        "outputId": "50a7215e-4404-4411-ec58-bd8d4b43052e"
      },
      "source": [
        "concentration_au.plot(kind='hist',bins=80, figsize=(9,5), grid=True, alpha=0.5);\n",
        "plt.ylabel('Количество')\n",
        "plt.xlabel('Концентрация, %')\n",
        "plt.title('Распределение концентраций Au')\n",
        "plt.show()"
      ],
      "execution_count": null,
      "outputs": [
        {
          "output_type": "display_data",
          "data": {
            "image/png": "[encoded data removed]",
            "text/plain": [
              "<Figure size 648x360 with 1 Axes>"
            ]
          },
          "metadata": {
            "tags": [],
            "needs_background": "light"
          }
        }
      ]
    },
    {
      "cell_type": "code",
      "metadata": {
        "id": "TxN9GYgFXF5I",
        "outputId": "6fd59280-b986-4342-c675-43406a3b888c"
      },
      "source": [
        "concentration_ag.plot(kind='hist',bins=80, figsize=(9,5), grid=True, alpha=0.5);\n",
        "plt.ylabel('Количество')\n",
        "plt.xlabel('Концентрация, %')\n",
        "plt.title('Распределение концентраций Ag')\n",
        "plt.show()"
      ],
      "execution_count": null,
      "outputs": [
        {
          "output_type": "display_data",
          "data": {
            "image/png": "[encoded data removed]",
            "text/plain": [
              "<Figure size 648x360 with 1 Axes>"
            ]
          },
          "metadata": {
            "tags": [],
            "needs_background": "light"
          }
        }
      ]
    },
    {
      "cell_type": "code",
      "metadata": {
        "id": "MEwr91RZXF5K",
        "outputId": "ae7f6a02-112b-4267-db41-73675817429e"
      },
      "source": [
        "concentration_pb.plot(kind='hist',bins=80, figsize=(9,5), grid=True, alpha=0.5);\n",
        "plt.ylabel('Количество')\n",
        "plt.xlabel('Концентрация, %')\n",
        "plt.title('Распределение концентраций Pb')\n",
        "plt.show()"
      ],
      "execution_count": null,
      "outputs": [
        {
          "output_type": "display_data",
          "data": {
            "image/png": "[encoded data removed]",
            "text/plain": [
              "<Figure size 648x360 with 1 Axes>"
            ]
          },
          "metadata": {
            "tags": [],
            "needs_background": "light"
          }
        }
      ]
    },
    {
      "cell_type": "markdown",
      "metadata": {
        "id": "VpdrJ2jnXF5M"
      },
      "source": [
        "**Вывод**  \n",
        "\n",
        "Гистограммы распределения показывают:  \n",
        "1. Концентрация Au (золота) увеличивается после каждого этапа, и достигает максимальных значений после финальной стадии очистки.\n",
        "2. Концентрация Ag (серебра) максимально на начальном этапе и минимально после финальной стадии.\n",
        "3. Концентрация Pb (свинца) уменьшается после флотации, на этапах вторичного и финального очищения, практически одинаково.  \n",
        "\n",
        "Можно сделать вывод, что процесс описан верно и ошибок в данных параметрах нет.\n"
      ]
    },
    {
      "cell_type": "markdown",
      "metadata": {
        "id": "p8II2GlQXF5N"
      },
      "source": [
        "**2.2. Сравним распределения размеров гранул сырья на обучающей и тестовой выборках. Если распределения сильно отличаются друг от друга, оценка модели будет неправильной.**"
      ]
    },
    {
      "cell_type": "markdown",
      "metadata": {
        "id": "hS3598INXF5O"
      },
      "source": [
        "Построим гистограммы распределения гранул сырья для тестовой и обучающей выборке на этапах:\n",
        "- `rougher.input.feed_size` - начальное сырье;\n",
        "- `primary_cleaner.input.feed_size` - сырье перед первичной очисткой."
      ]
    },
    {
      "cell_type": "code",
      "metadata": {
        "id": "NFK3-engXF5O",
        "outputId": "c850c8c8-12ac-440c-f985-7cafea221a59"
      },
      "source": [
        "fig, axes = plt.subplots(nrows=1, ncols=2, figsize=(14,5))\n",
        "axes[0].hist(train['rougher.input.feed_size'], alpha=0.5, bins=80)\n",
        "axes[0].hist(test['rougher.input.feed_size'], alpha=0.5, bins=80)\n",
        "axes[0].set(title='Rougher input feed size', xlabel='Размер', ylabel='Количество')\n",
        "axes[1].hist(train['primary_cleaner.input.feed_size'], alpha=0.5, bins=80)\n",
        "axes[1].hist(test['primary_cleaner.input.feed_size'], alpha=0.5, bins=80)\n",
        "axes[1].set(title='Primary cleaner input feed size', xlabel='Размер', ylabel='Количество')\n",
        "fig.suptitle('Распределения размеров гранул сырья')\n",
        "fig.legend(['Обучающая выборка', 'Тестовая выборка'], prop={'size': 10}, loc='upper right')\n",
        "fig.show()"
      ],
      "execution_count": null,
      "outputs": [
        {
          "output_type": "display_data",
          "data": {
            "image/png": "[encoded data removed]",
            "text/plain": [
              "<Figure size 1008x360 with 2 Axes>"
            ]
          },
          "metadata": {
            "tags": [],
            "needs_background": "light"
          }
        }
      ]
    },
    {
      "cell_type": "markdown",
      "metadata": {
        "id": "toTf4jAWXF5P"
      },
      "source": [
        "**Вывод**  \n",
        "\n",
        "Анализ гистограмм показывает что размеры гранул сырья на выборках практически одинаковы, следовательно оценки моделей не будут противоречить друг другу."
      ]
    },
    {
      "cell_type": "markdown",
      "metadata": {
        "id": "OVb_vrb2XF5S"
      },
      "source": [
        "**2.3. Исследуем суммарную концентрацию всех веществ на разных стадиях: в сырье, в черновом и финальном концентратах.**"
      ]
    },
    {
      "cell_type": "code",
      "metadata": {
        "id": "atlVJUJxXF5V",
        "outputId": "3235a07d-aa70-463d-8532-634ad48479a7"
      },
      "source": [
        "concentration_au.head()"
      ],
      "execution_count": null,
      "outputs": [
        {
          "output_type": "execute_result",
          "data": {
            "text/html": [
              "<div>\n",
              "<style scoped>\n",
              "    .dataframe tbody tr th:only-of-type {\n",
              "        vertical-align: middle;\n",
              "    }\n",
              "\n",
              "    .dataframe tbody tr th {\n",
              "        vertical-align: top;\n",
              "    }\n",
              "\n",
              "    .dataframe thead th {\n",
              "        text-align: right;\n",
              "    }\n",
              "</style>\n",
              "<table border=\"1\" class=\"dataframe\">\n",
              "  <thead>\n",
              "    <tr style=\"text-align: right;\">\n",
              "      <th></th>\n",
              "      <th>rougher.input.feed_au</th>\n",
              "      <th>rougher.output.concentrate_au</th>\n",
              "      <th>primary_cleaner.output.concentrate_au</th>\n",
              "      <th>final.output.concentrate_au</th>\n",
              "    </tr>\n",
              "  </thead>\n",
              "  <tbody>\n",
              "    <tr>\n",
              "      <td>0</td>\n",
              "      <td>6.486150</td>\n",
              "      <td>19.793808</td>\n",
              "      <td>34.174427</td>\n",
              "      <td>42.192020</td>\n",
              "    </tr>\n",
              "    <tr>\n",
              "      <td>1</td>\n",
              "      <td>6.478583</td>\n",
              "      <td>20.050975</td>\n",
              "      <td>34.118526</td>\n",
              "      <td>42.701629</td>\n",
              "    </tr>\n",
              "    <tr>\n",
              "      <td>2</td>\n",
              "      <td>6.362222</td>\n",
              "      <td>19.737170</td>\n",
              "      <td>33.969464</td>\n",
              "      <td>42.657501</td>\n",
              "    </tr>\n",
              "    <tr>\n",
              "      <td>3</td>\n",
              "      <td>6.118189</td>\n",
              "      <td>19.320810</td>\n",
              "      <td>28.260743</td>\n",
              "      <td>42.689819</td>\n",
              "    </tr>\n",
              "    <tr>\n",
              "      <td>4</td>\n",
              "      <td>5.663707</td>\n",
              "      <td>19.216101</td>\n",
              "      <td>33.044932</td>\n",
              "      <td>42.774141</td>\n",
              "    </tr>\n",
              "  </tbody>\n",
              "</table>\n",
              "</div>"
            ],
            "text/plain": [
              "   rougher.input.feed_au  rougher.output.concentrate_au  \\\n",
              "0               6.486150                      19.793808   \n",
              "1               6.478583                      20.050975   \n",
              "2               6.362222                      19.737170   \n",
              "3               6.118189                      19.320810   \n",
              "4               5.663707                      19.216101   \n",
              "\n",
              "   primary_cleaner.output.concentrate_au  final.output.concentrate_au  \n",
              "0                              34.174427                    42.192020  \n",
              "1                              34.118526                    42.701629  \n",
              "2                              33.969464                    42.657501  \n",
              "3                              28.260743                    42.689819  \n",
              "4                              33.044932                    42.774141  "
            ]
          },
          "metadata": {
            "tags": []
          },
          "execution_count": 38
        }
      ]
    },
    {
      "cell_type": "markdown",
      "metadata": {
        "id": "1bldeaafXF5W"
      },
      "source": [
        "Создадим функцию `concentration` для суммирования концентраций всех веществ Au, Ag, Pb, Sol.  \n",
        "\n",
        "Этапы обогащений:\n",
        "- `rougher.input.concentration` - начальная концентрация в руде перед флотацией;\n",
        "- `rougher.output.concentration` - концентрация после флотации;\n",
        "- `final.output.concentration` - финальная концентрация после всех стадий очистки."
      ]
    },
    {
      "cell_type": "code",
      "metadata": {
        "id": "9vtrT1JfXF5W"
      },
      "source": [
        "def concentration(column, *args):\n",
        "    a =0\n",
        "    for num in args:\n",
        "            a += num.iloc[:,column]\n",
        "    return a"
      ],
      "execution_count": null,
      "outputs": []
    },
    {
      "cell_type": "code",
      "metadata": {
        "id": "0sl15LOWXF5X"
      },
      "source": [
        "full['rougher.input.concentration'] = concentration(0, concentration_au, concentration_ag, concentration_pb, concentration_sol)"
      ],
      "execution_count": null,
      "outputs": []
    },
    {
      "cell_type": "code",
      "metadata": {
        "id": "KHFPNo0xXF5X"
      },
      "source": [
        "full['rougher.output.concentration'] = concentration(1, concentration_au, concentration_ag, concentration_pb, concentration_sol)"
      ],
      "execution_count": null,
      "outputs": []
    },
    {
      "cell_type": "code",
      "metadata": {
        "id": "dmM9ecEtXF5X"
      },
      "source": [
        "full['final.output.concentration'] = concentration(3, concentration_au, concentration_ag, concentration_pb, concentration_sol)"
      ],
      "execution_count": null,
      "outputs": []
    },
    {
      "cell_type": "code",
      "metadata": {
        "id": "Gq0scqn3XF5Y"
      },
      "source": [
        "concentration_sum = pd.DataFrame()"
      ],
      "execution_count": null,
      "outputs": []
    },
    {
      "cell_type": "code",
      "metadata": {
        "id": "L-pZYuvaXF5Y"
      },
      "source": [
        "concentration_sum = full[['rougher.input.concentration', 'rougher.output.concentration', 'final.output.concentration']]"
      ],
      "execution_count": null,
      "outputs": []
    },
    {
      "cell_type": "markdown",
      "metadata": {
        "id": "1PQ7AitgXF5Z"
      },
      "source": [
        "Построим гистограмму распределения суммарных концентраций:"
      ]
    },
    {
      "cell_type": "code",
      "metadata": {
        "id": "KiAGeiBoXF5Z",
        "outputId": "c4de28e0-ead6-4a07-eec3-2a19bea77818"
      },
      "source": [
        "concentration_sum.plot(kind='hist',bins=80, figsize=(9,5), grid=True, alpha=0.5);\n",
        "plt.ylabel('Количество')\n",
        "plt.xlabel('Концентрация, %')\n",
        "plt.title('Cуммарная концентрация всех веществ на разных стадиях')\n",
        "plt.show()"
      ],
      "execution_count": null,
      "outputs": [
        {
          "output_type": "display_data",
          "data": {
            "image/png": "[encoded data removed]",
            "text/plain": [
              "<Figure size 648x360 with 1 Axes>"
            ]
          },
          "metadata": {
            "tags": [],
            "needs_background": "light"
          }
        }
      ]
    },
    {
      "cell_type": "markdown",
      "metadata": {
        "id": "o3VHRd4HXF5Z"
      },
      "source": [
        "На гистограмме видны выбросы, указывающие на концентрации равные и близкие к нулю.  \n",
        "Необходимо удалить эти значения, т.к. они могут повлиять на качество модели."
      ]
    },
    {
      "cell_type": "markdown",
      "metadata": {
        "id": "fl66pV7hXF5a"
      },
      "source": [
        "Удалим все строки в обучающей и тестовой выборке с суммарными концентрациями менее 20%."
      ]
    },
    {
      "cell_type": "code",
      "metadata": {
        "id": "4JTi1f6iXF5a"
      },
      "source": [
        "features_train['rougher.input.concentration'] = concentration(0, concentration_au, concentration_ag, concentration_pb, concentration_sol)"
      ],
      "execution_count": null,
      "outputs": []
    },
    {
      "cell_type": "code",
      "metadata": {
        "id": "a5Tt3ERYXF5a"
      },
      "source": [
        "features_train['rougher.output.concentration'] = concentration(1, concentration_au, concentration_ag, concentration_pb, concentration_sol)"
      ],
      "execution_count": null,
      "outputs": []
    },
    {
      "cell_type": "code",
      "metadata": {
        "id": "2UkT4XYNXF5b"
      },
      "source": [
        "features_train['final.output.concentration'] = concentration(3, concentration_au, concentration_ag, concentration_pb, concentration_sol)"
      ],
      "execution_count": null,
      "outputs": []
    },
    {
      "cell_type": "code",
      "metadata": {
        "id": "Q28MpMZcXF5b"
      },
      "source": [
        "test['rougher.input.concentration'] = concentration(0, concentration_au, concentration_ag, concentration_pb, concentration_sol)"
      ],
      "execution_count": null,
      "outputs": []
    },
    {
      "cell_type": "code",
      "metadata": {
        "id": "FqaglzLnXF5b"
      },
      "source": [
        "test['rougher.output.concentration'] = concentration(1, concentration_au, concentration_ag, concentration_pb, concentration_sol)"
      ],
      "execution_count": null,
      "outputs": []
    },
    {
      "cell_type": "code",
      "metadata": {
        "id": "6vEnsv7QXF5c"
      },
      "source": [
        "test['final.output.concentration'] = concentration(3, concentration_au, concentration_ag, concentration_pb, concentration_sol)"
      ],
      "execution_count": null,
      "outputs": []
    },
    {
      "cell_type": "code",
      "metadata": {
        "id": "HEDTCBogXF5c",
        "outputId": "65dd45ad-bd1e-471e-bbe3-3b3bdca6e697"
      },
      "source": [
        "features_train.shape"
      ],
      "execution_count": null,
      "outputs": [
        {
          "output_type": "execute_result",
          "data": {
            "text/plain": [
              "(16860, 56)"
            ]
          },
          "metadata": {
            "tags": []
          },
          "execution_count": 51
        }
      ]
    },
    {
      "cell_type": "code",
      "metadata": {
        "id": "cLto0TIBXF5d",
        "outputId": "d3108a28-d999-40d2-c77f-836e9ea1d8d5"
      },
      "source": [
        "test.shape"
      ],
      "execution_count": null,
      "outputs": [
        {
          "output_type": "execute_result",
          "data": {
            "text/plain": [
              "(5856, 56)"
            ]
          },
          "metadata": {
            "tags": []
          },
          "execution_count": 52
        }
      ]
    },
    {
      "cell_type": "code",
      "metadata": {
        "id": "D2hyDDYAXF5d"
      },
      "source": [
        "features_train = features_train[(features_train['rougher.input.concentration'] > 20) \n",
        "                                & (features_train['rougher.output.concentration'] > 20)\n",
        "                                & (features_train['final.output.concentration'] > 20)\n",
        "]"
      ],
      "execution_count": null,
      "outputs": []
    },
    {
      "cell_type": "code",
      "metadata": {
        "id": "bw4CuR8vXF5d"
      },
      "source": [
        "test = test[(test['rougher.input.concentration'] > 20) \n",
        "            & (test['rougher.output.concentration'] > 20)\n",
        "            & (test['final.output.concentration'] > 20)\n",
        "]"
      ],
      "execution_count": null,
      "outputs": []
    },
    {
      "cell_type": "code",
      "metadata": {
        "id": "p2XqXYv_XF5e",
        "outputId": "277ceb8f-86c5-4018-b002-e2db4df0ac26"
      },
      "source": [
        "features_train.shape"
      ],
      "execution_count": null,
      "outputs": [
        {
          "output_type": "execute_result",
          "data": {
            "text/plain": [
              "(14845, 56)"
            ]
          },
          "metadata": {
            "tags": []
          },
          "execution_count": 55
        }
      ]
    },
    {
      "cell_type": "code",
      "metadata": {
        "id": "yDPYyLQ2XF5e",
        "outputId": "5dccb703-4090-4201-aa7b-5ea87cb1c789"
      },
      "source": [
        "test.shape"
      ],
      "execution_count": null,
      "outputs": [
        {
          "output_type": "execute_result",
          "data": {
            "text/plain": [
              "(5094, 56)"
            ]
          },
          "metadata": {
            "tags": []
          },
          "execution_count": 56
        }
      ]
    },
    {
      "cell_type": "markdown",
      "metadata": {
        "id": "8wXoPLq_XF5e"
      },
      "source": [
        "**Вывод**  \n",
        "\n",
        "Удалены аномальные значения в тестовой и обучающей выборке для сохранения точности модели машинного обучения."
      ]
    },
    {
      "cell_type": "markdown",
      "metadata": {
        "id": "gvNiuDHvXF5f"
      },
      "source": [
        "<a id=\"glava_3\"></a>\n",
        "# 3. Модель"
      ]
    },
    {
      "cell_type": "markdown",
      "metadata": {
        "id": "gxzNQiDyXF5f"
      },
      "source": [
        "**3.1. Напишем функции для вычисления итоговой sMAPE.**"
      ]
    },
    {
      "cell_type": "markdown",
      "metadata": {
        "id": "rYwGFNz_XF5g"
      },
      "source": [
        "![sMAPE](https://wikimedia.org/api/rest_v1/media/math/render/svg/53118848217f8627b7c461eb61ca2070ca716323 \"sMAPE\")"
      ]
    },
    {
      "cell_type": "markdown",
      "metadata": {
        "id": "R4k9R1owXF5g"
      },
      "source": [
        "Итоговая метрика складывается из двух величин:"
      ]
    },
    {
      "cell_type": "markdown",
      "metadata": {
        "id": "O4be3nq-XF5g"
      },
      "source": [
        "``sMAPE(final) = sMAPE(rougher) * 25% + sMAPE(final) * 75%``"
      ]
    },
    {
      "cell_type": "code",
      "metadata": {
        "id": "8-1HCVehXF5g"
      },
      "source": [
        "def smape (y_target, y_pred):\n",
        "    smape = 1 / len(y_target) * np.sum(2 * np.abs(y_pred-y_target) / (np.abs(y_target) + np.abs(y_pred))*100)\n",
        "    return smape\n",
        "    "
      ],
      "execution_count": null,
      "outputs": []
    },
    {
      "cell_type": "code",
      "metadata": {
        "id": "5fOvArbbXF5h"
      },
      "source": [
        "def final_smape (rougher, final):\n",
        "    total = rougher * 0.25 + final * 0.75\n",
        "    return total"
      ],
      "execution_count": null,
      "outputs": []
    },
    {
      "cell_type": "markdown",
      "metadata": {
        "id": "P5Y3MOazXF5h"
      },
      "source": [
        "**3.2. Обучите разные модели и оцените их качество кросс-валидацией. Выберите лучшую модель и проверьте её на тестовой выборке.**"
      ]
    },
    {
      "cell_type": "markdown",
      "metadata": {
        "id": "XGT6ZSuFXF5h"
      },
      "source": [
        "Целевыми значениями для наших данных являются следующие признаки:\n",
        "- эффективность обогащения чернового концентрата `rougher.output.recovery`;\n",
        "- эффективность обогащения финального концентрата `final.output.recovery`.  \n",
        "\n",
        "Выделим из обучающей и тестовой выборок целевой признак."
      ]
    },
    {
      "cell_type": "code",
      "metadata": {
        "id": "IlcTh3TCXF5h",
        "outputId": "8f452c3f-1561-47a2-b93d-cb26bda9f0da"
      },
      "source": [
        "features_train.shape"
      ],
      "execution_count": null,
      "outputs": [
        {
          "output_type": "execute_result",
          "data": {
            "text/plain": [
              "(14845, 56)"
            ]
          },
          "metadata": {
            "tags": []
          },
          "execution_count": 59
        }
      ]
    },
    {
      "cell_type": "code",
      "metadata": {
        "id": "Y4h-gFp5XF5i",
        "outputId": "19d44cb4-cc91-4e5c-f3f0-ab40715e54f4"
      },
      "source": [
        "test.shape"
      ],
      "execution_count": null,
      "outputs": [
        {
          "output_type": "execute_result",
          "data": {
            "text/plain": [
              "(5094, 56)"
            ]
          },
          "metadata": {
            "tags": []
          },
          "execution_count": 60
        }
      ]
    },
    {
      "cell_type": "code",
      "metadata": {
        "id": "NJEYvvK1XF5i"
      },
      "source": [
        "df_merge = full[['date','rougher.output.recovery', 'final.output.recovery']]"
      ],
      "execution_count": null,
      "outputs": []
    },
    {
      "cell_type": "code",
      "metadata": {
        "scrolled": true,
        "id": "WhfuT2YFXF5j",
        "outputId": "e5298b02-17bf-4601-c7fd-219e3e4c5aff"
      },
      "source": [
        "df_merge.shape"
      ],
      "execution_count": null,
      "outputs": [
        {
          "output_type": "execute_result",
          "data": {
            "text/plain": [
              "(22716, 3)"
            ]
          },
          "metadata": {
            "tags": []
          },
          "execution_count": 62
        }
      ]
    },
    {
      "cell_type": "code",
      "metadata": {
        "id": "76qzwJu1XF5j"
      },
      "source": [
        "features_train = features_train.merge(df_merge, on='date', how='left')"
      ],
      "execution_count": null,
      "outputs": []
    },
    {
      "cell_type": "code",
      "metadata": {
        "id": "TatY-a2yXF5j"
      },
      "source": [
        "target_train = features_train[['rougher.output.recovery', 'final.output.recovery']]"
      ],
      "execution_count": null,
      "outputs": []
    },
    {
      "cell_type": "code",
      "metadata": {
        "id": "zAMpFFRXXF5k"
      },
      "source": [
        "features_train = features_train.drop(columns=['rougher.output.recovery', 'final.output.recovery'],axis=1)"
      ],
      "execution_count": null,
      "outputs": []
    },
    {
      "cell_type": "code",
      "metadata": {
        "id": "3UdI6e-DXF5k"
      },
      "source": [
        "test = test.merge(df_merge, on='date', how='left')"
      ],
      "execution_count": null,
      "outputs": []
    },
    {
      "cell_type": "code",
      "metadata": {
        "id": "j0q1b_97XF5l",
        "outputId": "aa3e8574-6105-4cf7-9ad1-9dde1e625b8e"
      },
      "source": [
        "test.shape"
      ],
      "execution_count": null,
      "outputs": [
        {
          "output_type": "execute_result",
          "data": {
            "text/plain": [
              "(5094, 58)"
            ]
          },
          "metadata": {
            "tags": []
          },
          "execution_count": 67
        }
      ]
    },
    {
      "cell_type": "code",
      "metadata": {
        "id": "3hJzTiPYXF5l"
      },
      "source": [
        "features_test = test.drop(columns=['rougher.output.recovery', 'final.output.recovery'],axis=1)"
      ],
      "execution_count": null,
      "outputs": []
    },
    {
      "cell_type": "code",
      "metadata": {
        "id": "5yYYvCX7XF5l"
      },
      "source": [
        "target_test = test[['rougher.output.recovery', 'final.output.recovery']]"
      ],
      "execution_count": null,
      "outputs": []
    },
    {
      "cell_type": "markdown",
      "metadata": {
        "id": "zOsVxFXhXF5m"
      },
      "source": [
        "Удалим лишние столбцы (`'date', 'rougher.input.concentration','rougher.output.concentration','final.output.concentration'`) в выборках."
      ]
    },
    {
      "cell_type": "code",
      "metadata": {
        "id": "g5aamPIiXF5m"
      },
      "source": [
        "features_train = features_train.drop(columns=['date','rougher.input.concentration','rougher.output.concentration','final.output.concentration'], axis=1)\n",
        "features_test = features_test.drop(columns=['date','rougher.input.concentration','rougher.output.concentration','final.output.concentration'], axis=1)"
      ],
      "execution_count": null,
      "outputs": []
    },
    {
      "cell_type": "code",
      "metadata": {
        "id": "HgaXPUreXF5m",
        "outputId": "5f9142dd-f050-4a6c-8646-3b52730a182f"
      },
      "source": [
        "features_test.shape"
      ],
      "execution_count": null,
      "outputs": [
        {
          "output_type": "execute_result",
          "data": {
            "text/plain": [
              "(5094, 52)"
            ]
          },
          "metadata": {
            "tags": []
          },
          "execution_count": 71
        }
      ]
    },
    {
      "cell_type": "markdown",
      "metadata": {
        "id": "8qleW4TtXF5m"
      },
      "source": [
        "Стандартизируем данные для изменения диапазонов значений методом **StandardScaler()**:"
      ]
    },
    {
      "cell_type": "code",
      "metadata": {
        "id": "rlTTd1T3XF5n"
      },
      "source": [
        "scaler = StandardScaler()\n",
        "features_train = scaler.fit_transform(features_train)"
      ],
      "execution_count": null,
      "outputs": []
    },
    {
      "cell_type": "code",
      "metadata": {
        "id": "xojLUlCCXF5n"
      },
      "source": [
        "features_test = scaler.fit_transform(features_test)"
      ],
      "execution_count": null,
      "outputs": []
    },
    {
      "cell_type": "markdown",
      "metadata": {
        "id": "ond7RjAqXF5n"
      },
      "source": [
        "Проведем обучение для следующих моделей:\n",
        "1. DecisionTreeRegressor - дерево решений;\n",
        "2. RandomForestRegressor - случайный лес;\n",
        "3. LinearRegression - линейная регрессия.  \n",
        "\n",
        "Найдем подходящие гиперпараметры методом **GridSearchCV** и оценим качество кросс-валидацией."
      ]
    },
    {
      "cell_type": "code",
      "metadata": {
        "id": "SFjd6jhRXF5n"
      },
      "source": [
        "state = np.random.RandomState(12345)"
      ],
      "execution_count": null,
      "outputs": []
    },
    {
      "cell_type": "markdown",
      "metadata": {
        "id": "CGWAIb5XXF5o"
      },
      "source": [
        "**Модель DecisionTreeRegressor** "
      ]
    },
    {
      "cell_type": "code",
      "metadata": {
        "id": "sClo9rwMXF5o"
      },
      "source": [
        "#Создание сетки гиперпараметров\n",
        "dtr_par = {'max_depth': [50, 100, 150, 200, 250, 300, 350]}"
      ],
      "execution_count": null,
      "outputs": []
    },
    {
      "cell_type": "code",
      "metadata": {
        "id": "iIErJJhDXF5o",
        "outputId": "96ff9ec6-8372-499e-f752-3226c70d600c"
      },
      "source": [
        "dtr = DecisionTreeRegressor(random_state=state)\n",
        "grid = GridSearchCV(dtr, dtr_par)\n",
        "grid.fit(features_train, target_train)\n",
        "#best_depth = grid.best_params_['max_depth']\n",
        "print(grid.best_params_)"
      ],
      "execution_count": null,
      "outputs": [
        {
          "output_type": "stream",
          "text": [
            "{'max_depth': 100}\n"
          ],
          "name": "stdout"
        }
      ]
    },
    {
      "cell_type": "code",
      "metadata": {
        "id": "PHSaSbCtXF5p"
      },
      "source": [
        "best_depth = grid.best_params_['max_depth']"
      ],
      "execution_count": null,
      "outputs": []
    },
    {
      "cell_type": "code",
      "metadata": {
        "id": "-EHKkFuiXF5p",
        "outputId": "101c18f1-c972-4444-8bee-08b1f1d84f1f"
      },
      "source": [
        "dtr = DecisionTreeRegressor(max_depth=best_depth, random_state=state)\n",
        "dtr.fit(features_train, target_train)\n",
        "final_score = cross_val_score(dtr, features_train, target_train, cv=3).mean()\n",
        "print(final_score)"
      ],
      "execution_count": null,
      "outputs": [
        {
          "output_type": "stream",
          "text": [
            "-3.221392088015916\n"
          ],
          "name": "stdout"
        }
      ]
    },
    {
      "cell_type": "markdown",
      "metadata": {
        "id": "Xg8PlqYPXF5q"
      },
      "source": [
        "**Модель RandomForestRegressor**"
      ]
    },
    {
      "cell_type": "code",
      "metadata": {
        "id": "Od4m_kiEXF5q"
      },
      "source": [
        "#Создание сетки гиперпараметров\n",
        "rfr_par = {'n_estimators': [10, 20, 30, 40, 50]}"
      ],
      "execution_count": null,
      "outputs": []
    },
    {
      "cell_type": "code",
      "metadata": {
        "id": "68LDgv3qXF5q"
      },
      "source": [
        "rfr = RandomForestRegressor(random_state=state)\n",
        "grid = GridSearchCV(rfr, rfr_par)\n",
        "grid.fit(features_train, target_train)\n",
        "est_best = grid.best_params_['n_estimators']\n",
        "print(grid.best_params_)"
      ],
      "execution_count": null,
      "outputs": []
    },
    {
      "cell_type": "code",
      "metadata": {
        "id": "tD6k5fFpXF5r"
      },
      "source": [
        "best_est = grid.best_params_['n_estimators']"
      ],
      "execution_count": null,
      "outputs": []
    },
    {
      "cell_type": "code",
      "metadata": {
        "id": "oiyyscm7XF5r"
      },
      "source": [
        "rfr = RandomForestRegressor(n_estimators=best_est, random_state=state)\n",
        "rfr.fit(features_train, target_train)\n",
        "final_score = cross_val_score(rfr, features_train, target_train, cv=3).mean()\n",
        "print(final_score)"
      ],
      "execution_count": null,
      "outputs": []
    },
    {
      "cell_type": "markdown",
      "metadata": {
        "id": "s6e0fKhJXF5r"
      },
      "source": [
        "**Модель LinearRegression**"
      ]
    },
    {
      "cell_type": "code",
      "metadata": {
        "id": "UyoOiGKoXF5s"
      },
      "source": [
        "lr = LinearRegression()\n",
        "lr.fit(features_train, target_train)\n",
        "final_score = cross_val_score(lr, features_train, target_train, cv=3).mean()\n",
        "print(final_score)"
      ],
      "execution_count": null,
      "outputs": []
    },
    {
      "cell_type": "markdown",
      "metadata": {
        "id": "EbWiXci3XF5s"
      },
      "source": [
        "Наилучший результат показала модель **RandomForestRegressor** c количеством деревьев равным **50**.  "
      ]
    },
    {
      "cell_type": "markdown",
      "metadata": {
        "id": "tJY_eef2XF5t"
      },
      "source": [
        "Проверим эту модель на тестовой выборке и вычислим **итоговое значение sMAPE**:"
      ]
    },
    {
      "cell_type": "code",
      "metadata": {
        "id": "11zsa_wQXF5t"
      },
      "source": [
        "pred_target = rfr.predict(features_test)"
      ],
      "execution_count": null,
      "outputs": []
    },
    {
      "cell_type": "code",
      "metadata": {
        "id": "xYw9U-cZXF5u"
      },
      "source": [
        "smape_rougher_recovery = smape(target_test.iloc[:,0], pred_target[:,0])"
      ],
      "execution_count": null,
      "outputs": []
    },
    {
      "cell_type": "code",
      "metadata": {
        "id": "nNvbhxUZXF5u",
        "outputId": "39181a21-2cb4-46f2-fe5e-d8cd792208d0"
      },
      "source": [
        "smape_rougher_recovery"
      ],
      "execution_count": null,
      "outputs": [
        {
          "output_type": "execute_result",
          "data": {
            "text/plain": [
              "12.900189105502598"
            ]
          },
          "metadata": {
            "tags": []
          },
          "execution_count": 87
        }
      ]
    },
    {
      "cell_type": "code",
      "metadata": {
        "id": "WtIAiycMXF5v"
      },
      "source": [
        "smape_final_recovery = smape(target_test.iloc[:,1], pred_target[:,1])"
      ],
      "execution_count": null,
      "outputs": []
    },
    {
      "cell_type": "code",
      "metadata": {
        "id": "B50EX1NqXF5w",
        "outputId": "dc33c337-fbc0-4023-8dd4-e5d911280120"
      },
      "source": [
        "smape_final_recovery"
      ],
      "execution_count": null,
      "outputs": [
        {
          "output_type": "execute_result",
          "data": {
            "text/plain": [
              "13.555977921216092"
            ]
          },
          "metadata": {
            "tags": []
          },
          "execution_count": 89
        }
      ]
    },
    {
      "cell_type": "code",
      "metadata": {
        "id": "BpdFSizHXF5x"
      },
      "source": [
        "total_smape = final_smape(smape_rougher_recovery, smape_final_recovery)"
      ],
      "execution_count": null,
      "outputs": []
    },
    {
      "cell_type": "code",
      "metadata": {
        "id": "Ju8ZAtD-XF5x",
        "outputId": "c2ff5066-4f3e-4f6c-9bd3-c143be5a87f1"
      },
      "source": [
        "print('Итоговое sMAPE для RandomForestRegressor:', total_smape)"
      ],
      "execution_count": null,
      "outputs": [
        {
          "output_type": "stream",
          "text": [
            "Итоговое sMAPE для RandomForestRegressor: 13.392030717287719\n"
          ],
          "name": "stdout"
        }
      ]
    },
    {
      "cell_type": "markdown",
      "metadata": {
        "id": "rCi6anFBXF5x"
      },
      "source": [
        "Сравненим полученное моделью значение итогового sMAPE на тестовой выборке с константной моделью, где значения целевых признаков заполнены средними значениями:"
      ]
    },
    {
      "cell_type": "code",
      "metadata": {
        "id": "3EshpCCCXF5y",
        "outputId": "1acd96ce-1f5f-4ea1-8dc3-c71e1232d3d6"
      },
      "source": [
        "constant_model_mean = target_train.mean()\n",
        "constant_model_mean"
      ],
      "execution_count": null,
      "outputs": [
        {
          "output_type": "execute_result",
          "data": {
            "text/plain": [
              "rougher.output.recovery    81.416105\n",
              "final.output.recovery      67.054695\n",
              "dtype: float64"
            ]
          },
          "metadata": {
            "tags": []
          },
          "execution_count": 92
        }
      ]
    },
    {
      "cell_type": "code",
      "metadata": {
        "id": "lgrrelGuXF5y"
      },
      "source": [
        "data = {'rougher.output.recovery' : [constant_model_mean[0]],\n",
        "        'final.output.recovery' : [constant_model_mean[1]]\n",
        "}"
      ],
      "execution_count": null,
      "outputs": []
    },
    {
      "cell_type": "code",
      "metadata": {
        "id": "oR_3FF3aXF5y"
      },
      "source": [
        "constant_model_test = pd.DataFrame(data, index=range(len(target_test)))"
      ],
      "execution_count": null,
      "outputs": []
    },
    {
      "cell_type": "code",
      "metadata": {
        "id": "nuBEfPgPXF5y",
        "outputId": "4b75b2ae-28a2-4831-a719-81dba1808296"
      },
      "source": [
        "constant_model_test.head()"
      ],
      "execution_count": null,
      "outputs": [
        {
          "output_type": "execute_result",
          "data": {
            "text/html": [
              "<div>\n",
              "<style scoped>\n",
              "    .dataframe tbody tr th:only-of-type {\n",
              "        vertical-align: middle;\n",
              "    }\n",
              "\n",
              "    .dataframe tbody tr th {\n",
              "        vertical-align: top;\n",
              "    }\n",
              "\n",
              "    .dataframe thead th {\n",
              "        text-align: right;\n",
              "    }\n",
              "</style>\n",
              "<table border=\"1\" class=\"dataframe\">\n",
              "  <thead>\n",
              "    <tr style=\"text-align: right;\">\n",
              "      <th></th>\n",
              "      <th>rougher.output.recovery</th>\n",
              "      <th>final.output.recovery</th>\n",
              "    </tr>\n",
              "  </thead>\n",
              "  <tbody>\n",
              "    <tr>\n",
              "      <td>0</td>\n",
              "      <td>81.416105</td>\n",
              "      <td>67.054695</td>\n",
              "    </tr>\n",
              "    <tr>\n",
              "      <td>1</td>\n",
              "      <td>81.416105</td>\n",
              "      <td>67.054695</td>\n",
              "    </tr>\n",
              "    <tr>\n",
              "      <td>2</td>\n",
              "      <td>81.416105</td>\n",
              "      <td>67.054695</td>\n",
              "    </tr>\n",
              "    <tr>\n",
              "      <td>3</td>\n",
              "      <td>81.416105</td>\n",
              "      <td>67.054695</td>\n",
              "    </tr>\n",
              "    <tr>\n",
              "      <td>4</td>\n",
              "      <td>81.416105</td>\n",
              "      <td>67.054695</td>\n",
              "    </tr>\n",
              "  </tbody>\n",
              "</table>\n",
              "</div>"
            ],
            "text/plain": [
              "   rougher.output.recovery  final.output.recovery\n",
              "0                81.416105              67.054695\n",
              "1                81.416105              67.054695\n",
              "2                81.416105              67.054695\n",
              "3                81.416105              67.054695\n",
              "4                81.416105              67.054695"
            ]
          },
          "metadata": {
            "tags": []
          },
          "execution_count": 95
        }
      ]
    },
    {
      "cell_type": "code",
      "metadata": {
        "id": "lxVMCq6bXF5z"
      },
      "source": [
        "smape_rougher_constant = smape(target_test.iloc[:,0], constant_model_test.iloc[:,0])"
      ],
      "execution_count": null,
      "outputs": []
    },
    {
      "cell_type": "code",
      "metadata": {
        "id": "IMIHTegkXF5z"
      },
      "source": [
        "smape_final_constant = smape(target_test.iloc[:,1], constant_model_test.iloc[:,1])"
      ],
      "execution_count": null,
      "outputs": []
    },
    {
      "cell_type": "code",
      "metadata": {
        "id": "c-YzdDJ9XF5z",
        "outputId": "d97cd4b5-b1c3-430c-f608-33ec7941cdaf"
      },
      "source": [
        "total_smape1 = final_smape(smape_rougher_constant, smape_final_constant)\n",
        "print('Итоговое sMAPE константной модели:', total_smape1)"
      ],
      "execution_count": null,
      "outputs": [
        {
          "output_type": "stream",
          "text": [
            "Итоговое sMAPE константной модели: 12.583220389180678\n"
          ],
          "name": "stdout"
        }
      ]
    },
    {
      "cell_type": "markdown",
      "metadata": {
        "id": "QIyCQlKfXF50"
      },
      "source": [
        "<a id=\"conclusion\"></a>\n",
        "# Вывод"
      ]
    },
    {
      "cell_type": "markdown",
      "metadata": {
        "id": "atZZuUhdXF50"
      },
      "source": [
        "Данные находятся в трёх файлах: full, train, test.\n",
        "Максимальный размер таблицы с данными - 22716 строк, 87 столбцов.\n",
        "Таблица test имеет только 53 столбца.\n",
        "В данных присутствуют пропуски.\n",
        "Дубликаты отсутствуют.  \n",
        "\n",
        "Гистограммы распределения концентраций металлов показывают, что процесс обогащения описан верно и ошибок в данных параметрах нет.  \n",
        "\n",
        "Анализ гистограмм распределения размеров гранул сырья показывает, что размеры на обучающей и тестовой выборках практически одинаковы. Таким образом, оценки моделей не будут противоречить друг другу.  \n",
        "\n",
        "На гистограмме суммарных концентраций присутствуют выбросы. Удалены все строки в обучающей и тестовой выборке с суммарными концентрациями менее 20%.  \n",
        "\n",
        "Целевыми значениями для наших данных являются следующие признаки:\n",
        "\n",
        "- эффективность обогащения чернового концентрата `rougher.output.recovery`;\n",
        "- эффективность обогащения финального концентрата `final.output.recovery`.\n",
        "\n",
        "Проведено обучение для следующих моделей:\n",
        "\n",
        "1. **DecisionTreeRegressor** - дерево решений;\n",
        "2. **RandomForestRegressor** - случайный лес;\n",
        "3. **LinearRegression** - линейная регрессия.  \n",
        "\n",
        "Наилучший результат показала модель **RandomForestRegressor** c количеством деревьев равным **50**.  \n",
        "\n",
        "**Итоговое sMAPE для RandomForestRegressor: 13.39 %**  \n",
        "**Итоговое sMAPE константной модели: 12.58 %**\n",
        "\n",
        "Константная модель показала практически такой же результат, как и найденная лучшая модель машинного обучения.  \n",
        "\n",
        "**Рекомендации:**\n",
        "- провести аудит всех признаков для выявления аномалий;\n",
        "- выявить дополнительные признаки;\n",
        "- поиск новых метрик  для оценки обогащения;\n",
        "- использовать другие модели.\n",
        "\n",
        "\n",
        "\n",
        "\n"
      ]
    }
  ]
}