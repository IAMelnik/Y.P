{
 "cells": [
  {
   "cell_type": "markdown",
   "metadata": {},
   "source": [
    "# Оглавление\n",
    "[1. Загрузка и подготовка данных](#glava_1)  \n",
    "[2. Обучение и проверка модели](#glava_2)  \n",
    "[3. Подготовка к расчёту прибыли](#glava_3)  \n",
    "[4. Расчёт прибыли и рисков](#glava_4)  \n",
    "[Вывод](#conclusion)  "
   ]
  },
  {
   "cell_type": "markdown",
   "metadata": {},
   "source": [
    "<a id=\"glava_1\"></a>\n",
    "# 1. Загрузка и подготовка данных"
   ]
  },
  {
   "cell_type": "code",
   "execution_count": 1,
   "metadata": {},
   "outputs": [],
   "source": [
    "import pandas as pd\n",
    "from sklearn.linear_model import LinearRegression\n",
    "from sklearn.model_selection import train_test_split\n",
    "from sklearn.metrics import mean_squared_error\n",
    "from sklearn.metrics import r2_score\n",
    "from sklearn.metrics import mean_absolute_error\n",
    "\n",
    "\n",
    "from sklearn.metrics import accuracy_score\n",
    "from sklearn.metrics import confusion_matrix\n",
    "from sklearn.metrics import precision_score, recall_score\n",
    "from sklearn.metrics import classification_report\n",
    "from sklearn.metrics import f1_score\n",
    "import matplotlib.pyplot as plt\n",
    "import numpy as np\n",
    "from sklearn.dummy import DummyClassifier\n",
    "import warnings\n",
    "from IPython.display import display\n",
    "warnings.filterwarnings(\"ignore\", category=FutureWarning)"
   ]
  },
  {
   "cell_type": "markdown",
   "metadata": {},
   "source": [
    "Загрузим данные"
   ]
  },
  {
   "cell_type": "code",
   "execution_count": 2,
   "metadata": {},
   "outputs": [],
   "source": [
    "df_0 = pd.read_csv('/datasets/geo_data_0.csv')"
   ]
  },
  {
   "cell_type": "code",
   "execution_count": 3,
   "metadata": {},
   "outputs": [],
   "source": [
    "df_1 = pd.read_csv('/datasets/geo_data_1.csv')"
   ]
  },
  {
   "cell_type": "code",
   "execution_count": 4,
   "metadata": {},
   "outputs": [],
   "source": [
    "df_2 = pd.read_csv('/datasets/geo_data_2.csv')"
   ]
  },
  {
   "cell_type": "markdown",
   "metadata": {},
   "source": [
    "Изучим структуру и типы данных:"
   ]
  },
  {
   "cell_type": "code",
   "execution_count": 5,
   "metadata": {},
   "outputs": [
    {
     "name": "stdout",
     "output_type": "stream",
     "text": [
      "<class 'pandas.core.frame.DataFrame'>\n",
      "RangeIndex: 100000 entries, 0 to 99999\n",
      "Data columns (total 5 columns):\n",
      "id         100000 non-null object\n",
      "f0         100000 non-null float64\n",
      "f1         100000 non-null float64\n",
      "f2         100000 non-null float64\n",
      "product    100000 non-null float64\n",
      "dtypes: float64(4), object(1)\n",
      "memory usage: 3.8+ MB\n"
     ]
    }
   ],
   "source": [
    "df_0.info()"
   ]
  },
  {
   "cell_type": "code",
   "execution_count": 6,
   "metadata": {},
   "outputs": [
    {
     "name": "stdout",
     "output_type": "stream",
     "text": [
      "<class 'pandas.core.frame.DataFrame'>\n",
      "RangeIndex: 100000 entries, 0 to 99999\n",
      "Data columns (total 5 columns):\n",
      "id         100000 non-null object\n",
      "f0         100000 non-null float64\n",
      "f1         100000 non-null float64\n",
      "f2         100000 non-null float64\n",
      "product    100000 non-null float64\n",
      "dtypes: float64(4), object(1)\n",
      "memory usage: 3.8+ MB\n"
     ]
    }
   ],
   "source": [
    "df_1.info()"
   ]
  },
  {
   "cell_type": "code",
   "execution_count": 7,
   "metadata": {},
   "outputs": [
    {
     "name": "stdout",
     "output_type": "stream",
     "text": [
      "<class 'pandas.core.frame.DataFrame'>\n",
      "RangeIndex: 100000 entries, 0 to 99999\n",
      "Data columns (total 5 columns):\n",
      "id         100000 non-null object\n",
      "f0         100000 non-null float64\n",
      "f1         100000 non-null float64\n",
      "f2         100000 non-null float64\n",
      "product    100000 non-null float64\n",
      "dtypes: float64(4), object(1)\n",
      "memory usage: 3.8+ MB\n"
     ]
    }
   ],
   "source": [
    "df_2.info()"
   ]
  },
  {
   "cell_type": "code",
   "execution_count": 8,
   "metadata": {},
   "outputs": [
    {
     "data": {
      "text/html": [
       "<div>\n",
       "<style scoped>\n",
       "    .dataframe tbody tr th:only-of-type {\n",
       "        vertical-align: middle;\n",
       "    }\n",
       "\n",
       "    .dataframe tbody tr th {\n",
       "        vertical-align: top;\n",
       "    }\n",
       "\n",
       "    .dataframe thead th {\n",
       "        text-align: right;\n",
       "    }\n",
       "</style>\n",
       "<table border=\"1\" class=\"dataframe\">\n",
       "  <thead>\n",
       "    <tr style=\"text-align: right;\">\n",
       "      <th></th>\n",
       "      <th>id</th>\n",
       "      <th>f0</th>\n",
       "      <th>f1</th>\n",
       "      <th>f2</th>\n",
       "      <th>product</th>\n",
       "    </tr>\n",
       "  </thead>\n",
       "  <tbody>\n",
       "    <tr>\n",
       "      <td>0</td>\n",
       "      <td>txEyH</td>\n",
       "      <td>0.705745</td>\n",
       "      <td>-0.497823</td>\n",
       "      <td>1.221170</td>\n",
       "      <td>105.280062</td>\n",
       "    </tr>\n",
       "    <tr>\n",
       "      <td>1</td>\n",
       "      <td>2acmU</td>\n",
       "      <td>1.334711</td>\n",
       "      <td>-0.340164</td>\n",
       "      <td>4.365080</td>\n",
       "      <td>73.037750</td>\n",
       "    </tr>\n",
       "    <tr>\n",
       "      <td>2</td>\n",
       "      <td>409Wp</td>\n",
       "      <td>1.022732</td>\n",
       "      <td>0.151990</td>\n",
       "      <td>1.419926</td>\n",
       "      <td>85.265647</td>\n",
       "    </tr>\n",
       "    <tr>\n",
       "      <td>3</td>\n",
       "      <td>iJLyR</td>\n",
       "      <td>-0.032172</td>\n",
       "      <td>0.139033</td>\n",
       "      <td>2.978566</td>\n",
       "      <td>168.620776</td>\n",
       "    </tr>\n",
       "    <tr>\n",
       "      <td>4</td>\n",
       "      <td>Xdl7t</td>\n",
       "      <td>1.988431</td>\n",
       "      <td>0.155413</td>\n",
       "      <td>4.751769</td>\n",
       "      <td>154.036647</td>\n",
       "    </tr>\n",
       "  </tbody>\n",
       "</table>\n",
       "</div>"
      ],
      "text/plain": [
       "      id        f0        f1        f2     product\n",
       "0  txEyH  0.705745 -0.497823  1.221170  105.280062\n",
       "1  2acmU  1.334711 -0.340164  4.365080   73.037750\n",
       "2  409Wp  1.022732  0.151990  1.419926   85.265647\n",
       "3  iJLyR -0.032172  0.139033  2.978566  168.620776\n",
       "4  Xdl7t  1.988431  0.155413  4.751769  154.036647"
      ]
     },
     "execution_count": 8,
     "metadata": {},
     "output_type": "execute_result"
    }
   ],
   "source": [
    "df_0.head()"
   ]
  },
  {
   "cell_type": "markdown",
   "metadata": {},
   "source": [
    "Проверим данные на наличие пропусков и дубликатов:"
   ]
  },
  {
   "cell_type": "code",
   "execution_count": 9,
   "metadata": {},
   "outputs": [
    {
     "data": {
      "text/plain": [
       "id         0\n",
       "f0         0\n",
       "f1         0\n",
       "f2         0\n",
       "product    0\n",
       "dtype: int64"
      ]
     },
     "execution_count": 9,
     "metadata": {},
     "output_type": "execute_result"
    }
   ],
   "source": [
    "df_0.isna().sum()"
   ]
  },
  {
   "cell_type": "code",
   "execution_count": 10,
   "metadata": {},
   "outputs": [
    {
     "data": {
      "text/plain": [
       "id         0\n",
       "f0         0\n",
       "f1         0\n",
       "f2         0\n",
       "product    0\n",
       "dtype: int64"
      ]
     },
     "execution_count": 10,
     "metadata": {},
     "output_type": "execute_result"
    }
   ],
   "source": [
    "df_1.isna().sum()"
   ]
  },
  {
   "cell_type": "code",
   "execution_count": 11,
   "metadata": {},
   "outputs": [
    {
     "data": {
      "text/plain": [
       "id         0\n",
       "f0         0\n",
       "f1         0\n",
       "f2         0\n",
       "product    0\n",
       "dtype: int64"
      ]
     },
     "execution_count": 11,
     "metadata": {},
     "output_type": "execute_result"
    }
   ],
   "source": [
    "df_2.isna().sum()"
   ]
  },
  {
   "cell_type": "code",
   "execution_count": 12,
   "metadata": {},
   "outputs": [
    {
     "data": {
      "text/plain": [
       "0"
      ]
     },
     "execution_count": 12,
     "metadata": {},
     "output_type": "execute_result"
    }
   ],
   "source": [
    "df_0.duplicated().sum()"
   ]
  },
  {
   "cell_type": "code",
   "execution_count": 13,
   "metadata": {},
   "outputs": [
    {
     "data": {
      "text/plain": [
       "0"
      ]
     },
     "execution_count": 13,
     "metadata": {},
     "output_type": "execute_result"
    }
   ],
   "source": [
    "df_1.duplicated().sum()"
   ]
  },
  {
   "cell_type": "code",
   "execution_count": 14,
   "metadata": {},
   "outputs": [
    {
     "data": {
      "text/plain": [
       "0"
      ]
     },
     "execution_count": 14,
     "metadata": {},
     "output_type": "execute_result"
    }
   ],
   "source": [
    "df_2.duplicated().sum()"
   ]
  },
  {
   "cell_type": "code",
   "execution_count": 15,
   "metadata": {},
   "outputs": [],
   "source": [
    "# извлечем признаки \n",
    "# извлечем целевой признак"
   ]
  },
  {
   "cell_type": "markdown",
   "metadata": {},
   "source": [
    "Удалим лишние столбы, которые могут повлиять на обучение модели:"
   ]
  },
  {
   "cell_type": "code",
   "execution_count": 16,
   "metadata": {},
   "outputs": [],
   "source": [
    "df_0 = df_0.drop(['id'], axis=1)\n",
    "df_1 = df_1.drop(['id'], axis=1)\n",
    "df_2= df_2.drop(['id'], axis=1)"
   ]
  },
  {
   "cell_type": "markdown",
   "metadata": {},
   "source": [
    "Создадим функцию `feature_extraction` для извлечения целевого признака и проведем разделение данных на трех площадках:"
   ]
  },
  {
   "cell_type": "code",
   "execution_count": 17,
   "metadata": {},
   "outputs": [],
   "source": [
    "# извлечение целевого признака\n",
    "def feature_extraction (df, name_table):\n",
    "    features = df.drop(name_table, axis=1)\n",
    "    target = df[name_table]\n",
    "    return features, target"
   ]
  },
  {
   "cell_type": "code",
   "execution_count": 18,
   "metadata": {},
   "outputs": [],
   "source": [
    "features_0, target_0 = feature_extraction(df_0, ['product'])"
   ]
  },
  {
   "cell_type": "code",
   "execution_count": 19,
   "metadata": {},
   "outputs": [],
   "source": [
    "features_1, target_1 = feature_extraction(df_1, ['product'])"
   ]
  },
  {
   "cell_type": "code",
   "execution_count": 20,
   "metadata": {},
   "outputs": [],
   "source": [
    "features_2, target_2 = feature_extraction(df_2, ['product'])"
   ]
  },
  {
   "cell_type": "markdown",
   "metadata": {},
   "source": [
    "Изучим целевую переменную `product`:"
   ]
  },
  {
   "cell_type": "code",
   "execution_count": 21,
   "metadata": {},
   "outputs": [
    {
     "data": {
      "text/html": [
       "<div>\n",
       "<style scoped>\n",
       "    .dataframe tbody tr th:only-of-type {\n",
       "        vertical-align: middle;\n",
       "    }\n",
       "\n",
       "    .dataframe tbody tr th {\n",
       "        vertical-align: top;\n",
       "    }\n",
       "\n",
       "    .dataframe thead th {\n",
       "        text-align: right;\n",
       "    }\n",
       "</style>\n",
       "<table border=\"1\" class=\"dataframe\">\n",
       "  <thead>\n",
       "    <tr style=\"text-align: right;\">\n",
       "      <th></th>\n",
       "      <th>product</th>\n",
       "    </tr>\n",
       "  </thead>\n",
       "  <tbody>\n",
       "    <tr>\n",
       "      <td>count</td>\n",
       "      <td>100000.000000</td>\n",
       "    </tr>\n",
       "    <tr>\n",
       "      <td>mean</td>\n",
       "      <td>92.500000</td>\n",
       "    </tr>\n",
       "    <tr>\n",
       "      <td>std</td>\n",
       "      <td>44.288691</td>\n",
       "    </tr>\n",
       "    <tr>\n",
       "      <td>min</td>\n",
       "      <td>0.000000</td>\n",
       "    </tr>\n",
       "    <tr>\n",
       "      <td>25%</td>\n",
       "      <td>56.497507</td>\n",
       "    </tr>\n",
       "    <tr>\n",
       "      <td>50%</td>\n",
       "      <td>91.849972</td>\n",
       "    </tr>\n",
       "    <tr>\n",
       "      <td>75%</td>\n",
       "      <td>128.564089</td>\n",
       "    </tr>\n",
       "    <tr>\n",
       "      <td>max</td>\n",
       "      <td>185.364347</td>\n",
       "    </tr>\n",
       "  </tbody>\n",
       "</table>\n",
       "</div>"
      ],
      "text/plain": [
       "             product\n",
       "count  100000.000000\n",
       "mean       92.500000\n",
       "std        44.288691\n",
       "min         0.000000\n",
       "25%        56.497507\n",
       "50%        91.849972\n",
       "75%       128.564089\n",
       "max       185.364347"
      ]
     },
     "execution_count": 21,
     "metadata": {},
     "output_type": "execute_result"
    }
   ],
   "source": [
    "target_0.describe()"
   ]
  },
  {
   "cell_type": "code",
   "execution_count": 22,
   "metadata": {},
   "outputs": [
    {
     "data": {
      "text/html": [
       "<div>\n",
       "<style scoped>\n",
       "    .dataframe tbody tr th:only-of-type {\n",
       "        vertical-align: middle;\n",
       "    }\n",
       "\n",
       "    .dataframe tbody tr th {\n",
       "        vertical-align: top;\n",
       "    }\n",
       "\n",
       "    .dataframe thead th {\n",
       "        text-align: right;\n",
       "    }\n",
       "</style>\n",
       "<table border=\"1\" class=\"dataframe\">\n",
       "  <thead>\n",
       "    <tr style=\"text-align: right;\">\n",
       "      <th></th>\n",
       "      <th>product</th>\n",
       "    </tr>\n",
       "  </thead>\n",
       "  <tbody>\n",
       "    <tr>\n",
       "      <td>count</td>\n",
       "      <td>100000.000000</td>\n",
       "    </tr>\n",
       "    <tr>\n",
       "      <td>mean</td>\n",
       "      <td>68.825000</td>\n",
       "    </tr>\n",
       "    <tr>\n",
       "      <td>std</td>\n",
       "      <td>45.944423</td>\n",
       "    </tr>\n",
       "    <tr>\n",
       "      <td>min</td>\n",
       "      <td>0.000000</td>\n",
       "    </tr>\n",
       "    <tr>\n",
       "      <td>25%</td>\n",
       "      <td>26.953261</td>\n",
       "    </tr>\n",
       "    <tr>\n",
       "      <td>50%</td>\n",
       "      <td>57.085625</td>\n",
       "    </tr>\n",
       "    <tr>\n",
       "      <td>75%</td>\n",
       "      <td>107.813044</td>\n",
       "    </tr>\n",
       "    <tr>\n",
       "      <td>max</td>\n",
       "      <td>137.945408</td>\n",
       "    </tr>\n",
       "  </tbody>\n",
       "</table>\n",
       "</div>"
      ],
      "text/plain": [
       "             product\n",
       "count  100000.000000\n",
       "mean       68.825000\n",
       "std        45.944423\n",
       "min         0.000000\n",
       "25%        26.953261\n",
       "50%        57.085625\n",
       "75%       107.813044\n",
       "max       137.945408"
      ]
     },
     "execution_count": 22,
     "metadata": {},
     "output_type": "execute_result"
    }
   ],
   "source": [
    "target_1.describe()"
   ]
  },
  {
   "cell_type": "code",
   "execution_count": 23,
   "metadata": {},
   "outputs": [
    {
     "data": {
      "text/html": [
       "<div>\n",
       "<style scoped>\n",
       "    .dataframe tbody tr th:only-of-type {\n",
       "        vertical-align: middle;\n",
       "    }\n",
       "\n",
       "    .dataframe tbody tr th {\n",
       "        vertical-align: top;\n",
       "    }\n",
       "\n",
       "    .dataframe thead th {\n",
       "        text-align: right;\n",
       "    }\n",
       "</style>\n",
       "<table border=\"1\" class=\"dataframe\">\n",
       "  <thead>\n",
       "    <tr style=\"text-align: right;\">\n",
       "      <th></th>\n",
       "      <th>product</th>\n",
       "    </tr>\n",
       "  </thead>\n",
       "  <tbody>\n",
       "    <tr>\n",
       "      <td>count</td>\n",
       "      <td>100000.000000</td>\n",
       "    </tr>\n",
       "    <tr>\n",
       "      <td>mean</td>\n",
       "      <td>95.000000</td>\n",
       "    </tr>\n",
       "    <tr>\n",
       "      <td>std</td>\n",
       "      <td>44.749921</td>\n",
       "    </tr>\n",
       "    <tr>\n",
       "      <td>min</td>\n",
       "      <td>0.000000</td>\n",
       "    </tr>\n",
       "    <tr>\n",
       "      <td>25%</td>\n",
       "      <td>59.450441</td>\n",
       "    </tr>\n",
       "    <tr>\n",
       "      <td>50%</td>\n",
       "      <td>94.925613</td>\n",
       "    </tr>\n",
       "    <tr>\n",
       "      <td>75%</td>\n",
       "      <td>130.595027</td>\n",
       "    </tr>\n",
       "    <tr>\n",
       "      <td>max</td>\n",
       "      <td>190.029838</td>\n",
       "    </tr>\n",
       "  </tbody>\n",
       "</table>\n",
       "</div>"
      ],
      "text/plain": [
       "             product\n",
       "count  100000.000000\n",
       "mean       95.000000\n",
       "std        44.749921\n",
       "min         0.000000\n",
       "25%        59.450441\n",
       "50%        94.925613\n",
       "75%       130.595027\n",
       "max       190.029838"
      ]
     },
     "execution_count": 23,
     "metadata": {},
     "output_type": "execute_result"
    }
   ],
   "source": [
    "target_2.describe()"
   ]
  },
  {
   "cell_type": "markdown",
   "metadata": {},
   "source": [
    "### Вывод"
   ]
  },
  {
   "cell_type": "markdown",
   "metadata": {},
   "source": [
    "Для анализа предоставленны данные для трех регионов:\n",
    "- **Регион_0**,\n",
    "- **Регион_1**, \n",
    "- **Регион_2**.  \n",
    "\n",
    "Размеры таблиц с данными 100000 строк и 5 столбцов. Данные имеют единый формат без аномалий в значениях.  \n",
    "\n",
    "Пропуски и дубликаты отсутствуют.  \n",
    "\n",
    "Целевой признак столбец - `product`.  "
   ]
  },
  {
   "cell_type": "markdown",
   "metadata": {},
   "source": [
    "<a id=\"glava_2\"></a>\n",
    "# 2. Обучение и проверка модели"
   ]
  },
  {
   "cell_type": "markdown",
   "metadata": {},
   "source": [
    "Разделим данные по регионам на обучающую и валидационную выборку. Размер валидационной выборки составляет 25% от общего количества данных."
   ]
  },
  {
   "cell_type": "code",
   "execution_count": 24,
   "metadata": {},
   "outputs": [],
   "source": [
    "# отделим 25% данных для валидационной выборки\n",
    "features_train_0, features_valid_0, target_train_0, target_valid_0 = train_test_split(\n",
    "    features_0, target_0, test_size=0.25, random_state=12345)"
   ]
  },
  {
   "cell_type": "code",
   "execution_count": 25,
   "metadata": {},
   "outputs": [],
   "source": [
    "# отделим 25% данных для валидационной выборки\n",
    "features_train_1, features_valid_1, target_train_1, target_valid_1 = train_test_split(\n",
    "    features_1, target_1, test_size=0.25, random_state=12345)"
   ]
  },
  {
   "cell_type": "code",
   "execution_count": 26,
   "metadata": {},
   "outputs": [],
   "source": [
    "# отделим 25% данных для валидационной выборки\n",
    "features_train_2, features_valid_2, target_train_2, target_valid_2 = train_test_split(\n",
    "    features_2, target_2, test_size=0.25, random_state=12345)"
   ]
  },
  {
   "cell_type": "markdown",
   "metadata": {},
   "source": [
    "Создадим функцию `output_model` для вывода предсказанных значений по валидационной выборке `data_pred`, среднего значения `mean`, среднеквадратичной ошибки `rmse`."
   ]
  },
  {
   "cell_type": "code",
   "execution_count": 27,
   "metadata": {},
   "outputs": [],
   "source": [
    "def output_model(model, features_valid, target_valid):\n",
    "    warnings.filterwarnings(\"ignore\")\n",
    "    predicted_valid = model.predict(features_valid)\n",
    "    mse = mean_squared_error(target_valid, predicted_valid)\n",
    "    rmse = mse ** 0.5\n",
    "    mean = predicted_valid.mean()\n",
    "    target_valid['predict'] = predicted_valid\n",
    "    data_pred = target_valid\n",
    "    return data_pred, mean, rmse"
   ]
  },
  {
   "cell_type": "markdown",
   "metadata": {},
   "source": [
    "Так как значений целевого признака явяется непрерывной переменной, для обучения подойдет модель - ***линейная регрессия (Linear Regression).***  \n",
    "Обучим три модели для каждого региона:"
   ]
  },
  {
   "cell_type": "code",
   "execution_count": 28,
   "metadata": {},
   "outputs": [],
   "source": [
    "model_0 = LinearRegression(normalize=True)\n",
    "model_0.fit(features_train_0, target_train_0);"
   ]
  },
  {
   "cell_type": "code",
   "execution_count": 29,
   "metadata": {},
   "outputs": [],
   "source": [
    "model_1 = LinearRegression(normalize=True)\n",
    "model_1.fit(features_train_1, target_train_1);"
   ]
  },
  {
   "cell_type": "code",
   "execution_count": 30,
   "metadata": {},
   "outputs": [],
   "source": [
    "model_2 = LinearRegression(normalize=True)\n",
    "model_2.fit(features_train_2, target_train_2);"
   ]
  },
  {
   "cell_type": "markdown",
   "metadata": {},
   "source": [
    "Выполним функцию `output_model` для каждого региона, построим графики *Boxplot* и проведем анализ результатов:"
   ]
  },
  {
   "cell_type": "code",
   "execution_count": 31,
   "metadata": {},
   "outputs": [],
   "source": [
    "data_pred_0, mean_0, rmse_0 = output_model(model_0, features_valid_0, target_valid_0)"
   ]
  },
  {
   "cell_type": "code",
   "execution_count": 32,
   "metadata": {},
   "outputs": [
    {
     "data": {
      "text/html": [
       "<div>\n",
       "<style scoped>\n",
       "    .dataframe tbody tr th:only-of-type {\n",
       "        vertical-align: middle;\n",
       "    }\n",
       "\n",
       "    .dataframe tbody tr th {\n",
       "        vertical-align: top;\n",
       "    }\n",
       "\n",
       "    .dataframe thead th {\n",
       "        text-align: right;\n",
       "    }\n",
       "</style>\n",
       "<table border=\"1\" class=\"dataframe\">\n",
       "  <thead>\n",
       "    <tr style=\"text-align: right;\">\n",
       "      <th></th>\n",
       "      <th>product</th>\n",
       "      <th>predict</th>\n",
       "    </tr>\n",
       "  </thead>\n",
       "  <tbody>\n",
       "    <tr>\n",
       "      <td>71751</td>\n",
       "      <td>10.038645</td>\n",
       "      <td>95.894952</td>\n",
       "    </tr>\n",
       "    <tr>\n",
       "      <td>80493</td>\n",
       "      <td>114.551489</td>\n",
       "      <td>77.572583</td>\n",
       "    </tr>\n",
       "    <tr>\n",
       "      <td>2655</td>\n",
       "      <td>132.603635</td>\n",
       "      <td>77.892640</td>\n",
       "    </tr>\n",
       "    <tr>\n",
       "      <td>53233</td>\n",
       "      <td>169.072125</td>\n",
       "      <td>90.175134</td>\n",
       "    </tr>\n",
       "    <tr>\n",
       "      <td>91141</td>\n",
       "      <td>122.325180</td>\n",
       "      <td>70.510088</td>\n",
       "    </tr>\n",
       "  </tbody>\n",
       "</table>\n",
       "</div>"
      ],
      "text/plain": [
       "          product    predict\n",
       "71751   10.038645  95.894952\n",
       "80493  114.551489  77.572583\n",
       "2655   132.603635  77.892640\n",
       "53233  169.072125  90.175134\n",
       "91141  122.325180  70.510088"
      ]
     },
     "execution_count": 32,
     "metadata": {},
     "output_type": "execute_result"
    }
   ],
   "source": [
    "data_pred_0.head()"
   ]
  },
  {
   "cell_type": "code",
   "execution_count": 33,
   "metadata": {},
   "outputs": [
    {
     "data": {
      "image/png": "[encoded data removed]",
      "text/plain": [
       "<Figure size 432x432 with 1 Axes>"
      ]
     },
     "metadata": {
      "needs_background": "light"
     },
     "output_type": "display_data"
    }
   ],
   "source": [
    "data_pred_0.boxplot(figsize=(6, 6));\n",
    "plt.title('Регион_0')\n",
    "plt.ylabel('объём запасов в скважине (тыс. баррелей)')\n",
    "plt.show()"
   ]
  },
  {
   "cell_type": "code",
   "execution_count": 34,
   "metadata": {},
   "outputs": [],
   "source": [
    "data_pred_1, mean_1, rmse_1 = output_model(model_1, features_valid_1, target_valid_1)"
   ]
  },
  {
   "cell_type": "code",
   "execution_count": 35,
   "metadata": {},
   "outputs": [
    {
     "data": {
      "image/png": "[encoded data removed]",
      "text/plain": [
       "<Figure size 432x432 with 1 Axes>"
      ]
     },
     "metadata": {
      "needs_background": "light"
     },
     "output_type": "display_data"
    }
   ],
   "source": [
    "data_pred_1.boxplot(figsize=(6, 6));\n",
    "plt.title('Регион_1')\n",
    "plt.ylabel('объём запасов в скважине (тыс. баррелей)')\n",
    "plt.show()"
   ]
  },
  {
   "cell_type": "code",
   "execution_count": 36,
   "metadata": {},
   "outputs": [],
   "source": [
    "data_pred_2, mean_2, rmse_2 = output_model(model_2, features_valid_2, target_valid_2)"
   ]
  },
  {
   "cell_type": "code",
   "execution_count": 37,
   "metadata": {},
   "outputs": [
    {
     "data": {
      "image/png": "[encoded data removed]",
      "text/plain": [
       "<Figure size 432x432 with 1 Axes>"
      ]
     },
     "metadata": {
      "needs_background": "light"
     },
     "output_type": "display_data"
    }
   ],
   "source": [
    "data_pred_2.boxplot(figsize=(6, 6));\n",
    "plt.title('Регион_2')\n",
    "plt.ylabel('объём запасов в скважине (тыс. баррелей)')\n",
    "plt.show()"
   ]
  },
  {
   "cell_type": "code",
   "execution_count": 38,
   "metadata": {},
   "outputs": [
    {
     "data": {
      "text/plain": [
       "92.07859674082927"
      ]
     },
     "execution_count": 38,
     "metadata": {},
     "output_type": "execute_result"
    }
   ],
   "source": [
    "target_valid_0['product'].mean()"
   ]
  },
  {
   "cell_type": "code",
   "execution_count": 39,
   "metadata": {},
   "outputs": [
    {
     "data": {
      "text/html": [
       "<div>\n",
       "<style scoped>\n",
       "    .dataframe tbody tr th:only-of-type {\n",
       "        vertical-align: middle;\n",
       "    }\n",
       "\n",
       "    .dataframe tbody tr th {\n",
       "        vertical-align: top;\n",
       "    }\n",
       "\n",
       "    .dataframe thead th {\n",
       "        text-align: right;\n",
       "    }\n",
       "</style>\n",
       "<table border=\"1\" class=\"dataframe\">\n",
       "  <thead>\n",
       "    <tr style=\"text-align: right;\">\n",
       "      <th></th>\n",
       "      <th>Region</th>\n",
       "      <th>MEAN_product</th>\n",
       "      <th>MEAN_predict</th>\n",
       "      <th>RMSE</th>\n",
       "    </tr>\n",
       "  </thead>\n",
       "  <tbody>\n",
       "    <tr>\n",
       "      <td>0</td>\n",
       "      <td>Регион_0</td>\n",
       "      <td>92.078597</td>\n",
       "      <td>92.592568</td>\n",
       "      <td>37.579422</td>\n",
       "    </tr>\n",
       "    <tr>\n",
       "      <td>1</td>\n",
       "      <td>Регион_1</td>\n",
       "      <td>68.723136</td>\n",
       "      <td>68.728547</td>\n",
       "      <td>0.893099</td>\n",
       "    </tr>\n",
       "    <tr>\n",
       "      <td>2</td>\n",
       "      <td>Регион_2</td>\n",
       "      <td>94.884233</td>\n",
       "      <td>94.965046</td>\n",
       "      <td>40.029709</td>\n",
       "    </tr>\n",
       "  </tbody>\n",
       "</table>\n",
       "</div>"
      ],
      "text/plain": [
       "     Region  MEAN_product  MEAN_predict       RMSE\n",
       "0  Регион_0     92.078597     92.592568  37.579422\n",
       "1  Регион_1     68.723136     68.728547   0.893099\n",
       "2  Регион_2     94.884233     94.965046  40.029709"
      ]
     },
     "execution_count": 39,
     "metadata": {},
     "output_type": "execute_result"
    }
   ],
   "source": [
    "#соберем в таблицу данные mean, rmse\n",
    "result_model = {'Region':('Регион_0', 'Регион_1', 'Регион_2'),\n",
    "                'MEAN_product':(target_valid_0['product'].mean(), target_valid_1['product'].mean(), target_valid_2['product'].mean()),\n",
    "                'MEAN_predict':(mean_0, mean_1, mean_2), \n",
    "                'RMSE':(rmse_0, rmse_1, rmse_2)\n",
    "                }\n",
    "result_model = pd.DataFrame(result_model)\n",
    "result_model"
   ]
  },
  {
   "cell_type": "markdown",
   "metadata": {},
   "source": [
    "****Средние значения*** по предсказанным значениям валидационной выборки и изначальным значениям практически ***не отличаются***.  \n",
    "\n",
    "Значения ***RMSE*** очень велики у моделей Регион_0 и Регион_2, для Региона_1 модель показала наилучший результат.  \n",
    "\n",
    "Графики **boxplot** наглядно показывают сделанные ранее выводы. На первом и третьем графике очень много выбросов, а основная часть данных предсказываются как незначительное отклонение от медианы.\n"
   ]
  },
  {
   "cell_type": "markdown",
   "metadata": {},
   "source": [
    "### Вывод"
   ]
  },
  {
   "cell_type": "markdown",
   "metadata": {},
   "source": [
    "Данные были разделены на обучающие и валидационные выборки для каждого региона.  \n",
    "\n",
    "В качестве обучающей модели выбрана - **линейная регрессия**, т.к. значения целевого признака явяются непрерывной переменной. \n",
    "\n",
    "***Средние значения*** для предсказанных и изначальных значений практически ***не отличаются***.  \n",
    "\n",
    "Лучшее значение **RMSE** показала модель обученная на данных Регоина_1.\n"
   ]
  },
  {
   "cell_type": "markdown",
   "metadata": {},
   "source": [
    "<a id=\"glava_3\"></a>\n",
    "# 3. Подготовка к расчёту прибыли"
   ]
  },
  {
   "cell_type": "markdown",
   "metadata": {},
   "source": [
    "Сохраним все ключевые значения для расчётов в отдельных переменных:"
   ]
  },
  {
   "cell_type": "code",
   "execution_count": 40,
   "metadata": {},
   "outputs": [],
   "source": [
    "# Стоимость барреля\n",
    "COST_BARREL = 450"
   ]
  },
  {
   "cell_type": "code",
   "execution_count": 41,
   "metadata": {},
   "outputs": [],
   "source": [
    "# бюджет на разработку в регионе\n",
    "BUDGET = 10000000000"
   ]
  },
  {
   "cell_type": "code",
   "execution_count": 42,
   "metadata": {},
   "outputs": [],
   "source": [
    "#количество скважин для разработки\n",
    "WELL_COUNT = 200"
   ]
  },
  {
   "cell_type": "markdown",
   "metadata": {},
   "source": [
    "Рассчитаем безубыточное количество нефти в скважине в тыс. баррелей:"
   ]
  },
  {
   "cell_type": "code",
   "execution_count": 43,
   "metadata": {},
   "outputs": [
    {
     "data": {
      "text/plain": [
       "111.11111111111111"
      ]
     },
     "execution_count": 43,
     "metadata": {},
     "output_type": "execute_result"
    }
   ],
   "source": [
    "#безубыточное количество в скважине\n",
    "well_breakeven = BUDGET / WELL_COUNT / COST_BARREL / 1000\n",
    "well_breakeven"
   ]
  },
  {
   "cell_type": "markdown",
   "metadata": {},
   "source": [
    "Сравним безубыточное количество сырья в скважине со средним значением в регионах **(compare_mean)** и внесем эти данные в таблицу *result_model*:"
   ]
  },
  {
   "cell_type": "code",
   "execution_count": 44,
   "metadata": {},
   "outputs": [],
   "source": [
    "result_model['compare_mean'] = well_breakeven - result_model['MEAN_predict']"
   ]
  },
  {
   "cell_type": "code",
   "execution_count": 45,
   "metadata": {},
   "outputs": [
    {
     "data": {
      "text/html": [
       "<div>\n",
       "<style scoped>\n",
       "    .dataframe tbody tr th:only-of-type {\n",
       "        vertical-align: middle;\n",
       "    }\n",
       "\n",
       "    .dataframe tbody tr th {\n",
       "        vertical-align: top;\n",
       "    }\n",
       "\n",
       "    .dataframe thead th {\n",
       "        text-align: right;\n",
       "    }\n",
       "</style>\n",
       "<table border=\"1\" class=\"dataframe\">\n",
       "  <thead>\n",
       "    <tr style=\"text-align: right;\">\n",
       "      <th></th>\n",
       "      <th>Region</th>\n",
       "      <th>MEAN_product</th>\n",
       "      <th>MEAN_predict</th>\n",
       "      <th>RMSE</th>\n",
       "      <th>compare_mean</th>\n",
       "    </tr>\n",
       "  </thead>\n",
       "  <tbody>\n",
       "    <tr>\n",
       "      <td>0</td>\n",
       "      <td>Регион_0</td>\n",
       "      <td>92.078597</td>\n",
       "      <td>92.592568</td>\n",
       "      <td>37.579422</td>\n",
       "      <td>18.518543</td>\n",
       "    </tr>\n",
       "    <tr>\n",
       "      <td>1</td>\n",
       "      <td>Регион_1</td>\n",
       "      <td>68.723136</td>\n",
       "      <td>68.728547</td>\n",
       "      <td>0.893099</td>\n",
       "      <td>42.382564</td>\n",
       "    </tr>\n",
       "    <tr>\n",
       "      <td>2</td>\n",
       "      <td>Регион_2</td>\n",
       "      <td>94.884233</td>\n",
       "      <td>94.965046</td>\n",
       "      <td>40.029709</td>\n",
       "      <td>16.146065</td>\n",
       "    </tr>\n",
       "  </tbody>\n",
       "</table>\n",
       "</div>"
      ],
      "text/plain": [
       "     Region  MEAN_product  MEAN_predict       RMSE  compare_mean\n",
       "0  Регион_0     92.078597     92.592568  37.579422     18.518543\n",
       "1  Регион_1     68.723136     68.728547   0.893099     42.382564\n",
       "2  Регион_2     94.884233     94.965046  40.029709     16.146065"
      ]
     },
     "execution_count": 45,
     "metadata": {},
     "output_type": "execute_result"
    }
   ],
   "source": [
    "result_model"
   ]
  },
  {
   "cell_type": "markdown",
   "metadata": {},
   "source": [
    "Как мы видим, в Регионе_0 и Регионе_2 в среднем запасы сырья выше, а соответственно шанс получить серьезную прибыль в этих регионах возрастает.  "
   ]
  },
  {
   "cell_type": "markdown",
   "metadata": {},
   "source": [
    "Создадим функцию `profit_region` для расчёта прибыли по выбранным скважинам и предсказаниям модели в млрд. руб:"
   ]
  },
  {
   "cell_type": "code",
   "execution_count": 46,
   "metadata": {},
   "outputs": [],
   "source": [
    "def profit_region(data, column_product, count):\n",
    "    data = data.sort_values(by=column_product, ascending=False)\n",
    "    data = data[:count]\n",
    "    sum_reserve = data['product'].sum()\n",
    "    profit = sum_reserve * COST_BARREL * 1000 - BUDGET\n",
    "    return profit/1000000000"
   ]
  },
  {
   "cell_type": "markdown",
   "metadata": {},
   "source": [
    "Рассчитаем максимальнуя прибыль по предсказанным значениям для каждого региона:"
   ]
  },
  {
   "cell_type": "code",
   "execution_count": 47,
   "metadata": {},
   "outputs": [
    {
     "data": {
      "text/plain": [
       "3.3208260431398524"
      ]
     },
     "execution_count": 47,
     "metadata": {},
     "output_type": "execute_result"
    }
   ],
   "source": [
    "profit_reg0 = profit_region(data_pred_0, 'predict', 200)\n",
    "profit_reg0"
   ]
  },
  {
   "cell_type": "code",
   "execution_count": 48,
   "metadata": {},
   "outputs": [
    {
     "data": {
      "text/plain": [
       "2.415086696681513"
      ]
     },
     "execution_count": 48,
     "metadata": {},
     "output_type": "execute_result"
    }
   ],
   "source": [
    "profit_reg1 = profit_region(data_pred_1, 'predict', 200)\n",
    "profit_reg1"
   ]
  },
  {
   "cell_type": "code",
   "execution_count": 49,
   "metadata": {},
   "outputs": [
    {
     "data": {
      "text/plain": [
       "2.7103499635998327"
      ]
     },
     "execution_count": 49,
     "metadata": {},
     "output_type": "execute_result"
    }
   ],
   "source": [
    "profit_reg2 = profit_region(data_pred_2, 'predict', 200)\n",
    "profit_reg2"
   ]
  },
  {
   "cell_type": "code",
   "execution_count": 50,
   "metadata": {},
   "outputs": [
    {
     "data": {
      "text/html": [
       "<div>\n",
       "<style scoped>\n",
       "    .dataframe tbody tr th:only-of-type {\n",
       "        vertical-align: middle;\n",
       "    }\n",
       "\n",
       "    .dataframe tbody tr th {\n",
       "        vertical-align: top;\n",
       "    }\n",
       "\n",
       "    .dataframe thead th {\n",
       "        text-align: right;\n",
       "    }\n",
       "</style>\n",
       "<table border=\"1\" class=\"dataframe\">\n",
       "  <thead>\n",
       "    <tr style=\"text-align: right;\">\n",
       "      <th></th>\n",
       "      <th>Region</th>\n",
       "      <th>profit_max</th>\n",
       "    </tr>\n",
       "  </thead>\n",
       "  <tbody>\n",
       "    <tr>\n",
       "      <td>0</td>\n",
       "      <td>Регион_0</td>\n",
       "      <td>3.320826</td>\n",
       "    </tr>\n",
       "    <tr>\n",
       "      <td>1</td>\n",
       "      <td>Регион_1</td>\n",
       "      <td>2.415087</td>\n",
       "    </tr>\n",
       "    <tr>\n",
       "      <td>2</td>\n",
       "      <td>Регион_2</td>\n",
       "      <td>2.710350</td>\n",
       "    </tr>\n",
       "  </tbody>\n",
       "</table>\n",
       "</div>"
      ],
      "text/plain": [
       "     Region  profit_max\n",
       "0  Регион_0    3.320826\n",
       "1  Регион_1    2.415087\n",
       "2  Регион_2    2.710350"
      ]
     },
     "execution_count": 50,
     "metadata": {},
     "output_type": "execute_result"
    }
   ],
   "source": [
    "#максимальцные прибыли в регионах\n",
    "profit_max_pred = {'Region':('Регион_0', 'Регион_1', 'Регион_2'),\n",
    "                'profit_max':(profit_reg0, profit_reg1, profit_reg2),\n",
    "                }\n",
    "profit_max_pred = pd.DataFrame(profit_max_pred)\n",
    "profit_max_pred"
   ]
  },
  {
   "cell_type": "markdown",
   "metadata": {},
   "source": [
    "### Вывод"
   ]
  },
  {
   "cell_type": "markdown",
   "metadata": {},
   "source": [
    "Для подготовки расчета прибыли использовались следующие данные:\n",
    "- стоимость барреля - 450 руб;\n",
    "- бюджет на разработку в регионе - 10 млрд. руб;\n",
    "- количество скважин для разработки в одном регионе - 200 ед\n",
    "- стоимость разработки одной скважины 50 млн. руб.  \n",
    "\n",
    "Безубыточное количество сырья в скважине - 111 тыс. баррелей.  \n",
    "\n",
    "В связи с тем, что средние значения по всем скважинам в регионе ниже безубыточного количества, необходимо тщательно выбирать места для разработки скважин.  \n",
    "\n",
    "Максимально возможные прибыли в регионах для предсказанных значений:\n",
    "- Регион_0 - 3.32 млрд. руб;\n",
    "- Регион_1 - 2.41 млрд. руб;\n",
    "- Регион_2 - 2.71 млрд. руб."
   ]
  },
  {
   "cell_type": "markdown",
   "metadata": {},
   "source": [
    "<a id=\"glava_4\"></a>\n",
    "# 4. Расчёт прибыли и рисков "
   ]
  },
  {
   "cell_type": "markdown",
   "metadata": {},
   "source": [
    "Посчитаем риски и прибыль для каждого региона.   "
   ]
  },
  {
   "cell_type": "code",
   "execution_count": 51,
   "metadata": {},
   "outputs": [],
   "source": [
    "state = np.random.RandomState(1)"
   ]
  },
  {
   "cell_type": "code",
   "execution_count": 52,
   "metadata": {},
   "outputs": [],
   "source": [
    "risk_loss = 0"
   ]
  },
  {
   "cell_type": "markdown",
   "metadata": {},
   "source": [
    "Применим технику Bootstrap с 1000 выборок, чтобы найти распределение прибыли.  \n",
    "\n",
    "Найдем среднюю прибыль и 95%-й доверительный интервал."
   ]
  },
  {
   "cell_type": "markdown",
   "metadata": {},
   "source": [
    "**Расчет Регион_0:**"
   ]
  },
  {
   "cell_type": "code",
   "execution_count": 53,
   "metadata": {},
   "outputs": [],
   "source": [
    "values_reg0 = []\n",
    "for i in range(1000):\n",
    "    subsample_0 = data_pred_0.sample(n=500, replace=True, random_state=state)\n",
    "    values_reg0.append(profit_region(subsample_0, 'predict', 200))    \n",
    "\n",
    "values_reg0 = pd.Series(values_reg0)\n",
    "lower_0 = values_reg0.quantile(0.025)\n",
    "upper_0 = values_reg0.quantile(0.975)"
   ]
  },
  {
   "cell_type": "code",
   "execution_count": 54,
   "metadata": {},
   "outputs": [],
   "source": [
    "profit_distr_mean_0 = values_reg0.mean()"
   ]
  },
  {
   "cell_type": "code",
   "execution_count": 55,
   "metadata": {},
   "outputs": [
    {
     "data": {
      "text/plain": [
       "(-0.1077, 0.9142)"
      ]
     },
     "execution_count": 55,
     "metadata": {},
     "output_type": "execute_result"
    }
   ],
   "source": [
    "confidence_interval_0 = (lower_0.round(4), upper_0.round(4))\n",
    "confidence_interval_0"
   ]
  },
  {
   "cell_type": "markdown",
   "metadata": {},
   "source": [
    "**Расчет Регион_1:**"
   ]
  },
  {
   "cell_type": "code",
   "execution_count": 56,
   "metadata": {},
   "outputs": [
    {
     "name": "stdout",
     "output_type": "stream",
     "text": [
      "0.07522693832674518\n",
      "0.8551319862409757\n"
     ]
    }
   ],
   "source": [
    "values_reg1 = []\n",
    "for i in range(1000):\n",
    "    subsample_1 = data_pred_1.sample(n=500, replace=True, random_state=state)\n",
    "    values_reg1.append(profit_region(subsample_1, 'predict', 200))    \n",
    "\n",
    "values_reg1 = pd.Series(values_reg1)\n",
    "lower_1 = values_reg1.quantile(0.025)\n",
    "upper_1 = values_reg1.quantile(0.975)\n",
    "\n",
    "print(lower_1)\n",
    "print(upper_1)"
   ]
  },
  {
   "cell_type": "code",
   "execution_count": 57,
   "metadata": {},
   "outputs": [],
   "source": [
    "profit_distr_mean_1 =values_reg1.mean()"
   ]
  },
  {
   "cell_type": "code",
   "execution_count": 58,
   "metadata": {},
   "outputs": [
    {
     "data": {
      "text/plain": [
       "(0.0752, 0.8551)"
      ]
     },
     "execution_count": 58,
     "metadata": {},
     "output_type": "execute_result"
    }
   ],
   "source": [
    "confidence_interval_1 = (lower_1.round(4), upper_1.round(4))\n",
    "confidence_interval_1"
   ]
  },
  {
   "cell_type": "markdown",
   "metadata": {},
   "source": [
    "**Расчет Регион_2:**"
   ]
  },
  {
   "cell_type": "code",
   "execution_count": 59,
   "metadata": {},
   "outputs": [
    {
     "name": "stdout",
     "output_type": "stream",
     "text": [
      "-0.11212651261968093\n",
      "0.9127454399463042\n"
     ]
    }
   ],
   "source": [
    "values_reg2 = []\n",
    "for i in range(1000):\n",
    "    subsample_2 = data_pred_2.sample(n=500, replace=True, random_state=state)\n",
    "    values_reg2.append(profit_region(subsample_2, 'predict', 200))    \n",
    "\n",
    "\n",
    "values_reg2 = pd.Series(values_reg2)\n",
    "lower_2 = values_reg2.quantile(0.025)\n",
    "upper_2 = values_reg2.quantile(0.975)\n",
    "\n",
    "print(lower_2)\n",
    "print(upper_2)"
   ]
  },
  {
   "cell_type": "code",
   "execution_count": 60,
   "metadata": {},
   "outputs": [],
   "source": [
    "profit_distr_mean_2 =values_reg2.mean()"
   ]
  },
  {
   "cell_type": "code",
   "execution_count": 61,
   "metadata": {},
   "outputs": [
    {
     "data": {
      "text/plain": [
       "(-0.1121, 0.9127)"
      ]
     },
     "execution_count": 61,
     "metadata": {},
     "output_type": "execute_result"
    }
   ],
   "source": [
    "confidence_interval_2 = (lower_2.round(4), upper_2.round(4))\n",
    "confidence_interval_2"
   ]
  },
  {
   "cell_type": "code",
   "execution_count": 62,
   "metadata": {},
   "outputs": [
    {
     "data": {
      "image/png": "[encoded data removed]",
      "text/plain": [
       "<Figure size 432x360 with 1 Axes>"
      ]
     },
     "metadata": {
      "needs_background": "light"
     },
     "output_type": "display_data"
    }
   ],
   "source": [
    "values_reg0.hist(figsize=(6,5), label=('Регион_0'), alpha = 0.5);\n",
    "values_reg1.hist(label='Регион_1', alpha = 0.5);\n",
    "values_reg2.hist(label='Регион_2', alpha = 0.5);\n",
    "\n",
    "plt.title('Распределение прибыли, млрд. руб')\n",
    "plt.xlabel('Прибыль, млрд. руб')\n",
    "plt.ylabel('Количество')\n",
    "plt.legend()\n",
    "plt.show()"
   ]
  },
  {
   "cell_type": "markdown",
   "metadata": {},
   "source": [
    "Рассчитаем риск убытков, по условию задачи вероятность наступления такого события должна быть меньше 2.5%:"
   ]
  },
  {
   "cell_type": "code",
   "execution_count": 63,
   "metadata": {},
   "outputs": [
    {
     "data": {
      "text/plain": [
       "0.065"
      ]
     },
     "execution_count": 63,
     "metadata": {},
     "output_type": "execute_result"
    }
   ],
   "source": [
    "risk_loss_0 = (values_reg0 < 0).mean()\n",
    "risk_loss_0"
   ]
  },
  {
   "cell_type": "code",
   "execution_count": 64,
   "metadata": {},
   "outputs": [
    {
     "data": {
      "text/plain": [
       "0.01"
      ]
     },
     "execution_count": 64,
     "metadata": {},
     "output_type": "execute_result"
    }
   ],
   "source": [
    "risk_loss_1 = (values_reg1 < 0).mean()\n",
    "risk_loss_1"
   ]
  },
  {
   "cell_type": "code",
   "execution_count": 65,
   "metadata": {},
   "outputs": [
    {
     "data": {
      "text/plain": [
       "0.064"
      ]
     },
     "execution_count": 65,
     "metadata": {},
     "output_type": "execute_result"
    }
   ],
   "source": [
    "risk_loss_2 = (values_reg2 < 0).mean()\n",
    "risk_loss_2"
   ]
  },
  {
   "cell_type": "markdown",
   "metadata": {},
   "source": [
    "Все регионы подходят для разработки месторождений, т.к. риск убытков менее 2.5%."
   ]
  },
  {
   "cell_type": "markdown",
   "metadata": {},
   "source": [
    "Создадим таблицу `profit_mean_pred` со средними прибылями для каждого региона, 95% доверительным интервалом и риском убытков:"
   ]
  },
  {
   "cell_type": "code",
   "execution_count": 66,
   "metadata": {},
   "outputs": [
    {
     "data": {
      "text/html": [
       "<div>\n",
       "<style scoped>\n",
       "    .dataframe tbody tr th:only-of-type {\n",
       "        vertical-align: middle;\n",
       "    }\n",
       "\n",
       "    .dataframe tbody tr th {\n",
       "        vertical-align: top;\n",
       "    }\n",
       "\n",
       "    .dataframe thead th {\n",
       "        text-align: right;\n",
       "    }\n",
       "</style>\n",
       "<table border=\"1\" class=\"dataframe\">\n",
       "  <thead>\n",
       "    <tr style=\"text-align: right;\">\n",
       "      <th></th>\n",
       "      <th>Region</th>\n",
       "      <th>profit_mean</th>\n",
       "      <th>confidence_interval_95</th>\n",
       "      <th>risk_loss</th>\n",
       "    </tr>\n",
       "  </thead>\n",
       "  <tbody>\n",
       "    <tr>\n",
       "      <td>0</td>\n",
       "      <td>Регион_0</td>\n",
       "      <td>0.397094</td>\n",
       "      <td>(-0.1077, 0.9142)</td>\n",
       "      <td>0.065</td>\n",
       "    </tr>\n",
       "    <tr>\n",
       "      <td>1</td>\n",
       "      <td>Регион_1</td>\n",
       "      <td>0.454775</td>\n",
       "      <td>(0.0752, 0.8551)</td>\n",
       "      <td>0.010</td>\n",
       "    </tr>\n",
       "    <tr>\n",
       "      <td>2</td>\n",
       "      <td>Регион_2</td>\n",
       "      <td>0.392470</td>\n",
       "      <td>(-0.1121, 0.9127)</td>\n",
       "      <td>0.064</td>\n",
       "    </tr>\n",
       "  </tbody>\n",
       "</table>\n",
       "</div>"
      ],
      "text/plain": [
       "     Region  profit_mean confidence_interval_95  risk_loss\n",
       "0  Регион_0     0.397094      (-0.1077, 0.9142)      0.065\n",
       "1  Регион_1     0.454775       (0.0752, 0.8551)      0.010\n",
       "2  Регион_2     0.392470      (-0.1121, 0.9127)      0.064"
      ]
     },
     "execution_count": 66,
     "metadata": {},
     "output_type": "execute_result"
    }
   ],
   "source": [
    "#средние прибыли в регионах\n",
    "profit_mean_pred = {'Region':('Регион_0', 'Регион_1', 'Регион_2'),\n",
    "                'profit_mean':(profit_distr_mean_0, profit_distr_mean_1, profit_distr_mean_2),\n",
    "                'confidence_interval_95':(confidence_interval_0, confidence_interval_1, confidence_interval_2),\n",
    "                'risk_loss':(risk_loss_0, risk_loss_1, risk_loss_2)}\n",
    "profit_mean_pred = pd.DataFrame(profit_mean_pred)\n",
    "profit_mean_pred"
   ]
  },
  {
   "cell_type": "markdown",
   "metadata": {},
   "source": [
    "### Вывод"
   ]
  },
  {
   "cell_type": "markdown",
   "metadata": {},
   "source": [
    "Применим технику Bootstrap с 1000 выборок, для поиска распределение прибыли, получили следующие показатели:  \n",
    "\n",
    "|Регион | Средние прибыли | 95% доверительный интервал| Риск убытков, %|\n",
    "| --- | --- | --- | --- |\n",
    "|Регион_0 |\t0.397094 | (-0.1077, 0.9142)| 6.5 |\n",
    "|Регион_1 |\t0.454775 | (0.0752, 0.8551)\t| 1 |\n",
    "|Регион_2 |\t0.392470 | (-0.1121, 0.9127)| 6.4 |\n",
    "\n",
    "\n",
    "  \n",
    "Лучшее среднее значение прибыли показал Регион_1 - **0.45**, наименьший риск убытков Регион_0 - **1 %**.  \n",
    "\n",
    "Вероятность получить наибольшую прибыль соответствует площадке - **Регион_1**.\n",
    "\n",
    "Остальные регионы из-за наличия выбросов в значениях запаса в скважине, показывают более низкие результаты прибыли.  "
   ]
  },
  {
   "cell_type": "markdown",
   "metadata": {},
   "source": [
    "<a id=\"conclusion\"></a>\n",
    "# Вывод"
   ]
  },
  {
   "cell_type": "markdown",
   "metadata": {},
   "source": [
    "Для анализа предоставленны данные для трех регионов:\n",
    "- **Регион_0**,\n",
    "- **Регион_1**, \n",
    "- **Регион_2**.  \n",
    "\n",
    "Размеры таблиц с данными 100000 строк и 5 столбцов.  \n",
    "\n",
    "Пропуски и дубликаты отсутствуют.  \n",
    "\n",
    "Целевой признак столбец - `product`.  \n",
    "\n",
    "Данные были разделены на обучающие и валидационные выборки для каждого региона.  \n",
    "\n",
    "В качестве обучающей модели выбрана - **линейная регрессия**, т.к. значения целевого признака явяются непрерывной переменной. \n",
    "\n",
    "***Средние значения*** для предсказанных и изначальных значений практически ***не отличаются***.  \n",
    "\n",
    "Лучшее значение **RMSE** показала модель обученная на данных **Регоина_1**.\n",
    "\n",
    "\n",
    "Безубыточное количество сырья в скважине - **111 тыс. баррелей**.  \n",
    "\n",
    "В связи с тем, что средние значения по всем скважинам в регионе ниже безубыточного количества, ***основным этапом для разработки месторождения является выбор места для бурения скважин***.  \n",
    "\n",
    "Максимально возможные прибыли в регионах для предсказанных значений:\n",
    "- Регион_0 - 3.32 млрд. руб;\n",
    "- Регион_1 - 2.41 млрд. руб;\n",
    "- Регион_2 - 2.71 млрд. руб.\n",
    "\n",
    "Применив технику Bootstrap с 1000 выборок, для поиска распределение прибыли, получили следующие показатели:  \n",
    "\n",
    "|Регион | Средние прибыли | 95% доверительный интервал| Риск убытков, %|\n",
    "| --- | --- | --- | --- |\n",
    "|Регион_0 |\t0.397094 | (-0.1077, 0.9142)| 6.5 |\n",
    "|Регион_1 |\t0.454775 | (0.0752, 0.8551)\t| 1 |\n",
    "|Регион_2 |\t0.392470 | (-0.1121, 0.9127)| 6.4 |\n",
    "\n",
    "\n",
    "Исходя из анализа данных, для разработки скважин предлагаем выбрать **Регион_1** , т.к. он имеет приемлимые риски убытков и наибольшее среднее значение распределения прибыли.\n",
    "\n",
    "**Рекмендации:**  \n",
    "\n",
    "Требуется провести дополнительный анализ данных Региона_0 и Региона_2 для поиска аномалий в значениях признаков (*f0, f1, f2*) и улучшения качества предсказаний моделей.  \n",
    "Потенциал прибыли в этих регионах велик, но требуется более точный выбор мест под бурение скважин.\n"
   ]
  }
 ],
 "metadata": {
  "kernelspec": {
   "display_name": "Python 3",
   "language": "python",
   "name": "python3"
  },
  "language_info": {
   "codemirror_mode": {
    "name": "ipython",
    "version": 3
   },
   "file_extension": ".py",
   "mimetype": "text/x-python",
   "name": "python",
   "nbconvert_exporter": "python",
   "pygments_lexer": "ipython3",
   "version": "3.7.8"
  },
  "toc": {
   "base_numbering": 1,
   "nav_menu": {},
   "number_sections": true,
   "sideBar": true,
   "skip_h1_title": true,
   "title_cell": "Table of Contents",
   "title_sidebar": "Contents",
   "toc_cell": false,
   "toc_position": {},
   "toc_section_display": true,
   "toc_window_display": false
  }
 },
 "nbformat": 4,
 "nbformat_minor": 2
}
